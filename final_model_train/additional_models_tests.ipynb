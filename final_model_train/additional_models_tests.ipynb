{
 "cells": [
  {
   "cell_type": "code",
   "execution_count": 32,
   "id": "875cd796-8e23-46a6-8a72-372c696b3d39",
   "metadata": {},
   "outputs": [],
   "source": [
    "import lightgbm as lgb\n",
    "import pandas as pd\n",
    "import numpy as np\n",
    "import matplotlib.pyplot as plt\n",
    "\n",
    "import seaborn as sns\n",
    "from sklearn.ensemble import RandomForestClassifier\n",
    "from sklearn.svm import SVC\n",
    "from sklearn.preprocessing import StandardScaler\n",
    "from imblearn.over_sampling import RandomOverSampler\n",
    "from sklearn.pipeline import make_pipeline\n",
    "from sklearn.neighbors import KNeighborsClassifier\n",
    "from sklearn.model_selection import train_test_split, GridSearchCV, RandomizedSearchCV, KFold, StratifiedKFold, ParameterGrid\n",
    "from sklearn.metrics import (make_scorer, mean_absolute_error, mean_squared_error, \n",
    "                             balanced_accuracy_score, classification_report, confusion_matrix) \n"
   ]
  },
  {
   "cell_type": "code",
   "execution_count": 2,
   "id": "b69fcd96-b004-47a4-a62b-f557ef55fa53",
   "metadata": {},
   "outputs": [],
   "source": [
    "import warnings\n",
    "warnings.filterwarnings(\"ignore\")"
   ]
  },
  {
   "cell_type": "code",
   "execution_count": 3,
   "id": "83ddf870-604c-4810-8c2e-7e6b29e5f5b0",
   "metadata": {},
   "outputs": [],
   "source": [
    "def get_report(y_true, y_pred):\n",
    "    print(\"Test accuracy: \", balanced_accuracy_score(y_true, y_pred))\n",
    "    print(\"Report: \")\n",
    "    print(classification_report(y_true, y_pred))\n",
    "    print(\"Confusion matrix:\")\n",
    "    print(confusion_matrix(y_true, y_pred))"
   ]
  },
  {
   "cell_type": "code",
   "execution_count": 4,
   "id": "f2799750-3d34-4740-b316-b0b8059533db",
   "metadata": {},
   "outputs": [],
   "source": [
    "RS = 42  # random state\n",
    "\n",
    "ros = RandomOverSampler(random_state=RS)"
   ]
  },
  {
   "cell_type": "code",
   "execution_count": 5,
   "id": "48a01b63-9c17-4eea-9dce-928efe67ffa0",
   "metadata": {},
   "outputs": [],
   "source": [
    "train_data = pd.read_csv(\"train_data.csv\", index_col=0)\n",
    "labels = pd.read_csv('../data/labels.csv', index_col=0)[['citation_class']]"
   ]
  },
  {
   "cell_type": "code",
   "execution_count": 6,
   "id": "10f9e1d2-832c-4b40-810f-1a51c2ba80bd",
   "metadata": {},
   "outputs": [],
   "source": [
    "df = labels.join(train_data)"
   ]
  },
  {
   "cell_type": "code",
   "execution_count": 7,
   "id": "8d00fff1-45eb-42c6-a556-05ef998e88b2",
   "metadata": {},
   "outputs": [
    {
     "data": {
      "text/html": [
       "<div>\n",
       "<style scoped>\n",
       "    .dataframe tbody tr th:only-of-type {\n",
       "        vertical-align: middle;\n",
       "    }\n",
       "\n",
       "    .dataframe tbody tr th {\n",
       "        vertical-align: top;\n",
       "    }\n",
       "\n",
       "    .dataframe thead th {\n",
       "        text-align: right;\n",
       "    }\n",
       "</style>\n",
       "<table border=\"1\" class=\"dataframe\">\n",
       "  <thead>\n",
       "    <tr style=\"text-align: right;\">\n",
       "      <th></th>\n",
       "      <th>citation_class</th>\n",
       "      <th>refs_count</th>\n",
       "      <th>telegram_len</th>\n",
       "      <th>month</th>\n",
       "      <th>month_citation_rate_to_global_ratio</th>\n",
       "      <th>year_citation_rate_to_global_ratio</th>\n",
       "      <th>author_all_time_citation_rate_to_global_ratio</th>\n",
       "      <th>author_year_citation_rate_to_global_ratio</th>\n",
       "      <th>author_month_citation_rate_to_global_ratio</th>\n",
       "      <th>author_activity_frac_year</th>\n",
       "      <th>...</th>\n",
       "      <th>ner_246</th>\n",
       "      <th>ner_247</th>\n",
       "      <th>ner_248</th>\n",
       "      <th>ner_249</th>\n",
       "      <th>ner_250</th>\n",
       "      <th>ner_251</th>\n",
       "      <th>ner_252</th>\n",
       "      <th>ner_253</th>\n",
       "      <th>ner_254</th>\n",
       "      <th>ner_255</th>\n",
       "    </tr>\n",
       "    <tr>\n",
       "      <th>telegram_index</th>\n",
       "      <th></th>\n",
       "      <th></th>\n",
       "      <th></th>\n",
       "      <th></th>\n",
       "      <th></th>\n",
       "      <th></th>\n",
       "      <th></th>\n",
       "      <th></th>\n",
       "      <th></th>\n",
       "      <th></th>\n",
       "      <th></th>\n",
       "      <th></th>\n",
       "      <th></th>\n",
       "      <th></th>\n",
       "      <th></th>\n",
       "      <th></th>\n",
       "      <th></th>\n",
       "      <th></th>\n",
       "      <th></th>\n",
       "      <th></th>\n",
       "      <th></th>\n",
       "    </tr>\n",
       "  </thead>\n",
       "  <tbody>\n",
       "    <tr>\n",
       "      <th>3_atel</th>\n",
       "      <td>0</td>\n",
       "      <td>0</td>\n",
       "      <td>1010</td>\n",
       "      <td>12</td>\n",
       "      <td>0.0</td>\n",
       "      <td>0.0</td>\n",
       "      <td>0.0</td>\n",
       "      <td>0.0</td>\n",
       "      <td>0.0</td>\n",
       "      <td>0.0</td>\n",
       "      <td>...</td>\n",
       "      <td>-1.665767</td>\n",
       "      <td>2.601700</td>\n",
       "      <td>-1.637177</td>\n",
       "      <td>-1.036830</td>\n",
       "      <td>0.364245</td>\n",
       "      <td>1.445063</td>\n",
       "      <td>0.833967</td>\n",
       "      <td>2.841267</td>\n",
       "      <td>-2.536283</td>\n",
       "      <td>0.211777</td>\n",
       "    </tr>\n",
       "    <tr>\n",
       "      <th>2_atel</th>\n",
       "      <td>0</td>\n",
       "      <td>0</td>\n",
       "      <td>907</td>\n",
       "      <td>12</td>\n",
       "      <td>0.0</td>\n",
       "      <td>0.0</td>\n",
       "      <td>0.0</td>\n",
       "      <td>0.0</td>\n",
       "      <td>0.0</td>\n",
       "      <td>1.0</td>\n",
       "      <td>...</td>\n",
       "      <td>-4.171000</td>\n",
       "      <td>0.963690</td>\n",
       "      <td>-0.135300</td>\n",
       "      <td>-1.626400</td>\n",
       "      <td>1.131600</td>\n",
       "      <td>0.922140</td>\n",
       "      <td>-0.832150</td>\n",
       "      <td>0.953610</td>\n",
       "      <td>-2.339500</td>\n",
       "      <td>4.451700</td>\n",
       "    </tr>\n",
       "    <tr>\n",
       "      <th>4_atel</th>\n",
       "      <td>0</td>\n",
       "      <td>0</td>\n",
       "      <td>3607</td>\n",
       "      <td>1</td>\n",
       "      <td>0.0</td>\n",
       "      <td>0.0</td>\n",
       "      <td>0.0</td>\n",
       "      <td>0.0</td>\n",
       "      <td>0.0</td>\n",
       "      <td>1.0</td>\n",
       "      <td>...</td>\n",
       "      <td>-4.171000</td>\n",
       "      <td>0.963690</td>\n",
       "      <td>-0.135300</td>\n",
       "      <td>-1.626400</td>\n",
       "      <td>1.131600</td>\n",
       "      <td>0.922140</td>\n",
       "      <td>-0.832150</td>\n",
       "      <td>0.953610</td>\n",
       "      <td>-2.339500</td>\n",
       "      <td>4.451700</td>\n",
       "    </tr>\n",
       "    <tr>\n",
       "      <th>5_atel</th>\n",
       "      <td>0</td>\n",
       "      <td>0</td>\n",
       "      <td>1509</td>\n",
       "      <td>1</td>\n",
       "      <td>0.0</td>\n",
       "      <td>0.0</td>\n",
       "      <td>0.0</td>\n",
       "      <td>0.0</td>\n",
       "      <td>0.0</td>\n",
       "      <td>1.0</td>\n",
       "      <td>...</td>\n",
       "      <td>-3.614550</td>\n",
       "      <td>0.216543</td>\n",
       "      <td>-0.777000</td>\n",
       "      <td>-1.012407</td>\n",
       "      <td>0.580325</td>\n",
       "      <td>0.903885</td>\n",
       "      <td>-0.527262</td>\n",
       "      <td>0.909035</td>\n",
       "      <td>-2.082050</td>\n",
       "      <td>2.950850</td>\n",
       "    </tr>\n",
       "    <tr>\n",
       "      <th>6_atel</th>\n",
       "      <td>0</td>\n",
       "      <td>0</td>\n",
       "      <td>427</td>\n",
       "      <td>1</td>\n",
       "      <td>0.0</td>\n",
       "      <td>0.0</td>\n",
       "      <td>0.0</td>\n",
       "      <td>0.0</td>\n",
       "      <td>0.0</td>\n",
       "      <td>1.0</td>\n",
       "      <td>...</td>\n",
       "      <td>-3.683900</td>\n",
       "      <td>0.738540</td>\n",
       "      <td>-1.723400</td>\n",
       "      <td>-0.424600</td>\n",
       "      <td>-0.223810</td>\n",
       "      <td>1.120200</td>\n",
       "      <td>-0.117950</td>\n",
       "      <td>2.520900</td>\n",
       "      <td>-2.457300</td>\n",
       "      <td>-0.342590</td>\n",
       "    </tr>\n",
       "  </tbody>\n",
       "</table>\n",
       "<p>5 rows × 659 columns</p>\n",
       "</div>"
      ],
      "text/plain": [
       "                citation_class  refs_count  telegram_len  month  \\\n",
       "telegram_index                                                    \n",
       "3_atel                       0           0          1010     12   \n",
       "2_atel                       0           0           907     12   \n",
       "4_atel                       0           0          3607      1   \n",
       "5_atel                       0           0          1509      1   \n",
       "6_atel                       0           0           427      1   \n",
       "\n",
       "                month_citation_rate_to_global_ratio  \\\n",
       "telegram_index                                        \n",
       "3_atel                                          0.0   \n",
       "2_atel                                          0.0   \n",
       "4_atel                                          0.0   \n",
       "5_atel                                          0.0   \n",
       "6_atel                                          0.0   \n",
       "\n",
       "                year_citation_rate_to_global_ratio  \\\n",
       "telegram_index                                       \n",
       "3_atel                                         0.0   \n",
       "2_atel                                         0.0   \n",
       "4_atel                                         0.0   \n",
       "5_atel                                         0.0   \n",
       "6_atel                                         0.0   \n",
       "\n",
       "                author_all_time_citation_rate_to_global_ratio  \\\n",
       "telegram_index                                                  \n",
       "3_atel                                                    0.0   \n",
       "2_atel                                                    0.0   \n",
       "4_atel                                                    0.0   \n",
       "5_atel                                                    0.0   \n",
       "6_atel                                                    0.0   \n",
       "\n",
       "                author_year_citation_rate_to_global_ratio  \\\n",
       "telegram_index                                              \n",
       "3_atel                                                0.0   \n",
       "2_atel                                                0.0   \n",
       "4_atel                                                0.0   \n",
       "5_atel                                                0.0   \n",
       "6_atel                                                0.0   \n",
       "\n",
       "                author_month_citation_rate_to_global_ratio  \\\n",
       "telegram_index                                               \n",
       "3_atel                                                 0.0   \n",
       "2_atel                                                 0.0   \n",
       "4_atel                                                 0.0   \n",
       "5_atel                                                 0.0   \n",
       "6_atel                                                 0.0   \n",
       "\n",
       "                author_activity_frac_year  ...   ner_246   ner_247   ner_248  \\\n",
       "telegram_index                             ...                                 \n",
       "3_atel                                0.0  ... -1.665767  2.601700 -1.637177   \n",
       "2_atel                                1.0  ... -4.171000  0.963690 -0.135300   \n",
       "4_atel                                1.0  ... -4.171000  0.963690 -0.135300   \n",
       "5_atel                                1.0  ... -3.614550  0.216543 -0.777000   \n",
       "6_atel                                1.0  ... -3.683900  0.738540 -1.723400   \n",
       "\n",
       "                 ner_249   ner_250   ner_251   ner_252   ner_253   ner_254  \\\n",
       "telegram_index                                                               \n",
       "3_atel         -1.036830  0.364245  1.445063  0.833967  2.841267 -2.536283   \n",
       "2_atel         -1.626400  1.131600  0.922140 -0.832150  0.953610 -2.339500   \n",
       "4_atel         -1.626400  1.131600  0.922140 -0.832150  0.953610 -2.339500   \n",
       "5_atel         -1.012407  0.580325  0.903885 -0.527262  0.909035 -2.082050   \n",
       "6_atel         -0.424600 -0.223810  1.120200 -0.117950  2.520900 -2.457300   \n",
       "\n",
       "                 ner_255  \n",
       "telegram_index            \n",
       "3_atel          0.211777  \n",
       "2_atel          4.451700  \n",
       "4_atel          4.451700  \n",
       "5_atel          2.950850  \n",
       "6_atel         -0.342590  \n",
       "\n",
       "[5 rows x 659 columns]"
      ]
     },
     "execution_count": 7,
     "metadata": {},
     "output_type": "execute_result"
    }
   ],
   "source": [
    "df.head()"
   ]
  },
  {
   "cell_type": "code",
   "execution_count": 8,
   "id": "b1d05b89-c4d9-418a-8e12-77ec920256ea",
   "metadata": {},
   "outputs": [],
   "source": [
    "df = df.iloc[1000:-100]  # throw away some of the first and some of the last activities"
   ]
  },
  {
   "cell_type": "code",
   "execution_count": 9,
   "id": "d5db0570-dcc4-4993-9180-3bd902f3c454",
   "metadata": {},
   "outputs": [],
   "source": [
    "X, y = df.iloc[:, 1:].values, df.citation_class.values.reshape(-1, 1)"
   ]
  },
  {
   "cell_type": "markdown",
   "id": "cdc7a151-7a07-45bf-8a85-b44314d86eb3",
   "metadata": {},
   "source": [
    "### KNN"
   ]
  },
  {
   "cell_type": "code",
   "execution_count": 12,
   "id": "34542ff7-b99d-45cd-9a65-de1dfe8b6c02",
   "metadata": {},
   "outputs": [],
   "source": [
    "X_train, X_test, y_train, y_test = train_test_split(X, y, test_size=0.15, stratify=y, random_state=RS, shuffle=True)\n",
    "X_train, y_train = ros.fit_resample(X_train, y_train)"
   ]
  },
  {
   "cell_type": "code",
   "execution_count": 14,
   "id": "a63dcded-62ec-407a-aef0-38b74f3371d8",
   "metadata": {},
   "outputs": [
    {
     "data": {
      "text/html": [
       "<style>#sk-container-id-1 {color: black;background-color: white;}#sk-container-id-1 pre{padding: 0;}#sk-container-id-1 div.sk-toggleable {background-color: white;}#sk-container-id-1 label.sk-toggleable__label {cursor: pointer;display: block;width: 100%;margin-bottom: 0;padding: 0.3em;box-sizing: border-box;text-align: center;}#sk-container-id-1 label.sk-toggleable__label-arrow:before {content: \"▸\";float: left;margin-right: 0.25em;color: #696969;}#sk-container-id-1 label.sk-toggleable__label-arrow:hover:before {color: black;}#sk-container-id-1 div.sk-estimator:hover label.sk-toggleable__label-arrow:before {color: black;}#sk-container-id-1 div.sk-toggleable__content {max-height: 0;max-width: 0;overflow: hidden;text-align: left;background-color: #f0f8ff;}#sk-container-id-1 div.sk-toggleable__content pre {margin: 0.2em;color: black;border-radius: 0.25em;background-color: #f0f8ff;}#sk-container-id-1 input.sk-toggleable__control:checked~div.sk-toggleable__content {max-height: 200px;max-width: 100%;overflow: auto;}#sk-container-id-1 input.sk-toggleable__control:checked~label.sk-toggleable__label-arrow:before {content: \"▾\";}#sk-container-id-1 div.sk-estimator input.sk-toggleable__control:checked~label.sk-toggleable__label {background-color: #d4ebff;}#sk-container-id-1 div.sk-label input.sk-toggleable__control:checked~label.sk-toggleable__label {background-color: #d4ebff;}#sk-container-id-1 input.sk-hidden--visually {border: 0;clip: rect(1px 1px 1px 1px);clip: rect(1px, 1px, 1px, 1px);height: 1px;margin: -1px;overflow: hidden;padding: 0;position: absolute;width: 1px;}#sk-container-id-1 div.sk-estimator {font-family: monospace;background-color: #f0f8ff;border: 1px dotted black;border-radius: 0.25em;box-sizing: border-box;margin-bottom: 0.5em;}#sk-container-id-1 div.sk-estimator:hover {background-color: #d4ebff;}#sk-container-id-1 div.sk-parallel-item::after {content: \"\";width: 100%;border-bottom: 1px solid gray;flex-grow: 1;}#sk-container-id-1 div.sk-label:hover label.sk-toggleable__label {background-color: #d4ebff;}#sk-container-id-1 div.sk-serial::before {content: \"\";position: absolute;border-left: 1px solid gray;box-sizing: border-box;top: 0;bottom: 0;left: 50%;z-index: 0;}#sk-container-id-1 div.sk-serial {display: flex;flex-direction: column;align-items: center;background-color: white;padding-right: 0.2em;padding-left: 0.2em;position: relative;}#sk-container-id-1 div.sk-item {position: relative;z-index: 1;}#sk-container-id-1 div.sk-parallel {display: flex;align-items: stretch;justify-content: center;background-color: white;position: relative;}#sk-container-id-1 div.sk-item::before, #sk-container-id-1 div.sk-parallel-item::before {content: \"\";position: absolute;border-left: 1px solid gray;box-sizing: border-box;top: 0;bottom: 0;left: 50%;z-index: -1;}#sk-container-id-1 div.sk-parallel-item {display: flex;flex-direction: column;z-index: 1;position: relative;background-color: white;}#sk-container-id-1 div.sk-parallel-item:first-child::after {align-self: flex-end;width: 50%;}#sk-container-id-1 div.sk-parallel-item:last-child::after {align-self: flex-start;width: 50%;}#sk-container-id-1 div.sk-parallel-item:only-child::after {width: 0;}#sk-container-id-1 div.sk-dashed-wrapped {border: 1px dashed gray;margin: 0 0.4em 0.5em 0.4em;box-sizing: border-box;padding-bottom: 0.4em;background-color: white;}#sk-container-id-1 div.sk-label label {font-family: monospace;font-weight: bold;display: inline-block;line-height: 1.2em;}#sk-container-id-1 div.sk-label-container {text-align: center;}#sk-container-id-1 div.sk-container {/* jupyter's `normalize.less` sets `[hidden] { display: none; }` but bootstrap.min.css set `[hidden] { display: none !important; }` so we also need the `!important` here to be able to override the default hidden behavior on the sphinx rendered scikit-learn.org. See: https://github.com/scikit-learn/scikit-learn/issues/21755 */display: inline-block !important;position: relative;}#sk-container-id-1 div.sk-text-repr-fallback {display: none;}</style><div id=\"sk-container-id-1\" class=\"sk-top-container\"><div class=\"sk-text-repr-fallback\"><pre>KNeighborsClassifier(n_neighbors=3)</pre><b>In a Jupyter environment, please rerun this cell to show the HTML representation or trust the notebook. <br />On GitHub, the HTML representation is unable to render, please try loading this page with nbviewer.org.</b></div><div class=\"sk-container\" hidden><div class=\"sk-item\"><div class=\"sk-estimator sk-toggleable\"><input class=\"sk-toggleable__control sk-hidden--visually\" id=\"sk-estimator-id-1\" type=\"checkbox\" checked><label for=\"sk-estimator-id-1\" class=\"sk-toggleable__label sk-toggleable__label-arrow\">KNeighborsClassifier</label><div class=\"sk-toggleable__content\"><pre>KNeighborsClassifier(n_neighbors=3)</pre></div></div></div></div></div>"
      ],
      "text/plain": [
       "KNeighborsClassifier(n_neighbors=3)"
      ]
     },
     "execution_count": 14,
     "metadata": {},
     "output_type": "execute_result"
    }
   ],
   "source": [
    "knn = KNeighborsClassifier(n_neighbors=3)\n",
    "knn.fit(X_train, y_train)"
   ]
  },
  {
   "cell_type": "code",
   "execution_count": 16,
   "id": "8dcdfece-27d4-443d-93da-e7dfb6d8d83d",
   "metadata": {},
   "outputs": [
    {
     "name": "stdout",
     "output_type": "stream",
     "text": [
      "Train accuracy: 0.9469644865118615\n",
      "Test accuracy:  0.4780361870226169\n",
      "Report: \n",
      "              precision    recall  f1-score   support\n",
      "\n",
      "           0       0.85      0.74      0.79      5388\n",
      "           1       0.28      0.41      0.33      1317\n",
      "           2       0.23      0.29      0.25       372\n",
      "\n",
      "    accuracy                           0.65      7077\n",
      "   macro avg       0.45      0.48      0.46      7077\n",
      "weighted avg       0.71      0.65      0.68      7077\n",
      "\n",
      "Confusion matrix:\n",
      "[[3968 1220  200]\n",
      " [ 615  540  162]\n",
      " [ 105  160  107]]\n"
     ]
    }
   ],
   "source": [
    "y_pred = knn.predict(X_test)\n",
    "print(f\"Train accuracy: {balanced_accuracy_score(y_train, knn.predict(X_train))}\")\n",
    "get_report(y_test, y_pred)  "
   ]
  },
  {
   "cell_type": "markdown",
   "id": "22857ed5-e80c-4155-9ff2-d3c952b1f554",
   "metadata": {},
   "source": [
    "### Tune"
   ]
  },
  {
   "cell_type": "code",
   "execution_count": 17,
   "id": "bd331383-5773-494c-a7bb-d845f2809de3",
   "metadata": {},
   "outputs": [],
   "source": [
    "NFOLDS = 4\n",
    "kf = StratifiedKFold(n_splits=NFOLDS, shuffle=True, random_state=RS)\n",
    "\n",
    "scorer = make_scorer(balanced_accuracy_score, greater_is_better=True) \n",
    "\n",
    "model = KNeighborsClassifier()\n",
    "\n",
    "parameters ={\n",
    "    'n_neighbors': [2, 3, 5, 7, 10, 13],\n",
    "}\n",
    "RSCV = RandomizedSearchCV(model, parameters, scoring=scorer, cv=kf, n_iter=333, verbose=3)"
   ]
  },
  {
   "cell_type": "code",
   "execution_count": 18,
   "id": "cef486e4-e36a-4764-bd09-888acb8ecf7c",
   "metadata": {
    "collapsed": true,
    "jupyter": {
     "outputs_hidden": true
    },
    "tags": []
   },
   "outputs": [
    {
     "name": "stdout",
     "output_type": "stream",
     "text": [
      "Fitting 4 folds for each of 6 candidates, totalling 24 fits\n",
      "[CV 1/4] END .....................n_neighbors=2;, score=0.902 total time=  15.9s\n",
      "[CV 2/4] END .....................n_neighbors=2;, score=0.902 total time=  13.9s\n",
      "[CV 3/4] END .....................n_neighbors=2;, score=0.906 total time=  16.8s\n",
      "[CV 4/4] END .....................n_neighbors=2;, score=0.900 total time=  15.5s\n",
      "[CV 1/4] END .....................n_neighbors=3;, score=0.864 total time=  17.0s\n",
      "[CV 2/4] END .....................n_neighbors=3;, score=0.864 total time=  16.2s\n",
      "[CV 3/4] END .....................n_neighbors=3;, score=0.865 total time=  17.8s\n",
      "[CV 4/4] END .....................n_neighbors=3;, score=0.859 total time=  18.0s\n",
      "[CV 1/4] END .....................n_neighbors=5;, score=0.819 total time=  18.2s\n",
      "[CV 2/4] END .....................n_neighbors=5;, score=0.818 total time=  16.1s\n",
      "[CV 3/4] END .....................n_neighbors=5;, score=0.819 total time=  15.9s\n",
      "[CV 4/4] END .....................n_neighbors=5;, score=0.813 total time=  17.7s\n",
      "[CV 1/4] END .....................n_neighbors=7;, score=0.793 total time=  15.3s\n",
      "[CV 2/4] END .....................n_neighbors=7;, score=0.783 total time=  15.8s\n",
      "[CV 3/4] END .....................n_neighbors=7;, score=0.789 total time=  15.5s\n",
      "[CV 4/4] END .....................n_neighbors=7;, score=0.788 total time=  16.2s\n",
      "[CV 1/4] END ....................n_neighbors=10;, score=0.760 total time=  15.8s\n",
      "[CV 2/4] END ....................n_neighbors=10;, score=0.754 total time=  17.8s\n",
      "[CV 3/4] END ....................n_neighbors=10;, score=0.761 total time=  15.9s\n",
      "[CV 4/4] END ....................n_neighbors=10;, score=0.757 total time=  17.2s\n",
      "[CV 1/4] END ....................n_neighbors=13;, score=0.730 total time=  15.4s\n",
      "[CV 2/4] END ....................n_neighbors=13;, score=0.724 total time=  15.7s\n",
      "[CV 3/4] END ....................n_neighbors=13;, score=0.728 total time=  15.0s\n",
      "[CV 4/4] END ....................n_neighbors=13;, score=0.726 total time=  15.2s\n"
     ]
    },
    {
     "data": {
      "text/html": [
       "<style>#sk-container-id-2 {color: black;background-color: white;}#sk-container-id-2 pre{padding: 0;}#sk-container-id-2 div.sk-toggleable {background-color: white;}#sk-container-id-2 label.sk-toggleable__label {cursor: pointer;display: block;width: 100%;margin-bottom: 0;padding: 0.3em;box-sizing: border-box;text-align: center;}#sk-container-id-2 label.sk-toggleable__label-arrow:before {content: \"▸\";float: left;margin-right: 0.25em;color: #696969;}#sk-container-id-2 label.sk-toggleable__label-arrow:hover:before {color: black;}#sk-container-id-2 div.sk-estimator:hover label.sk-toggleable__label-arrow:before {color: black;}#sk-container-id-2 div.sk-toggleable__content {max-height: 0;max-width: 0;overflow: hidden;text-align: left;background-color: #f0f8ff;}#sk-container-id-2 div.sk-toggleable__content pre {margin: 0.2em;color: black;border-radius: 0.25em;background-color: #f0f8ff;}#sk-container-id-2 input.sk-toggleable__control:checked~div.sk-toggleable__content {max-height: 200px;max-width: 100%;overflow: auto;}#sk-container-id-2 input.sk-toggleable__control:checked~label.sk-toggleable__label-arrow:before {content: \"▾\";}#sk-container-id-2 div.sk-estimator input.sk-toggleable__control:checked~label.sk-toggleable__label {background-color: #d4ebff;}#sk-container-id-2 div.sk-label input.sk-toggleable__control:checked~label.sk-toggleable__label {background-color: #d4ebff;}#sk-container-id-2 input.sk-hidden--visually {border: 0;clip: rect(1px 1px 1px 1px);clip: rect(1px, 1px, 1px, 1px);height: 1px;margin: -1px;overflow: hidden;padding: 0;position: absolute;width: 1px;}#sk-container-id-2 div.sk-estimator {font-family: monospace;background-color: #f0f8ff;border: 1px dotted black;border-radius: 0.25em;box-sizing: border-box;margin-bottom: 0.5em;}#sk-container-id-2 div.sk-estimator:hover {background-color: #d4ebff;}#sk-container-id-2 div.sk-parallel-item::after {content: \"\";width: 100%;border-bottom: 1px solid gray;flex-grow: 1;}#sk-container-id-2 div.sk-label:hover label.sk-toggleable__label {background-color: #d4ebff;}#sk-container-id-2 div.sk-serial::before {content: \"\";position: absolute;border-left: 1px solid gray;box-sizing: border-box;top: 0;bottom: 0;left: 50%;z-index: 0;}#sk-container-id-2 div.sk-serial {display: flex;flex-direction: column;align-items: center;background-color: white;padding-right: 0.2em;padding-left: 0.2em;position: relative;}#sk-container-id-2 div.sk-item {position: relative;z-index: 1;}#sk-container-id-2 div.sk-parallel {display: flex;align-items: stretch;justify-content: center;background-color: white;position: relative;}#sk-container-id-2 div.sk-item::before, #sk-container-id-2 div.sk-parallel-item::before {content: \"\";position: absolute;border-left: 1px solid gray;box-sizing: border-box;top: 0;bottom: 0;left: 50%;z-index: -1;}#sk-container-id-2 div.sk-parallel-item {display: flex;flex-direction: column;z-index: 1;position: relative;background-color: white;}#sk-container-id-2 div.sk-parallel-item:first-child::after {align-self: flex-end;width: 50%;}#sk-container-id-2 div.sk-parallel-item:last-child::after {align-self: flex-start;width: 50%;}#sk-container-id-2 div.sk-parallel-item:only-child::after {width: 0;}#sk-container-id-2 div.sk-dashed-wrapped {border: 1px dashed gray;margin: 0 0.4em 0.5em 0.4em;box-sizing: border-box;padding-bottom: 0.4em;background-color: white;}#sk-container-id-2 div.sk-label label {font-family: monospace;font-weight: bold;display: inline-block;line-height: 1.2em;}#sk-container-id-2 div.sk-label-container {text-align: center;}#sk-container-id-2 div.sk-container {/* jupyter's `normalize.less` sets `[hidden] { display: none; }` but bootstrap.min.css set `[hidden] { display: none !important; }` so we also need the `!important` here to be able to override the default hidden behavior on the sphinx rendered scikit-learn.org. See: https://github.com/scikit-learn/scikit-learn/issues/21755 */display: inline-block !important;position: relative;}#sk-container-id-2 div.sk-text-repr-fallback {display: none;}</style><div id=\"sk-container-id-2\" class=\"sk-top-container\"><div class=\"sk-text-repr-fallback\"><pre>RandomizedSearchCV(cv=StratifiedKFold(n_splits=4, random_state=42, shuffle=True),\n",
       "                   estimator=KNeighborsClassifier(), n_iter=333,\n",
       "                   param_distributions={&#x27;n_neighbors&#x27;: [2, 3, 5, 7, 10, 13]},\n",
       "                   scoring=make_scorer(balanced_accuracy_score), verbose=3)</pre><b>In a Jupyter environment, please rerun this cell to show the HTML representation or trust the notebook. <br />On GitHub, the HTML representation is unable to render, please try loading this page with nbviewer.org.</b></div><div class=\"sk-container\" hidden><div class=\"sk-item sk-dashed-wrapped\"><div class=\"sk-label-container\"><div class=\"sk-label sk-toggleable\"><input class=\"sk-toggleable__control sk-hidden--visually\" id=\"sk-estimator-id-2\" type=\"checkbox\" ><label for=\"sk-estimator-id-2\" class=\"sk-toggleable__label sk-toggleable__label-arrow\">RandomizedSearchCV</label><div class=\"sk-toggleable__content\"><pre>RandomizedSearchCV(cv=StratifiedKFold(n_splits=4, random_state=42, shuffle=True),\n",
       "                   estimator=KNeighborsClassifier(), n_iter=333,\n",
       "                   param_distributions={&#x27;n_neighbors&#x27;: [2, 3, 5, 7, 10, 13]},\n",
       "                   scoring=make_scorer(balanced_accuracy_score), verbose=3)</pre></div></div></div><div class=\"sk-parallel\"><div class=\"sk-parallel-item\"><div class=\"sk-item\"><div class=\"sk-label-container\"><div class=\"sk-label sk-toggleable\"><input class=\"sk-toggleable__control sk-hidden--visually\" id=\"sk-estimator-id-3\" type=\"checkbox\" ><label for=\"sk-estimator-id-3\" class=\"sk-toggleable__label sk-toggleable__label-arrow\">estimator: KNeighborsClassifier</label><div class=\"sk-toggleable__content\"><pre>KNeighborsClassifier()</pre></div></div></div><div class=\"sk-serial\"><div class=\"sk-item\"><div class=\"sk-estimator sk-toggleable\"><input class=\"sk-toggleable__control sk-hidden--visually\" id=\"sk-estimator-id-4\" type=\"checkbox\" ><label for=\"sk-estimator-id-4\" class=\"sk-toggleable__label sk-toggleable__label-arrow\">KNeighborsClassifier</label><div class=\"sk-toggleable__content\"><pre>KNeighborsClassifier()</pre></div></div></div></div></div></div></div></div></div></div>"
      ],
      "text/plain": [
       "RandomizedSearchCV(cv=StratifiedKFold(n_splits=4, random_state=42, shuffle=True),\n",
       "                   estimator=KNeighborsClassifier(), n_iter=333,\n",
       "                   param_distributions={'n_neighbors': [2, 3, 5, 7, 10, 13]},\n",
       "                   scoring=make_scorer(balanced_accuracy_score), verbose=3)"
      ]
     },
     "execution_count": 18,
     "metadata": {},
     "output_type": "execute_result"
    }
   ],
   "source": [
    "RSCV.fit(X_train, y_train)"
   ]
  },
  {
   "cell_type": "code",
   "execution_count": 19,
   "id": "6b77895f-770f-4582-93f7-1157885363d9",
   "metadata": {},
   "outputs": [],
   "source": [
    "best_estimator = RSCV.best_estimator_"
   ]
  },
  {
   "cell_type": "code",
   "execution_count": 20,
   "id": "708ae90e-1d42-4cdf-a920-f25485ae367c",
   "metadata": {},
   "outputs": [
    {
     "name": "stdout",
     "output_type": "stream",
     "text": [
      "Train accuracy: 0.9977510671513881\n",
      "Test accuracy:  0.4522017268839061\n",
      "Report: \n",
      "              precision    recall  f1-score   support\n",
      "\n",
      "           0       0.82      0.84      0.83      5388\n",
      "           1       0.31      0.29      0.30      1317\n",
      "           2       0.26      0.23      0.24       372\n",
      "\n",
      "    accuracy                           0.71      7077\n",
      "   macro avg       0.46      0.45      0.46      7077\n",
      "weighted avg       0.70      0.71      0.70      7077\n",
      "\n",
      "Confusion matrix:\n",
      "[[4540  721  127]\n",
      " [ 824  376  117]\n",
      " [ 172  115   85]]\n"
     ]
    }
   ],
   "source": [
    "y_pred = best_estimator.predict(X_test)\n",
    "print(f\"Train accuracy: {balanced_accuracy_score(y_train, best_estimator.predict(X_train))}\")\n",
    "get_report(y_test, y_pred)"
   ]
  },
  {
   "cell_type": "code",
   "execution_count": 21,
   "id": "e55f7399-f797-468a-9794-6f7ec90d0a72",
   "metadata": {},
   "outputs": [
    {
     "data": {
      "text/plain": [
       "{'n_neighbors': 2}"
      ]
     },
     "execution_count": 21,
     "metadata": {},
     "output_type": "execute_result"
    }
   ],
   "source": [
    "RSCV.best_params_ "
   ]
  },
  {
   "cell_type": "code",
   "execution_count": 28,
   "id": "744ed979-74c3-47ea-a04c-90d9d1292cb2",
   "metadata": {},
   "outputs": [
    {
     "data": {
      "text/html": [
       "<style>#sk-container-id-6 {color: black;background-color: white;}#sk-container-id-6 pre{padding: 0;}#sk-container-id-6 div.sk-toggleable {background-color: white;}#sk-container-id-6 label.sk-toggleable__label {cursor: pointer;display: block;width: 100%;margin-bottom: 0;padding: 0.3em;box-sizing: border-box;text-align: center;}#sk-container-id-6 label.sk-toggleable__label-arrow:before {content: \"▸\";float: left;margin-right: 0.25em;color: #696969;}#sk-container-id-6 label.sk-toggleable__label-arrow:hover:before {color: black;}#sk-container-id-6 div.sk-estimator:hover label.sk-toggleable__label-arrow:before {color: black;}#sk-container-id-6 div.sk-toggleable__content {max-height: 0;max-width: 0;overflow: hidden;text-align: left;background-color: #f0f8ff;}#sk-container-id-6 div.sk-toggleable__content pre {margin: 0.2em;color: black;border-radius: 0.25em;background-color: #f0f8ff;}#sk-container-id-6 input.sk-toggleable__control:checked~div.sk-toggleable__content {max-height: 200px;max-width: 100%;overflow: auto;}#sk-container-id-6 input.sk-toggleable__control:checked~label.sk-toggleable__label-arrow:before {content: \"▾\";}#sk-container-id-6 div.sk-estimator input.sk-toggleable__control:checked~label.sk-toggleable__label {background-color: #d4ebff;}#sk-container-id-6 div.sk-label input.sk-toggleable__control:checked~label.sk-toggleable__label {background-color: #d4ebff;}#sk-container-id-6 input.sk-hidden--visually {border: 0;clip: rect(1px 1px 1px 1px);clip: rect(1px, 1px, 1px, 1px);height: 1px;margin: -1px;overflow: hidden;padding: 0;position: absolute;width: 1px;}#sk-container-id-6 div.sk-estimator {font-family: monospace;background-color: #f0f8ff;border: 1px dotted black;border-radius: 0.25em;box-sizing: border-box;margin-bottom: 0.5em;}#sk-container-id-6 div.sk-estimator:hover {background-color: #d4ebff;}#sk-container-id-6 div.sk-parallel-item::after {content: \"\";width: 100%;border-bottom: 1px solid gray;flex-grow: 1;}#sk-container-id-6 div.sk-label:hover label.sk-toggleable__label {background-color: #d4ebff;}#sk-container-id-6 div.sk-serial::before {content: \"\";position: absolute;border-left: 1px solid gray;box-sizing: border-box;top: 0;bottom: 0;left: 50%;z-index: 0;}#sk-container-id-6 div.sk-serial {display: flex;flex-direction: column;align-items: center;background-color: white;padding-right: 0.2em;padding-left: 0.2em;position: relative;}#sk-container-id-6 div.sk-item {position: relative;z-index: 1;}#sk-container-id-6 div.sk-parallel {display: flex;align-items: stretch;justify-content: center;background-color: white;position: relative;}#sk-container-id-6 div.sk-item::before, #sk-container-id-6 div.sk-parallel-item::before {content: \"\";position: absolute;border-left: 1px solid gray;box-sizing: border-box;top: 0;bottom: 0;left: 50%;z-index: -1;}#sk-container-id-6 div.sk-parallel-item {display: flex;flex-direction: column;z-index: 1;position: relative;background-color: white;}#sk-container-id-6 div.sk-parallel-item:first-child::after {align-self: flex-end;width: 50%;}#sk-container-id-6 div.sk-parallel-item:last-child::after {align-self: flex-start;width: 50%;}#sk-container-id-6 div.sk-parallel-item:only-child::after {width: 0;}#sk-container-id-6 div.sk-dashed-wrapped {border: 1px dashed gray;margin: 0 0.4em 0.5em 0.4em;box-sizing: border-box;padding-bottom: 0.4em;background-color: white;}#sk-container-id-6 div.sk-label label {font-family: monospace;font-weight: bold;display: inline-block;line-height: 1.2em;}#sk-container-id-6 div.sk-label-container {text-align: center;}#sk-container-id-6 div.sk-container {/* jupyter's `normalize.less` sets `[hidden] { display: none; }` but bootstrap.min.css set `[hidden] { display: none !important; }` so we also need the `!important` here to be able to override the default hidden behavior on the sphinx rendered scikit-learn.org. See: https://github.com/scikit-learn/scikit-learn/issues/21755 */display: inline-block !important;position: relative;}#sk-container-id-6 div.sk-text-repr-fallback {display: none;}</style><div id=\"sk-container-id-6\" class=\"sk-top-container\"><div class=\"sk-text-repr-fallback\"><pre>KNeighborsClassifier(n_neighbors=11)</pre><b>In a Jupyter environment, please rerun this cell to show the HTML representation or trust the notebook. <br />On GitHub, the HTML representation is unable to render, please try loading this page with nbviewer.org.</b></div><div class=\"sk-container\" hidden><div class=\"sk-item\"><div class=\"sk-estimator sk-toggleable\"><input class=\"sk-toggleable__control sk-hidden--visually\" id=\"sk-estimator-id-8\" type=\"checkbox\" checked><label for=\"sk-estimator-id-8\" class=\"sk-toggleable__label sk-toggleable__label-arrow\">KNeighborsClassifier</label><div class=\"sk-toggleable__content\"><pre>KNeighborsClassifier(n_neighbors=11)</pre></div></div></div></div></div>"
      ],
      "text/plain": [
       "KNeighborsClassifier(n_neighbors=11)"
      ]
     },
     "execution_count": 28,
     "metadata": {},
     "output_type": "execute_result"
    }
   ],
   "source": [
    "knn = KNeighborsClassifier(n_neighbors=11)\n",
    "knn.fit(X_train, y_train)"
   ]
  },
  {
   "cell_type": "code",
   "execution_count": 29,
   "id": "7aeb7590-0b5a-4d28-9a3f-fbd7ee742f4c",
   "metadata": {},
   "outputs": [
    {
     "name": "stdout",
     "output_type": "stream",
     "text": [
      "Train accuracy: 0.8207185667965807\n",
      "Test accuracy:  0.5018927484575627\n",
      "Report: \n",
      "              precision    recall  f1-score   support\n",
      "\n",
      "           0       0.86      0.64      0.74      5388\n",
      "           1       0.25      0.43      0.32      1317\n",
      "           2       0.19      0.44      0.26       372\n",
      "\n",
      "    accuracy                           0.59      7077\n",
      "   macro avg       0.44      0.50      0.44      7077\n",
      "weighted avg       0.72      0.59      0.63      7077\n",
      "\n",
      "Confusion matrix:\n",
      "[[3467 1501  420]\n",
      " [ 484  562  271]\n",
      " [  62  148  162]]\n"
     ]
    }
   ],
   "source": [
    "y_pred = knn.predict(X_test)\n",
    "print(f\"Train accuracy: {balanced_accuracy_score(y_train, knn.predict(X_train))}\")\n",
    "get_report(y_test, y_pred)  "
   ]
  },
  {
   "cell_type": "markdown",
   "id": "25c2879f-8cda-4c0d-a765-324ca7e983cf",
   "metadata": {},
   "source": [
    "### SVC"
   ]
  },
  {
   "cell_type": "code",
   "execution_count": 33,
   "id": "ddb3dbea-4d9d-4540-ab8f-fbd41e29b019",
   "metadata": {},
   "outputs": [
    {
     "data": {
      "text/html": [
       "<style>#sk-container-id-7 {color: black;background-color: white;}#sk-container-id-7 pre{padding: 0;}#sk-container-id-7 div.sk-toggleable {background-color: white;}#sk-container-id-7 label.sk-toggleable__label {cursor: pointer;display: block;width: 100%;margin-bottom: 0;padding: 0.3em;box-sizing: border-box;text-align: center;}#sk-container-id-7 label.sk-toggleable__label-arrow:before {content: \"▸\";float: left;margin-right: 0.25em;color: #696969;}#sk-container-id-7 label.sk-toggleable__label-arrow:hover:before {color: black;}#sk-container-id-7 div.sk-estimator:hover label.sk-toggleable__label-arrow:before {color: black;}#sk-container-id-7 div.sk-toggleable__content {max-height: 0;max-width: 0;overflow: hidden;text-align: left;background-color: #f0f8ff;}#sk-container-id-7 div.sk-toggleable__content pre {margin: 0.2em;color: black;border-radius: 0.25em;background-color: #f0f8ff;}#sk-container-id-7 input.sk-toggleable__control:checked~div.sk-toggleable__content {max-height: 200px;max-width: 100%;overflow: auto;}#sk-container-id-7 input.sk-toggleable__control:checked~label.sk-toggleable__label-arrow:before {content: \"▾\";}#sk-container-id-7 div.sk-estimator input.sk-toggleable__control:checked~label.sk-toggleable__label {background-color: #d4ebff;}#sk-container-id-7 div.sk-label input.sk-toggleable__control:checked~label.sk-toggleable__label {background-color: #d4ebff;}#sk-container-id-7 input.sk-hidden--visually {border: 0;clip: rect(1px 1px 1px 1px);clip: rect(1px, 1px, 1px, 1px);height: 1px;margin: -1px;overflow: hidden;padding: 0;position: absolute;width: 1px;}#sk-container-id-7 div.sk-estimator {font-family: monospace;background-color: #f0f8ff;border: 1px dotted black;border-radius: 0.25em;box-sizing: border-box;margin-bottom: 0.5em;}#sk-container-id-7 div.sk-estimator:hover {background-color: #d4ebff;}#sk-container-id-7 div.sk-parallel-item::after {content: \"\";width: 100%;border-bottom: 1px solid gray;flex-grow: 1;}#sk-container-id-7 div.sk-label:hover label.sk-toggleable__label {background-color: #d4ebff;}#sk-container-id-7 div.sk-serial::before {content: \"\";position: absolute;border-left: 1px solid gray;box-sizing: border-box;top: 0;bottom: 0;left: 50%;z-index: 0;}#sk-container-id-7 div.sk-serial {display: flex;flex-direction: column;align-items: center;background-color: white;padding-right: 0.2em;padding-left: 0.2em;position: relative;}#sk-container-id-7 div.sk-item {position: relative;z-index: 1;}#sk-container-id-7 div.sk-parallel {display: flex;align-items: stretch;justify-content: center;background-color: white;position: relative;}#sk-container-id-7 div.sk-item::before, #sk-container-id-7 div.sk-parallel-item::before {content: \"\";position: absolute;border-left: 1px solid gray;box-sizing: border-box;top: 0;bottom: 0;left: 50%;z-index: -1;}#sk-container-id-7 div.sk-parallel-item {display: flex;flex-direction: column;z-index: 1;position: relative;background-color: white;}#sk-container-id-7 div.sk-parallel-item:first-child::after {align-self: flex-end;width: 50%;}#sk-container-id-7 div.sk-parallel-item:last-child::after {align-self: flex-start;width: 50%;}#sk-container-id-7 div.sk-parallel-item:only-child::after {width: 0;}#sk-container-id-7 div.sk-dashed-wrapped {border: 1px dashed gray;margin: 0 0.4em 0.5em 0.4em;box-sizing: border-box;padding-bottom: 0.4em;background-color: white;}#sk-container-id-7 div.sk-label label {font-family: monospace;font-weight: bold;display: inline-block;line-height: 1.2em;}#sk-container-id-7 div.sk-label-container {text-align: center;}#sk-container-id-7 div.sk-container {/* jupyter's `normalize.less` sets `[hidden] { display: none; }` but bootstrap.min.css set `[hidden] { display: none !important; }` so we also need the `!important` here to be able to override the default hidden behavior on the sphinx rendered scikit-learn.org. See: https://github.com/scikit-learn/scikit-learn/issues/21755 */display: inline-block !important;position: relative;}#sk-container-id-7 div.sk-text-repr-fallback {display: none;}</style><div id=\"sk-container-id-7\" class=\"sk-top-container\"><div class=\"sk-text-repr-fallback\"><pre>Pipeline(steps=[(&#x27;standardscaler&#x27;, StandardScaler()),\n",
       "                (&#x27;svc&#x27;, SVC(C=1, gamma=2))])</pre><b>In a Jupyter environment, please rerun this cell to show the HTML representation or trust the notebook. <br />On GitHub, the HTML representation is unable to render, please try loading this page with nbviewer.org.</b></div><div class=\"sk-container\" hidden><div class=\"sk-item sk-dashed-wrapped\"><div class=\"sk-label-container\"><div class=\"sk-label sk-toggleable\"><input class=\"sk-toggleable__control sk-hidden--visually\" id=\"sk-estimator-id-9\" type=\"checkbox\" ><label for=\"sk-estimator-id-9\" class=\"sk-toggleable__label sk-toggleable__label-arrow\">Pipeline</label><div class=\"sk-toggleable__content\"><pre>Pipeline(steps=[(&#x27;standardscaler&#x27;, StandardScaler()),\n",
       "                (&#x27;svc&#x27;, SVC(C=1, gamma=2))])</pre></div></div></div><div class=\"sk-serial\"><div class=\"sk-item\"><div class=\"sk-estimator sk-toggleable\"><input class=\"sk-toggleable__control sk-hidden--visually\" id=\"sk-estimator-id-10\" type=\"checkbox\" ><label for=\"sk-estimator-id-10\" class=\"sk-toggleable__label sk-toggleable__label-arrow\">StandardScaler</label><div class=\"sk-toggleable__content\"><pre>StandardScaler()</pre></div></div></div><div class=\"sk-item\"><div class=\"sk-estimator sk-toggleable\"><input class=\"sk-toggleable__control sk-hidden--visually\" id=\"sk-estimator-id-11\" type=\"checkbox\" ><label for=\"sk-estimator-id-11\" class=\"sk-toggleable__label sk-toggleable__label-arrow\">SVC</label><div class=\"sk-toggleable__content\"><pre>SVC(C=1, gamma=2)</pre></div></div></div></div></div></div></div>"
      ],
      "text/plain": [
       "Pipeline(steps=[('standardscaler', StandardScaler()),\n",
       "                ('svc', SVC(C=1, gamma=2))])"
      ]
     },
     "execution_count": 33,
     "metadata": {},
     "output_type": "execute_result"
    }
   ],
   "source": [
    "clf = make_pipeline(StandardScaler(), SVC(gamma=2, C=1))\n",
    "clf.fit(X_train, y_train)"
   ]
  },
  {
   "cell_type": "code",
   "execution_count": 34,
   "id": "70f79e42-0baf-4853-bc58-34805d904c73",
   "metadata": {},
   "outputs": [
    {
     "name": "stdout",
     "output_type": "stream",
     "text": [
      "Train accuracy: 0.9999890828502495\n",
      "Test accuracy:  0.3333333333333333\n",
      "Report: \n",
      "              precision    recall  f1-score   support\n",
      "\n",
      "           0       0.76      1.00      0.86      5388\n",
      "           1       0.00      0.00      0.00      1317\n",
      "           2       0.00      0.00      0.00       372\n",
      "\n",
      "    accuracy                           0.76      7077\n",
      "   macro avg       0.25      0.33      0.29      7077\n",
      "weighted avg       0.58      0.76      0.66      7077\n",
      "\n",
      "Confusion matrix:\n",
      "[[5388    0    0]\n",
      " [1317    0    0]\n",
      " [ 372    0    0]]\n"
     ]
    }
   ],
   "source": [
    "y_pred = clf.predict(X_test)\n",
    "print(f\"Train accuracy: {balanced_accuracy_score(y_train, clf.predict(X_train))}\")\n",
    "get_report(y_test, y_pred)  "
   ]
  }
 ],
 "metadata": {
  "kernelspec": {
   "display_name": "Python 3 (ipykernel)",
   "language": "python",
   "name": "python3"
  },
  "language_info": {
   "codemirror_mode": {
    "name": "ipython",
    "version": 3
   },
   "file_extension": ".py",
   "mimetype": "text/x-python",
   "name": "python",
   "nbconvert_exporter": "python",
   "pygments_lexer": "ipython3",
   "version": "3.9.7"
  }
 },
 "nbformat": 4,
 "nbformat_minor": 5
}
