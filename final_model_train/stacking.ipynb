{
 "cells": [
  {
   "cell_type": "markdown",
   "id": "5408794f-c6a8-4978-bdaf-bd5898905371",
   "metadata": {},
   "source": [
    "## Last shot: Stacking "
   ]
  },
  {
   "cell_type": "code",
   "execution_count": 150,
   "id": "add6d387-d270-466b-8c54-bdd9200a1683",
   "metadata": {},
   "outputs": [],
   "source": [
    "import lightgbm as lgb\n",
    "import pandas as pd\n",
    "import numpy as np\n",
    "import matplotlib.pyplot as plt\n",
    "\n",
    "import seaborn as sns\n",
    "from sklearn.ensemble import RandomForestClassifier\n",
    "from imblearn.over_sampling import RandomOverSampler\n",
    "from sklearn.neighbors import KNeighborsClassifier\n",
    "from sklearn.model_selection import train_test_split, GridSearchCV, RandomizedSearchCV, KFold, StratifiedKFold, ParameterGrid\n",
    "from sklearn.metrics import (make_scorer, mean_absolute_error, mean_squared_error, f1_score, accuracy_score,\n",
    "                             balanced_accuracy_score, classification_report, confusion_matrix) \n"
   ]
  },
  {
   "cell_type": "code",
   "execution_count": 2,
   "id": "fde6dc08-0945-404e-8913-d75ec10b3852",
   "metadata": {},
   "outputs": [],
   "source": [
    "import warnings\n",
    "warnings.filterwarnings(\"ignore\")"
   ]
  },
  {
   "cell_type": "code",
   "execution_count": 3,
   "id": "966aad14-6912-4439-bcca-cafa0f66c77a",
   "metadata": {},
   "outputs": [],
   "source": [
    "RS = 42  # random state"
   ]
  },
  {
   "cell_type": "code",
   "execution_count": 134,
   "id": "3fe18afa-e997-4403-8a50-03b8bea481bc",
   "metadata": {},
   "outputs": [],
   "source": [
    "def get_report(y_true, y_pred):\n",
    "    print(\"Test accuracy: \", balanced_accuracy_score(y_true, y_pred))\n",
    "    print(\"Report: \")\n",
    "    print(classification_report(y_true, y_pred))\n",
    "    print(\"Confusion matrix:\")\n",
    "    print(confusion_matrix(y_true, y_pred))"
   ]
  },
  {
   "cell_type": "markdown",
   "id": "89419e7a-c635-4779-a4c9-018808ab4c33",
   "metadata": {},
   "source": [
    "### Split the data keeping the partitionions constant"
   ]
  },
  {
   "cell_type": "code",
   "id": "89419e7a-c635-4779-a4c9-018808ab4c33",
   "metadata": {},
   "source": [
    "train_data = pd.read_csv("train_data.csv", index_col=0)"
    "labels = pd.read_csv('../data/labels.csv', index_col=0)[['citation_class', 'n_cited']]"

    "df = labels.join(train_data)"
    "df = df.iloc[1000:-100]  # throw away some of the first and some of the last activities"

    "df['backup_idx'] = df.index"
    "X, y = df.iloc[:, 2:].values, df.citation_class.values.reshape(-1, 1)"

    "# class labels first"
    "X_train, X_test, y_train, y_test = train_test_split(X, y, test_size=0.15, stratify=y, random_state=RS, shuffle=True)"

    "X_train, X_val, y_train, y_val = train_test_split(X_train, y_train, test_size=0.15, stratify=y_train, random_state=RS, shuffle=True)"

    "train_idx, test_idx, val_idx = X_train[:, -1], X_test[:, -1], X_val[:, -1]"
    "X_train, X_test, X_val = X_train[:, :-1], X_test[:, :-1], X_val[:, :-1]"
   ]
  },
  {
   "cell_type": "markdown",
   "id": "89419e7a-c635-4779-a4c9-018808ab4c33",
   "metadata": {},
   "source": [
    "### Multi-class models and predictions first:"
   ]
  },
  {
   "cell_type": "code",
   "execution_count": 49,
   "id": "6b5bb7cd-132d-4a00-89ef-9cb0e34cbb5c",
   "metadata": {},
   "outputs": [],
   "source": [
    "multi_class_model_1 = lgb.LGBMClassifier(class_weight='balanced', random_state=RS, \n",
    "                         **{'reg_alpha': 0.1, 'n_estimators': 550, 'max_depth': 6, 'learning_rate': 0.01, 'reg_lambda': 0.01})\n",
    "\n",
    "multi_class_model_2 = KNeighborsClassifier(n_neighbors=11)"
   ]
  },
  {
   "cell_type": "code",
   "execution_count": 50,
   "id": "bd43f1a9-c03d-4c4c-98df-0e5e4cec439c",
   "metadata": {},
   "outputs": [
    {
     "data": {
      "text/html": [
       "<style>#sk-container-id-6 {color: black;background-color: white;}#sk-container-id-6 pre{padding: 0;}#sk-container-id-6 div.sk-toggleable {background-color: white;}#sk-container-id-6 label.sk-toggleable__label {cursor: pointer;display: block;width: 100%;margin-bottom: 0;padding: 0.3em;box-sizing: border-box;text-align: center;}#sk-container-id-6 label.sk-toggleable__label-arrow:before {content: \"▸\";float: left;margin-right: 0.25em;color: #696969;}#sk-container-id-6 label.sk-toggleable__label-arrow:hover:before {color: black;}#sk-container-id-6 div.sk-estimator:hover label.sk-toggleable__label-arrow:before {color: black;}#sk-container-id-6 div.sk-toggleable__content {max-height: 0;max-width: 0;overflow: hidden;text-align: left;background-color: #f0f8ff;}#sk-container-id-6 div.sk-toggleable__content pre {margin: 0.2em;color: black;border-radius: 0.25em;background-color: #f0f8ff;}#sk-container-id-6 input.sk-toggleable__control:checked~div.sk-toggleable__content {max-height: 200px;max-width: 100%;overflow: auto;}#sk-container-id-6 input.sk-toggleable__control:checked~label.sk-toggleable__label-arrow:before {content: \"▾\";}#sk-container-id-6 div.sk-estimator input.sk-toggleable__control:checked~label.sk-toggleable__label {background-color: #d4ebff;}#sk-container-id-6 div.sk-label input.sk-toggleable__control:checked~label.sk-toggleable__label {background-color: #d4ebff;}#sk-container-id-6 input.sk-hidden--visually {border: 0;clip: rect(1px 1px 1px 1px);clip: rect(1px, 1px, 1px, 1px);height: 1px;margin: -1px;overflow: hidden;padding: 0;position: absolute;width: 1px;}#sk-container-id-6 div.sk-estimator {font-family: monospace;background-color: #f0f8ff;border: 1px dotted black;border-radius: 0.25em;box-sizing: border-box;margin-bottom: 0.5em;}#sk-container-id-6 div.sk-estimator:hover {background-color: #d4ebff;}#sk-container-id-6 div.sk-parallel-item::after {content: \"\";width: 100%;border-bottom: 1px solid gray;flex-grow: 1;}#sk-container-id-6 div.sk-label:hover label.sk-toggleable__label {background-color: #d4ebff;}#sk-container-id-6 div.sk-serial::before {content: \"\";position: absolute;border-left: 1px solid gray;box-sizing: border-box;top: 0;bottom: 0;left: 50%;z-index: 0;}#sk-container-id-6 div.sk-serial {display: flex;flex-direction: column;align-items: center;background-color: white;padding-right: 0.2em;padding-left: 0.2em;position: relative;}#sk-container-id-6 div.sk-item {position: relative;z-index: 1;}#sk-container-id-6 div.sk-parallel {display: flex;align-items: stretch;justify-content: center;background-color: white;position: relative;}#sk-container-id-6 div.sk-item::before, #sk-container-id-6 div.sk-parallel-item::before {content: \"\";position: absolute;border-left: 1px solid gray;box-sizing: border-box;top: 0;bottom: 0;left: 50%;z-index: -1;}#sk-container-id-6 div.sk-parallel-item {display: flex;flex-direction: column;z-index: 1;position: relative;background-color: white;}#sk-container-id-6 div.sk-parallel-item:first-child::after {align-self: flex-end;width: 50%;}#sk-container-id-6 div.sk-parallel-item:last-child::after {align-self: flex-start;width: 50%;}#sk-container-id-6 div.sk-parallel-item:only-child::after {width: 0;}#sk-container-id-6 div.sk-dashed-wrapped {border: 1px dashed gray;margin: 0 0.4em 0.5em 0.4em;box-sizing: border-box;padding-bottom: 0.4em;background-color: white;}#sk-container-id-6 div.sk-label label {font-family: monospace;font-weight: bold;display: inline-block;line-height: 1.2em;}#sk-container-id-6 div.sk-label-container {text-align: center;}#sk-container-id-6 div.sk-container {/* jupyter's `normalize.less` sets `[hidden] { display: none; }` but bootstrap.min.css set `[hidden] { display: none !important; }` so we also need the `!important` here to be able to override the default hidden behavior on the sphinx rendered scikit-learn.org. See: https://github.com/scikit-learn/scikit-learn/issues/21755 */display: inline-block !important;position: relative;}#sk-container-id-6 div.sk-text-repr-fallback {display: none;}</style><div id=\"sk-container-id-6\" class=\"sk-top-container\"><div class=\"sk-text-repr-fallback\"><pre>LGBMClassifier(class_weight=&#x27;balanced&#x27;, learning_rate=0.01, max_depth=6,\n",
       "               n_estimators=550, random_state=42, reg_alpha=0.1,\n",
       "               reg_lambda=0.01)</pre><b>In a Jupyter environment, please rerun this cell to show the HTML representation or trust the notebook. <br />On GitHub, the HTML representation is unable to render, please try loading this page with nbviewer.org.</b></div><div class=\"sk-container\" hidden><div class=\"sk-item\"><div class=\"sk-estimator sk-toggleable\"><input class=\"sk-toggleable__control sk-hidden--visually\" id=\"sk-estimator-id-6\" type=\"checkbox\" checked><label for=\"sk-estimator-id-6\" class=\"sk-toggleable__label sk-toggleable__label-arrow\">LGBMClassifier</label><div class=\"sk-toggleable__content\"><pre>LGBMClassifier(class_weight=&#x27;balanced&#x27;, learning_rate=0.01, max_depth=6,\n",
       "               n_estimators=550, random_state=42, reg_alpha=0.1,\n",
       "               reg_lambda=0.01)</pre></div></div></div></div></div>"
      ],
      "text/plain": [
       "LGBMClassifier(class_weight='balanced', learning_rate=0.01, max_depth=6,\n",
       "               n_estimators=550, random_state=42, reg_alpha=0.1,\n",
       "               reg_lambda=0.01)"
      ]
     },
     "execution_count": 50,
     "metadata": {},
     "output_type": "execute_result"
    }
   ],
   "source": [
    "multi_class_model_1.fit(X_train, y_train)"
   ]
  },
  {
   "cell_type": "code",
   "execution_count": 51,
   "id": "5c84969c-37ed-46c1-b976-c69d0fcea26f",
   "metadata": {},
   "outputs": [
    {
     "data": {
      "text/html": [
       "<style>#sk-container-id-7 {color: black;background-color: white;}#sk-container-id-7 pre{padding: 0;}#sk-container-id-7 div.sk-toggleable {background-color: white;}#sk-container-id-7 label.sk-toggleable__label {cursor: pointer;display: block;width: 100%;margin-bottom: 0;padding: 0.3em;box-sizing: border-box;text-align: center;}#sk-container-id-7 label.sk-toggleable__label-arrow:before {content: \"▸\";float: left;margin-right: 0.25em;color: #696969;}#sk-container-id-7 label.sk-toggleable__label-arrow:hover:before {color: black;}#sk-container-id-7 div.sk-estimator:hover label.sk-toggleable__label-arrow:before {color: black;}#sk-container-id-7 div.sk-toggleable__content {max-height: 0;max-width: 0;overflow: hidden;text-align: left;background-color: #f0f8ff;}#sk-container-id-7 div.sk-toggleable__content pre {margin: 0.2em;color: black;border-radius: 0.25em;background-color: #f0f8ff;}#sk-container-id-7 input.sk-toggleable__control:checked~div.sk-toggleable__content {max-height: 200px;max-width: 100%;overflow: auto;}#sk-container-id-7 input.sk-toggleable__control:checked~label.sk-toggleable__label-arrow:before {content: \"▾\";}#sk-container-id-7 div.sk-estimator input.sk-toggleable__control:checked~label.sk-toggleable__label {background-color: #d4ebff;}#sk-container-id-7 div.sk-label input.sk-toggleable__control:checked~label.sk-toggleable__label {background-color: #d4ebff;}#sk-container-id-7 input.sk-hidden--visually {border: 0;clip: rect(1px 1px 1px 1px);clip: rect(1px, 1px, 1px, 1px);height: 1px;margin: -1px;overflow: hidden;padding: 0;position: absolute;width: 1px;}#sk-container-id-7 div.sk-estimator {font-family: monospace;background-color: #f0f8ff;border: 1px dotted black;border-radius: 0.25em;box-sizing: border-box;margin-bottom: 0.5em;}#sk-container-id-7 div.sk-estimator:hover {background-color: #d4ebff;}#sk-container-id-7 div.sk-parallel-item::after {content: \"\";width: 100%;border-bottom: 1px solid gray;flex-grow: 1;}#sk-container-id-7 div.sk-label:hover label.sk-toggleable__label {background-color: #d4ebff;}#sk-container-id-7 div.sk-serial::before {content: \"\";position: absolute;border-left: 1px solid gray;box-sizing: border-box;top: 0;bottom: 0;left: 50%;z-index: 0;}#sk-container-id-7 div.sk-serial {display: flex;flex-direction: column;align-items: center;background-color: white;padding-right: 0.2em;padding-left: 0.2em;position: relative;}#sk-container-id-7 div.sk-item {position: relative;z-index: 1;}#sk-container-id-7 div.sk-parallel {display: flex;align-items: stretch;justify-content: center;background-color: white;position: relative;}#sk-container-id-7 div.sk-item::before, #sk-container-id-7 div.sk-parallel-item::before {content: \"\";position: absolute;border-left: 1px solid gray;box-sizing: border-box;top: 0;bottom: 0;left: 50%;z-index: -1;}#sk-container-id-7 div.sk-parallel-item {display: flex;flex-direction: column;z-index: 1;position: relative;background-color: white;}#sk-container-id-7 div.sk-parallel-item:first-child::after {align-self: flex-end;width: 50%;}#sk-container-id-7 div.sk-parallel-item:last-child::after {align-self: flex-start;width: 50%;}#sk-container-id-7 div.sk-parallel-item:only-child::after {width: 0;}#sk-container-id-7 div.sk-dashed-wrapped {border: 1px dashed gray;margin: 0 0.4em 0.5em 0.4em;box-sizing: border-box;padding-bottom: 0.4em;background-color: white;}#sk-container-id-7 div.sk-label label {font-family: monospace;font-weight: bold;display: inline-block;line-height: 1.2em;}#sk-container-id-7 div.sk-label-container {text-align: center;}#sk-container-id-7 div.sk-container {/* jupyter's `normalize.less` sets `[hidden] { display: none; }` but bootstrap.min.css set `[hidden] { display: none !important; }` so we also need the `!important` here to be able to override the default hidden behavior on the sphinx rendered scikit-learn.org. See: https://github.com/scikit-learn/scikit-learn/issues/21755 */display: inline-block !important;position: relative;}#sk-container-id-7 div.sk-text-repr-fallback {display: none;}</style><div id=\"sk-container-id-7\" class=\"sk-top-container\"><div class=\"sk-text-repr-fallback\"><pre>KNeighborsClassifier(n_neighbors=11)</pre><b>In a Jupyter environment, please rerun this cell to show the HTML representation or trust the notebook. <br />On GitHub, the HTML representation is unable to render, please try loading this page with nbviewer.org.</b></div><div class=\"sk-container\" hidden><div class=\"sk-item\"><div class=\"sk-estimator sk-toggleable\"><input class=\"sk-toggleable__control sk-hidden--visually\" id=\"sk-estimator-id-7\" type=\"checkbox\" checked><label for=\"sk-estimator-id-7\" class=\"sk-toggleable__label sk-toggleable__label-arrow\">KNeighborsClassifier</label><div class=\"sk-toggleable__content\"><pre>KNeighborsClassifier(n_neighbors=11)</pre></div></div></div></div></div>"
      ],
      "text/plain": [
       "KNeighborsClassifier(n_neighbors=11)"
      ]
     },
     "execution_count": 51,
     "metadata": {},
     "output_type": "execute_result"
    }
   ],
   "source": [
    "multi_class_model_2.fit(X_train, y_train)"
   ]
  },
  {
   "cell_type": "code",
   "execution_count": 52,
   "id": "cc0ff8dc-28f3-4aa7-8f15-d7f50e3f9410",
   "metadata": {},
   "outputs": [],
   "source": [
    "multi_class_val_pred_1 = multi_class_model_1.predict(X_val)\n",
    "multi_class_val_pred_2 = multi_class_model_2.predict(X_val)\n",
    "multi_class_val_pred_3 = pd.read_csv('keras_predictions/Keras_class_val_set_predictions.csv').values"
   ]
  },
  {
   "cell_type": "code",
   "execution_count": 53,
   "id": "2d168750-a80d-4cf2-8782-616ea0244b35",
   "metadata": {},
   "outputs": [],
   "source": [
    "multi_class_test_pred_1 = multi_class_model_1.predict(X_test)\n",
    "multi_class_test_pred_2 = multi_class_model_2.predict(X_test)\n",
    "multi_class_test_pred_3 = pd.read_csv('keras_predictions/Keras_class_test_set_predictions.csv').values"
   ]
  },
  {
   "cell_type": "markdown",
   "id": "e4b883cd-ca78-4473-a5f5-c4cd7d59fcd9",
   "metadata": {},
   "source": [
    "### Binary models:"
   ]
  },
  {
   "cell_type": "code",
   "execution_count": 25,
   "id": "72f3c331-ffcb-4bd6-b9fc-5a29cf2c1157",
   "metadata": {},
   "outputs": [],
   "source": [
    "y_train[y_train>1] = 1"
    "y_test[y_test>1] = 1"
    "y_val[y_val>1] = 1"
   ]
  },
  {
   "cell_type": "code",
   "execution_count": 26,
   "id": "d5148f5a-37dc-4ecd-ac2b-8903953396d2",
   "metadata": {},
   "outputs": [],
   "source": [
    "binary_class_model_1 = lgb.LGBMClassifier(class_weight='balanced', random_state=RS, \n",
    "                         **{'reg_lambda': 0.05, 'reg_alpha': 0.5, 'n_estimators': 1000, 'max_depth': 8, 'learning_rate': 0.01})\n",
    "\n",
    "binary_class_model_2 = KNeighborsClassifier(n_neighbors=11)"
   ]
  },
  {
   "cell_type": "code",
   "execution_count": 27,
   "id": "b466ba20-242f-48a1-a822-e57fa02bdc43",
   "metadata": {},
   "outputs": [
    {
     "data": {
      "text/html": [
       "<style>#sk-container-id-3 {color: black;background-color: white;}#sk-container-id-3 pre{padding: 0;}#sk-container-id-3 div.sk-toggleable {background-color: white;}#sk-container-id-3 label.sk-toggleable__label {cursor: pointer;display: block;width: 100%;margin-bottom: 0;padding: 0.3em;box-sizing: border-box;text-align: center;}#sk-container-id-3 label.sk-toggleable__label-arrow:before {content: \"▸\";float: left;margin-right: 0.25em;color: #696969;}#sk-container-id-3 label.sk-toggleable__label-arrow:hover:before {color: black;}#sk-container-id-3 div.sk-estimator:hover label.sk-toggleable__label-arrow:before {color: black;}#sk-container-id-3 div.sk-toggleable__content {max-height: 0;max-width: 0;overflow: hidden;text-align: left;background-color: #f0f8ff;}#sk-container-id-3 div.sk-toggleable__content pre {margin: 0.2em;color: black;border-radius: 0.25em;background-color: #f0f8ff;}#sk-container-id-3 input.sk-toggleable__control:checked~div.sk-toggleable__content {max-height: 200px;max-width: 100%;overflow: auto;}#sk-container-id-3 input.sk-toggleable__control:checked~label.sk-toggleable__label-arrow:before {content: \"▾\";}#sk-container-id-3 div.sk-estimator input.sk-toggleable__control:checked~label.sk-toggleable__label {background-color: #d4ebff;}#sk-container-id-3 div.sk-label input.sk-toggleable__control:checked~label.sk-toggleable__label {background-color: #d4ebff;}#sk-container-id-3 input.sk-hidden--visually {border: 0;clip: rect(1px 1px 1px 1px);clip: rect(1px, 1px, 1px, 1px);height: 1px;margin: -1px;overflow: hidden;padding: 0;position: absolute;width: 1px;}#sk-container-id-3 div.sk-estimator {font-family: monospace;background-color: #f0f8ff;border: 1px dotted black;border-radius: 0.25em;box-sizing: border-box;margin-bottom: 0.5em;}#sk-container-id-3 div.sk-estimator:hover {background-color: #d4ebff;}#sk-container-id-3 div.sk-parallel-item::after {content: \"\";width: 100%;border-bottom: 1px solid gray;flex-grow: 1;}#sk-container-id-3 div.sk-label:hover label.sk-toggleable__label {background-color: #d4ebff;}#sk-container-id-3 div.sk-serial::before {content: \"\";position: absolute;border-left: 1px solid gray;box-sizing: border-box;top: 0;bottom: 0;left: 50%;z-index: 0;}#sk-container-id-3 div.sk-serial {display: flex;flex-direction: column;align-items: center;background-color: white;padding-right: 0.2em;padding-left: 0.2em;position: relative;}#sk-container-id-3 div.sk-item {position: relative;z-index: 1;}#sk-container-id-3 div.sk-parallel {display: flex;align-items: stretch;justify-content: center;background-color: white;position: relative;}#sk-container-id-3 div.sk-item::before, #sk-container-id-3 div.sk-parallel-item::before {content: \"\";position: absolute;border-left: 1px solid gray;box-sizing: border-box;top: 0;bottom: 0;left: 50%;z-index: -1;}#sk-container-id-3 div.sk-parallel-item {display: flex;flex-direction: column;z-index: 1;position: relative;background-color: white;}#sk-container-id-3 div.sk-parallel-item:first-child::after {align-self: flex-end;width: 50%;}#sk-container-id-3 div.sk-parallel-item:last-child::after {align-self: flex-start;width: 50%;}#sk-container-id-3 div.sk-parallel-item:only-child::after {width: 0;}#sk-container-id-3 div.sk-dashed-wrapped {border: 1px dashed gray;margin: 0 0.4em 0.5em 0.4em;box-sizing: border-box;padding-bottom: 0.4em;background-color: white;}#sk-container-id-3 div.sk-label label {font-family: monospace;font-weight: bold;display: inline-block;line-height: 1.2em;}#sk-container-id-3 div.sk-label-container {text-align: center;}#sk-container-id-3 div.sk-container {/* jupyter's `normalize.less` sets `[hidden] { display: none; }` but bootstrap.min.css set `[hidden] { display: none !important; }` so we also need the `!important` here to be able to override the default hidden behavior on the sphinx rendered scikit-learn.org. See: https://github.com/scikit-learn/scikit-learn/issues/21755 */display: inline-block !important;position: relative;}#sk-container-id-3 div.sk-text-repr-fallback {display: none;}</style><div id=\"sk-container-id-3\" class=\"sk-top-container\"><div class=\"sk-text-repr-fallback\"><pre>LGBMClassifier(class_weight=&#x27;balanced&#x27;, learning_rate=0.01, max_depth=8,\n",
       "               n_estimators=1000, random_state=42, reg_alpha=0.5,\n",
       "               reg_lambda=0.05)</pre><b>In a Jupyter environment, please rerun this cell to show the HTML representation or trust the notebook. <br />On GitHub, the HTML representation is unable to render, please try loading this page with nbviewer.org.</b></div><div class=\"sk-container\" hidden><div class=\"sk-item\"><div class=\"sk-estimator sk-toggleable\"><input class=\"sk-toggleable__control sk-hidden--visually\" id=\"sk-estimator-id-3\" type=\"checkbox\" checked><label for=\"sk-estimator-id-3\" class=\"sk-toggleable__label sk-toggleable__label-arrow\">LGBMClassifier</label><div class=\"sk-toggleable__content\"><pre>LGBMClassifier(class_weight=&#x27;balanced&#x27;, learning_rate=0.01, max_depth=8,\n",
       "               n_estimators=1000, random_state=42, reg_alpha=0.5,\n",
       "               reg_lambda=0.05)</pre></div></div></div></div></div>"
      ],
      "text/plain": [
       "LGBMClassifier(class_weight='balanced', learning_rate=0.01, max_depth=8,\n",
       "               n_estimators=1000, random_state=42, reg_alpha=0.5,\n",
       "               reg_lambda=0.05)"
      ]
     },
     "execution_count": 27,
     "metadata": {},
     "output_type": "execute_result"
    }
   ],
   "source": [
    "binary_class_model_1.fit(X_train, y_train)"
   ]
  },
  {
   "cell_type": "code",
   "execution_count": 28,
   "id": "ea0aeb87-afa9-49fc-8520-d09218d8e7ab",
   "metadata": {},
   "outputs": [
    {
     "data": {
      "text/html": [
       "<style>#sk-container-id-4 {color: black;background-color: white;}#sk-container-id-4 pre{padding: 0;}#sk-container-id-4 div.sk-toggleable {background-color: white;}#sk-container-id-4 label.sk-toggleable__label {cursor: pointer;display: block;width: 100%;margin-bottom: 0;padding: 0.3em;box-sizing: border-box;text-align: center;}#sk-container-id-4 label.sk-toggleable__label-arrow:before {content: \"▸\";float: left;margin-right: 0.25em;color: #696969;}#sk-container-id-4 label.sk-toggleable__label-arrow:hover:before {color: black;}#sk-container-id-4 div.sk-estimator:hover label.sk-toggleable__label-arrow:before {color: black;}#sk-container-id-4 div.sk-toggleable__content {max-height: 0;max-width: 0;overflow: hidden;text-align: left;background-color: #f0f8ff;}#sk-container-id-4 div.sk-toggleable__content pre {margin: 0.2em;color: black;border-radius: 0.25em;background-color: #f0f8ff;}#sk-container-id-4 input.sk-toggleable__control:checked~div.sk-toggleable__content {max-height: 200px;max-width: 100%;overflow: auto;}#sk-container-id-4 input.sk-toggleable__control:checked~label.sk-toggleable__label-arrow:before {content: \"▾\";}#sk-container-id-4 div.sk-estimator input.sk-toggleable__control:checked~label.sk-toggleable__label {background-color: #d4ebff;}#sk-container-id-4 div.sk-label input.sk-toggleable__control:checked~label.sk-toggleable__label {background-color: #d4ebff;}#sk-container-id-4 input.sk-hidden--visually {border: 0;clip: rect(1px 1px 1px 1px);clip: rect(1px, 1px, 1px, 1px);height: 1px;margin: -1px;overflow: hidden;padding: 0;position: absolute;width: 1px;}#sk-container-id-4 div.sk-estimator {font-family: monospace;background-color: #f0f8ff;border: 1px dotted black;border-radius: 0.25em;box-sizing: border-box;margin-bottom: 0.5em;}#sk-container-id-4 div.sk-estimator:hover {background-color: #d4ebff;}#sk-container-id-4 div.sk-parallel-item::after {content: \"\";width: 100%;border-bottom: 1px solid gray;flex-grow: 1;}#sk-container-id-4 div.sk-label:hover label.sk-toggleable__label {background-color: #d4ebff;}#sk-container-id-4 div.sk-serial::before {content: \"\";position: absolute;border-left: 1px solid gray;box-sizing: border-box;top: 0;bottom: 0;left: 50%;z-index: 0;}#sk-container-id-4 div.sk-serial {display: flex;flex-direction: column;align-items: center;background-color: white;padding-right: 0.2em;padding-left: 0.2em;position: relative;}#sk-container-id-4 div.sk-item {position: relative;z-index: 1;}#sk-container-id-4 div.sk-parallel {display: flex;align-items: stretch;justify-content: center;background-color: white;position: relative;}#sk-container-id-4 div.sk-item::before, #sk-container-id-4 div.sk-parallel-item::before {content: \"\";position: absolute;border-left: 1px solid gray;box-sizing: border-box;top: 0;bottom: 0;left: 50%;z-index: -1;}#sk-container-id-4 div.sk-parallel-item {display: flex;flex-direction: column;z-index: 1;position: relative;background-color: white;}#sk-container-id-4 div.sk-parallel-item:first-child::after {align-self: flex-end;width: 50%;}#sk-container-id-4 div.sk-parallel-item:last-child::after {align-self: flex-start;width: 50%;}#sk-container-id-4 div.sk-parallel-item:only-child::after {width: 0;}#sk-container-id-4 div.sk-dashed-wrapped {border: 1px dashed gray;margin: 0 0.4em 0.5em 0.4em;box-sizing: border-box;padding-bottom: 0.4em;background-color: white;}#sk-container-id-4 div.sk-label label {font-family: monospace;font-weight: bold;display: inline-block;line-height: 1.2em;}#sk-container-id-4 div.sk-label-container {text-align: center;}#sk-container-id-4 div.sk-container {/* jupyter's `normalize.less` sets `[hidden] { display: none; }` but bootstrap.min.css set `[hidden] { display: none !important; }` so we also need the `!important` here to be able to override the default hidden behavior on the sphinx rendered scikit-learn.org. See: https://github.com/scikit-learn/scikit-learn/issues/21755 */display: inline-block !important;position: relative;}#sk-container-id-4 div.sk-text-repr-fallback {display: none;}</style><div id=\"sk-container-id-4\" class=\"sk-top-container\"><div class=\"sk-text-repr-fallback\"><pre>KNeighborsClassifier(n_neighbors=11)</pre><b>In a Jupyter environment, please rerun this cell to show the HTML representation or trust the notebook. <br />On GitHub, the HTML representation is unable to render, please try loading this page with nbviewer.org.</b></div><div class=\"sk-container\" hidden><div class=\"sk-item\"><div class=\"sk-estimator sk-toggleable\"><input class=\"sk-toggleable__control sk-hidden--visually\" id=\"sk-estimator-id-4\" type=\"checkbox\" checked><label for=\"sk-estimator-id-4\" class=\"sk-toggleable__label sk-toggleable__label-arrow\">KNeighborsClassifier</label><div class=\"sk-toggleable__content\"><pre>KNeighborsClassifier(n_neighbors=11)</pre></div></div></div></div></div>"
      ],
      "text/plain": [
       "KNeighborsClassifier(n_neighbors=11)"
      ]
     },
     "execution_count": 28,
     "metadata": {},
     "output_type": "execute_result"
    }
   ],
   "source": [
    "binary_class_model_2.fit(X_train, y_train)"
   ]
  },
  {
   "cell_type": "code",
   "execution_count": 29,
   "id": "c888e16d-b90d-45a0-91f2-81dcbb1a445d",
   "metadata": {},
   "outputs": [],
   "source": [
    "binary_class_val_pred_1 = binary_class_model_1.predict(X_val)\n",
    "binary_class_val_pred_2 = binary_class_model_2.predict(X_val)"
   ]
  },
  {
   "cell_type": "code",
   "execution_count": 30,
   "id": "5092ee4f-a3cd-48cb-b17e-4c2dc924b4cb",
   "metadata": {},
   "outputs": [],
   "source": [
    "binary_class_test_pred_1 = binary_class_model_1.predict(X_test)\n",
    "binary_class_test_pred_2 = binary_class_model_2.predict(X_test)"
   ]
  },
  {
   "cell_type": "markdown",
   "id": "60e3e19e-c208-47fd-8b6d-df807beb1e6b",
   "metadata": {},
   "source": [
    "### Regression models:"
   ]
  },
  {
   "cell_type": "code",
   "execution_count": 36,
   "id": "ab6e6046-890e-43f7-a73f-7ea71946d76b",
   "metadata": {},
   "outputs": [],
   "source": [
    "y_train = df.loc[train_idx].n_cited.values"
    "y_test = df.loc[test_idx].n_cited.values"
    "y_val = df.loc[val_idx].n_cited.values"

    "y_train[y_train>20] = 20"
   ]
  },
  {
   "cell_type": "code",
   "execution_count": 37,
   "id": "1cccddbf-2762-4cae-9a5d-d9f99abbdc5e",
   "metadata": {},
   "outputs": [],
   "source": [
    "reg_model_1 = lgb.LGBMRegressor(random_state=RS,\n",
    "                                **{'reg_lambda': 0.5, 'reg_alpha': 0.5, 'n_estimators': 250, 'max_depth': 8, 'learning_rate': 0.1})"
   ]
  },
  {
   "cell_type": "code",
   "execution_count": 38,
   "id": "b6f46ea9-e69a-4b45-859c-7b068945e611",
   "metadata": {},
   "outputs": [
    {
     "data": {
      "text/html": [
       "<style>#sk-container-id-5 {color: black;background-color: white;}#sk-container-id-5 pre{padding: 0;}#sk-container-id-5 div.sk-toggleable {background-color: white;}#sk-container-id-5 label.sk-toggleable__label {cursor: pointer;display: block;width: 100%;margin-bottom: 0;padding: 0.3em;box-sizing: border-box;text-align: center;}#sk-container-id-5 label.sk-toggleable__label-arrow:before {content: \"▸\";float: left;margin-right: 0.25em;color: #696969;}#sk-container-id-5 label.sk-toggleable__label-arrow:hover:before {color: black;}#sk-container-id-5 div.sk-estimator:hover label.sk-toggleable__label-arrow:before {color: black;}#sk-container-id-5 div.sk-toggleable__content {max-height: 0;max-width: 0;overflow: hidden;text-align: left;background-color: #f0f8ff;}#sk-container-id-5 div.sk-toggleable__content pre {margin: 0.2em;color: black;border-radius: 0.25em;background-color: #f0f8ff;}#sk-container-id-5 input.sk-toggleable__control:checked~div.sk-toggleable__content {max-height: 200px;max-width: 100%;overflow: auto;}#sk-container-id-5 input.sk-toggleable__control:checked~label.sk-toggleable__label-arrow:before {content: \"▾\";}#sk-container-id-5 div.sk-estimator input.sk-toggleable__control:checked~label.sk-toggleable__label {background-color: #d4ebff;}#sk-container-id-5 div.sk-label input.sk-toggleable__control:checked~label.sk-toggleable__label {background-color: #d4ebff;}#sk-container-id-5 input.sk-hidden--visually {border: 0;clip: rect(1px 1px 1px 1px);clip: rect(1px, 1px, 1px, 1px);height: 1px;margin: -1px;overflow: hidden;padding: 0;position: absolute;width: 1px;}#sk-container-id-5 div.sk-estimator {font-family: monospace;background-color: #f0f8ff;border: 1px dotted black;border-radius: 0.25em;box-sizing: border-box;margin-bottom: 0.5em;}#sk-container-id-5 div.sk-estimator:hover {background-color: #d4ebff;}#sk-container-id-5 div.sk-parallel-item::after {content: \"\";width: 100%;border-bottom: 1px solid gray;flex-grow: 1;}#sk-container-id-5 div.sk-label:hover label.sk-toggleable__label {background-color: #d4ebff;}#sk-container-id-5 div.sk-serial::before {content: \"\";position: absolute;border-left: 1px solid gray;box-sizing: border-box;top: 0;bottom: 0;left: 50%;z-index: 0;}#sk-container-id-5 div.sk-serial {display: flex;flex-direction: column;align-items: center;background-color: white;padding-right: 0.2em;padding-left: 0.2em;position: relative;}#sk-container-id-5 div.sk-item {position: relative;z-index: 1;}#sk-container-id-5 div.sk-parallel {display: flex;align-items: stretch;justify-content: center;background-color: white;position: relative;}#sk-container-id-5 div.sk-item::before, #sk-container-id-5 div.sk-parallel-item::before {content: \"\";position: absolute;border-left: 1px solid gray;box-sizing: border-box;top: 0;bottom: 0;left: 50%;z-index: -1;}#sk-container-id-5 div.sk-parallel-item {display: flex;flex-direction: column;z-index: 1;position: relative;background-color: white;}#sk-container-id-5 div.sk-parallel-item:first-child::after {align-self: flex-end;width: 50%;}#sk-container-id-5 div.sk-parallel-item:last-child::after {align-self: flex-start;width: 50%;}#sk-container-id-5 div.sk-parallel-item:only-child::after {width: 0;}#sk-container-id-5 div.sk-dashed-wrapped {border: 1px dashed gray;margin: 0 0.4em 0.5em 0.4em;box-sizing: border-box;padding-bottom: 0.4em;background-color: white;}#sk-container-id-5 div.sk-label label {font-family: monospace;font-weight: bold;display: inline-block;line-height: 1.2em;}#sk-container-id-5 div.sk-label-container {text-align: center;}#sk-container-id-5 div.sk-container {/* jupyter's `normalize.less` sets `[hidden] { display: none; }` but bootstrap.min.css set `[hidden] { display: none !important; }` so we also need the `!important` here to be able to override the default hidden behavior on the sphinx rendered scikit-learn.org. See: https://github.com/scikit-learn/scikit-learn/issues/21755 */display: inline-block !important;position: relative;}#sk-container-id-5 div.sk-text-repr-fallback {display: none;}</style><div id=\"sk-container-id-5\" class=\"sk-top-container\"><div class=\"sk-text-repr-fallback\"><pre>LGBMRegressor(max_depth=8, n_estimators=250, random_state=42, reg_alpha=0.5,\n",
       "              reg_lambda=0.5)</pre><b>In a Jupyter environment, please rerun this cell to show the HTML representation or trust the notebook. <br />On GitHub, the HTML representation is unable to render, please try loading this page with nbviewer.org.</b></div><div class=\"sk-container\" hidden><div class=\"sk-item\"><div class=\"sk-estimator sk-toggleable\"><input class=\"sk-toggleable__control sk-hidden--visually\" id=\"sk-estimator-id-5\" type=\"checkbox\" checked><label for=\"sk-estimator-id-5\" class=\"sk-toggleable__label sk-toggleable__label-arrow\">LGBMRegressor</label><div class=\"sk-toggleable__content\"><pre>LGBMRegressor(max_depth=8, n_estimators=250, random_state=42, reg_alpha=0.5,\n",
       "              reg_lambda=0.5)</pre></div></div></div></div></div>"
      ],
      "text/plain": [
       "LGBMRegressor(max_depth=8, n_estimators=250, random_state=42, reg_alpha=0.5,\n",
       "              reg_lambda=0.5)"
      ]
     },
     "execution_count": 38,
     "metadata": {},
     "output_type": "execute_result"
    }
   ],
   "source": [
    "reg_model_1.fit(X_train, y_train)"
   ]
  },
  {
   "cell_type": "code",
   "execution_count": 54,
   "id": "04f08d3f-1517-40f1-8f42-bfd2d61be120",
   "metadata": {},
   "outputs": [],
   "source": [
    "reg_val_pred_1 = reg_model_1.predict(X_val)\n",
    "reg_val_pred_2 = pd.read_csv('keras_predictions/Keras_reg_val_set_predictions.csv').values"
   ]
  },
  {
   "cell_type": "code",
   "execution_count": 55,
   "id": "fdaf156c-41b1-4b62-8d37-253c1d68bf2a",
   "metadata": {},
   "outputs": [],
   "source": [
    "reg_test_pred_1 = reg_model_1.predict(X_test)\n",
    "reg_test_pred_2 = pd.read_csv('keras_predictions/Keras_reg_test_set_predictions.csv').values"
   ]
  },
  {
   "cell_type": "markdown",
   "id": "5291edb0-2846-4599-8062-68f0bfead42d",
   "metadata": {},
   "source": [
    "### Meta model with binary targets:"
   ]
  },
  {
   "cell_type": "code",
   "execution_count": 131,
   "id": "8c6fa583-95cd-4822-adcb-6d9a34171754",
   "metadata": {},
   "outputs": [],
   "source": [
    "train_data = pd.read_csv(\"train_data.csv\", index_col=0)\n",
    "labels = pd.read_csv('../data/labels.csv', index_col=0)[['citation_class']]\n",
    "df = labels.join(train_data)\n",
    "df = df.iloc[1000:-100]  # throw away some of the first and some of the last activities\n",
    "X, y = df.iloc[:, 1:].values, df.citation_class.values.reshape(-1, 1)\n",
    "y[y>1] = 1\n",
    "X_train, X_test, y_train, y_test = train_test_split(X, y, test_size=0.15, stratify=y, random_state=RS, shuffle=True)\n",
    "\n",
    "X_train, X_val, y_train, y_val = train_test_split(X_train, y_train, test_size=0.15, stratify=y_train, random_state=RS, shuffle=True)"
   ]
  },
  {
   "cell_type": "code",
   "execution_count": 84,
   "id": "e4093315-046b-4158-a104-847854022490",
   "metadata": {},
   "outputs": [],
   "source": [
    "X_train = np.hstack([multi_class_val_pred_1.reshape(-1, 1), multi_class_val_pred_2.reshape(-1, 1), multi_class_val_pred_3, \n",
    "                     binary_class_val_pred_1.reshape(-1, 1), \n",
    "                    binary_class_val_pred_2.reshape(-1, 1), reg_val_pred_1.reshape(-1, 1), reg_val_pred_2])"
   ]
  },
  {
   "cell_type": "code",
   "execution_count": 85,
   "id": "b683fdf7-bb8e-4b18-b087-32632edeaa3b",
   "metadata": {},
   "outputs": [],
   "source": [
    "y_train = y_val"
   ]
  },
  {
   "cell_type": "code",
   "execution_count": 86,
   "id": "d4f31b0c-b1e5-43b4-a3f0-edccec8c8b10",
   "metadata": {},
   "outputs": [],
   "source": [
    "X_test = np.hstack([multi_class_test_pred_1.reshape(-1, 1), multi_class_test_pred_2.reshape(-1, 1), multi_class_test_pred_3, \n",
    "                     binary_class_test_pred_1.reshape(-1, 1), \n",
    "                    binary_class_test_pred_2.reshape(-1, 1), reg_test_pred_1.reshape(-1, 1), reg_test_pred_2])"
   ]
  },
  {
   "cell_type": "code",
   "execution_count": 87,
   "id": "29651e22-911e-4020-8ded-a4e2c7309443",
   "metadata": {},
   "outputs": [
    {
     "data": {
      "text/plain": [
       "(7077, 7)"
      ]
     },
     "execution_count": 87,
     "metadata": {},
     "output_type": "execute_result"
    }
   ],
   "source": [
    "X_test.shape"
   ]
  },
  {
   "cell_type": "code",
   "execution_count": 88,
   "id": "2d5f6831-3061-4c11-adda-2db3223ba91a",
   "metadata": {},
   "outputs": [],
   "source": [
    "meta_model = lgb.LGBMClassifier(class_weight='balanced', random_state=RS)"
   ]
  },
  {
   "cell_type": "code",
   "execution_count": 89,
   "id": "ebcd4f3b-6363-48f5-bbc5-1d600e6abe91",
   "metadata": {},
   "outputs": [
    {
     "data": {
      "text/html": [
       "<style>#sk-container-id-9 {color: black;background-color: white;}#sk-container-id-9 pre{padding: 0;}#sk-container-id-9 div.sk-toggleable {background-color: white;}#sk-container-id-9 label.sk-toggleable__label {cursor: pointer;display: block;width: 100%;margin-bottom: 0;padding: 0.3em;box-sizing: border-box;text-align: center;}#sk-container-id-9 label.sk-toggleable__label-arrow:before {content: \"▸\";float: left;margin-right: 0.25em;color: #696969;}#sk-container-id-9 label.sk-toggleable__label-arrow:hover:before {color: black;}#sk-container-id-9 div.sk-estimator:hover label.sk-toggleable__label-arrow:before {color: black;}#sk-container-id-9 div.sk-toggleable__content {max-height: 0;max-width: 0;overflow: hidden;text-align: left;background-color: #f0f8ff;}#sk-container-id-9 div.sk-toggleable__content pre {margin: 0.2em;color: black;border-radius: 0.25em;background-color: #f0f8ff;}#sk-container-id-9 input.sk-toggleable__control:checked~div.sk-toggleable__content {max-height: 200px;max-width: 100%;overflow: auto;}#sk-container-id-9 input.sk-toggleable__control:checked~label.sk-toggleable__label-arrow:before {content: \"▾\";}#sk-container-id-9 div.sk-estimator input.sk-toggleable__control:checked~label.sk-toggleable__label {background-color: #d4ebff;}#sk-container-id-9 div.sk-label input.sk-toggleable__control:checked~label.sk-toggleable__label {background-color: #d4ebff;}#sk-container-id-9 input.sk-hidden--visually {border: 0;clip: rect(1px 1px 1px 1px);clip: rect(1px, 1px, 1px, 1px);height: 1px;margin: -1px;overflow: hidden;padding: 0;position: absolute;width: 1px;}#sk-container-id-9 div.sk-estimator {font-family: monospace;background-color: #f0f8ff;border: 1px dotted black;border-radius: 0.25em;box-sizing: border-box;margin-bottom: 0.5em;}#sk-container-id-9 div.sk-estimator:hover {background-color: #d4ebff;}#sk-container-id-9 div.sk-parallel-item::after {content: \"\";width: 100%;border-bottom: 1px solid gray;flex-grow: 1;}#sk-container-id-9 div.sk-label:hover label.sk-toggleable__label {background-color: #d4ebff;}#sk-container-id-9 div.sk-serial::before {content: \"\";position: absolute;border-left: 1px solid gray;box-sizing: border-box;top: 0;bottom: 0;left: 50%;z-index: 0;}#sk-container-id-9 div.sk-serial {display: flex;flex-direction: column;align-items: center;background-color: white;padding-right: 0.2em;padding-left: 0.2em;position: relative;}#sk-container-id-9 div.sk-item {position: relative;z-index: 1;}#sk-container-id-9 div.sk-parallel {display: flex;align-items: stretch;justify-content: center;background-color: white;position: relative;}#sk-container-id-9 div.sk-item::before, #sk-container-id-9 div.sk-parallel-item::before {content: \"\";position: absolute;border-left: 1px solid gray;box-sizing: border-box;top: 0;bottom: 0;left: 50%;z-index: -1;}#sk-container-id-9 div.sk-parallel-item {display: flex;flex-direction: column;z-index: 1;position: relative;background-color: white;}#sk-container-id-9 div.sk-parallel-item:first-child::after {align-self: flex-end;width: 50%;}#sk-container-id-9 div.sk-parallel-item:last-child::after {align-self: flex-start;width: 50%;}#sk-container-id-9 div.sk-parallel-item:only-child::after {width: 0;}#sk-container-id-9 div.sk-dashed-wrapped {border: 1px dashed gray;margin: 0 0.4em 0.5em 0.4em;box-sizing: border-box;padding-bottom: 0.4em;background-color: white;}#sk-container-id-9 div.sk-label label {font-family: monospace;font-weight: bold;display: inline-block;line-height: 1.2em;}#sk-container-id-9 div.sk-label-container {text-align: center;}#sk-container-id-9 div.sk-container {/* jupyter's `normalize.less` sets `[hidden] { display: none; }` but bootstrap.min.css set `[hidden] { display: none !important; }` so we also need the `!important` here to be able to override the default hidden behavior on the sphinx rendered scikit-learn.org. See: https://github.com/scikit-learn/scikit-learn/issues/21755 */display: inline-block !important;position: relative;}#sk-container-id-9 div.sk-text-repr-fallback {display: none;}</style><div id=\"sk-container-id-9\" class=\"sk-top-container\"><div class=\"sk-text-repr-fallback\"><pre>LGBMClassifier(class_weight=&#x27;balanced&#x27;, random_state=42)</pre><b>In a Jupyter environment, please rerun this cell to show the HTML representation or trust the notebook. <br />On GitHub, the HTML representation is unable to render, please try loading this page with nbviewer.org.</b></div><div class=\"sk-container\" hidden><div class=\"sk-item\"><div class=\"sk-estimator sk-toggleable\"><input class=\"sk-toggleable__control sk-hidden--visually\" id=\"sk-estimator-id-9\" type=\"checkbox\" checked><label for=\"sk-estimator-id-9\" class=\"sk-toggleable__label sk-toggleable__label-arrow\">LGBMClassifier</label><div class=\"sk-toggleable__content\"><pre>LGBMClassifier(class_weight=&#x27;balanced&#x27;, random_state=42)</pre></div></div></div></div></div>"
      ],
      "text/plain": [
       "LGBMClassifier(class_weight='balanced', random_state=42)"
      ]
     },
     "execution_count": 89,
     "metadata": {},
     "output_type": "execute_result"
    }
   ],
   "source": [
    "meta_model.fit(X_train, y_train)"
   ]
  },
  {
   "cell_type": "code",
   "execution_count": 90,
   "id": "7bfab100-abdd-4bfc-b580-7fc63bc7caa8",
   "metadata": {},
   "outputs": [
    {
     "name": "stdout",
     "output_type": "stream",
     "text": [
      "Train accuracy: 0.8795401466956977\n",
      "Test accuracy:  0.830163668754063\n",
      "Report: \n",
      "              precision    recall  f1-score   support\n",
      "\n",
      "           0       0.94      0.84      0.89      5388\n",
      "           1       0.62      0.82      0.70      1689\n",
      "\n",
      "    accuracy                           0.84      7077\n",
      "   macro avg       0.78      0.83      0.80      7077\n",
      "weighted avg       0.86      0.84      0.84      7077\n",
      "\n",
      "Confusion matrix:\n",
      "[[4534  854]\n",
      " [ 306 1383]]\n"
     ]
    }
   ],
   "source": [
    "y_pred = meta_model.predict(X_test)\n",
    "print(f\"Train accuracy: {balanced_accuracy_score(y_train, meta_model.predict(X_train))}\")\n",
    "get_report(y_test, y_pred)  "
   ]
  },
  {
   "cell_type": "code",
   "execution_count": 101,
   "id": "ae10371d-d505-47ea-9524-e4f1aa4c20fd",
   "metadata": {},
   "outputs": [
    {
     "data": {
      "image/png": "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\n",
      "text/plain": [
       "<Figure size 2880x1440 with 1 Axes>"
      ]
     },
     "metadata": {
      "needs_background": "light"
     },
     "output_type": "display_data"
    }
   ],
   "source": [
    "feature_imp = pd.DataFrame({'Value': meta_model.feature_importances_, \n",
    "                            'Feature': pd.DataFrame(X_train, columns=['lgbm_multbiclass', 'knn_multiclass', 'keras_multiclass', 'lgbm_binary', 'knn_binary',\n",
    "                                           'lgbm_reg', 'keras_reg']).columns})\n",
    "\n",
    "plt.figure(figsize=(40, 20))\n",
    "sns.barplot(x=\"Value\", y=\"Feature\", data=feature_imp.sort_values(by=\"Value\", \n",
    "                                                        ascending=False))\n",
    "plt.title('Features (avg over folds)')\n",
    "plt.show()"
   ]
  },
  {
   "cell_type": "markdown",
   "id": "c5468cd9-5bbe-4706-bcef-4efa9c9aa5cd",
   "metadata": {},
   "source": [
    "### Iterate and throw away the less needed feautres"
   ]
  },
  {
   "cell_type": "code",
   "execution_count": 104,
   "id": "ef4074dd-c5af-4f08-9efe-6a8badb2eb17",
   "metadata": {},
   "outputs": [],
   "source": [
    "X_train = np.hstack([multi_class_val_pred_1.reshape(-1, 1), multi_class_val_pred_2.reshape(-1, 1), multi_class_val_pred_3, \n",
    "                     reg_val_pred_1.reshape(-1, 1), reg_val_pred_2])\n",
    "y_train = y_val"
   ]
  },
  {
   "cell_type": "code",
   "execution_count": 105,
   "id": "fdcef338-3fcb-42b6-a6a7-136114e47b10",
   "metadata": {},
   "outputs": [],
   "source": [
    "X_test = np.hstack([multi_class_test_pred_1.reshape(-1, 1), multi_class_test_pred_2.reshape(-1, 1), multi_class_test_pred_3, \n",
    "                    reg_test_pred_1.reshape(-1, 1), reg_test_pred_2])"
   ]
  },
  {
   "cell_type": "code",
   "execution_count": 106,
   "id": "3bc81c86-8dfa-425e-8e3a-b349fa019a2c",
   "metadata": {},
   "outputs": [],
   "source": [
    "meta_model = lgb.LGBMClassifier(class_weight='balanced', random_state=RS)"
   ]
  },
  {
   "cell_type": "code",
   "execution_count": 107,
   "id": "110ef369-10a3-43d4-b353-afcf6e0cd5dc",
   "metadata": {},
   "outputs": [
    {
     "data": {
      "text/html": [
       "<style>#sk-container-id-10 {color: black;background-color: white;}#sk-container-id-10 pre{padding: 0;}#sk-container-id-10 div.sk-toggleable {background-color: white;}#sk-container-id-10 label.sk-toggleable__label {cursor: pointer;display: block;width: 100%;margin-bottom: 0;padding: 0.3em;box-sizing: border-box;text-align: center;}#sk-container-id-10 label.sk-toggleable__label-arrow:before {content: \"▸\";float: left;margin-right: 0.25em;color: #696969;}#sk-container-id-10 label.sk-toggleable__label-arrow:hover:before {color: black;}#sk-container-id-10 div.sk-estimator:hover label.sk-toggleable__label-arrow:before {color: black;}#sk-container-id-10 div.sk-toggleable__content {max-height: 0;max-width: 0;overflow: hidden;text-align: left;background-color: #f0f8ff;}#sk-container-id-10 div.sk-toggleable__content pre {margin: 0.2em;color: black;border-radius: 0.25em;background-color: #f0f8ff;}#sk-container-id-10 input.sk-toggleable__control:checked~div.sk-toggleable__content {max-height: 200px;max-width: 100%;overflow: auto;}#sk-container-id-10 input.sk-toggleable__control:checked~label.sk-toggleable__label-arrow:before {content: \"▾\";}#sk-container-id-10 div.sk-estimator input.sk-toggleable__control:checked~label.sk-toggleable__label {background-color: #d4ebff;}#sk-container-id-10 div.sk-label input.sk-toggleable__control:checked~label.sk-toggleable__label {background-color: #d4ebff;}#sk-container-id-10 input.sk-hidden--visually {border: 0;clip: rect(1px 1px 1px 1px);clip: rect(1px, 1px, 1px, 1px);height: 1px;margin: -1px;overflow: hidden;padding: 0;position: absolute;width: 1px;}#sk-container-id-10 div.sk-estimator {font-family: monospace;background-color: #f0f8ff;border: 1px dotted black;border-radius: 0.25em;box-sizing: border-box;margin-bottom: 0.5em;}#sk-container-id-10 div.sk-estimator:hover {background-color: #d4ebff;}#sk-container-id-10 div.sk-parallel-item::after {content: \"\";width: 100%;border-bottom: 1px solid gray;flex-grow: 1;}#sk-container-id-10 div.sk-label:hover label.sk-toggleable__label {background-color: #d4ebff;}#sk-container-id-10 div.sk-serial::before {content: \"\";position: absolute;border-left: 1px solid gray;box-sizing: border-box;top: 0;bottom: 0;left: 50%;z-index: 0;}#sk-container-id-10 div.sk-serial {display: flex;flex-direction: column;align-items: center;background-color: white;padding-right: 0.2em;padding-left: 0.2em;position: relative;}#sk-container-id-10 div.sk-item {position: relative;z-index: 1;}#sk-container-id-10 div.sk-parallel {display: flex;align-items: stretch;justify-content: center;background-color: white;position: relative;}#sk-container-id-10 div.sk-item::before, #sk-container-id-10 div.sk-parallel-item::before {content: \"\";position: absolute;border-left: 1px solid gray;box-sizing: border-box;top: 0;bottom: 0;left: 50%;z-index: -1;}#sk-container-id-10 div.sk-parallel-item {display: flex;flex-direction: column;z-index: 1;position: relative;background-color: white;}#sk-container-id-10 div.sk-parallel-item:first-child::after {align-self: flex-end;width: 50%;}#sk-container-id-10 div.sk-parallel-item:last-child::after {align-self: flex-start;width: 50%;}#sk-container-id-10 div.sk-parallel-item:only-child::after {width: 0;}#sk-container-id-10 div.sk-dashed-wrapped {border: 1px dashed gray;margin: 0 0.4em 0.5em 0.4em;box-sizing: border-box;padding-bottom: 0.4em;background-color: white;}#sk-container-id-10 div.sk-label label {font-family: monospace;font-weight: bold;display: inline-block;line-height: 1.2em;}#sk-container-id-10 div.sk-label-container {text-align: center;}#sk-container-id-10 div.sk-container {/* jupyter's `normalize.less` sets `[hidden] { display: none; }` but bootstrap.min.css set `[hidden] { display: none !important; }` so we also need the `!important` here to be able to override the default hidden behavior on the sphinx rendered scikit-learn.org. See: https://github.com/scikit-learn/scikit-learn/issues/21755 */display: inline-block !important;position: relative;}#sk-container-id-10 div.sk-text-repr-fallback {display: none;}</style><div id=\"sk-container-id-10\" class=\"sk-top-container\"><div class=\"sk-text-repr-fallback\"><pre>LGBMClassifier(class_weight=&#x27;balanced&#x27;, random_state=42)</pre><b>In a Jupyter environment, please rerun this cell to show the HTML representation or trust the notebook. <br />On GitHub, the HTML representation is unable to render, please try loading this page with nbviewer.org.</b></div><div class=\"sk-container\" hidden><div class=\"sk-item\"><div class=\"sk-estimator sk-toggleable\"><input class=\"sk-toggleable__control sk-hidden--visually\" id=\"sk-estimator-id-10\" type=\"checkbox\" checked><label for=\"sk-estimator-id-10\" class=\"sk-toggleable__label sk-toggleable__label-arrow\">LGBMClassifier</label><div class=\"sk-toggleable__content\"><pre>LGBMClassifier(class_weight=&#x27;balanced&#x27;, random_state=42)</pre></div></div></div></div></div>"
      ],
      "text/plain": [
       "LGBMClassifier(class_weight='balanced', random_state=42)"
      ]
     },
     "execution_count": 107,
     "metadata": {},
     "output_type": "execute_result"
    }
   ],
   "source": [
    "meta_model.fit(X_train, y_train)"
   ]
  },
  {
   "cell_type": "code",
   "execution_count": 108,
   "id": "2d10a055-3d9d-425f-92a0-07f146ea2027",
   "metadata": {},
   "outputs": [
    {
     "name": "stdout",
     "output_type": "stream",
     "text": [
      "Train accuracy: 0.878713919061926\n",
      "Test accuracy:  0.8311668189688024\n",
      "Report: \n",
      "              precision    recall  f1-score   support\n",
      "\n",
      "           0       0.94      0.84      0.89      5388\n",
      "           1       0.62      0.82      0.71      1689\n",
      "\n",
      "    accuracy                           0.84      7077\n",
      "   macro avg       0.78      0.83      0.80      7077\n",
      "weighted avg       0.86      0.84      0.84      7077\n",
      "\n",
      "Confusion matrix:\n",
      "[[4548  840]\n",
      " [ 307 1382]]\n"
     ]
    }
   ],
   "source": [
    "y_pred = meta_model.predict(X_test)\n",
    "print(f\"Train accuracy: {balanced_accuracy_score(y_train, meta_model.predict(X_train))}\")\n",
    "get_report(y_test, y_pred)  "
   ]
  },
  {
   "cell_type": "code",
   "execution_count": 109,
   "id": "1ccc1223-4f27-48d3-b363-1ce9175ee5b6",
   "metadata": {},
   "outputs": [
    {
     "data": {
      "image/png": "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\n",
      "text/plain": [
       "<Figure size 2880x1440 with 1 Axes>"
      ]
     },
     "metadata": {
      "needs_background": "light"
     },
     "output_type": "display_data"
    }
   ],
   "source": [
    "feature_imp = pd.DataFrame({'Value': meta_model.feature_importances_, \n",
    "                            'Feature': pd.DataFrame(X_train, columns=['lgbm_multbiclass', 'knn_multiclass', 'keras_multiclass',\n",
    "                                           'lgbm_reg', 'keras_reg']).columns})\n",
    "\n",
    "plt.figure(figsize=(40, 20))\n",
    "sns.barplot(x=\"Value\", y=\"Feature\", data=feature_imp.sort_values(by=\"Value\", \n",
    "                                                        ascending=False))\n",
    "plt.title('Features (avg over folds)')\n",
    "plt.show()"
   ]
  },
  {
   "cell_type": "markdown",
   "id": "802014b3-291b-4a8c-a146-d3307b88d20c",
   "metadata": {},
   "source": [
    "### And once again: "
   ]
  },
  {
   "cell_type": "code",
   "execution_count": 116,
   "id": "e6dc80f4-0fa4-4545-a12c-69377b07ea8b",
   "metadata": {},
   "outputs": [],
   "source": [
    "X_train = np.hstack([multi_class_val_pred_1.reshape(-1, 1), multi_class_val_pred_3, \n",
    "                     reg_val_pred_1.reshape(-1, 1), reg_val_pred_2])\n",
    "y_train = y_val"
   ]
  },
  {
   "cell_type": "code",
   "execution_count": 117,
   "id": "9f4e4183-18fa-44a1-afbe-4926e51729ea",
   "metadata": {},
   "outputs": [],
   "source": [
    "X_test = np.hstack([multi_class_test_pred_1.reshape(-1, 1), multi_class_test_pred_3, \n",
    "                    reg_test_pred_1.reshape(-1, 1), reg_test_pred_2])"
   ]
  },
  {
   "cell_type": "code",
   "execution_count": 118,
   "id": "d32cdd0d-3e9c-4347-b75f-02c115d94da9",
   "metadata": {},
   "outputs": [],
   "source": [
    "meta_model = lgb.LGBMClassifier(class_weight='balanced', random_state=RS)"
   ]
  },
  {
   "cell_type": "code",
   "execution_count": 119,
   "id": "f729e726-8767-43ef-9591-9018e92ddc2a",
   "metadata": {},
   "outputs": [
    {
     "data": {
      "text/html": [
       "<style>#sk-container-id-12 {color: black;background-color: white;}#sk-container-id-12 pre{padding: 0;}#sk-container-id-12 div.sk-toggleable {background-color: white;}#sk-container-id-12 label.sk-toggleable__label {cursor: pointer;display: block;width: 100%;margin-bottom: 0;padding: 0.3em;box-sizing: border-box;text-align: center;}#sk-container-id-12 label.sk-toggleable__label-arrow:before {content: \"▸\";float: left;margin-right: 0.25em;color: #696969;}#sk-container-id-12 label.sk-toggleable__label-arrow:hover:before {color: black;}#sk-container-id-12 div.sk-estimator:hover label.sk-toggleable__label-arrow:before {color: black;}#sk-container-id-12 div.sk-toggleable__content {max-height: 0;max-width: 0;overflow: hidden;text-align: left;background-color: #f0f8ff;}#sk-container-id-12 div.sk-toggleable__content pre {margin: 0.2em;color: black;border-radius: 0.25em;background-color: #f0f8ff;}#sk-container-id-12 input.sk-toggleable__control:checked~div.sk-toggleable__content {max-height: 200px;max-width: 100%;overflow: auto;}#sk-container-id-12 input.sk-toggleable__control:checked~label.sk-toggleable__label-arrow:before {content: \"▾\";}#sk-container-id-12 div.sk-estimator input.sk-toggleable__control:checked~label.sk-toggleable__label {background-color: #d4ebff;}#sk-container-id-12 div.sk-label input.sk-toggleable__control:checked~label.sk-toggleable__label {background-color: #d4ebff;}#sk-container-id-12 input.sk-hidden--visually {border: 0;clip: rect(1px 1px 1px 1px);clip: rect(1px, 1px, 1px, 1px);height: 1px;margin: -1px;overflow: hidden;padding: 0;position: absolute;width: 1px;}#sk-container-id-12 div.sk-estimator {font-family: monospace;background-color: #f0f8ff;border: 1px dotted black;border-radius: 0.25em;box-sizing: border-box;margin-bottom: 0.5em;}#sk-container-id-12 div.sk-estimator:hover {background-color: #d4ebff;}#sk-container-id-12 div.sk-parallel-item::after {content: \"\";width: 100%;border-bottom: 1px solid gray;flex-grow: 1;}#sk-container-id-12 div.sk-label:hover label.sk-toggleable__label {background-color: #d4ebff;}#sk-container-id-12 div.sk-serial::before {content: \"\";position: absolute;border-left: 1px solid gray;box-sizing: border-box;top: 0;bottom: 0;left: 50%;z-index: 0;}#sk-container-id-12 div.sk-serial {display: flex;flex-direction: column;align-items: center;background-color: white;padding-right: 0.2em;padding-left: 0.2em;position: relative;}#sk-container-id-12 div.sk-item {position: relative;z-index: 1;}#sk-container-id-12 div.sk-parallel {display: flex;align-items: stretch;justify-content: center;background-color: white;position: relative;}#sk-container-id-12 div.sk-item::before, #sk-container-id-12 div.sk-parallel-item::before {content: \"\";position: absolute;border-left: 1px solid gray;box-sizing: border-box;top: 0;bottom: 0;left: 50%;z-index: -1;}#sk-container-id-12 div.sk-parallel-item {display: flex;flex-direction: column;z-index: 1;position: relative;background-color: white;}#sk-container-id-12 div.sk-parallel-item:first-child::after {align-self: flex-end;width: 50%;}#sk-container-id-12 div.sk-parallel-item:last-child::after {align-self: flex-start;width: 50%;}#sk-container-id-12 div.sk-parallel-item:only-child::after {width: 0;}#sk-container-id-12 div.sk-dashed-wrapped {border: 1px dashed gray;margin: 0 0.4em 0.5em 0.4em;box-sizing: border-box;padding-bottom: 0.4em;background-color: white;}#sk-container-id-12 div.sk-label label {font-family: monospace;font-weight: bold;display: inline-block;line-height: 1.2em;}#sk-container-id-12 div.sk-label-container {text-align: center;}#sk-container-id-12 div.sk-container {/* jupyter's `normalize.less` sets `[hidden] { display: none; }` but bootstrap.min.css set `[hidden] { display: none !important; }` so we also need the `!important` here to be able to override the default hidden behavior on the sphinx rendered scikit-learn.org. See: https://github.com/scikit-learn/scikit-learn/issues/21755 */display: inline-block !important;position: relative;}#sk-container-id-12 div.sk-text-repr-fallback {display: none;}</style><div id=\"sk-container-id-12\" class=\"sk-top-container\"><div class=\"sk-text-repr-fallback\"><pre>LGBMClassifier(class_weight=&#x27;balanced&#x27;, random_state=42)</pre><b>In a Jupyter environment, please rerun this cell to show the HTML representation or trust the notebook. <br />On GitHub, the HTML representation is unable to render, please try loading this page with nbviewer.org.</b></div><div class=\"sk-container\" hidden><div class=\"sk-item\"><div class=\"sk-estimator sk-toggleable\"><input class=\"sk-toggleable__control sk-hidden--visually\" id=\"sk-estimator-id-12\" type=\"checkbox\" checked><label for=\"sk-estimator-id-12\" class=\"sk-toggleable__label sk-toggleable__label-arrow\">LGBMClassifier</label><div class=\"sk-toggleable__content\"><pre>LGBMClassifier(class_weight=&#x27;balanced&#x27;, random_state=42)</pre></div></div></div></div></div>"
      ],
      "text/plain": [
       "LGBMClassifier(class_weight='balanced', random_state=42)"
      ]
     },
     "execution_count": 119,
     "metadata": {},
     "output_type": "execute_result"
    }
   ],
   "source": [
    "meta_model.fit(X_train, y_train)"
   ]
  },
  {
   "cell_type": "code",
   "execution_count": 120,
   "id": "4b7fdc33-84da-48c9-aeda-3ed6503db77b",
   "metadata": {},
   "outputs": [
    {
     "name": "stdout",
     "output_type": "stream",
     "text": [
      "Train accuracy: 0.8818534016129229\n",
      "Test accuracy:  0.8304819538452004\n",
      "Report: \n",
      "              precision    recall  f1-score   support\n",
      "\n",
      "           0       0.94      0.84      0.89      5388\n",
      "           1       0.62      0.82      0.71      1689\n",
      "\n",
      "    accuracy                           0.84      7077\n",
      "   macro avg       0.78      0.83      0.80      7077\n",
      "weighted avg       0.86      0.84      0.84      7077\n",
      "\n",
      "Confusion matrix:\n",
      "[[4547  841]\n",
      " [ 309 1380]]\n"
     ]
    }
   ],
   "source": [
    "y_pred = meta_model.predict(X_test)\n",
    "print(f\"Train accuracy: {balanced_accuracy_score(y_train, meta_model.predict(X_train))}\")\n",
    "get_report(y_test, y_pred)  "
   ]
  },
  {
   "cell_type": "markdown",
   "id": "7036ef16-45f5-4f9f-8a81-0ebbbae91b13",
   "metadata": {},
   "source": [
    "### OK, so all multi-class models and the regression models are the optimal combination for stacking"
   ]
  },
  {
   "cell_type": "markdown",
   "id": "1262f17d-2c77-47e4-9c8e-1402636c639c",
   "metadata": {},
   "source": [
    "### tune the meta-model"
   ]
  },
  {
   "cell_type": "code",
   "execution_count": 132,
   "id": "56924fb9-3f2c-47d8-b253-0806f14082e5",
   "metadata": {},
   "outputs": [],
   "source": [
    "X_train = np.hstack([multi_class_val_pred_1.reshape(-1, 1), multi_class_val_pred_2.reshape(-1, 1), multi_class_val_pred_3, \n",
    "                     reg_val_pred_1.reshape(-1, 1), reg_val_pred_2])\n",
    "y_train = y_val\n",
    "\n",
    "X_test = np.hstack([multi_class_test_pred_1.reshape(-1, 1), multi_class_test_pred_2.reshape(-1, 1), multi_class_test_pred_3, \n",
    "                    reg_test_pred_1.reshape(-1, 1), reg_test_pred_2])"
   ]
  },
  {
   "cell_type": "code",
   "execution_count": 122,
   "id": "e16762c3-0ad2-4717-90d8-723f9209200a",
   "metadata": {},
   "outputs": [],
   "source": [
    "NFOLDS = 4\n",
    "kf = StratifiedKFold(n_splits=NFOLDS, shuffle=True, random_state=RS)\n",
    "\n",
    "scorer = make_scorer(balanced_accuracy_score, greater_is_better=True)  \n",
    "\n",
    "model = lgb.LGBMClassifier(class_weight='balanced', random_state=RS)\n",
    "\n",
    "parameters = {\n",
    "    'n_estimators': [250, 500, 750, 1000],\n",
    "    'max_depth': [2, 4, 6, 8],\n",
    "    'reg_alpha': [0.1, 0.5, 1],\n",
    "    'reg_lambda': [0.01, 0.05],\n",
    "    'learning_rate': [0.001, 0.01]\n",
    "}\n",
    "\n",
    "RSCV = RandomizedSearchCV(model, parameters, scoring=scorer, cv=kf, n_iter=333, verbose=1)"
   ]
  },
  {
   "cell_type": "code",
   "execution_count": 123,
   "id": "b071ac7c-fe2c-4c64-8898-287a9739d4d8",
   "metadata": {},
   "outputs": [
    {
     "name": "stdout",
     "output_type": "stream",
     "text": [
      "Fitting 4 folds for each of 192 candidates, totalling 768 fits\n"
     ]
    },
    {
     "data": {
      "text/html": [
       "<style>#sk-container-id-13 {color: black;background-color: white;}#sk-container-id-13 pre{padding: 0;}#sk-container-id-13 div.sk-toggleable {background-color: white;}#sk-container-id-13 label.sk-toggleable__label {cursor: pointer;display: block;width: 100%;margin-bottom: 0;padding: 0.3em;box-sizing: border-box;text-align: center;}#sk-container-id-13 label.sk-toggleable__label-arrow:before {content: \"▸\";float: left;margin-right: 0.25em;color: #696969;}#sk-container-id-13 label.sk-toggleable__label-arrow:hover:before {color: black;}#sk-container-id-13 div.sk-estimator:hover label.sk-toggleable__label-arrow:before {color: black;}#sk-container-id-13 div.sk-toggleable__content {max-height: 0;max-width: 0;overflow: hidden;text-align: left;background-color: #f0f8ff;}#sk-container-id-13 div.sk-toggleable__content pre {margin: 0.2em;color: black;border-radius: 0.25em;background-color: #f0f8ff;}#sk-container-id-13 input.sk-toggleable__control:checked~div.sk-toggleable__content {max-height: 200px;max-width: 100%;overflow: auto;}#sk-container-id-13 input.sk-toggleable__control:checked~label.sk-toggleable__label-arrow:before {content: \"▾\";}#sk-container-id-13 div.sk-estimator input.sk-toggleable__control:checked~label.sk-toggleable__label {background-color: #d4ebff;}#sk-container-id-13 div.sk-label input.sk-toggleable__control:checked~label.sk-toggleable__label {background-color: #d4ebff;}#sk-container-id-13 input.sk-hidden--visually {border: 0;clip: rect(1px 1px 1px 1px);clip: rect(1px, 1px, 1px, 1px);height: 1px;margin: -1px;overflow: hidden;padding: 0;position: absolute;width: 1px;}#sk-container-id-13 div.sk-estimator {font-family: monospace;background-color: #f0f8ff;border: 1px dotted black;border-radius: 0.25em;box-sizing: border-box;margin-bottom: 0.5em;}#sk-container-id-13 div.sk-estimator:hover {background-color: #d4ebff;}#sk-container-id-13 div.sk-parallel-item::after {content: \"\";width: 100%;border-bottom: 1px solid gray;flex-grow: 1;}#sk-container-id-13 div.sk-label:hover label.sk-toggleable__label {background-color: #d4ebff;}#sk-container-id-13 div.sk-serial::before {content: \"\";position: absolute;border-left: 1px solid gray;box-sizing: border-box;top: 0;bottom: 0;left: 50%;z-index: 0;}#sk-container-id-13 div.sk-serial {display: flex;flex-direction: column;align-items: center;background-color: white;padding-right: 0.2em;padding-left: 0.2em;position: relative;}#sk-container-id-13 div.sk-item {position: relative;z-index: 1;}#sk-container-id-13 div.sk-parallel {display: flex;align-items: stretch;justify-content: center;background-color: white;position: relative;}#sk-container-id-13 div.sk-item::before, #sk-container-id-13 div.sk-parallel-item::before {content: \"\";position: absolute;border-left: 1px solid gray;box-sizing: border-box;top: 0;bottom: 0;left: 50%;z-index: -1;}#sk-container-id-13 div.sk-parallel-item {display: flex;flex-direction: column;z-index: 1;position: relative;background-color: white;}#sk-container-id-13 div.sk-parallel-item:first-child::after {align-self: flex-end;width: 50%;}#sk-container-id-13 div.sk-parallel-item:last-child::after {align-self: flex-start;width: 50%;}#sk-container-id-13 div.sk-parallel-item:only-child::after {width: 0;}#sk-container-id-13 div.sk-dashed-wrapped {border: 1px dashed gray;margin: 0 0.4em 0.5em 0.4em;box-sizing: border-box;padding-bottom: 0.4em;background-color: white;}#sk-container-id-13 div.sk-label label {font-family: monospace;font-weight: bold;display: inline-block;line-height: 1.2em;}#sk-container-id-13 div.sk-label-container {text-align: center;}#sk-container-id-13 div.sk-container {/* jupyter's `normalize.less` sets `[hidden] { display: none; }` but bootstrap.min.css set `[hidden] { display: none !important; }` so we also need the `!important` here to be able to override the default hidden behavior on the sphinx rendered scikit-learn.org. See: https://github.com/scikit-learn/scikit-learn/issues/21755 */display: inline-block !important;position: relative;}#sk-container-id-13 div.sk-text-repr-fallback {display: none;}</style><div id=\"sk-container-id-13\" class=\"sk-top-container\"><div class=\"sk-text-repr-fallback\"><pre>RandomizedSearchCV(cv=StratifiedKFold(n_splits=4, random_state=42, shuffle=True),\n",
       "                   estimator=LGBMClassifier(class_weight=&#x27;balanced&#x27;,\n",
       "                                            random_state=42),\n",
       "                   n_iter=333,\n",
       "                   param_distributions={&#x27;learning_rate&#x27;: [0.001, 0.01],\n",
       "                                        &#x27;max_depth&#x27;: [2, 4, 6, 8],\n",
       "                                        &#x27;n_estimators&#x27;: [250, 500, 750, 1000],\n",
       "                                        &#x27;reg_alpha&#x27;: [0.1, 0.5, 1],\n",
       "                                        &#x27;reg_lambda&#x27;: [0.01, 0.05]},\n",
       "                   scoring=make_scorer(balanced_accuracy_score), verbose=1)</pre><b>In a Jupyter environment, please rerun this cell to show the HTML representation or trust the notebook. <br />On GitHub, the HTML representation is unable to render, please try loading this page with nbviewer.org.</b></div><div class=\"sk-container\" hidden><div class=\"sk-item sk-dashed-wrapped\"><div class=\"sk-label-container\"><div class=\"sk-label sk-toggleable\"><input class=\"sk-toggleable__control sk-hidden--visually\" id=\"sk-estimator-id-13\" type=\"checkbox\" ><label for=\"sk-estimator-id-13\" class=\"sk-toggleable__label sk-toggleable__label-arrow\">RandomizedSearchCV</label><div class=\"sk-toggleable__content\"><pre>RandomizedSearchCV(cv=StratifiedKFold(n_splits=4, random_state=42, shuffle=True),\n",
       "                   estimator=LGBMClassifier(class_weight=&#x27;balanced&#x27;,\n",
       "                                            random_state=42),\n",
       "                   n_iter=333,\n",
       "                   param_distributions={&#x27;learning_rate&#x27;: [0.001, 0.01],\n",
       "                                        &#x27;max_depth&#x27;: [2, 4, 6, 8],\n",
       "                                        &#x27;n_estimators&#x27;: [250, 500, 750, 1000],\n",
       "                                        &#x27;reg_alpha&#x27;: [0.1, 0.5, 1],\n",
       "                                        &#x27;reg_lambda&#x27;: [0.01, 0.05]},\n",
       "                   scoring=make_scorer(balanced_accuracy_score), verbose=1)</pre></div></div></div><div class=\"sk-parallel\"><div class=\"sk-parallel-item\"><div class=\"sk-item\"><div class=\"sk-label-container\"><div class=\"sk-label sk-toggleable\"><input class=\"sk-toggleable__control sk-hidden--visually\" id=\"sk-estimator-id-14\" type=\"checkbox\" ><label for=\"sk-estimator-id-14\" class=\"sk-toggleable__label sk-toggleable__label-arrow\">estimator: LGBMClassifier</label><div class=\"sk-toggleable__content\"><pre>LGBMClassifier(class_weight=&#x27;balanced&#x27;, random_state=42)</pre></div></div></div><div class=\"sk-serial\"><div class=\"sk-item\"><div class=\"sk-estimator sk-toggleable\"><input class=\"sk-toggleable__control sk-hidden--visually\" id=\"sk-estimator-id-15\" type=\"checkbox\" ><label for=\"sk-estimator-id-15\" class=\"sk-toggleable__label sk-toggleable__label-arrow\">LGBMClassifier</label><div class=\"sk-toggleable__content\"><pre>LGBMClassifier(class_weight=&#x27;balanced&#x27;, random_state=42)</pre></div></div></div></div></div></div></div></div></div></div>"
      ],
      "text/plain": [
       "RandomizedSearchCV(cv=StratifiedKFold(n_splits=4, random_state=42, shuffle=True),\n",
       "                   estimator=LGBMClassifier(class_weight='balanced',\n",
       "                                            random_state=42),\n",
       "                   n_iter=333,\n",
       "                   param_distributions={'learning_rate': [0.001, 0.01],\n",
       "                                        'max_depth': [2, 4, 6, 8],\n",
       "                                        'n_estimators': [250, 500, 750, 1000],\n",
       "                                        'reg_alpha': [0.1, 0.5, 1],\n",
       "                                        'reg_lambda': [0.01, 0.05]},\n",
       "                   scoring=make_scorer(balanced_accuracy_score), verbose=1)"
      ]
     },
     "execution_count": 123,
     "metadata": {},
     "output_type": "execute_result"
    }
   ],
   "source": [
    "RSCV.fit(X_train, y_train)"
   ]
  },
  {
   "cell_type": "code",
   "execution_count": 135,
   "id": "d475a3c8-1aa6-43af-ac6c-305e39944053",
   "metadata": {},
   "outputs": [
    {
     "name": "stdout",
     "output_type": "stream",
     "text": [
      "Train accuracy: 0.8406679154857623\n",
      "Test accuracy:  0.8334099788886823\n",
      "Report: \n",
      "              precision    recall  f1-score   support\n",
      "\n",
      "           0       0.94      0.82      0.88      5388\n",
      "           1       0.60      0.84      0.70      1689\n",
      "\n",
      "    accuracy                           0.83      7077\n",
      "   macro avg       0.77      0.83      0.79      7077\n",
      "weighted avg       0.86      0.83      0.84      7077\n",
      "\n",
      "Confusion matrix:\n",
      "[[4435  953]\n",
      " [ 264 1425]]\n"
     ]
    }
   ],
   "source": [
    "best_estimator = RSCV.best_estimator_\n",
    "\n",
    "y_pred = best_estimator.predict(X_test)\n",
    "print(f\"Train accuracy: {balanced_accuracy_score(y_train, best_estimator.predict(X_train))}\")\n",
    "get_report(y_test, y_pred)"
   ]
  },
  {
   "cell_type": "markdown",
   "id": "524e2a57-8c34-4fab-b717-933432f44d5f",
   "metadata": {},
   "source": [
    "### And stacking for the regression (aint working)"
   ]
  },
  {
   "cell_type": "code",
   "execution_count": 128,
   "id": "ef767f43-7805-46f8-8362-fc0dacc58b5e",
   "metadata": {},
   "outputs": [],
   "source": [
    "# def get_report(y_true, y_pred):\n",
    "#     print(\"Test MSE: \", mean_squared_error(y_true, y_pred))\n",
    "#     print(\"Test MAE: \", mean_absolute_error(y_true, y_pred))"
   ]
  },
  {
   "cell_type": "code",
   "execution_count": 126,
   "id": "b8dda44d-5f37-4bed-8906-a91fd8167822",
   "metadata": {},
   "outputs": [],
   "source": [
    "# train_data = pd.read_csv(\"train_data.csv\", index_col=0)\n",
    "# labels = pd.read_csv('../data/labels.csv', index_col=0)[['n_cited']]\n",
    "# df = labels.join(train_data)\n",
    "# df = df.iloc[1000:-100]  \n",
    "# X, y = df.iloc[:, 1:].values, df.n_cited.values.reshape(-1, 1)\n",
    "# X_train, X_test, y_train, y_test = train_test_split(X, y, test_size=0.15,random_state=RS, shuffle=True)\n",
    "\n",
    "# X_train, X_val, y_train, y_val = train_test_split(X_train, y_train, test_size=0.15, random_state=RS, shuffle=True)"
   ]
  },
  {
   "cell_type": "code",
   "execution_count": 127,
   "id": "ad98f538-53a8-45a9-b590-07eb689227ad",
   "metadata": {},
   "outputs": [
    {
     "data": {
      "text/html": [
       "<style>#sk-container-id-14 {color: black;background-color: white;}#sk-container-id-14 pre{padding: 0;}#sk-container-id-14 div.sk-toggleable {background-color: white;}#sk-container-id-14 label.sk-toggleable__label {cursor: pointer;display: block;width: 100%;margin-bottom: 0;padding: 0.3em;box-sizing: border-box;text-align: center;}#sk-container-id-14 label.sk-toggleable__label-arrow:before {content: \"▸\";float: left;margin-right: 0.25em;color: #696969;}#sk-container-id-14 label.sk-toggleable__label-arrow:hover:before {color: black;}#sk-container-id-14 div.sk-estimator:hover label.sk-toggleable__label-arrow:before {color: black;}#sk-container-id-14 div.sk-toggleable__content {max-height: 0;max-width: 0;overflow: hidden;text-align: left;background-color: #f0f8ff;}#sk-container-id-14 div.sk-toggleable__content pre {margin: 0.2em;color: black;border-radius: 0.25em;background-color: #f0f8ff;}#sk-container-id-14 input.sk-toggleable__control:checked~div.sk-toggleable__content {max-height: 200px;max-width: 100%;overflow: auto;}#sk-container-id-14 input.sk-toggleable__control:checked~label.sk-toggleable__label-arrow:before {content: \"▾\";}#sk-container-id-14 div.sk-estimator input.sk-toggleable__control:checked~label.sk-toggleable__label {background-color: #d4ebff;}#sk-container-id-14 div.sk-label input.sk-toggleable__control:checked~label.sk-toggleable__label {background-color: #d4ebff;}#sk-container-id-14 input.sk-hidden--visually {border: 0;clip: rect(1px 1px 1px 1px);clip: rect(1px, 1px, 1px, 1px);height: 1px;margin: -1px;overflow: hidden;padding: 0;position: absolute;width: 1px;}#sk-container-id-14 div.sk-estimator {font-family: monospace;background-color: #f0f8ff;border: 1px dotted black;border-radius: 0.25em;box-sizing: border-box;margin-bottom: 0.5em;}#sk-container-id-14 div.sk-estimator:hover {background-color: #d4ebff;}#sk-container-id-14 div.sk-parallel-item::after {content: \"\";width: 100%;border-bottom: 1px solid gray;flex-grow: 1;}#sk-container-id-14 div.sk-label:hover label.sk-toggleable__label {background-color: #d4ebff;}#sk-container-id-14 div.sk-serial::before {content: \"\";position: absolute;border-left: 1px solid gray;box-sizing: border-box;top: 0;bottom: 0;left: 50%;z-index: 0;}#sk-container-id-14 div.sk-serial {display: flex;flex-direction: column;align-items: center;background-color: white;padding-right: 0.2em;padding-left: 0.2em;position: relative;}#sk-container-id-14 div.sk-item {position: relative;z-index: 1;}#sk-container-id-14 div.sk-parallel {display: flex;align-items: stretch;justify-content: center;background-color: white;position: relative;}#sk-container-id-14 div.sk-item::before, #sk-container-id-14 div.sk-parallel-item::before {content: \"\";position: absolute;border-left: 1px solid gray;box-sizing: border-box;top: 0;bottom: 0;left: 50%;z-index: -1;}#sk-container-id-14 div.sk-parallel-item {display: flex;flex-direction: column;z-index: 1;position: relative;background-color: white;}#sk-container-id-14 div.sk-parallel-item:first-child::after {align-self: flex-end;width: 50%;}#sk-container-id-14 div.sk-parallel-item:last-child::after {align-self: flex-start;width: 50%;}#sk-container-id-14 div.sk-parallel-item:only-child::after {width: 0;}#sk-container-id-14 div.sk-dashed-wrapped {border: 1px dashed gray;margin: 0 0.4em 0.5em 0.4em;box-sizing: border-box;padding-bottom: 0.4em;background-color: white;}#sk-container-id-14 div.sk-label label {font-family: monospace;font-weight: bold;display: inline-block;line-height: 1.2em;}#sk-container-id-14 div.sk-label-container {text-align: center;}#sk-container-id-14 div.sk-container {/* jupyter's `normalize.less` sets `[hidden] { display: none; }` but bootstrap.min.css set `[hidden] { display: none !important; }` so we also need the `!important` here to be able to override the default hidden behavior on the sphinx rendered scikit-learn.org. See: https://github.com/scikit-learn/scikit-learn/issues/21755 */display: inline-block !important;position: relative;}#sk-container-id-14 div.sk-text-repr-fallback {display: none;}</style><div id=\"sk-container-id-14\" class=\"sk-top-container\"><div class=\"sk-text-repr-fallback\"><pre>LGBMRegressor(random_state=42)</pre><b>In a Jupyter environment, please rerun this cell to show the HTML representation or trust the notebook. <br />On GitHub, the HTML representation is unable to render, please try loading this page with nbviewer.org.</b></div><div class=\"sk-container\" hidden><div class=\"sk-item\"><div class=\"sk-estimator sk-toggleable\"><input class=\"sk-toggleable__control sk-hidden--visually\" id=\"sk-estimator-id-16\" type=\"checkbox\" checked><label for=\"sk-estimator-id-16\" class=\"sk-toggleable__label sk-toggleable__label-arrow\">LGBMRegressor</label><div class=\"sk-toggleable__content\"><pre>LGBMRegressor(random_state=42)</pre></div></div></div></div></div>"
      ],
      "text/plain": [
       "LGBMRegressor(random_state=42)"
      ]
     },
     "execution_count": 127,
     "metadata": {},
     "output_type": "execute_result"
    }
   ],
   "source": [
    "# meta_model = lgb.LGBMRegressor(random_state=RS)\n",
    "# meta_model.fit(X_train, y_train)"
   ]
  },
  {
   "cell_type": "code",
   "execution_count": 129,
   "id": "ae87b523-65f2-472e-9236-ff6d4c9fa32b",
   "metadata": {},
   "outputs": [
    {
     "name": "stdout",
     "output_type": "stream",
     "text": [
      "Train MSE:  12.138063086561969\n",
      "Train MAE:  1.836874358865718\n",
      "Test MSE:  28.02172330061619\n",
      "Test MAE:  2.413563477962705\n"
     ]
    }
   ],
   "source": [
    "# y_pred = meta_model.predict(X_test)\n",
    "# y_train_pred = meta_model.predict(X_train)\n",
    "# print(\"Train MSE: \", mean_squared_error(y_train, y_train_pred))\n",
    "# print(\"Train MAE: \", mean_absolute_error(y_train, y_train_pred))\n",
    "# get_report(y_test, y_pred)"
   ]
  },
  {
   "cell_type": "markdown",
   "id": "2fd2ed7e-8332-45fa-8ddd-1bffbb415d80",
   "metadata": {},
   "source": [
    "## 83.3 weighted accuracy, with 94 precision for 0 class and 84 recall for the 1 class are the final metrics to report"
   ]
  }
 ],
 "metadata": {
  "kernelspec": {
   "display_name": "Python 3 (ipykernel)",
   "language": "python",
   "name": "python3"
  },
  "language_info": {
   "codemirror_mode": {
    "name": "ipython",
    "version": 3
   },
   "file_extension": ".py",
   "mimetype": "text/x-python",
   "name": "python",
   "nbconvert_exporter": "python",
   "pygments_lexer": "ipython3",
   "version": "3.9.7"
  }
 },
 "nbformat": 4,
 "nbformat_minor": 5
}
