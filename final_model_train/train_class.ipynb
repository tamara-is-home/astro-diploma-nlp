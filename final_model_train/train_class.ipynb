{
 "cells": [
  {
   "cell_type": "markdown",
   "id": "0f565a1b-2e1f-4327-978b-212178b1e2f9",
   "metadata": {},
   "source": [
    "### In this notebook, I will assemble together all the created features and will train a classifier using classical algorithms. \n",
    "### For the NN approach see: https://colab.research.google.com/drive/1CJfc8wpm00y6uO7vjzTHuWA0DFZHnnQJ?usp=sharing"
   ]
  },
  {
   "cell_type": "code",
   "execution_count": 62,
   "id": "debb223e-cd5c-4624-a828-e9c9eed717cb",
   "metadata": {},
   "outputs": [],
   "source": [
    "import lightgbm as lgb\n",
    "import pandas as pd\n",
    "import numpy as np\n",
    "import matplotlib.pyplot as plt\n",
    "\n",
    "import seaborn as sns\n",
    "from sklearn.ensemble import RandomForestClassifier\n",
    "from imblearn.over_sampling import RandomOverSampler\n",
    "from sklearn.model_selection import train_test_split, GridSearchCV, RandomizedSearchCV, KFold, StratifiedKFold, ParameterGrid\n",
    "from sklearn.metrics import (make_scorer, mean_absolute_error, mean_squared_error, \n",
    "                             balanced_accuracy_score, classification_report, confusion_matrix) \n"
   ]
  },
  {
   "cell_type": "code",
   "execution_count": 63,
   "id": "c7a7654e-96ca-44c9-832e-c4a5f43ce5c0",
   "metadata": {},
   "outputs": [],
   "source": [
    "import warnings\n",
    "warnings.filterwarnings(\"ignore\")"
   ]
  },
  {
   "cell_type": "code",
   "execution_count": 85,
   "id": "c3b94934-5a0e-4f2b-94a7-69c1bf51d2be",
   "metadata": {},
   "outputs": [],
   "source": [
    "def get_report(y_true, y_pred):\n",
    "    print(\"Test accuracy: \", balanced_accuracy_score(y_true, y_pred))\n",
    "    print(\"Report: \")\n",
    "    print(classification_report(y_true, y_pred))\n",
    "    print(\"Confusion matrix:\")\n",
    "    print(confusion_matrix(y_true, y_pred))"
   ]
  },
  {
   "cell_type": "code",
   "execution_count": 65,
   "id": "f732f2c7-ebb6-46b9-960e-750eee9242a3",
   "metadata": {},
   "outputs": [],
   "source": [
    "RS = 42  # random state\n",
    "\n",
    "ros = RandomOverSampler(random_state=RS)"
   ]
  },
  {
   "cell_type": "code",
   "execution_count": 66,
   "id": "40868493-7967-485e-a8f5-e2786969d410",
   "metadata": {},
   "outputs": [],
   "source": [
    "df_features = pd.read_csv(\"../feature_eng/features.csv\", index_col=0)\n",
    "df_doc_vec = pd.read_csv(\"../doc2vec/doc_vectors.csv\", index_col=0)\n",
    "df_topics_vec = pd.read_csv('../topics/topics_vectors/topics_floret_128.csv', index_col=0)\n",
    "df_ner_vec = pd.read_csv(\"../ner/ent_vectors/ent_floret_128.csv\", index_col=0)\n",
    "labels = pd.read_csv('../data/labels.csv', index_col=0)[['citation_class']]"
   ]
  },
  {
   "cell_type": "code",
   "execution_count": 67,
   "id": "ceb59dd8-8c91-4306-b8a8-10f259649c0e",
   "metadata": {},
   "outputs": [],
   "source": [
    "doc_vec_rename = {c: f'doc_vec_{c}' for c in df_doc_vec.columns}\n",
    "topics_rename = {c: f'topics_{c}' for c in df_topics_vec.columns}\n",
    "ner_rename = {c: f'ner_{c}' for c in df_ner_vec.columns}"
   ]
  },
  {
   "cell_type": "code",
   "execution_count": 68,
   "id": "4058594d-cff8-4d97-9a45-e995c0bb0818",
   "metadata": {},
   "outputs": [],
   "source": [
    "df_doc_vec = df_doc_vec.rename(columns=doc_vec_rename)\n",
    "df_topics_vec = df_topics_vec.rename(columns=topics_rename)\n",
    "df_ner_vec = df_ner_vec.rename(columns=ner_rename)"
   ]
  },
  {
   "cell_type": "code",
   "execution_count": 69,
   "id": "6e9ec15d-e042-4d9f-8a2f-bc92e3140712",
   "metadata": {},
   "outputs": [],
   "source": [
    "df = labels.join(df_features.join(df_doc_vec).join(df_topics_vec).join(df_ner_vec))"
   ]
  },
  {
   "cell_type": "code",
   "execution_count": 70,
   "id": "94f8b155-db0c-466f-a08e-8c36ec1f4211",
   "metadata": {},
   "outputs": [
    {
     "data": {
      "text/html": [
       "<div>\n",
       "<style scoped>\n",
       "    .dataframe tbody tr th:only-of-type {\n",
       "        vertical-align: middle;\n",
       "    }\n",
       "\n",
       "    .dataframe tbody tr th {\n",
       "        vertical-align: top;\n",
       "    }\n",
       "\n",
       "    .dataframe thead th {\n",
       "        text-align: right;\n",
       "    }\n",
       "</style>\n",
       "<table border=\"1\" class=\"dataframe\">\n",
       "  <thead>\n",
       "    <tr style=\"text-align: right;\">\n",
       "      <th></th>\n",
       "      <th>citation_class</th>\n",
       "      <th>refs_count</th>\n",
       "      <th>telegram_len</th>\n",
       "      <th>month</th>\n",
       "      <th>month_citation_rate_to_global_ratio</th>\n",
       "      <th>year_citation_rate_to_global_ratio</th>\n",
       "      <th>author_all_time_citation_rate_to_global_ratio</th>\n",
       "      <th>author_year_citation_rate_to_global_ratio</th>\n",
       "      <th>author_month_citation_rate_to_global_ratio</th>\n",
       "      <th>author_activity_frac_year</th>\n",
       "      <th>...</th>\n",
       "      <th>ner_246</th>\n",
       "      <th>ner_247</th>\n",
       "      <th>ner_248</th>\n",
       "      <th>ner_249</th>\n",
       "      <th>ner_250</th>\n",
       "      <th>ner_251</th>\n",
       "      <th>ner_252</th>\n",
       "      <th>ner_253</th>\n",
       "      <th>ner_254</th>\n",
       "      <th>ner_255</th>\n",
       "    </tr>\n",
       "    <tr>\n",
       "      <th>telegram_index</th>\n",
       "      <th></th>\n",
       "      <th></th>\n",
       "      <th></th>\n",
       "      <th></th>\n",
       "      <th></th>\n",
       "      <th></th>\n",
       "      <th></th>\n",
       "      <th></th>\n",
       "      <th></th>\n",
       "      <th></th>\n",
       "      <th></th>\n",
       "      <th></th>\n",
       "      <th></th>\n",
       "      <th></th>\n",
       "      <th></th>\n",
       "      <th></th>\n",
       "      <th></th>\n",
       "      <th></th>\n",
       "      <th></th>\n",
       "      <th></th>\n",
       "      <th></th>\n",
       "    </tr>\n",
       "  </thead>\n",
       "  <tbody>\n",
       "    <tr>\n",
       "      <th>3_atel</th>\n",
       "      <td>0</td>\n",
       "      <td>0</td>\n",
       "      <td>1010</td>\n",
       "      <td>12</td>\n",
       "      <td>0.0</td>\n",
       "      <td>0.0</td>\n",
       "      <td>0.0</td>\n",
       "      <td>0.0</td>\n",
       "      <td>0.0</td>\n",
       "      <td>0.0</td>\n",
       "      <td>...</td>\n",
       "      <td>-1.665767</td>\n",
       "      <td>2.601700</td>\n",
       "      <td>-1.637177</td>\n",
       "      <td>-1.036830</td>\n",
       "      <td>0.364245</td>\n",
       "      <td>1.445063</td>\n",
       "      <td>0.833967</td>\n",
       "      <td>2.841267</td>\n",
       "      <td>-2.536283</td>\n",
       "      <td>0.211777</td>\n",
       "    </tr>\n",
       "    <tr>\n",
       "      <th>2_atel</th>\n",
       "      <td>0</td>\n",
       "      <td>0</td>\n",
       "      <td>907</td>\n",
       "      <td>12</td>\n",
       "      <td>0.0</td>\n",
       "      <td>0.0</td>\n",
       "      <td>0.0</td>\n",
       "      <td>0.0</td>\n",
       "      <td>0.0</td>\n",
       "      <td>1.0</td>\n",
       "      <td>...</td>\n",
       "      <td>-4.171000</td>\n",
       "      <td>0.963690</td>\n",
       "      <td>-0.135300</td>\n",
       "      <td>-1.626400</td>\n",
       "      <td>1.131600</td>\n",
       "      <td>0.922140</td>\n",
       "      <td>-0.832150</td>\n",
       "      <td>0.953610</td>\n",
       "      <td>-2.339500</td>\n",
       "      <td>4.451700</td>\n",
       "    </tr>\n",
       "    <tr>\n",
       "      <th>4_atel</th>\n",
       "      <td>0</td>\n",
       "      <td>0</td>\n",
       "      <td>3607</td>\n",
       "      <td>1</td>\n",
       "      <td>0.0</td>\n",
       "      <td>0.0</td>\n",
       "      <td>0.0</td>\n",
       "      <td>0.0</td>\n",
       "      <td>0.0</td>\n",
       "      <td>1.0</td>\n",
       "      <td>...</td>\n",
       "      <td>-4.171000</td>\n",
       "      <td>0.963690</td>\n",
       "      <td>-0.135300</td>\n",
       "      <td>-1.626400</td>\n",
       "      <td>1.131600</td>\n",
       "      <td>0.922140</td>\n",
       "      <td>-0.832150</td>\n",
       "      <td>0.953610</td>\n",
       "      <td>-2.339500</td>\n",
       "      <td>4.451700</td>\n",
       "    </tr>\n",
       "    <tr>\n",
       "      <th>5_atel</th>\n",
       "      <td>0</td>\n",
       "      <td>0</td>\n",
       "      <td>1509</td>\n",
       "      <td>1</td>\n",
       "      <td>0.0</td>\n",
       "      <td>0.0</td>\n",
       "      <td>0.0</td>\n",
       "      <td>0.0</td>\n",
       "      <td>0.0</td>\n",
       "      <td>1.0</td>\n",
       "      <td>...</td>\n",
       "      <td>-3.614550</td>\n",
       "      <td>0.216543</td>\n",
       "      <td>-0.777000</td>\n",
       "      <td>-1.012407</td>\n",
       "      <td>0.580325</td>\n",
       "      <td>0.903885</td>\n",
       "      <td>-0.527262</td>\n",
       "      <td>0.909035</td>\n",
       "      <td>-2.082050</td>\n",
       "      <td>2.950850</td>\n",
       "    </tr>\n",
       "    <tr>\n",
       "      <th>6_atel</th>\n",
       "      <td>0</td>\n",
       "      <td>0</td>\n",
       "      <td>427</td>\n",
       "      <td>1</td>\n",
       "      <td>0.0</td>\n",
       "      <td>0.0</td>\n",
       "      <td>0.0</td>\n",
       "      <td>0.0</td>\n",
       "      <td>0.0</td>\n",
       "      <td>1.0</td>\n",
       "      <td>...</td>\n",
       "      <td>-3.683900</td>\n",
       "      <td>0.738540</td>\n",
       "      <td>-1.723400</td>\n",
       "      <td>-0.424600</td>\n",
       "      <td>-0.223810</td>\n",
       "      <td>1.120200</td>\n",
       "      <td>-0.117950</td>\n",
       "      <td>2.520900</td>\n",
       "      <td>-2.457300</td>\n",
       "      <td>-0.342590</td>\n",
       "    </tr>\n",
       "  </tbody>\n",
       "</table>\n",
       "<p>5 rows × 659 columns</p>\n",
       "</div>"
      ],
      "text/plain": [
       "                citation_class  refs_count  telegram_len  month  \\\n",
       "telegram_index                                                    \n",
       "3_atel                       0           0          1010     12   \n",
       "2_atel                       0           0           907     12   \n",
       "4_atel                       0           0          3607      1   \n",
       "5_atel                       0           0          1509      1   \n",
       "6_atel                       0           0           427      1   \n",
       "\n",
       "                month_citation_rate_to_global_ratio  \\\n",
       "telegram_index                                        \n",
       "3_atel                                          0.0   \n",
       "2_atel                                          0.0   \n",
       "4_atel                                          0.0   \n",
       "5_atel                                          0.0   \n",
       "6_atel                                          0.0   \n",
       "\n",
       "                year_citation_rate_to_global_ratio  \\\n",
       "telegram_index                                       \n",
       "3_atel                                         0.0   \n",
       "2_atel                                         0.0   \n",
       "4_atel                                         0.0   \n",
       "5_atel                                         0.0   \n",
       "6_atel                                         0.0   \n",
       "\n",
       "                author_all_time_citation_rate_to_global_ratio  \\\n",
       "telegram_index                                                  \n",
       "3_atel                                                    0.0   \n",
       "2_atel                                                    0.0   \n",
       "4_atel                                                    0.0   \n",
       "5_atel                                                    0.0   \n",
       "6_atel                                                    0.0   \n",
       "\n",
       "                author_year_citation_rate_to_global_ratio  \\\n",
       "telegram_index                                              \n",
       "3_atel                                                0.0   \n",
       "2_atel                                                0.0   \n",
       "4_atel                                                0.0   \n",
       "5_atel                                                0.0   \n",
       "6_atel                                                0.0   \n",
       "\n",
       "                author_month_citation_rate_to_global_ratio  \\\n",
       "telegram_index                                               \n",
       "3_atel                                                 0.0   \n",
       "2_atel                                                 0.0   \n",
       "4_atel                                                 0.0   \n",
       "5_atel                                                 0.0   \n",
       "6_atel                                                 0.0   \n",
       "\n",
       "                author_activity_frac_year  ...   ner_246   ner_247   ner_248  \\\n",
       "telegram_index                             ...                                 \n",
       "3_atel                                0.0  ... -1.665767  2.601700 -1.637177   \n",
       "2_atel                                1.0  ... -4.171000  0.963690 -0.135300   \n",
       "4_atel                                1.0  ... -4.171000  0.963690 -0.135300   \n",
       "5_atel                                1.0  ... -3.614550  0.216543 -0.777000   \n",
       "6_atel                                1.0  ... -3.683900  0.738540 -1.723400   \n",
       "\n",
       "                 ner_249   ner_250   ner_251   ner_252   ner_253   ner_254  \\\n",
       "telegram_index                                                               \n",
       "3_atel         -1.036830  0.364245  1.445063  0.833967  2.841267 -2.536283   \n",
       "2_atel         -1.626400  1.131600  0.922140 -0.832150  0.953610 -2.339500   \n",
       "4_atel         -1.626400  1.131600  0.922140 -0.832150  0.953610 -2.339500   \n",
       "5_atel         -1.012407  0.580325  0.903885 -0.527262  0.909035 -2.082050   \n",
       "6_atel         -0.424600 -0.223810  1.120200 -0.117950  2.520900 -2.457300   \n",
       "\n",
       "                 ner_255  \n",
       "telegram_index            \n",
       "3_atel          0.211777  \n",
       "2_atel          4.451700  \n",
       "4_atel          4.451700  \n",
       "5_atel          2.950850  \n",
       "6_atel         -0.342590  \n",
       "\n",
       "[5 rows x 659 columns]"
      ]
     },
     "execution_count": 70,
     "metadata": {},
     "output_type": "execute_result"
    }
   ],
   "source": [
    "df.head()"
   ]
  },
  {
   "cell_type": "code",
   "execution_count": 71,
   "id": "fb470a64-f962-4334-8871-8ad138522fe9",
   "metadata": {},
   "outputs": [
    {
     "data": {
      "text/plain": [
       "(48279, 659)"
      ]
     },
     "execution_count": 71,
     "metadata": {},
     "output_type": "execute_result"
    }
   ],
   "source": [
    "df.shape"
   ]
  },
  {
   "cell_type": "code",
   "execution_count": 72,
   "id": "7073733e-d66e-4106-bf44-5d0c8f7b00dc",
   "metadata": {},
   "outputs": [],
   "source": [
    "df = df.iloc[1000:-100]  # throw away some of the first and some of the last activities"
   ]
  },
  {
   "cell_type": "code",
   "execution_count": 73,
   "id": "11f848d7-7664-4a7a-b9fe-67194879f92c",
   "metadata": {},
   "outputs": [
    {
     "data": {
      "text/plain": [
       "(47179, 659)"
      ]
     },
     "execution_count": 73,
     "metadata": {},
     "output_type": "execute_result"
    }
   ],
   "source": [
    "df.shape"
   ]
  },
  {
   "cell_type": "code",
   "execution_count": 74,
   "id": "984756c9-fd3c-4331-a643-4fd86e507763",
   "metadata": {},
   "outputs": [],
   "source": [
    "X, y = df.iloc[:, 1:].values, df.citation_class.values.reshape(-1, 1)"
   ]
  },
  {
   "cell_type": "markdown",
   "id": "eea11195-a755-4acc-9723-81896ed9c054",
   "metadata": {},
   "source": [
    "### Start with training LGBM and RF. Overfit on train and check the feature importances:"
   ]
  },
  {
   "cell_type": "code",
   "execution_count": 78,
   "id": "14efc7ff-4d30-4e15-93ef-1f85f63593f0",
   "metadata": {},
   "outputs": [],
   "source": [
    "X_train, X_test, y_train, y_test = train_test_split(X, y, test_size=0.15, stratify=y, random_state=RS, shuffle=True)"
   ]
  },
  {
   "cell_type": "code",
   "execution_count": 25,
   "id": "d76d51b0-3bc0-46f7-a544-3d916a670bc6",
   "metadata": {},
   "outputs": [
    {
     "data": {
      "text/html": [
       "<style>#sk-container-id-1 {color: black;background-color: white;}#sk-container-id-1 pre{padding: 0;}#sk-container-id-1 div.sk-toggleable {background-color: white;}#sk-container-id-1 label.sk-toggleable__label {cursor: pointer;display: block;width: 100%;margin-bottom: 0;padding: 0.3em;box-sizing: border-box;text-align: center;}#sk-container-id-1 label.sk-toggleable__label-arrow:before {content: \"▸\";float: left;margin-right: 0.25em;color: #696969;}#sk-container-id-1 label.sk-toggleable__label-arrow:hover:before {color: black;}#sk-container-id-1 div.sk-estimator:hover label.sk-toggleable__label-arrow:before {color: black;}#sk-container-id-1 div.sk-toggleable__content {max-height: 0;max-width: 0;overflow: hidden;text-align: left;background-color: #f0f8ff;}#sk-container-id-1 div.sk-toggleable__content pre {margin: 0.2em;color: black;border-radius: 0.25em;background-color: #f0f8ff;}#sk-container-id-1 input.sk-toggleable__control:checked~div.sk-toggleable__content {max-height: 200px;max-width: 100%;overflow: auto;}#sk-container-id-1 input.sk-toggleable__control:checked~label.sk-toggleable__label-arrow:before {content: \"▾\";}#sk-container-id-1 div.sk-estimator input.sk-toggleable__control:checked~label.sk-toggleable__label {background-color: #d4ebff;}#sk-container-id-1 div.sk-label input.sk-toggleable__control:checked~label.sk-toggleable__label {background-color: #d4ebff;}#sk-container-id-1 input.sk-hidden--visually {border: 0;clip: rect(1px 1px 1px 1px);clip: rect(1px, 1px, 1px, 1px);height: 1px;margin: -1px;overflow: hidden;padding: 0;position: absolute;width: 1px;}#sk-container-id-1 div.sk-estimator {font-family: monospace;background-color: #f0f8ff;border: 1px dotted black;border-radius: 0.25em;box-sizing: border-box;margin-bottom: 0.5em;}#sk-container-id-1 div.sk-estimator:hover {background-color: #d4ebff;}#sk-container-id-1 div.sk-parallel-item::after {content: \"\";width: 100%;border-bottom: 1px solid gray;flex-grow: 1;}#sk-container-id-1 div.sk-label:hover label.sk-toggleable__label {background-color: #d4ebff;}#sk-container-id-1 div.sk-serial::before {content: \"\";position: absolute;border-left: 1px solid gray;box-sizing: border-box;top: 0;bottom: 0;left: 50%;z-index: 0;}#sk-container-id-1 div.sk-serial {display: flex;flex-direction: column;align-items: center;background-color: white;padding-right: 0.2em;padding-left: 0.2em;position: relative;}#sk-container-id-1 div.sk-item {position: relative;z-index: 1;}#sk-container-id-1 div.sk-parallel {display: flex;align-items: stretch;justify-content: center;background-color: white;position: relative;}#sk-container-id-1 div.sk-item::before, #sk-container-id-1 div.sk-parallel-item::before {content: \"\";position: absolute;border-left: 1px solid gray;box-sizing: border-box;top: 0;bottom: 0;left: 50%;z-index: -1;}#sk-container-id-1 div.sk-parallel-item {display: flex;flex-direction: column;z-index: 1;position: relative;background-color: white;}#sk-container-id-1 div.sk-parallel-item:first-child::after {align-self: flex-end;width: 50%;}#sk-container-id-1 div.sk-parallel-item:last-child::after {align-self: flex-start;width: 50%;}#sk-container-id-1 div.sk-parallel-item:only-child::after {width: 0;}#sk-container-id-1 div.sk-dashed-wrapped {border: 1px dashed gray;margin: 0 0.4em 0.5em 0.4em;box-sizing: border-box;padding-bottom: 0.4em;background-color: white;}#sk-container-id-1 div.sk-label label {font-family: monospace;font-weight: bold;display: inline-block;line-height: 1.2em;}#sk-container-id-1 div.sk-label-container {text-align: center;}#sk-container-id-1 div.sk-container {/* jupyter's `normalize.less` sets `[hidden] { display: none; }` but bootstrap.min.css set `[hidden] { display: none !important; }` so we also need the `!important` here to be able to override the default hidden behavior on the sphinx rendered scikit-learn.org. See: https://github.com/scikit-learn/scikit-learn/issues/21755 */display: inline-block !important;position: relative;}#sk-container-id-1 div.sk-text-repr-fallback {display: none;}</style><div id=\"sk-container-id-1\" class=\"sk-top-container\"><div class=\"sk-text-repr-fallback\"><pre>LGBMClassifier(class_weight=&#x27;balanced&#x27;, random_state=42)</pre><b>In a Jupyter environment, please rerun this cell to show the HTML representation or trust the notebook. <br />On GitHub, the HTML representation is unable to render, please try loading this page with nbviewer.org.</b></div><div class=\"sk-container\" hidden><div class=\"sk-item\"><div class=\"sk-estimator sk-toggleable\"><input class=\"sk-toggleable__control sk-hidden--visually\" id=\"sk-estimator-id-1\" type=\"checkbox\" checked><label for=\"sk-estimator-id-1\" class=\"sk-toggleable__label sk-toggleable__label-arrow\">LGBMClassifier</label><div class=\"sk-toggleable__content\"><pre>LGBMClassifier(class_weight=&#x27;balanced&#x27;, random_state=42)</pre></div></div></div></div></div>"
      ],
      "text/plain": [
       "LGBMClassifier(class_weight='balanced', random_state=42)"
      ]
     },
     "execution_count": 25,
     "metadata": {},
     "output_type": "execute_result"
    }
   ],
   "source": [
    "gbm = lgb.LGBMClassifier(class_weight='balanced', random_state=RS)\n",
    "gbm.fit(X_train,y_train)"
   ]
  },
  {
   "cell_type": "code",
   "execution_count": 27,
   "id": "8b77c08d-3528-4cf1-aa31-0fa5c5d1a26c",
   "metadata": {},
   "outputs": [
    {
     "name": "stdout",
     "output_type": "stream",
     "text": [
      "Train accuracy: 0.8914066622356285\n",
      "Test accuracy:  0.6781549764120499\n",
      "Report: \n",
      "              precision    recall  f1-score   support\n",
      "\n",
      "           0       0.92      0.81      0.86      5388\n",
      "           1       0.42      0.56      0.48      1317\n",
      "           2       0.43      0.67      0.52       372\n",
      "\n",
      "    accuracy                           0.76      7077\n",
      "   macro avg       0.59      0.68      0.62      7077\n",
      "weighted avg       0.80      0.76      0.77      7077\n",
      "\n",
      "Confusion matrix:\n",
      "[[4375  895  118]\n",
      " [ 370  732  215]\n",
      " [  27   97  248]]\n"
     ]
    }
   ],
   "source": [
    "y_pred = gbm.predict(X_test)\n",
    "print(f\"Train accuracy: {balanced_accuracy_score(y_train, gbm.predict(X_train))}\")\n",
    "get_report(y_test, y_pred)  "
   ]
  },
  {
   "cell_type": "code",
   "execution_count": null,
   "id": "69c74d03-1aa5-47cf-965f-685058a694ac",
   "metadata": {},
   "outputs": [],
   "source": [
    "# lgmb is not overfitted enough, try RF"
   ]
  },
  {
   "cell_type": "code",
   "execution_count": 39,
   "id": "e4c724cd-1cf7-4d84-9bd3-02bb2ffe180c",
   "metadata": {},
   "outputs": [
    {
     "data": {
      "text/html": [
       "<style>#sk-container-id-4 {color: black;background-color: white;}#sk-container-id-4 pre{padding: 0;}#sk-container-id-4 div.sk-toggleable {background-color: white;}#sk-container-id-4 label.sk-toggleable__label {cursor: pointer;display: block;width: 100%;margin-bottom: 0;padding: 0.3em;box-sizing: border-box;text-align: center;}#sk-container-id-4 label.sk-toggleable__label-arrow:before {content: \"▸\";float: left;margin-right: 0.25em;color: #696969;}#sk-container-id-4 label.sk-toggleable__label-arrow:hover:before {color: black;}#sk-container-id-4 div.sk-estimator:hover label.sk-toggleable__label-arrow:before {color: black;}#sk-container-id-4 div.sk-toggleable__content {max-height: 0;max-width: 0;overflow: hidden;text-align: left;background-color: #f0f8ff;}#sk-container-id-4 div.sk-toggleable__content pre {margin: 0.2em;color: black;border-radius: 0.25em;background-color: #f0f8ff;}#sk-container-id-4 input.sk-toggleable__control:checked~div.sk-toggleable__content {max-height: 200px;max-width: 100%;overflow: auto;}#sk-container-id-4 input.sk-toggleable__control:checked~label.sk-toggleable__label-arrow:before {content: \"▾\";}#sk-container-id-4 div.sk-estimator input.sk-toggleable__control:checked~label.sk-toggleable__label {background-color: #d4ebff;}#sk-container-id-4 div.sk-label input.sk-toggleable__control:checked~label.sk-toggleable__label {background-color: #d4ebff;}#sk-container-id-4 input.sk-hidden--visually {border: 0;clip: rect(1px 1px 1px 1px);clip: rect(1px, 1px, 1px, 1px);height: 1px;margin: -1px;overflow: hidden;padding: 0;position: absolute;width: 1px;}#sk-container-id-4 div.sk-estimator {font-family: monospace;background-color: #f0f8ff;border: 1px dotted black;border-radius: 0.25em;box-sizing: border-box;margin-bottom: 0.5em;}#sk-container-id-4 div.sk-estimator:hover {background-color: #d4ebff;}#sk-container-id-4 div.sk-parallel-item::after {content: \"\";width: 100%;border-bottom: 1px solid gray;flex-grow: 1;}#sk-container-id-4 div.sk-label:hover label.sk-toggleable__label {background-color: #d4ebff;}#sk-container-id-4 div.sk-serial::before {content: \"\";position: absolute;border-left: 1px solid gray;box-sizing: border-box;top: 0;bottom: 0;left: 50%;z-index: 0;}#sk-container-id-4 div.sk-serial {display: flex;flex-direction: column;align-items: center;background-color: white;padding-right: 0.2em;padding-left: 0.2em;position: relative;}#sk-container-id-4 div.sk-item {position: relative;z-index: 1;}#sk-container-id-4 div.sk-parallel {display: flex;align-items: stretch;justify-content: center;background-color: white;position: relative;}#sk-container-id-4 div.sk-item::before, #sk-container-id-4 div.sk-parallel-item::before {content: \"\";position: absolute;border-left: 1px solid gray;box-sizing: border-box;top: 0;bottom: 0;left: 50%;z-index: -1;}#sk-container-id-4 div.sk-parallel-item {display: flex;flex-direction: column;z-index: 1;position: relative;background-color: white;}#sk-container-id-4 div.sk-parallel-item:first-child::after {align-self: flex-end;width: 50%;}#sk-container-id-4 div.sk-parallel-item:last-child::after {align-self: flex-start;width: 50%;}#sk-container-id-4 div.sk-parallel-item:only-child::after {width: 0;}#sk-container-id-4 div.sk-dashed-wrapped {border: 1px dashed gray;margin: 0 0.4em 0.5em 0.4em;box-sizing: border-box;padding-bottom: 0.4em;background-color: white;}#sk-container-id-4 div.sk-label label {font-family: monospace;font-weight: bold;display: inline-block;line-height: 1.2em;}#sk-container-id-4 div.sk-label-container {text-align: center;}#sk-container-id-4 div.sk-container {/* jupyter's `normalize.less` sets `[hidden] { display: none; }` but bootstrap.min.css set `[hidden] { display: none !important; }` so we also need the `!important` here to be able to override the default hidden behavior on the sphinx rendered scikit-learn.org. See: https://github.com/scikit-learn/scikit-learn/issues/21755 */display: inline-block !important;position: relative;}#sk-container-id-4 div.sk-text-repr-fallback {display: none;}</style><div id=\"sk-container-id-4\" class=\"sk-top-container\"><div class=\"sk-text-repr-fallback\"><pre>RandomForestClassifier(class_weight=&#x27;balanced&#x27;, random_state=42)</pre><b>In a Jupyter environment, please rerun this cell to show the HTML representation or trust the notebook. <br />On GitHub, the HTML representation is unable to render, please try loading this page with nbviewer.org.</b></div><div class=\"sk-container\" hidden><div class=\"sk-item\"><div class=\"sk-estimator sk-toggleable\"><input class=\"sk-toggleable__control sk-hidden--visually\" id=\"sk-estimator-id-4\" type=\"checkbox\" checked><label for=\"sk-estimator-id-4\" class=\"sk-toggleable__label sk-toggleable__label-arrow\">RandomForestClassifier</label><div class=\"sk-toggleable__content\"><pre>RandomForestClassifier(class_weight=&#x27;balanced&#x27;, random_state=42)</pre></div></div></div></div></div>"
      ],
      "text/plain": [
       "RandomForestClassifier(class_weight='balanced', random_state=42)"
      ]
     },
     "execution_count": 39,
     "metadata": {},
     "output_type": "execute_result"
    }
   ],
   "source": [
    "rf = RandomForestClassifier(class_weight='balanced', random_state=RS)\n",
    "rf.fit(X_train,y_train)"
   ]
  },
  {
   "cell_type": "code",
   "execution_count": 40,
   "id": "fd8c7480-0ffa-4a9d-9c9b-8ee454a52bed",
   "metadata": {},
   "outputs": [
    {
     "name": "stdout",
     "output_type": "stream",
     "text": [
      "Train accuracy: 0.9999553112570944\n",
      "Test accuracy:  0.4942589613781104\n",
      "Report: \n",
      "              precision    recall  f1-score   support\n",
      "\n",
      "           0       0.82      0.98      0.89      5388\n",
      "           1       0.62      0.22      0.33      1317\n",
      "           2       0.60      0.28      0.38       372\n",
      "\n",
      "    accuracy                           0.80      7077\n",
      "   macro avg       0.68      0.49      0.53      7077\n",
      "weighted avg       0.77      0.80      0.76      7077\n",
      "\n",
      "Confusion matrix:\n",
      "[[5276   91   21]\n",
      " [ 974  295   48]\n",
      " [ 179   89  104]]\n"
     ]
    }
   ],
   "source": [
    "y_pred = rf.predict(X_test)\n",
    "print(f\"Train accuracy: {balanced_accuracy_score(y_train, rf.predict(X_train))}\")\n",
    "get_report(y_test, y_pred)"
   ]
  },
  {
   "cell_type": "code",
   "execution_count": 41,
   "id": "9ef675ed-ff26-4305-ac41-38ce7103a1fe",
   "metadata": {},
   "outputs": [],
   "source": [
    "# that's an overfit! check the importances:"
   ]
  },
  {
   "cell_type": "code",
   "execution_count": 42,
   "id": "34cf1f70-adce-492c-bd4c-59f2acec5971",
   "metadata": {},
   "outputs": [
    {
     "data": {
      "image/png": "[encoded data removed]",
      "text/plain": [
       "<Figure size 2880x1440 with 1 Axes>"
      ]
     },
     "metadata": {
      "needs_background": "light"
     },
     "output_type": "display_data"
    }
   ],
   "source": [
    "feature_imp = pd.DataFrame({'Value': rf.feature_importances_, 'Feature': df.iloc[:, 1:].columns})\n",
    "\n",
    "plt.figure(figsize=(40, 20))\n",
    "sns.barplot(x=\"Value\", y=\"Feature\", data=feature_imp.sort_values(by=\"Value\", \n",
    "                                                        ascending=False)[0:15])\n",
    "plt.title('RF Features (avg over folds)')\n",
    "plt.show()"
   ]
  },
  {
   "cell_type": "markdown",
   "id": "f393ae00-fcfd-4d33-96bc-c398d3da12ac",
   "metadata": {},
   "source": [
    "### Try tune RF first (with oversampling and with balanced weights)"
   ]
  },
  {
   "cell_type": "code",
   "execution_count": 50,
   "id": "5027c2db-616b-40a9-b705-96b99931bf15",
   "metadata": {},
   "outputs": [],
   "source": [
    "# oversampling first\n",
    "X_train, X_test, y_train, y_test = train_test_split(X, y, test_size=0.15, stratify=y, random_state=RS)\n",
    "X_train, y_train = ros.fit_resample(X_train, y_train)"
   ]
  },
  {
   "cell_type": "code",
   "execution_count": 51,
   "id": "23a277fc-c9dc-4209-abd0-f54e0710b9fa",
   "metadata": {},
   "outputs": [],
   "source": [
    "NFOLDS = 4\n",
    "kf = StratifiedKFold(n_splits=NFOLDS, shuffle=True, random_state=RS)"
   ]
  },
  {
   "cell_type": "code",
   "execution_count": 52,
   "id": "7c3bf4de-3148-4d1d-a9ce-7b921ca8f038",
   "metadata": {},
   "outputs": [],
   "source": [
    "scorer = make_scorer(balanced_accuracy_score, greater_is_better=True)  "
   ]
  },
  {
   "cell_type": "code",
   "execution_count": 53,
   "id": "47de95bb-5185-4f3a-8713-c2ff88d3df93",
   "metadata": {},
   "outputs": [],
   "source": [
    "model =  RandomForestClassifier(random_state=RS)"
   ]
  },
  {
   "cell_type": "code",
   "execution_count": 57,
   "id": "b0cd7136-8876-4ade-b8a6-b2fdc49c1665",
   "metadata": {},
   "outputs": [],
   "source": [
    "parameters ={\n",
    "    'max_depth': [3, 5, 7, 10, 70, None],\n",
    "    'n_estimators': [200, 400, 600, 800, 1000]\n",
    "}"
   ]
  },
  {
   "cell_type": "code",
   "execution_count": 62,
   "id": "f924b15f-c398-4aeb-bef2-0d3f4efd18a4",
   "metadata": {},
   "outputs": [],
   "source": [
    "RSCV = RandomizedSearchCV(model, parameters, scoring=scorer, cv=kf, n_iter=333, verbose=3)"
   ]
  },
  {
   "cell_type": "code",
   "execution_count": 63,
   "id": "a4fc44f6-47dc-4536-afc7-fa1f975493d4",
   "metadata": {
    "collapsed": true,
    "jupyter": {
     "outputs_hidden": true
    },
    "tags": []
   },
   "outputs": [
    {
     "name": "stdout",
     "output_type": "stream",
     "text": [
      "Fitting 4 folds for each of 30 candidates, totalling 120 fits\n",
      "[CV 1/4] END .....max_depth=3, n_estimators=200;, score=0.611 total time= 1.4min\n",
      "[CV 2/4] END .....max_depth=3, n_estimators=200;, score=0.611 total time= 1.3min\n",
      "[CV 3/4] END .....max_depth=3, n_estimators=200;, score=0.612 total time= 1.4min\n",
      "[CV 4/4] END .....max_depth=3, n_estimators=200;, score=0.611 total time= 1.4min\n",
      "[CV 1/4] END .....max_depth=3, n_estimators=400;, score=0.611 total time= 2.8min\n",
      "[CV 2/4] END .....max_depth=3, n_estimators=400;, score=0.611 total time= 2.8min\n",
      "[CV 3/4] END .....max_depth=3, n_estimators=400;, score=0.611 total time= 2.8min\n",
      "[CV 4/4] END .....max_depth=3, n_estimators=400;, score=0.611 total time= 3.0min\n",
      "[CV 1/4] END .....max_depth=3, n_estimators=600;, score=0.610 total time= 4.6min\n",
      "[CV 2/4] END .....max_depth=3, n_estimators=600;, score=0.611 total time= 4.6min\n",
      "[CV 3/4] END .....max_depth=3, n_estimators=600;, score=0.611 total time= 4.6min\n",
      "[CV 4/4] END .....max_depth=3, n_estimators=600;, score=0.610 total time= 4.6min\n",
      "[CV 1/4] END .....max_depth=3, n_estimators=800;, score=0.611 total time= 5.3min\n",
      "[CV 2/4] END .....max_depth=3, n_estimators=800;, score=0.612 total time= 5.3min\n",
      "[CV 3/4] END .....max_depth=3, n_estimators=800;, score=0.612 total time= 5.3min\n",
      "[CV 4/4] END .....max_depth=3, n_estimators=800;, score=0.611 total time= 5.3min\n",
      "[CV 1/4] END ....max_depth=3, n_estimators=1000;, score=0.611 total time= 6.6min\n",
      "[CV 2/4] END ....max_depth=3, n_estimators=1000;, score=0.611 total time= 6.6min\n",
      "[CV 3/4] END ....max_depth=3, n_estimators=1000;, score=0.612 total time= 6.7min\n",
      "[CV 4/4] END ....max_depth=3, n_estimators=1000;, score=0.611 total time= 6.7min\n",
      "[CV 1/4] END .....max_depth=5, n_estimators=200;, score=0.634 total time= 2.1min\n",
      "[CV 2/4] END .....max_depth=5, n_estimators=200;, score=0.634 total time= 2.1min\n",
      "[CV 3/4] END .....max_depth=5, n_estimators=200;, score=0.636 total time= 2.1min\n",
      "[CV 4/4] END .....max_depth=5, n_estimators=200;, score=0.631 total time= 2.0min\n",
      "[CV 1/4] END .....max_depth=5, n_estimators=400;, score=0.632 total time= 4.2min\n",
      "[CV 2/4] END .....max_depth=5, n_estimators=400;, score=0.633 total time= 4.2min\n",
      "[CV 3/4] END .....max_depth=5, n_estimators=400;, score=0.633 total time= 4.1min\n",
      "[CV 4/4] END .....max_depth=5, n_estimators=400;, score=0.631 total time= 4.1min\n",
      "[CV 1/4] END .....max_depth=5, n_estimators=600;, score=0.632 total time= 6.1min\n",
      "[CV 2/4] END .....max_depth=5, n_estimators=600;, score=0.632 total time= 6.2min\n",
      "[CV 3/4] END .....max_depth=5, n_estimators=600;, score=0.633 total time= 6.2min\n",
      "[CV 4/4] END .....max_depth=5, n_estimators=600;, score=0.630 total time= 6.2min\n",
      "[CV 1/4] END .....max_depth=5, n_estimators=800;, score=0.633 total time= 7.1min\n",
      "[CV 2/4] END .....max_depth=5, n_estimators=800;, score=0.632 total time= 5.8min\n",
      "[CV 3/4] END .....max_depth=5, n_estimators=800;, score=0.634 total time= 5.8min\n",
      "[CV 4/4] END .....max_depth=5, n_estimators=800;, score=0.631 total time= 5.8min\n",
      "[CV 1/4] END ....max_depth=5, n_estimators=1000;, score=0.633 total time= 7.2min\n",
      "[CV 2/4] END ....max_depth=5, n_estimators=1000;, score=0.632 total time= 8.4min\n",
      "[CV 3/4] END ....max_depth=5, n_estimators=1000;, score=0.634 total time=10.7min\n",
      "[CV 4/4] END ....max_depth=5, n_estimators=1000;, score=0.630 total time=10.3min\n",
      "[CV 1/4] END .....max_depth=7, n_estimators=200;, score=0.681 total time= 2.8min\n",
      "[CV 2/4] END .....max_depth=7, n_estimators=200;, score=0.675 total time= 2.8min\n",
      "[CV 3/4] END .....max_depth=7, n_estimators=200;, score=0.679 total time= 2.8min\n",
      "[CV 4/4] END .....max_depth=7, n_estimators=200;, score=0.678 total time= 2.8min\n",
      "[CV 1/4] END .....max_depth=7, n_estimators=400;, score=0.681 total time= 5.7min\n",
      "[CV 2/4] END .....max_depth=7, n_estimators=400;, score=0.674 total time= 5.7min\n",
      "[CV 3/4] END .....max_depth=7, n_estimators=400;, score=0.679 total time= 5.8min\n",
      "[CV 4/4] END .....max_depth=7, n_estimators=400;, score=0.676 total time= 5.9min\n",
      "[CV 1/4] END .....max_depth=7, n_estimators=600;, score=0.681 total time= 8.6min\n",
      "[CV 2/4] END .....max_depth=7, n_estimators=600;, score=0.676 total time= 8.4min\n",
      "[CV 3/4] END .....max_depth=7, n_estimators=600;, score=0.680 total time= 8.5min\n",
      "[CV 4/4] END .....max_depth=7, n_estimators=600;, score=0.675 total time= 8.2min\n",
      "[CV 1/4] END .....max_depth=7, n_estimators=800;, score=0.682 total time=11.3min\n",
      "[CV 2/4] END .....max_depth=7, n_estimators=800;, score=0.675 total time=11.3min\n",
      "[CV 3/4] END .....max_depth=7, n_estimators=800;, score=0.679 total time=11.3min\n",
      "[CV 4/4] END .....max_depth=7, n_estimators=800;, score=0.676 total time=11.1min\n",
      "[CV 1/4] END ....max_depth=7, n_estimators=1000;, score=0.681 total time=14.2min\n",
      "[CV 2/4] END ....max_depth=7, n_estimators=1000;, score=0.675 total time=14.2min\n",
      "[CV 3/4] END ....max_depth=7, n_estimators=1000;, score=0.679 total time=14.4min\n",
      "[CV 4/4] END ....max_depth=7, n_estimators=1000;, score=0.676 total time=14.3min\n",
      "[CV 1/4] END ....max_depth=10, n_estimators=200;, score=0.807 total time= 3.8min\n",
      "[CV 2/4] END ....max_depth=10, n_estimators=200;, score=0.805 total time= 3.8min\n",
      "[CV 3/4] END ....max_depth=10, n_estimators=200;, score=0.812 total time= 3.8min\n",
      "[CV 4/4] END ....max_depth=10, n_estimators=200;, score=0.804 total time= 3.8min\n",
      "[CV 1/4] END ....max_depth=10, n_estimators=400;, score=0.806 total time= 7.6min\n",
      "[CV 2/4] END ....max_depth=10, n_estimators=400;, score=0.803 total time= 7.7min\n",
      "[CV 3/4] END ....max_depth=10, n_estimators=400;, score=0.812 total time= 7.8min\n",
      "[CV 4/4] END ....max_depth=10, n_estimators=400;, score=0.807 total time= 7.6min\n",
      "[CV 1/4] END ....max_depth=10, n_estimators=600;, score=0.808 total time=11.2min\n",
      "[CV 2/4] END ....max_depth=10, n_estimators=600;, score=0.805 total time=11.1min\n",
      "[CV 3/4] END ....max_depth=10, n_estimators=600;, score=0.812 total time=11.1min\n",
      "[CV 4/4] END ....max_depth=10, n_estimators=600;, score=0.807 total time=11.2min\n",
      "[CV 1/4] END ....max_depth=10, n_estimators=800;, score=0.807 total time=14.9min\n",
      "[CV 2/4] END ....max_depth=10, n_estimators=800;, score=0.806 total time=14.8min\n",
      "[CV 3/4] END ....max_depth=10, n_estimators=800;, score=0.813 total time=14.9min\n",
      "[CV 4/4] END ....max_depth=10, n_estimators=800;, score=0.807 total time=14.8min\n",
      "[CV 1/4] END ...max_depth=10, n_estimators=1000;, score=0.808 total time=18.7min\n",
      "[CV 2/4] END ...max_depth=10, n_estimators=1000;, score=0.806 total time=18.4min\n",
      "[CV 3/4] END ...max_depth=10, n_estimators=1000;, score=0.812 total time=18.4min\n",
      "[CV 4/4] END ...max_depth=10, n_estimators=1000;, score=0.807 total time=18.6min\n",
      "[CV 1/4] END ....max_depth=70, n_estimators=200;, score=0.970 total time= 6.2min\n",
      "[CV 2/4] END ....max_depth=70, n_estimators=200;, score=0.969 total time= 6.1min\n",
      "[CV 3/4] END ....max_depth=70, n_estimators=200;, score=0.969 total time= 6.2min\n",
      "[CV 4/4] END ....max_depth=70, n_estimators=200;, score=0.968 total time= 6.1min\n",
      "[CV 1/4] END ....max_depth=70, n_estimators=400;, score=0.970 total time=12.4min\n",
      "[CV 2/4] END ....max_depth=70, n_estimators=400;, score=0.969 total time=12.4min\n",
      "[CV 3/4] END ....max_depth=70, n_estimators=400;, score=0.969 total time=12.5min\n",
      "[CV 4/4] END ....max_depth=70, n_estimators=400;, score=0.968 total time=12.4min\n",
      "[CV 1/4] END ....max_depth=70, n_estimators=600;, score=0.970 total time=18.6min\n",
      "[CV 2/4] END ....max_depth=70, n_estimators=600;, score=0.970 total time=18.7min\n",
      "[CV 3/4] END ....max_depth=70, n_estimators=600;, score=0.970 total time=18.8min\n",
      "[CV 4/4] END ....max_depth=70, n_estimators=600;, score=0.968 total time=18.6min\n",
      "[CV 1/4] END ....max_depth=70, n_estimators=800;, score=0.970 total time=24.9min\n",
      "[CV 2/4] END ....max_depth=70, n_estimators=800;, score=0.970 total time=15.4min\n",
      "[CV 3/4] END ....max_depth=70, n_estimators=800;, score=0.969 total time=15.5min\n",
      "[CV 4/4] END ....max_depth=70, n_estimators=800;, score=0.968 total time=15.5min\n",
      "[CV 1/4] END ...max_depth=70, n_estimators=1000;, score=0.971 total time=19.3min\n",
      "[CV 2/4] END ...max_depth=70, n_estimators=1000;, score=0.970 total time=19.3min\n",
      "[CV 3/4] END ...max_depth=70, n_estimators=1000;, score=0.969 total time=19.4min\n",
      "[CV 4/4] END ...max_depth=70, n_estimators=1000;, score=0.968 total time=19.5min\n",
      "[CV 1/4] END ..max_depth=None, n_estimators=200;, score=0.970 total time= 3.9min\n",
      "[CV 2/4] END ..max_depth=None, n_estimators=200;, score=0.969 total time= 3.9min\n",
      "[CV 3/4] END ..max_depth=None, n_estimators=200;, score=0.969 total time= 3.9min\n",
      "[CV 4/4] END ..max_depth=None, n_estimators=200;, score=0.968 total time= 3.9min\n",
      "[CV 1/4] END ..max_depth=None, n_estimators=400;, score=0.970 total time= 7.8min\n",
      "[CV 2/4] END ..max_depth=None, n_estimators=400;, score=0.970 total time= 7.8min\n",
      "[CV 3/4] END ..max_depth=None, n_estimators=400;, score=0.969 total time= 8.5min\n",
      "[CV 4/4] END ..max_depth=None, n_estimators=400;, score=0.968 total time= 8.5min\n",
      "[CV 1/4] END ..max_depth=None, n_estimators=600;, score=0.970 total time=15.6min\n",
      "[CV 2/4] END ..max_depth=None, n_estimators=600;, score=0.970 total time=13.7min\n",
      "[CV 3/4] END ..max_depth=None, n_estimators=600;, score=0.970 total time=11.7min\n",
      "[CV 4/4] END ..max_depth=None, n_estimators=600;, score=0.968 total time=11.6min\n",
      "[CV 1/4] END ..max_depth=None, n_estimators=800;, score=0.970 total time=16.5min\n",
      "[CV 2/4] END ..max_depth=None, n_estimators=800;, score=0.970 total time=16.5min\n",
      "[CV 3/4] END ..max_depth=None, n_estimators=800;, score=0.969 total time=15.6min\n",
      "[CV 4/4] END ..max_depth=None, n_estimators=800;, score=0.968 total time=15.0min\n",
      "[CV 1/4] END .max_depth=None, n_estimators=1000;, score=0.971 total time=18.4min\n",
      "[CV 2/4] END .max_depth=None, n_estimators=1000;, score=0.969 total time=18.3min\n",
      "[CV 3/4] END .max_depth=None, n_estimators=1000;, score=0.969 total time=18.6min\n",
      "[CV 4/4] END .max_depth=None, n_estimators=1000;, score=0.968 total time=20.9min\n"
     ]
    },
    {
     "data": {
      "text/html": [
       "<style>#sk-container-id-5 {color: black;background-color: white;}#sk-container-id-5 pre{padding: 0;}#sk-container-id-5 div.sk-toggleable {background-color: white;}#sk-container-id-5 label.sk-toggleable__label {cursor: pointer;display: block;width: 100%;margin-bottom: 0;padding: 0.3em;box-sizing: border-box;text-align: center;}#sk-container-id-5 label.sk-toggleable__label-arrow:before {content: \"▸\";float: left;margin-right: 0.25em;color: #696969;}#sk-container-id-5 label.sk-toggleable__label-arrow:hover:before {color: black;}#sk-container-id-5 div.sk-estimator:hover label.sk-toggleable__label-arrow:before {color: black;}#sk-container-id-5 div.sk-toggleable__content {max-height: 0;max-width: 0;overflow: hidden;text-align: left;background-color: #f0f8ff;}#sk-container-id-5 div.sk-toggleable__content pre {margin: 0.2em;color: black;border-radius: 0.25em;background-color: #f0f8ff;}#sk-container-id-5 input.sk-toggleable__control:checked~div.sk-toggleable__content {max-height: 200px;max-width: 100%;overflow: auto;}#sk-container-id-5 input.sk-toggleable__control:checked~label.sk-toggleable__label-arrow:before {content: \"▾\";}#sk-container-id-5 div.sk-estimator input.sk-toggleable__control:checked~label.sk-toggleable__label {background-color: #d4ebff;}#sk-container-id-5 div.sk-label input.sk-toggleable__control:checked~label.sk-toggleable__label {background-color: #d4ebff;}#sk-container-id-5 input.sk-hidden--visually {border: 0;clip: rect(1px 1px 1px 1px);clip: rect(1px, 1px, 1px, 1px);height: 1px;margin: -1px;overflow: hidden;padding: 0;position: absolute;width: 1px;}#sk-container-id-5 div.sk-estimator {font-family: monospace;background-color: #f0f8ff;border: 1px dotted black;border-radius: 0.25em;box-sizing: border-box;margin-bottom: 0.5em;}#sk-container-id-5 div.sk-estimator:hover {background-color: #d4ebff;}#sk-container-id-5 div.sk-parallel-item::after {content: \"\";width: 100%;border-bottom: 1px solid gray;flex-grow: 1;}#sk-container-id-5 div.sk-label:hover label.sk-toggleable__label {background-color: #d4ebff;}#sk-container-id-5 div.sk-serial::before {content: \"\";position: absolute;border-left: 1px solid gray;box-sizing: border-box;top: 0;bottom: 0;left: 50%;z-index: 0;}#sk-container-id-5 div.sk-serial {display: flex;flex-direction: column;align-items: center;background-color: white;padding-right: 0.2em;padding-left: 0.2em;position: relative;}#sk-container-id-5 div.sk-item {position: relative;z-index: 1;}#sk-container-id-5 div.sk-parallel {display: flex;align-items: stretch;justify-content: center;background-color: white;position: relative;}#sk-container-id-5 div.sk-item::before, #sk-container-id-5 div.sk-parallel-item::before {content: \"\";position: absolute;border-left: 1px solid gray;box-sizing: border-box;top: 0;bottom: 0;left: 50%;z-index: -1;}#sk-container-id-5 div.sk-parallel-item {display: flex;flex-direction: column;z-index: 1;position: relative;background-color: white;}#sk-container-id-5 div.sk-parallel-item:first-child::after {align-self: flex-end;width: 50%;}#sk-container-id-5 div.sk-parallel-item:last-child::after {align-self: flex-start;width: 50%;}#sk-container-id-5 div.sk-parallel-item:only-child::after {width: 0;}#sk-container-id-5 div.sk-dashed-wrapped {border: 1px dashed gray;margin: 0 0.4em 0.5em 0.4em;box-sizing: border-box;padding-bottom: 0.4em;background-color: white;}#sk-container-id-5 div.sk-label label {font-family: monospace;font-weight: bold;display: inline-block;line-height: 1.2em;}#sk-container-id-5 div.sk-label-container {text-align: center;}#sk-container-id-5 div.sk-container {/* jupyter's `normalize.less` sets `[hidden] { display: none; }` but bootstrap.min.css set `[hidden] { display: none !important; }` so we also need the `!important` here to be able to override the default hidden behavior on the sphinx rendered scikit-learn.org. See: https://github.com/scikit-learn/scikit-learn/issues/21755 */display: inline-block !important;position: relative;}#sk-container-id-5 div.sk-text-repr-fallback {display: none;}</style><div id=\"sk-container-id-5\" class=\"sk-top-container\"><div class=\"sk-text-repr-fallback\"><pre>RandomizedSearchCV(cv=StratifiedKFold(n_splits=4, random_state=42, shuffle=True),\n",
       "                   estimator=RandomForestClassifier(class_weight=&#x27;balanced&#x27;,\n",
       "                                                    random_state=42),\n",
       "                   n_iter=333,\n",
       "                   param_distributions={&#x27;max_depth&#x27;: [3, 5, 7, 10, 70, None],\n",
       "                                        &#x27;n_estimators&#x27;: [200, 400, 600, 800,\n",
       "                                                         1000]},\n",
       "                   scoring=make_scorer(balanced_accuracy_score), verbose=3)</pre><b>In a Jupyter environment, please rerun this cell to show the HTML representation or trust the notebook. <br />On GitHub, the HTML representation is unable to render, please try loading this page with nbviewer.org.</b></div><div class=\"sk-container\" hidden><div class=\"sk-item sk-dashed-wrapped\"><div class=\"sk-label-container\"><div class=\"sk-label sk-toggleable\"><input class=\"sk-toggleable__control sk-hidden--visually\" id=\"sk-estimator-id-5\" type=\"checkbox\" ><label for=\"sk-estimator-id-5\" class=\"sk-toggleable__label sk-toggleable__label-arrow\">RandomizedSearchCV</label><div class=\"sk-toggleable__content\"><pre>RandomizedSearchCV(cv=StratifiedKFold(n_splits=4, random_state=42, shuffle=True),\n",
       "                   estimator=RandomForestClassifier(class_weight=&#x27;balanced&#x27;,\n",
       "                                                    random_state=42),\n",
       "                   n_iter=333,\n",
       "                   param_distributions={&#x27;max_depth&#x27;: [3, 5, 7, 10, 70, None],\n",
       "                                        &#x27;n_estimators&#x27;: [200, 400, 600, 800,\n",
       "                                                         1000]},\n",
       "                   scoring=make_scorer(balanced_accuracy_score), verbose=3)</pre></div></div></div><div class=\"sk-parallel\"><div class=\"sk-parallel-item\"><div class=\"sk-item\"><div class=\"sk-label-container\"><div class=\"sk-label sk-toggleable\"><input class=\"sk-toggleable__control sk-hidden--visually\" id=\"sk-estimator-id-6\" type=\"checkbox\" ><label for=\"sk-estimator-id-6\" class=\"sk-toggleable__label sk-toggleable__label-arrow\">estimator: RandomForestClassifier</label><div class=\"sk-toggleable__content\"><pre>RandomForestClassifier(class_weight=&#x27;balanced&#x27;, random_state=42)</pre></div></div></div><div class=\"sk-serial\"><div class=\"sk-item\"><div class=\"sk-estimator sk-toggleable\"><input class=\"sk-toggleable__control sk-hidden--visually\" id=\"sk-estimator-id-7\" type=\"checkbox\" ><label for=\"sk-estimator-id-7\" class=\"sk-toggleable__label sk-toggleable__label-arrow\">RandomForestClassifier</label><div class=\"sk-toggleable__content\"><pre>RandomForestClassifier(class_weight=&#x27;balanced&#x27;, random_state=42)</pre></div></div></div></div></div></div></div></div></div></div>"
      ],
      "text/plain": [
       "RandomizedSearchCV(cv=StratifiedKFold(n_splits=4, random_state=42, shuffle=True),\n",
       "                   estimator=RandomForestClassifier(class_weight='balanced',\n",
       "                                                    random_state=42),\n",
       "                   n_iter=333,\n",
       "                   param_distributions={'max_depth': [3, 5, 7, 10, 70, None],\n",
       "                                        'n_estimators': [200, 400, 600, 800,\n",
       "                                                         1000]},\n",
       "                   scoring=make_scorer(balanced_accuracy_score), verbose=3)"
      ]
     },
     "execution_count": 63,
     "metadata": {},
     "output_type": "execute_result"
    }
   ],
   "source": [
    "RSCV.fit(X_train, y_train)"
   ]
  },
  {
   "cell_type": "code",
   "execution_count": 64,
   "id": "996f6a73-562f-4a8e-ae0e-0f2bfce164ca",
   "metadata": {},
   "outputs": [],
   "source": [
    "best_estimator = RSCV.best_estimator_"
   ]
  },
  {
   "cell_type": "code",
   "execution_count": 65,
   "id": "e932c281-3379-47c2-b6ce-2cd618c12ba1",
   "metadata": {},
   "outputs": [
    {
     "name": "stdout",
     "output_type": "stream",
     "text": [
      "Train accuracy: 1.0\n",
      "Test accuracy:  0.5505363324476544\n",
      "Report: \n",
      "              precision    recall  f1-score   support\n",
      "\n",
      "           0       0.85      0.95      0.90      5388\n",
      "           1       0.54      0.34      0.42      1317\n",
      "           2       0.59      0.36      0.45       372\n",
      "\n",
      "    accuracy                           0.81      7077\n",
      "   macro avg       0.66      0.55      0.59      7077\n",
      "weighted avg       0.78      0.81      0.78      7077\n",
      "\n",
      "Confusion matrix:\n",
      "[[5123  237   28]\n",
      " [ 808  445   64]\n",
      " [  94  143  135]]\n"
     ]
    }
   ],
   "source": [
    "y_pred = best_estimator.predict(X_test)\n",
    "print(f\"Train accuracy: {balanced_accuracy_score(y_train, best_estimator.predict(X_train))}\")\n",
    "get_report(y_test, y_pred)"
   ]
  },
  {
   "cell_type": "code",
   "execution_count": 66,
   "id": "8538dad3-2309-4718-9821-bfcb9a119642",
   "metadata": {},
   "outputs": [
    {
     "data": {
      "text/plain": [
       "{'n_estimators': 1000, 'max_depth': 70}"
      ]
     },
     "execution_count": 66,
     "metadata": {},
     "output_type": "execute_result"
    }
   ],
   "source": [
    "RSCV.best_params_ "
   ]
  },
  {
   "cell_type": "code",
   "execution_count": 69,
   "id": "2e8ad0a2-bcc8-443f-82d7-22d143ef47e6",
   "metadata": {},
   "outputs": [],
   "source": [
    "# # no oversampling\n",
    "# X_train, X_test, y_train, y_test = train_test_split(X, y, test_size=0.15, stratify=y, random_state=RS)\n",
    "\n",
    "# model =  RandomForestClassifier(class_weight='balanced', random_state=RS)\n",
    "# RSCV = RandomizedSearchCV(model, parameters, scoring=scorer, cv=kf, n_iter=333, verbose=1)"
   ]
  },
  {
   "cell_type": "code",
   "execution_count": 70,
   "id": "4ce23d23-90d7-4cb3-a28e-f5578aa43680",
   "metadata": {},
   "outputs": [],
   "source": [
    "# RSCV.fit(X_train, y_train)"
   ]
  },
  {
   "cell_type": "code",
   "execution_count": 71,
   "id": "58c72de2-ec05-4f89-93ef-9cf11ecfe0f1",
   "metadata": {},
   "outputs": [],
   "source": [
    "# best_estimator = RSCV.best_estimator_\n",
    "# y_pred = best_estimator.predict(X_test)\n",
    "# print(f\"Train accuracy: {balanced_accuracy_score(y_train, best_estimator.predict(X_train))}\")\n",
    "# get_report(y_test, y_pred)"
   ]
  },
  {
   "cell_type": "code",
   "execution_count": 73,
   "id": "a8386768-d80e-48a2-abae-405d927ca219",
   "metadata": {},
   "outputs": [],
   "source": [
    "# RSCV.best_params_ "
   ]
  },
  {
   "cell_type": "markdown",
   "id": "22c5c29a-ff75-42d8-92db-07addd4d26f9",
   "metadata": {},
   "source": [
    "### LGBM:"
   ]
  },
  {
   "cell_type": "code",
   "execution_count": 74,
   "id": "c2462ca3-065a-47f4-8391-f4b78476053c",
   "metadata": {},
   "outputs": [],
   "source": [
    "X_train, X_test, y_train, y_test = train_test_split(X, y, test_size=0.15, stratify=y, random_state=RS)\n",
    "# X_train, y_train = ros.fit_resample(X_train, y_train)\n",
    "\n",
    "NFOLDS = 4\n",
    "kf = StratifiedKFold(n_splits=NFOLDS, shuffle=True, random_state=RS)\n",
    "\n",
    "scorer = make_scorer(balanced_accuracy_score, greater_is_better=True)  \n",
    "\n",
    "model = lgb.LGBMClassifier(class_weight='balanced', random_state=RS)\n",
    "\n",
    "parameters = {\n",
    "    'n_estimators': [100, 250, 500, 1000],\n",
    "    'max_depth': [2, 4, 6, -1],\n",
    "    'reg_alpha': [0.1, 1],\n",
    "    'learning_rate': [0.001, 0.01, 0.1]\n",
    "}\n",
    "\n",
    "RSCV = RandomizedSearchCV(model, parameters, scoring=scorer, cv=kf, n_iter=333, verbose=1)"
   ]
  },
  {
   "cell_type": "code",
   "execution_count": 75,
   "id": "db1e4a94-641d-474e-a89e-b0d853baaac6",
   "metadata": {},
   "outputs": [
    {
     "name": "stdout",
     "output_type": "stream",
     "text": [
      "Fitting 4 folds for each of 96 candidates, totalling 384 fits\n"
     ]
    },
    {
     "data": {
      "text/html": [
       "<style>#sk-container-id-6 {color: black;background-color: white;}#sk-container-id-6 pre{padding: 0;}#sk-container-id-6 div.sk-toggleable {background-color: white;}#sk-container-id-6 label.sk-toggleable__label {cursor: pointer;display: block;width: 100%;margin-bottom: 0;padding: 0.3em;box-sizing: border-box;text-align: center;}#sk-container-id-6 label.sk-toggleable__label-arrow:before {content: \"▸\";float: left;margin-right: 0.25em;color: #696969;}#sk-container-id-6 label.sk-toggleable__label-arrow:hover:before {color: black;}#sk-container-id-6 div.sk-estimator:hover label.sk-toggleable__label-arrow:before {color: black;}#sk-container-id-6 div.sk-toggleable__content {max-height: 0;max-width: 0;overflow: hidden;text-align: left;background-color: #f0f8ff;}#sk-container-id-6 div.sk-toggleable__content pre {margin: 0.2em;color: black;border-radius: 0.25em;background-color: #f0f8ff;}#sk-container-id-6 input.sk-toggleable__control:checked~div.sk-toggleable__content {max-height: 200px;max-width: 100%;overflow: auto;}#sk-container-id-6 input.sk-toggleable__control:checked~label.sk-toggleable__label-arrow:before {content: \"▾\";}#sk-container-id-6 div.sk-estimator input.sk-toggleable__control:checked~label.sk-toggleable__label {background-color: #d4ebff;}#sk-container-id-6 div.sk-label input.sk-toggleable__control:checked~label.sk-toggleable__label {background-color: #d4ebff;}#sk-container-id-6 input.sk-hidden--visually {border: 0;clip: rect(1px 1px 1px 1px);clip: rect(1px, 1px, 1px, 1px);height: 1px;margin: -1px;overflow: hidden;padding: 0;position: absolute;width: 1px;}#sk-container-id-6 div.sk-estimator {font-family: monospace;background-color: #f0f8ff;border: 1px dotted black;border-radius: 0.25em;box-sizing: border-box;margin-bottom: 0.5em;}#sk-container-id-6 div.sk-estimator:hover {background-color: #d4ebff;}#sk-container-id-6 div.sk-parallel-item::after {content: \"\";width: 100%;border-bottom: 1px solid gray;flex-grow: 1;}#sk-container-id-6 div.sk-label:hover label.sk-toggleable__label {background-color: #d4ebff;}#sk-container-id-6 div.sk-serial::before {content: \"\";position: absolute;border-left: 1px solid gray;box-sizing: border-box;top: 0;bottom: 0;left: 50%;z-index: 0;}#sk-container-id-6 div.sk-serial {display: flex;flex-direction: column;align-items: center;background-color: white;padding-right: 0.2em;padding-left: 0.2em;position: relative;}#sk-container-id-6 div.sk-item {position: relative;z-index: 1;}#sk-container-id-6 div.sk-parallel {display: flex;align-items: stretch;justify-content: center;background-color: white;position: relative;}#sk-container-id-6 div.sk-item::before, #sk-container-id-6 div.sk-parallel-item::before {content: \"\";position: absolute;border-left: 1px solid gray;box-sizing: border-box;top: 0;bottom: 0;left: 50%;z-index: -1;}#sk-container-id-6 div.sk-parallel-item {display: flex;flex-direction: column;z-index: 1;position: relative;background-color: white;}#sk-container-id-6 div.sk-parallel-item:first-child::after {align-self: flex-end;width: 50%;}#sk-container-id-6 div.sk-parallel-item:last-child::after {align-self: flex-start;width: 50%;}#sk-container-id-6 div.sk-parallel-item:only-child::after {width: 0;}#sk-container-id-6 div.sk-dashed-wrapped {border: 1px dashed gray;margin: 0 0.4em 0.5em 0.4em;box-sizing: border-box;padding-bottom: 0.4em;background-color: white;}#sk-container-id-6 div.sk-label label {font-family: monospace;font-weight: bold;display: inline-block;line-height: 1.2em;}#sk-container-id-6 div.sk-label-container {text-align: center;}#sk-container-id-6 div.sk-container {/* jupyter's `normalize.less` sets `[hidden] { display: none; }` but bootstrap.min.css set `[hidden] { display: none !important; }` so we also need the `!important` here to be able to override the default hidden behavior on the sphinx rendered scikit-learn.org. See: https://github.com/scikit-learn/scikit-learn/issues/21755 */display: inline-block !important;position: relative;}#sk-container-id-6 div.sk-text-repr-fallback {display: none;}</style><div id=\"sk-container-id-6\" class=\"sk-top-container\"><div class=\"sk-text-repr-fallback\"><pre>RandomizedSearchCV(cv=StratifiedKFold(n_splits=4, random_state=42, shuffle=True),\n",
       "                   estimator=LGBMClassifier(class_weight=&#x27;balanced&#x27;,\n",
       "                                            random_state=42),\n",
       "                   n_iter=333,\n",
       "                   param_distributions={&#x27;learning_rate&#x27;: [0.001, 0.01, 0.1],\n",
       "                                        &#x27;max_depth&#x27;: [2, 4, 6, -1],\n",
       "                                        &#x27;n_estimators&#x27;: [100, 250, 500, 1000],\n",
       "                                        &#x27;reg_alpha&#x27;: [0.1, 1]},\n",
       "                   scoring=make_scorer(balanced_accuracy_score), verbose=1)</pre><b>In a Jupyter environment, please rerun this cell to show the HTML representation or trust the notebook. <br />On GitHub, the HTML representation is unable to render, please try loading this page with nbviewer.org.</b></div><div class=\"sk-container\" hidden><div class=\"sk-item sk-dashed-wrapped\"><div class=\"sk-label-container\"><div class=\"sk-label sk-toggleable\"><input class=\"sk-toggleable__control sk-hidden--visually\" id=\"sk-estimator-id-8\" type=\"checkbox\" ><label for=\"sk-estimator-id-8\" class=\"sk-toggleable__label sk-toggleable__label-arrow\">RandomizedSearchCV</label><div class=\"sk-toggleable__content\"><pre>RandomizedSearchCV(cv=StratifiedKFold(n_splits=4, random_state=42, shuffle=True),\n",
       "                   estimator=LGBMClassifier(class_weight=&#x27;balanced&#x27;,\n",
       "                                            random_state=42),\n",
       "                   n_iter=333,\n",
       "                   param_distributions={&#x27;learning_rate&#x27;: [0.001, 0.01, 0.1],\n",
       "                                        &#x27;max_depth&#x27;: [2, 4, 6, -1],\n",
       "                                        &#x27;n_estimators&#x27;: [100, 250, 500, 1000],\n",
       "                                        &#x27;reg_alpha&#x27;: [0.1, 1]},\n",
       "                   scoring=make_scorer(balanced_accuracy_score), verbose=1)</pre></div></div></div><div class=\"sk-parallel\"><div class=\"sk-parallel-item\"><div class=\"sk-item\"><div class=\"sk-label-container\"><div class=\"sk-label sk-toggleable\"><input class=\"sk-toggleable__control sk-hidden--visually\" id=\"sk-estimator-id-9\" type=\"checkbox\" ><label for=\"sk-estimator-id-9\" class=\"sk-toggleable__label sk-toggleable__label-arrow\">estimator: LGBMClassifier</label><div class=\"sk-toggleable__content\"><pre>LGBMClassifier(class_weight=&#x27;balanced&#x27;, random_state=42)</pre></div></div></div><div class=\"sk-serial\"><div class=\"sk-item\"><div class=\"sk-estimator sk-toggleable\"><input class=\"sk-toggleable__control sk-hidden--visually\" id=\"sk-estimator-id-10\" type=\"checkbox\" ><label for=\"sk-estimator-id-10\" class=\"sk-toggleable__label sk-toggleable__label-arrow\">LGBMClassifier</label><div class=\"sk-toggleable__content\"><pre>LGBMClassifier(class_weight=&#x27;balanced&#x27;, random_state=42)</pre></div></div></div></div></div></div></div></div></div></div>"
      ],
      "text/plain": [
       "RandomizedSearchCV(cv=StratifiedKFold(n_splits=4, random_state=42, shuffle=True),\n",
       "                   estimator=LGBMClassifier(class_weight='balanced',\n",
       "                                            random_state=42),\n",
       "                   n_iter=333,\n",
       "                   param_distributions={'learning_rate': [0.001, 0.01, 0.1],\n",
       "                                        'max_depth': [2, 4, 6, -1],\n",
       "                                        'n_estimators': [100, 250, 500, 1000],\n",
       "                                        'reg_alpha': [0.1, 1]},\n",
       "                   scoring=make_scorer(balanced_accuracy_score), verbose=1)"
      ]
     },
     "execution_count": 75,
     "metadata": {},
     "output_type": "execute_result"
    }
   ],
   "source": [
    "RSCV.fit(X_train, y_train)"
   ]
  },
  {
   "cell_type": "code",
   "execution_count": 76,
   "id": "5769de67-1a57-402d-9ea3-a9cbd6620f19",
   "metadata": {},
   "outputs": [
    {
     "name": "stdout",
     "output_type": "stream",
     "text": [
      "Train accuracy: 0.7965354769547096\n",
      "Test accuracy:  0.6843542334614909\n",
      "Report: \n",
      "              precision    recall  f1-score   support\n",
      "\n",
      "           0       0.91      0.81      0.86      5388\n",
      "           1       0.41      0.51      0.46      1317\n",
      "           2       0.39      0.74      0.51       372\n",
      "\n",
      "    accuracy                           0.75      7077\n",
      "   macro avg       0.57      0.68      0.61      7077\n",
      "weighted avg       0.79      0.75      0.76      7077\n",
      "\n",
      "Confusion matrix:\n",
      "[[4340  878  170]\n",
      " [ 381  673  263]\n",
      " [  25   73  274]]\n"
     ]
    }
   ],
   "source": [
    "best_estimator = RSCV.best_estimator_\n",
    "\n",
    "y_pred = best_estimator.predict(X_test)\n",
    "print(f\"Train accuracy: {balanced_accuracy_score(y_train, best_estimator.predict(X_train))}\")\n",
    "get_report(y_test, y_pred)"
   ]
  },
  {
   "cell_type": "code",
   "execution_count": 77,
   "id": "ba7c91d9-6a45-4a9d-a35c-fd55a1d53b76",
   "metadata": {},
   "outputs": [
    {
     "data": {
      "text/plain": [
       "{'reg_alpha': 0.1, 'n_estimators': 500, 'max_depth': 6, 'learning_rate': 0.01}"
      ]
     },
     "execution_count": 77,
     "metadata": {},
     "output_type": "execute_result"
    }
   ],
   "source": [
    "RSCV.best_params_ "
   ]
  },
  {
   "cell_type": "code",
   "execution_count": 84,
   "id": "7c234fb7-9710-412c-a67b-b0ed1df9dc84",
   "metadata": {},
   "outputs": [],
   "source": [
    "X_train, X_test, y_train, y_test = train_test_split(X, y, test_size=0.15, stratify=y, random_state=RS)"
   ]
  },
  {
   "cell_type": "code",
   "execution_count": 85,
   "id": "c9144c5d-c0b6-4468-ba85-f52ca43d7538",
   "metadata": {},
   "outputs": [
    {
     "data": {
      "text/html": [
       "<style>#sk-container-id-9 {color: black;background-color: white;}#sk-container-id-9 pre{padding: 0;}#sk-container-id-9 div.sk-toggleable {background-color: white;}#sk-container-id-9 label.sk-toggleable__label {cursor: pointer;display: block;width: 100%;margin-bottom: 0;padding: 0.3em;box-sizing: border-box;text-align: center;}#sk-container-id-9 label.sk-toggleable__label-arrow:before {content: \"▸\";float: left;margin-right: 0.25em;color: #696969;}#sk-container-id-9 label.sk-toggleable__label-arrow:hover:before {color: black;}#sk-container-id-9 div.sk-estimator:hover label.sk-toggleable__label-arrow:before {color: black;}#sk-container-id-9 div.sk-toggleable__content {max-height: 0;max-width: 0;overflow: hidden;text-align: left;background-color: #f0f8ff;}#sk-container-id-9 div.sk-toggleable__content pre {margin: 0.2em;color: black;border-radius: 0.25em;background-color: #f0f8ff;}#sk-container-id-9 input.sk-toggleable__control:checked~div.sk-toggleable__content {max-height: 200px;max-width: 100%;overflow: auto;}#sk-container-id-9 input.sk-toggleable__control:checked~label.sk-toggleable__label-arrow:before {content: \"▾\";}#sk-container-id-9 div.sk-estimator input.sk-toggleable__control:checked~label.sk-toggleable__label {background-color: #d4ebff;}#sk-container-id-9 div.sk-label input.sk-toggleable__control:checked~label.sk-toggleable__label {background-color: #d4ebff;}#sk-container-id-9 input.sk-hidden--visually {border: 0;clip: rect(1px 1px 1px 1px);clip: rect(1px, 1px, 1px, 1px);height: 1px;margin: -1px;overflow: hidden;padding: 0;position: absolute;width: 1px;}#sk-container-id-9 div.sk-estimator {font-family: monospace;background-color: #f0f8ff;border: 1px dotted black;border-radius: 0.25em;box-sizing: border-box;margin-bottom: 0.5em;}#sk-container-id-9 div.sk-estimator:hover {background-color: #d4ebff;}#sk-container-id-9 div.sk-parallel-item::after {content: \"\";width: 100%;border-bottom: 1px solid gray;flex-grow: 1;}#sk-container-id-9 div.sk-label:hover label.sk-toggleable__label {background-color: #d4ebff;}#sk-container-id-9 div.sk-serial::before {content: \"\";position: absolute;border-left: 1px solid gray;box-sizing: border-box;top: 0;bottom: 0;left: 50%;z-index: 0;}#sk-container-id-9 div.sk-serial {display: flex;flex-direction: column;align-items: center;background-color: white;padding-right: 0.2em;padding-left: 0.2em;position: relative;}#sk-container-id-9 div.sk-item {position: relative;z-index: 1;}#sk-container-id-9 div.sk-parallel {display: flex;align-items: stretch;justify-content: center;background-color: white;position: relative;}#sk-container-id-9 div.sk-item::before, #sk-container-id-9 div.sk-parallel-item::before {content: \"\";position: absolute;border-left: 1px solid gray;box-sizing: border-box;top: 0;bottom: 0;left: 50%;z-index: -1;}#sk-container-id-9 div.sk-parallel-item {display: flex;flex-direction: column;z-index: 1;position: relative;background-color: white;}#sk-container-id-9 div.sk-parallel-item:first-child::after {align-self: flex-end;width: 50%;}#sk-container-id-9 div.sk-parallel-item:last-child::after {align-self: flex-start;width: 50%;}#sk-container-id-9 div.sk-parallel-item:only-child::after {width: 0;}#sk-container-id-9 div.sk-dashed-wrapped {border: 1px dashed gray;margin: 0 0.4em 0.5em 0.4em;box-sizing: border-box;padding-bottom: 0.4em;background-color: white;}#sk-container-id-9 div.sk-label label {font-family: monospace;font-weight: bold;display: inline-block;line-height: 1.2em;}#sk-container-id-9 div.sk-label-container {text-align: center;}#sk-container-id-9 div.sk-container {/* jupyter's `normalize.less` sets `[hidden] { display: none; }` but bootstrap.min.css set `[hidden] { display: none !important; }` so we also need the `!important` here to be able to override the default hidden behavior on the sphinx rendered scikit-learn.org. See: https://github.com/scikit-learn/scikit-learn/issues/21755 */display: inline-block !important;position: relative;}#sk-container-id-9 div.sk-text-repr-fallback {display: none;}</style><div id=\"sk-container-id-9\" class=\"sk-top-container\"><div class=\"sk-text-repr-fallback\"><pre>LGBMClassifier(class_weight=&#x27;balanced&#x27;, learning_rate=0.01, max_depth=6,\n",
       "               n_estimators=500, random_state=42, reg_alpha=0.1)</pre><b>In a Jupyter environment, please rerun this cell to show the HTML representation or trust the notebook. <br />On GitHub, the HTML representation is unable to render, please try loading this page with nbviewer.org.</b></div><div class=\"sk-container\" hidden><div class=\"sk-item\"><div class=\"sk-estimator sk-toggleable\"><input class=\"sk-toggleable__control sk-hidden--visually\" id=\"sk-estimator-id-15\" type=\"checkbox\" checked><label for=\"sk-estimator-id-15\" class=\"sk-toggleable__label sk-toggleable__label-arrow\">LGBMClassifier</label><div class=\"sk-toggleable__content\"><pre>LGBMClassifier(class_weight=&#x27;balanced&#x27;, learning_rate=0.01, max_depth=6,\n",
       "               n_estimators=500, random_state=42, reg_alpha=0.1)</pre></div></div></div></div></div>"
      ],
      "text/plain": [
       "LGBMClassifier(class_weight='balanced', learning_rate=0.01, max_depth=6,\n",
       "               n_estimators=500, random_state=42, reg_alpha=0.1)"
      ]
     },
     "execution_count": 85,
     "metadata": {},
     "output_type": "execute_result"
    }
   ],
   "source": [
    "gbm = lgb.LGBMClassifier(class_weight='balanced', random_state=RS, \n",
    "                         **{'reg_alpha': 0.1, 'n_estimators': 500, 'max_depth': 6, 'learning_rate': 0.01})\n",
    "gbm.fit(X_train,y_train)"
   ]
  },
  {
   "cell_type": "code",
   "execution_count": 86,
   "id": "9ccda79c-892c-497d-80d7-9ebd796fa861",
   "metadata": {},
   "outputs": [
    {
     "name": "stdout",
     "output_type": "stream",
     "text": [
      "Train accuracy: 0.7965354769547096\n",
      "Test accuracy:  0.6843542334614909\n",
      "Report: \n",
      "              precision    recall  f1-score   support\n",
      "\n",
      "           0       0.91      0.81      0.86      5388\n",
      "           1       0.41      0.51      0.46      1317\n",
      "           2       0.39      0.74      0.51       372\n",
      "\n",
      "    accuracy                           0.75      7077\n",
      "   macro avg       0.57      0.68      0.61      7077\n",
      "weighted avg       0.79      0.75      0.76      7077\n",
      "\n",
      "Confusion matrix:\n",
      "[[4340  878  170]\n",
      " [ 381  673  263]\n",
      " [  25   73  274]]\n"
     ]
    }
   ],
   "source": [
    "y_pred = gbm.predict(X_test)\n",
    "print(f\"Train accuracy: {balanced_accuracy_score(y_train, gbm.predict(X_train))}\")\n",
    "get_report(y_test, y_pred)  "
   ]
  },
  {
   "cell_type": "code",
   "execution_count": 93,
   "id": "f9417864-1c40-420d-b361-9e8a339a29e3",
   "metadata": {},
   "outputs": [
    {
     "data": {
      "text/html": [
       "<style>#sk-container-id-13 {color: black;background-color: white;}#sk-container-id-13 pre{padding: 0;}#sk-container-id-13 div.sk-toggleable {background-color: white;}#sk-container-id-13 label.sk-toggleable__label {cursor: pointer;display: block;width: 100%;margin-bottom: 0;padding: 0.3em;box-sizing: border-box;text-align: center;}#sk-container-id-13 label.sk-toggleable__label-arrow:before {content: \"▸\";float: left;margin-right: 0.25em;color: #696969;}#sk-container-id-13 label.sk-toggleable__label-arrow:hover:before {color: black;}#sk-container-id-13 div.sk-estimator:hover label.sk-toggleable__label-arrow:before {color: black;}#sk-container-id-13 div.sk-toggleable__content {max-height: 0;max-width: 0;overflow: hidden;text-align: left;background-color: #f0f8ff;}#sk-container-id-13 div.sk-toggleable__content pre {margin: 0.2em;color: black;border-radius: 0.25em;background-color: #f0f8ff;}#sk-container-id-13 input.sk-toggleable__control:checked~div.sk-toggleable__content {max-height: 200px;max-width: 100%;overflow: auto;}#sk-container-id-13 input.sk-toggleable__control:checked~label.sk-toggleable__label-arrow:before {content: \"▾\";}#sk-container-id-13 div.sk-estimator input.sk-toggleable__control:checked~label.sk-toggleable__label {background-color: #d4ebff;}#sk-container-id-13 div.sk-label input.sk-toggleable__control:checked~label.sk-toggleable__label {background-color: #d4ebff;}#sk-container-id-13 input.sk-hidden--visually {border: 0;clip: rect(1px 1px 1px 1px);clip: rect(1px, 1px, 1px, 1px);height: 1px;margin: -1px;overflow: hidden;padding: 0;position: absolute;width: 1px;}#sk-container-id-13 div.sk-estimator {font-family: monospace;background-color: #f0f8ff;border: 1px dotted black;border-radius: 0.25em;box-sizing: border-box;margin-bottom: 0.5em;}#sk-container-id-13 div.sk-estimator:hover {background-color: #d4ebff;}#sk-container-id-13 div.sk-parallel-item::after {content: \"\";width: 100%;border-bottom: 1px solid gray;flex-grow: 1;}#sk-container-id-13 div.sk-label:hover label.sk-toggleable__label {background-color: #d4ebff;}#sk-container-id-13 div.sk-serial::before {content: \"\";position: absolute;border-left: 1px solid gray;box-sizing: border-box;top: 0;bottom: 0;left: 50%;z-index: 0;}#sk-container-id-13 div.sk-serial {display: flex;flex-direction: column;align-items: center;background-color: white;padding-right: 0.2em;padding-left: 0.2em;position: relative;}#sk-container-id-13 div.sk-item {position: relative;z-index: 1;}#sk-container-id-13 div.sk-parallel {display: flex;align-items: stretch;justify-content: center;background-color: white;position: relative;}#sk-container-id-13 div.sk-item::before, #sk-container-id-13 div.sk-parallel-item::before {content: \"\";position: absolute;border-left: 1px solid gray;box-sizing: border-box;top: 0;bottom: 0;left: 50%;z-index: -1;}#sk-container-id-13 div.sk-parallel-item {display: flex;flex-direction: column;z-index: 1;position: relative;background-color: white;}#sk-container-id-13 div.sk-parallel-item:first-child::after {align-self: flex-end;width: 50%;}#sk-container-id-13 div.sk-parallel-item:last-child::after {align-self: flex-start;width: 50%;}#sk-container-id-13 div.sk-parallel-item:only-child::after {width: 0;}#sk-container-id-13 div.sk-dashed-wrapped {border: 1px dashed gray;margin: 0 0.4em 0.5em 0.4em;box-sizing: border-box;padding-bottom: 0.4em;background-color: white;}#sk-container-id-13 div.sk-label label {font-family: monospace;font-weight: bold;display: inline-block;line-height: 1.2em;}#sk-container-id-13 div.sk-label-container {text-align: center;}#sk-container-id-13 div.sk-container {/* jupyter's `normalize.less` sets `[hidden] { display: none; }` but bootstrap.min.css set `[hidden] { display: none !important; }` so we also need the `!important` here to be able to override the default hidden behavior on the sphinx rendered scikit-learn.org. See: https://github.com/scikit-learn/scikit-learn/issues/21755 */display: inline-block !important;position: relative;}#sk-container-id-13 div.sk-text-repr-fallback {display: none;}</style><div id=\"sk-container-id-13\" class=\"sk-top-container\"><div class=\"sk-text-repr-fallback\"><pre>LGBMClassifier(class_weight=&#x27;balanced&#x27;, learning_rate=0.01, max_depth=6,\n",
       "               n_estimators=500, random_state=42, reg_alpha=0.1,\n",
       "               reg_lambda=0.01)</pre><b>In a Jupyter environment, please rerun this cell to show the HTML representation or trust the notebook. <br />On GitHub, the HTML representation is unable to render, please try loading this page with nbviewer.org.</b></div><div class=\"sk-container\" hidden><div class=\"sk-item\"><div class=\"sk-estimator sk-toggleable\"><input class=\"sk-toggleable__control sk-hidden--visually\" id=\"sk-estimator-id-19\" type=\"checkbox\" checked><label for=\"sk-estimator-id-19\" class=\"sk-toggleable__label sk-toggleable__label-arrow\">LGBMClassifier</label><div class=\"sk-toggleable__content\"><pre>LGBMClassifier(class_weight=&#x27;balanced&#x27;, learning_rate=0.01, max_depth=6,\n",
       "               n_estimators=500, random_state=42, reg_alpha=0.1,\n",
       "               reg_lambda=0.01)</pre></div></div></div></div></div>"
      ],
      "text/plain": [
       "LGBMClassifier(class_weight='balanced', learning_rate=0.01, max_depth=6,\n",
       "               n_estimators=500, random_state=42, reg_alpha=0.1,\n",
       "               reg_lambda=0.01)"
      ]
     },
     "execution_count": 93,
     "metadata": {},
     "output_type": "execute_result"
    }
   ],
   "source": [
    "gbm = lgb.LGBMClassifier(class_weight='balanced', random_state=RS, \n",
    "                         **{'reg_alpha': 0.1, 'n_estimators': 500, 'max_depth': 6, 'learning_rate': 0.01, 'reg_lambda': 0.01})\n",
    "gbm.fit(X_train,y_train)"
   ]
  },
  {
   "cell_type": "code",
   "execution_count": 94,
   "id": "5bdcb7ac-2628-4663-a71c-9beee893620e",
   "metadata": {},
   "outputs": [
    {
     "name": "stdout",
     "output_type": "stream",
     "text": [
      "Train accuracy: 0.7965630906173726\n",
      "Test accuracy:  0.6852502908091612\n",
      "Report: \n",
      "              precision    recall  f1-score   support\n",
      "\n",
      "           0       0.92      0.81      0.86      5388\n",
      "           1       0.41      0.51      0.46      1317\n",
      "           2       0.39      0.74      0.51       372\n",
      "\n",
      "    accuracy                           0.75      7077\n",
      "   macro avg       0.57      0.69      0.61      7077\n",
      "weighted avg       0.79      0.75      0.76      7077\n",
      "\n",
      "Confusion matrix:\n",
      "[[4340  883  165]\n",
      " [ 376  673  268]\n",
      " [  25   72  275]]\n"
     ]
    }
   ],
   "source": [
    "y_pred = gbm.predict(X_test)\n",
    "print(f\"Train accuracy: {balanced_accuracy_score(y_train, gbm.predict(X_train))}\")\n",
    "get_report(y_test, y_pred)  "
   ]
  },
  {
   "cell_type": "markdown",
   "id": "bdc5e36c-ded6-4020-badf-193e78dbcdca",
   "metadata": {},
   "source": [
    "### Investigate the multi-label feature importances"
   ]
  },
  {
   "cell_type": "code",
   "execution_count": 81,
   "id": "474c6403-4228-4227-8238-8cb03369d09b",
   "metadata": {},
   "outputs": [
    {
     "data": {
      "text/plain": [
       "(array([0, 1, 2]), array([0, 1, 2]))"
      ]
     },
     "execution_count": 81,
     "metadata": {},
     "output_type": "execute_result"
    }
   ],
   "source": [
    "np.unique(y_train), np.unique(y_test)"
   ]
  },
  {
   "cell_type": "code",
   "execution_count": 82,
   "id": "06b40da5-0768-4843-b0b9-b89508dfc79b",
   "metadata": {},
   "outputs": [
    {
     "name": "stdout",
     "output_type": "stream",
     "text": [
      "Train accuracy: 0.8040886978779529\n",
      "Test accuracy:  0.687138338751291\n",
      "Report: \n",
      "              precision    recall  f1-score   support\n",
      "\n",
      "           0       0.92      0.81      0.86      5388\n",
      "           1       0.42      0.52      0.46      1317\n",
      "           2       0.39      0.74      0.51       372\n",
      "\n",
      "    accuracy                           0.75      7077\n",
      "   macro avg       0.57      0.69      0.61      7077\n",
      "weighted avg       0.80      0.75      0.77      7077\n",
      "\n",
      "Confusion matrix:\n",
      "[[4340  886  162]\n",
      " [ 370  684  263]\n",
      " [  26   72  274]]\n"
     ]
    }
   ],
   "source": [
    "gbm = lgb.LGBMClassifier(class_weight='balanced', random_state=RS, \n",
    "                         **{'reg_alpha': 0.1, 'n_estimators': 550, 'max_depth': 6, 'learning_rate': 0.01, 'reg_lambda': 0.01})\n",
    "gbm.fit(X_train,y_train)\n",
    "\n",
    "y_pred = gbm.predict(X_test)\n",
    "print(f\"Train accuracy: {balanced_accuracy_score(y_train, gbm.predict(X_train))}\")\n",
    "get_report(y_test, y_pred)  "
   ]
  },
  {
   "cell_type": "code",
   "execution_count": 83,
   "id": "0d2d40b9-8586-4bf2-bc56-1cbebabb7acd",
   "metadata": {},
   "outputs": [],
   "source": [
    "feature_imp = pd.DataFrame({'Value': gbm.feature_importances_, 'Feature': df.iloc[:, 1:].columns})\n",
    "\n",
    "ner_imp = feature_imp.iloc[-256:].Value.sum()\n",
    "ner_label = 'NER Vector'\n",
    "feature_imp = feature_imp.iloc[:-256]\n",
    "\n",
    "topics_imp = feature_imp.iloc[-128:].Value.sum()\n",
    "topics_label = 'Topics Vector'\n",
    "feature_imp = feature_imp.iloc[:-128]\n",
    "\n",
    "doc_imp = feature_imp.iloc[-256:].Value.sum()\n",
    "doc_label = 'Document Vector'\n",
    "feature_imp = feature_imp.iloc[:-256]\n",
    "\n",
    "ner_df = pd.DataFrame({'Value': ner_imp, \"Feature\": ner_label}, index=[0])\n",
    "topics_df = pd.DataFrame({'Value': topics_imp, \"Feature\": topics_label}, index=[0])\n",
    "doc_df = pd.DataFrame({'Value': doc_imp, \"Feature\": doc_label}, index=[0])\n",
    "\n",
    "feature_imp = pd.concat([feature_imp, ner_df, topics_df, doc_df])\n",
    "\n",
    "font = {'family' : 'normal',\n",
    "        'weight' : 'bold',\n",
    "        'size'   : 22}\n",
    "\n",
    "plt.rc('font', **font)"
   ]
  },
  {
   "cell_type": "code",
   "execution_count": 84,
   "id": "72dbc2d3-2c02-40d8-8888-e1b8bd111ac1",
   "metadata": {},
   "outputs": [
    {
     "name": "stderr",
     "output_type": "stream",
     "text": [
      "findfont: Font family ['normal'] not found. Falling back to DejaVu Sans.\n",
      "findfont: Font family ['normal'] not found. Falling back to DejaVu Sans.\n",
      "findfont: Font family ['normal'] not found. Falling back to DejaVu Sans.\n"
     ]
    },
    {
     "data": {
      "image/png": "[encoded data removed]",
      "text/plain": [
       "<Figure size 2880x1440 with 1 Axes>"
      ]
     },
     "metadata": {
      "needs_background": "light"
     },
     "output_type": "display_data"
    }
   ],
   "source": [
    "plt.figure(figsize=(40, 20))\n",
    "sns.barplot(x=\"Value\", y=\"Feature\", data=feature_imp.sort_values(by=\"Value\", \n",
    "                                                        ascending=False)[0:10])\n",
    "plt.title('Feature importances (avg over folds)')\n",
    "plt.show()"
   ]
  },
  {
   "cell_type": "code",
   "execution_count": null,
   "id": "9658a2bd-62d6-45ca-9788-67ca829a59e4",
   "metadata": {},
   "outputs": [],
   "source": []
  },
  {
   "cell_type": "code",
   "execution_count": null,
   "id": "7f0268a8-c6fb-44fd-b81c-ff94e997358f",
   "metadata": {},
   "outputs": [],
   "source": []
  },
  {
   "cell_type": "code",
   "execution_count": null,
   "id": "bfff4273-821d-4de6-95be-f5678fe4d1b4",
   "metadata": {},
   "outputs": [],
   "source": []
  },
  {
   "cell_type": "code",
   "execution_count": null,
   "id": "0c7091a4-513a-4c37-bf9d-470f3c8700c7",
   "metadata": {},
   "outputs": [],
   "source": []
  },
  {
   "cell_type": "code",
   "execution_count": 102,
   "id": "9af84313-87df-4640-8d98-29ff25a407d7",
   "metadata": {},
   "outputs": [],
   "source": [
    "# to binary and check the metrics"
   ]
  },
  {
   "cell_type": "code",
   "execution_count": 103,
   "id": "4f675bf8-70a0-4087-995b-1313248dd3a9",
   "metadata": {},
   "outputs": [
    {
     "name": "stdout",
     "output_type": "stream",
     "text": [
      "Test accuracy:  0.7855177151778638\n",
      "Report: \n",
      "              precision    recall  f1-score   support\n",
      "\n",
      "           0       0.92      0.81      0.86      5388\n",
      "           1       0.55      0.77      0.64      1689\n",
      "\n",
      "    accuracy                           0.80      7077\n",
      "   macro avg       0.73      0.79      0.75      7077\n",
      "weighted avg       0.83      0.80      0.81      7077\n",
      "\n",
      "Confusion matrix:\n",
      "[[4340 1048]\n",
      " [ 396 1293]]\n"
     ]
    }
   ],
   "source": [
    "y_pred_binary = (y_pred > 0).astype(int)\n",
    "y_test_binary = (y_test > 0).astype(int)\n",
    "\n",
    "get_report(y_test_binary, y_pred_binary)  "
   ]
  },
  {
   "cell_type": "markdown",
   "id": "21977eb2-90a9-429e-aca9-95b6f9c63c86",
   "metadata": {},
   "source": [
    "### Train binary"
   ]
  },
  {
   "cell_type": "code",
   "execution_count": 16,
   "id": "58b77266-1b82-4615-b97b-90a2571e1145",
   "metadata": {},
   "outputs": [],
   "source": [
    "y[y>1] = 1\n",
    "X_train, X_test, y_train, y_test = train_test_split(X, y, test_size=0.15, stratify=y, random_state=RS)\n"
   ]
  },
  {
   "cell_type": "code",
   "execution_count": 17,
   "id": "1792a1d9-06d3-4302-98eb-92db5462758f",
   "metadata": {},
   "outputs": [],
   "source": [
    "X_train, X_test, y_train, y_test = train_test_split(X, y, test_size=0.15, stratify=y, random_state=RS)\n",
    "\n",
    "NFOLDS = 4\n",
    "kf = StratifiedKFold(n_splits=NFOLDS, shuffle=True, random_state=RS)\n",
    "\n",
    "scorer = make_scorer(balanced_accuracy_score, greater_is_better=True)  \n",
    "\n",
    "model = lgb.LGBMClassifier(class_weight='balanced', random_state=RS)\n",
    "\n",
    "parameters = {\n",
    "    'n_estimators': [250, 500, 750, 1000],\n",
    "    'max_depth': [2, 4, 6, 8],\n",
    "    'reg_alpha': [0.1, 0.5, 1],\n",
    "    'reg_lambda': [0.01, 0.05],\n",
    "    'learning_rate': [0.001, 0.01]\n",
    "}\n",
    "\n",
    "RSCV = RandomizedSearchCV(model, parameters, scoring=scorer, cv=kf, n_iter=333, verbose=1)"
   ]
  },
  {
   "cell_type": "code",
   "execution_count": 18,
   "id": "e0320362-008c-422b-9e6e-6d6d9d43decf",
   "metadata": {
    "tags": []
   },
   "outputs": [
    {
     "name": "stdout",
     "output_type": "stream",
     "text": [
      "Fitting 4 folds for each of 192 candidates, totalling 768 fits\n"
     ]
    },
    {
     "data": {
      "text/html": [
       "<style>#sk-container-id-1 {color: black;background-color: white;}#sk-container-id-1 pre{padding: 0;}#sk-container-id-1 div.sk-toggleable {background-color: white;}#sk-container-id-1 label.sk-toggleable__label {cursor: pointer;display: block;width: 100%;margin-bottom: 0;padding: 0.3em;box-sizing: border-box;text-align: center;}#sk-container-id-1 label.sk-toggleable__label-arrow:before {content: \"▸\";float: left;margin-right: 0.25em;color: #696969;}#sk-container-id-1 label.sk-toggleable__label-arrow:hover:before {color: black;}#sk-container-id-1 div.sk-estimator:hover label.sk-toggleable__label-arrow:before {color: black;}#sk-container-id-1 div.sk-toggleable__content {max-height: 0;max-width: 0;overflow: hidden;text-align: left;background-color: #f0f8ff;}#sk-container-id-1 div.sk-toggleable__content pre {margin: 0.2em;color: black;border-radius: 0.25em;background-color: #f0f8ff;}#sk-container-id-1 input.sk-toggleable__control:checked~div.sk-toggleable__content {max-height: 200px;max-width: 100%;overflow: auto;}#sk-container-id-1 input.sk-toggleable__control:checked~label.sk-toggleable__label-arrow:before {content: \"▾\";}#sk-container-id-1 div.sk-estimator input.sk-toggleable__control:checked~label.sk-toggleable__label {background-color: #d4ebff;}#sk-container-id-1 div.sk-label input.sk-toggleable__control:checked~label.sk-toggleable__label {background-color: #d4ebff;}#sk-container-id-1 input.sk-hidden--visually {border: 0;clip: rect(1px 1px 1px 1px);clip: rect(1px, 1px, 1px, 1px);height: 1px;margin: -1px;overflow: hidden;padding: 0;position: absolute;width: 1px;}#sk-container-id-1 div.sk-estimator {font-family: monospace;background-color: #f0f8ff;border: 1px dotted black;border-radius: 0.25em;box-sizing: border-box;margin-bottom: 0.5em;}#sk-container-id-1 div.sk-estimator:hover {background-color: #d4ebff;}#sk-container-id-1 div.sk-parallel-item::after {content: \"\";width: 100%;border-bottom: 1px solid gray;flex-grow: 1;}#sk-container-id-1 div.sk-label:hover label.sk-toggleable__label {background-color: #d4ebff;}#sk-container-id-1 div.sk-serial::before {content: \"\";position: absolute;border-left: 1px solid gray;box-sizing: border-box;top: 0;bottom: 0;left: 50%;z-index: 0;}#sk-container-id-1 div.sk-serial {display: flex;flex-direction: column;align-items: center;background-color: white;padding-right: 0.2em;padding-left: 0.2em;position: relative;}#sk-container-id-1 div.sk-item {position: relative;z-index: 1;}#sk-container-id-1 div.sk-parallel {display: flex;align-items: stretch;justify-content: center;background-color: white;position: relative;}#sk-container-id-1 div.sk-item::before, #sk-container-id-1 div.sk-parallel-item::before {content: \"\";position: absolute;border-left: 1px solid gray;box-sizing: border-box;top: 0;bottom: 0;left: 50%;z-index: -1;}#sk-container-id-1 div.sk-parallel-item {display: flex;flex-direction: column;z-index: 1;position: relative;background-color: white;}#sk-container-id-1 div.sk-parallel-item:first-child::after {align-self: flex-end;width: 50%;}#sk-container-id-1 div.sk-parallel-item:last-child::after {align-self: flex-start;width: 50%;}#sk-container-id-1 div.sk-parallel-item:only-child::after {width: 0;}#sk-container-id-1 div.sk-dashed-wrapped {border: 1px dashed gray;margin: 0 0.4em 0.5em 0.4em;box-sizing: border-box;padding-bottom: 0.4em;background-color: white;}#sk-container-id-1 div.sk-label label {font-family: monospace;font-weight: bold;display: inline-block;line-height: 1.2em;}#sk-container-id-1 div.sk-label-container {text-align: center;}#sk-container-id-1 div.sk-container {/* jupyter's `normalize.less` sets `[hidden] { display: none; }` but bootstrap.min.css set `[hidden] { display: none !important; }` so we also need the `!important` here to be able to override the default hidden behavior on the sphinx rendered scikit-learn.org. See: https://github.com/scikit-learn/scikit-learn/issues/21755 */display: inline-block !important;position: relative;}#sk-container-id-1 div.sk-text-repr-fallback {display: none;}</style><div id=\"sk-container-id-1\" class=\"sk-top-container\"><div class=\"sk-text-repr-fallback\"><pre>RandomizedSearchCV(cv=StratifiedKFold(n_splits=4, random_state=42, shuffle=True),\n",
       "                   estimator=LGBMClassifier(class_weight=&#x27;balanced&#x27;,\n",
       "                                            random_state=42),\n",
       "                   n_iter=333,\n",
       "                   param_distributions={&#x27;learning_rate&#x27;: [0.001, 0.01],\n",
       "                                        &#x27;max_depth&#x27;: [2, 4, 6, 8],\n",
       "                                        &#x27;n_estimators&#x27;: [250, 500, 750, 1000],\n",
       "                                        &#x27;reg_alpha&#x27;: [0.1, 0.5, 1],\n",
       "                                        &#x27;reg_lambda&#x27;: [0.01, 0.05]},\n",
       "                   scoring=make_scorer(balanced_accuracy_score), verbose=1)</pre><b>In a Jupyter environment, please rerun this cell to show the HTML representation or trust the notebook. <br />On GitHub, the HTML representation is unable to render, please try loading this page with nbviewer.org.</b></div><div class=\"sk-container\" hidden><div class=\"sk-item sk-dashed-wrapped\"><div class=\"sk-label-container\"><div class=\"sk-label sk-toggleable\"><input class=\"sk-toggleable__control sk-hidden--visually\" id=\"sk-estimator-id-1\" type=\"checkbox\" ><label for=\"sk-estimator-id-1\" class=\"sk-toggleable__label sk-toggleable__label-arrow\">RandomizedSearchCV</label><div class=\"sk-toggleable__content\"><pre>RandomizedSearchCV(cv=StratifiedKFold(n_splits=4, random_state=42, shuffle=True),\n",
       "                   estimator=LGBMClassifier(class_weight=&#x27;balanced&#x27;,\n",
       "                                            random_state=42),\n",
       "                   n_iter=333,\n",
       "                   param_distributions={&#x27;learning_rate&#x27;: [0.001, 0.01],\n",
       "                                        &#x27;max_depth&#x27;: [2, 4, 6, 8],\n",
       "                                        &#x27;n_estimators&#x27;: [250, 500, 750, 1000],\n",
       "                                        &#x27;reg_alpha&#x27;: [0.1, 0.5, 1],\n",
       "                                        &#x27;reg_lambda&#x27;: [0.01, 0.05]},\n",
       "                   scoring=make_scorer(balanced_accuracy_score), verbose=1)</pre></div></div></div><div class=\"sk-parallel\"><div class=\"sk-parallel-item\"><div class=\"sk-item\"><div class=\"sk-label-container\"><div class=\"sk-label sk-toggleable\"><input class=\"sk-toggleable__control sk-hidden--visually\" id=\"sk-estimator-id-2\" type=\"checkbox\" ><label for=\"sk-estimator-id-2\" class=\"sk-toggleable__label sk-toggleable__label-arrow\">estimator: LGBMClassifier</label><div class=\"sk-toggleable__content\"><pre>LGBMClassifier(class_weight=&#x27;balanced&#x27;, random_state=42)</pre></div></div></div><div class=\"sk-serial\"><div class=\"sk-item\"><div class=\"sk-estimator sk-toggleable\"><input class=\"sk-toggleable__control sk-hidden--visually\" id=\"sk-estimator-id-3\" type=\"checkbox\" ><label for=\"sk-estimator-id-3\" class=\"sk-toggleable__label sk-toggleable__label-arrow\">LGBMClassifier</label><div class=\"sk-toggleable__content\"><pre>LGBMClassifier(class_weight=&#x27;balanced&#x27;, random_state=42)</pre></div></div></div></div></div></div></div></div></div></div>"
      ],
      "text/plain": [
       "RandomizedSearchCV(cv=StratifiedKFold(n_splits=4, random_state=42, shuffle=True),\n",
       "                   estimator=LGBMClassifier(class_weight='balanced',\n",
       "                                            random_state=42),\n",
       "                   n_iter=333,\n",
       "                   param_distributions={'learning_rate': [0.001, 0.01],\n",
       "                                        'max_depth': [2, 4, 6, 8],\n",
       "                                        'n_estimators': [250, 500, 750, 1000],\n",
       "                                        'reg_alpha': [0.1, 0.5, 1],\n",
       "                                        'reg_lambda': [0.01, 0.05]},\n",
       "                   scoring=make_scorer(balanced_accuracy_score), verbose=1)"
      ]
     },
     "execution_count": 18,
     "metadata": {},
     "output_type": "execute_result"
    }
   ],
   "source": [
    "RSCV.fit(X_train, y_train)"
   ]
  },
  {
   "cell_type": "code",
   "execution_count": 19,
   "id": "c971647f-3a77-45d3-a4bf-2f1f52de233e",
   "metadata": {},
   "outputs": [
    {
     "name": "stdout",
     "output_type": "stream",
     "text": [
      "Train accuracy: 0.8733535632715986\n",
      "Test accuracy:  0.7949134712887398\n",
      "Report: \n",
      "              precision    recall  f1-score   support\n",
      "\n",
      "           0       0.91      0.84      0.88      5388\n",
      "           1       0.59      0.75      0.66      1689\n",
      "\n",
      "    accuracy                           0.82      7077\n",
      "   macro avg       0.75      0.79      0.77      7077\n",
      "weighted avg       0.84      0.82      0.82      7077\n",
      "\n",
      "Confusion matrix:\n",
      "[[4521  867]\n",
      " [ 421 1268]]\n"
     ]
    }
   ],
   "source": [
    "best_estimator = RSCV.best_estimator_\n",
    "\n",
    "y_pred = best_estimator.predict(X_test)\n",
    "print(f\"Train accuracy: {balanced_accuracy_score(y_train, best_estimator.predict(X_train))}\")\n",
    "get_report(y_test, y_pred)"
   ]
  },
  {
   "cell_type": "code",
   "execution_count": 20,
   "id": "bde49f41-a5f1-4843-8f6d-962332521675",
   "metadata": {},
   "outputs": [
    {
     "data": {
      "text/plain": [
       "{'reg_lambda': 0.05,\n",
       " 'reg_alpha': 0.5,\n",
       " 'n_estimators': 1000,\n",
       " 'max_depth': 8,\n",
       " 'learning_rate': 0.01}"
      ]
     },
     "execution_count": 20,
     "metadata": {},
     "output_type": "execute_result"
    }
   ],
   "source": [
    "RSCV.best_params_"
   ]
  },
  {
   "cell_type": "code",
   "execution_count": 29,
   "id": "f93e5146-436a-458c-a21f-fb2e2a83cb1c",
   "metadata": {},
   "outputs": [],
   "source": [
    "X_train, X_test, y_train, y_test = train_test_split(X, y, test_size=0.15, stratify=y, random_state=RS)\n",
    "\n",
    "NFOLDS = 4\n",
    "kf = StratifiedKFold(n_splits=NFOLDS, shuffle=True, random_state=RS)\n",
    "\n",
    "scorer = make_scorer(balanced_accuracy_score, greater_is_better=True)  \n",
    "\n",
    "model = lgb.LGBMClassifier(class_weight='balanced', random_state=RS)\n",
    "\n",
    "parameters = {\n",
    "    'n_estimators': np.arange(925, 1100, 25),\n",
    "    'max_depth': [7, 8, 9],\n",
    "    'reg_alpha': [0.4, 0.5, 0.6],\n",
    "    'reg_lambda': [0.04, 0.05, 0.06],\n",
    "    'learning_rate': [0.01]\n",
    "}\n",
    "\n",
    "RSCV = RandomizedSearchCV(model, parameters, scoring=scorer, cv=kf, n_iter=333, verbose=1)"
   ]
  },
  {
   "cell_type": "code",
   "execution_count": 30,
   "id": "287386c1-5b41-4964-8748-4c4b5f390c14",
   "metadata": {},
   "outputs": [
    {
     "name": "stdout",
     "output_type": "stream",
     "text": [
      "Fitting 4 folds for each of 189 candidates, totalling 756 fits\n"
     ]
    },
    {
     "data": {
      "text/html": [
       "<style>#sk-container-id-5 {color: black;background-color: white;}#sk-container-id-5 pre{padding: 0;}#sk-container-id-5 div.sk-toggleable {background-color: white;}#sk-container-id-5 label.sk-toggleable__label {cursor: pointer;display: block;width: 100%;margin-bottom: 0;padding: 0.3em;box-sizing: border-box;text-align: center;}#sk-container-id-5 label.sk-toggleable__label-arrow:before {content: \"▸\";float: left;margin-right: 0.25em;color: #696969;}#sk-container-id-5 label.sk-toggleable__label-arrow:hover:before {color: black;}#sk-container-id-5 div.sk-estimator:hover label.sk-toggleable__label-arrow:before {color: black;}#sk-container-id-5 div.sk-toggleable__content {max-height: 0;max-width: 0;overflow: hidden;text-align: left;background-color: #f0f8ff;}#sk-container-id-5 div.sk-toggleable__content pre {margin: 0.2em;color: black;border-radius: 0.25em;background-color: #f0f8ff;}#sk-container-id-5 input.sk-toggleable__control:checked~div.sk-toggleable__content {max-height: 200px;max-width: 100%;overflow: auto;}#sk-container-id-5 input.sk-toggleable__control:checked~label.sk-toggleable__label-arrow:before {content: \"▾\";}#sk-container-id-5 div.sk-estimator input.sk-toggleable__control:checked~label.sk-toggleable__label {background-color: #d4ebff;}#sk-container-id-5 div.sk-label input.sk-toggleable__control:checked~label.sk-toggleable__label {background-color: #d4ebff;}#sk-container-id-5 input.sk-hidden--visually {border: 0;clip: rect(1px 1px 1px 1px);clip: rect(1px, 1px, 1px, 1px);height: 1px;margin: -1px;overflow: hidden;padding: 0;position: absolute;width: 1px;}#sk-container-id-5 div.sk-estimator {font-family: monospace;background-color: #f0f8ff;border: 1px dotted black;border-radius: 0.25em;box-sizing: border-box;margin-bottom: 0.5em;}#sk-container-id-5 div.sk-estimator:hover {background-color: #d4ebff;}#sk-container-id-5 div.sk-parallel-item::after {content: \"\";width: 100%;border-bottom: 1px solid gray;flex-grow: 1;}#sk-container-id-5 div.sk-label:hover label.sk-toggleable__label {background-color: #d4ebff;}#sk-container-id-5 div.sk-serial::before {content: \"\";position: absolute;border-left: 1px solid gray;box-sizing: border-box;top: 0;bottom: 0;left: 50%;z-index: 0;}#sk-container-id-5 div.sk-serial {display: flex;flex-direction: column;align-items: center;background-color: white;padding-right: 0.2em;padding-left: 0.2em;position: relative;}#sk-container-id-5 div.sk-item {position: relative;z-index: 1;}#sk-container-id-5 div.sk-parallel {display: flex;align-items: stretch;justify-content: center;background-color: white;position: relative;}#sk-container-id-5 div.sk-item::before, #sk-container-id-5 div.sk-parallel-item::before {content: \"\";position: absolute;border-left: 1px solid gray;box-sizing: border-box;top: 0;bottom: 0;left: 50%;z-index: -1;}#sk-container-id-5 div.sk-parallel-item {display: flex;flex-direction: column;z-index: 1;position: relative;background-color: white;}#sk-container-id-5 div.sk-parallel-item:first-child::after {align-self: flex-end;width: 50%;}#sk-container-id-5 div.sk-parallel-item:last-child::after {align-self: flex-start;width: 50%;}#sk-container-id-5 div.sk-parallel-item:only-child::after {width: 0;}#sk-container-id-5 div.sk-dashed-wrapped {border: 1px dashed gray;margin: 0 0.4em 0.5em 0.4em;box-sizing: border-box;padding-bottom: 0.4em;background-color: white;}#sk-container-id-5 div.sk-label label {font-family: monospace;font-weight: bold;display: inline-block;line-height: 1.2em;}#sk-container-id-5 div.sk-label-container {text-align: center;}#sk-container-id-5 div.sk-container {/* jupyter's `normalize.less` sets `[hidden] { display: none; }` but bootstrap.min.css set `[hidden] { display: none !important; }` so we also need the `!important` here to be able to override the default hidden behavior on the sphinx rendered scikit-learn.org. See: https://github.com/scikit-learn/scikit-learn/issues/21755 */display: inline-block !important;position: relative;}#sk-container-id-5 div.sk-text-repr-fallback {display: none;}</style><div id=\"sk-container-id-5\" class=\"sk-top-container\"><div class=\"sk-text-repr-fallback\"><pre>RandomizedSearchCV(cv=StratifiedKFold(n_splits=4, random_state=42, shuffle=True),\n",
       "                   estimator=LGBMClassifier(class_weight=&#x27;balanced&#x27;,\n",
       "                                            random_state=42),\n",
       "                   n_iter=333,\n",
       "                   param_distributions={&#x27;learning_rate&#x27;: [0.01],\n",
       "                                        &#x27;max_depth&#x27;: [7, 8, 9],\n",
       "                                        &#x27;n_estimators&#x27;: array([ 925,  950,  975, 1000, 1025, 1050, 1075]),\n",
       "                                        &#x27;reg_alpha&#x27;: [0.4, 0.5, 0.6],\n",
       "                                        &#x27;reg_lambda&#x27;: [0.04, 0.05, 0.06]},\n",
       "                   scoring=make_scorer(balanced_accuracy_score), verbose=1)</pre><b>In a Jupyter environment, please rerun this cell to show the HTML representation or trust the notebook. <br />On GitHub, the HTML representation is unable to render, please try loading this page with nbviewer.org.</b></div><div class=\"sk-container\" hidden><div class=\"sk-item sk-dashed-wrapped\"><div class=\"sk-label-container\"><div class=\"sk-label sk-toggleable\"><input class=\"sk-toggleable__control sk-hidden--visually\" id=\"sk-estimator-id-7\" type=\"checkbox\" ><label for=\"sk-estimator-id-7\" class=\"sk-toggleable__label sk-toggleable__label-arrow\">RandomizedSearchCV</label><div class=\"sk-toggleable__content\"><pre>RandomizedSearchCV(cv=StratifiedKFold(n_splits=4, random_state=42, shuffle=True),\n",
       "                   estimator=LGBMClassifier(class_weight=&#x27;balanced&#x27;,\n",
       "                                            random_state=42),\n",
       "                   n_iter=333,\n",
       "                   param_distributions={&#x27;learning_rate&#x27;: [0.01],\n",
       "                                        &#x27;max_depth&#x27;: [7, 8, 9],\n",
       "                                        &#x27;n_estimators&#x27;: array([ 925,  950,  975, 1000, 1025, 1050, 1075]),\n",
       "                                        &#x27;reg_alpha&#x27;: [0.4, 0.5, 0.6],\n",
       "                                        &#x27;reg_lambda&#x27;: [0.04, 0.05, 0.06]},\n",
       "                   scoring=make_scorer(balanced_accuracy_score), verbose=1)</pre></div></div></div><div class=\"sk-parallel\"><div class=\"sk-parallel-item\"><div class=\"sk-item\"><div class=\"sk-label-container\"><div class=\"sk-label sk-toggleable\"><input class=\"sk-toggleable__control sk-hidden--visually\" id=\"sk-estimator-id-8\" type=\"checkbox\" ><label for=\"sk-estimator-id-8\" class=\"sk-toggleable__label sk-toggleable__label-arrow\">estimator: LGBMClassifier</label><div class=\"sk-toggleable__content\"><pre>LGBMClassifier(class_weight=&#x27;balanced&#x27;, random_state=42)</pre></div></div></div><div class=\"sk-serial\"><div class=\"sk-item\"><div class=\"sk-estimator sk-toggleable\"><input class=\"sk-toggleable__control sk-hidden--visually\" id=\"sk-estimator-id-9\" type=\"checkbox\" ><label for=\"sk-estimator-id-9\" class=\"sk-toggleable__label sk-toggleable__label-arrow\">LGBMClassifier</label><div class=\"sk-toggleable__content\"><pre>LGBMClassifier(class_weight=&#x27;balanced&#x27;, random_state=42)</pre></div></div></div></div></div></div></div></div></div></div>"
      ],
      "text/plain": [
       "RandomizedSearchCV(cv=StratifiedKFold(n_splits=4, random_state=42, shuffle=True),\n",
       "                   estimator=LGBMClassifier(class_weight='balanced',\n",
       "                                            random_state=42),\n",
       "                   n_iter=333,\n",
       "                   param_distributions={'learning_rate': [0.01],\n",
       "                                        'max_depth': [7, 8, 9],\n",
       "                                        'n_estimators': array([ 925,  950,  975, 1000, 1025, 1050, 1075]),\n",
       "                                        'reg_alpha': [0.4, 0.5, 0.6],\n",
       "                                        'reg_lambda': [0.04, 0.05, 0.06]},\n",
       "                   scoring=make_scorer(balanced_accuracy_score), verbose=1)"
      ]
     },
     "execution_count": 30,
     "metadata": {},
     "output_type": "execute_result"
    }
   ],
   "source": [
    "RSCV.fit(X_train, y_train)"
   ]
  },
  {
   "cell_type": "code",
   "execution_count": 31,
   "id": "5f1e797c-9b24-4eea-9000-5e50af14d23c",
   "metadata": {},
   "outputs": [
    {
     "name": "stdout",
     "output_type": "stream",
     "text": [
      "Train accuracy: 0.8698910447348482\n",
      "Test accuracy:  0.7920812119821563\n",
      "Report: \n",
      "              precision    recall  f1-score   support\n",
      "\n",
      "           0       0.91      0.84      0.87      5388\n",
      "           1       0.59      0.75      0.66      1689\n",
      "\n",
      "    accuracy                           0.82      7077\n",
      "   macro avg       0.75      0.79      0.77      7077\n",
      "weighted avg       0.84      0.82      0.82      7077\n",
      "\n",
      "Confusion matrix:\n",
      "[[4516  872]\n",
      " [ 429 1260]]\n"
     ]
    }
   ],
   "source": [
    "best_estimator = RSCV.best_estimator_\n",
    "\n",
    "y_pred = best_estimator.predict(X_test)\n",
    "print(f\"Train accuracy: {balanced_accuracy_score(y_train, best_estimator.predict(X_train))}\")\n",
    "get_report(y_test, y_pred)"
   ]
  },
  {
   "cell_type": "code",
   "execution_count": 32,
   "id": "6ae32e35-f386-428d-8c3c-917e948319fc",
   "metadata": {},
   "outputs": [
    {
     "data": {
      "text/plain": [
       "{'reg_lambda': 0.06,\n",
       " 'reg_alpha': 0.5,\n",
       " 'n_estimators': 950,\n",
       " 'max_depth': 8,\n",
       " 'learning_rate': 0.01}"
      ]
     },
     "execution_count": 32,
     "metadata": {},
     "output_type": "execute_result"
    }
   ],
   "source": [
    "RSCV.best_params_"
   ]
  }
 ],
 "metadata": {
  "kernelspec": {
   "display_name": "Python 3 (ipykernel)",
   "language": "python",
   "name": "python3"
  },
  "language_info": {
   "codemirror_mode": {
    "name": "ipython",
    "version": 3
   },
   "file_extension": ".py",
   "mimetype": "text/x-python",
   "name": "python",
   "nbconvert_exporter": "python",
   "pygments_lexer": "ipython3",
   "version": "3.9.7"
  }
 },
 "nbformat": 4,
 "nbformat_minor": 5
}
