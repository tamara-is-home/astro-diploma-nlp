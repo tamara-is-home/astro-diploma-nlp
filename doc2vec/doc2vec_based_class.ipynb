{
 "cells": [
  {
   "cell_type": "markdown",
   "id": "61ddb478-ac39-49af-906a-2cba87e509a8",
   "metadata": {
    "tags": []
   },
   "source": [
    "### In this notebook, I will try to predict the telegrams' citation class labels based purely on doc2vec bodies representations using classical ML algorithm (LightGBM)\n",
    "\n",
    "### For the Neural Network approach see: https://colab.research.google.com/drive/16oUZ8StACapm4mHRnWmb-GGrun3Kr2EX?usp=sharing\n",
    "\n",
    "The problem is unbalanced, will use oversampling and class weights"
   ]
  },
  {
   "cell_type": "code",
   "execution_count": 151,
   "id": "2d43c94a-08aa-473c-b043-f211e0996673",
   "metadata": {},
   "outputs": [],
   "source": [
    "import lightgbm as lgb\n",
    "import pandas as pd\n",
    "import numpy as np\n",
    "\n",
    "from sklearn.model_selection import train_test_split, GridSearchCV, RandomizedSearchCV, KFold, StratifiedKFold\n",
    "from imblearn.over_sampling import RandomOverSampler\n",
    "from sklearn.metrics import balanced_accuracy_score, f1_score, classification_report, confusion_matrix, make_scorer"
   ]
  },
  {
   "cell_type": "code",
   "execution_count": 152,
   "id": "d82ae3ee-9245-4520-a6e4-3fbb7f6daa09",
   "metadata": {},
   "outputs": [],
   "source": [
    "import warnings\n",
    "warnings.filterwarnings(\"ignore\")"
   ]
  },
  {
   "cell_type": "code",
   "execution_count": 153,
   "id": "c427ae44-1fbf-464b-8693-a35a6e1810e6",
   "metadata": {},
   "outputs": [],
   "source": [
    "RS = 42"
   ]
  },
  {
   "cell_type": "code",
   "execution_count": 154,
   "id": "623179d7-605e-4315-b1a3-e09db5206b03",
   "metadata": {},
   "outputs": [],
   "source": [
    "def get_report(y_true, y_pred):\n",
    "    print(\"Test accuracy: \", balanced_accuracy_score(y_true, y_pred))\n",
    "    print(\"Report: \")\n",
    "    print(classification_report(y_true, y_pred))\n",
    "    print(\"Confusion matrix:\")\n",
    "    print(confusion_matrix(y_true, y_pred))"
   ]
  },
  {
   "cell_type": "code",
   "execution_count": 155,
   "id": "1fb4c055-3b48-47e5-84cd-33c0b1c479a9",
   "metadata": {},
   "outputs": [],
   "source": [
    "def get_class_weights(target_labels, n_classes: int):\n",
    "    total = len(target_labels)\n",
    "    class_weights = {}\n",
    "    for i in range(n_classes):\n",
    "        class_i_cnt = len(np.where(target_labels==i)[0])\n",
    "        class_weights[i] = (1 / class_i_cnt) * (total / n_classes)\n",
    "    return class_weights"
   ]
  },
  {
   "cell_type": "code",
   "execution_count": 156,
   "id": "2df5cec3-1d16-42aa-a55e-a190a109c273",
   "metadata": {},
   "outputs": [],
   "source": [
    "df_labels = pd.read_csv(\"../data/labels.csv\", index_col=0)[['citation_class']]\n",
    "df_doc_vec = pd.read_csv(\"doc_vectors.csv\", index_col=0)\n",
    "df = df_labels.join(df_doc_vec)"
   ]
  },
  {
   "cell_type": "code",
   "execution_count": 157,
   "id": "ee4e02c3-21de-441c-82be-347b6a167b4d",
   "metadata": {},
   "outputs": [
    {
     "data": {
      "text/html": [
       "<div>\n",
       "<style scoped>\n",
       "    .dataframe tbody tr th:only-of-type {\n",
       "        vertical-align: middle;\n",
       "    }\n",
       "\n",
       "    .dataframe tbody tr th {\n",
       "        vertical-align: top;\n",
       "    }\n",
       "\n",
       "    .dataframe thead th {\n",
       "        text-align: right;\n",
       "    }\n",
       "</style>\n",
       "<table border=\"1\" class=\"dataframe\">\n",
       "  <thead>\n",
       "    <tr style=\"text-align: right;\">\n",
       "      <th></th>\n",
       "      <th>citation_class</th>\n",
       "      <th>0</th>\n",
       "      <th>1</th>\n",
       "      <th>2</th>\n",
       "      <th>3</th>\n",
       "      <th>4</th>\n",
       "      <th>5</th>\n",
       "      <th>6</th>\n",
       "      <th>7</th>\n",
       "      <th>8</th>\n",
       "      <th>...</th>\n",
       "      <th>246</th>\n",
       "      <th>247</th>\n",
       "      <th>248</th>\n",
       "      <th>249</th>\n",
       "      <th>250</th>\n",
       "      <th>251</th>\n",
       "      <th>252</th>\n",
       "      <th>253</th>\n",
       "      <th>254</th>\n",
       "      <th>255</th>\n",
       "    </tr>\n",
       "    <tr>\n",
       "      <th>telegram_index</th>\n",
       "      <th></th>\n",
       "      <th></th>\n",
       "      <th></th>\n",
       "      <th></th>\n",
       "      <th></th>\n",
       "      <th></th>\n",
       "      <th></th>\n",
       "      <th></th>\n",
       "      <th></th>\n",
       "      <th></th>\n",
       "      <th></th>\n",
       "      <th></th>\n",
       "      <th></th>\n",
       "      <th></th>\n",
       "      <th></th>\n",
       "      <th></th>\n",
       "      <th></th>\n",
       "      <th></th>\n",
       "      <th></th>\n",
       "      <th></th>\n",
       "      <th></th>\n",
       "    </tr>\n",
       "  </thead>\n",
       "  <tbody>\n",
       "    <tr>\n",
       "      <th>3_atel</th>\n",
       "      <td>0</td>\n",
       "      <td>0.071868</td>\n",
       "      <td>-0.201624</td>\n",
       "      <td>0.271810</td>\n",
       "      <td>-0.027346</td>\n",
       "      <td>0.003459</td>\n",
       "      <td>-0.110452</td>\n",
       "      <td>-0.025864</td>\n",
       "      <td>-0.263887</td>\n",
       "      <td>0.206577</td>\n",
       "      <td>...</td>\n",
       "      <td>0.011202</td>\n",
       "      <td>-0.240187</td>\n",
       "      <td>0.078480</td>\n",
       "      <td>0.062145</td>\n",
       "      <td>0.063454</td>\n",
       "      <td>0.164338</td>\n",
       "      <td>0.146664</td>\n",
       "      <td>-0.192447</td>\n",
       "      <td>-0.208586</td>\n",
       "      <td>0.067344</td>\n",
       "    </tr>\n",
       "    <tr>\n",
       "      <th>2_atel</th>\n",
       "      <td>0</td>\n",
       "      <td>0.035786</td>\n",
       "      <td>-0.217161</td>\n",
       "      <td>0.282614</td>\n",
       "      <td>-0.033889</td>\n",
       "      <td>0.031198</td>\n",
       "      <td>-0.046244</td>\n",
       "      <td>-0.059987</td>\n",
       "      <td>-0.328853</td>\n",
       "      <td>0.239122</td>\n",
       "      <td>...</td>\n",
       "      <td>0.139342</td>\n",
       "      <td>-0.308597</td>\n",
       "      <td>0.063693</td>\n",
       "      <td>0.057740</td>\n",
       "      <td>0.121031</td>\n",
       "      <td>0.197053</td>\n",
       "      <td>0.044961</td>\n",
       "      <td>-0.165903</td>\n",
       "      <td>-0.115146</td>\n",
       "      <td>0.021687</td>\n",
       "    </tr>\n",
       "    <tr>\n",
       "      <th>4_atel</th>\n",
       "      <td>0</td>\n",
       "      <td>0.006793</td>\n",
       "      <td>-0.032616</td>\n",
       "      <td>0.075140</td>\n",
       "      <td>0.022439</td>\n",
       "      <td>0.020744</td>\n",
       "      <td>-0.061322</td>\n",
       "      <td>-0.183414</td>\n",
       "      <td>-0.094972</td>\n",
       "      <td>-0.037241</td>\n",
       "      <td>...</td>\n",
       "      <td>-0.043013</td>\n",
       "      <td>0.037575</td>\n",
       "      <td>0.002611</td>\n",
       "      <td>0.049404</td>\n",
       "      <td>-0.004333</td>\n",
       "      <td>0.127087</td>\n",
       "      <td>-0.182388</td>\n",
       "      <td>-0.061704</td>\n",
       "      <td>-0.121525</td>\n",
       "      <td>0.127395</td>\n",
       "    </tr>\n",
       "    <tr>\n",
       "      <th>5_atel</th>\n",
       "      <td>0</td>\n",
       "      <td>0.059242</td>\n",
       "      <td>-0.046478</td>\n",
       "      <td>0.014021</td>\n",
       "      <td>-0.004377</td>\n",
       "      <td>0.012646</td>\n",
       "      <td>0.059573</td>\n",
       "      <td>0.001543</td>\n",
       "      <td>-0.012033</td>\n",
       "      <td>-0.066125</td>\n",
       "      <td>...</td>\n",
       "      <td>-0.100126</td>\n",
       "      <td>0.050133</td>\n",
       "      <td>0.012575</td>\n",
       "      <td>0.122288</td>\n",
       "      <td>-0.076159</td>\n",
       "      <td>0.130226</td>\n",
       "      <td>-0.081526</td>\n",
       "      <td>-0.087177</td>\n",
       "      <td>-0.067171</td>\n",
       "      <td>0.134256</td>\n",
       "    </tr>\n",
       "    <tr>\n",
       "      <th>6_atel</th>\n",
       "      <td>0</td>\n",
       "      <td>0.061535</td>\n",
       "      <td>0.041484</td>\n",
       "      <td>0.156877</td>\n",
       "      <td>0.081235</td>\n",
       "      <td>0.027755</td>\n",
       "      <td>0.061770</td>\n",
       "      <td>-0.033926</td>\n",
       "      <td>-0.095284</td>\n",
       "      <td>0.004160</td>\n",
       "      <td>...</td>\n",
       "      <td>-0.097652</td>\n",
       "      <td>-0.170949</td>\n",
       "      <td>0.021982</td>\n",
       "      <td>0.089018</td>\n",
       "      <td>-0.137259</td>\n",
       "      <td>0.204253</td>\n",
       "      <td>-0.059254</td>\n",
       "      <td>0.035186</td>\n",
       "      <td>-0.212191</td>\n",
       "      <td>0.126887</td>\n",
       "    </tr>\n",
       "    <tr>\n",
       "      <th>...</th>\n",
       "      <td>...</td>\n",
       "      <td>...</td>\n",
       "      <td>...</td>\n",
       "      <td>...</td>\n",
       "      <td>...</td>\n",
       "      <td>...</td>\n",
       "      <td>...</td>\n",
       "      <td>...</td>\n",
       "      <td>...</td>\n",
       "      <td>...</td>\n",
       "      <td>...</td>\n",
       "      <td>...</td>\n",
       "      <td>...</td>\n",
       "      <td>...</td>\n",
       "      <td>...</td>\n",
       "      <td>...</td>\n",
       "      <td>...</td>\n",
       "      <td>...</td>\n",
       "      <td>...</td>\n",
       "      <td>...</td>\n",
       "      <td>...</td>\n",
       "    </tr>\n",
       "    <tr>\n",
       "      <th>16033_atel</th>\n",
       "      <td>0</td>\n",
       "      <td>-0.134906</td>\n",
       "      <td>-0.042763</td>\n",
       "      <td>0.117071</td>\n",
       "      <td>0.107838</td>\n",
       "      <td>0.154254</td>\n",
       "      <td>0.057849</td>\n",
       "      <td>-0.130010</td>\n",
       "      <td>-0.180962</td>\n",
       "      <td>-0.155351</td>\n",
       "      <td>...</td>\n",
       "      <td>-0.096712</td>\n",
       "      <td>-0.010427</td>\n",
       "      <td>0.036433</td>\n",
       "      <td>-0.107689</td>\n",
       "      <td>-0.104777</td>\n",
       "      <td>0.045682</td>\n",
       "      <td>-0.184436</td>\n",
       "      <td>-0.291302</td>\n",
       "      <td>-0.223877</td>\n",
       "      <td>0.116492</td>\n",
       "    </tr>\n",
       "    <tr>\n",
       "      <th>16034_atel</th>\n",
       "      <td>0</td>\n",
       "      <td>-0.232072</td>\n",
       "      <td>-0.048323</td>\n",
       "      <td>0.370639</td>\n",
       "      <td>0.093333</td>\n",
       "      <td>0.174632</td>\n",
       "      <td>0.103655</td>\n",
       "      <td>-0.195085</td>\n",
       "      <td>0.051462</td>\n",
       "      <td>-0.061205</td>\n",
       "      <td>...</td>\n",
       "      <td>-0.134886</td>\n",
       "      <td>-0.247225</td>\n",
       "      <td>-0.183990</td>\n",
       "      <td>0.009600</td>\n",
       "      <td>-0.115369</td>\n",
       "      <td>-0.053299</td>\n",
       "      <td>-0.091657</td>\n",
       "      <td>0.108027</td>\n",
       "      <td>-0.129829</td>\n",
       "      <td>0.142072</td>\n",
       "    </tr>\n",
       "    <tr>\n",
       "      <th>16035_atel</th>\n",
       "      <td>0</td>\n",
       "      <td>-0.109719</td>\n",
       "      <td>-0.080325</td>\n",
       "      <td>0.084469</td>\n",
       "      <td>0.070288</td>\n",
       "      <td>0.178452</td>\n",
       "      <td>0.094157</td>\n",
       "      <td>-0.094856</td>\n",
       "      <td>-0.190852</td>\n",
       "      <td>-0.139286</td>\n",
       "      <td>...</td>\n",
       "      <td>-0.095111</td>\n",
       "      <td>0.003520</td>\n",
       "      <td>-0.002844</td>\n",
       "      <td>-0.171705</td>\n",
       "      <td>-0.119383</td>\n",
       "      <td>0.038013</td>\n",
       "      <td>-0.231003</td>\n",
       "      <td>-0.288151</td>\n",
       "      <td>-0.205065</td>\n",
       "      <td>0.139147</td>\n",
       "    </tr>\n",
       "    <tr>\n",
       "      <th>16036_atel</th>\n",
       "      <td>0</td>\n",
       "      <td>-0.039038</td>\n",
       "      <td>-0.100450</td>\n",
       "      <td>0.139631</td>\n",
       "      <td>-0.059305</td>\n",
       "      <td>0.245493</td>\n",
       "      <td>-0.079391</td>\n",
       "      <td>0.039994</td>\n",
       "      <td>0.110079</td>\n",
       "      <td>-0.181670</td>\n",
       "      <td>...</td>\n",
       "      <td>0.016377</td>\n",
       "      <td>-0.139472</td>\n",
       "      <td>-0.110495</td>\n",
       "      <td>0.077223</td>\n",
       "      <td>0.006346</td>\n",
       "      <td>-0.022509</td>\n",
       "      <td>-0.166476</td>\n",
       "      <td>0.183221</td>\n",
       "      <td>-0.167263</td>\n",
       "      <td>0.250391</td>\n",
       "    </tr>\n",
       "    <tr>\n",
       "      <th>16037_atel</th>\n",
       "      <td>0</td>\n",
       "      <td>-0.023305</td>\n",
       "      <td>-0.124804</td>\n",
       "      <td>0.165784</td>\n",
       "      <td>0.107692</td>\n",
       "      <td>-0.052409</td>\n",
       "      <td>0.070990</td>\n",
       "      <td>-0.097568</td>\n",
       "      <td>-0.009924</td>\n",
       "      <td>-0.009867</td>\n",
       "      <td>...</td>\n",
       "      <td>-0.063445</td>\n",
       "      <td>0.000621</td>\n",
       "      <td>-0.148290</td>\n",
       "      <td>-0.019629</td>\n",
       "      <td>-0.096202</td>\n",
       "      <td>0.078240</td>\n",
       "      <td>-0.182030</td>\n",
       "      <td>-0.018399</td>\n",
       "      <td>-0.030203</td>\n",
       "      <td>0.165676</td>\n",
       "    </tr>\n",
       "  </tbody>\n",
       "</table>\n",
       "<p>48279 rows × 257 columns</p>\n",
       "</div>"
      ],
      "text/plain": [
       "                citation_class         0         1         2         3  \\\n",
       "telegram_index                                                           \n",
       "3_atel                       0  0.071868 -0.201624  0.271810 -0.027346   \n",
       "2_atel                       0  0.035786 -0.217161  0.282614 -0.033889   \n",
       "4_atel                       0  0.006793 -0.032616  0.075140  0.022439   \n",
       "5_atel                       0  0.059242 -0.046478  0.014021 -0.004377   \n",
       "6_atel                       0  0.061535  0.041484  0.156877  0.081235   \n",
       "...                        ...       ...       ...       ...       ...   \n",
       "16033_atel                   0 -0.134906 -0.042763  0.117071  0.107838   \n",
       "16034_atel                   0 -0.232072 -0.048323  0.370639  0.093333   \n",
       "16035_atel                   0 -0.109719 -0.080325  0.084469  0.070288   \n",
       "16036_atel                   0 -0.039038 -0.100450  0.139631 -0.059305   \n",
       "16037_atel                   0 -0.023305 -0.124804  0.165784  0.107692   \n",
       "\n",
       "                       4         5         6         7         8  ...  \\\n",
       "telegram_index                                                    ...   \n",
       "3_atel          0.003459 -0.110452 -0.025864 -0.263887  0.206577  ...   \n",
       "2_atel          0.031198 -0.046244 -0.059987 -0.328853  0.239122  ...   \n",
       "4_atel          0.020744 -0.061322 -0.183414 -0.094972 -0.037241  ...   \n",
       "5_atel          0.012646  0.059573  0.001543 -0.012033 -0.066125  ...   \n",
       "6_atel          0.027755  0.061770 -0.033926 -0.095284  0.004160  ...   \n",
       "...                  ...       ...       ...       ...       ...  ...   \n",
       "16033_atel      0.154254  0.057849 -0.130010 -0.180962 -0.155351  ...   \n",
       "16034_atel      0.174632  0.103655 -0.195085  0.051462 -0.061205  ...   \n",
       "16035_atel      0.178452  0.094157 -0.094856 -0.190852 -0.139286  ...   \n",
       "16036_atel      0.245493 -0.079391  0.039994  0.110079 -0.181670  ...   \n",
       "16037_atel     -0.052409  0.070990 -0.097568 -0.009924 -0.009867  ...   \n",
       "\n",
       "                     246       247       248       249       250       251  \\\n",
       "telegram_index                                                               \n",
       "3_atel          0.011202 -0.240187  0.078480  0.062145  0.063454  0.164338   \n",
       "2_atel          0.139342 -0.308597  0.063693  0.057740  0.121031  0.197053   \n",
       "4_atel         -0.043013  0.037575  0.002611  0.049404 -0.004333  0.127087   \n",
       "5_atel         -0.100126  0.050133  0.012575  0.122288 -0.076159  0.130226   \n",
       "6_atel         -0.097652 -0.170949  0.021982  0.089018 -0.137259  0.204253   \n",
       "...                  ...       ...       ...       ...       ...       ...   \n",
       "16033_atel     -0.096712 -0.010427  0.036433 -0.107689 -0.104777  0.045682   \n",
       "16034_atel     -0.134886 -0.247225 -0.183990  0.009600 -0.115369 -0.053299   \n",
       "16035_atel     -0.095111  0.003520 -0.002844 -0.171705 -0.119383  0.038013   \n",
       "16036_atel      0.016377 -0.139472 -0.110495  0.077223  0.006346 -0.022509   \n",
       "16037_atel     -0.063445  0.000621 -0.148290 -0.019629 -0.096202  0.078240   \n",
       "\n",
       "                     252       253       254       255  \n",
       "telegram_index                                          \n",
       "3_atel          0.146664 -0.192447 -0.208586  0.067344  \n",
       "2_atel          0.044961 -0.165903 -0.115146  0.021687  \n",
       "4_atel         -0.182388 -0.061704 -0.121525  0.127395  \n",
       "5_atel         -0.081526 -0.087177 -0.067171  0.134256  \n",
       "6_atel         -0.059254  0.035186 -0.212191  0.126887  \n",
       "...                  ...       ...       ...       ...  \n",
       "16033_atel     -0.184436 -0.291302 -0.223877  0.116492  \n",
       "16034_atel     -0.091657  0.108027 -0.129829  0.142072  \n",
       "16035_atel     -0.231003 -0.288151 -0.205065  0.139147  \n",
       "16036_atel     -0.166476  0.183221 -0.167263  0.250391  \n",
       "16037_atel     -0.182030 -0.018399 -0.030203  0.165676  \n",
       "\n",
       "[48279 rows x 257 columns]"
      ]
     },
     "execution_count": 157,
     "metadata": {},
     "output_type": "execute_result"
    }
   ],
   "source": [
    "df"
   ]
  },
  {
   "cell_type": "code",
   "execution_count": 158,
   "id": "f2dd5305-39f0-4d93-b9a3-493de37f93aa",
   "metadata": {},
   "outputs": [
    {
     "data": {
      "text/plain": [
       "0    36746\n",
       "1     9042\n",
       "2     2491\n",
       "Name: citation_class, dtype: int64"
      ]
     },
     "execution_count": 158,
     "metadata": {},
     "output_type": "execute_result"
    }
   ],
   "source": [
    "df.citation_class.value_counts()"
   ]
  },
  {
   "cell_type": "markdown",
   "id": "acaddcae-be36-40a4-b466-db880e4e7236",
   "metadata": {},
   "source": [
    "I'll remove the last 100 records from the data, as the latest telegrams might not had a chance to get cited, and might be missleading the model"
   ]
  },
  {
   "cell_type": "code",
   "execution_count": 159,
   "id": "ca58c1ad-44f0-4d8b-b91d-7503ef70b979",
   "metadata": {},
   "outputs": [],
   "source": [
    "df = df.iloc[:-100]"
   ]
  },
  {
   "cell_type": "code",
   "execution_count": 160,
   "id": "2558878e-63ef-4942-97e0-796cae42ab9b",
   "metadata": {},
   "outputs": [
    {
     "data": {
      "text/plain": [
       "48179"
      ]
     },
     "execution_count": 160,
     "metadata": {},
     "output_type": "execute_result"
    }
   ],
   "source": [
    "len(df)"
   ]
  },
  {
   "cell_type": "code",
   "execution_count": 161,
   "id": "70d0a33f-099a-4d4f-a589-2c2ecb474578",
   "metadata": {},
   "outputs": [],
   "source": [
    "X, y = df.iloc[:, 1:].values, df.citation_class.values.reshape(-1, 1)"
   ]
  },
  {
   "cell_type": "code",
   "execution_count": 162,
   "id": "ca64e999-a1ef-4356-aed1-78cfcdcb919c",
   "metadata": {},
   "outputs": [
    {
     "data": {
      "text/plain": [
       "((48179, 256), (48179, 1))"
      ]
     },
     "execution_count": 162,
     "metadata": {},
     "output_type": "execute_result"
    }
   ],
   "source": [
    "X.shape, y.shape"
   ]
  },
  {
   "cell_type": "markdown",
   "id": "4ff291aa-7f32-4286-b31d-58e63c7059f5",
   "metadata": {},
   "source": [
    "#### random params performance check (always stratifying as the classes are very imbalanced)"
   ]
  },
  {
   "cell_type": "code",
   "execution_count": 78,
   "id": "858fc7af-fb2e-4f4a-a94a-49cc71ec351a",
   "metadata": {},
   "outputs": [],
   "source": [
    "X_train, X_test, y_train, y_test = train_test_split(X, y, test_size=0.15, stratify=y, random_state=RS)"
   ]
  },
  {
   "cell_type": "code",
   "execution_count": 79,
   "id": "ae7d86f4-3d5c-4904-8889-dc832d9c75af",
   "metadata": {},
   "outputs": [
    {
     "data": {
      "text/html": [
       "<style>#sk-container-id-11 {color: black;background-color: white;}#sk-container-id-11 pre{padding: 0;}#sk-container-id-11 div.sk-toggleable {background-color: white;}#sk-container-id-11 label.sk-toggleable__label {cursor: pointer;display: block;width: 100%;margin-bottom: 0;padding: 0.3em;box-sizing: border-box;text-align: center;}#sk-container-id-11 label.sk-toggleable__label-arrow:before {content: \"▸\";float: left;margin-right: 0.25em;color: #696969;}#sk-container-id-11 label.sk-toggleable__label-arrow:hover:before {color: black;}#sk-container-id-11 div.sk-estimator:hover label.sk-toggleable__label-arrow:before {color: black;}#sk-container-id-11 div.sk-toggleable__content {max-height: 0;max-width: 0;overflow: hidden;text-align: left;background-color: #f0f8ff;}#sk-container-id-11 div.sk-toggleable__content pre {margin: 0.2em;color: black;border-radius: 0.25em;background-color: #f0f8ff;}#sk-container-id-11 input.sk-toggleable__control:checked~div.sk-toggleable__content {max-height: 200px;max-width: 100%;overflow: auto;}#sk-container-id-11 input.sk-toggleable__control:checked~label.sk-toggleable__label-arrow:before {content: \"▾\";}#sk-container-id-11 div.sk-estimator input.sk-toggleable__control:checked~label.sk-toggleable__label {background-color: #d4ebff;}#sk-container-id-11 div.sk-label input.sk-toggleable__control:checked~label.sk-toggleable__label {background-color: #d4ebff;}#sk-container-id-11 input.sk-hidden--visually {border: 0;clip: rect(1px 1px 1px 1px);clip: rect(1px, 1px, 1px, 1px);height: 1px;margin: -1px;overflow: hidden;padding: 0;position: absolute;width: 1px;}#sk-container-id-11 div.sk-estimator {font-family: monospace;background-color: #f0f8ff;border: 1px dotted black;border-radius: 0.25em;box-sizing: border-box;margin-bottom: 0.5em;}#sk-container-id-11 div.sk-estimator:hover {background-color: #d4ebff;}#sk-container-id-11 div.sk-parallel-item::after {content: \"\";width: 100%;border-bottom: 1px solid gray;flex-grow: 1;}#sk-container-id-11 div.sk-label:hover label.sk-toggleable__label {background-color: #d4ebff;}#sk-container-id-11 div.sk-serial::before {content: \"\";position: absolute;border-left: 1px solid gray;box-sizing: border-box;top: 0;bottom: 0;left: 50%;z-index: 0;}#sk-container-id-11 div.sk-serial {display: flex;flex-direction: column;align-items: center;background-color: white;padding-right: 0.2em;padding-left: 0.2em;position: relative;}#sk-container-id-11 div.sk-item {position: relative;z-index: 1;}#sk-container-id-11 div.sk-parallel {display: flex;align-items: stretch;justify-content: center;background-color: white;position: relative;}#sk-container-id-11 div.sk-item::before, #sk-container-id-11 div.sk-parallel-item::before {content: \"\";position: absolute;border-left: 1px solid gray;box-sizing: border-box;top: 0;bottom: 0;left: 50%;z-index: -1;}#sk-container-id-11 div.sk-parallel-item {display: flex;flex-direction: column;z-index: 1;position: relative;background-color: white;}#sk-container-id-11 div.sk-parallel-item:first-child::after {align-self: flex-end;width: 50%;}#sk-container-id-11 div.sk-parallel-item:last-child::after {align-self: flex-start;width: 50%;}#sk-container-id-11 div.sk-parallel-item:only-child::after {width: 0;}#sk-container-id-11 div.sk-dashed-wrapped {border: 1px dashed gray;margin: 0 0.4em 0.5em 0.4em;box-sizing: border-box;padding-bottom: 0.4em;background-color: white;}#sk-container-id-11 div.sk-label label {font-family: monospace;font-weight: bold;display: inline-block;line-height: 1.2em;}#sk-container-id-11 div.sk-label-container {text-align: center;}#sk-container-id-11 div.sk-container {/* jupyter's `normalize.less` sets `[hidden] { display: none; }` but bootstrap.min.css set `[hidden] { display: none !important; }` so we also need the `!important` here to be able to override the default hidden behavior on the sphinx rendered scikit-learn.org. See: https://github.com/scikit-learn/scikit-learn/issues/21755 */display: inline-block !important;position: relative;}#sk-container-id-11 div.sk-text-repr-fallback {display: none;}</style><div id=\"sk-container-id-11\" class=\"sk-top-container\"><div class=\"sk-text-repr-fallback\"><pre>LGBMClassifier(max_depth=4, n_estimators=150, random_state=42, reg_alpha=0.1)</pre><b>In a Jupyter environment, please rerun this cell to show the HTML representation or trust the notebook. <br />On GitHub, the HTML representation is unable to render, please try loading this page with nbviewer.org.</b></div><div class=\"sk-container\" hidden><div class=\"sk-item\"><div class=\"sk-estimator sk-toggleable\"><input class=\"sk-toggleable__control sk-hidden--visually\" id=\"sk-estimator-id-11\" type=\"checkbox\" checked><label for=\"sk-estimator-id-11\" class=\"sk-toggleable__label sk-toggleable__label-arrow\">LGBMClassifier</label><div class=\"sk-toggleable__content\"><pre>LGBMClassifier(max_depth=4, n_estimators=150, random_state=42, reg_alpha=0.1)</pre></div></div></div></div></div>"
      ],
      "text/plain": [
       "LGBMClassifier(max_depth=4, n_estimators=150, random_state=42, reg_alpha=0.1)"
      ]
     },
     "execution_count": 79,
     "metadata": {},
     "output_type": "execute_result"
    }
   ],
   "source": [
    "gbm = lgb.LGBMClassifier(max_depth=4, n_estimators=150, learning_rate=0.1, reg_alpha=0.1, random_state=RS)\n",
    "gbm.fit(X_train,y_train)"
   ]
  },
  {
   "cell_type": "code",
   "execution_count": 80,
   "id": "4d8fefb0-4d62-4a67-a54f-8f31e4000450",
   "metadata": {},
   "outputs": [],
   "source": [
    "y_pred = gbm.predict(X_test)"
   ]
  },
  {
   "cell_type": "code",
   "execution_count": 81,
   "id": "e4a25f44-1f62-4992-a7d8-28ac84177e92",
   "metadata": {},
   "outputs": [
    {
     "name": "stdout",
     "output_type": "stream",
     "text": [
      "Train accuracy: 0.5853050826338905\n",
      "Test accuracy:  0.5036772314247207\n",
      "Report: \n",
      "              precision    recall  f1-score   support\n",
      "\n",
      "           0       0.83      0.97      0.89      5500\n",
      "           1       0.58      0.25      0.35      1353\n",
      "           2       0.55      0.29      0.38       374\n",
      "\n",
      "    accuracy                           0.80      7227\n",
      "   macro avg       0.65      0.50      0.54      7227\n",
      "weighted avg       0.77      0.80      0.76      7227\n",
      "\n",
      "Confusion matrix:\n",
      "[[5320  156   24]\n",
      " [ 943  345   65]\n",
      " [ 170   96  108]]\n"
     ]
    }
   ],
   "source": [
    "print(f\"Train accuracy: {balanced_accuracy_score(y_train, gbm.predict(X_train))}\")\n",
    "get_report(y_test, y_pred)"
   ]
  },
  {
   "cell_type": "markdown",
   "id": "b42f02a3-1bc8-4d1d-9287-2a529afbdac2",
   "metadata": {
    "tags": []
   },
   "source": [
    "#### add oversampling"
   ]
  },
  {
   "cell_type": "code",
   "execution_count": 163,
   "id": "20a8d3e4-7f48-4ed2-b31b-674add06c413",
   "metadata": {},
   "outputs": [],
   "source": [
    "ros = RandomOverSampler(random_state=RS)"
   ]
  },
  {
   "cell_type": "code",
   "execution_count": 164,
   "id": "d29e0bce-44e2-4f00-9632-1cad894f4dc7",
   "metadata": {},
   "outputs": [],
   "source": [
    "X_train, y_train = ros.fit_resample(X_train, y_train)"
   ]
  },
  {
   "cell_type": "code",
   "execution_count": 165,
   "id": "e425e4a4-05a9-4694-9c1a-7be4aba2db82",
   "metadata": {},
   "outputs": [
    {
     "data": {
      "text/html": [
       "<style>#sk-container-id-20 {color: black;background-color: white;}#sk-container-id-20 pre{padding: 0;}#sk-container-id-20 div.sk-toggleable {background-color: white;}#sk-container-id-20 label.sk-toggleable__label {cursor: pointer;display: block;width: 100%;margin-bottom: 0;padding: 0.3em;box-sizing: border-box;text-align: center;}#sk-container-id-20 label.sk-toggleable__label-arrow:before {content: \"▸\";float: left;margin-right: 0.25em;color: #696969;}#sk-container-id-20 label.sk-toggleable__label-arrow:hover:before {color: black;}#sk-container-id-20 div.sk-estimator:hover label.sk-toggleable__label-arrow:before {color: black;}#sk-container-id-20 div.sk-toggleable__content {max-height: 0;max-width: 0;overflow: hidden;text-align: left;background-color: #f0f8ff;}#sk-container-id-20 div.sk-toggleable__content pre {margin: 0.2em;color: black;border-radius: 0.25em;background-color: #f0f8ff;}#sk-container-id-20 input.sk-toggleable__control:checked~div.sk-toggleable__content {max-height: 200px;max-width: 100%;overflow: auto;}#sk-container-id-20 input.sk-toggleable__control:checked~label.sk-toggleable__label-arrow:before {content: \"▾\";}#sk-container-id-20 div.sk-estimator input.sk-toggleable__control:checked~label.sk-toggleable__label {background-color: #d4ebff;}#sk-container-id-20 div.sk-label input.sk-toggleable__control:checked~label.sk-toggleable__label {background-color: #d4ebff;}#sk-container-id-20 input.sk-hidden--visually {border: 0;clip: rect(1px 1px 1px 1px);clip: rect(1px, 1px, 1px, 1px);height: 1px;margin: -1px;overflow: hidden;padding: 0;position: absolute;width: 1px;}#sk-container-id-20 div.sk-estimator {font-family: monospace;background-color: #f0f8ff;border: 1px dotted black;border-radius: 0.25em;box-sizing: border-box;margin-bottom: 0.5em;}#sk-container-id-20 div.sk-estimator:hover {background-color: #d4ebff;}#sk-container-id-20 div.sk-parallel-item::after {content: \"\";width: 100%;border-bottom: 1px solid gray;flex-grow: 1;}#sk-container-id-20 div.sk-label:hover label.sk-toggleable__label {background-color: #d4ebff;}#sk-container-id-20 div.sk-serial::before {content: \"\";position: absolute;border-left: 1px solid gray;box-sizing: border-box;top: 0;bottom: 0;left: 50%;z-index: 0;}#sk-container-id-20 div.sk-serial {display: flex;flex-direction: column;align-items: center;background-color: white;padding-right: 0.2em;padding-left: 0.2em;position: relative;}#sk-container-id-20 div.sk-item {position: relative;z-index: 1;}#sk-container-id-20 div.sk-parallel {display: flex;align-items: stretch;justify-content: center;background-color: white;position: relative;}#sk-container-id-20 div.sk-item::before, #sk-container-id-20 div.sk-parallel-item::before {content: \"\";position: absolute;border-left: 1px solid gray;box-sizing: border-box;top: 0;bottom: 0;left: 50%;z-index: -1;}#sk-container-id-20 div.sk-parallel-item {display: flex;flex-direction: column;z-index: 1;position: relative;background-color: white;}#sk-container-id-20 div.sk-parallel-item:first-child::after {align-self: flex-end;width: 50%;}#sk-container-id-20 div.sk-parallel-item:last-child::after {align-self: flex-start;width: 50%;}#sk-container-id-20 div.sk-parallel-item:only-child::after {width: 0;}#sk-container-id-20 div.sk-dashed-wrapped {border: 1px dashed gray;margin: 0 0.4em 0.5em 0.4em;box-sizing: border-box;padding-bottom: 0.4em;background-color: white;}#sk-container-id-20 div.sk-label label {font-family: monospace;font-weight: bold;display: inline-block;line-height: 1.2em;}#sk-container-id-20 div.sk-label-container {text-align: center;}#sk-container-id-20 div.sk-container {/* jupyter's `normalize.less` sets `[hidden] { display: none; }` but bootstrap.min.css set `[hidden] { display: none !important; }` so we also need the `!important` here to be able to override the default hidden behavior on the sphinx rendered scikit-learn.org. See: https://github.com/scikit-learn/scikit-learn/issues/21755 */display: inline-block !important;position: relative;}#sk-container-id-20 div.sk-text-repr-fallback {display: none;}</style><div id=\"sk-container-id-20\" class=\"sk-top-container\"><div class=\"sk-text-repr-fallback\"><pre>LGBMClassifier(max_depth=4, n_estimators=150, random_state=42, reg_alpha=0.1)</pre><b>In a Jupyter environment, please rerun this cell to show the HTML representation or trust the notebook. <br />On GitHub, the HTML representation is unable to render, please try loading this page with nbviewer.org.</b></div><div class=\"sk-container\" hidden><div class=\"sk-item\"><div class=\"sk-estimator sk-toggleable\"><input class=\"sk-toggleable__control sk-hidden--visually\" id=\"sk-estimator-id-30\" type=\"checkbox\" checked><label for=\"sk-estimator-id-30\" class=\"sk-toggleable__label sk-toggleable__label-arrow\">LGBMClassifier</label><div class=\"sk-toggleable__content\"><pre>LGBMClassifier(max_depth=4, n_estimators=150, random_state=42, reg_alpha=0.1)</pre></div></div></div></div></div>"
      ],
      "text/plain": [
       "LGBMClassifier(max_depth=4, n_estimators=150, random_state=42, reg_alpha=0.1)"
      ]
     },
     "execution_count": 165,
     "metadata": {},
     "output_type": "execute_result"
    }
   ],
   "source": [
    "gbm = lgb.LGBMClassifier(max_depth=4, n_estimators=150, learning_rate=0.1, reg_alpha=0.1, random_state=RS)\n",
    "gbm.fit(X_train,y_train)"
   ]
  },
  {
   "cell_type": "code",
   "execution_count": 166,
   "id": "fa2cae1d-b7a9-4437-be4c-d43e24df15cb",
   "metadata": {},
   "outputs": [
    {
     "name": "stdout",
     "output_type": "stream",
     "text": [
      "Train accuracy: 0.7943230553683917\n",
      "Test accuracy:  0.6532335405706998\n",
      "Report: \n",
      "              precision    recall  f1-score   support\n",
      "\n",
      "           0       0.91      0.76      0.83      5500\n",
      "           1       0.39      0.47      0.42      1353\n",
      "           2       0.27      0.74      0.39       374\n",
      "\n",
      "    accuracy                           0.70      7227\n",
      "   macro avg       0.52      0.65      0.55      7227\n",
      "weighted avg       0.78      0.70      0.73      7227\n",
      "\n",
      "Confusion matrix:\n",
      "[[4157  936  407]\n",
      " [ 364  634  355]\n",
      " [  33   66  275]]\n"
     ]
    }
   ],
   "source": [
    "y_pred = gbm.predict(X_test)\n",
    "y_pred_train = gbm.predict(X_train)\n",
    "print(f\"Train accuracy: {balanced_accuracy_score(y_train, y_pred_train)}\")\n",
    "get_report(y_test, y_pred)"
   ]
  },
  {
   "cell_type": "code",
   "execution_count": 167,
   "id": "61abad15-f183-4d5f-867c-751cdee69a38",
   "metadata": {},
   "outputs": [
    {
     "data": {
      "text/html": [
       "<style>#sk-container-id-21 {color: black;background-color: white;}#sk-container-id-21 pre{padding: 0;}#sk-container-id-21 div.sk-toggleable {background-color: white;}#sk-container-id-21 label.sk-toggleable__label {cursor: pointer;display: block;width: 100%;margin-bottom: 0;padding: 0.3em;box-sizing: border-box;text-align: center;}#sk-container-id-21 label.sk-toggleable__label-arrow:before {content: \"▸\";float: left;margin-right: 0.25em;color: #696969;}#sk-container-id-21 label.sk-toggleable__label-arrow:hover:before {color: black;}#sk-container-id-21 div.sk-estimator:hover label.sk-toggleable__label-arrow:before {color: black;}#sk-container-id-21 div.sk-toggleable__content {max-height: 0;max-width: 0;overflow: hidden;text-align: left;background-color: #f0f8ff;}#sk-container-id-21 div.sk-toggleable__content pre {margin: 0.2em;color: black;border-radius: 0.25em;background-color: #f0f8ff;}#sk-container-id-21 input.sk-toggleable__control:checked~div.sk-toggleable__content {max-height: 200px;max-width: 100%;overflow: auto;}#sk-container-id-21 input.sk-toggleable__control:checked~label.sk-toggleable__label-arrow:before {content: \"▾\";}#sk-container-id-21 div.sk-estimator input.sk-toggleable__control:checked~label.sk-toggleable__label {background-color: #d4ebff;}#sk-container-id-21 div.sk-label input.sk-toggleable__control:checked~label.sk-toggleable__label {background-color: #d4ebff;}#sk-container-id-21 input.sk-hidden--visually {border: 0;clip: rect(1px 1px 1px 1px);clip: rect(1px, 1px, 1px, 1px);height: 1px;margin: -1px;overflow: hidden;padding: 0;position: absolute;width: 1px;}#sk-container-id-21 div.sk-estimator {font-family: monospace;background-color: #f0f8ff;border: 1px dotted black;border-radius: 0.25em;box-sizing: border-box;margin-bottom: 0.5em;}#sk-container-id-21 div.sk-estimator:hover {background-color: #d4ebff;}#sk-container-id-21 div.sk-parallel-item::after {content: \"\";width: 100%;border-bottom: 1px solid gray;flex-grow: 1;}#sk-container-id-21 div.sk-label:hover label.sk-toggleable__label {background-color: #d4ebff;}#sk-container-id-21 div.sk-serial::before {content: \"\";position: absolute;border-left: 1px solid gray;box-sizing: border-box;top: 0;bottom: 0;left: 50%;z-index: 0;}#sk-container-id-21 div.sk-serial {display: flex;flex-direction: column;align-items: center;background-color: white;padding-right: 0.2em;padding-left: 0.2em;position: relative;}#sk-container-id-21 div.sk-item {position: relative;z-index: 1;}#sk-container-id-21 div.sk-parallel {display: flex;align-items: stretch;justify-content: center;background-color: white;position: relative;}#sk-container-id-21 div.sk-item::before, #sk-container-id-21 div.sk-parallel-item::before {content: \"\";position: absolute;border-left: 1px solid gray;box-sizing: border-box;top: 0;bottom: 0;left: 50%;z-index: -1;}#sk-container-id-21 div.sk-parallel-item {display: flex;flex-direction: column;z-index: 1;position: relative;background-color: white;}#sk-container-id-21 div.sk-parallel-item:first-child::after {align-self: flex-end;width: 50%;}#sk-container-id-21 div.sk-parallel-item:last-child::after {align-self: flex-start;width: 50%;}#sk-container-id-21 div.sk-parallel-item:only-child::after {width: 0;}#sk-container-id-21 div.sk-dashed-wrapped {border: 1px dashed gray;margin: 0 0.4em 0.5em 0.4em;box-sizing: border-box;padding-bottom: 0.4em;background-color: white;}#sk-container-id-21 div.sk-label label {font-family: monospace;font-weight: bold;display: inline-block;line-height: 1.2em;}#sk-container-id-21 div.sk-label-container {text-align: center;}#sk-container-id-21 div.sk-container {/* jupyter's `normalize.less` sets `[hidden] { display: none; }` but bootstrap.min.css set `[hidden] { display: none !important; }` so we also need the `!important` here to be able to override the default hidden behavior on the sphinx rendered scikit-learn.org. See: https://github.com/scikit-learn/scikit-learn/issues/21755 */display: inline-block !important;position: relative;}#sk-container-id-21 div.sk-text-repr-fallback {display: none;}</style><div id=\"sk-container-id-21\" class=\"sk-top-container\"><div class=\"sk-text-repr-fallback\"><pre>LGBMClassifier(max_depth=4, n_estimators=150, random_state=42, reg_alpha=0.1)</pre><b>In a Jupyter environment, please rerun this cell to show the HTML representation or trust the notebook. <br />On GitHub, the HTML representation is unable to render, please try loading this page with nbviewer.org.</b></div><div class=\"sk-container\" hidden><div class=\"sk-item\"><div class=\"sk-estimator sk-toggleable\"><input class=\"sk-toggleable__control sk-hidden--visually\" id=\"sk-estimator-id-31\" type=\"checkbox\" checked><label for=\"sk-estimator-id-31\" class=\"sk-toggleable__label sk-toggleable__label-arrow\">LGBMClassifier</label><div class=\"sk-toggleable__content\"><pre>LGBMClassifier(max_depth=4, n_estimators=150, random_state=42, reg_alpha=0.1)</pre></div></div></div></div></div>"
      ],
      "text/plain": [
       "LGBMClassifier(max_depth=4, n_estimators=150, random_state=42, reg_alpha=0.1)"
      ]
     },
     "execution_count": 167,
     "metadata": {},
     "output_type": "execute_result"
    }
   ],
   "source": [
    "# try binary\n",
    "y_test[y_test>1] = 1\n",
    "y_train[y_train>1] = 1\n",
    "gbm = lgb.LGBMClassifier(max_depth=4, n_estimators=150, learning_rate=0.1, reg_alpha=0.1, random_state=RS)\n",
    "gbm.fit(X_train,y_train)"
   ]
  },
  {
   "cell_type": "code",
   "execution_count": 168,
   "id": "72ac9594-92fc-4b0e-a88d-93e50c8959e1",
   "metadata": {},
   "outputs": [
    {
     "name": "stdout",
     "output_type": "stream",
     "text": [
      "Train accuracy: 0.8269243109699361\n",
      "Test accuracy:  0.757174869716271\n",
      "Report: \n",
      "              precision    recall  f1-score   support\n",
      "\n",
      "           0       0.93      0.69      0.79      5500\n",
      "           1       0.46      0.82      0.59      1727\n",
      "\n",
      "    accuracy                           0.72      7227\n",
      "   macro avg       0.69      0.76      0.69      7227\n",
      "weighted avg       0.81      0.72      0.74      7227\n",
      "\n",
      "Confusion matrix:\n",
      "[[3813 1687]\n",
      " [ 309 1418]]\n"
     ]
    }
   ],
   "source": [
    "y_pred = gbm.predict(X_test)\n",
    "y_pred_train = gbm.predict(X_train)\n",
    "print(f\"Train accuracy: {balanced_accuracy_score(y_train, y_pred_train)}\")\n",
    "get_report(y_test, y_pred)"
   ]
  },
  {
   "cell_type": "markdown",
   "id": "c9a9e2b1-0339-414b-969f-4f0d1ae2bf7f",
   "metadata": {},
   "source": [
    "#### add class weights (thru params and manually)"
   ]
  },
  {
   "cell_type": "code",
   "execution_count": 86,
   "id": "95dec7c4-56a3-47f9-88e8-ec610848170e",
   "metadata": {},
   "outputs": [],
   "source": [
    "X_train, X_test, y_train, y_test = train_test_split(X, y, test_size=0.15, stratify=y, random_state=RS)"
   ]
  },
  {
   "cell_type": "code",
   "execution_count": 87,
   "id": "2a0fe905-23b3-4364-9163-35c501995eec",
   "metadata": {},
   "outputs": [
    {
     "data": {
      "text/html": [
       "<style>#sk-container-id-13 {color: black;background-color: white;}#sk-container-id-13 pre{padding: 0;}#sk-container-id-13 div.sk-toggleable {background-color: white;}#sk-container-id-13 label.sk-toggleable__label {cursor: pointer;display: block;width: 100%;margin-bottom: 0;padding: 0.3em;box-sizing: border-box;text-align: center;}#sk-container-id-13 label.sk-toggleable__label-arrow:before {content: \"▸\";float: left;margin-right: 0.25em;color: #696969;}#sk-container-id-13 label.sk-toggleable__label-arrow:hover:before {color: black;}#sk-container-id-13 div.sk-estimator:hover label.sk-toggleable__label-arrow:before {color: black;}#sk-container-id-13 div.sk-toggleable__content {max-height: 0;max-width: 0;overflow: hidden;text-align: left;background-color: #f0f8ff;}#sk-container-id-13 div.sk-toggleable__content pre {margin: 0.2em;color: black;border-radius: 0.25em;background-color: #f0f8ff;}#sk-container-id-13 input.sk-toggleable__control:checked~div.sk-toggleable__content {max-height: 200px;max-width: 100%;overflow: auto;}#sk-container-id-13 input.sk-toggleable__control:checked~label.sk-toggleable__label-arrow:before {content: \"▾\";}#sk-container-id-13 div.sk-estimator input.sk-toggleable__control:checked~label.sk-toggleable__label {background-color: #d4ebff;}#sk-container-id-13 div.sk-label input.sk-toggleable__control:checked~label.sk-toggleable__label {background-color: #d4ebff;}#sk-container-id-13 input.sk-hidden--visually {border: 0;clip: rect(1px 1px 1px 1px);clip: rect(1px, 1px, 1px, 1px);height: 1px;margin: -1px;overflow: hidden;padding: 0;position: absolute;width: 1px;}#sk-container-id-13 div.sk-estimator {font-family: monospace;background-color: #f0f8ff;border: 1px dotted black;border-radius: 0.25em;box-sizing: border-box;margin-bottom: 0.5em;}#sk-container-id-13 div.sk-estimator:hover {background-color: #d4ebff;}#sk-container-id-13 div.sk-parallel-item::after {content: \"\";width: 100%;border-bottom: 1px solid gray;flex-grow: 1;}#sk-container-id-13 div.sk-label:hover label.sk-toggleable__label {background-color: #d4ebff;}#sk-container-id-13 div.sk-serial::before {content: \"\";position: absolute;border-left: 1px solid gray;box-sizing: border-box;top: 0;bottom: 0;left: 50%;z-index: 0;}#sk-container-id-13 div.sk-serial {display: flex;flex-direction: column;align-items: center;background-color: white;padding-right: 0.2em;padding-left: 0.2em;position: relative;}#sk-container-id-13 div.sk-item {position: relative;z-index: 1;}#sk-container-id-13 div.sk-parallel {display: flex;align-items: stretch;justify-content: center;background-color: white;position: relative;}#sk-container-id-13 div.sk-item::before, #sk-container-id-13 div.sk-parallel-item::before {content: \"\";position: absolute;border-left: 1px solid gray;box-sizing: border-box;top: 0;bottom: 0;left: 50%;z-index: -1;}#sk-container-id-13 div.sk-parallel-item {display: flex;flex-direction: column;z-index: 1;position: relative;background-color: white;}#sk-container-id-13 div.sk-parallel-item:first-child::after {align-self: flex-end;width: 50%;}#sk-container-id-13 div.sk-parallel-item:last-child::after {align-self: flex-start;width: 50%;}#sk-container-id-13 div.sk-parallel-item:only-child::after {width: 0;}#sk-container-id-13 div.sk-dashed-wrapped {border: 1px dashed gray;margin: 0 0.4em 0.5em 0.4em;box-sizing: border-box;padding-bottom: 0.4em;background-color: white;}#sk-container-id-13 div.sk-label label {font-family: monospace;font-weight: bold;display: inline-block;line-height: 1.2em;}#sk-container-id-13 div.sk-label-container {text-align: center;}#sk-container-id-13 div.sk-container {/* jupyter's `normalize.less` sets `[hidden] { display: none; }` but bootstrap.min.css set `[hidden] { display: none !important; }` so we also need the `!important` here to be able to override the default hidden behavior on the sphinx rendered scikit-learn.org. See: https://github.com/scikit-learn/scikit-learn/issues/21755 */display: inline-block !important;position: relative;}#sk-container-id-13 div.sk-text-repr-fallback {display: none;}</style><div id=\"sk-container-id-13\" class=\"sk-top-container\"><div class=\"sk-text-repr-fallback\"><pre>LGBMClassifier(class_weight=&#x27;balanced&#x27;, max_depth=4, n_estimators=150,\n",
       "               random_state=42, reg_alpha=0.1)</pre><b>In a Jupyter environment, please rerun this cell to show the HTML representation or trust the notebook. <br />On GitHub, the HTML representation is unable to render, please try loading this page with nbviewer.org.</b></div><div class=\"sk-container\" hidden><div class=\"sk-item\"><div class=\"sk-estimator sk-toggleable\"><input class=\"sk-toggleable__control sk-hidden--visually\" id=\"sk-estimator-id-13\" type=\"checkbox\" checked><label for=\"sk-estimator-id-13\" class=\"sk-toggleable__label sk-toggleable__label-arrow\">LGBMClassifier</label><div class=\"sk-toggleable__content\"><pre>LGBMClassifier(class_weight=&#x27;balanced&#x27;, max_depth=4, n_estimators=150,\n",
       "               random_state=42, reg_alpha=0.1)</pre></div></div></div></div></div>"
      ],
      "text/plain": [
       "LGBMClassifier(class_weight='balanced', max_depth=4, n_estimators=150,\n",
       "               random_state=42, reg_alpha=0.1)"
      ]
     },
     "execution_count": 87,
     "metadata": {},
     "output_type": "execute_result"
    }
   ],
   "source": [
    "gbm = lgb.LGBMClassifier(max_depth=4, n_estimators=150, learning_rate=0.1, reg_alpha=0.1, class_weight='balanced', random_state=RS)\n",
    "gbm.fit(X_train,y_train)"
   ]
  },
  {
   "cell_type": "code",
   "execution_count": 88,
   "id": "804e6403-deeb-4ce0-9690-35eeee26690e",
   "metadata": {},
   "outputs": [
    {
     "name": "stdout",
     "output_type": "stream",
     "text": [
      "Train accuracy: 0.784702428931087\n",
      "Test accuracy:  0.6510215208034433\n",
      "Report: \n",
      "              precision    recall  f1-score   support\n",
      "\n",
      "           0       0.91      0.76      0.83      5500\n",
      "           1       0.39      0.47      0.43      1353\n",
      "           2       0.26      0.72      0.39       374\n",
      "\n",
      "    accuracy                           0.70      7227\n",
      "   macro avg       0.52      0.65      0.55      7227\n",
      "weighted avg       0.78      0.70      0.73      7227\n",
      "\n",
      "Confusion matrix:\n",
      "[[4159  944  397]\n",
      " [ 359  639  355]\n",
      " [  33   70  271]]\n"
     ]
    }
   ],
   "source": [
    "y_pred = gbm.predict(X_test)\n",
    "print(f\"Train accuracy: {balanced_accuracy_score(y_train, gbm.predict(X_train))}\")\n",
    "get_report(y_test, y_pred)"
   ]
  },
  {
   "cell_type": "code",
   "execution_count": 89,
   "id": "3b67b53f-da84-432d-a79a-c1b44e918ae5",
   "metadata": {},
   "outputs": [
    {
     "data": {
      "text/plain": [
       "{0: 0.43798692739156914, 1: 1.780056159018695, 2: 6.449665327978581}"
      ]
     },
     "execution_count": 89,
     "metadata": {},
     "output_type": "execute_result"
    }
   ],
   "source": [
    "# manually\n",
    "class_weights = get_class_weights(y, 3)\n",
    "class_weights"
   ]
  },
  {
   "cell_type": "code",
   "execution_count": 90,
   "id": "2dafd8bc-e304-4da3-ab81-217cfd2271de",
   "metadata": {},
   "outputs": [
    {
     "data": {
      "text/html": [
       "<style>#sk-container-id-14 {color: black;background-color: white;}#sk-container-id-14 pre{padding: 0;}#sk-container-id-14 div.sk-toggleable {background-color: white;}#sk-container-id-14 label.sk-toggleable__label {cursor: pointer;display: block;width: 100%;margin-bottom: 0;padding: 0.3em;box-sizing: border-box;text-align: center;}#sk-container-id-14 label.sk-toggleable__label-arrow:before {content: \"▸\";float: left;margin-right: 0.25em;color: #696969;}#sk-container-id-14 label.sk-toggleable__label-arrow:hover:before {color: black;}#sk-container-id-14 div.sk-estimator:hover label.sk-toggleable__label-arrow:before {color: black;}#sk-container-id-14 div.sk-toggleable__content {max-height: 0;max-width: 0;overflow: hidden;text-align: left;background-color: #f0f8ff;}#sk-container-id-14 div.sk-toggleable__content pre {margin: 0.2em;color: black;border-radius: 0.25em;background-color: #f0f8ff;}#sk-container-id-14 input.sk-toggleable__control:checked~div.sk-toggleable__content {max-height: 200px;max-width: 100%;overflow: auto;}#sk-container-id-14 input.sk-toggleable__control:checked~label.sk-toggleable__label-arrow:before {content: \"▾\";}#sk-container-id-14 div.sk-estimator input.sk-toggleable__control:checked~label.sk-toggleable__label {background-color: #d4ebff;}#sk-container-id-14 div.sk-label input.sk-toggleable__control:checked~label.sk-toggleable__label {background-color: #d4ebff;}#sk-container-id-14 input.sk-hidden--visually {border: 0;clip: rect(1px 1px 1px 1px);clip: rect(1px, 1px, 1px, 1px);height: 1px;margin: -1px;overflow: hidden;padding: 0;position: absolute;width: 1px;}#sk-container-id-14 div.sk-estimator {font-family: monospace;background-color: #f0f8ff;border: 1px dotted black;border-radius: 0.25em;box-sizing: border-box;margin-bottom: 0.5em;}#sk-container-id-14 div.sk-estimator:hover {background-color: #d4ebff;}#sk-container-id-14 div.sk-parallel-item::after {content: \"\";width: 100%;border-bottom: 1px solid gray;flex-grow: 1;}#sk-container-id-14 div.sk-label:hover label.sk-toggleable__label {background-color: #d4ebff;}#sk-container-id-14 div.sk-serial::before {content: \"\";position: absolute;border-left: 1px solid gray;box-sizing: border-box;top: 0;bottom: 0;left: 50%;z-index: 0;}#sk-container-id-14 div.sk-serial {display: flex;flex-direction: column;align-items: center;background-color: white;padding-right: 0.2em;padding-left: 0.2em;position: relative;}#sk-container-id-14 div.sk-item {position: relative;z-index: 1;}#sk-container-id-14 div.sk-parallel {display: flex;align-items: stretch;justify-content: center;background-color: white;position: relative;}#sk-container-id-14 div.sk-item::before, #sk-container-id-14 div.sk-parallel-item::before {content: \"\";position: absolute;border-left: 1px solid gray;box-sizing: border-box;top: 0;bottom: 0;left: 50%;z-index: -1;}#sk-container-id-14 div.sk-parallel-item {display: flex;flex-direction: column;z-index: 1;position: relative;background-color: white;}#sk-container-id-14 div.sk-parallel-item:first-child::after {align-self: flex-end;width: 50%;}#sk-container-id-14 div.sk-parallel-item:last-child::after {align-self: flex-start;width: 50%;}#sk-container-id-14 div.sk-parallel-item:only-child::after {width: 0;}#sk-container-id-14 div.sk-dashed-wrapped {border: 1px dashed gray;margin: 0 0.4em 0.5em 0.4em;box-sizing: border-box;padding-bottom: 0.4em;background-color: white;}#sk-container-id-14 div.sk-label label {font-family: monospace;font-weight: bold;display: inline-block;line-height: 1.2em;}#sk-container-id-14 div.sk-label-container {text-align: center;}#sk-container-id-14 div.sk-container {/* jupyter's `normalize.less` sets `[hidden] { display: none; }` but bootstrap.min.css set `[hidden] { display: none !important; }` so we also need the `!important` here to be able to override the default hidden behavior on the sphinx rendered scikit-learn.org. See: https://github.com/scikit-learn/scikit-learn/issues/21755 */display: inline-block !important;position: relative;}#sk-container-id-14 div.sk-text-repr-fallback {display: none;}</style><div id=\"sk-container-id-14\" class=\"sk-top-container\"><div class=\"sk-text-repr-fallback\"><pre>LGBMClassifier(class_weight={0: 0.43798692739156914, 1: 1.780056159018695,\n",
       "                             2: 6.449665327978581},\n",
       "               max_depth=4, n_estimators=150, random_state=42, reg_alpha=0.1)</pre><b>In a Jupyter environment, please rerun this cell to show the HTML representation or trust the notebook. <br />On GitHub, the HTML representation is unable to render, please try loading this page with nbviewer.org.</b></div><div class=\"sk-container\" hidden><div class=\"sk-item\"><div class=\"sk-estimator sk-toggleable\"><input class=\"sk-toggleable__control sk-hidden--visually\" id=\"sk-estimator-id-14\" type=\"checkbox\" checked><label for=\"sk-estimator-id-14\" class=\"sk-toggleable__label sk-toggleable__label-arrow\">LGBMClassifier</label><div class=\"sk-toggleable__content\"><pre>LGBMClassifier(class_weight={0: 0.43798692739156914, 1: 1.780056159018695,\n",
       "                             2: 6.449665327978581},\n",
       "               max_depth=4, n_estimators=150, random_state=42, reg_alpha=0.1)</pre></div></div></div></div></div>"
      ],
      "text/plain": [
       "LGBMClassifier(class_weight={0: 0.43798692739156914, 1: 1.780056159018695,\n",
       "                             2: 6.449665327978581},\n",
       "               max_depth=4, n_estimators=150, random_state=42, reg_alpha=0.1)"
      ]
     },
     "execution_count": 90,
     "metadata": {},
     "output_type": "execute_result"
    }
   ],
   "source": [
    "gbm = lgb.LGBMClassifier(max_depth=4, n_estimators=150, learning_rate=0.1, reg_alpha=0.1, class_weight=class_weights, random_state=RS)\n",
    "gbm.fit(X_train,y_train)"
   ]
  },
  {
   "cell_type": "code",
   "execution_count": 91,
   "id": "2665ad05-fe1c-463b-a2ab-407f87fe9b9c",
   "metadata": {},
   "outputs": [
    {
     "name": "stdout",
     "output_type": "stream",
     "text": [
      "Train accuracy: 0.7844613033443442\n",
      "Test accuracy:  0.6510485341217048\n",
      "Report: \n",
      "              precision    recall  f1-score   support\n",
      "\n",
      "           0       0.91      0.76      0.83      5500\n",
      "           1       0.39      0.47      0.43      1353\n",
      "           2       0.26      0.73      0.39       374\n",
      "\n",
      "    accuracy                           0.70      7227\n",
      "   macro avg       0.52      0.65      0.55      7227\n",
      "weighted avg       0.78      0.70      0.73      7227\n",
      "\n",
      "Confusion matrix:\n",
      "[[4161  923  416]\n",
      " [ 368  635  350]\n",
      " [  36   66  272]]\n"
     ]
    }
   ],
   "source": [
    "y_pred = gbm.predict(X_test)\n",
    "print(f\"Train accuracy: {balanced_accuracy_score(y_train, gbm.predict(X_train))}\")\n",
    "get_report(y_test, y_pred)"
   ]
  },
  {
   "cell_type": "markdown",
   "id": "0c78b3b7-fc5f-47ab-917f-eb42a00fcc77",
   "metadata": {},
   "source": [
    "#### class weights with oversampling"
   ]
  },
  {
   "cell_type": "code",
   "execution_count": 92,
   "id": "03274fd5-300f-453f-aaf8-45eb5f4642f2",
   "metadata": {},
   "outputs": [
    {
     "name": "stdout",
     "output_type": "stream",
     "text": [
      "Train accuracy: 0.706495117699276\n",
      "Test accuracy:  0.6242032375403967\n",
      "Report: \n",
      "              precision    recall  f1-score   support\n",
      "\n",
      "           0       0.97      0.44      0.61      5500\n",
      "           1       0.26      0.56      0.35      1353\n",
      "           2       0.19      0.87      0.31       374\n",
      "\n",
      "    accuracy                           0.49      7227\n",
      "   macro avg       0.47      0.62      0.42      7227\n",
      "weighted avg       0.80      0.49      0.54      7227\n",
      "\n",
      "Confusion matrix:\n",
      "[[2428 2168  904]\n",
      " [  71  757  525]\n",
      " [   5   43  326]]\n"
     ]
    }
   ],
   "source": [
    "X_train, X_test, y_train, y_test = train_test_split(X, y, test_size=0.15, stratify=y, random_state=RS)\n",
    "X_train, y_train = ros.fit_resample(X_train, y_train)\n",
    "\n",
    "gbm = lgb.LGBMClassifier(max_depth=4, n_estimators=150, learning_rate=0.1, reg_alpha=0.1, class_weight=class_weights, random_state=RS)\n",
    "gbm.fit(X_train,y_train)\n",
    "\n",
    "y_pred = gbm.predict(X_test)\n",
    "print(f\"Train accuracy: {balanced_accuracy_score(y_train, gbm.predict(X_train))}\")\n",
    "get_report(y_test, y_pred)"
   ]
  },
  {
   "cell_type": "markdown",
   "id": "95d2d7ba-2792-4be5-ab2b-028903be9f07",
   "metadata": {},
   "source": [
    "### Proceed with the model tuning. Oversampling included"
   ]
  },
  {
   "cell_type": "code",
   "execution_count": 112,
   "id": "c16207f4-3adc-4d88-ab81-18fc29cc831c",
   "metadata": {},
   "outputs": [],
   "source": [
    "X_train, X_test, y_train, y_test = train_test_split(X, y, test_size=0.15, stratify=y, random_state=RS)\n",
    "X_train, y_train = ros.fit_resample(X_train, y_train)"
   ]
  },
  {
   "cell_type": "code",
   "execution_count": 119,
   "id": "b0d6dc48-3512-4809-a820-5dbe073d670c",
   "metadata": {},
   "outputs": [],
   "source": [
    "NFOLDS = 3\n",
    "kf = StratifiedKFold(n_splits=NFOLDS, shuffle=True, random_state=RS)"
   ]
  },
  {
   "cell_type": "code",
   "execution_count": 120,
   "id": "d8c5d002-adb8-4546-86ff-f69b499c6e37",
   "metadata": {},
   "outputs": [],
   "source": [
    "scorer = make_scorer(balanced_accuracy_score, greater_is_better=True)  "
   ]
  },
  {
   "cell_type": "code",
   "execution_count": 117,
   "id": "502252f8-78a7-4ac4-9cb8-c32c409e2ffb",
   "metadata": {},
   "outputs": [],
   "source": [
    "model = lgb.LGBMClassifier()"
   ]
  },
  {
   "cell_type": "code",
   "execution_count": 121,
   "id": "2a6c64d0-8221-4c68-be4b-ea58ad223b02",
   "metadata": {},
   "outputs": [],
   "source": [
    "parameters = {\n",
    "    'n_estimators': [100, 250, 500, 1000],\n",
    "    'max_depth': [2, 4, 6],\n",
    "    'reg_alpha': [0.1, 1],\n",
    "    'learning_rate': [0.001, 0.01, 0.1]\n",
    "}"
   ]
  },
  {
   "cell_type": "code",
   "execution_count": 122,
   "id": "216f43bd-82d4-494c-8763-d173fa06b477",
   "metadata": {},
   "outputs": [],
   "source": [
    "RSCV = RandomizedSearchCV(model, parameters, scoring=scorer, cv=kf, n_iter=333, verbose=3)"
   ]
  },
  {
   "cell_type": "code",
   "execution_count": 123,
   "id": "91b2bcea-3e67-4b64-af30-874249d0fc9a",
   "metadata": {},
   "outputs": [
    {
     "data": {
      "text/html": [
       "<style>#sk-container-id-18 {color: black;background-color: white;}#sk-container-id-18 pre{padding: 0;}#sk-container-id-18 div.sk-toggleable {background-color: white;}#sk-container-id-18 label.sk-toggleable__label {cursor: pointer;display: block;width: 100%;margin-bottom: 0;padding: 0.3em;box-sizing: border-box;text-align: center;}#sk-container-id-18 label.sk-toggleable__label-arrow:before {content: \"▸\";float: left;margin-right: 0.25em;color: #696969;}#sk-container-id-18 label.sk-toggleable__label-arrow:hover:before {color: black;}#sk-container-id-18 div.sk-estimator:hover label.sk-toggleable__label-arrow:before {color: black;}#sk-container-id-18 div.sk-toggleable__content {max-height: 0;max-width: 0;overflow: hidden;text-align: left;background-color: #f0f8ff;}#sk-container-id-18 div.sk-toggleable__content pre {margin: 0.2em;color: black;border-radius: 0.25em;background-color: #f0f8ff;}#sk-container-id-18 input.sk-toggleable__control:checked~div.sk-toggleable__content {max-height: 200px;max-width: 100%;overflow: auto;}#sk-container-id-18 input.sk-toggleable__control:checked~label.sk-toggleable__label-arrow:before {content: \"▾\";}#sk-container-id-18 div.sk-estimator input.sk-toggleable__control:checked~label.sk-toggleable__label {background-color: #d4ebff;}#sk-container-id-18 div.sk-label input.sk-toggleable__control:checked~label.sk-toggleable__label {background-color: #d4ebff;}#sk-container-id-18 input.sk-hidden--visually {border: 0;clip: rect(1px 1px 1px 1px);clip: rect(1px, 1px, 1px, 1px);height: 1px;margin: -1px;overflow: hidden;padding: 0;position: absolute;width: 1px;}#sk-container-id-18 div.sk-estimator {font-family: monospace;background-color: #f0f8ff;border: 1px dotted black;border-radius: 0.25em;box-sizing: border-box;margin-bottom: 0.5em;}#sk-container-id-18 div.sk-estimator:hover {background-color: #d4ebff;}#sk-container-id-18 div.sk-parallel-item::after {content: \"\";width: 100%;border-bottom: 1px solid gray;flex-grow: 1;}#sk-container-id-18 div.sk-label:hover label.sk-toggleable__label {background-color: #d4ebff;}#sk-container-id-18 div.sk-serial::before {content: \"\";position: absolute;border-left: 1px solid gray;box-sizing: border-box;top: 0;bottom: 0;left: 50%;z-index: 0;}#sk-container-id-18 div.sk-serial {display: flex;flex-direction: column;align-items: center;background-color: white;padding-right: 0.2em;padding-left: 0.2em;position: relative;}#sk-container-id-18 div.sk-item {position: relative;z-index: 1;}#sk-container-id-18 div.sk-parallel {display: flex;align-items: stretch;justify-content: center;background-color: white;position: relative;}#sk-container-id-18 div.sk-item::before, #sk-container-id-18 div.sk-parallel-item::before {content: \"\";position: absolute;border-left: 1px solid gray;box-sizing: border-box;top: 0;bottom: 0;left: 50%;z-index: -1;}#sk-container-id-18 div.sk-parallel-item {display: flex;flex-direction: column;z-index: 1;position: relative;background-color: white;}#sk-container-id-18 div.sk-parallel-item:first-child::after {align-self: flex-end;width: 50%;}#sk-container-id-18 div.sk-parallel-item:last-child::after {align-self: flex-start;width: 50%;}#sk-container-id-18 div.sk-parallel-item:only-child::after {width: 0;}#sk-container-id-18 div.sk-dashed-wrapped {border: 1px dashed gray;margin: 0 0.4em 0.5em 0.4em;box-sizing: border-box;padding-bottom: 0.4em;background-color: white;}#sk-container-id-18 div.sk-label label {font-family: monospace;font-weight: bold;display: inline-block;line-height: 1.2em;}#sk-container-id-18 div.sk-label-container {text-align: center;}#sk-container-id-18 div.sk-container {/* jupyter's `normalize.less` sets `[hidden] { display: none; }` but bootstrap.min.css set `[hidden] { display: none !important; }` so we also need the `!important` here to be able to override the default hidden behavior on the sphinx rendered scikit-learn.org. See: https://github.com/scikit-learn/scikit-learn/issues/21755 */display: inline-block !important;position: relative;}#sk-container-id-18 div.sk-text-repr-fallback {display: none;}</style><div id=\"sk-container-id-18\" class=\"sk-top-container\"><div class=\"sk-text-repr-fallback\"><pre>RandomizedSearchCV(cv=StratifiedKFold(n_splits=3, random_state=42, shuffle=True),\n",
       "                   estimator=LGBMClassifier(), n_iter=333,\n",
       "                   param_distributions={&#x27;learning_rate&#x27;: [0.001, 0.01, 0.1],\n",
       "                                        &#x27;max_depth&#x27;: [2, 4, 6],\n",
       "                                        &#x27;n_estimators&#x27;: [100, 250, 500, 1000],\n",
       "                                        &#x27;reg_alpha&#x27;: [0.1, 1]},\n",
       "                   scoring=make_scorer(balanced_accuracy_score), verbose=3)</pre><b>In a Jupyter environment, please rerun this cell to show the HTML representation or trust the notebook. <br />On GitHub, the HTML representation is unable to render, please try loading this page with nbviewer.org.</b></div><div class=\"sk-container\" hidden><div class=\"sk-item sk-dashed-wrapped\"><div class=\"sk-label-container\"><div class=\"sk-label sk-toggleable\"><input class=\"sk-toggleable__control sk-hidden--visually\" id=\"sk-estimator-id-24\" type=\"checkbox\" ><label for=\"sk-estimator-id-24\" class=\"sk-toggleable__label sk-toggleable__label-arrow\">RandomizedSearchCV</label><div class=\"sk-toggleable__content\"><pre>RandomizedSearchCV(cv=StratifiedKFold(n_splits=3, random_state=42, shuffle=True),\n",
       "                   estimator=LGBMClassifier(), n_iter=333,\n",
       "                   param_distributions={&#x27;learning_rate&#x27;: [0.001, 0.01, 0.1],\n",
       "                                        &#x27;max_depth&#x27;: [2, 4, 6],\n",
       "                                        &#x27;n_estimators&#x27;: [100, 250, 500, 1000],\n",
       "                                        &#x27;reg_alpha&#x27;: [0.1, 1]},\n",
       "                   scoring=make_scorer(balanced_accuracy_score), verbose=3)</pre></div></div></div><div class=\"sk-parallel\"><div class=\"sk-parallel-item\"><div class=\"sk-item\"><div class=\"sk-label-container\"><div class=\"sk-label sk-toggleable\"><input class=\"sk-toggleable__control sk-hidden--visually\" id=\"sk-estimator-id-25\" type=\"checkbox\" ><label for=\"sk-estimator-id-25\" class=\"sk-toggleable__label sk-toggleable__label-arrow\">estimator: LGBMClassifier</label><div class=\"sk-toggleable__content\"><pre>LGBMClassifier()</pre></div></div></div><div class=\"sk-serial\"><div class=\"sk-item\"><div class=\"sk-estimator sk-toggleable\"><input class=\"sk-toggleable__control sk-hidden--visually\" id=\"sk-estimator-id-26\" type=\"checkbox\" ><label for=\"sk-estimator-id-26\" class=\"sk-toggleable__label sk-toggleable__label-arrow\">LGBMClassifier</label><div class=\"sk-toggleable__content\"><pre>LGBMClassifier()</pre></div></div></div></div></div></div></div></div></div></div>"
      ],
      "text/plain": [
       "RandomizedSearchCV(cv=StratifiedKFold(n_splits=3, random_state=42, shuffle=True),\n",
       "                   estimator=LGBMClassifier(), n_iter=333,\n",
       "                   param_distributions={'learning_rate': [0.001, 0.01, 0.1],\n",
       "                                        'max_depth': [2, 4, 6],\n",
       "                                        'n_estimators': [100, 250, 500, 1000],\n",
       "                                        'reg_alpha': [0.1, 1]},\n",
       "                   scoring=make_scorer(balanced_accuracy_score), verbose=3)"
      ]
     },
     "execution_count": 123,
     "metadata": {},
     "output_type": "execute_result"
    }
   ],
   "source": [
    "RSCV"
   ]
  },
  {
   "cell_type": "code",
   "execution_count": 124,
   "id": "13b22d0e-c400-4042-9c82-ebc62521d551",
   "metadata": {
    "collapsed": true,
    "jupyter": {
     "outputs_hidden": true
    },
    "tags": []
   },
   "outputs": [
    {
     "name": "stdout",
     "output_type": "stream",
     "text": [
      "Fitting 3 folds for each of 72 candidates, totalling 216 fits\n",
      "[CV 1/3] END learning_rate=0.001, max_depth=2, n_estimators=100, reg_alpha=0.1;, score=0.579 total time=   4.1s\n",
      "[CV 2/3] END learning_rate=0.001, max_depth=2, n_estimators=100, reg_alpha=0.1;, score=0.569 total time=   4.6s\n",
      "[CV 3/3] END learning_rate=0.001, max_depth=2, n_estimators=100, reg_alpha=0.1;, score=0.581 total time=   4.1s\n",
      "[CV 1/3] END learning_rate=0.001, max_depth=2, n_estimators=100, reg_alpha=1;, score=0.579 total time=   4.7s\n",
      "[CV 2/3] END learning_rate=0.001, max_depth=2, n_estimators=100, reg_alpha=1;, score=0.569 total time=   4.2s\n",
      "[CV 3/3] END learning_rate=0.001, max_depth=2, n_estimators=100, reg_alpha=1;, score=0.581 total time=   4.5s\n",
      "[CV 1/3] END learning_rate=0.001, max_depth=2, n_estimators=250, reg_alpha=0.1;, score=0.584 total time=   9.2s\n",
      "[CV 2/3] END learning_rate=0.001, max_depth=2, n_estimators=250, reg_alpha=0.1;, score=0.572 total time=   8.2s\n",
      "[CV 3/3] END learning_rate=0.001, max_depth=2, n_estimators=250, reg_alpha=0.1;, score=0.582 total time=  10.1s\n",
      "[CV 1/3] END learning_rate=0.001, max_depth=2, n_estimators=250, reg_alpha=1;, score=0.583 total time=   9.5s\n",
      "[CV 2/3] END learning_rate=0.001, max_depth=2, n_estimators=250, reg_alpha=1;, score=0.572 total time=   9.2s\n",
      "[CV 3/3] END learning_rate=0.001, max_depth=2, n_estimators=250, reg_alpha=1;, score=0.582 total time=   8.4s\n",
      "[CV 1/3] END learning_rate=0.001, max_depth=2, n_estimators=500, reg_alpha=0.1;, score=0.590 total time=  15.3s\n",
      "[CV 2/3] END learning_rate=0.001, max_depth=2, n_estimators=500, reg_alpha=0.1;, score=0.582 total time=  15.1s\n",
      "[CV 3/3] END learning_rate=0.001, max_depth=2, n_estimators=500, reg_alpha=0.1;, score=0.590 total time=  14.7s\n",
      "[CV 1/3] END learning_rate=0.001, max_depth=2, n_estimators=500, reg_alpha=1;, score=0.590 total time=  15.6s\n",
      "[CV 2/3] END learning_rate=0.001, max_depth=2, n_estimators=500, reg_alpha=1;, score=0.582 total time=  15.8s\n",
      "[CV 3/3] END learning_rate=0.001, max_depth=2, n_estimators=500, reg_alpha=1;, score=0.590 total time=  16.6s\n",
      "[CV 1/3] END learning_rate=0.001, max_depth=2, n_estimators=1000, reg_alpha=0.1;, score=0.604 total time=  31.2s\n",
      "[CV 2/3] END learning_rate=0.001, max_depth=2, n_estimators=1000, reg_alpha=0.1;, score=0.595 total time=  32.1s\n",
      "[CV 3/3] END learning_rate=0.001, max_depth=2, n_estimators=1000, reg_alpha=0.1;, score=0.602 total time=  39.8s\n",
      "[CV 1/3] END learning_rate=0.001, max_depth=2, n_estimators=1000, reg_alpha=1;, score=0.603 total time=  40.6s\n",
      "[CV 2/3] END learning_rate=0.001, max_depth=2, n_estimators=1000, reg_alpha=1;, score=0.595 total time=  40.6s\n",
      "[CV 3/3] END learning_rate=0.001, max_depth=2, n_estimators=1000, reg_alpha=1;, score=0.601 total time=  31.0s\n",
      "[CV 1/3] END learning_rate=0.001, max_depth=4, n_estimators=100, reg_alpha=0.1;, score=0.624 total time=   8.0s\n",
      "[CV 2/3] END learning_rate=0.001, max_depth=4, n_estimators=100, reg_alpha=0.1;, score=0.608 total time=   8.2s\n",
      "[CV 3/3] END learning_rate=0.001, max_depth=4, n_estimators=100, reg_alpha=0.1;, score=0.619 total time=   8.1s\n",
      "[CV 1/3] END learning_rate=0.001, max_depth=4, n_estimators=100, reg_alpha=1;, score=0.624 total time=   8.4s\n",
      "[CV 2/3] END learning_rate=0.001, max_depth=4, n_estimators=100, reg_alpha=1;, score=0.607 total time=   8.3s\n",
      "[CV 3/3] END learning_rate=0.001, max_depth=4, n_estimators=100, reg_alpha=1;, score=0.619 total time=   8.1s\n",
      "[CV 1/3] END learning_rate=0.001, max_depth=4, n_estimators=250, reg_alpha=0.1;, score=0.631 total time=  18.3s\n",
      "[CV 2/3] END learning_rate=0.001, max_depth=4, n_estimators=250, reg_alpha=0.1;, score=0.616 total time=  18.2s\n",
      "[CV 3/3] END learning_rate=0.001, max_depth=4, n_estimators=250, reg_alpha=0.1;, score=0.628 total time=  25.6s\n",
      "[CV 1/3] END learning_rate=0.001, max_depth=4, n_estimators=250, reg_alpha=1;, score=0.631 total time=  18.3s\n",
      "[CV 2/3] END learning_rate=0.001, max_depth=4, n_estimators=250, reg_alpha=1;, score=0.616 total time=  19.2s\n",
      "[CV 3/3] END learning_rate=0.001, max_depth=4, n_estimators=250, reg_alpha=1;, score=0.628 total time=  18.9s\n",
      "[CV 1/3] END learning_rate=0.001, max_depth=4, n_estimators=500, reg_alpha=0.1;, score=0.637 total time=  39.2s\n",
      "[CV 2/3] END learning_rate=0.001, max_depth=4, n_estimators=500, reg_alpha=0.1;, score=0.621 total time=  42.3s\n",
      "[CV 3/3] END learning_rate=0.001, max_depth=4, n_estimators=500, reg_alpha=0.1;, score=0.633 total time=  41.8s\n",
      "[CV 1/3] END learning_rate=0.001, max_depth=4, n_estimators=500, reg_alpha=1;, score=0.636 total time=  42.1s\n",
      "[CV 2/3] END learning_rate=0.001, max_depth=4, n_estimators=500, reg_alpha=1;, score=0.621 total time=  41.4s\n",
      "[CV 3/3] END learning_rate=0.001, max_depth=4, n_estimators=500, reg_alpha=1;, score=0.633 total time=  41.0s\n",
      "[CV 1/3] END learning_rate=0.001, max_depth=4, n_estimators=1000, reg_alpha=0.1;, score=0.647 total time= 1.5min\n",
      "[CV 2/3] END learning_rate=0.001, max_depth=4, n_estimators=1000, reg_alpha=0.1;, score=0.630 total time= 1.4min\n",
      "[CV 3/3] END learning_rate=0.001, max_depth=4, n_estimators=1000, reg_alpha=0.1;, score=0.640 total time= 1.3min\n",
      "[CV 1/3] END learning_rate=0.001, max_depth=4, n_estimators=1000, reg_alpha=1;, score=0.647 total time= 1.3min\n",
      "[CV 2/3] END learning_rate=0.001, max_depth=4, n_estimators=1000, reg_alpha=1;, score=0.630 total time= 1.3min\n",
      "[CV 3/3] END learning_rate=0.001, max_depth=4, n_estimators=1000, reg_alpha=1;, score=0.640 total time= 1.3min\n",
      "[CV 1/3] END learning_rate=0.001, max_depth=6, n_estimators=100, reg_alpha=0.1;, score=0.649 total time=  15.5s\n",
      "[CV 2/3] END learning_rate=0.001, max_depth=6, n_estimators=100, reg_alpha=0.1;, score=0.635 total time=  15.4s\n",
      "[CV 3/3] END learning_rate=0.001, max_depth=6, n_estimators=100, reg_alpha=0.1;, score=0.650 total time=  15.4s\n",
      "[CV 1/3] END learning_rate=0.001, max_depth=6, n_estimators=100, reg_alpha=1;, score=0.650 total time=  14.9s\n",
      "[CV 2/3] END learning_rate=0.001, max_depth=6, n_estimators=100, reg_alpha=1;, score=0.635 total time=  20.0s\n",
      "[CV 3/3] END learning_rate=0.001, max_depth=6, n_estimators=100, reg_alpha=1;, score=0.650 total time=  15.8s\n",
      "[CV 1/3] END learning_rate=0.001, max_depth=6, n_estimators=250, reg_alpha=0.1;, score=0.654 total time=  36.4s\n",
      "[CV 2/3] END learning_rate=0.001, max_depth=6, n_estimators=250, reg_alpha=0.1;, score=0.646 total time=  38.7s\n",
      "[CV 3/3] END learning_rate=0.001, max_depth=6, n_estimators=250, reg_alpha=0.1;, score=0.658 total time=  49.1s\n",
      "[CV 1/3] END learning_rate=0.001, max_depth=6, n_estimators=250, reg_alpha=1;, score=0.654 total time=  48.4s\n",
      "[CV 2/3] END learning_rate=0.001, max_depth=6, n_estimators=250, reg_alpha=1;, score=0.646 total time=  47.8s\n",
      "[CV 3/3] END learning_rate=0.001, max_depth=6, n_estimators=250, reg_alpha=1;, score=0.657 total time=  48.6s\n",
      "[CV 1/3] END learning_rate=0.001, max_depth=6, n_estimators=500, reg_alpha=0.1;, score=0.666 total time= 1.9min\n",
      "[CV 2/3] END learning_rate=0.001, max_depth=6, n_estimators=500, reg_alpha=0.1;, score=0.651 total time= 1.5min\n",
      "[CV 3/3] END learning_rate=0.001, max_depth=6, n_estimators=500, reg_alpha=0.1;, score=0.665 total time= 1.9min\n",
      "[CV 1/3] END learning_rate=0.001, max_depth=6, n_estimators=500, reg_alpha=1;, score=0.664 total time= 1.9min\n",
      "[CV 2/3] END learning_rate=0.001, max_depth=6, n_estimators=500, reg_alpha=1;, score=0.651 total time= 2.0min\n",
      "[CV 3/3] END learning_rate=0.001, max_depth=6, n_estimators=500, reg_alpha=1;, score=0.665 total time= 2.1min\n",
      "[CV 1/3] END learning_rate=0.001, max_depth=6, n_estimators=1000, reg_alpha=0.1;, score=0.676 total time= 4.4min\n",
      "[CV 2/3] END learning_rate=0.001, max_depth=6, n_estimators=1000, reg_alpha=0.1;, score=0.664 total time= 4.7min\n",
      "[CV 3/3] END learning_rate=0.001, max_depth=6, n_estimators=1000, reg_alpha=0.1;, score=0.672 total time= 3.1min\n",
      "[CV 1/3] END learning_rate=0.001, max_depth=6, n_estimators=1000, reg_alpha=1;, score=0.676 total time= 2.3min\n",
      "[CV 2/3] END learning_rate=0.001, max_depth=6, n_estimators=1000, reg_alpha=1;, score=0.663 total time= 2.1min\n",
      "[CV 3/3] END learning_rate=0.001, max_depth=6, n_estimators=1000, reg_alpha=1;, score=0.672 total time= 2.1min\n",
      "[CV 1/3] END learning_rate=0.01, max_depth=2, n_estimators=100, reg_alpha=0.1;, score=0.603 total time=   4.0s\n",
      "[CV 2/3] END learning_rate=0.01, max_depth=2, n_estimators=100, reg_alpha=0.1;, score=0.596 total time=   3.9s\n",
      "[CV 3/3] END learning_rate=0.01, max_depth=2, n_estimators=100, reg_alpha=0.1;, score=0.601 total time=   4.1s\n",
      "[CV 1/3] END learning_rate=0.01, max_depth=2, n_estimators=100, reg_alpha=1;, score=0.603 total time=   4.5s\n",
      "[CV 2/3] END learning_rate=0.01, max_depth=2, n_estimators=100, reg_alpha=1;, score=0.596 total time=   4.3s\n",
      "[CV 3/3] END learning_rate=0.01, max_depth=2, n_estimators=100, reg_alpha=1;, score=0.601 total time=   4.4s\n",
      "[CV 1/3] END learning_rate=0.01, max_depth=2, n_estimators=250, reg_alpha=0.1;, score=0.622 total time=   8.5s\n",
      "[CV 2/3] END learning_rate=0.01, max_depth=2, n_estimators=250, reg_alpha=0.1;, score=0.614 total time=   9.2s\n",
      "[CV 3/3] END learning_rate=0.01, max_depth=2, n_estimators=250, reg_alpha=0.1;, score=0.621 total time=   8.5s\n",
      "[CV 1/3] END learning_rate=0.01, max_depth=2, n_estimators=250, reg_alpha=1;, score=0.623 total time=   8.2s\n",
      "[CV 2/3] END learning_rate=0.01, max_depth=2, n_estimators=250, reg_alpha=1;, score=0.613 total time=   8.3s\n",
      "[CV 3/3] END learning_rate=0.01, max_depth=2, n_estimators=250, reg_alpha=1;, score=0.621 total time=   8.3s\n",
      "[CV 1/3] END learning_rate=0.01, max_depth=2, n_estimators=500, reg_alpha=0.1;, score=0.635 total time=  16.9s\n",
      "[CV 2/3] END learning_rate=0.01, max_depth=2, n_estimators=500, reg_alpha=0.1;, score=0.624 total time=  16.9s\n",
      "[CV 3/3] END learning_rate=0.01, max_depth=2, n_estimators=500, reg_alpha=0.1;, score=0.637 total time=  15.8s\n",
      "[CV 1/3] END learning_rate=0.01, max_depth=2, n_estimators=500, reg_alpha=1;, score=0.636 total time=  13.2s\n",
      "[CV 2/3] END learning_rate=0.01, max_depth=2, n_estimators=500, reg_alpha=1;, score=0.624 total time=  13.7s\n",
      "[CV 3/3] END learning_rate=0.01, max_depth=2, n_estimators=500, reg_alpha=1;, score=0.637 total time=  14.9s\n",
      "[CV 1/3] END learning_rate=0.01, max_depth=2, n_estimators=1000, reg_alpha=0.1;, score=0.654 total time=  28.4s\n",
      "[CV 2/3] END learning_rate=0.01, max_depth=2, n_estimators=1000, reg_alpha=0.1;, score=0.640 total time=  26.1s\n",
      "[CV 3/3] END learning_rate=0.01, max_depth=2, n_estimators=1000, reg_alpha=0.1;, score=0.656 total time=  26.4s\n",
      "[CV 1/3] END learning_rate=0.01, max_depth=2, n_estimators=1000, reg_alpha=1;, score=0.655 total time=  26.5s\n",
      "[CV 2/3] END learning_rate=0.01, max_depth=2, n_estimators=1000, reg_alpha=1;, score=0.641 total time=  26.2s\n",
      "[CV 3/3] END learning_rate=0.01, max_depth=2, n_estimators=1000, reg_alpha=1;, score=0.656 total time=  26.3s\n",
      "[CV 1/3] END learning_rate=0.01, max_depth=4, n_estimators=100, reg_alpha=0.1;, score=0.647 total time=   7.9s\n",
      "[CV 2/3] END learning_rate=0.01, max_depth=4, n_estimators=100, reg_alpha=0.1;, score=0.630 total time=   7.4s\n",
      "[CV 3/3] END learning_rate=0.01, max_depth=4, n_estimators=100, reg_alpha=0.1;, score=0.640 total time=   7.0s\n",
      "[CV 1/3] END learning_rate=0.01, max_depth=4, n_estimators=100, reg_alpha=1;, score=0.647 total time=   7.6s\n",
      "[CV 2/3] END learning_rate=0.01, max_depth=4, n_estimators=100, reg_alpha=1;, score=0.630 total time=   7.8s\n",
      "[CV 3/3] END learning_rate=0.01, max_depth=4, n_estimators=100, reg_alpha=1;, score=0.639 total time=   8.5s\n",
      "[CV 1/3] END learning_rate=0.01, max_depth=4, n_estimators=250, reg_alpha=0.1;, score=0.669 total time=  16.9s\n",
      "[CV 2/3] END learning_rate=0.01, max_depth=4, n_estimators=250, reg_alpha=0.1;, score=0.655 total time=  17.9s\n",
      "[CV 3/3] END learning_rate=0.01, max_depth=4, n_estimators=250, reg_alpha=0.1;, score=0.667 total time=  19.0s\n",
      "[CV 1/3] END learning_rate=0.01, max_depth=4, n_estimators=250, reg_alpha=1;, score=0.669 total time=  17.6s\n",
      "[CV 2/3] END learning_rate=0.01, max_depth=4, n_estimators=250, reg_alpha=1;, score=0.654 total time=  18.7s\n",
      "[CV 3/3] END learning_rate=0.01, max_depth=4, n_estimators=250, reg_alpha=1;, score=0.667 total time=  16.6s\n",
      "[CV 1/3] END learning_rate=0.01, max_depth=4, n_estimators=500, reg_alpha=0.1;, score=0.694 total time=  29.9s\n",
      "[CV 2/3] END learning_rate=0.01, max_depth=4, n_estimators=500, reg_alpha=0.1;, score=0.685 total time=  29.7s\n",
      "[CV 3/3] END learning_rate=0.01, max_depth=4, n_estimators=500, reg_alpha=0.1;, score=0.697 total time=  29.8s\n",
      "[CV 1/3] END learning_rate=0.01, max_depth=4, n_estimators=500, reg_alpha=1;, score=0.694 total time=  29.4s\n",
      "[CV 2/3] END learning_rate=0.01, max_depth=4, n_estimators=500, reg_alpha=1;, score=0.685 total time=  31.8s\n",
      "[CV 3/3] END learning_rate=0.01, max_depth=4, n_estimators=500, reg_alpha=1;, score=0.696 total time=  32.9s\n",
      "[CV 1/3] END learning_rate=0.01, max_depth=4, n_estimators=1000, reg_alpha=0.1;, score=0.738 total time=  57.3s\n",
      "[CV 2/3] END learning_rate=0.01, max_depth=4, n_estimators=1000, reg_alpha=0.1;, score=0.729 total time= 1.0min\n",
      "[CV 3/3] END learning_rate=0.01, max_depth=4, n_estimators=1000, reg_alpha=0.1;, score=0.740 total time=  58.2s\n",
      "[CV 1/3] END learning_rate=0.01, max_depth=4, n_estimators=1000, reg_alpha=1;, score=0.737 total time=  55.6s\n",
      "[CV 2/3] END learning_rate=0.01, max_depth=4, n_estimators=1000, reg_alpha=1;, score=0.728 total time=  56.5s\n",
      "[CV 3/3] END learning_rate=0.01, max_depth=4, n_estimators=1000, reg_alpha=1;, score=0.739 total time=  58.9s\n",
      "[CV 1/3] END learning_rate=0.01, max_depth=6, n_estimators=100, reg_alpha=0.1;, score=0.677 total time=  12.3s\n",
      "[CV 2/3] END learning_rate=0.01, max_depth=6, n_estimators=100, reg_alpha=0.1;, score=0.663 total time=  11.6s\n",
      "[CV 3/3] END learning_rate=0.01, max_depth=6, n_estimators=100, reg_alpha=0.1;, score=0.672 total time=  12.0s\n",
      "[CV 1/3] END learning_rate=0.01, max_depth=6, n_estimators=100, reg_alpha=1;, score=0.677 total time=  12.2s\n",
      "[CV 2/3] END learning_rate=0.01, max_depth=6, n_estimators=100, reg_alpha=1;, score=0.663 total time=  11.7s\n",
      "[CV 3/3] END learning_rate=0.01, max_depth=6, n_estimators=100, reg_alpha=1;, score=0.671 total time=  12.4s\n",
      "[CV 1/3] END learning_rate=0.01, max_depth=6, n_estimators=250, reg_alpha=0.1;, score=0.712 total time=  27.8s\n",
      "[CV 2/3] END learning_rate=0.01, max_depth=6, n_estimators=250, reg_alpha=0.1;, score=0.696 total time=  28.8s\n",
      "[CV 3/3] END learning_rate=0.01, max_depth=6, n_estimators=250, reg_alpha=0.1;, score=0.706 total time=  26.3s\n",
      "[CV 1/3] END learning_rate=0.01, max_depth=6, n_estimators=250, reg_alpha=1;, score=0.710 total time=  27.6s\n",
      "[CV 2/3] END learning_rate=0.01, max_depth=6, n_estimators=250, reg_alpha=1;, score=0.695 total time=  26.9s\n",
      "[CV 3/3] END learning_rate=0.01, max_depth=6, n_estimators=250, reg_alpha=1;, score=0.706 total time=  27.1s\n",
      "[CV 1/3] END learning_rate=0.01, max_depth=6, n_estimators=500, reg_alpha=0.1;, score=0.756 total time=  50.6s\n",
      "[CV 2/3] END learning_rate=0.01, max_depth=6, n_estimators=500, reg_alpha=0.1;, score=0.744 total time=  50.8s\n",
      "[CV 3/3] END learning_rate=0.01, max_depth=6, n_estimators=500, reg_alpha=0.1;, score=0.753 total time=  49.5s\n",
      "[CV 1/3] END learning_rate=0.01, max_depth=6, n_estimators=500, reg_alpha=1;, score=0.755 total time=  51.2s\n",
      "[CV 2/3] END learning_rate=0.01, max_depth=6, n_estimators=500, reg_alpha=1;, score=0.742 total time=  49.9s\n",
      "[CV 3/3] END learning_rate=0.01, max_depth=6, n_estimators=500, reg_alpha=1;, score=0.755 total time=  57.8s\n",
      "[CV 1/3] END learning_rate=0.01, max_depth=6, n_estimators=1000, reg_alpha=0.1;, score=0.819 total time= 2.0min\n",
      "[CV 2/3] END learning_rate=0.01, max_depth=6, n_estimators=1000, reg_alpha=0.1;, score=0.813 total time= 1.6min\n",
      "[CV 3/3] END learning_rate=0.01, max_depth=6, n_estimators=1000, reg_alpha=0.1;, score=0.820 total time= 1.6min\n",
      "[CV 1/3] END learning_rate=0.01, max_depth=6, n_estimators=1000, reg_alpha=1;, score=0.818 total time= 1.6min\n",
      "[CV 2/3] END learning_rate=0.01, max_depth=6, n_estimators=1000, reg_alpha=1;, score=0.814 total time= 1.8min\n",
      "[CV 3/3] END learning_rate=0.01, max_depth=6, n_estimators=1000, reg_alpha=1;, score=0.822 total time= 1.7min\n",
      "[CV 1/3] END learning_rate=0.1, max_depth=2, n_estimators=100, reg_alpha=0.1;, score=0.656 total time=   4.3s\n",
      "[CV 2/3] END learning_rate=0.1, max_depth=2, n_estimators=100, reg_alpha=0.1;, score=0.642 total time=   3.9s\n",
      "[CV 3/3] END learning_rate=0.1, max_depth=2, n_estimators=100, reg_alpha=0.1;, score=0.656 total time=   4.5s\n",
      "[CV 1/3] END learning_rate=0.1, max_depth=2, n_estimators=100, reg_alpha=1;, score=0.654 total time=   4.4s\n",
      "[CV 2/3] END learning_rate=0.1, max_depth=2, n_estimators=100, reg_alpha=1;, score=0.641 total time=   4.5s\n",
      "[CV 3/3] END learning_rate=0.1, max_depth=2, n_estimators=100, reg_alpha=1;, score=0.657 total time=   4.3s\n",
      "[CV 1/3] END learning_rate=0.1, max_depth=2, n_estimators=250, reg_alpha=0.1;, score=0.688 total time=   8.1s\n",
      "[CV 2/3] END learning_rate=0.1, max_depth=2, n_estimators=250, reg_alpha=0.1;, score=0.679 total time=   8.3s\n",
      "[CV 3/3] END learning_rate=0.1, max_depth=2, n_estimators=250, reg_alpha=0.1;, score=0.691 total time=   8.6s\n",
      "[CV 1/3] END learning_rate=0.1, max_depth=2, n_estimators=250, reg_alpha=1;, score=0.687 total time=   8.5s\n",
      "[CV 2/3] END learning_rate=0.1, max_depth=2, n_estimators=250, reg_alpha=1;, score=0.679 total time=   7.7s\n",
      "[CV 3/3] END learning_rate=0.1, max_depth=2, n_estimators=250, reg_alpha=1;, score=0.692 total time=   7.7s\n",
      "[CV 1/3] END learning_rate=0.1, max_depth=2, n_estimators=500, reg_alpha=0.1;, score=0.725 total time=  13.6s\n",
      "[CV 2/3] END learning_rate=0.1, max_depth=2, n_estimators=500, reg_alpha=0.1;, score=0.718 total time=  14.5s\n",
      "[CV 3/3] END learning_rate=0.1, max_depth=2, n_estimators=500, reg_alpha=0.1;, score=0.729 total time=  15.4s\n",
      "[CV 1/3] END learning_rate=0.1, max_depth=2, n_estimators=500, reg_alpha=1;, score=0.726 total time=  15.4s\n",
      "[CV 2/3] END learning_rate=0.1, max_depth=2, n_estimators=500, reg_alpha=1;, score=0.717 total time=  14.6s\n",
      "[CV 3/3] END learning_rate=0.1, max_depth=2, n_estimators=500, reg_alpha=1;, score=0.729 total time=  16.6s\n",
      "[CV 1/3] END learning_rate=0.1, max_depth=2, n_estimators=1000, reg_alpha=0.1;, score=0.780 total time=  32.6s\n",
      "[CV 2/3] END learning_rate=0.1, max_depth=2, n_estimators=1000, reg_alpha=0.1;, score=0.773 total time=  30.2s\n",
      "[CV 3/3] END learning_rate=0.1, max_depth=2, n_estimators=1000, reg_alpha=0.1;, score=0.780 total time=  27.2s\n",
      "[CV 1/3] END learning_rate=0.1, max_depth=2, n_estimators=1000, reg_alpha=1;, score=0.779 total time=  27.0s\n",
      "[CV 2/3] END learning_rate=0.1, max_depth=2, n_estimators=1000, reg_alpha=1;, score=0.772 total time=  26.7s\n",
      "[CV 3/3] END learning_rate=0.1, max_depth=2, n_estimators=1000, reg_alpha=1;, score=0.779 total time=  26.3s\n",
      "[CV 1/3] END learning_rate=0.1, max_depth=4, n_estimators=100, reg_alpha=0.1;, score=0.734 total time=   6.3s\n",
      "[CV 2/3] END learning_rate=0.1, max_depth=4, n_estimators=100, reg_alpha=0.1;, score=0.728 total time=   5.9s\n",
      "[CV 3/3] END learning_rate=0.1, max_depth=4, n_estimators=100, reg_alpha=0.1;, score=0.740 total time=   5.9s\n",
      "[CV 1/3] END learning_rate=0.1, max_depth=4, n_estimators=100, reg_alpha=1;, score=0.738 total time=   6.2s\n",
      "[CV 2/3] END learning_rate=0.1, max_depth=4, n_estimators=100, reg_alpha=1;, score=0.729 total time=   6.1s\n",
      "[CV 3/3] END learning_rate=0.1, max_depth=4, n_estimators=100, reg_alpha=1;, score=0.739 total time=   5.9s\n",
      "[CV 1/3] END learning_rate=0.1, max_depth=4, n_estimators=250, reg_alpha=0.1;, score=0.821 total time=  13.0s\n",
      "[CV 2/3] END learning_rate=0.1, max_depth=4, n_estimators=250, reg_alpha=0.1;, score=0.818 total time=  13.3s\n",
      "[CV 3/3] END learning_rate=0.1, max_depth=4, n_estimators=250, reg_alpha=0.1;, score=0.825 total time=  13.5s\n",
      "[CV 1/3] END learning_rate=0.1, max_depth=4, n_estimators=250, reg_alpha=1;, score=0.823 total time=  13.0s\n",
      "[CV 2/3] END learning_rate=0.1, max_depth=4, n_estimators=250, reg_alpha=1;, score=0.815 total time=  13.3s\n",
      "[CV 3/3] END learning_rate=0.1, max_depth=4, n_estimators=250, reg_alpha=1;, score=0.826 total time=  13.1s\n",
      "[CV 1/3] END learning_rate=0.1, max_depth=4, n_estimators=500, reg_alpha=0.1;, score=0.884 total time=  24.7s\n",
      "[CV 2/3] END learning_rate=0.1, max_depth=4, n_estimators=500, reg_alpha=0.1;, score=0.883 total time=  24.7s\n",
      "[CV 3/3] END learning_rate=0.1, max_depth=4, n_estimators=500, reg_alpha=0.1;, score=0.888 total time=  24.3s\n",
      "[CV 1/3] END learning_rate=0.1, max_depth=4, n_estimators=500, reg_alpha=1;, score=0.885 total time=  25.4s\n",
      "[CV 2/3] END learning_rate=0.1, max_depth=4, n_estimators=500, reg_alpha=1;, score=0.883 total time=  25.9s\n",
      "[CV 3/3] END learning_rate=0.1, max_depth=4, n_estimators=500, reg_alpha=1;, score=0.891 total time=  24.7s\n",
      "[CV 1/3] END learning_rate=0.1, max_depth=4, n_estimators=1000, reg_alpha=0.1;, score=0.924 total time=  46.5s\n",
      "[CV 2/3] END learning_rate=0.1, max_depth=4, n_estimators=1000, reg_alpha=0.1;, score=0.925 total time=  47.9s\n",
      "[CV 3/3] END learning_rate=0.1, max_depth=4, n_estimators=1000, reg_alpha=0.1;, score=0.930 total time=  49.7s\n",
      "[CV 1/3] END learning_rate=0.1, max_depth=4, n_estimators=1000, reg_alpha=1;, score=0.926 total time=  53.0s\n",
      "[CV 2/3] END learning_rate=0.1, max_depth=4, n_estimators=1000, reg_alpha=1;, score=0.926 total time=  53.6s\n",
      "[CV 3/3] END learning_rate=0.1, max_depth=4, n_estimators=1000, reg_alpha=1;, score=0.931 total time=  53.3s\n",
      "[CV 1/3] END learning_rate=0.1, max_depth=6, n_estimators=100, reg_alpha=0.1;, score=0.818 total time=  11.2s\n",
      "[CV 2/3] END learning_rate=0.1, max_depth=6, n_estimators=100, reg_alpha=0.1;, score=0.815 total time=  10.9s\n",
      "[CV 3/3] END learning_rate=0.1, max_depth=6, n_estimators=100, reg_alpha=0.1;, score=0.820 total time=  10.2s\n",
      "[CV 1/3] END learning_rate=0.1, max_depth=6, n_estimators=100, reg_alpha=1;, score=0.820 total time=  10.1s\n",
      "[CV 2/3] END learning_rate=0.1, max_depth=6, n_estimators=100, reg_alpha=1;, score=0.816 total time=  10.5s\n",
      "[CV 3/3] END learning_rate=0.1, max_depth=6, n_estimators=100, reg_alpha=1;, score=0.821 total time=  11.4s\n",
      "[CV 1/3] END learning_rate=0.1, max_depth=6, n_estimators=250, reg_alpha=0.1;, score=0.896 total time=  25.8s\n",
      "[CV 2/3] END learning_rate=0.1, max_depth=6, n_estimators=250, reg_alpha=0.1;, score=0.899 total time=  23.3s\n",
      "[CV 3/3] END learning_rate=0.1, max_depth=6, n_estimators=250, reg_alpha=0.1;, score=0.904 total time=  23.0s\n",
      "[CV 1/3] END learning_rate=0.1, max_depth=6, n_estimators=250, reg_alpha=1;, score=0.900 total time=  23.2s\n",
      "[CV 2/3] END learning_rate=0.1, max_depth=6, n_estimators=250, reg_alpha=1;, score=0.900 total time=  22.8s\n",
      "[CV 3/3] END learning_rate=0.1, max_depth=6, n_estimators=250, reg_alpha=1;, score=0.903 total time=  22.6s\n",
      "[CV 1/3] END learning_rate=0.1, max_depth=6, n_estimators=500, reg_alpha=0.1;, score=0.934 total time=  43.2s\n",
      "[CV 2/3] END learning_rate=0.1, max_depth=6, n_estimators=500, reg_alpha=0.1;, score=0.936 total time=  44.4s\n",
      "[CV 3/3] END learning_rate=0.1, max_depth=6, n_estimators=500, reg_alpha=0.1;, score=0.939 total time=  43.7s\n",
      "[CV 1/3] END learning_rate=0.1, max_depth=6, n_estimators=500, reg_alpha=1;, score=0.935 total time=  44.0s\n",
      "[CV 2/3] END learning_rate=0.1, max_depth=6, n_estimators=500, reg_alpha=1;, score=0.935 total time=  45.7s\n",
      "[CV 3/3] END learning_rate=0.1, max_depth=6, n_estimators=500, reg_alpha=1;, score=0.937 total time=  47.7s\n",
      "[CV 1/3] END learning_rate=0.1, max_depth=6, n_estimators=1000, reg_alpha=0.1;, score=0.949 total time= 1.6min\n",
      "[CV 2/3] END learning_rate=0.1, max_depth=6, n_estimators=1000, reg_alpha=0.1;, score=0.950 total time= 1.6min\n",
      "[CV 3/3] END learning_rate=0.1, max_depth=6, n_estimators=1000, reg_alpha=0.1;, score=0.953 total time= 1.4min\n",
      "[CV 1/3] END learning_rate=0.1, max_depth=6, n_estimators=1000, reg_alpha=1;, score=0.949 total time= 1.7min\n",
      "[CV 2/3] END learning_rate=0.1, max_depth=6, n_estimators=1000, reg_alpha=1;, score=0.949 total time= 1.8min\n",
      "[CV 3/3] END learning_rate=0.1, max_depth=6, n_estimators=1000, reg_alpha=1;, score=0.952 total time= 1.7min\n"
     ]
    },
    {
     "data": {
      "text/html": [
       "<style>#sk-container-id-19 {color: black;background-color: white;}#sk-container-id-19 pre{padding: 0;}#sk-container-id-19 div.sk-toggleable {background-color: white;}#sk-container-id-19 label.sk-toggleable__label {cursor: pointer;display: block;width: 100%;margin-bottom: 0;padding: 0.3em;box-sizing: border-box;text-align: center;}#sk-container-id-19 label.sk-toggleable__label-arrow:before {content: \"▸\";float: left;margin-right: 0.25em;color: #696969;}#sk-container-id-19 label.sk-toggleable__label-arrow:hover:before {color: black;}#sk-container-id-19 div.sk-estimator:hover label.sk-toggleable__label-arrow:before {color: black;}#sk-container-id-19 div.sk-toggleable__content {max-height: 0;max-width: 0;overflow: hidden;text-align: left;background-color: #f0f8ff;}#sk-container-id-19 div.sk-toggleable__content pre {margin: 0.2em;color: black;border-radius: 0.25em;background-color: #f0f8ff;}#sk-container-id-19 input.sk-toggleable__control:checked~div.sk-toggleable__content {max-height: 200px;max-width: 100%;overflow: auto;}#sk-container-id-19 input.sk-toggleable__control:checked~label.sk-toggleable__label-arrow:before {content: \"▾\";}#sk-container-id-19 div.sk-estimator input.sk-toggleable__control:checked~label.sk-toggleable__label {background-color: #d4ebff;}#sk-container-id-19 div.sk-label input.sk-toggleable__control:checked~label.sk-toggleable__label {background-color: #d4ebff;}#sk-container-id-19 input.sk-hidden--visually {border: 0;clip: rect(1px 1px 1px 1px);clip: rect(1px, 1px, 1px, 1px);height: 1px;margin: -1px;overflow: hidden;padding: 0;position: absolute;width: 1px;}#sk-container-id-19 div.sk-estimator {font-family: monospace;background-color: #f0f8ff;border: 1px dotted black;border-radius: 0.25em;box-sizing: border-box;margin-bottom: 0.5em;}#sk-container-id-19 div.sk-estimator:hover {background-color: #d4ebff;}#sk-container-id-19 div.sk-parallel-item::after {content: \"\";width: 100%;border-bottom: 1px solid gray;flex-grow: 1;}#sk-container-id-19 div.sk-label:hover label.sk-toggleable__label {background-color: #d4ebff;}#sk-container-id-19 div.sk-serial::before {content: \"\";position: absolute;border-left: 1px solid gray;box-sizing: border-box;top: 0;bottom: 0;left: 50%;z-index: 0;}#sk-container-id-19 div.sk-serial {display: flex;flex-direction: column;align-items: center;background-color: white;padding-right: 0.2em;padding-left: 0.2em;position: relative;}#sk-container-id-19 div.sk-item {position: relative;z-index: 1;}#sk-container-id-19 div.sk-parallel {display: flex;align-items: stretch;justify-content: center;background-color: white;position: relative;}#sk-container-id-19 div.sk-item::before, #sk-container-id-19 div.sk-parallel-item::before {content: \"\";position: absolute;border-left: 1px solid gray;box-sizing: border-box;top: 0;bottom: 0;left: 50%;z-index: -1;}#sk-container-id-19 div.sk-parallel-item {display: flex;flex-direction: column;z-index: 1;position: relative;background-color: white;}#sk-container-id-19 div.sk-parallel-item:first-child::after {align-self: flex-end;width: 50%;}#sk-container-id-19 div.sk-parallel-item:last-child::after {align-self: flex-start;width: 50%;}#sk-container-id-19 div.sk-parallel-item:only-child::after {width: 0;}#sk-container-id-19 div.sk-dashed-wrapped {border: 1px dashed gray;margin: 0 0.4em 0.5em 0.4em;box-sizing: border-box;padding-bottom: 0.4em;background-color: white;}#sk-container-id-19 div.sk-label label {font-family: monospace;font-weight: bold;display: inline-block;line-height: 1.2em;}#sk-container-id-19 div.sk-label-container {text-align: center;}#sk-container-id-19 div.sk-container {/* jupyter's `normalize.less` sets `[hidden] { display: none; }` but bootstrap.min.css set `[hidden] { display: none !important; }` so we also need the `!important` here to be able to override the default hidden behavior on the sphinx rendered scikit-learn.org. See: https://github.com/scikit-learn/scikit-learn/issues/21755 */display: inline-block !important;position: relative;}#sk-container-id-19 div.sk-text-repr-fallback {display: none;}</style><div id=\"sk-container-id-19\" class=\"sk-top-container\"><div class=\"sk-text-repr-fallback\"><pre>RandomizedSearchCV(cv=StratifiedKFold(n_splits=3, random_state=42, shuffle=True),\n",
       "                   estimator=LGBMClassifier(), n_iter=333,\n",
       "                   param_distributions={&#x27;learning_rate&#x27;: [0.001, 0.01, 0.1],\n",
       "                                        &#x27;max_depth&#x27;: [2, 4, 6],\n",
       "                                        &#x27;n_estimators&#x27;: [100, 250, 500, 1000],\n",
       "                                        &#x27;reg_alpha&#x27;: [0.1, 1]},\n",
       "                   scoring=make_scorer(balanced_accuracy_score), verbose=3)</pre><b>In a Jupyter environment, please rerun this cell to show the HTML representation or trust the notebook. <br />On GitHub, the HTML representation is unable to render, please try loading this page with nbviewer.org.</b></div><div class=\"sk-container\" hidden><div class=\"sk-item sk-dashed-wrapped\"><div class=\"sk-label-container\"><div class=\"sk-label sk-toggleable\"><input class=\"sk-toggleable__control sk-hidden--visually\" id=\"sk-estimator-id-27\" type=\"checkbox\" ><label for=\"sk-estimator-id-27\" class=\"sk-toggleable__label sk-toggleable__label-arrow\">RandomizedSearchCV</label><div class=\"sk-toggleable__content\"><pre>RandomizedSearchCV(cv=StratifiedKFold(n_splits=3, random_state=42, shuffle=True),\n",
       "                   estimator=LGBMClassifier(), n_iter=333,\n",
       "                   param_distributions={&#x27;learning_rate&#x27;: [0.001, 0.01, 0.1],\n",
       "                                        &#x27;max_depth&#x27;: [2, 4, 6],\n",
       "                                        &#x27;n_estimators&#x27;: [100, 250, 500, 1000],\n",
       "                                        &#x27;reg_alpha&#x27;: [0.1, 1]},\n",
       "                   scoring=make_scorer(balanced_accuracy_score), verbose=3)</pre></div></div></div><div class=\"sk-parallel\"><div class=\"sk-parallel-item\"><div class=\"sk-item\"><div class=\"sk-label-container\"><div class=\"sk-label sk-toggleable\"><input class=\"sk-toggleable__control sk-hidden--visually\" id=\"sk-estimator-id-28\" type=\"checkbox\" ><label for=\"sk-estimator-id-28\" class=\"sk-toggleable__label sk-toggleable__label-arrow\">estimator: LGBMClassifier</label><div class=\"sk-toggleable__content\"><pre>LGBMClassifier()</pre></div></div></div><div class=\"sk-serial\"><div class=\"sk-item\"><div class=\"sk-estimator sk-toggleable\"><input class=\"sk-toggleable__control sk-hidden--visually\" id=\"sk-estimator-id-29\" type=\"checkbox\" ><label for=\"sk-estimator-id-29\" class=\"sk-toggleable__label sk-toggleable__label-arrow\">LGBMClassifier</label><div class=\"sk-toggleable__content\"><pre>LGBMClassifier()</pre></div></div></div></div></div></div></div></div></div></div>"
      ],
      "text/plain": [
       "RandomizedSearchCV(cv=StratifiedKFold(n_splits=3, random_state=42, shuffle=True),\n",
       "                   estimator=LGBMClassifier(), n_iter=333,\n",
       "                   param_distributions={'learning_rate': [0.001, 0.01, 0.1],\n",
       "                                        'max_depth': [2, 4, 6],\n",
       "                                        'n_estimators': [100, 250, 500, 1000],\n",
       "                                        'reg_alpha': [0.1, 1]},\n",
       "                   scoring=make_scorer(balanced_accuracy_score), verbose=3)"
      ]
     },
     "execution_count": 124,
     "metadata": {},
     "output_type": "execute_result"
    }
   ],
   "source": [
    "RSCV.fit(X_train, y_train)"
   ]
  },
  {
   "cell_type": "code",
   "execution_count": 125,
   "id": "51119124-3c6f-4e32-a71f-c6745f983b8b",
   "metadata": {},
   "outputs": [],
   "source": [
    "best_estimator = RSCV.best_estimator_"
   ]
  },
  {
   "cell_type": "code",
   "execution_count": 126,
   "id": "4a139f88-5622-4d55-93ba-402c27fc5a22",
   "metadata": {},
   "outputs": [
    {
     "name": "stdout",
     "output_type": "stream",
     "text": [
      "Train accuracy: 0.9995828921615811\n",
      "Test accuracy:  0.5830201005753373\n",
      "Report: \n",
      "              precision    recall  f1-score   support\n",
      "\n",
      "           0       0.86      0.91      0.89      5500\n",
      "           1       0.49      0.42      0.45      1353\n",
      "           2       0.53      0.42      0.47       374\n",
      "\n",
      "    accuracy                           0.79      7227\n",
      "   macro avg       0.63      0.58      0.60      7227\n",
      "weighted avg       0.78      0.79      0.78      7227\n",
      "\n",
      "Confusion matrix:\n",
      "[[4998  452   50]\n",
      " [ 695  569   89]\n",
      " [  87  130  157]]\n"
     ]
    }
   ],
   "source": [
    "y_pred = best_estimator.predict(X_test)\n",
    "print(f\"Train accuracy: {balanced_accuracy_score(y_train, best_estimator.predict(X_train))}\")\n",
    "get_report(y_test, y_pred)"
   ]
  },
  {
   "cell_type": "code",
   "execution_count": 128,
   "id": "722a8aa8-b126-4e4a-b7c1-67d6b50eaaef",
   "metadata": {},
   "outputs": [
    {
     "data": {
      "text/plain": [
       "{'reg_alpha': 0.1, 'n_estimators': 1000, 'max_depth': 6, 'learning_rate': 0.1}"
      ]
     },
     "execution_count": 128,
     "metadata": {},
     "output_type": "execute_result"
    }
   ],
   "source": [
    "RSCV.best_params_  # that's a huge overfitting"
   ]
  },
  {
   "cell_type": "code",
   "execution_count": 149,
   "id": "84193e30-e425-42e4-b37f-7721126600e4",
   "metadata": {},
   "outputs": [],
   "source": [
    "gbm = lgb.LGBMClassifier(**{'reg_alpha': 1, 'n_estimators': 1000, 'max_depth': 6, 'learning_rate': 0.1, 'reg_lambda': 0.5})"
   ]
  },
  {
   "cell_type": "code",
   "execution_count": 142,
   "id": "2382fcd4-fc9d-4b45-a601-2cb704ec62f5",
   "metadata": {},
   "outputs": [
    {
     "name": "stdout",
     "output_type": "stream",
     "text": [
      "Train accuracy: 0.9994973315793413\n",
      "Test accuracy:  0.5874105763517529\n",
      "Report: \n",
      "              precision    recall  f1-score   support\n",
      "\n",
      "           0       0.87      0.91      0.89      5500\n",
      "           1       0.50      0.42      0.46      1353\n",
      "           2       0.52      0.43      0.47       374\n",
      "\n",
      "    accuracy                           0.79      7227\n",
      "   macro avg       0.63      0.59      0.61      7227\n",
      "weighted avg       0.78      0.79      0.79      7227\n",
      "\n",
      "Confusion matrix:\n",
      "[[5006  440   54]\n",
      " [ 688  574   91]\n",
      " [  88  126  160]]\n"
     ]
    }
   ],
   "source": [
    "gbm.fit(X_train, y_train)\n",
    "\n",
    "y_pred = gbm.predict(X_test)\n",
    "print(f\"Train accuracy: {balanced_accuracy_score(y_train, gbm.predict(X_train))}\")\n",
    "get_report(y_test, y_pred)"
   ]
  },
  {
   "cell_type": "markdown",
   "id": "29713365-44f8-4d30-b07a-beeacff6a4ef",
   "metadata": {},
   "source": [
    "### Merge 1 and 2"
   ]
  },
  {
   "cell_type": "code",
   "execution_count": 139,
   "id": "438a5844-43a9-43c9-a842-434129a48c8d",
   "metadata": {},
   "outputs": [],
   "source": [
    "y_pred_binary = (y_pred > 0).astype(int)\n",
    "y_test_binary = (y_test > 0).astype(int)"
   ]
  },
  {
   "cell_type": "code",
   "execution_count": 140,
   "id": "6cef85d7-eb2f-4ce8-9d90-4f90aee5df0e",
   "metadata": {},
   "outputs": [
    {
     "name": "stdout",
     "output_type": "stream",
     "text": [
      "Test accuracy:  0.7351876085697742\n",
      "Report: \n",
      "              precision    recall  f1-score   support\n",
      "\n",
      "           0       0.87      0.91      0.89      5500\n",
      "           1       0.67      0.56      0.61      1727\n",
      "\n",
      "    accuracy                           0.83      7227\n",
      "   macro avg       0.77      0.74      0.75      7227\n",
      "weighted avg       0.82      0.83      0.82      7227\n",
      "\n",
      "Confusion matrix:\n",
      "[[5017  483]\n",
      " [ 763  964]]\n"
     ]
    }
   ],
   "source": [
    "get_report(y_test_binary, y_pred_binary)"
   ]
  },
  {
   "cell_type": "markdown",
   "id": "a41020d5-1be0-4431-aff2-3e4662835e06",
   "metadata": {},
   "source": [
    "### check for the feature importances for the possible overfit reason"
   ]
  },
  {
   "cell_type": "code",
   "execution_count": 148,
   "id": "a6dfdea4-a592-4cfd-a4cd-3a691d247eb8",
   "metadata": {},
   "outputs": [
    {
     "data": {
      "image/png": "[encoded data removed]",
      "text/plain": [
       "<Figure size 2880x1440 with 1 Axes>"
      ]
     },
     "metadata": {
      "needs_background": "light"
     },
     "output_type": "display_data"
    }
   ],
   "source": [
    "import matplotlib.pyplot as plt\n",
    "import seaborn as sns\n",
    "\n",
    "feature_imp = pd.DataFrame({'Value': gbm.feature_importances_, 'Feature': df.iloc[:, 1:].columns})\n",
    "\n",
    "plt.figure(figsize=(40, 20))\n",
    "sns.barplot(x=\"Value\", y=\"Feature\", data=feature_imp.sort_values(by=\"Value\", \n",
    "                                                        ascending=False)[0:15])\n",
    "plt.title('LightGBM Features (avg over folds)')\n",
    "plt.show()"
   ]
  },
  {
   "cell_type": "code",
   "execution_count": null,
   "id": "0b39e04e-c868-4b66-9daa-ed97e9011fa8",
   "metadata": {},
   "outputs": [],
   "source": []
  }
 ],
 "metadata": {
  "kernelspec": {
   "display_name": "Python 3 (ipykernel)",
   "language": "python",
   "name": "python3"
  },
  "language_info": {
   "codemirror_mode": {
    "name": "ipython",
    "version": 3
   },
   "file_extension": ".py",
   "mimetype": "text/x-python",
   "name": "python",
   "nbconvert_exporter": "python",
   "pygments_lexer": "ipython3",
   "version": "3.9.7"
  }
 },
 "nbformat": 4,
 "nbformat_minor": 5
}
