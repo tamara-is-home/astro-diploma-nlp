{
 "cells": [
  {
   "cell_type": "markdown",
   "id": "106ccd5d-8c27-49a6-acfb-2e870c1b8661",
   "metadata": {
    "tags": []
   },
   "source": [
    "### In this notebook, I will try to predict the telegrams' citation rate (regression) based purely on doc2vec bodies representations using classical ML algorithm (LightGBM)\n",
    "\n",
    "### For the Neural Network approach see: https://colab.research.google.com/drive/1Q3C-O5lWVxh1nL8Vu8EOveEY87LjxTBW?usp=sharing"
   ]
  },
  {
   "cell_type": "code",
   "execution_count": 146,
   "id": "cea8d3ba-9935-44d3-ac17-09d7e9a810af",
   "metadata": {},
   "outputs": [],
   "source": [
    "import lightgbm as lgb\n",
    "import pandas as pd\n",
    "import numpy as np\n",
    "import matplotlib.pyplot as plt\n",
    "\n",
    "from sklearn.model_selection import train_test_split, GridSearchCV, RandomizedSearchCV, KFold, StratifiedKFold, ParameterGrid\n",
    "from sklearn.metrics import make_scorer, mean_absolute_error, mean_squared_error"
   ]
  },
  {
   "cell_type": "code",
   "execution_count": 147,
   "id": "88c56035-ff39-4ee4-bfa5-5747d1f6f5c5",
   "metadata": {},
   "outputs": [],
   "source": [
    "import warnings\n",
    "warnings.filterwarnings(\"ignore\")"
   ]
  },
  {
   "cell_type": "code",
   "execution_count": 148,
   "id": "2c3c8aba-484e-4f68-8fee-4cdb0b3461e8",
   "metadata": {},
   "outputs": [],
   "source": [
    "RS = 42"
   ]
  },
  {
   "cell_type": "code",
   "execution_count": 149,
   "id": "1e0a4b34-a9a1-47f6-9bc7-aa7f06ec0d82",
   "metadata": {},
   "outputs": [],
   "source": [
    "def get_report(y_true, y_pred):\n",
    "    print(\"Test MSE: \", mean_squared_error(y_true, y_pred))\n",
    "    print(\"Test MAE: \", mean_absolute_error(y_true, y_pred))"
   ]
  },
  {
   "cell_type": "code",
   "execution_count": 150,
   "id": "26c4b20e-63c6-4d19-af72-6535ad8a8405",
   "metadata": {},
   "outputs": [],
   "source": [
    "df_labels = pd.read_csv(\"../data/labels.csv\", index_col=0)[['n_cited']]\n",
    "df_doc_vec = pd.read_csv(\"doc_vectors.csv\", index_col=0)\n",
    "df = df_labels.join(df_doc_vec)"
   ]
  },
  {
   "cell_type": "code",
   "execution_count": 151,
   "id": "0c38dae7-5c7a-4489-8a84-9637a1b6b603",
   "metadata": {},
   "outputs": [
    {
     "data": {
      "text/plain": [
       "0      25624\n",
       "1       7338\n",
       "2       3784\n",
       "3       2310\n",
       "4       1647\n",
       "       ...  \n",
       "123        1\n",
       "112        1\n",
       "156        1\n",
       "99         1\n",
       "115        1\n",
       "Name: n_cited, Length: 111, dtype: int64"
      ]
     },
     "execution_count": 151,
     "metadata": {},
     "output_type": "execute_result"
    }
   ],
   "source": [
    "df.n_cited.value_counts()"
   ]
  },
  {
   "cell_type": "code",
   "execution_count": 152,
   "id": "23a48f1c-ca99-4e89-9345-432d9bea2a89",
   "metadata": {},
   "outputs": [],
   "source": [
    "df = df.iloc[1000:-100]"
   ]
  },
  {
   "cell_type": "code",
   "execution_count": 153,
   "id": "02380b46-4fcb-4503-afc0-25fca17973e5",
   "metadata": {},
   "outputs": [],
   "source": [
    "X, y = df.iloc[:, 1:].values, df.n_cited.values.reshape(-1, 1)"
   ]
  },
  {
   "cell_type": "code",
   "execution_count": 154,
   "id": "f402a26e-8f11-49af-bcea-18c783342589",
   "metadata": {},
   "outputs": [
    {
     "data": {
      "text/plain": [
       "((47179, 256), (47179, 1))"
      ]
     },
     "execution_count": 154,
     "metadata": {},
     "output_type": "execute_result"
    }
   ],
   "source": [
    "X.shape, y.shape"
   ]
  },
  {
   "cell_type": "markdown",
   "id": "c23e69fa-7fc5-4311-a57d-6af195689687",
   "metadata": {},
   "source": [
    "#### default model performance check"
   ]
  },
  {
   "cell_type": "code",
   "execution_count": 12,
   "id": "35fec488-9ec3-4e1f-8b9e-ee7b85bdf7ce",
   "metadata": {},
   "outputs": [],
   "source": [
    "X_train, X_test, y_train, y_test = train_test_split(X, y, test_size=0.15, random_state=RS)"
   ]
  },
  {
   "cell_type": "code",
   "execution_count": 13,
   "id": "96824090-eda2-4bbe-8175-1d9ef24dd366",
   "metadata": {},
   "outputs": [
    {
     "data": {
      "text/html": [
       "<style>#sk-container-id-1 {color: black;background-color: white;}#sk-container-id-1 pre{padding: 0;}#sk-container-id-1 div.sk-toggleable {background-color: white;}#sk-container-id-1 label.sk-toggleable__label {cursor: pointer;display: block;width: 100%;margin-bottom: 0;padding: 0.3em;box-sizing: border-box;text-align: center;}#sk-container-id-1 label.sk-toggleable__label-arrow:before {content: \"▸\";float: left;margin-right: 0.25em;color: #696969;}#sk-container-id-1 label.sk-toggleable__label-arrow:hover:before {color: black;}#sk-container-id-1 div.sk-estimator:hover label.sk-toggleable__label-arrow:before {color: black;}#sk-container-id-1 div.sk-toggleable__content {max-height: 0;max-width: 0;overflow: hidden;text-align: left;background-color: #f0f8ff;}#sk-container-id-1 div.sk-toggleable__content pre {margin: 0.2em;color: black;border-radius: 0.25em;background-color: #f0f8ff;}#sk-container-id-1 input.sk-toggleable__control:checked~div.sk-toggleable__content {max-height: 200px;max-width: 100%;overflow: auto;}#sk-container-id-1 input.sk-toggleable__control:checked~label.sk-toggleable__label-arrow:before {content: \"▾\";}#sk-container-id-1 div.sk-estimator input.sk-toggleable__control:checked~label.sk-toggleable__label {background-color: #d4ebff;}#sk-container-id-1 div.sk-label input.sk-toggleable__control:checked~label.sk-toggleable__label {background-color: #d4ebff;}#sk-container-id-1 input.sk-hidden--visually {border: 0;clip: rect(1px 1px 1px 1px);clip: rect(1px, 1px, 1px, 1px);height: 1px;margin: -1px;overflow: hidden;padding: 0;position: absolute;width: 1px;}#sk-container-id-1 div.sk-estimator {font-family: monospace;background-color: #f0f8ff;border: 1px dotted black;border-radius: 0.25em;box-sizing: border-box;margin-bottom: 0.5em;}#sk-container-id-1 div.sk-estimator:hover {background-color: #d4ebff;}#sk-container-id-1 div.sk-parallel-item::after {content: \"\";width: 100%;border-bottom: 1px solid gray;flex-grow: 1;}#sk-container-id-1 div.sk-label:hover label.sk-toggleable__label {background-color: #d4ebff;}#sk-container-id-1 div.sk-serial::before {content: \"\";position: absolute;border-left: 1px solid gray;box-sizing: border-box;top: 0;bottom: 0;left: 50%;z-index: 0;}#sk-container-id-1 div.sk-serial {display: flex;flex-direction: column;align-items: center;background-color: white;padding-right: 0.2em;padding-left: 0.2em;position: relative;}#sk-container-id-1 div.sk-item {position: relative;z-index: 1;}#sk-container-id-1 div.sk-parallel {display: flex;align-items: stretch;justify-content: center;background-color: white;position: relative;}#sk-container-id-1 div.sk-item::before, #sk-container-id-1 div.sk-parallel-item::before {content: \"\";position: absolute;border-left: 1px solid gray;box-sizing: border-box;top: 0;bottom: 0;left: 50%;z-index: -1;}#sk-container-id-1 div.sk-parallel-item {display: flex;flex-direction: column;z-index: 1;position: relative;background-color: white;}#sk-container-id-1 div.sk-parallel-item:first-child::after {align-self: flex-end;width: 50%;}#sk-container-id-1 div.sk-parallel-item:last-child::after {align-self: flex-start;width: 50%;}#sk-container-id-1 div.sk-parallel-item:only-child::after {width: 0;}#sk-container-id-1 div.sk-dashed-wrapped {border: 1px dashed gray;margin: 0 0.4em 0.5em 0.4em;box-sizing: border-box;padding-bottom: 0.4em;background-color: white;}#sk-container-id-1 div.sk-label label {font-family: monospace;font-weight: bold;display: inline-block;line-height: 1.2em;}#sk-container-id-1 div.sk-label-container {text-align: center;}#sk-container-id-1 div.sk-container {/* jupyter's `normalize.less` sets `[hidden] { display: none; }` but bootstrap.min.css set `[hidden] { display: none !important; }` so we also need the `!important` here to be able to override the default hidden behavior on the sphinx rendered scikit-learn.org. See: https://github.com/scikit-learn/scikit-learn/issues/21755 */display: inline-block !important;position: relative;}#sk-container-id-1 div.sk-text-repr-fallback {display: none;}</style><div id=\"sk-container-id-1\" class=\"sk-top-container\"><div class=\"sk-text-repr-fallback\"><pre>LGBMRegressor(max_depth=4, n_estimators=150, random_state=42, reg_alpha=0.1)</pre><b>In a Jupyter environment, please rerun this cell to show the HTML representation or trust the notebook. <br />On GitHub, the HTML representation is unable to render, please try loading this page with nbviewer.org.</b></div><div class=\"sk-container\" hidden><div class=\"sk-item\"><div class=\"sk-estimator sk-toggleable\"><input class=\"sk-toggleable__control sk-hidden--visually\" id=\"sk-estimator-id-1\" type=\"checkbox\" checked><label for=\"sk-estimator-id-1\" class=\"sk-toggleable__label sk-toggleable__label-arrow\">LGBMRegressor</label><div class=\"sk-toggleable__content\"><pre>LGBMRegressor(max_depth=4, n_estimators=150, random_state=42, reg_alpha=0.1)</pre></div></div></div></div></div>"
      ],
      "text/plain": [
       "LGBMRegressor(max_depth=4, n_estimators=150, random_state=42, reg_alpha=0.1)"
      ]
     },
     "execution_count": 13,
     "metadata": {},
     "output_type": "execute_result"
    }
   ],
   "source": [
    "gbm = lgb.LGBMRegressor(max_depth=4, n_estimators=150, learning_rate=0.1, reg_alpha=0.1, random_state=RS)\n",
    "gbm.fit(X_train,y_train)"
   ]
  },
  {
   "cell_type": "code",
   "execution_count": 14,
   "id": "1e59fc6c-0339-40eb-b6a6-a7ad22ba9614",
   "metadata": {},
   "outputs": [
    {
     "name": "stdout",
     "output_type": "stream",
     "text": [
      "Train MSE:  32.12907534482048\n",
      "Train MAE:  2.628462844502369\n",
      "Test MSE:  44.29754219565553\n",
      "Test MAE:  2.9461339621676332\n"
     ]
    }
   ],
   "source": [
    "y_pred = gbm.predict(X_test)\n",
    "y_train_pred = gbm.predict(X_train)\n",
    "print(\"Train MSE: \", mean_squared_error(y_train, y_train_pred))\n",
    "print(\"Train MAE: \", mean_absolute_error(y_train, y_train_pred))\n",
    "get_report(y_test, y_pred)"
   ]
  },
  {
   "cell_type": "code",
   "execution_count": 24,
   "id": "4dc4940c-9254-49cf-934e-338902cb08c4",
   "metadata": {},
   "outputs": [],
   "source": [
    "# we are wrong in 3 citations in average"
   ]
  },
  {
   "cell_type": "markdown",
   "id": "3a32d307-6afd-4782-a9da-5c6078ba3f84",
   "metadata": {},
   "source": [
    "### tuning time"
   ]
  },
  {
   "cell_type": "code",
   "execution_count": 64,
   "id": "a8622cf5-bb06-473d-8806-288cefc393e5",
   "metadata": {},
   "outputs": [],
   "source": [
    "NFOLDS = 3\n",
    "kf = KFold(n_splits=NFOLDS, shuffle=True, random_state=RS)"
   ]
  },
  {
   "cell_type": "code",
   "execution_count": 65,
   "id": "37a3c445-83e5-4275-81e0-47a42de6a98b",
   "metadata": {},
   "outputs": [],
   "source": [
    "scorer = make_scorer(mean_squared_error, greater_is_better=False)"
   ]
  },
  {
   "cell_type": "code",
   "execution_count": 66,
   "id": "2becc2a3-5e8b-4202-ac42-8d209dc1187b",
   "metadata": {},
   "outputs": [],
   "source": [
    "model = lgb.LGBMRegressor()"
   ]
  },
  {
   "cell_type": "code",
   "execution_count": 67,
   "id": "4d65ac14-705f-49a9-8792-84577ee8863c",
   "metadata": {},
   "outputs": [],
   "source": [
    "parameters = {\n",
    "    'n_estimators': [100, 250, 500, 1000],\n",
    "    'max_depth': [2, 4, 6],\n",
    "    'reg_alpha': [0.1, 1],\n",
    "    'learning_rate': [0.001, 0.01, 0.1]\n",
    "}"
   ]
  },
  {
   "cell_type": "code",
   "execution_count": 68,
   "id": "cef32f6b-18a8-499a-a5b9-1589ac67dc97",
   "metadata": {},
   "outputs": [],
   "source": [
    "RSCV = RandomizedSearchCV(model, parameters, scoring=scorer, cv=kf, n_iter=333, verbose=3)"
   ]
  },
  {
   "cell_type": "code",
   "execution_count": 69,
   "id": "fb62bf4d-ac80-4123-8bc0-4ec581e45fe2",
   "metadata": {},
   "outputs": [
    {
     "data": {
      "text/html": [
       "<style>#sk-container-id-7 {color: black;background-color: white;}#sk-container-id-7 pre{padding: 0;}#sk-container-id-7 div.sk-toggleable {background-color: white;}#sk-container-id-7 label.sk-toggleable__label {cursor: pointer;display: block;width: 100%;margin-bottom: 0;padding: 0.3em;box-sizing: border-box;text-align: center;}#sk-container-id-7 label.sk-toggleable__label-arrow:before {content: \"▸\";float: left;margin-right: 0.25em;color: #696969;}#sk-container-id-7 label.sk-toggleable__label-arrow:hover:before {color: black;}#sk-container-id-7 div.sk-estimator:hover label.sk-toggleable__label-arrow:before {color: black;}#sk-container-id-7 div.sk-toggleable__content {max-height: 0;max-width: 0;overflow: hidden;text-align: left;background-color: #f0f8ff;}#sk-container-id-7 div.sk-toggleable__content pre {margin: 0.2em;color: black;border-radius: 0.25em;background-color: #f0f8ff;}#sk-container-id-7 input.sk-toggleable__control:checked~div.sk-toggleable__content {max-height: 200px;max-width: 100%;overflow: auto;}#sk-container-id-7 input.sk-toggleable__control:checked~label.sk-toggleable__label-arrow:before {content: \"▾\";}#sk-container-id-7 div.sk-estimator input.sk-toggleable__control:checked~label.sk-toggleable__label {background-color: #d4ebff;}#sk-container-id-7 div.sk-label input.sk-toggleable__control:checked~label.sk-toggleable__label {background-color: #d4ebff;}#sk-container-id-7 input.sk-hidden--visually {border: 0;clip: rect(1px 1px 1px 1px);clip: rect(1px, 1px, 1px, 1px);height: 1px;margin: -1px;overflow: hidden;padding: 0;position: absolute;width: 1px;}#sk-container-id-7 div.sk-estimator {font-family: monospace;background-color: #f0f8ff;border: 1px dotted black;border-radius: 0.25em;box-sizing: border-box;margin-bottom: 0.5em;}#sk-container-id-7 div.sk-estimator:hover {background-color: #d4ebff;}#sk-container-id-7 div.sk-parallel-item::after {content: \"\";width: 100%;border-bottom: 1px solid gray;flex-grow: 1;}#sk-container-id-7 div.sk-label:hover label.sk-toggleable__label {background-color: #d4ebff;}#sk-container-id-7 div.sk-serial::before {content: \"\";position: absolute;border-left: 1px solid gray;box-sizing: border-box;top: 0;bottom: 0;left: 50%;z-index: 0;}#sk-container-id-7 div.sk-serial {display: flex;flex-direction: column;align-items: center;background-color: white;padding-right: 0.2em;padding-left: 0.2em;position: relative;}#sk-container-id-7 div.sk-item {position: relative;z-index: 1;}#sk-container-id-7 div.sk-parallel {display: flex;align-items: stretch;justify-content: center;background-color: white;position: relative;}#sk-container-id-7 div.sk-item::before, #sk-container-id-7 div.sk-parallel-item::before {content: \"\";position: absolute;border-left: 1px solid gray;box-sizing: border-box;top: 0;bottom: 0;left: 50%;z-index: -1;}#sk-container-id-7 div.sk-parallel-item {display: flex;flex-direction: column;z-index: 1;position: relative;background-color: white;}#sk-container-id-7 div.sk-parallel-item:first-child::after {align-self: flex-end;width: 50%;}#sk-container-id-7 div.sk-parallel-item:last-child::after {align-self: flex-start;width: 50%;}#sk-container-id-7 div.sk-parallel-item:only-child::after {width: 0;}#sk-container-id-7 div.sk-dashed-wrapped {border: 1px dashed gray;margin: 0 0.4em 0.5em 0.4em;box-sizing: border-box;padding-bottom: 0.4em;background-color: white;}#sk-container-id-7 div.sk-label label {font-family: monospace;font-weight: bold;display: inline-block;line-height: 1.2em;}#sk-container-id-7 div.sk-label-container {text-align: center;}#sk-container-id-7 div.sk-container {/* jupyter's `normalize.less` sets `[hidden] { display: none; }` but bootstrap.min.css set `[hidden] { display: none !important; }` so we also need the `!important` here to be able to override the default hidden behavior on the sphinx rendered scikit-learn.org. See: https://github.com/scikit-learn/scikit-learn/issues/21755 */display: inline-block !important;position: relative;}#sk-container-id-7 div.sk-text-repr-fallback {display: none;}</style><div id=\"sk-container-id-7\" class=\"sk-top-container\"><div class=\"sk-text-repr-fallback\"><pre>RandomizedSearchCV(cv=KFold(n_splits=3, random_state=42, shuffle=True),\n",
       "                   estimator=LGBMRegressor(), n_iter=333,\n",
       "                   param_distributions={&#x27;learning_rate&#x27;: [0.001, 0.01, 0.1],\n",
       "                                        &#x27;max_depth&#x27;: [2, 4, 6],\n",
       "                                        &#x27;n_estimators&#x27;: [100, 250, 500, 1000],\n",
       "                                        &#x27;reg_alpha&#x27;: [0.1, 1]},\n",
       "                   scoring=make_scorer(mean_squared_error, greater_is_better=False),\n",
       "                   verbose=3)</pre><b>In a Jupyter environment, please rerun this cell to show the HTML representation or trust the notebook. <br />On GitHub, the HTML representation is unable to render, please try loading this page with nbviewer.org.</b></div><div class=\"sk-container\" hidden><div class=\"sk-item sk-dashed-wrapped\"><div class=\"sk-label-container\"><div class=\"sk-label sk-toggleable\"><input class=\"sk-toggleable__control sk-hidden--visually\" id=\"sk-estimator-id-11\" type=\"checkbox\" ><label for=\"sk-estimator-id-11\" class=\"sk-toggleable__label sk-toggleable__label-arrow\">RandomizedSearchCV</label><div class=\"sk-toggleable__content\"><pre>RandomizedSearchCV(cv=KFold(n_splits=3, random_state=42, shuffle=True),\n",
       "                   estimator=LGBMRegressor(), n_iter=333,\n",
       "                   param_distributions={&#x27;learning_rate&#x27;: [0.001, 0.01, 0.1],\n",
       "                                        &#x27;max_depth&#x27;: [2, 4, 6],\n",
       "                                        &#x27;n_estimators&#x27;: [100, 250, 500, 1000],\n",
       "                                        &#x27;reg_alpha&#x27;: [0.1, 1]},\n",
       "                   scoring=make_scorer(mean_squared_error, greater_is_better=False),\n",
       "                   verbose=3)</pre></div></div></div><div class=\"sk-parallel\"><div class=\"sk-parallel-item\"><div class=\"sk-item\"><div class=\"sk-label-container\"><div class=\"sk-label sk-toggleable\"><input class=\"sk-toggleable__control sk-hidden--visually\" id=\"sk-estimator-id-12\" type=\"checkbox\" ><label for=\"sk-estimator-id-12\" class=\"sk-toggleable__label sk-toggleable__label-arrow\">estimator: LGBMRegressor</label><div class=\"sk-toggleable__content\"><pre>LGBMRegressor()</pre></div></div></div><div class=\"sk-serial\"><div class=\"sk-item\"><div class=\"sk-estimator sk-toggleable\"><input class=\"sk-toggleable__control sk-hidden--visually\" id=\"sk-estimator-id-13\" type=\"checkbox\" ><label for=\"sk-estimator-id-13\" class=\"sk-toggleable__label sk-toggleable__label-arrow\">LGBMRegressor</label><div class=\"sk-toggleable__content\"><pre>LGBMRegressor()</pre></div></div></div></div></div></div></div></div></div></div>"
      ],
      "text/plain": [
       "RandomizedSearchCV(cv=KFold(n_splits=3, random_state=42, shuffle=True),\n",
       "                   estimator=LGBMRegressor(), n_iter=333,\n",
       "                   param_distributions={'learning_rate': [0.001, 0.01, 0.1],\n",
       "                                        'max_depth': [2, 4, 6],\n",
       "                                        'n_estimators': [100, 250, 500, 1000],\n",
       "                                        'reg_alpha': [0.1, 1]},\n",
       "                   scoring=make_scorer(mean_squared_error, greater_is_better=False),\n",
       "                   verbose=3)"
      ]
     },
     "execution_count": 69,
     "metadata": {},
     "output_type": "execute_result"
    }
   ],
   "source": [
    "RSCV"
   ]
  },
  {
   "cell_type": "code",
   "execution_count": 70,
   "id": "babd2a3b-8477-4e37-ade9-1f3f3628173e",
   "metadata": {
    "collapsed": true,
    "jupyter": {
     "outputs_hidden": true
    },
    "tags": []
   },
   "outputs": [
    {
     "name": "stdout",
     "output_type": "stream",
     "text": [
      "Fitting 3 folds for each of 72 candidates, totalling 216 fits\n",
      "[CV 1/3] END learning_rate=0.001, max_depth=2, n_estimators=100, reg_alpha=0.1;, score=-56.966 total time=   0.7s\n",
      "[CV 2/3] END learning_rate=0.001, max_depth=2, n_estimators=100, reg_alpha=0.1;, score=-61.184 total time=   0.7s\n",
      "[CV 3/3] END learning_rate=0.001, max_depth=2, n_estimators=100, reg_alpha=0.1;, score=-58.447 total time=   0.7s\n",
      "[CV 1/3] END learning_rate=0.001, max_depth=2, n_estimators=100, reg_alpha=1;, score=-56.966 total time=   0.7s\n",
      "[CV 2/3] END learning_rate=0.001, max_depth=2, n_estimators=100, reg_alpha=1;, score=-61.185 total time=   0.7s\n",
      "[CV 3/3] END learning_rate=0.001, max_depth=2, n_estimators=100, reg_alpha=1;, score=-58.447 total time=   0.8s\n",
      "[CV 1/3] END learning_rate=0.001, max_depth=2, n_estimators=250, reg_alpha=0.1;, score=-55.613 total time=   1.1s\n",
      "[CV 2/3] END learning_rate=0.001, max_depth=2, n_estimators=250, reg_alpha=0.1;, score=-59.780 total time=   1.0s\n",
      "[CV 3/3] END learning_rate=0.001, max_depth=2, n_estimators=250, reg_alpha=0.1;, score=-57.054 total time=   1.1s\n",
      "[CV 1/3] END learning_rate=0.001, max_depth=2, n_estimators=250, reg_alpha=1;, score=-55.613 total time=   1.1s\n",
      "[CV 2/3] END learning_rate=0.001, max_depth=2, n_estimators=250, reg_alpha=1;, score=-59.781 total time=   1.1s\n",
      "[CV 3/3] END learning_rate=0.001, max_depth=2, n_estimators=250, reg_alpha=1;, score=-57.055 total time=   1.1s\n",
      "[CV 1/3] END learning_rate=0.001, max_depth=2, n_estimators=500, reg_alpha=0.1;, score=-54.005 total time=   1.7s\n",
      "[CV 2/3] END learning_rate=0.001, max_depth=2, n_estimators=500, reg_alpha=0.1;, score=-58.049 total time=   1.9s\n",
      "[CV 3/3] END learning_rate=0.001, max_depth=2, n_estimators=500, reg_alpha=0.1;, score=-55.373 total time=   1.9s\n",
      "[CV 1/3] END learning_rate=0.001, max_depth=2, n_estimators=500, reg_alpha=1;, score=-54.005 total time=   2.1s\n",
      "[CV 2/3] END learning_rate=0.001, max_depth=2, n_estimators=500, reg_alpha=1;, score=-58.049 total time=   1.8s\n",
      "[CV 3/3] END learning_rate=0.001, max_depth=2, n_estimators=500, reg_alpha=1;, score=-55.373 total time=   2.0s\n",
      "[CV 1/3] END learning_rate=0.001, max_depth=2, n_estimators=1000, reg_alpha=0.1;, score=-51.877 total time=   3.4s\n",
      "[CV 2/3] END learning_rate=0.001, max_depth=2, n_estimators=1000, reg_alpha=0.1;, score=-55.693 total time=   3.1s\n",
      "[CV 3/3] END learning_rate=0.001, max_depth=2, n_estimators=1000, reg_alpha=0.1;, score=-53.203 total time=   3.4s\n",
      "[CV 1/3] END learning_rate=0.001, max_depth=2, n_estimators=1000, reg_alpha=1;, score=-51.877 total time=   3.4s\n",
      "[CV 2/3] END learning_rate=0.001, max_depth=2, n_estimators=1000, reg_alpha=1;, score=-55.693 total time=   6.3s\n",
      "[CV 3/3] END learning_rate=0.001, max_depth=2, n_estimators=1000, reg_alpha=1;, score=-53.202 total time=   8.8s\n",
      "[CV 1/3] END learning_rate=0.001, max_depth=4, n_estimators=100, reg_alpha=0.1;, score=-56.274 total time=   3.3s\n",
      "[CV 2/3] END learning_rate=0.001, max_depth=4, n_estimators=100, reg_alpha=0.1;, score=-60.525 total time=   2.7s\n",
      "[CV 3/3] END learning_rate=0.001, max_depth=4, n_estimators=100, reg_alpha=0.1;, score=-57.929 total time=   2.7s\n",
      "[CV 1/3] END learning_rate=0.001, max_depth=4, n_estimators=100, reg_alpha=1;, score=-56.274 total time=   3.4s\n",
      "[CV 2/3] END learning_rate=0.001, max_depth=4, n_estimators=100, reg_alpha=1;, score=-60.525 total time=   2.8s\n",
      "[CV 3/3] END learning_rate=0.001, max_depth=4, n_estimators=100, reg_alpha=1;, score=-57.928 total time=   3.3s\n",
      "[CV 1/3] END learning_rate=0.001, max_depth=4, n_estimators=250, reg_alpha=0.1;, score=-54.136 total time=   6.5s\n",
      "[CV 2/3] END learning_rate=0.001, max_depth=4, n_estimators=250, reg_alpha=0.1;, score=-58.263 total time=   6.3s\n",
      "[CV 3/3] END learning_rate=0.001, max_depth=4, n_estimators=250, reg_alpha=0.1;, score=-55.772 total time=   7.6s\n",
      "[CV 1/3] END learning_rate=0.001, max_depth=4, n_estimators=250, reg_alpha=1;, score=-54.138 total time=   7.5s\n",
      "[CV 2/3] END learning_rate=0.001, max_depth=4, n_estimators=250, reg_alpha=1;, score=-58.264 total time=   6.4s\n",
      "[CV 3/3] END learning_rate=0.001, max_depth=4, n_estimators=250, reg_alpha=1;, score=-55.772 total time=   6.9s\n",
      "[CV 1/3] END learning_rate=0.001, max_depth=4, n_estimators=500, reg_alpha=0.1;, score=-51.551 total time=  12.7s\n",
      "[CV 2/3] END learning_rate=0.001, max_depth=4, n_estimators=500, reg_alpha=0.1;, score=-55.551 total time=  12.4s\n",
      "[CV 3/3] END learning_rate=0.001, max_depth=4, n_estimators=500, reg_alpha=0.1;, score=-53.168 total time=  12.8s\n",
      "[CV 1/3] END learning_rate=0.001, max_depth=4, n_estimators=500, reg_alpha=1;, score=-51.552 total time=  12.8s\n",
      "[CV 2/3] END learning_rate=0.001, max_depth=4, n_estimators=500, reg_alpha=1;, score=-55.553 total time=  12.5s\n",
      "[CV 3/3] END learning_rate=0.001, max_depth=4, n_estimators=500, reg_alpha=1;, score=-53.170 total time=  12.6s\n",
      "[CV 1/3] END learning_rate=0.001, max_depth=4, n_estimators=1000, reg_alpha=0.1;, score=-48.431 total time=  26.2s\n",
      "[CV 2/3] END learning_rate=0.001, max_depth=4, n_estimators=1000, reg_alpha=0.1;, score=-51.890 total time=  26.2s\n",
      "[CV 3/3] END learning_rate=0.001, max_depth=4, n_estimators=1000, reg_alpha=0.1;, score=-50.032 total time=  25.2s\n",
      "[CV 1/3] END learning_rate=0.001, max_depth=4, n_estimators=1000, reg_alpha=1;, score=-48.432 total time=  29.6s\n",
      "[CV 2/3] END learning_rate=0.001, max_depth=4, n_estimators=1000, reg_alpha=1;, score=-51.890 total time=  29.7s\n",
      "[CV 3/3] END learning_rate=0.001, max_depth=4, n_estimators=1000, reg_alpha=1;, score=-50.032 total time=  29.5s\n",
      "[CV 1/3] END learning_rate=0.001, max_depth=6, n_estimators=100, reg_alpha=0.1;, score=-55.921 total time=   6.2s\n",
      "[CV 2/3] END learning_rate=0.001, max_depth=6, n_estimators=100, reg_alpha=0.1;, score=-60.175 total time=   6.1s\n",
      "[CV 3/3] END learning_rate=0.001, max_depth=6, n_estimators=100, reg_alpha=0.1;, score=-57.708 total time=   5.9s\n",
      "[CV 1/3] END learning_rate=0.001, max_depth=6, n_estimators=100, reg_alpha=1;, score=-55.923 total time=   8.5s\n",
      "[CV 2/3] END learning_rate=0.001, max_depth=6, n_estimators=100, reg_alpha=1;, score=-60.171 total time=   6.2s\n",
      "[CV 3/3] END learning_rate=0.001, max_depth=6, n_estimators=100, reg_alpha=1;, score=-57.709 total time=   7.6s\n",
      "[CV 1/3] END learning_rate=0.001, max_depth=6, n_estimators=250, reg_alpha=0.1;, score=-53.403 total time=  12.5s\n",
      "[CV 2/3] END learning_rate=0.001, max_depth=6, n_estimators=250, reg_alpha=0.1;, score=-57.533 total time=  13.8s\n",
      "[CV 3/3] END learning_rate=0.001, max_depth=6, n_estimators=250, reg_alpha=0.1;, score=-55.204 total time=  11.9s\n",
      "[CV 1/3] END learning_rate=0.001, max_depth=6, n_estimators=250, reg_alpha=1;, score=-53.402 total time=  10.5s\n",
      "[CV 2/3] END learning_rate=0.001, max_depth=6, n_estimators=250, reg_alpha=1;, score=-57.532 total time=  10.4s\n",
      "[CV 3/3] END learning_rate=0.001, max_depth=6, n_estimators=250, reg_alpha=1;, score=-55.200 total time=  10.6s\n",
      "[CV 1/3] END learning_rate=0.001, max_depth=6, n_estimators=500, reg_alpha=0.1;, score=-50.331 total time=  20.5s\n",
      "[CV 2/3] END learning_rate=0.001, max_depth=6, n_estimators=500, reg_alpha=0.1;, score=-54.281 total time=  20.7s\n",
      "[CV 3/3] END learning_rate=0.001, max_depth=6, n_estimators=500, reg_alpha=0.1;, score=-52.062 total time=  24.9s\n",
      "[CV 1/3] END learning_rate=0.001, max_depth=6, n_estimators=500, reg_alpha=1;, score=-50.332 total time=  23.0s\n",
      "[CV 2/3] END learning_rate=0.001, max_depth=6, n_estimators=500, reg_alpha=1;, score=-54.281 total time=  21.7s\n",
      "[CV 3/3] END learning_rate=0.001, max_depth=6, n_estimators=500, reg_alpha=1;, score=-52.059 total time=  21.1s\n",
      "[CV 1/3] END learning_rate=0.001, max_depth=6, n_estimators=1000, reg_alpha=0.1;, score=-46.688 total time=  43.0s\n",
      "[CV 2/3] END learning_rate=0.001, max_depth=6, n_estimators=1000, reg_alpha=0.1;, score=-50.149 total time=  43.7s\n",
      "[CV 3/3] END learning_rate=0.001, max_depth=6, n_estimators=1000, reg_alpha=0.1;, score=-48.363 total time=  43.0s\n",
      "[CV 1/3] END learning_rate=0.001, max_depth=6, n_estimators=1000, reg_alpha=1;, score=-46.690 total time=  44.6s\n",
      "[CV 2/3] END learning_rate=0.001, max_depth=6, n_estimators=1000, reg_alpha=1;, score=-50.146 total time=  42.5s\n",
      "[CV 3/3] END learning_rate=0.001, max_depth=6, n_estimators=1000, reg_alpha=1;, score=-48.356 total time=  42.5s\n",
      "[CV 1/3] END learning_rate=0.01, max_depth=2, n_estimators=100, reg_alpha=0.1;, score=-51.877 total time=   1.4s\n",
      "[CV 2/3] END learning_rate=0.01, max_depth=2, n_estimators=100, reg_alpha=0.1;, score=-55.680 total time=   1.5s\n",
      "[CV 3/3] END learning_rate=0.01, max_depth=2, n_estimators=100, reg_alpha=0.1;, score=-53.189 total time=   1.4s\n",
      "[CV 1/3] END learning_rate=0.01, max_depth=2, n_estimators=100, reg_alpha=1;, score=-51.871 total time=   1.4s\n",
      "[CV 2/3] END learning_rate=0.01, max_depth=2, n_estimators=100, reg_alpha=1;, score=-55.681 total time=   1.4s\n",
      "[CV 3/3] END learning_rate=0.01, max_depth=2, n_estimators=100, reg_alpha=1;, score=-53.189 total time=   1.5s\n",
      "[CV 1/3] END learning_rate=0.01, max_depth=2, n_estimators=250, reg_alpha=0.1;, score=-48.876 total time=   2.7s\n",
      "[CV 2/3] END learning_rate=0.01, max_depth=2, n_estimators=250, reg_alpha=0.1;, score=-52.239 total time=   2.7s\n",
      "[CV 3/3] END learning_rate=0.01, max_depth=2, n_estimators=250, reg_alpha=0.1;, score=-50.242 total time=   2.6s\n",
      "[CV 1/3] END learning_rate=0.01, max_depth=2, n_estimators=250, reg_alpha=1;, score=-48.878 total time=   2.6s\n",
      "[CV 2/3] END learning_rate=0.01, max_depth=2, n_estimators=250, reg_alpha=1;, score=-52.227 total time=   2.7s\n",
      "[CV 3/3] END learning_rate=0.01, max_depth=2, n_estimators=250, reg_alpha=1;, score=-50.243 total time=   2.9s\n",
      "[CV 1/3] END learning_rate=0.01, max_depth=2, n_estimators=500, reg_alpha=0.1;, score=-47.089 total time=   4.9s\n",
      "[CV 2/3] END learning_rate=0.01, max_depth=2, n_estimators=500, reg_alpha=0.1;, score=-50.124 total time=   4.8s\n",
      "[CV 3/3] END learning_rate=0.01, max_depth=2, n_estimators=500, reg_alpha=0.1;, score=-48.615 total time=   4.8s\n",
      "[CV 1/3] END learning_rate=0.01, max_depth=2, n_estimators=500, reg_alpha=1;, score=-47.093 total time=   4.9s\n",
      "[CV 2/3] END learning_rate=0.01, max_depth=2, n_estimators=500, reg_alpha=1;, score=-50.127 total time=   4.7s\n",
      "[CV 3/3] END learning_rate=0.01, max_depth=2, n_estimators=500, reg_alpha=1;, score=-48.613 total time=   4.9s\n",
      "[CV 1/3] END learning_rate=0.01, max_depth=2, n_estimators=1000, reg_alpha=0.1;, score=-45.648 total time=   9.0s\n",
      "[CV 2/3] END learning_rate=0.01, max_depth=2, n_estimators=1000, reg_alpha=0.1;, score=-48.574 total time=   8.8s\n",
      "[CV 3/3] END learning_rate=0.01, max_depth=2, n_estimators=1000, reg_alpha=0.1;, score=-47.273 total time=   9.6s\n",
      "[CV 1/3] END learning_rate=0.01, max_depth=2, n_estimators=1000, reg_alpha=1;, score=-45.655 total time=   9.2s\n",
      "[CV 2/3] END learning_rate=0.01, max_depth=2, n_estimators=1000, reg_alpha=1;, score=-48.569 total time=   9.1s\n",
      "[CV 3/3] END learning_rate=0.01, max_depth=2, n_estimators=1000, reg_alpha=1;, score=-47.270 total time=   8.9s\n",
      "[CV 1/3] END learning_rate=0.01, max_depth=4, n_estimators=100, reg_alpha=0.1;, score=-48.425 total time=   2.8s\n",
      "[CV 2/3] END learning_rate=0.01, max_depth=4, n_estimators=100, reg_alpha=0.1;, score=-51.878 total time=   2.8s\n",
      "[CV 3/3] END learning_rate=0.01, max_depth=4, n_estimators=100, reg_alpha=0.1;, score=-50.004 total time=   2.7s\n",
      "[CV 1/3] END learning_rate=0.01, max_depth=4, n_estimators=100, reg_alpha=1;, score=-48.411 total time=   2.8s\n",
      "[CV 2/3] END learning_rate=0.01, max_depth=4, n_estimators=100, reg_alpha=1;, score=-51.877 total time=   2.8s\n",
      "[CV 3/3] END learning_rate=0.01, max_depth=4, n_estimators=100, reg_alpha=1;, score=-50.010 total time=   2.9s\n",
      "[CV 1/3] END learning_rate=0.01, max_depth=4, n_estimators=250, reg_alpha=0.1;, score=-44.663 total time=   6.4s\n",
      "[CV 2/3] END learning_rate=0.01, max_depth=4, n_estimators=250, reg_alpha=0.1;, score=-47.632 total time=   6.4s\n",
      "[CV 3/3] END learning_rate=0.01, max_depth=4, n_estimators=250, reg_alpha=0.1;, score=-46.420 total time=   6.3s\n",
      "[CV 1/3] END learning_rate=0.01, max_depth=4, n_estimators=250, reg_alpha=1;, score=-44.699 total time=   6.0s\n",
      "[CV 2/3] END learning_rate=0.01, max_depth=4, n_estimators=250, reg_alpha=1;, score=-47.617 total time=   6.1s\n",
      "[CV 3/3] END learning_rate=0.01, max_depth=4, n_estimators=250, reg_alpha=1;, score=-46.393 total time=   5.8s\n",
      "[CV 1/3] END learning_rate=0.01, max_depth=4, n_estimators=500, reg_alpha=0.1;, score=-43.059 total time=  10.9s\n",
      "[CV 2/3] END learning_rate=0.01, max_depth=4, n_estimators=500, reg_alpha=0.1;, score=-45.669 total time=  10.7s\n",
      "[CV 3/3] END learning_rate=0.01, max_depth=4, n_estimators=500, reg_alpha=0.1;, score=-45.003 total time=  12.3s\n",
      "[CV 1/3] END learning_rate=0.01, max_depth=4, n_estimators=500, reg_alpha=1;, score=-43.042 total time=  11.6s\n",
      "[CV 2/3] END learning_rate=0.01, max_depth=4, n_estimators=500, reg_alpha=1;, score=-45.634 total time=  11.7s\n",
      "[CV 3/3] END learning_rate=0.01, max_depth=4, n_estimators=500, reg_alpha=1;, score=-44.959 total time=  11.0s\n",
      "[CV 1/3] END learning_rate=0.01, max_depth=4, n_estimators=1000, reg_alpha=0.1;, score=-41.801 total time=  21.9s\n",
      "[CV 2/3] END learning_rate=0.01, max_depth=4, n_estimators=1000, reg_alpha=0.1;, score=-44.090 total time=  20.7s\n",
      "[CV 3/3] END learning_rate=0.01, max_depth=4, n_estimators=1000, reg_alpha=0.1;, score=-43.836 total time=  21.0s\n",
      "[CV 1/3] END learning_rate=0.01, max_depth=4, n_estimators=1000, reg_alpha=1;, score=-41.755 total time=  20.8s\n",
      "[CV 2/3] END learning_rate=0.01, max_depth=4, n_estimators=1000, reg_alpha=1;, score=-44.113 total time=  21.3s\n",
      "[CV 3/3] END learning_rate=0.01, max_depth=4, n_estimators=1000, reg_alpha=1;, score=-43.821 total time=  21.1s\n",
      "[CV 1/3] END learning_rate=0.01, max_depth=6, n_estimators=100, reg_alpha=0.1;, score=-46.670 total time=   5.1s\n",
      "[CV 2/3] END learning_rate=0.01, max_depth=6, n_estimators=100, reg_alpha=0.1;, score=-50.035 total time=   4.9s\n",
      "[CV 3/3] END learning_rate=0.01, max_depth=6, n_estimators=100, reg_alpha=0.1;, score=-48.330 total time=   4.9s\n",
      "[CV 1/3] END learning_rate=0.01, max_depth=6, n_estimators=100, reg_alpha=1;, score=-46.680 total time=   4.9s\n",
      "[CV 2/3] END learning_rate=0.01, max_depth=6, n_estimators=100, reg_alpha=1;, score=-50.092 total time=   4.9s\n",
      "[CV 3/3] END learning_rate=0.01, max_depth=6, n_estimators=100, reg_alpha=1;, score=-48.352 total time=   4.7s\n",
      "[CV 1/3] END learning_rate=0.01, max_depth=6, n_estimators=250, reg_alpha=0.1;, score=-42.934 total time=  11.8s\n",
      "[CV 2/3] END learning_rate=0.01, max_depth=6, n_estimators=250, reg_alpha=0.1;, score=-45.336 total time=  11.4s\n",
      "[CV 3/3] END learning_rate=0.01, max_depth=6, n_estimators=250, reg_alpha=0.1;, score=-44.342 total time=  11.2s\n",
      "[CV 1/3] END learning_rate=0.01, max_depth=6, n_estimators=250, reg_alpha=1;, score=-42.857 total time=  11.6s\n",
      "[CV 2/3] END learning_rate=0.01, max_depth=6, n_estimators=250, reg_alpha=1;, score=-45.397 total time=  11.1s\n",
      "[CV 3/3] END learning_rate=0.01, max_depth=6, n_estimators=250, reg_alpha=1;, score=-44.344 total time=  11.0s\n",
      "[CV 1/3] END learning_rate=0.01, max_depth=6, n_estimators=500, reg_alpha=0.1;, score=-41.329 total time=  21.6s\n",
      "[CV 2/3] END learning_rate=0.01, max_depth=6, n_estimators=500, reg_alpha=0.1;, score=-43.340 total time=  19.5s\n",
      "[CV 3/3] END learning_rate=0.01, max_depth=6, n_estimators=500, reg_alpha=0.1;, score=-42.990 total time=  19.1s\n",
      "[CV 1/3] END learning_rate=0.01, max_depth=6, n_estimators=500, reg_alpha=1;, score=-41.270 total time=  19.0s\n",
      "[CV 2/3] END learning_rate=0.01, max_depth=6, n_estimators=500, reg_alpha=1;, score=-43.387 total time=  23.7s\n",
      "[CV 3/3] END learning_rate=0.01, max_depth=6, n_estimators=500, reg_alpha=1;, score=-43.013 total time=  20.1s\n",
      "[CV 1/3] END learning_rate=0.01, max_depth=6, n_estimators=1000, reg_alpha=0.1;, score=-40.130 total time=  37.5s\n",
      "[CV 2/3] END learning_rate=0.01, max_depth=6, n_estimators=1000, reg_alpha=0.1;, score=-41.962 total time=  44.3s\n",
      "[CV 3/3] END learning_rate=0.01, max_depth=6, n_estimators=1000, reg_alpha=0.1;, score=-42.074 total time=  44.9s\n",
      "[CV 1/3] END learning_rate=0.01, max_depth=6, n_estimators=1000, reg_alpha=1;, score=-40.150 total time=  50.2s\n",
      "[CV 2/3] END learning_rate=0.01, max_depth=6, n_estimators=1000, reg_alpha=1;, score=-41.943 total time=  48.4s\n",
      "[CV 3/3] END learning_rate=0.01, max_depth=6, n_estimators=1000, reg_alpha=1;, score=-42.070 total time=  47.6s\n",
      "[CV 1/3] END learning_rate=0.1, max_depth=2, n_estimators=100, reg_alpha=0.1;, score=-45.606 total time=   1.8s\n",
      "[CV 2/3] END learning_rate=0.1, max_depth=2, n_estimators=100, reg_alpha=0.1;, score=-48.590 total time=   1.8s\n",
      "[CV 3/3] END learning_rate=0.1, max_depth=2, n_estimators=100, reg_alpha=0.1;, score=-47.217 total time=   1.8s\n",
      "[CV 1/3] END learning_rate=0.1, max_depth=2, n_estimators=100, reg_alpha=1;, score=-45.625 total time=   1.7s\n",
      "[CV 2/3] END learning_rate=0.1, max_depth=2, n_estimators=100, reg_alpha=1;, score=-48.538 total time=   1.8s\n",
      "[CV 3/3] END learning_rate=0.1, max_depth=2, n_estimators=100, reg_alpha=1;, score=-47.234 total time=   2.0s\n",
      "[CV 1/3] END learning_rate=0.1, max_depth=2, n_estimators=250, reg_alpha=0.1;, score=-43.894 total time=   3.9s\n",
      "[CV 2/3] END learning_rate=0.1, max_depth=2, n_estimators=250, reg_alpha=0.1;, score=-46.630 total time=   3.7s\n",
      "[CV 3/3] END learning_rate=0.1, max_depth=2, n_estimators=250, reg_alpha=0.1;, score=-45.570 total time=   3.3s\n",
      "[CV 1/3] END learning_rate=0.1, max_depth=2, n_estimators=250, reg_alpha=1;, score=-43.914 total time=   3.4s\n",
      "[CV 2/3] END learning_rate=0.1, max_depth=2, n_estimators=250, reg_alpha=1;, score=-46.421 total time=   3.3s\n",
      "[CV 3/3] END learning_rate=0.1, max_depth=2, n_estimators=250, reg_alpha=1;, score=-45.525 total time=   3.5s\n",
      "[CV 1/3] END learning_rate=0.1, max_depth=2, n_estimators=500, reg_alpha=0.1;, score=-42.976 total time=   5.7s\n",
      "[CV 2/3] END learning_rate=0.1, max_depth=2, n_estimators=500, reg_alpha=0.1;, score=-45.062 total time=   5.6s\n",
      "[CV 3/3] END learning_rate=0.1, max_depth=2, n_estimators=500, reg_alpha=0.1;, score=-44.414 total time=   7.2s\n",
      "[CV 1/3] END learning_rate=0.1, max_depth=2, n_estimators=500, reg_alpha=1;, score=-42.856 total time=   6.5s\n",
      "[CV 2/3] END learning_rate=0.1, max_depth=2, n_estimators=500, reg_alpha=1;, score=-45.044 total time=   8.1s\n",
      "[CV 3/3] END learning_rate=0.1, max_depth=2, n_estimators=500, reg_alpha=1;, score=-44.422 total time=   8.0s\n",
      "[CV 1/3] END learning_rate=0.1, max_depth=2, n_estimators=1000, reg_alpha=0.1;, score=-42.111 total time=  10.2s\n",
      "[CV 2/3] END learning_rate=0.1, max_depth=2, n_estimators=1000, reg_alpha=0.1;, score=-43.815 total time=   8.8s\n",
      "[CV 3/3] END learning_rate=0.1, max_depth=2, n_estimators=1000, reg_alpha=0.1;, score=-43.786 total time=   8.7s\n",
      "[CV 1/3] END learning_rate=0.1, max_depth=2, n_estimators=1000, reg_alpha=1;, score=-42.093 total time=   8.4s\n",
      "[CV 2/3] END learning_rate=0.1, max_depth=2, n_estimators=1000, reg_alpha=1;, score=-43.894 total time=   8.8s\n",
      "[CV 3/3] END learning_rate=0.1, max_depth=2, n_estimators=1000, reg_alpha=1;, score=-43.712 total time=   9.1s\n",
      "[CV 1/3] END learning_rate=0.1, max_depth=4, n_estimators=100, reg_alpha=0.1;, score=-41.899 total time=   3.0s\n",
      "[CV 2/3] END learning_rate=0.1, max_depth=4, n_estimators=100, reg_alpha=0.1;, score=-44.239 total time=   2.9s\n",
      "[CV 3/3] END learning_rate=0.1, max_depth=4, n_estimators=100, reg_alpha=0.1;, score=-43.925 total time=   2.8s\n",
      "[CV 1/3] END learning_rate=0.1, max_depth=4, n_estimators=100, reg_alpha=1;, score=-42.063 total time=   3.2s\n",
      "[CV 2/3] END learning_rate=0.1, max_depth=4, n_estimators=100, reg_alpha=1;, score=-44.077 total time=   3.0s\n",
      "[CV 3/3] END learning_rate=0.1, max_depth=4, n_estimators=100, reg_alpha=1;, score=-43.931 total time=   2.9s\n",
      "[CV 1/3] END learning_rate=0.1, max_depth=4, n_estimators=250, reg_alpha=0.1;, score=-40.663 total time=   6.3s\n",
      "[CV 2/3] END learning_rate=0.1, max_depth=4, n_estimators=250, reg_alpha=0.1;, score=-42.533 total time=   5.9s\n",
      "[CV 3/3] END learning_rate=0.1, max_depth=4, n_estimators=250, reg_alpha=0.1;, score=-42.715 total time=   6.1s\n",
      "[CV 1/3] END learning_rate=0.1, max_depth=4, n_estimators=250, reg_alpha=1;, score=-40.748 total time=   6.0s\n",
      "[CV 2/3] END learning_rate=0.1, max_depth=4, n_estimators=250, reg_alpha=1;, score=-42.466 total time=   6.1s\n",
      "[CV 3/3] END learning_rate=0.1, max_depth=4, n_estimators=250, reg_alpha=1;, score=-42.630 total time=   6.5s\n",
      "[CV 1/3] END learning_rate=0.1, max_depth=4, n_estimators=500, reg_alpha=0.1;, score=-39.792 total time=  11.6s\n",
      "[CV 2/3] END learning_rate=0.1, max_depth=4, n_estimators=500, reg_alpha=0.1;, score=-41.835 total time=  15.6s\n",
      "[CV 3/3] END learning_rate=0.1, max_depth=4, n_estimators=500, reg_alpha=0.1;, score=-42.295 total time=  16.3s\n",
      "[CV 1/3] END learning_rate=0.1, max_depth=4, n_estimators=500, reg_alpha=1;, score=-40.275 total time=  13.9s\n",
      "[CV 2/3] END learning_rate=0.1, max_depth=4, n_estimators=500, reg_alpha=1;, score=-41.810 total time=  14.2s\n",
      "[CV 3/3] END learning_rate=0.1, max_depth=4, n_estimators=500, reg_alpha=1;, score=-42.143 total time=  15.4s\n",
      "[CV 1/3] END learning_rate=0.1, max_depth=4, n_estimators=1000, reg_alpha=0.1;, score=-39.518 total time=  24.7s\n",
      "[CV 2/3] END learning_rate=0.1, max_depth=4, n_estimators=1000, reg_alpha=0.1;, score=-41.723 total time=  26.8s\n",
      "[CV 3/3] END learning_rate=0.1, max_depth=4, n_estimators=1000, reg_alpha=0.1;, score=-42.165 total time=  28.9s\n",
      "[CV 1/3] END learning_rate=0.1, max_depth=4, n_estimators=1000, reg_alpha=1;, score=-40.090 total time=  31.8s\n",
      "[CV 2/3] END learning_rate=0.1, max_depth=4, n_estimators=1000, reg_alpha=1;, score=-41.720 total time=  29.1s\n",
      "[CV 3/3] END learning_rate=0.1, max_depth=4, n_estimators=1000, reg_alpha=1;, score=-42.140 total time=  28.7s\n",
      "[CV 1/3] END learning_rate=0.1, max_depth=6, n_estimators=100, reg_alpha=0.1;, score=-40.380 total time=   6.8s\n",
      "[CV 2/3] END learning_rate=0.1, max_depth=6, n_estimators=100, reg_alpha=0.1;, score=-42.306 total time=   7.5s\n",
      "[CV 3/3] END learning_rate=0.1, max_depth=6, n_estimators=100, reg_alpha=0.1;, score=-42.458 total time=   7.6s\n",
      "[CV 1/3] END learning_rate=0.1, max_depth=6, n_estimators=100, reg_alpha=1;, score=-41.044 total time=   6.6s\n",
      "[CV 2/3] END learning_rate=0.1, max_depth=6, n_estimators=100, reg_alpha=1;, score=-42.469 total time=   6.5s\n",
      "[CV 3/3] END learning_rate=0.1, max_depth=6, n_estimators=100, reg_alpha=1;, score=-42.359 total time=   7.9s\n",
      "[CV 1/3] END learning_rate=0.1, max_depth=6, n_estimators=250, reg_alpha=0.1;, score=-39.419 total time=  17.4s\n",
      "[CV 2/3] END learning_rate=0.1, max_depth=6, n_estimators=250, reg_alpha=0.1;, score=-41.360 total time=  16.6s\n",
      "[CV 3/3] END learning_rate=0.1, max_depth=6, n_estimators=250, reg_alpha=0.1;, score=-41.859 total time=  14.4s\n",
      "[CV 1/3] END learning_rate=0.1, max_depth=6, n_estimators=250, reg_alpha=1;, score=-40.200 total time=  14.6s\n",
      "[CV 2/3] END learning_rate=0.1, max_depth=6, n_estimators=250, reg_alpha=1;, score=-41.387 total time=  14.5s\n",
      "[CV 3/3] END learning_rate=0.1, max_depth=6, n_estimators=250, reg_alpha=1;, score=-41.401 total time=  20.7s\n",
      "[CV 1/3] END learning_rate=0.1, max_depth=6, n_estimators=500, reg_alpha=0.1;, score=-39.247 total time=  38.4s\n",
      "[CV 2/3] END learning_rate=0.1, max_depth=6, n_estimators=500, reg_alpha=0.1;, score=-41.209 total time=  32.7s\n",
      "[CV 3/3] END learning_rate=0.1, max_depth=6, n_estimators=500, reg_alpha=0.1;, score=-41.618 total time=  34.5s\n",
      "[CV 1/3] END learning_rate=0.1, max_depth=6, n_estimators=500, reg_alpha=1;, score=-40.046 total time=  37.2s\n",
      "[CV 2/3] END learning_rate=0.1, max_depth=6, n_estimators=500, reg_alpha=1;, score=-41.220 total time=  35.5s\n",
      "[CV 3/3] END learning_rate=0.1, max_depth=6, n_estimators=500, reg_alpha=1;, score=-41.198 total time=  37.4s\n",
      "[CV 1/3] END learning_rate=0.1, max_depth=6, n_estimators=1000, reg_alpha=0.1;, score=-39.378 total time= 1.3min\n",
      "[CV 2/3] END learning_rate=0.1, max_depth=6, n_estimators=1000, reg_alpha=0.1;, score=-41.211 total time= 1.1min\n",
      "[CV 3/3] END learning_rate=0.1, max_depth=6, n_estimators=1000, reg_alpha=0.1;, score=-41.575 total time= 1.6min\n",
      "[CV 1/3] END learning_rate=0.1, max_depth=6, n_estimators=1000, reg_alpha=1;, score=-40.050 total time= 1.3min\n",
      "[CV 2/3] END learning_rate=0.1, max_depth=6, n_estimators=1000, reg_alpha=1;, score=-41.253 total time= 1.1min\n",
      "[CV 3/3] END learning_rate=0.1, max_depth=6, n_estimators=1000, reg_alpha=1;, score=-41.150 total time=  52.1s\n"
     ]
    },
    {
     "data": {
      "text/html": [
       "<style>#sk-container-id-8 {color: black;background-color: white;}#sk-container-id-8 pre{padding: 0;}#sk-container-id-8 div.sk-toggleable {background-color: white;}#sk-container-id-8 label.sk-toggleable__label {cursor: pointer;display: block;width: 100%;margin-bottom: 0;padding: 0.3em;box-sizing: border-box;text-align: center;}#sk-container-id-8 label.sk-toggleable__label-arrow:before {content: \"▸\";float: left;margin-right: 0.25em;color: #696969;}#sk-container-id-8 label.sk-toggleable__label-arrow:hover:before {color: black;}#sk-container-id-8 div.sk-estimator:hover label.sk-toggleable__label-arrow:before {color: black;}#sk-container-id-8 div.sk-toggleable__content {max-height: 0;max-width: 0;overflow: hidden;text-align: left;background-color: #f0f8ff;}#sk-container-id-8 div.sk-toggleable__content pre {margin: 0.2em;color: black;border-radius: 0.25em;background-color: #f0f8ff;}#sk-container-id-8 input.sk-toggleable__control:checked~div.sk-toggleable__content {max-height: 200px;max-width: 100%;overflow: auto;}#sk-container-id-8 input.sk-toggleable__control:checked~label.sk-toggleable__label-arrow:before {content: \"▾\";}#sk-container-id-8 div.sk-estimator input.sk-toggleable__control:checked~label.sk-toggleable__label {background-color: #d4ebff;}#sk-container-id-8 div.sk-label input.sk-toggleable__control:checked~label.sk-toggleable__label {background-color: #d4ebff;}#sk-container-id-8 input.sk-hidden--visually {border: 0;clip: rect(1px 1px 1px 1px);clip: rect(1px, 1px, 1px, 1px);height: 1px;margin: -1px;overflow: hidden;padding: 0;position: absolute;width: 1px;}#sk-container-id-8 div.sk-estimator {font-family: monospace;background-color: #f0f8ff;border: 1px dotted black;border-radius: 0.25em;box-sizing: border-box;margin-bottom: 0.5em;}#sk-container-id-8 div.sk-estimator:hover {background-color: #d4ebff;}#sk-container-id-8 div.sk-parallel-item::after {content: \"\";width: 100%;border-bottom: 1px solid gray;flex-grow: 1;}#sk-container-id-8 div.sk-label:hover label.sk-toggleable__label {background-color: #d4ebff;}#sk-container-id-8 div.sk-serial::before {content: \"\";position: absolute;border-left: 1px solid gray;box-sizing: border-box;top: 0;bottom: 0;left: 50%;z-index: 0;}#sk-container-id-8 div.sk-serial {display: flex;flex-direction: column;align-items: center;background-color: white;padding-right: 0.2em;padding-left: 0.2em;position: relative;}#sk-container-id-8 div.sk-item {position: relative;z-index: 1;}#sk-container-id-8 div.sk-parallel {display: flex;align-items: stretch;justify-content: center;background-color: white;position: relative;}#sk-container-id-8 div.sk-item::before, #sk-container-id-8 div.sk-parallel-item::before {content: \"\";position: absolute;border-left: 1px solid gray;box-sizing: border-box;top: 0;bottom: 0;left: 50%;z-index: -1;}#sk-container-id-8 div.sk-parallel-item {display: flex;flex-direction: column;z-index: 1;position: relative;background-color: white;}#sk-container-id-8 div.sk-parallel-item:first-child::after {align-self: flex-end;width: 50%;}#sk-container-id-8 div.sk-parallel-item:last-child::after {align-self: flex-start;width: 50%;}#sk-container-id-8 div.sk-parallel-item:only-child::after {width: 0;}#sk-container-id-8 div.sk-dashed-wrapped {border: 1px dashed gray;margin: 0 0.4em 0.5em 0.4em;box-sizing: border-box;padding-bottom: 0.4em;background-color: white;}#sk-container-id-8 div.sk-label label {font-family: monospace;font-weight: bold;display: inline-block;line-height: 1.2em;}#sk-container-id-8 div.sk-label-container {text-align: center;}#sk-container-id-8 div.sk-container {/* jupyter's `normalize.less` sets `[hidden] { display: none; }` but bootstrap.min.css set `[hidden] { display: none !important; }` so we also need the `!important` here to be able to override the default hidden behavior on the sphinx rendered scikit-learn.org. See: https://github.com/scikit-learn/scikit-learn/issues/21755 */display: inline-block !important;position: relative;}#sk-container-id-8 div.sk-text-repr-fallback {display: none;}</style><div id=\"sk-container-id-8\" class=\"sk-top-container\"><div class=\"sk-text-repr-fallback\"><pre>RandomizedSearchCV(cv=KFold(n_splits=3, random_state=42, shuffle=True),\n",
       "                   estimator=LGBMRegressor(), n_iter=333,\n",
       "                   param_distributions={&#x27;learning_rate&#x27;: [0.001, 0.01, 0.1],\n",
       "                                        &#x27;max_depth&#x27;: [2, 4, 6],\n",
       "                                        &#x27;n_estimators&#x27;: [100, 250, 500, 1000],\n",
       "                                        &#x27;reg_alpha&#x27;: [0.1, 1]},\n",
       "                   scoring=make_scorer(mean_squared_error, greater_is_better=False),\n",
       "                   verbose=3)</pre><b>In a Jupyter environment, please rerun this cell to show the HTML representation or trust the notebook. <br />On GitHub, the HTML representation is unable to render, please try loading this page with nbviewer.org.</b></div><div class=\"sk-container\" hidden><div class=\"sk-item sk-dashed-wrapped\"><div class=\"sk-label-container\"><div class=\"sk-label sk-toggleable\"><input class=\"sk-toggleable__control sk-hidden--visually\" id=\"sk-estimator-id-14\" type=\"checkbox\" ><label for=\"sk-estimator-id-14\" class=\"sk-toggleable__label sk-toggleable__label-arrow\">RandomizedSearchCV</label><div class=\"sk-toggleable__content\"><pre>RandomizedSearchCV(cv=KFold(n_splits=3, random_state=42, shuffle=True),\n",
       "                   estimator=LGBMRegressor(), n_iter=333,\n",
       "                   param_distributions={&#x27;learning_rate&#x27;: [0.001, 0.01, 0.1],\n",
       "                                        &#x27;max_depth&#x27;: [2, 4, 6],\n",
       "                                        &#x27;n_estimators&#x27;: [100, 250, 500, 1000],\n",
       "                                        &#x27;reg_alpha&#x27;: [0.1, 1]},\n",
       "                   scoring=make_scorer(mean_squared_error, greater_is_better=False),\n",
       "                   verbose=3)</pre></div></div></div><div class=\"sk-parallel\"><div class=\"sk-parallel-item\"><div class=\"sk-item\"><div class=\"sk-label-container\"><div class=\"sk-label sk-toggleable\"><input class=\"sk-toggleable__control sk-hidden--visually\" id=\"sk-estimator-id-15\" type=\"checkbox\" ><label for=\"sk-estimator-id-15\" class=\"sk-toggleable__label sk-toggleable__label-arrow\">estimator: LGBMRegressor</label><div class=\"sk-toggleable__content\"><pre>LGBMRegressor()</pre></div></div></div><div class=\"sk-serial\"><div class=\"sk-item\"><div class=\"sk-estimator sk-toggleable\"><input class=\"sk-toggleable__control sk-hidden--visually\" id=\"sk-estimator-id-16\" type=\"checkbox\" ><label for=\"sk-estimator-id-16\" class=\"sk-toggleable__label sk-toggleable__label-arrow\">LGBMRegressor</label><div class=\"sk-toggleable__content\"><pre>LGBMRegressor()</pre></div></div></div></div></div></div></div></div></div></div>"
      ],
      "text/plain": [
       "RandomizedSearchCV(cv=KFold(n_splits=3, random_state=42, shuffle=True),\n",
       "                   estimator=LGBMRegressor(), n_iter=333,\n",
       "                   param_distributions={'learning_rate': [0.001, 0.01, 0.1],\n",
       "                                        'max_depth': [2, 4, 6],\n",
       "                                        'n_estimators': [100, 250, 500, 1000],\n",
       "                                        'reg_alpha': [0.1, 1]},\n",
       "                   scoring=make_scorer(mean_squared_error, greater_is_better=False),\n",
       "                   verbose=3)"
      ]
     },
     "execution_count": 70,
     "metadata": {},
     "output_type": "execute_result"
    }
   ],
   "source": [
    "RSCV.fit(X_train, y_train)"
   ]
  },
  {
   "cell_type": "code",
   "execution_count": 76,
   "id": "415f673a-c15e-4a1f-b9d1-2d68292af81b",
   "metadata": {},
   "outputs": [],
   "source": [
    "best_estimator = RSCV.best_estimator_"
   ]
  },
  {
   "cell_type": "code",
   "execution_count": 77,
   "id": "d05b3969-e2cd-4117-bd3b-930253956377",
   "metadata": {},
   "outputs": [
    {
     "name": "stdout",
     "output_type": "stream",
     "text": [
      "Train MSE:  8.253869917380685\n",
      "Train MAE:  1.5652725324025343\n",
      "Test MSE:  41.707873629624395\n",
      "Test MAE:  2.8730484099375566\n"
     ]
    }
   ],
   "source": [
    "y_pred = best_estimator.predict(X_test)  \n",
    "y_train_pred = best_estimator.predict(X_train)\n",
    "print(\"Train MSE: \", mean_squared_error(y_train, y_train_pred))\n",
    "print(\"Train MAE: \", mean_absolute_error(y_train, y_train_pred))\n",
    "get_report(y_test, y_pred)"
   ]
  },
  {
   "cell_type": "code",
   "execution_count": 78,
   "id": "e90d3c9a-fb67-4076-8f02-4728853d2e71",
   "metadata": {},
   "outputs": [
    {
     "data": {
      "text/plain": [
       "{'reg_alpha': 0.1, 'n_estimators': 500, 'max_depth': 6, 'learning_rate': 0.1}"
      ]
     },
     "execution_count": 78,
     "metadata": {},
     "output_type": "execute_result"
    }
   ],
   "source": [
    "RSCV.best_params_"
   ]
  },
  {
   "cell_type": "code",
   "execution_count": 83,
   "id": "5cef8219-0bf0-4747-961c-3eff5be99109",
   "metadata": {},
   "outputs": [],
   "source": [
    "# looks overfited, add more regularization\n",
    "gbm = lgb.LGBMRegressor(**{'reg_alpha': 0.6, 'n_estimators': 500, 'max_depth': 6, 'learning_rate': 0.1, 'reg_lambda': 0.3})"
   ]
  },
  {
   "cell_type": "code",
   "execution_count": 84,
   "id": "d3bd7a59-9373-47b1-b319-172c3375a4c6",
   "metadata": {},
   "outputs": [
    {
     "name": "stdout",
     "output_type": "stream",
     "text": [
      "Train MSE:  8.406973638083233\n",
      "Train MAE:  1.5734056818811444\n",
      "Test MSE:  41.13650735523771\n",
      "Test MAE:  2.875264318881084\n"
     ]
    }
   ],
   "source": [
    "gbm.fit(X_train,y_train)\n",
    "\n",
    "y_pred = gbm.predict(X_test)\n",
    "y_train_pred = gbm.predict(X_train)\n",
    "\n",
    "print(\"Train MSE: \", mean_squared_error(y_train, y_train_pred))\n",
    "print(\"Train MAE: \", mean_absolute_error(y_train, y_train_pred))\n",
    "get_report(y_test, y_pred)"
   ]
  },
  {
   "cell_type": "markdown",
   "id": "d47cfd55-30f9-44f1-94cc-138d7564fecc",
   "metadata": {},
   "source": [
    "check the train test values dist, maybe there is an imbalance"
   ]
  },
  {
   "cell_type": "code",
   "execution_count": 93,
   "id": "75755294-852c-4c4d-9615-293ace03f486",
   "metadata": {},
   "outputs": [
    {
     "data": {
      "image/png": "[encoded data removed]",
      "text/plain": [
       "<Figure size 432x288 with 1 Axes>"
      ]
     },
     "metadata": {
      "needs_background": "light"
     },
     "output_type": "display_data"
    },
    {
     "name": "stdout",
     "output_type": "stream",
     "text": [
      "2.895633912873608\n",
      "7.7495249042153205\n"
     ]
    }
   ],
   "source": [
    "plt.hist(y_train, bins=30)\n",
    "plt.show()\n",
    "print(np.mean(y_train))\n",
    "print(np.std(y_train))"
   ]
  },
  {
   "cell_type": "code",
   "execution_count": 94,
   "id": "1a785745-a335-4694-8b03-b462a19cb9f1",
   "metadata": {},
   "outputs": [
    {
     "data": {
      "image/png": "[encoded data removed]",
      "text/plain": [
       "<Figure size 432x288 with 1 Axes>"
      ]
     },
     "metadata": {
      "needs_background": "light"
     },
     "output_type": "display_data"
    },
    {
     "name": "stdout",
     "output_type": "stream",
     "text": [
      "2.9755085097550853\n",
      "7.888077126849685\n"
     ]
    }
   ],
   "source": [
    "plt.hist(y_test, bins=30)\n",
    "plt.show()\n",
    "print(np.mean(y_test))\n",
    "print(np.std(y_test))"
   ]
  },
  {
   "cell_type": "markdown",
   "id": "607ab82e-74fa-4e75-a556-ff571a255e08",
   "metadata": {},
   "source": [
    "### Let's convert the predictions to the class labels and see the classification metrics"
   ]
  },
  {
   "cell_type": "code",
   "execution_count": 107,
   "id": "073cdf9e-f801-49e7-aec0-bc948af7f636",
   "metadata": {},
   "outputs": [],
   "source": [
    "cls_df = pd.DataFrame(y_test, columns=['true_val'])\n",
    "cls_df['pred_val'] = y_pred.astype(np.int64)"
   ]
  },
  {
   "cell_type": "code",
   "execution_count": 108,
   "id": "94bb4e10-2486-4ec3-8e39-821571f04568",
   "metadata": {},
   "outputs": [],
   "source": [
    "# the threshold we used during the class conversion:\n",
    "# x < 3 --> cls 0\n",
    "# 3 <= x < 14 --> cls 1\n",
    "# 14 <= x --> cls 2"
   ]
  },
  {
   "cell_type": "code",
   "execution_count": 109,
   "id": "252b3c8e-9d89-49fe-8309-293fa83ccd33",
   "metadata": {},
   "outputs": [],
   "source": [
    "cls_df['true_class'] = cls_df['true_val'].apply(lambda x: 0 if x<3 else 1 if 3<=x<14 else 2)\n",
    "cls_df['pred_class'] = cls_df['pred_val'].apply(lambda x: 0 if x<3 else 1 if 3<=x<14 else 2)"
   ]
  },
  {
   "cell_type": "code",
   "execution_count": 110,
   "id": "8141c413-5d8e-4b53-af03-91155678cf64",
   "metadata": {},
   "outputs": [
    {
     "name": "stdout",
     "output_type": "stream",
     "text": [
      "Test accuracy:  0.5499630369753913\n",
      "Report: \n",
      "              precision    recall  f1-score   support\n",
      "\n",
      "           0       0.87      0.84      0.86      5451\n",
      "           1       0.39      0.48      0.43      1396\n",
      "           2       0.49      0.33      0.39       380\n",
      "\n",
      "    accuracy                           0.75      7227\n",
      "   macro avg       0.58      0.55      0.56      7227\n",
      "weighted avg       0.76      0.75      0.75      7227\n",
      "\n",
      "Confusion matrix:\n",
      "[[4596  811   44]\n",
      " [ 642  667   87]\n",
      " [  39  216  125]]\n"
     ]
    }
   ],
   "source": [
    "from sklearn.metrics import balanced_accuracy_score, classification_report, confusion_matrix \n",
    "\n",
    "print(\"Test accuracy: \", balanced_accuracy_score(cls_df['true_class'].values, cls_df['pred_class'].values))\n",
    "print(\"Report: \")\n",
    "print(classification_report(cls_df['true_class'].values, cls_df['pred_class'].values))\n",
    "print(\"Confusion matrix:\")\n",
    "print(confusion_matrix(cls_df['true_class'].values, cls_df['pred_class'].values))"
   ]
  },
  {
   "cell_type": "code",
   "execution_count": 112,
   "id": "cfe9a53e-25c5-408d-a496-e24b4f1f1651",
   "metadata": {},
   "outputs": [
    {
     "data": {
      "text/html": [
       "<div>\n",
       "<style scoped>\n",
       "    .dataframe tbody tr th:only-of-type {\n",
       "        vertical-align: middle;\n",
       "    }\n",
       "\n",
       "    .dataframe tbody tr th {\n",
       "        vertical-align: top;\n",
       "    }\n",
       "\n",
       "    .dataframe thead th {\n",
       "        text-align: right;\n",
       "    }\n",
       "</style>\n",
       "<table border=\"1\" class=\"dataframe\">\n",
       "  <thead>\n",
       "    <tr style=\"text-align: right;\">\n",
       "      <th></th>\n",
       "      <th>true_val</th>\n",
       "      <th>pred_val</th>\n",
       "      <th>true_class</th>\n",
       "      <th>pred_class</th>\n",
       "    </tr>\n",
       "  </thead>\n",
       "  <tbody>\n",
       "    <tr>\n",
       "      <th>0</th>\n",
       "      <td>0</td>\n",
       "      <td>0</td>\n",
       "      <td>0</td>\n",
       "      <td>0</td>\n",
       "    </tr>\n",
       "    <tr>\n",
       "      <th>1</th>\n",
       "      <td>1</td>\n",
       "      <td>1</td>\n",
       "      <td>0</td>\n",
       "      <td>0</td>\n",
       "    </tr>\n",
       "    <tr>\n",
       "      <th>2</th>\n",
       "      <td>94</td>\n",
       "      <td>6</td>\n",
       "      <td>2</td>\n",
       "      <td>1</td>\n",
       "    </tr>\n",
       "    <tr>\n",
       "      <th>3</th>\n",
       "      <td>0</td>\n",
       "      <td>1</td>\n",
       "      <td>0</td>\n",
       "      <td>0</td>\n",
       "    </tr>\n",
       "    <tr>\n",
       "      <th>4</th>\n",
       "      <td>11</td>\n",
       "      <td>3</td>\n",
       "      <td>1</td>\n",
       "      <td>1</td>\n",
       "    </tr>\n",
       "    <tr>\n",
       "      <th>...</th>\n",
       "      <td>...</td>\n",
       "      <td>...</td>\n",
       "      <td>...</td>\n",
       "      <td>...</td>\n",
       "    </tr>\n",
       "    <tr>\n",
       "      <th>7222</th>\n",
       "      <td>0</td>\n",
       "      <td>2</td>\n",
       "      <td>0</td>\n",
       "      <td>0</td>\n",
       "    </tr>\n",
       "    <tr>\n",
       "      <th>7223</th>\n",
       "      <td>0</td>\n",
       "      <td>0</td>\n",
       "      <td>0</td>\n",
       "      <td>0</td>\n",
       "    </tr>\n",
       "    <tr>\n",
       "      <th>7224</th>\n",
       "      <td>0</td>\n",
       "      <td>0</td>\n",
       "      <td>0</td>\n",
       "      <td>0</td>\n",
       "    </tr>\n",
       "    <tr>\n",
       "      <th>7225</th>\n",
       "      <td>0</td>\n",
       "      <td>-1</td>\n",
       "      <td>0</td>\n",
       "      <td>0</td>\n",
       "    </tr>\n",
       "    <tr>\n",
       "      <th>7226</th>\n",
       "      <td>47</td>\n",
       "      <td>8</td>\n",
       "      <td>2</td>\n",
       "      <td>1</td>\n",
       "    </tr>\n",
       "  </tbody>\n",
       "</table>\n",
       "<p>7227 rows × 4 columns</p>\n",
       "</div>"
      ],
      "text/plain": [
       "      true_val  pred_val  true_class  pred_class\n",
       "0            0         0           0           0\n",
       "1            1         1           0           0\n",
       "2           94         6           2           1\n",
       "3            0         1           0           0\n",
       "4           11         3           1           1\n",
       "...        ...       ...         ...         ...\n",
       "7222         0         2           0           0\n",
       "7223         0         0           0           0\n",
       "7224         0         0           0           0\n",
       "7225         0        -1           0           0\n",
       "7226        47         8           2           1\n",
       "\n",
       "[7227 rows x 4 columns]"
      ]
     },
     "execution_count": 112,
     "metadata": {},
     "output_type": "execute_result"
    }
   ],
   "source": [
    "cls_df  # we're messing the class 1 and 2 cause of the extreeme outliers in the class 2"
   ]
  },
  {
   "cell_type": "markdown",
   "id": "4166f477-0ceb-4020-8d91-705f8cac3021",
   "metadata": {},
   "source": [
    "### what if we consider binary prediction (class 1 and 2 merged)"
   ]
  },
  {
   "cell_type": "code",
   "execution_count": 113,
   "id": "13dc6ffc-3236-4a45-899e-2ba9c4f5c243",
   "metadata": {},
   "outputs": [],
   "source": [
    "cls_df['true_class'] = cls_df['true_val'].apply(lambda x: 0 if x<3 else 1)\n",
    "cls_df['pred_class'] = cls_df['pred_val'].apply(lambda x: 0 if x<3 else 1)"
   ]
  },
  {
   "cell_type": "code",
   "execution_count": 114,
   "id": "a9df7543-e0d6-49fd-961d-9a9a3211f189",
   "metadata": {},
   "outputs": [
    {
     "name": "stdout",
     "output_type": "stream",
     "text": [
      "Test accuracy:  0.7298510501420519\n",
      "Report: \n",
      "              precision    recall  f1-score   support\n",
      "\n",
      "           0       0.87      0.84      0.86      5451\n",
      "           1       0.56      0.62      0.59      1776\n",
      "\n",
      "    accuracy                           0.79      7227\n",
      "   macro avg       0.72      0.73      0.72      7227\n",
      "weighted avg       0.79      0.79      0.79      7227\n",
      "\n",
      "Confusion matrix:\n",
      "[[4596  855]\n",
      " [ 681 1095]]\n"
     ]
    }
   ],
   "source": [
    "print(\"Test accuracy: \", balanced_accuracy_score(cls_df['true_class'].values, cls_df['pred_class'].values))\n",
    "print(\"Report: \")\n",
    "print(classification_report(cls_df['true_class'].values, cls_df['pred_class'].values))\n",
    "print(\"Confusion matrix:\")\n",
    "print(confusion_matrix(cls_df['true_class'].values, cls_df['pred_class'].values))"
   ]
  },
  {
   "cell_type": "markdown",
   "id": "8a052800-2bd5-4afe-bb25-3ea2002bbbff",
   "metadata": {},
   "source": [
    "### Replace the citation values above 20 to just 20, so the extremely hight values won't misslead the model"
   ]
  },
  {
   "cell_type": "code",
   "execution_count": 155,
   "id": "0c01cbf9-32ba-453d-8f86-efed5eec8d7d",
   "metadata": {},
   "outputs": [],
   "source": [
    "X_train, X_test, y_train, y_test = train_test_split(X, y, test_size=0.15, random_state=RS)\n",
    "y_train[y_train > 20] = 20"
   ]
  },
  {
   "cell_type": "code",
   "execution_count": 156,
   "id": "b8ba71e9-d5e9-4dd1-a188-4ed25ecf2530",
   "metadata": {},
   "outputs": [],
   "source": [
    "gbm = lgb.LGBMRegressor(**{'reg_alpha': 0.6, 'n_estimators': 500, 'max_depth': 6, 'learning_rate': 0.1, 'reg_lambda': 0.3})"
   ]
  },
  {
   "cell_type": "code",
   "execution_count": 157,
   "id": "4ce21379-dcff-4cb9-9789-f8211bfeeb3e",
   "metadata": {},
   "outputs": [
    {
     "name": "stdout",
     "output_type": "stream",
     "text": [
      "Train MSE:  3.9972715922638953\n",
      "Train MAE:  1.2522048051623194\n",
      "Test MSE:  40.05031633373903\n",
      "Test MAE:  2.5866894306324606\n"
     ]
    }
   ],
   "source": [
    "gbm.fit(X_train,y_train)\n",
    "\n",
    "y_pred = gbm.predict(X_test)\n",
    "y_train_pred = gbm.predict(X_train)\n",
    "\n",
    "print(\"Train MSE: \", mean_squared_error(y_train, y_train_pred))\n",
    "print(\"Train MAE: \", mean_absolute_error(y_train, y_train_pred))\n",
    "get_report(y_test, y_pred)"
   ]
  },
  {
   "cell_type": "code",
   "execution_count": 158,
   "id": "14adf95d-06b9-42d4-8efe-acac3248c4b7",
   "metadata": {},
   "outputs": [
    {
     "name": "stdout",
     "output_type": "stream",
     "text": [
      "Train MSE:  4.21627350256845\n",
      "Train MAE:  1.1011171512642761\n",
      "Test MSE:  40.66892751165748\n",
      "Test MAE:  2.401582591493571\n"
     ]
    }
   ],
   "source": [
    "gbm.fit(X_train,y_train)\n",
    "\n",
    "y_pred = gbm.predict(X_test).astype(int)\n",
    "y_train_pred = gbm.predict(X_train).astype(int)\n",
    "\n",
    "print(\"Train MSE: \", mean_squared_error(y_train, y_train_pred))\n",
    "print(\"Train MAE: \", mean_absolute_error(y_train, y_train_pred))\n",
    "get_report(y_test, y_pred)"
   ]
  },
  {
   "cell_type": "code",
   "execution_count": 159,
   "id": "f63cf0bf-2a8f-4a0a-b471-26104c5f45f3",
   "metadata": {},
   "outputs": [
    {
     "name": "stdout",
     "output_type": "stream",
     "text": [
      "Test accuracy:  0.49548488856716877\n",
      "Report: \n",
      "              precision    recall  f1-score   support\n",
      "\n",
      "           0       0.89      0.87      0.88      5514\n",
      "           1       0.39      0.54      0.45      1194\n",
      "           2       0.60      0.08      0.13       369\n",
      "\n",
      "    accuracy                           0.77      7077\n",
      "   macro avg       0.63      0.50      0.49      7077\n",
      "weighted avg       0.79      0.77      0.77      7077\n",
      "\n",
      "Confusion matrix:\n",
      "[[4790  718    6]\n",
      " [ 534  647   13]\n",
      " [  34  307   28]]\n"
     ]
    }
   ],
   "source": [
    "# see class metrics:\n",
    "cls_df = pd.DataFrame(y_test, columns=['true_val'])\n",
    "cls_df['pred_val'] = y_pred.astype(np.int64)\n",
    "\n",
    "cls_df['true_class'] = cls_df['true_val'].apply(lambda x: 0 if x<3 else 1 if 3<=x<14 else 2)\n",
    "cls_df['pred_class'] = cls_df['pred_val'].apply(lambda x: 0 if x<3 else 1 if 3<=x<14 else 2)\n",
    "\n",
    "print(\"Test accuracy: \", balanced_accuracy_score(cls_df['true_class'].values, cls_df['pred_class'].values))\n",
    "print(\"Report: \")\n",
    "print(classification_report(cls_df['true_class'].values, cls_df['pred_class'].values))\n",
    "print(\"Confusion matrix:\")\n",
    "print(confusion_matrix(cls_df['true_class'].values, cls_df['pred_class'].values))"
   ]
  },
  {
   "cell_type": "code",
   "execution_count": 160,
   "id": "f57bc3d9-8e56-4302-9fae-467349c65fb1",
   "metadata": {},
   "outputs": [
    {
     "name": "stdout",
     "output_type": "stream",
     "text": [
      "Test accuracy:  0.7526470745901028\n",
      "Report: \n",
      "              precision    recall  f1-score   support\n",
      "\n",
      "           0       0.89      0.87      0.88      5514\n",
      "           1       0.58      0.64      0.61      1563\n",
      "\n",
      "    accuracy                           0.82      7077\n",
      "   macro avg       0.74      0.75      0.74      7077\n",
      "weighted avg       0.82      0.82      0.82      7077\n",
      "\n",
      "Confusion matrix:\n",
      "[[4790  724]\n",
      " [ 568  995]]\n"
     ]
    }
   ],
   "source": [
    "# see binary metrics:\n",
    "\n",
    "cls_df['true_class'] = cls_df['true_val'].apply(lambda x: 0 if x<3 else 1)\n",
    "cls_df['pred_class'] = cls_df['pred_val'].apply(lambda x: 0 if x<3 else 1)\n",
    "\n",
    "print(\"Test accuracy: \", balanced_accuracy_score(cls_df['true_class'].values, cls_df['pred_class'].values))\n",
    "print(\"Report: \")\n",
    "print(classification_report(cls_df['true_class'].values, cls_df['pred_class'].values))\n",
    "print(\"Confusion matrix:\")\n",
    "print(confusion_matrix(cls_df['true_class'].values, cls_df['pred_class'].values))"
   ]
  },
  {
   "cell_type": "markdown",
   "id": "8a0625e9-d665-48ae-8602-246c734849c5",
   "metadata": {},
   "source": [
    "- Train MSE:  4.21627350256845\n",
    "- Train MAE:  1.1011171512642761\n",
    "- Test MSE:  40.66892751165748\n",
    "- Test MAE:  2.401582591493571"
   ]
  },
  {
   "cell_type": "code",
   "execution_count": null,
   "id": "2abcebc2-4e27-4130-a416-e21f33762ef7",
   "metadata": {},
   "outputs": [],
   "source": []
  }
 ],
 "metadata": {
  "kernelspec": {
   "display_name": "Python 3 (ipykernel)",
   "language": "python",
   "name": "python3"
  },
  "language_info": {
   "codemirror_mode": {
    "name": "ipython",
    "version": 3
   },
   "file_extension": ".py",
   "mimetype": "text/x-python",
   "name": "python",
   "nbconvert_exporter": "python",
   "pygments_lexer": "ipython3",
   "version": "3.9.7"
  }
 },
 "nbformat": 4,
 "nbformat_minor": 5
}
