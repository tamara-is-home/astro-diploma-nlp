{
 "cells": [
  {
   "cell_type": "markdown",
   "id": "a5ea81ac-a556-420a-aa2b-12dded54e06c",
   "metadata": {},
   "source": [
    "### In this notebook, I will try to predict the telegrams' citation class labels based purely on NER model's extracted entities representations using classical ML algorithm (LightGBM)\n",
    "\n",
    "The problem is unbalanced, will use oversampling and class weights"
   ]
  },
  {
   "cell_type": "code",
   "execution_count": 1,
   "id": "41f3b808-c7db-4f1c-bff0-ae2fd2a44c50",
   "metadata": {},
   "outputs": [],
   "source": [
    "import lightgbm as lgb\n",
    "import pandas as pd\n",
    "import numpy as np\n",
    "\n",
    "from sklearn.model_selection import train_test_split, GridSearchCV, RandomizedSearchCV, KFold, StratifiedKFold\n",
    "from imblearn.over_sampling import RandomOverSampler\n",
    "from sklearn.metrics import balanced_accuracy_score, f1_score, classification_report, confusion_matrix, make_scorer"
   ]
  },
  {
   "cell_type": "code",
   "execution_count": 2,
   "id": "b30c5238-0f22-45c3-8cb2-8ab319b823e8",
   "metadata": {},
   "outputs": [],
   "source": [
    "import warnings\n",
    "warnings.filterwarnings(\"ignore\")"
   ]
  },
  {
   "cell_type": "code",
   "execution_count": 3,
   "id": "3c24cb01-c5f4-49c6-a3f6-8a3c223729d7",
   "metadata": {},
   "outputs": [],
   "source": [
    "RS = 42"
   ]
  },
  {
   "cell_type": "code",
   "execution_count": 4,
   "id": "38f43e0b-e3fe-4f00-96af-8cae36d0786f",
   "metadata": {},
   "outputs": [],
   "source": [
    "def get_report(y_true, y_pred):\n",
    "    print(\"Test accuracy: \", balanced_accuracy_score(y_true, y_pred))\n",
    "    print(\"Report: \")\n",
    "    print(classification_report(y_true, y_pred))\n",
    "    print(\"Confusion matrix:\")\n",
    "    print(confusion_matrix(y_true, y_pred))"
   ]
  },
  {
   "cell_type": "code",
   "execution_count": 5,
   "id": "2b219d05-d0a2-4480-a587-833d1567b06b",
   "metadata": {},
   "outputs": [],
   "source": [
    "def get_class_weights(target_labels, n_classes: int):\n",
    "    total = len(target_labels)\n",
    "    class_weights = {}\n",
    "    for i in range(n_classes):\n",
    "        class_i_cnt = len(np.where(target_labels==i)[0])\n",
    "        class_weights[i] = (1 / class_i_cnt) * (total / n_classes)\n",
    "    return class_weights"
   ]
  },
  {
   "cell_type": "markdown",
   "id": "2fcd7d63-b3b7-4737-aae0-91030c96e893",
   "metadata": {
    "tags": []
   },
   "source": [
    "### Will compare the default params performance using 3 different sets of embeddinngs: 256-d, 128-d and CountVectors. The best performing by default option will be further fine-tuned. I will use `balanced` class weight instead of oversampling"
   ]
  },
  {
   "cell_type": "code",
   "execution_count": 8,
   "id": "59cd4c19-1f09-4084-8be1-9a0ef8157999",
   "metadata": {},
   "outputs": [],
   "source": [
    "df_128 = pd.read_csv('ent_vectors/ent_floret_128.csv', index_col=0)\n",
    "df_256 = pd.read_csv('ent_vectors/ent_floret_256.csv', index_col=0)\n",
    "df_cv = pd.read_csv('ent_vectors/end_cnt_vec.csv', index_col=0)\n",
    "df_labels = pd.read_csv(\"../data/labels.csv\", index_col=0)[['citation_class']]"
   ]
  },
  {
   "cell_type": "markdown",
   "id": "0be77a26-0ae1-44cd-9661-f22f111f79ed",
   "metadata": {},
   "source": [
    "#### floret 256 (the largest) goes first"
   ]
  },
  {
   "cell_type": "code",
   "execution_count": 37,
   "id": "f99a6631-126b-49b4-b778-23d99bbd2b92",
   "metadata": {},
   "outputs": [
    {
     "data": {
      "text/html": [
       "<div>\n",
       "<style scoped>\n",
       "    .dataframe tbody tr th:only-of-type {\n",
       "        vertical-align: middle;\n",
       "    }\n",
       "\n",
       "    .dataframe tbody tr th {\n",
       "        vertical-align: top;\n",
       "    }\n",
       "\n",
       "    .dataframe thead th {\n",
       "        text-align: right;\n",
       "    }\n",
       "</style>\n",
       "<table border=\"1\" class=\"dataframe\">\n",
       "  <thead>\n",
       "    <tr style=\"text-align: right;\">\n",
       "      <th></th>\n",
       "      <th>citation_class</th>\n",
       "      <th>0</th>\n",
       "      <th>1</th>\n",
       "      <th>2</th>\n",
       "      <th>3</th>\n",
       "      <th>4</th>\n",
       "      <th>5</th>\n",
       "      <th>6</th>\n",
       "      <th>7</th>\n",
       "      <th>8</th>\n",
       "      <th>...</th>\n",
       "      <th>502</th>\n",
       "      <th>503</th>\n",
       "      <th>504</th>\n",
       "      <th>505</th>\n",
       "      <th>506</th>\n",
       "      <th>507</th>\n",
       "      <th>508</th>\n",
       "      <th>509</th>\n",
       "      <th>510</th>\n",
       "      <th>511</th>\n",
       "    </tr>\n",
       "    <tr>\n",
       "      <th>telegram_index</th>\n",
       "      <th></th>\n",
       "      <th></th>\n",
       "      <th></th>\n",
       "      <th></th>\n",
       "      <th></th>\n",
       "      <th></th>\n",
       "      <th></th>\n",
       "      <th></th>\n",
       "      <th></th>\n",
       "      <th></th>\n",
       "      <th></th>\n",
       "      <th></th>\n",
       "      <th></th>\n",
       "      <th></th>\n",
       "      <th></th>\n",
       "      <th></th>\n",
       "      <th></th>\n",
       "      <th></th>\n",
       "      <th></th>\n",
       "      <th></th>\n",
       "      <th></th>\n",
       "    </tr>\n",
       "  </thead>\n",
       "  <tbody>\n",
       "    <tr>\n",
       "      <th>3_atel</th>\n",
       "      <td>0</td>\n",
       "      <td>1.980900</td>\n",
       "      <td>1.588900</td>\n",
       "      <td>0.344420</td>\n",
       "      <td>-0.675585</td>\n",
       "      <td>1.559450</td>\n",
       "      <td>-0.150880</td>\n",
       "      <td>0.616985</td>\n",
       "      <td>-1.793825</td>\n",
       "      <td>0.097455</td>\n",
       "      <td>...</td>\n",
       "      <td>2.005867</td>\n",
       "      <td>0.182510</td>\n",
       "      <td>2.103533</td>\n",
       "      <td>0.254155</td>\n",
       "      <td>-1.506143</td>\n",
       "      <td>-1.871467</td>\n",
       "      <td>0.290797</td>\n",
       "      <td>1.519500</td>\n",
       "      <td>-1.050553</td>\n",
       "      <td>-0.427197</td>\n",
       "    </tr>\n",
       "    <tr>\n",
       "      <th>2_atel</th>\n",
       "      <td>0</td>\n",
       "      <td>1.537100</td>\n",
       "      <td>1.558500</td>\n",
       "      <td>0.317990</td>\n",
       "      <td>0.580130</td>\n",
       "      <td>0.603100</td>\n",
       "      <td>0.244880</td>\n",
       "      <td>0.067371</td>\n",
       "      <td>-2.996200</td>\n",
       "      <td>-0.924190</td>\n",
       "      <td>...</td>\n",
       "      <td>2.557800</td>\n",
       "      <td>2.394600</td>\n",
       "      <td>1.911600</td>\n",
       "      <td>-2.379400</td>\n",
       "      <td>-1.092000</td>\n",
       "      <td>-1.462900</td>\n",
       "      <td>-1.492500</td>\n",
       "      <td>0.614020</td>\n",
       "      <td>-2.428900</td>\n",
       "      <td>-0.969490</td>\n",
       "    </tr>\n",
       "    <tr>\n",
       "      <th>4_atel</th>\n",
       "      <td>0</td>\n",
       "      <td>0.729690</td>\n",
       "      <td>0.246960</td>\n",
       "      <td>1.272286</td>\n",
       "      <td>-0.716588</td>\n",
       "      <td>1.791311</td>\n",
       "      <td>-0.711224</td>\n",
       "      <td>0.041107</td>\n",
       "      <td>-1.721376</td>\n",
       "      <td>0.197792</td>\n",
       "      <td>...</td>\n",
       "      <td>2.557800</td>\n",
       "      <td>2.394600</td>\n",
       "      <td>1.911600</td>\n",
       "      <td>-2.379400</td>\n",
       "      <td>-1.092000</td>\n",
       "      <td>-1.462900</td>\n",
       "      <td>-1.492500</td>\n",
       "      <td>0.614020</td>\n",
       "      <td>-2.428900</td>\n",
       "      <td>-0.969490</td>\n",
       "    </tr>\n",
       "    <tr>\n",
       "      <th>5_atel</th>\n",
       "      <td>0</td>\n",
       "      <td>-0.817397</td>\n",
       "      <td>0.153137</td>\n",
       "      <td>1.466150</td>\n",
       "      <td>0.205220</td>\n",
       "      <td>0.974807</td>\n",
       "      <td>-0.456092</td>\n",
       "      <td>-0.946557</td>\n",
       "      <td>-0.925483</td>\n",
       "      <td>0.317733</td>\n",
       "      <td>...</td>\n",
       "      <td>2.032410</td>\n",
       "      <td>1.774302</td>\n",
       "      <td>1.990075</td>\n",
       "      <td>-1.839227</td>\n",
       "      <td>-1.205250</td>\n",
       "      <td>-1.450075</td>\n",
       "      <td>-1.109337</td>\n",
       "      <td>0.754565</td>\n",
       "      <td>-2.122475</td>\n",
       "      <td>-0.889640</td>\n",
       "    </tr>\n",
       "    <tr>\n",
       "      <th>6_atel</th>\n",
       "      <td>0</td>\n",
       "      <td>1.134500</td>\n",
       "      <td>-1.603600</td>\n",
       "      <td>3.400700</td>\n",
       "      <td>1.729500</td>\n",
       "      <td>-1.968500</td>\n",
       "      <td>1.185200</td>\n",
       "      <td>-0.195770</td>\n",
       "      <td>-0.591150</td>\n",
       "      <td>0.033826</td>\n",
       "      <td>...</td>\n",
       "      <td>0.336810</td>\n",
       "      <td>1.823700</td>\n",
       "      <td>2.801400</td>\n",
       "      <td>-0.925720</td>\n",
       "      <td>-0.206510</td>\n",
       "      <td>-0.662900</td>\n",
       "      <td>-0.840800</td>\n",
       "      <td>1.044200</td>\n",
       "      <td>-1.794900</td>\n",
       "      <td>-0.734740</td>\n",
       "    </tr>\n",
       "    <tr>\n",
       "      <th>...</th>\n",
       "      <td>...</td>\n",
       "      <td>...</td>\n",
       "      <td>...</td>\n",
       "      <td>...</td>\n",
       "      <td>...</td>\n",
       "      <td>...</td>\n",
       "      <td>...</td>\n",
       "      <td>...</td>\n",
       "      <td>...</td>\n",
       "      <td>...</td>\n",
       "      <td>...</td>\n",
       "      <td>...</td>\n",
       "      <td>...</td>\n",
       "      <td>...</td>\n",
       "      <td>...</td>\n",
       "      <td>...</td>\n",
       "      <td>...</td>\n",
       "      <td>...</td>\n",
       "      <td>...</td>\n",
       "      <td>...</td>\n",
       "      <td>...</td>\n",
       "    </tr>\n",
       "    <tr>\n",
       "      <th>16033_atel</th>\n",
       "      <td>0</td>\n",
       "      <td>1.990000</td>\n",
       "      <td>0.172300</td>\n",
       "      <td>0.524815</td>\n",
       "      <td>-1.463795</td>\n",
       "      <td>2.136600</td>\n",
       "      <td>0.322680</td>\n",
       "      <td>-0.051050</td>\n",
       "      <td>-1.353675</td>\n",
       "      <td>-0.133300</td>\n",
       "      <td>...</td>\n",
       "      <td>2.342150</td>\n",
       "      <td>-1.071830</td>\n",
       "      <td>2.155625</td>\n",
       "      <td>0.627475</td>\n",
       "      <td>-1.984225</td>\n",
       "      <td>-1.590175</td>\n",
       "      <td>0.371883</td>\n",
       "      <td>0.776057</td>\n",
       "      <td>-1.462660</td>\n",
       "      <td>-0.567565</td>\n",
       "    </tr>\n",
       "    <tr>\n",
       "      <th>16034_atel</th>\n",
       "      <td>0</td>\n",
       "      <td>-0.287735</td>\n",
       "      <td>-0.276883</td>\n",
       "      <td>2.110924</td>\n",
       "      <td>2.424082</td>\n",
       "      <td>1.216592</td>\n",
       "      <td>-0.980903</td>\n",
       "      <td>0.410782</td>\n",
       "      <td>-2.174533</td>\n",
       "      <td>0.040912</td>\n",
       "      <td>...</td>\n",
       "      <td>1.044363</td>\n",
       "      <td>-1.104580</td>\n",
       "      <td>0.773450</td>\n",
       "      <td>0.167577</td>\n",
       "      <td>-1.264923</td>\n",
       "      <td>1.243037</td>\n",
       "      <td>0.628563</td>\n",
       "      <td>0.606427</td>\n",
       "      <td>-0.489600</td>\n",
       "      <td>-1.102963</td>\n",
       "    </tr>\n",
       "    <tr>\n",
       "      <th>16035_atel</th>\n",
       "      <td>0</td>\n",
       "      <td>1.990000</td>\n",
       "      <td>0.172300</td>\n",
       "      <td>0.524815</td>\n",
       "      <td>-1.463795</td>\n",
       "      <td>2.136600</td>\n",
       "      <td>0.322680</td>\n",
       "      <td>-0.051050</td>\n",
       "      <td>-1.353675</td>\n",
       "      <td>-0.133300</td>\n",
       "      <td>...</td>\n",
       "      <td>1.065000</td>\n",
       "      <td>-0.929450</td>\n",
       "      <td>0.788360</td>\n",
       "      <td>0.346870</td>\n",
       "      <td>-2.324300</td>\n",
       "      <td>-0.332140</td>\n",
       "      <td>2.337200</td>\n",
       "      <td>-0.525490</td>\n",
       "      <td>-1.845100</td>\n",
       "      <td>-0.456090</td>\n",
       "    </tr>\n",
       "    <tr>\n",
       "      <th>16036_atel</th>\n",
       "      <td>0</td>\n",
       "      <td>-0.798810</td>\n",
       "      <td>1.607800</td>\n",
       "      <td>1.103400</td>\n",
       "      <td>0.316810</td>\n",
       "      <td>2.407400</td>\n",
       "      <td>-1.261300</td>\n",
       "      <td>-0.771110</td>\n",
       "      <td>-0.524330</td>\n",
       "      <td>0.584350</td>\n",
       "      <td>...</td>\n",
       "      <td>2.005867</td>\n",
       "      <td>0.182510</td>\n",
       "      <td>2.103533</td>\n",
       "      <td>0.254155</td>\n",
       "      <td>-1.506143</td>\n",
       "      <td>-1.871467</td>\n",
       "      <td>0.290797</td>\n",
       "      <td>1.519500</td>\n",
       "      <td>-1.050553</td>\n",
       "      <td>-0.427197</td>\n",
       "    </tr>\n",
       "    <tr>\n",
       "      <th>16037_atel</th>\n",
       "      <td>0</td>\n",
       "      <td>-0.495000</td>\n",
       "      <td>-1.254400</td>\n",
       "      <td>0.978570</td>\n",
       "      <td>3.729800</td>\n",
       "      <td>2.208100</td>\n",
       "      <td>-1.782300</td>\n",
       "      <td>0.637920</td>\n",
       "      <td>-3.084700</td>\n",
       "      <td>-1.142400</td>\n",
       "      <td>...</td>\n",
       "      <td>1.287148</td>\n",
       "      <td>-0.976005</td>\n",
       "      <td>0.876963</td>\n",
       "      <td>0.325518</td>\n",
       "      <td>-1.648143</td>\n",
       "      <td>0.455178</td>\n",
       "      <td>0.018822</td>\n",
       "      <td>0.277973</td>\n",
       "      <td>-0.456520</td>\n",
       "      <td>-0.549998</td>\n",
       "    </tr>\n",
       "  </tbody>\n",
       "</table>\n",
       "<p>48279 rows × 513 columns</p>\n",
       "</div>"
      ],
      "text/plain": [
       "                citation_class         0         1         2         3  \\\n",
       "telegram_index                                                           \n",
       "3_atel                       0  1.980900  1.588900  0.344420 -0.675585   \n",
       "2_atel                       0  1.537100  1.558500  0.317990  0.580130   \n",
       "4_atel                       0  0.729690  0.246960  1.272286 -0.716588   \n",
       "5_atel                       0 -0.817397  0.153137  1.466150  0.205220   \n",
       "6_atel                       0  1.134500 -1.603600  3.400700  1.729500   \n",
       "...                        ...       ...       ...       ...       ...   \n",
       "16033_atel                   0  1.990000  0.172300  0.524815 -1.463795   \n",
       "16034_atel                   0 -0.287735 -0.276883  2.110924  2.424082   \n",
       "16035_atel                   0  1.990000  0.172300  0.524815 -1.463795   \n",
       "16036_atel                   0 -0.798810  1.607800  1.103400  0.316810   \n",
       "16037_atel                   0 -0.495000 -1.254400  0.978570  3.729800   \n",
       "\n",
       "                       4         5         6         7         8  ...  \\\n",
       "telegram_index                                                    ...   \n",
       "3_atel          1.559450 -0.150880  0.616985 -1.793825  0.097455  ...   \n",
       "2_atel          0.603100  0.244880  0.067371 -2.996200 -0.924190  ...   \n",
       "4_atel          1.791311 -0.711224  0.041107 -1.721376  0.197792  ...   \n",
       "5_atel          0.974807 -0.456092 -0.946557 -0.925483  0.317733  ...   \n",
       "6_atel         -1.968500  1.185200 -0.195770 -0.591150  0.033826  ...   \n",
       "...                  ...       ...       ...       ...       ...  ...   \n",
       "16033_atel      2.136600  0.322680 -0.051050 -1.353675 -0.133300  ...   \n",
       "16034_atel      1.216592 -0.980903  0.410782 -2.174533  0.040912  ...   \n",
       "16035_atel      2.136600  0.322680 -0.051050 -1.353675 -0.133300  ...   \n",
       "16036_atel      2.407400 -1.261300 -0.771110 -0.524330  0.584350  ...   \n",
       "16037_atel      2.208100 -1.782300  0.637920 -3.084700 -1.142400  ...   \n",
       "\n",
       "                     502       503       504       505       506       507  \\\n",
       "telegram_index                                                               \n",
       "3_atel          2.005867  0.182510  2.103533  0.254155 -1.506143 -1.871467   \n",
       "2_atel          2.557800  2.394600  1.911600 -2.379400 -1.092000 -1.462900   \n",
       "4_atel          2.557800  2.394600  1.911600 -2.379400 -1.092000 -1.462900   \n",
       "5_atel          2.032410  1.774302  1.990075 -1.839227 -1.205250 -1.450075   \n",
       "6_atel          0.336810  1.823700  2.801400 -0.925720 -0.206510 -0.662900   \n",
       "...                  ...       ...       ...       ...       ...       ...   \n",
       "16033_atel      2.342150 -1.071830  2.155625  0.627475 -1.984225 -1.590175   \n",
       "16034_atel      1.044363 -1.104580  0.773450  0.167577 -1.264923  1.243037   \n",
       "16035_atel      1.065000 -0.929450  0.788360  0.346870 -2.324300 -0.332140   \n",
       "16036_atel      2.005867  0.182510  2.103533  0.254155 -1.506143 -1.871467   \n",
       "16037_atel      1.287148 -0.976005  0.876963  0.325518 -1.648143  0.455178   \n",
       "\n",
       "                     508       509       510       511  \n",
       "telegram_index                                          \n",
       "3_atel          0.290797  1.519500 -1.050553 -0.427197  \n",
       "2_atel         -1.492500  0.614020 -2.428900 -0.969490  \n",
       "4_atel         -1.492500  0.614020 -2.428900 -0.969490  \n",
       "5_atel         -1.109337  0.754565 -2.122475 -0.889640  \n",
       "6_atel         -0.840800  1.044200 -1.794900 -0.734740  \n",
       "...                  ...       ...       ...       ...  \n",
       "16033_atel      0.371883  0.776057 -1.462660 -0.567565  \n",
       "16034_atel      0.628563  0.606427 -0.489600 -1.102963  \n",
       "16035_atel      2.337200 -0.525490 -1.845100 -0.456090  \n",
       "16036_atel      0.290797  1.519500 -1.050553 -0.427197  \n",
       "16037_atel      0.018822  0.277973 -0.456520 -0.549998  \n",
       "\n",
       "[48279 rows x 513 columns]"
      ]
     },
     "execution_count": 37,
     "metadata": {},
     "output_type": "execute_result"
    }
   ],
   "source": [
    "df = df_labels.join(df_256)\n",
    "df"
   ]
  },
  {
   "cell_type": "code",
   "execution_count": 38,
   "id": "83aab7b6-094f-41e2-ba33-c2ebc374251c",
   "metadata": {},
   "outputs": [],
   "source": [
    "df = df.iloc[:-100]"
   ]
  },
  {
   "cell_type": "code",
   "execution_count": 39,
   "id": "114c1f1a-60f3-4f99-82e0-80cbc9ec5b6f",
   "metadata": {},
   "outputs": [],
   "source": [
    "X, y = df.iloc[:, 1:].values, df.citation_class.values.reshape(-1, 1)"
   ]
  },
  {
   "cell_type": "code",
   "execution_count": 40,
   "id": "ca96e489-3ac7-4355-93e3-6a010806514b",
   "metadata": {},
   "outputs": [
    {
     "data": {
      "text/plain": [
       "((48179, 512), (48179, 1))"
      ]
     },
     "execution_count": 40,
     "metadata": {},
     "output_type": "execute_result"
    }
   ],
   "source": [
    "X.shape, y.shape"
   ]
  },
  {
   "cell_type": "code",
   "execution_count": 41,
   "id": "02c405cf-039b-4aaf-8b5b-b3397d4ed0d2",
   "metadata": {},
   "outputs": [],
   "source": [
    "X_train, X_test, y_train, y_test = train_test_split(X, y, test_size=0.15, stratify=y, random_state=RS)"
   ]
  },
  {
   "cell_type": "code",
   "execution_count": 42,
   "id": "a3b0e364-7961-47be-a682-18f76970760b",
   "metadata": {},
   "outputs": [
    {
     "data": {
      "text/html": [
       "<style>#sk-container-id-9 {color: black;background-color: white;}#sk-container-id-9 pre{padding: 0;}#sk-container-id-9 div.sk-toggleable {background-color: white;}#sk-container-id-9 label.sk-toggleable__label {cursor: pointer;display: block;width: 100%;margin-bottom: 0;padding: 0.3em;box-sizing: border-box;text-align: center;}#sk-container-id-9 label.sk-toggleable__label-arrow:before {content: \"▸\";float: left;margin-right: 0.25em;color: #696969;}#sk-container-id-9 label.sk-toggleable__label-arrow:hover:before {color: black;}#sk-container-id-9 div.sk-estimator:hover label.sk-toggleable__label-arrow:before {color: black;}#sk-container-id-9 div.sk-toggleable__content {max-height: 0;max-width: 0;overflow: hidden;text-align: left;background-color: #f0f8ff;}#sk-container-id-9 div.sk-toggleable__content pre {margin: 0.2em;color: black;border-radius: 0.25em;background-color: #f0f8ff;}#sk-container-id-9 input.sk-toggleable__control:checked~div.sk-toggleable__content {max-height: 200px;max-width: 100%;overflow: auto;}#sk-container-id-9 input.sk-toggleable__control:checked~label.sk-toggleable__label-arrow:before {content: \"▾\";}#sk-container-id-9 div.sk-estimator input.sk-toggleable__control:checked~label.sk-toggleable__label {background-color: #d4ebff;}#sk-container-id-9 div.sk-label input.sk-toggleable__control:checked~label.sk-toggleable__label {background-color: #d4ebff;}#sk-container-id-9 input.sk-hidden--visually {border: 0;clip: rect(1px 1px 1px 1px);clip: rect(1px, 1px, 1px, 1px);height: 1px;margin: -1px;overflow: hidden;padding: 0;position: absolute;width: 1px;}#sk-container-id-9 div.sk-estimator {font-family: monospace;background-color: #f0f8ff;border: 1px dotted black;border-radius: 0.25em;box-sizing: border-box;margin-bottom: 0.5em;}#sk-container-id-9 div.sk-estimator:hover {background-color: #d4ebff;}#sk-container-id-9 div.sk-parallel-item::after {content: \"\";width: 100%;border-bottom: 1px solid gray;flex-grow: 1;}#sk-container-id-9 div.sk-label:hover label.sk-toggleable__label {background-color: #d4ebff;}#sk-container-id-9 div.sk-serial::before {content: \"\";position: absolute;border-left: 1px solid gray;box-sizing: border-box;top: 0;bottom: 0;left: 50%;z-index: 0;}#sk-container-id-9 div.sk-serial {display: flex;flex-direction: column;align-items: center;background-color: white;padding-right: 0.2em;padding-left: 0.2em;position: relative;}#sk-container-id-9 div.sk-item {position: relative;z-index: 1;}#sk-container-id-9 div.sk-parallel {display: flex;align-items: stretch;justify-content: center;background-color: white;position: relative;}#sk-container-id-9 div.sk-item::before, #sk-container-id-9 div.sk-parallel-item::before {content: \"\";position: absolute;border-left: 1px solid gray;box-sizing: border-box;top: 0;bottom: 0;left: 50%;z-index: -1;}#sk-container-id-9 div.sk-parallel-item {display: flex;flex-direction: column;z-index: 1;position: relative;background-color: white;}#sk-container-id-9 div.sk-parallel-item:first-child::after {align-self: flex-end;width: 50%;}#sk-container-id-9 div.sk-parallel-item:last-child::after {align-self: flex-start;width: 50%;}#sk-container-id-9 div.sk-parallel-item:only-child::after {width: 0;}#sk-container-id-9 div.sk-dashed-wrapped {border: 1px dashed gray;margin: 0 0.4em 0.5em 0.4em;box-sizing: border-box;padding-bottom: 0.4em;background-color: white;}#sk-container-id-9 div.sk-label label {font-family: monospace;font-weight: bold;display: inline-block;line-height: 1.2em;}#sk-container-id-9 div.sk-label-container {text-align: center;}#sk-container-id-9 div.sk-container {/* jupyter's `normalize.less` sets `[hidden] { display: none; }` but bootstrap.min.css set `[hidden] { display: none !important; }` so we also need the `!important` here to be able to override the default hidden behavior on the sphinx rendered scikit-learn.org. See: https://github.com/scikit-learn/scikit-learn/issues/21755 */display: inline-block !important;position: relative;}#sk-container-id-9 div.sk-text-repr-fallback {display: none;}</style><div id=\"sk-container-id-9\" class=\"sk-top-container\"><div class=\"sk-text-repr-fallback\"><pre>LGBMClassifier(class_weight=&#x27;balanced&#x27;, random_state=42)</pre><b>In a Jupyter environment, please rerun this cell to show the HTML representation or trust the notebook. <br />On GitHub, the HTML representation is unable to render, please try loading this page with nbviewer.org.</b></div><div class=\"sk-container\" hidden><div class=\"sk-item\"><div class=\"sk-estimator sk-toggleable\"><input class=\"sk-toggleable__control sk-hidden--visually\" id=\"sk-estimator-id-9\" type=\"checkbox\" checked><label for=\"sk-estimator-id-9\" class=\"sk-toggleable__label sk-toggleable__label-arrow\">LGBMClassifier</label><div class=\"sk-toggleable__content\"><pre>LGBMClassifier(class_weight=&#x27;balanced&#x27;, random_state=42)</pre></div></div></div></div></div>"
      ],
      "text/plain": [
       "LGBMClassifier(class_weight='balanced', random_state=42)"
      ]
     },
     "execution_count": 42,
     "metadata": {},
     "output_type": "execute_result"
    }
   ],
   "source": [
    "gbm = lgb.LGBMClassifier(class_weight='balanced', random_state=RS)\n",
    "gbm.fit(X_train,y_train)"
   ]
  },
  {
   "cell_type": "code",
   "execution_count": 43,
   "id": "506e1dcf-8b90-4ea4-80d2-2320cc721db2",
   "metadata": {},
   "outputs": [
    {
     "name": "stdout",
     "output_type": "stream",
     "text": [
      "Train accuracy: 0.7075949634145622\n",
      "Test accuracy:  0.5635527730678377\n",
      "Report: \n",
      "              precision    recall  f1-score   support\n",
      "\n",
      "           0       0.86      0.74      0.80      5500\n",
      "           1       0.36      0.32      0.34      1353\n",
      "           2       0.18      0.63      0.28       374\n",
      "\n",
      "    accuracy                           0.66      7227\n",
      "   macro avg       0.47      0.56      0.47      7227\n",
      "weighted avg       0.73      0.66      0.68      7227\n",
      "\n",
      "Confusion matrix:\n",
      "[[4076  679  745]\n",
      " [ 586  431  336]\n",
      " [  58   80  236]]\n"
     ]
    }
   ],
   "source": [
    "y_pred = gbm.predict(X_test)\n",
    "print(f\"Train accuracy: {balanced_accuracy_score(y_train, gbm.predict(X_train))}\")\n",
    "get_report(y_test, y_pred)"
   ]
  },
  {
   "cell_type": "markdown",
   "id": "01d3de99-5ac4-4461-b4a0-6954319de55b",
   "metadata": {},
   "source": [
    "#### floret 128"
   ]
  },
  {
   "cell_type": "code",
   "execution_count": 44,
   "id": "0f396606-6dd1-4740-9645-7928bf6fe899",
   "metadata": {},
   "outputs": [],
   "source": [
    "df = df_labels.join(df_128)\n",
    "\n",
    "df = df.iloc[:-100]\n",
    "\n",
    "X, y = df.iloc[:, 1:].values, df.citation_class.values.reshape(-1, 1)\n",
    "\n",
    "X_train, X_test, y_train, y_test = train_test_split(X, y, test_size=0.15, stratify=y, random_state=RS)"
   ]
  },
  {
   "cell_type": "code",
   "execution_count": 45,
   "id": "6d3ae540-b739-42b4-ac2f-8d86c967bd22",
   "metadata": {},
   "outputs": [
    {
     "data": {
      "text/html": [
       "<style>#sk-container-id-10 {color: black;background-color: white;}#sk-container-id-10 pre{padding: 0;}#sk-container-id-10 div.sk-toggleable {background-color: white;}#sk-container-id-10 label.sk-toggleable__label {cursor: pointer;display: block;width: 100%;margin-bottom: 0;padding: 0.3em;box-sizing: border-box;text-align: center;}#sk-container-id-10 label.sk-toggleable__label-arrow:before {content: \"▸\";float: left;margin-right: 0.25em;color: #696969;}#sk-container-id-10 label.sk-toggleable__label-arrow:hover:before {color: black;}#sk-container-id-10 div.sk-estimator:hover label.sk-toggleable__label-arrow:before {color: black;}#sk-container-id-10 div.sk-toggleable__content {max-height: 0;max-width: 0;overflow: hidden;text-align: left;background-color: #f0f8ff;}#sk-container-id-10 div.sk-toggleable__content pre {margin: 0.2em;color: black;border-radius: 0.25em;background-color: #f0f8ff;}#sk-container-id-10 input.sk-toggleable__control:checked~div.sk-toggleable__content {max-height: 200px;max-width: 100%;overflow: auto;}#sk-container-id-10 input.sk-toggleable__control:checked~label.sk-toggleable__label-arrow:before {content: \"▾\";}#sk-container-id-10 div.sk-estimator input.sk-toggleable__control:checked~label.sk-toggleable__label {background-color: #d4ebff;}#sk-container-id-10 div.sk-label input.sk-toggleable__control:checked~label.sk-toggleable__label {background-color: #d4ebff;}#sk-container-id-10 input.sk-hidden--visually {border: 0;clip: rect(1px 1px 1px 1px);clip: rect(1px, 1px, 1px, 1px);height: 1px;margin: -1px;overflow: hidden;padding: 0;position: absolute;width: 1px;}#sk-container-id-10 div.sk-estimator {font-family: monospace;background-color: #f0f8ff;border: 1px dotted black;border-radius: 0.25em;box-sizing: border-box;margin-bottom: 0.5em;}#sk-container-id-10 div.sk-estimator:hover {background-color: #d4ebff;}#sk-container-id-10 div.sk-parallel-item::after {content: \"\";width: 100%;border-bottom: 1px solid gray;flex-grow: 1;}#sk-container-id-10 div.sk-label:hover label.sk-toggleable__label {background-color: #d4ebff;}#sk-container-id-10 div.sk-serial::before {content: \"\";position: absolute;border-left: 1px solid gray;box-sizing: border-box;top: 0;bottom: 0;left: 50%;z-index: 0;}#sk-container-id-10 div.sk-serial {display: flex;flex-direction: column;align-items: center;background-color: white;padding-right: 0.2em;padding-left: 0.2em;position: relative;}#sk-container-id-10 div.sk-item {position: relative;z-index: 1;}#sk-container-id-10 div.sk-parallel {display: flex;align-items: stretch;justify-content: center;background-color: white;position: relative;}#sk-container-id-10 div.sk-item::before, #sk-container-id-10 div.sk-parallel-item::before {content: \"\";position: absolute;border-left: 1px solid gray;box-sizing: border-box;top: 0;bottom: 0;left: 50%;z-index: -1;}#sk-container-id-10 div.sk-parallel-item {display: flex;flex-direction: column;z-index: 1;position: relative;background-color: white;}#sk-container-id-10 div.sk-parallel-item:first-child::after {align-self: flex-end;width: 50%;}#sk-container-id-10 div.sk-parallel-item:last-child::after {align-self: flex-start;width: 50%;}#sk-container-id-10 div.sk-parallel-item:only-child::after {width: 0;}#sk-container-id-10 div.sk-dashed-wrapped {border: 1px dashed gray;margin: 0 0.4em 0.5em 0.4em;box-sizing: border-box;padding-bottom: 0.4em;background-color: white;}#sk-container-id-10 div.sk-label label {font-family: monospace;font-weight: bold;display: inline-block;line-height: 1.2em;}#sk-container-id-10 div.sk-label-container {text-align: center;}#sk-container-id-10 div.sk-container {/* jupyter's `normalize.less` sets `[hidden] { display: none; }` but bootstrap.min.css set `[hidden] { display: none !important; }` so we also need the `!important` here to be able to override the default hidden behavior on the sphinx rendered scikit-learn.org. See: https://github.com/scikit-learn/scikit-learn/issues/21755 */display: inline-block !important;position: relative;}#sk-container-id-10 div.sk-text-repr-fallback {display: none;}</style><div id=\"sk-container-id-10\" class=\"sk-top-container\"><div class=\"sk-text-repr-fallback\"><pre>LGBMClassifier(class_weight=&#x27;balanced&#x27;, random_state=42)</pre><b>In a Jupyter environment, please rerun this cell to show the HTML representation or trust the notebook. <br />On GitHub, the HTML representation is unable to render, please try loading this page with nbviewer.org.</b></div><div class=\"sk-container\" hidden><div class=\"sk-item\"><div class=\"sk-estimator sk-toggleable\"><input class=\"sk-toggleable__control sk-hidden--visually\" id=\"sk-estimator-id-10\" type=\"checkbox\" checked><label for=\"sk-estimator-id-10\" class=\"sk-toggleable__label sk-toggleable__label-arrow\">LGBMClassifier</label><div class=\"sk-toggleable__content\"><pre>LGBMClassifier(class_weight=&#x27;balanced&#x27;, random_state=42)</pre></div></div></div></div></div>"
      ],
      "text/plain": [
       "LGBMClassifier(class_weight='balanced', random_state=42)"
      ]
     },
     "execution_count": 45,
     "metadata": {},
     "output_type": "execute_result"
    }
   ],
   "source": [
    "gbm = lgb.LGBMClassifier(class_weight='balanced', random_state=RS)\n",
    "gbm.fit(X_train,y_train)"
   ]
  },
  {
   "cell_type": "code",
   "execution_count": 46,
   "id": "587c33f6-b332-418a-a560-174b9d9eb7e8",
   "metadata": {},
   "outputs": [
    {
     "name": "stdout",
     "output_type": "stream",
     "text": [
      "Train accuracy: 0.7038162385919375\n",
      "Test accuracy:  0.5602590322159906\n",
      "Report: \n",
      "              precision    recall  f1-score   support\n",
      "\n",
      "           0       0.86      0.74      0.79      5500\n",
      "           1       0.36      0.32      0.34      1353\n",
      "           2       0.17      0.63      0.27       374\n",
      "\n",
      "    accuracy                           0.65      7227\n",
      "   macro avg       0.47      0.56      0.47      7227\n",
      "weighted avg       0.73      0.65      0.68      7227\n",
      "\n",
      "Confusion matrix:\n",
      "[[4047  675  778]\n",
      " [ 583  432  338]\n",
      " [  55   85  234]]\n"
     ]
    }
   ],
   "source": [
    "y_pred = gbm.predict(X_test)\n",
    "print(f\"Train accuracy: {balanced_accuracy_score(y_train, gbm.predict(X_train))}\")\n",
    "get_report(y_test, y_pred)"
   ]
  },
  {
   "cell_type": "markdown",
   "id": "4957c1a2-e0ac-456c-a9d5-7159ef2d647c",
   "metadata": {},
   "source": [
    "#### CV"
   ]
  },
  {
   "cell_type": "code",
   "execution_count": 99,
   "id": "d68be8d6-26f0-4ec3-82f5-f759cb78d60a",
   "metadata": {},
   "outputs": [],
   "source": [
    "df = df_labels.join(df_cv)\n",
    "\n",
    "df = df.iloc[:-100]\n",
    "\n",
    "X, y = df.iloc[:, 1:].values, df.citation_class.values.reshape(-1, 1)\n",
    "\n",
    "X_train, X_test, y_train, y_test = train_test_split(X, y, test_size=0.15, stratify=y, random_state=RS)"
   ]
  },
  {
   "cell_type": "code",
   "execution_count": 100,
   "id": "9d8c63d6-afd3-44d5-8726-e54007b729d5",
   "metadata": {},
   "outputs": [
    {
     "data": {
      "text/plain": [
       "(48279, 2112)"
      ]
     },
     "execution_count": 100,
     "metadata": {},
     "output_type": "execute_result"
    }
   ],
   "source": [
    "df_cv.shape"
   ]
  },
  {
   "cell_type": "code",
   "execution_count": 48,
   "id": "71641bd7-0aaa-4c6c-bbcd-9f8fcd52d35d",
   "metadata": {},
   "outputs": [
    {
     "data": {
      "text/html": [
       "<style>#sk-container-id-11 {color: black;background-color: white;}#sk-container-id-11 pre{padding: 0;}#sk-container-id-11 div.sk-toggleable {background-color: white;}#sk-container-id-11 label.sk-toggleable__label {cursor: pointer;display: block;width: 100%;margin-bottom: 0;padding: 0.3em;box-sizing: border-box;text-align: center;}#sk-container-id-11 label.sk-toggleable__label-arrow:before {content: \"▸\";float: left;margin-right: 0.25em;color: #696969;}#sk-container-id-11 label.sk-toggleable__label-arrow:hover:before {color: black;}#sk-container-id-11 div.sk-estimator:hover label.sk-toggleable__label-arrow:before {color: black;}#sk-container-id-11 div.sk-toggleable__content {max-height: 0;max-width: 0;overflow: hidden;text-align: left;background-color: #f0f8ff;}#sk-container-id-11 div.sk-toggleable__content pre {margin: 0.2em;color: black;border-radius: 0.25em;background-color: #f0f8ff;}#sk-container-id-11 input.sk-toggleable__control:checked~div.sk-toggleable__content {max-height: 200px;max-width: 100%;overflow: auto;}#sk-container-id-11 input.sk-toggleable__control:checked~label.sk-toggleable__label-arrow:before {content: \"▾\";}#sk-container-id-11 div.sk-estimator input.sk-toggleable__control:checked~label.sk-toggleable__label {background-color: #d4ebff;}#sk-container-id-11 div.sk-label input.sk-toggleable__control:checked~label.sk-toggleable__label {background-color: #d4ebff;}#sk-container-id-11 input.sk-hidden--visually {border: 0;clip: rect(1px 1px 1px 1px);clip: rect(1px, 1px, 1px, 1px);height: 1px;margin: -1px;overflow: hidden;padding: 0;position: absolute;width: 1px;}#sk-container-id-11 div.sk-estimator {font-family: monospace;background-color: #f0f8ff;border: 1px dotted black;border-radius: 0.25em;box-sizing: border-box;margin-bottom: 0.5em;}#sk-container-id-11 div.sk-estimator:hover {background-color: #d4ebff;}#sk-container-id-11 div.sk-parallel-item::after {content: \"\";width: 100%;border-bottom: 1px solid gray;flex-grow: 1;}#sk-container-id-11 div.sk-label:hover label.sk-toggleable__label {background-color: #d4ebff;}#sk-container-id-11 div.sk-serial::before {content: \"\";position: absolute;border-left: 1px solid gray;box-sizing: border-box;top: 0;bottom: 0;left: 50%;z-index: 0;}#sk-container-id-11 div.sk-serial {display: flex;flex-direction: column;align-items: center;background-color: white;padding-right: 0.2em;padding-left: 0.2em;position: relative;}#sk-container-id-11 div.sk-item {position: relative;z-index: 1;}#sk-container-id-11 div.sk-parallel {display: flex;align-items: stretch;justify-content: center;background-color: white;position: relative;}#sk-container-id-11 div.sk-item::before, #sk-container-id-11 div.sk-parallel-item::before {content: \"\";position: absolute;border-left: 1px solid gray;box-sizing: border-box;top: 0;bottom: 0;left: 50%;z-index: -1;}#sk-container-id-11 div.sk-parallel-item {display: flex;flex-direction: column;z-index: 1;position: relative;background-color: white;}#sk-container-id-11 div.sk-parallel-item:first-child::after {align-self: flex-end;width: 50%;}#sk-container-id-11 div.sk-parallel-item:last-child::after {align-self: flex-start;width: 50%;}#sk-container-id-11 div.sk-parallel-item:only-child::after {width: 0;}#sk-container-id-11 div.sk-dashed-wrapped {border: 1px dashed gray;margin: 0 0.4em 0.5em 0.4em;box-sizing: border-box;padding-bottom: 0.4em;background-color: white;}#sk-container-id-11 div.sk-label label {font-family: monospace;font-weight: bold;display: inline-block;line-height: 1.2em;}#sk-container-id-11 div.sk-label-container {text-align: center;}#sk-container-id-11 div.sk-container {/* jupyter's `normalize.less` sets `[hidden] { display: none; }` but bootstrap.min.css set `[hidden] { display: none !important; }` so we also need the `!important` here to be able to override the default hidden behavior on the sphinx rendered scikit-learn.org. See: https://github.com/scikit-learn/scikit-learn/issues/21755 */display: inline-block !important;position: relative;}#sk-container-id-11 div.sk-text-repr-fallback {display: none;}</style><div id=\"sk-container-id-11\" class=\"sk-top-container\"><div class=\"sk-text-repr-fallback\"><pre>LGBMClassifier(class_weight=&#x27;balanced&#x27;, random_state=42)</pre><b>In a Jupyter environment, please rerun this cell to show the HTML representation or trust the notebook. <br />On GitHub, the HTML representation is unable to render, please try loading this page with nbviewer.org.</b></div><div class=\"sk-container\" hidden><div class=\"sk-item\"><div class=\"sk-estimator sk-toggleable\"><input class=\"sk-toggleable__control sk-hidden--visually\" id=\"sk-estimator-id-11\" type=\"checkbox\" checked><label for=\"sk-estimator-id-11\" class=\"sk-toggleable__label sk-toggleable__label-arrow\">LGBMClassifier</label><div class=\"sk-toggleable__content\"><pre>LGBMClassifier(class_weight=&#x27;balanced&#x27;, random_state=42)</pre></div></div></div></div></div>"
      ],
      "text/plain": [
       "LGBMClassifier(class_weight='balanced', random_state=42)"
      ]
     },
     "execution_count": 48,
     "metadata": {},
     "output_type": "execute_result"
    }
   ],
   "source": [
    "gbm = lgb.LGBMClassifier(class_weight='balanced', random_state=RS)\n",
    "gbm.fit(X_train,y_train)"
   ]
  },
  {
   "cell_type": "code",
   "execution_count": 49,
   "id": "6f0a9a6e-6ed9-4148-a682-d945b5cae6db",
   "metadata": {},
   "outputs": [
    {
     "name": "stdout",
     "output_type": "stream",
     "text": [
      "Train accuracy: 0.6228089871055021\n",
      "Test accuracy:  0.5767546628407461\n",
      "Report: \n",
      "              precision    recall  f1-score   support\n",
      "\n",
      "           0       0.87      0.71      0.78      5500\n",
      "           1       0.38      0.27      0.32      1353\n",
      "           2       0.16      0.75      0.26       374\n",
      "\n",
      "    accuracy                           0.63      7227\n",
      "   macro avg       0.47      0.58      0.45      7227\n",
      "weighted avg       0.74      0.63      0.67      7227\n",
      "\n",
      "Confusion matrix:\n",
      "[[3911  556 1033]\n",
      " [ 552  366  435]\n",
      " [  46   48  280]]\n"
     ]
    }
   ],
   "source": [
    "y_pred = gbm.predict(X_test)\n",
    "print(f\"Train accuracy: {balanced_accuracy_score(y_train, gbm.predict(X_train))}\")\n",
    "get_report(y_test, y_pred)"
   ]
  },
  {
   "cell_type": "markdown",
   "id": "48a4dd0b-8c8b-408e-a894-a42b5629ef19",
   "metadata": {},
   "source": [
    "#### the diff between 128 and 256 is insignificant in terms of accuracy, yet 128 is much faster to train on. I will try to tune and compare both 128D and CV vectors"
   ]
  },
  {
   "cell_type": "code",
   "execution_count": 74,
   "id": "b9bf1eda-a622-4573-a898-618d070c1b27",
   "metadata": {},
   "outputs": [],
   "source": [
    "# 128 first\n",
    "\n",
    "df = df_labels.join(df_128)\n",
    "df = df.iloc[:-100]\n",
    "X, y = df.iloc[:, 1:].values, df.citation_class.values.reshape(-1, 1)\n",
    "X_train, X_test, y_train, y_test = train_test_split(X, y, test_size=0.15, stratify=y, random_state=RS)"
   ]
  },
  {
   "cell_type": "code",
   "execution_count": 75,
   "id": "7f44c34e-98f1-4f1b-b91c-acb40408482c",
   "metadata": {},
   "outputs": [],
   "source": [
    "NFOLDS = 4\n",
    "kf = StratifiedKFold(n_splits=NFOLDS, shuffle=True, random_state=RS)"
   ]
  },
  {
   "cell_type": "code",
   "execution_count": 76,
   "id": "c7501038-3959-49a0-b367-3bfcd704b3a4",
   "metadata": {},
   "outputs": [],
   "source": [
    "scorer = make_scorer(balanced_accuracy_score, greater_is_better=True)  "
   ]
  },
  {
   "cell_type": "code",
   "execution_count": 81,
   "id": "716e6b32-b5ad-4cf9-9d0e-a3c510e2f720",
   "metadata": {},
   "outputs": [],
   "source": [
    "model = lgb.LGBMClassifier(class_weight='balanced', random_state=RS)"
   ]
  },
  {
   "cell_type": "code",
   "execution_count": 82,
   "id": "d38f77b5-33de-445a-8775-1cd2fd1262cb",
   "metadata": {},
   "outputs": [],
   "source": [
    "parameters = {\n",
    "    'n_estimators': [100, 250, 500, 1000],\n",
    "    'max_depth': [2, 4, 6, -1],\n",
    "    'reg_alpha': [0.1, 1],\n",
    "    'learning_rate': [0.001, 0.01, 0.1]\n",
    "}"
   ]
  },
  {
   "cell_type": "code",
   "execution_count": 83,
   "id": "67d1fde8-d1fa-452b-8de2-f48b6f5175af",
   "metadata": {},
   "outputs": [],
   "source": [
    "RSCV = RandomizedSearchCV(model, parameters, scoring=scorer, cv=kf, n_iter=333, verbose=1)"
   ]
  },
  {
   "cell_type": "code",
   "execution_count": 84,
   "id": "6092c533-05ca-4d97-8e0b-d095af1f8f23",
   "metadata": {},
   "outputs": [
    {
     "name": "stdout",
     "output_type": "stream",
     "text": [
      "Fitting 4 folds for each of 96 candidates, totalling 384 fits\n"
     ]
    },
    {
     "data": {
      "text/html": [
       "<style>#sk-container-id-14 {color: black;background-color: white;}#sk-container-id-14 pre{padding: 0;}#sk-container-id-14 div.sk-toggleable {background-color: white;}#sk-container-id-14 label.sk-toggleable__label {cursor: pointer;display: block;width: 100%;margin-bottom: 0;padding: 0.3em;box-sizing: border-box;text-align: center;}#sk-container-id-14 label.sk-toggleable__label-arrow:before {content: \"▸\";float: left;margin-right: 0.25em;color: #696969;}#sk-container-id-14 label.sk-toggleable__label-arrow:hover:before {color: black;}#sk-container-id-14 div.sk-estimator:hover label.sk-toggleable__label-arrow:before {color: black;}#sk-container-id-14 div.sk-toggleable__content {max-height: 0;max-width: 0;overflow: hidden;text-align: left;background-color: #f0f8ff;}#sk-container-id-14 div.sk-toggleable__content pre {margin: 0.2em;color: black;border-radius: 0.25em;background-color: #f0f8ff;}#sk-container-id-14 input.sk-toggleable__control:checked~div.sk-toggleable__content {max-height: 200px;max-width: 100%;overflow: auto;}#sk-container-id-14 input.sk-toggleable__control:checked~label.sk-toggleable__label-arrow:before {content: \"▾\";}#sk-container-id-14 div.sk-estimator input.sk-toggleable__control:checked~label.sk-toggleable__label {background-color: #d4ebff;}#sk-container-id-14 div.sk-label input.sk-toggleable__control:checked~label.sk-toggleable__label {background-color: #d4ebff;}#sk-container-id-14 input.sk-hidden--visually {border: 0;clip: rect(1px 1px 1px 1px);clip: rect(1px, 1px, 1px, 1px);height: 1px;margin: -1px;overflow: hidden;padding: 0;position: absolute;width: 1px;}#sk-container-id-14 div.sk-estimator {font-family: monospace;background-color: #f0f8ff;border: 1px dotted black;border-radius: 0.25em;box-sizing: border-box;margin-bottom: 0.5em;}#sk-container-id-14 div.sk-estimator:hover {background-color: #d4ebff;}#sk-container-id-14 div.sk-parallel-item::after {content: \"\";width: 100%;border-bottom: 1px solid gray;flex-grow: 1;}#sk-container-id-14 div.sk-label:hover label.sk-toggleable__label {background-color: #d4ebff;}#sk-container-id-14 div.sk-serial::before {content: \"\";position: absolute;border-left: 1px solid gray;box-sizing: border-box;top: 0;bottom: 0;left: 50%;z-index: 0;}#sk-container-id-14 div.sk-serial {display: flex;flex-direction: column;align-items: center;background-color: white;padding-right: 0.2em;padding-left: 0.2em;position: relative;}#sk-container-id-14 div.sk-item {position: relative;z-index: 1;}#sk-container-id-14 div.sk-parallel {display: flex;align-items: stretch;justify-content: center;background-color: white;position: relative;}#sk-container-id-14 div.sk-item::before, #sk-container-id-14 div.sk-parallel-item::before {content: \"\";position: absolute;border-left: 1px solid gray;box-sizing: border-box;top: 0;bottom: 0;left: 50%;z-index: -1;}#sk-container-id-14 div.sk-parallel-item {display: flex;flex-direction: column;z-index: 1;position: relative;background-color: white;}#sk-container-id-14 div.sk-parallel-item:first-child::after {align-self: flex-end;width: 50%;}#sk-container-id-14 div.sk-parallel-item:last-child::after {align-self: flex-start;width: 50%;}#sk-container-id-14 div.sk-parallel-item:only-child::after {width: 0;}#sk-container-id-14 div.sk-dashed-wrapped {border: 1px dashed gray;margin: 0 0.4em 0.5em 0.4em;box-sizing: border-box;padding-bottom: 0.4em;background-color: white;}#sk-container-id-14 div.sk-label label {font-family: monospace;font-weight: bold;display: inline-block;line-height: 1.2em;}#sk-container-id-14 div.sk-label-container {text-align: center;}#sk-container-id-14 div.sk-container {/* jupyter's `normalize.less` sets `[hidden] { display: none; }` but bootstrap.min.css set `[hidden] { display: none !important; }` so we also need the `!important` here to be able to override the default hidden behavior on the sphinx rendered scikit-learn.org. See: https://github.com/scikit-learn/scikit-learn/issues/21755 */display: inline-block !important;position: relative;}#sk-container-id-14 div.sk-text-repr-fallback {display: none;}</style><div id=\"sk-container-id-14\" class=\"sk-top-container\"><div class=\"sk-text-repr-fallback\"><pre>RandomizedSearchCV(cv=StratifiedKFold(n_splits=4, random_state=42, shuffle=True),\n",
       "                   estimator=LGBMClassifier(class_weight=&#x27;balanced&#x27;,\n",
       "                                            random_state=42),\n",
       "                   n_iter=333,\n",
       "                   param_distributions={&#x27;learning_rate&#x27;: [0.001, 0.01, 0.1],\n",
       "                                        &#x27;max_depth&#x27;: [2, 4, 6, -1],\n",
       "                                        &#x27;n_estimators&#x27;: [100, 250, 500, 1000],\n",
       "                                        &#x27;reg_alpha&#x27;: [0.1, 1]},\n",
       "                   scoring=make_scorer(balanced_accuracy_score), verbose=1)</pre><b>In a Jupyter environment, please rerun this cell to show the HTML representation or trust the notebook. <br />On GitHub, the HTML representation is unable to render, please try loading this page with nbviewer.org.</b></div><div class=\"sk-container\" hidden><div class=\"sk-item sk-dashed-wrapped\"><div class=\"sk-label-container\"><div class=\"sk-label sk-toggleable\"><input class=\"sk-toggleable__control sk-hidden--visually\" id=\"sk-estimator-id-18\" type=\"checkbox\" ><label for=\"sk-estimator-id-18\" class=\"sk-toggleable__label sk-toggleable__label-arrow\">RandomizedSearchCV</label><div class=\"sk-toggleable__content\"><pre>RandomizedSearchCV(cv=StratifiedKFold(n_splits=4, random_state=42, shuffle=True),\n",
       "                   estimator=LGBMClassifier(class_weight=&#x27;balanced&#x27;,\n",
       "                                            random_state=42),\n",
       "                   n_iter=333,\n",
       "                   param_distributions={&#x27;learning_rate&#x27;: [0.001, 0.01, 0.1],\n",
       "                                        &#x27;max_depth&#x27;: [2, 4, 6, -1],\n",
       "                                        &#x27;n_estimators&#x27;: [100, 250, 500, 1000],\n",
       "                                        &#x27;reg_alpha&#x27;: [0.1, 1]},\n",
       "                   scoring=make_scorer(balanced_accuracy_score), verbose=1)</pre></div></div></div><div class=\"sk-parallel\"><div class=\"sk-parallel-item\"><div class=\"sk-item\"><div class=\"sk-label-container\"><div class=\"sk-label sk-toggleable\"><input class=\"sk-toggleable__control sk-hidden--visually\" id=\"sk-estimator-id-19\" type=\"checkbox\" ><label for=\"sk-estimator-id-19\" class=\"sk-toggleable__label sk-toggleable__label-arrow\">estimator: LGBMClassifier</label><div class=\"sk-toggleable__content\"><pre>LGBMClassifier(class_weight=&#x27;balanced&#x27;, random_state=42)</pre></div></div></div><div class=\"sk-serial\"><div class=\"sk-item\"><div class=\"sk-estimator sk-toggleable\"><input class=\"sk-toggleable__control sk-hidden--visually\" id=\"sk-estimator-id-20\" type=\"checkbox\" ><label for=\"sk-estimator-id-20\" class=\"sk-toggleable__label sk-toggleable__label-arrow\">LGBMClassifier</label><div class=\"sk-toggleable__content\"><pre>LGBMClassifier(class_weight=&#x27;balanced&#x27;, random_state=42)</pre></div></div></div></div></div></div></div></div></div></div>"
      ],
      "text/plain": [
       "RandomizedSearchCV(cv=StratifiedKFold(n_splits=4, random_state=42, shuffle=True),\n",
       "                   estimator=LGBMClassifier(class_weight='balanced',\n",
       "                                            random_state=42),\n",
       "                   n_iter=333,\n",
       "                   param_distributions={'learning_rate': [0.001, 0.01, 0.1],\n",
       "                                        'max_depth': [2, 4, 6, -1],\n",
       "                                        'n_estimators': [100, 250, 500, 1000],\n",
       "                                        'reg_alpha': [0.1, 1]},\n",
       "                   scoring=make_scorer(balanced_accuracy_score), verbose=1)"
      ]
     },
     "execution_count": 84,
     "metadata": {},
     "output_type": "execute_result"
    }
   ],
   "source": [
    "RSCV.fit(X_train, y_train)"
   ]
  },
  {
   "cell_type": "code",
   "execution_count": 85,
   "id": "0396a8cd-0276-419b-8678-025e1c2d3bcc",
   "metadata": {},
   "outputs": [
    {
     "name": "stdout",
     "output_type": "stream",
     "text": [
      "Train accuracy: 0.6044032337801304\n",
      "Test accuracy:  0.565757720678811\n",
      "Report: \n",
      "              precision    recall  f1-score   support\n",
      "\n",
      "           0       0.86      0.71      0.78      5500\n",
      "           1       0.36      0.25      0.30      1353\n",
      "           2       0.16      0.74      0.26       374\n",
      "\n",
      "    accuracy                           0.62      7227\n",
      "   macro avg       0.46      0.57      0.44      7227\n",
      "weighted avg       0.73      0.62      0.66      7227\n",
      "\n",
      "Confusion matrix:\n",
      "[[3890  554 1056]\n",
      " [ 570  341  442]\n",
      " [  50   48  276]]\n"
     ]
    }
   ],
   "source": [
    "best_estimator = RSCV.best_estimator_\n",
    "\n",
    "y_pred = best_estimator.predict(X_test)\n",
    "print(f\"Train accuracy: {balanced_accuracy_score(y_train, best_estimator.predict(X_train))}\")\n",
    "get_report(y_test, y_pred)"
   ]
  },
  {
   "cell_type": "code",
   "execution_count": 86,
   "id": "b3f47815-60b9-4448-83a0-def769609f4e",
   "metadata": {},
   "outputs": [
    {
     "data": {
      "text/plain": [
       "{'reg_alpha': 1, 'n_estimators': 250, 'max_depth': 2, 'learning_rate': 0.1}"
      ]
     },
     "execution_count": 86,
     "metadata": {},
     "output_type": "execute_result"
    }
   ],
   "source": [
    "RSCV.best_params_"
   ]
  },
  {
   "cell_type": "code",
   "execution_count": 87,
   "id": "23aa636e-bad5-4a04-b88a-f7bba7cb9095",
   "metadata": {},
   "outputs": [],
   "source": [
    "# CV next\n",
    "\n",
    "df = df_labels.join(df_cv)\n",
    "df = df.iloc[:-100]\n",
    "X, y = df.iloc[:, 1:].values, df.citation_class.values.reshape(-1, 1)\n",
    "X_train, X_test, y_train, y_test = train_test_split(X, y, test_size=0.15, stratify=y, random_state=RS)"
   ]
  },
  {
   "cell_type": "code",
   "execution_count": 88,
   "id": "4432e731-59fc-4046-8cf5-e9d484b052bf",
   "metadata": {},
   "outputs": [],
   "source": [
    "model = lgb.LGBMClassifier(class_weight='balanced', random_state=RS)"
   ]
  },
  {
   "cell_type": "code",
   "execution_count": 89,
   "id": "363d93c7-abbc-4f08-929b-0a88481729a2",
   "metadata": {},
   "outputs": [],
   "source": [
    "RSCV = RandomizedSearchCV(model, parameters, scoring=scorer, cv=kf, n_iter=333, verbose=3)"
   ]
  },
  {
   "cell_type": "code",
   "execution_count": 90,
   "id": "c9fd4341-6ed3-4ba5-8057-05be77377780",
   "metadata": {
    "collapsed": true,
    "jupyter": {
     "outputs_hidden": true
    },
    "tags": []
   },
   "outputs": [
    {
     "name": "stdout",
     "output_type": "stream",
     "text": [
      "Fitting 4 folds for each of 96 candidates, totalling 384 fits\n",
      "[CV 1/4] END learning_rate=0.001, max_depth=2, n_estimators=100, reg_alpha=0.1;, score=0.519 total time=   3.4s\n",
      "[CV 2/4] END learning_rate=0.001, max_depth=2, n_estimators=100, reg_alpha=0.1;, score=0.518 total time=   2.0s\n",
      "[CV 3/4] END learning_rate=0.001, max_depth=2, n_estimators=100, reg_alpha=0.1;, score=0.507 total time=   2.0s\n",
      "[CV 4/4] END learning_rate=0.001, max_depth=2, n_estimators=100, reg_alpha=0.1;, score=0.517 total time=   2.4s\n",
      "[CV 1/4] END learning_rate=0.001, max_depth=2, n_estimators=100, reg_alpha=1;, score=0.519 total time=   2.4s\n",
      "[CV 2/4] END learning_rate=0.001, max_depth=2, n_estimators=100, reg_alpha=1;, score=0.518 total time=   2.4s\n",
      "[CV 3/4] END learning_rate=0.001, max_depth=2, n_estimators=100, reg_alpha=1;, score=0.507 total time=   2.1s\n",
      "[CV 4/4] END learning_rate=0.001, max_depth=2, n_estimators=100, reg_alpha=1;, score=0.517 total time=   2.1s\n",
      "[CV 1/4] END learning_rate=0.001, max_depth=2, n_estimators=250, reg_alpha=0.1;, score=0.519 total time=   5.1s\n",
      "[CV 2/4] END learning_rate=0.001, max_depth=2, n_estimators=250, reg_alpha=0.1;, score=0.518 total time=   5.7s\n",
      "[CV 3/4] END learning_rate=0.001, max_depth=2, n_estimators=250, reg_alpha=0.1;, score=0.507 total time=   4.5s\n",
      "[CV 4/4] END learning_rate=0.001, max_depth=2, n_estimators=250, reg_alpha=0.1;, score=0.517 total time=   4.4s\n",
      "[CV 1/4] END learning_rate=0.001, max_depth=2, n_estimators=250, reg_alpha=1;, score=0.519 total time=   5.1s\n",
      "[CV 2/4] END learning_rate=0.001, max_depth=2, n_estimators=250, reg_alpha=1;, score=0.518 total time=   4.6s\n",
      "[CV 3/4] END learning_rate=0.001, max_depth=2, n_estimators=250, reg_alpha=1;, score=0.507 total time=   4.6s\n",
      "[CV 4/4] END learning_rate=0.001, max_depth=2, n_estimators=250, reg_alpha=1;, score=0.517 total time=   4.2s\n",
      "[CV 1/4] END learning_rate=0.001, max_depth=2, n_estimators=500, reg_alpha=0.1;, score=0.519 total time=   7.4s\n",
      "[CV 2/4] END learning_rate=0.001, max_depth=2, n_estimators=500, reg_alpha=0.1;, score=0.515 total time=   6.6s\n",
      "[CV 3/4] END learning_rate=0.001, max_depth=2, n_estimators=500, reg_alpha=0.1;, score=0.507 total time=   7.2s\n",
      "[CV 4/4] END learning_rate=0.001, max_depth=2, n_estimators=500, reg_alpha=0.1;, score=0.517 total time=   6.9s\n",
      "[CV 1/4] END learning_rate=0.001, max_depth=2, n_estimators=500, reg_alpha=1;, score=0.519 total time=   7.8s\n",
      "[CV 2/4] END learning_rate=0.001, max_depth=2, n_estimators=500, reg_alpha=1;, score=0.515 total time=   6.7s\n",
      "[CV 3/4] END learning_rate=0.001, max_depth=2, n_estimators=500, reg_alpha=1;, score=0.507 total time=   7.2s\n",
      "[CV 4/4] END learning_rate=0.001, max_depth=2, n_estimators=500, reg_alpha=1;, score=0.517 total time=   6.5s\n",
      "[CV 1/4] END learning_rate=0.001, max_depth=2, n_estimators=1000, reg_alpha=0.1;, score=0.531 total time=  13.7s\n",
      "[CV 2/4] END learning_rate=0.001, max_depth=2, n_estimators=1000, reg_alpha=0.1;, score=0.527 total time=  11.6s\n",
      "[CV 3/4] END learning_rate=0.001, max_depth=2, n_estimators=1000, reg_alpha=0.1;, score=0.507 total time=  14.4s\n",
      "[CV 4/4] END learning_rate=0.001, max_depth=2, n_estimators=1000, reg_alpha=0.1;, score=0.526 total time=  16.1s\n",
      "[CV 1/4] END learning_rate=0.001, max_depth=2, n_estimators=1000, reg_alpha=1;, score=0.531 total time=  12.6s\n",
      "[CV 2/4] END learning_rate=0.001, max_depth=2, n_estimators=1000, reg_alpha=1;, score=0.527 total time=  10.9s\n",
      "[CV 3/4] END learning_rate=0.001, max_depth=2, n_estimators=1000, reg_alpha=1;, score=0.507 total time=  10.9s\n",
      "[CV 4/4] END learning_rate=0.001, max_depth=2, n_estimators=1000, reg_alpha=1;, score=0.526 total time=  11.5s\n",
      "[CV 1/4] END learning_rate=0.001, max_depth=4, n_estimators=100, reg_alpha=0.1;, score=0.535 total time=   3.7s\n",
      "[CV 2/4] END learning_rate=0.001, max_depth=4, n_estimators=100, reg_alpha=0.1;, score=0.540 total time=   3.7s\n",
      "[CV 3/4] END learning_rate=0.001, max_depth=4, n_estimators=100, reg_alpha=0.1;, score=0.523 total time=   3.8s\n",
      "[CV 4/4] END learning_rate=0.001, max_depth=4, n_estimators=100, reg_alpha=0.1;, score=0.535 total time=   3.8s\n",
      "[CV 1/4] END learning_rate=0.001, max_depth=4, n_estimators=100, reg_alpha=1;, score=0.535 total time=   3.6s\n",
      "[CV 2/4] END learning_rate=0.001, max_depth=4, n_estimators=100, reg_alpha=1;, score=0.541 total time=   4.0s\n",
      "[CV 3/4] END learning_rate=0.001, max_depth=4, n_estimators=100, reg_alpha=1;, score=0.523 total time=   5.1s\n",
      "[CV 4/4] END learning_rate=0.001, max_depth=4, n_estimators=100, reg_alpha=1;, score=0.533 total time=   4.2s\n",
      "[CV 1/4] END learning_rate=0.001, max_depth=4, n_estimators=250, reg_alpha=0.1;, score=0.535 total time=  10.8s\n",
      "[CV 2/4] END learning_rate=0.001, max_depth=4, n_estimators=250, reg_alpha=0.1;, score=0.542 total time=  11.5s\n",
      "[CV 3/4] END learning_rate=0.001, max_depth=4, n_estimators=250, reg_alpha=0.1;, score=0.526 total time=  13.6s\n",
      "[CV 4/4] END learning_rate=0.001, max_depth=4, n_estimators=250, reg_alpha=0.1;, score=0.541 total time=  13.8s\n",
      "[CV 1/4] END learning_rate=0.001, max_depth=4, n_estimators=250, reg_alpha=1;, score=0.535 total time=   9.0s\n",
      "[CV 2/4] END learning_rate=0.001, max_depth=4, n_estimators=250, reg_alpha=1;, score=0.541 total time=   8.5s\n",
      "[CV 3/4] END learning_rate=0.001, max_depth=4, n_estimators=250, reg_alpha=1;, score=0.527 total time=   9.9s\n",
      "[CV 4/4] END learning_rate=0.001, max_depth=4, n_estimators=250, reg_alpha=1;, score=0.540 total time=   8.1s\n",
      "[CV 1/4] END learning_rate=0.001, max_depth=4, n_estimators=500, reg_alpha=0.1;, score=0.535 total time=  17.7s\n",
      "[CV 2/4] END learning_rate=0.001, max_depth=4, n_estimators=500, reg_alpha=0.1;, score=0.543 total time=  15.6s\n",
      "[CV 3/4] END learning_rate=0.001, max_depth=4, n_estimators=500, reg_alpha=0.1;, score=0.529 total time=  17.1s\n",
      "[CV 4/4] END learning_rate=0.001, max_depth=4, n_estimators=500, reg_alpha=0.1;, score=0.539 total time=  17.8s\n",
      "[CV 1/4] END learning_rate=0.001, max_depth=4, n_estimators=500, reg_alpha=1;, score=0.535 total time=  17.7s\n",
      "[CV 2/4] END learning_rate=0.001, max_depth=4, n_estimators=500, reg_alpha=1;, score=0.543 total time=  19.5s\n",
      "[CV 3/4] END learning_rate=0.001, max_depth=4, n_estimators=500, reg_alpha=1;, score=0.529 total time=  20.2s\n",
      "[CV 4/4] END learning_rate=0.001, max_depth=4, n_estimators=500, reg_alpha=1;, score=0.541 total time=  19.8s\n",
      "[CV 1/4] END learning_rate=0.001, max_depth=4, n_estimators=1000, reg_alpha=0.1;, score=0.539 total time=  38.9s\n",
      "[CV 2/4] END learning_rate=0.001, max_depth=4, n_estimators=1000, reg_alpha=0.1;, score=0.550 total time=  32.6s\n",
      "[CV 3/4] END learning_rate=0.001, max_depth=4, n_estimators=1000, reg_alpha=0.1;, score=0.531 total time=  32.1s\n",
      "[CV 4/4] END learning_rate=0.001, max_depth=4, n_estimators=1000, reg_alpha=0.1;, score=0.548 total time=  35.3s\n",
      "[CV 1/4] END learning_rate=0.001, max_depth=4, n_estimators=1000, reg_alpha=1;, score=0.539 total time=  38.2s\n",
      "[CV 2/4] END learning_rate=0.001, max_depth=4, n_estimators=1000, reg_alpha=1;, score=0.549 total time=  35.0s\n",
      "[CV 3/4] END learning_rate=0.001, max_depth=4, n_estimators=1000, reg_alpha=1;, score=0.531 total time=  35.4s\n",
      "[CV 4/4] END learning_rate=0.001, max_depth=4, n_estimators=1000, reg_alpha=1;, score=0.549 total time=  38.7s\n",
      "[CV 1/4] END learning_rate=0.001, max_depth=6, n_estimators=100, reg_alpha=0.1;, score=0.546 total time=  10.0s\n",
      "[CV 2/4] END learning_rate=0.001, max_depth=6, n_estimators=100, reg_alpha=0.1;, score=0.547 total time=  10.0s\n",
      "[CV 3/4] END learning_rate=0.001, max_depth=6, n_estimators=100, reg_alpha=0.1;, score=0.541 total time=   9.3s\n",
      "[CV 4/4] END learning_rate=0.001, max_depth=6, n_estimators=100, reg_alpha=0.1;, score=0.544 total time=  10.5s\n",
      "[CV 1/4] END learning_rate=0.001, max_depth=6, n_estimators=100, reg_alpha=1;, score=0.547 total time=   8.3s\n",
      "[CV 2/4] END learning_rate=0.001, max_depth=6, n_estimators=100, reg_alpha=1;, score=0.548 total time=   8.9s\n",
      "[CV 3/4] END learning_rate=0.001, max_depth=6, n_estimators=100, reg_alpha=1;, score=0.542 total time=   7.4s\n",
      "[CV 4/4] END learning_rate=0.001, max_depth=6, n_estimators=100, reg_alpha=1;, score=0.548 total time=   7.1s\n",
      "[CV 1/4] END learning_rate=0.001, max_depth=6, n_estimators=250, reg_alpha=0.1;, score=0.545 total time=  15.5s\n",
      "[CV 2/4] END learning_rate=0.001, max_depth=6, n_estimators=250, reg_alpha=0.1;, score=0.547 total time=  15.3s\n",
      "[CV 3/4] END learning_rate=0.001, max_depth=6, n_estimators=250, reg_alpha=0.1;, score=0.538 total time=  16.0s\n",
      "[CV 4/4] END learning_rate=0.001, max_depth=6, n_estimators=250, reg_alpha=0.1;, score=0.550 total time=  15.8s\n",
      "[CV 1/4] END learning_rate=0.001, max_depth=6, n_estimators=250, reg_alpha=1;, score=0.547 total time=  15.9s\n",
      "[CV 2/4] END learning_rate=0.001, max_depth=6, n_estimators=250, reg_alpha=1;, score=0.547 total time=  18.1s\n",
      "[CV 3/4] END learning_rate=0.001, max_depth=6, n_estimators=250, reg_alpha=1;, score=0.539 total time=  15.8s\n",
      "[CV 4/4] END learning_rate=0.001, max_depth=6, n_estimators=250, reg_alpha=1;, score=0.551 total time=   5.9s\n",
      "[CV 1/4] END learning_rate=0.001, max_depth=6, n_estimators=500, reg_alpha=0.1;, score=0.546 total time=  11.1s\n",
      "[CV 2/4] END learning_rate=0.001, max_depth=6, n_estimators=500, reg_alpha=0.1;, score=0.551 total time=  10.4s\n",
      "[CV 3/4] END learning_rate=0.001, max_depth=6, n_estimators=500, reg_alpha=0.1;, score=0.543 total time=  12.6s\n",
      "[CV 4/4] END learning_rate=0.001, max_depth=6, n_estimators=500, reg_alpha=0.1;, score=0.551 total time=  10.8s\n",
      "[CV 1/4] END learning_rate=0.001, max_depth=6, n_estimators=500, reg_alpha=1;, score=0.548 total time=  10.5s\n",
      "[CV 2/4] END learning_rate=0.001, max_depth=6, n_estimators=500, reg_alpha=1;, score=0.555 total time=  10.7s\n",
      "[CV 3/4] END learning_rate=0.001, max_depth=6, n_estimators=500, reg_alpha=1;, score=0.543 total time=  13.1s\n",
      "[CV 4/4] END learning_rate=0.001, max_depth=6, n_estimators=500, reg_alpha=1;, score=0.552 total time=  13.0s\n",
      "[CV 1/4] END learning_rate=0.001, max_depth=6, n_estimators=1000, reg_alpha=0.1;, score=0.555 total time=  27.2s\n",
      "[CV 2/4] END learning_rate=0.001, max_depth=6, n_estimators=1000, reg_alpha=0.1;, score=0.555 total time=  25.4s\n",
      "[CV 3/4] END learning_rate=0.001, max_depth=6, n_estimators=1000, reg_alpha=0.1;, score=0.544 total time=  22.7s\n",
      "[CV 4/4] END learning_rate=0.001, max_depth=6, n_estimators=1000, reg_alpha=0.1;, score=0.557 total time=  20.3s\n",
      "[CV 1/4] END learning_rate=0.001, max_depth=6, n_estimators=1000, reg_alpha=1;, score=0.554 total time=  21.2s\n",
      "[CV 2/4] END learning_rate=0.001, max_depth=6, n_estimators=1000, reg_alpha=1;, score=0.554 total time=  22.7s\n",
      "[CV 3/4] END learning_rate=0.001, max_depth=6, n_estimators=1000, reg_alpha=1;, score=0.544 total time=  21.8s\n",
      "[CV 4/4] END learning_rate=0.001, max_depth=6, n_estimators=1000, reg_alpha=1;, score=0.554 total time=  23.5s\n",
      "[CV 1/4] END learning_rate=0.001, max_depth=-1, n_estimators=100, reg_alpha=0.1;, score=0.558 total time=   3.3s\n",
      "[CV 2/4] END learning_rate=0.001, max_depth=-1, n_estimators=100, reg_alpha=0.1;, score=0.557 total time=   3.0s\n",
      "[CV 3/4] END learning_rate=0.001, max_depth=-1, n_estimators=100, reg_alpha=0.1;, score=0.549 total time=   3.0s\n",
      "[CV 4/4] END learning_rate=0.001, max_depth=-1, n_estimators=100, reg_alpha=0.1;, score=0.559 total time=   3.5s\n",
      "[CV 1/4] END learning_rate=0.001, max_depth=-1, n_estimators=100, reg_alpha=1;, score=0.556 total time=   3.6s\n",
      "[CV 2/4] END learning_rate=0.001, max_depth=-1, n_estimators=100, reg_alpha=1;, score=0.557 total time=   3.5s\n",
      "[CV 3/4] END learning_rate=0.001, max_depth=-1, n_estimators=100, reg_alpha=1;, score=0.548 total time=   3.3s\n",
      "[CV 4/4] END learning_rate=0.001, max_depth=-1, n_estimators=100, reg_alpha=1;, score=0.560 total time=   3.6s\n",
      "[CV 1/4] END learning_rate=0.001, max_depth=-1, n_estimators=250, reg_alpha=0.1;, score=0.561 total time=   7.7s\n",
      "[CV 2/4] END learning_rate=0.001, max_depth=-1, n_estimators=250, reg_alpha=0.1;, score=0.559 total time=   7.5s\n",
      "[CV 3/4] END learning_rate=0.001, max_depth=-1, n_estimators=250, reg_alpha=0.1;, score=0.549 total time=   6.9s\n",
      "[CV 4/4] END learning_rate=0.001, max_depth=-1, n_estimators=250, reg_alpha=0.1;, score=0.559 total time=   6.7s\n",
      "[CV 1/4] END learning_rate=0.001, max_depth=-1, n_estimators=250, reg_alpha=1;, score=0.557 total time=   6.7s\n",
      "[CV 2/4] END learning_rate=0.001, max_depth=-1, n_estimators=250, reg_alpha=1;, score=0.557 total time=   6.9s\n",
      "[CV 3/4] END learning_rate=0.001, max_depth=-1, n_estimators=250, reg_alpha=1;, score=0.552 total time=   6.8s\n",
      "[CV 4/4] END learning_rate=0.001, max_depth=-1, n_estimators=250, reg_alpha=1;, score=0.558 total time=   6.5s\n",
      "[CV 1/4] END learning_rate=0.001, max_depth=-1, n_estimators=500, reg_alpha=0.1;, score=0.560 total time=  12.3s\n",
      "[CV 2/4] END learning_rate=0.001, max_depth=-1, n_estimators=500, reg_alpha=0.1;, score=0.561 total time=  12.8s\n",
      "[CV 3/4] END learning_rate=0.001, max_depth=-1, n_estimators=500, reg_alpha=0.1;, score=0.554 total time=  14.1s\n",
      "[CV 4/4] END learning_rate=0.001, max_depth=-1, n_estimators=500, reg_alpha=0.1;, score=0.562 total time=  15.6s\n",
      "[CV 1/4] END learning_rate=0.001, max_depth=-1, n_estimators=500, reg_alpha=1;, score=0.562 total time=  15.3s\n",
      "[CV 2/4] END learning_rate=0.001, max_depth=-1, n_estimators=500, reg_alpha=1;, score=0.561 total time=  14.9s\n",
      "[CV 3/4] END learning_rate=0.001, max_depth=-1, n_estimators=500, reg_alpha=1;, score=0.550 total time=  15.8s\n",
      "[CV 4/4] END learning_rate=0.001, max_depth=-1, n_estimators=500, reg_alpha=1;, score=0.562 total time=  14.4s\n",
      "[CV 1/4] END learning_rate=0.001, max_depth=-1, n_estimators=1000, reg_alpha=0.1;, score=0.563 total time=  28.5s\n",
      "[CV 2/4] END learning_rate=0.001, max_depth=-1, n_estimators=1000, reg_alpha=0.1;, score=0.565 total time=  26.3s\n",
      "[CV 3/4] END learning_rate=0.001, max_depth=-1, n_estimators=1000, reg_alpha=0.1;, score=0.554 total time=  26.2s\n",
      "[CV 4/4] END learning_rate=0.001, max_depth=-1, n_estimators=1000, reg_alpha=0.1;, score=0.564 total time=  26.6s\n",
      "[CV 1/4] END learning_rate=0.001, max_depth=-1, n_estimators=1000, reg_alpha=1;, score=0.563 total time=  26.8s\n",
      "[CV 2/4] END learning_rate=0.001, max_depth=-1, n_estimators=1000, reg_alpha=1;, score=0.564 total time=  27.2s\n",
      "[CV 3/4] END learning_rate=0.001, max_depth=-1, n_estimators=1000, reg_alpha=1;, score=0.551 total time=  26.3s\n",
      "[CV 4/4] END learning_rate=0.001, max_depth=-1, n_estimators=1000, reg_alpha=1;, score=0.562 total time=  27.4s\n",
      "[CV 1/4] END learning_rate=0.01, max_depth=2, n_estimators=100, reg_alpha=0.1;, score=0.531 total time=   0.9s\n",
      "[CV 2/4] END learning_rate=0.01, max_depth=2, n_estimators=100, reg_alpha=0.1;, score=0.527 total time=   0.9s\n",
      "[CV 3/4] END learning_rate=0.01, max_depth=2, n_estimators=100, reg_alpha=0.1;, score=0.507 total time=   0.9s\n",
      "[CV 4/4] END learning_rate=0.01, max_depth=2, n_estimators=100, reg_alpha=0.1;, score=0.526 total time=   0.9s\n",
      "[CV 1/4] END learning_rate=0.01, max_depth=2, n_estimators=100, reg_alpha=1;, score=0.531 total time=   0.9s\n",
      "[CV 2/4] END learning_rate=0.01, max_depth=2, n_estimators=100, reg_alpha=1;, score=0.526 total time=   0.9s\n",
      "[CV 3/4] END learning_rate=0.01, max_depth=2, n_estimators=100, reg_alpha=1;, score=0.507 total time=   0.9s\n",
      "[CV 4/4] END learning_rate=0.01, max_depth=2, n_estimators=100, reg_alpha=1;, score=0.526 total time=   0.9s\n",
      "[CV 1/4] END learning_rate=0.01, max_depth=2, n_estimators=250, reg_alpha=0.1;, score=0.531 total time=   1.5s\n",
      "[CV 2/4] END learning_rate=0.01, max_depth=2, n_estimators=250, reg_alpha=0.1;, score=0.531 total time=   1.4s\n",
      "[CV 3/4] END learning_rate=0.01, max_depth=2, n_estimators=250, reg_alpha=0.1;, score=0.517 total time=   1.4s\n",
      "[CV 4/4] END learning_rate=0.01, max_depth=2, n_estimators=250, reg_alpha=0.1;, score=0.532 total time=   1.5s\n",
      "[CV 1/4] END learning_rate=0.01, max_depth=2, n_estimators=250, reg_alpha=1;, score=0.532 total time=   1.4s\n",
      "[CV 2/4] END learning_rate=0.01, max_depth=2, n_estimators=250, reg_alpha=1;, score=0.531 total time=   1.4s\n",
      "[CV 3/4] END learning_rate=0.01, max_depth=2, n_estimators=250, reg_alpha=1;, score=0.518 total time=   1.3s\n",
      "[CV 4/4] END learning_rate=0.01, max_depth=2, n_estimators=250, reg_alpha=1;, score=0.527 total time=   1.3s\n",
      "[CV 1/4] END learning_rate=0.01, max_depth=2, n_estimators=500, reg_alpha=0.1;, score=0.541 total time=   2.1s\n",
      "[CV 2/4] END learning_rate=0.01, max_depth=2, n_estimators=500, reg_alpha=0.1;, score=0.548 total time=   2.3s\n",
      "[CV 3/4] END learning_rate=0.01, max_depth=2, n_estimators=500, reg_alpha=0.1;, score=0.541 total time=   2.3s\n",
      "[CV 4/4] END learning_rate=0.01, max_depth=2, n_estimators=500, reg_alpha=0.1;, score=0.547 total time=   2.4s\n",
      "[CV 1/4] END learning_rate=0.01, max_depth=2, n_estimators=500, reg_alpha=1;, score=0.540 total time=   2.5s\n",
      "[CV 2/4] END learning_rate=0.01, max_depth=2, n_estimators=500, reg_alpha=1;, score=0.548 total time=   2.3s\n",
      "[CV 3/4] END learning_rate=0.01, max_depth=2, n_estimators=500, reg_alpha=1;, score=0.541 total time=   2.4s\n",
      "[CV 4/4] END learning_rate=0.01, max_depth=2, n_estimators=500, reg_alpha=1;, score=0.547 total time=   2.4s\n",
      "[CV 1/4] END learning_rate=0.01, max_depth=2, n_estimators=1000, reg_alpha=0.1;, score=0.552 total time=   4.3s\n",
      "[CV 2/4] END learning_rate=0.01, max_depth=2, n_estimators=1000, reg_alpha=0.1;, score=0.553 total time=   4.2s\n",
      "[CV 3/4] END learning_rate=0.01, max_depth=2, n_estimators=1000, reg_alpha=0.1;, score=0.552 total time=   4.3s\n",
      "[CV 4/4] END learning_rate=0.01, max_depth=2, n_estimators=1000, reg_alpha=0.1;, score=0.558 total time=   4.4s\n",
      "[CV 1/4] END learning_rate=0.01, max_depth=2, n_estimators=1000, reg_alpha=1;, score=0.551 total time=   4.2s\n",
      "[CV 2/4] END learning_rate=0.01, max_depth=2, n_estimators=1000, reg_alpha=1;, score=0.552 total time=   4.2s\n",
      "[CV 3/4] END learning_rate=0.01, max_depth=2, n_estimators=1000, reg_alpha=1;, score=0.552 total time=   4.6s\n",
      "[CV 4/4] END learning_rate=0.01, max_depth=2, n_estimators=1000, reg_alpha=1;, score=0.558 total time=   4.1s\n",
      "[CV 1/4] END learning_rate=0.01, max_depth=4, n_estimators=100, reg_alpha=0.1;, score=0.539 total time=   1.5s\n",
      "[CV 2/4] END learning_rate=0.01, max_depth=4, n_estimators=100, reg_alpha=0.1;, score=0.550 total time=   1.5s\n",
      "[CV 3/4] END learning_rate=0.01, max_depth=4, n_estimators=100, reg_alpha=0.1;, score=0.531 total time=   1.5s\n",
      "[CV 4/4] END learning_rate=0.01, max_depth=4, n_estimators=100, reg_alpha=0.1;, score=0.548 total time=   1.5s\n",
      "[CV 1/4] END learning_rate=0.01, max_depth=4, n_estimators=100, reg_alpha=1;, score=0.539 total time=   1.5s\n",
      "[CV 2/4] END learning_rate=0.01, max_depth=4, n_estimators=100, reg_alpha=1;, score=0.549 total time=   1.4s\n",
      "[CV 3/4] END learning_rate=0.01, max_depth=4, n_estimators=100, reg_alpha=1;, score=0.533 total time=   1.5s\n",
      "[CV 4/4] END learning_rate=0.01, max_depth=4, n_estimators=100, reg_alpha=1;, score=0.549 total time=   1.5s\n",
      "[CV 1/4] END learning_rate=0.01, max_depth=4, n_estimators=250, reg_alpha=0.1;, score=0.553 total time=   2.8s\n",
      "[CV 2/4] END learning_rate=0.01, max_depth=4, n_estimators=250, reg_alpha=0.1;, score=0.558 total time=   2.8s\n",
      "[CV 3/4] END learning_rate=0.01, max_depth=4, n_estimators=250, reg_alpha=0.1;, score=0.547 total time=   2.7s\n",
      "[CV 4/4] END learning_rate=0.01, max_depth=4, n_estimators=250, reg_alpha=0.1;, score=0.553 total time=   2.8s\n",
      "[CV 1/4] END learning_rate=0.01, max_depth=4, n_estimators=250, reg_alpha=1;, score=0.554 total time=   2.7s\n",
      "[CV 2/4] END learning_rate=0.01, max_depth=4, n_estimators=250, reg_alpha=1;, score=0.558 total time=   2.7s\n",
      "[CV 3/4] END learning_rate=0.01, max_depth=4, n_estimators=250, reg_alpha=1;, score=0.546 total time=   2.7s\n",
      "[CV 4/4] END learning_rate=0.01, max_depth=4, n_estimators=250, reg_alpha=1;, score=0.554 total time=   2.7s\n",
      "[CV 1/4] END learning_rate=0.01, max_depth=4, n_estimators=500, reg_alpha=0.1;, score=0.560 total time=   4.5s\n",
      "[CV 2/4] END learning_rate=0.01, max_depth=4, n_estimators=500, reg_alpha=0.1;, score=0.563 total time=   4.8s\n",
      "[CV 3/4] END learning_rate=0.01, max_depth=4, n_estimators=500, reg_alpha=0.1;, score=0.557 total time=   4.6s\n",
      "[CV 4/4] END learning_rate=0.01, max_depth=4, n_estimators=500, reg_alpha=0.1;, score=0.564 total time=   4.6s\n",
      "[CV 1/4] END learning_rate=0.01, max_depth=4, n_estimators=500, reg_alpha=1;, score=0.561 total time=   4.6s\n",
      "[CV 2/4] END learning_rate=0.01, max_depth=4, n_estimators=500, reg_alpha=1;, score=0.563 total time=   4.6s\n",
      "[CV 3/4] END learning_rate=0.01, max_depth=4, n_estimators=500, reg_alpha=1;, score=0.558 total time=   4.8s\n",
      "[CV 4/4] END learning_rate=0.01, max_depth=4, n_estimators=500, reg_alpha=1;, score=0.565 total time=   4.7s\n",
      "[CV 1/4] END learning_rate=0.01, max_depth=4, n_estimators=1000, reg_alpha=0.1;, score=0.565 total time=   8.0s\n",
      "[CV 2/4] END learning_rate=0.01, max_depth=4, n_estimators=1000, reg_alpha=0.1;, score=0.566 total time=   8.1s\n",
      "[CV 3/4] END learning_rate=0.01, max_depth=4, n_estimators=1000, reg_alpha=0.1;, score=0.564 total time=   7.7s\n",
      "[CV 4/4] END learning_rate=0.01, max_depth=4, n_estimators=1000, reg_alpha=0.1;, score=0.567 total time=   7.9s\n",
      "[CV 1/4] END learning_rate=0.01, max_depth=4, n_estimators=1000, reg_alpha=1;, score=0.565 total time=   7.9s\n",
      "[CV 2/4] END learning_rate=0.01, max_depth=4, n_estimators=1000, reg_alpha=1;, score=0.566 total time=   7.7s\n",
      "[CV 3/4] END learning_rate=0.01, max_depth=4, n_estimators=1000, reg_alpha=1;, score=0.565 total time=   7.8s\n",
      "[CV 4/4] END learning_rate=0.01, max_depth=4, n_estimators=1000, reg_alpha=1;, score=0.566 total time=   7.8s\n",
      "[CV 1/4] END learning_rate=0.01, max_depth=6, n_estimators=100, reg_alpha=0.1;, score=0.555 total time=   2.6s\n",
      "[CV 2/4] END learning_rate=0.01, max_depth=6, n_estimators=100, reg_alpha=0.1;, score=0.555 total time=   2.5s\n",
      "[CV 3/4] END learning_rate=0.01, max_depth=6, n_estimators=100, reg_alpha=0.1;, score=0.544 total time=   2.3s\n",
      "[CV 4/4] END learning_rate=0.01, max_depth=6, n_estimators=100, reg_alpha=0.1;, score=0.557 total time=   2.4s\n",
      "[CV 1/4] END learning_rate=0.01, max_depth=6, n_estimators=100, reg_alpha=1;, score=0.555 total time=   3.2s\n",
      "[CV 2/4] END learning_rate=0.01, max_depth=6, n_estimators=100, reg_alpha=1;, score=0.554 total time=   2.7s\n",
      "[CV 3/4] END learning_rate=0.01, max_depth=6, n_estimators=100, reg_alpha=1;, score=0.544 total time=   2.7s\n",
      "[CV 4/4] END learning_rate=0.01, max_depth=6, n_estimators=100, reg_alpha=1;, score=0.556 total time=   2.7s\n",
      "[CV 1/4] END learning_rate=0.01, max_depth=6, n_estimators=250, reg_alpha=0.1;, score=0.560 total time=   5.8s\n",
      "[CV 2/4] END learning_rate=0.01, max_depth=6, n_estimators=250, reg_alpha=0.1;, score=0.561 total time=   6.0s\n",
      "[CV 3/4] END learning_rate=0.01, max_depth=6, n_estimators=250, reg_alpha=0.1;, score=0.554 total time=   6.2s\n",
      "[CV 4/4] END learning_rate=0.01, max_depth=6, n_estimators=250, reg_alpha=0.1;, score=0.564 total time=   6.0s\n",
      "[CV 1/4] END learning_rate=0.01, max_depth=6, n_estimators=250, reg_alpha=1;, score=0.568 total time=   6.8s\n",
      "[CV 2/4] END learning_rate=0.01, max_depth=6, n_estimators=250, reg_alpha=1;, score=0.565 total time=   6.1s\n",
      "[CV 3/4] END learning_rate=0.01, max_depth=6, n_estimators=250, reg_alpha=1;, score=0.554 total time=   5.8s\n",
      "[CV 4/4] END learning_rate=0.01, max_depth=6, n_estimators=250, reg_alpha=1;, score=0.563 total time=   5.7s\n",
      "[CV 1/4] END learning_rate=0.01, max_depth=6, n_estimators=500, reg_alpha=0.1;, score=0.569 total time=   9.3s\n",
      "[CV 2/4] END learning_rate=0.01, max_depth=6, n_estimators=500, reg_alpha=0.1;, score=0.565 total time=   8.9s\n",
      "[CV 3/4] END learning_rate=0.01, max_depth=6, n_estimators=500, reg_alpha=0.1;, score=0.565 total time=   8.9s\n",
      "[CV 4/4] END learning_rate=0.01, max_depth=6, n_estimators=500, reg_alpha=0.1;, score=0.568 total time=  10.3s\n",
      "[CV 1/4] END learning_rate=0.01, max_depth=6, n_estimators=500, reg_alpha=1;, score=0.566 total time=   8.0s\n",
      "[CV 2/4] END learning_rate=0.01, max_depth=6, n_estimators=500, reg_alpha=1;, score=0.567 total time=   8.2s\n",
      "[CV 3/4] END learning_rate=0.01, max_depth=6, n_estimators=500, reg_alpha=1;, score=0.563 total time=   8.1s\n",
      "[CV 4/4] END learning_rate=0.01, max_depth=6, n_estimators=500, reg_alpha=1;, score=0.569 total time=   8.2s\n",
      "[CV 1/4] END learning_rate=0.01, max_depth=6, n_estimators=1000, reg_alpha=0.1;, score=0.570 total time=  14.9s\n",
      "[CV 2/4] END learning_rate=0.01, max_depth=6, n_estimators=1000, reg_alpha=0.1;, score=0.572 total time=  14.3s\n",
      "[CV 3/4] END learning_rate=0.01, max_depth=6, n_estimators=1000, reg_alpha=0.1;, score=0.569 total time=  14.1s\n",
      "[CV 4/4] END learning_rate=0.01, max_depth=6, n_estimators=1000, reg_alpha=0.1;, score=0.573 total time=  13.8s\n",
      "[CV 1/4] END learning_rate=0.01, max_depth=6, n_estimators=1000, reg_alpha=1;, score=0.568 total time=  15.2s\n",
      "[CV 2/4] END learning_rate=0.01, max_depth=6, n_estimators=1000, reg_alpha=1;, score=0.571 total time=  14.4s\n",
      "[CV 3/4] END learning_rate=0.01, max_depth=6, n_estimators=1000, reg_alpha=1;, score=0.567 total time=  14.1s\n",
      "[CV 4/4] END learning_rate=0.01, max_depth=6, n_estimators=1000, reg_alpha=1;, score=0.574 total time=  13.7s\n",
      "[CV 1/4] END learning_rate=0.01, max_depth=-1, n_estimators=100, reg_alpha=0.1;, score=0.563 total time=   3.1s\n",
      "[CV 2/4] END learning_rate=0.01, max_depth=-1, n_estimators=100, reg_alpha=0.1;, score=0.565 total time=   3.3s\n",
      "[CV 3/4] END learning_rate=0.01, max_depth=-1, n_estimators=100, reg_alpha=0.1;, score=0.554 total time=   3.0s\n",
      "[CV 4/4] END learning_rate=0.01, max_depth=-1, n_estimators=100, reg_alpha=0.1;, score=0.564 total time=   3.2s\n",
      "[CV 1/4] END learning_rate=0.01, max_depth=-1, n_estimators=100, reg_alpha=1;, score=0.563 total time=   3.2s\n",
      "[CV 2/4] END learning_rate=0.01, max_depth=-1, n_estimators=100, reg_alpha=1;, score=0.565 total time=   3.1s\n",
      "[CV 3/4] END learning_rate=0.01, max_depth=-1, n_estimators=100, reg_alpha=1;, score=0.550 total time=   3.2s\n",
      "[CV 4/4] END learning_rate=0.01, max_depth=-1, n_estimators=100, reg_alpha=1;, score=0.562 total time=   3.2s\n",
      "[CV 1/4] END learning_rate=0.01, max_depth=-1, n_estimators=250, reg_alpha=0.1;, score=0.570 total time=   6.8s\n",
      "[CV 2/4] END learning_rate=0.01, max_depth=-1, n_estimators=250, reg_alpha=0.1;, score=0.572 total time=   7.1s\n",
      "[CV 3/4] END learning_rate=0.01, max_depth=-1, n_estimators=250, reg_alpha=0.1;, score=0.566 total time=   6.9s\n",
      "[CV 4/4] END learning_rate=0.01, max_depth=-1, n_estimators=250, reg_alpha=0.1;, score=0.574 total time=   6.9s\n",
      "[CV 1/4] END learning_rate=0.01, max_depth=-1, n_estimators=250, reg_alpha=1;, score=0.568 total time=   7.0s\n",
      "[CV 2/4] END learning_rate=0.01, max_depth=-1, n_estimators=250, reg_alpha=1;, score=0.571 total time=   6.7s\n",
      "[CV 3/4] END learning_rate=0.01, max_depth=-1, n_estimators=250, reg_alpha=1;, score=0.567 total time=   6.9s\n",
      "[CV 4/4] END learning_rate=0.01, max_depth=-1, n_estimators=250, reg_alpha=1;, score=0.575 total time=   7.0s\n",
      "[CV 1/4] END learning_rate=0.01, max_depth=-1, n_estimators=500, reg_alpha=0.1;, score=0.576 total time=  14.2s\n",
      "[CV 2/4] END learning_rate=0.01, max_depth=-1, n_estimators=500, reg_alpha=0.1;, score=0.573 total time=  16.4s\n",
      "[CV 3/4] END learning_rate=0.01, max_depth=-1, n_estimators=500, reg_alpha=0.1;, score=0.571 total time=  14.3s\n",
      "[CV 4/4] END learning_rate=0.01, max_depth=-1, n_estimators=500, reg_alpha=0.1;, score=0.577 total time=  14.7s\n",
      "[CV 1/4] END learning_rate=0.01, max_depth=-1, n_estimators=500, reg_alpha=1;, score=0.573 total time=  14.4s\n",
      "[CV 2/4] END learning_rate=0.01, max_depth=-1, n_estimators=500, reg_alpha=1;, score=0.569 total time=  14.2s\n",
      "[CV 3/4] END learning_rate=0.01, max_depth=-1, n_estimators=500, reg_alpha=1;, score=0.568 total time=  13.5s\n",
      "[CV 4/4] END learning_rate=0.01, max_depth=-1, n_estimators=500, reg_alpha=1;, score=0.577 total time=  13.6s\n",
      "[CV 1/4] END learning_rate=0.01, max_depth=-1, n_estimators=1000, reg_alpha=0.1;, score=0.573 total time=  27.0s\n",
      "[CV 2/4] END learning_rate=0.01, max_depth=-1, n_estimators=1000, reg_alpha=0.1;, score=0.573 total time=  27.6s\n",
      "[CV 3/4] END learning_rate=0.01, max_depth=-1, n_estimators=1000, reg_alpha=0.1;, score=0.573 total time=  27.1s\n",
      "[CV 4/4] END learning_rate=0.01, max_depth=-1, n_estimators=1000, reg_alpha=0.1;, score=0.571 total time=  26.1s\n",
      "[CV 1/4] END learning_rate=0.01, max_depth=-1, n_estimators=1000, reg_alpha=1;, score=0.573 total time=  28.9s\n",
      "[CV 2/4] END learning_rate=0.01, max_depth=-1, n_estimators=1000, reg_alpha=1;, score=0.573 total time= 1.2min\n",
      "[CV 3/4] END learning_rate=0.01, max_depth=-1, n_estimators=1000, reg_alpha=1;, score=0.573 total time= 1.5min\n",
      "[CV 4/4] END learning_rate=0.01, max_depth=-1, n_estimators=1000, reg_alpha=1;, score=0.572 total time=  47.1s\n",
      "[CV 1/4] END learning_rate=0.1, max_depth=2, n_estimators=100, reg_alpha=0.1;, score=0.553 total time=   1.0s\n",
      "[CV 2/4] END learning_rate=0.1, max_depth=2, n_estimators=100, reg_alpha=0.1;, score=0.557 total time=   0.9s\n",
      "[CV 3/4] END learning_rate=0.1, max_depth=2, n_estimators=100, reg_alpha=0.1;, score=0.552 total time=   0.9s\n",
      "[CV 4/4] END learning_rate=0.1, max_depth=2, n_estimators=100, reg_alpha=0.1;, score=0.559 total time=   0.9s\n",
      "[CV 1/4] END learning_rate=0.1, max_depth=2, n_estimators=100, reg_alpha=1;, score=0.549 total time=   0.8s\n",
      "[CV 2/4] END learning_rate=0.1, max_depth=2, n_estimators=100, reg_alpha=1;, score=0.556 total time=   0.9s\n",
      "[CV 3/4] END learning_rate=0.1, max_depth=2, n_estimators=100, reg_alpha=1;, score=0.553 total time=   2.2s\n",
      "[CV 4/4] END learning_rate=0.1, max_depth=2, n_estimators=100, reg_alpha=1;, score=0.559 total time=   2.3s\n",
      "[CV 1/4] END learning_rate=0.1, max_depth=2, n_estimators=250, reg_alpha=0.1;, score=0.554 total time=   3.5s\n",
      "[CV 2/4] END learning_rate=0.1, max_depth=2, n_estimators=250, reg_alpha=0.1;, score=0.558 total time=   3.7s\n",
      "[CV 3/4] END learning_rate=0.1, max_depth=2, n_estimators=250, reg_alpha=0.1;, score=0.560 total time=   3.1s\n",
      "[CV 4/4] END learning_rate=0.1, max_depth=2, n_estimators=250, reg_alpha=0.1;, score=0.562 total time=   4.7s\n",
      "[CV 1/4] END learning_rate=0.1, max_depth=2, n_estimators=250, reg_alpha=1;, score=0.556 total time=   3.2s\n",
      "[CV 2/4] END learning_rate=0.1, max_depth=2, n_estimators=250, reg_alpha=1;, score=0.560 total time=   3.0s\n",
      "[CV 3/4] END learning_rate=0.1, max_depth=2, n_estimators=250, reg_alpha=1;, score=0.558 total time=   3.1s\n",
      "[CV 4/4] END learning_rate=0.1, max_depth=2, n_estimators=250, reg_alpha=1;, score=0.561 total time=   4.3s\n",
      "[CV 1/4] END learning_rate=0.1, max_depth=2, n_estimators=500, reg_alpha=0.1;, score=0.563 total time=   8.0s\n",
      "[CV 2/4] END learning_rate=0.1, max_depth=2, n_estimators=500, reg_alpha=0.1;, score=0.565 total time=   8.5s\n",
      "[CV 3/4] END learning_rate=0.1, max_depth=2, n_estimators=500, reg_alpha=0.1;, score=0.568 total time=   9.2s\n",
      "[CV 4/4] END learning_rate=0.1, max_depth=2, n_estimators=500, reg_alpha=0.1;, score=0.568 total time=   8.2s\n",
      "[CV 1/4] END learning_rate=0.1, max_depth=2, n_estimators=500, reg_alpha=1;, score=0.562 total time=   8.7s\n",
      "[CV 2/4] END learning_rate=0.1, max_depth=2, n_estimators=500, reg_alpha=1;, score=0.563 total time=   8.7s\n",
      "[CV 3/4] END learning_rate=0.1, max_depth=2, n_estimators=500, reg_alpha=1;, score=0.567 total time=   8.2s\n",
      "[CV 4/4] END learning_rate=0.1, max_depth=2, n_estimators=500, reg_alpha=1;, score=0.572 total time=  10.7s\n",
      "[CV 1/4] END learning_rate=0.1, max_depth=2, n_estimators=1000, reg_alpha=0.1;, score=0.565 total time=  15.7s\n",
      "[CV 2/4] END learning_rate=0.1, max_depth=2, n_estimators=1000, reg_alpha=0.1;, score=0.563 total time=  11.8s\n",
      "[CV 3/4] END learning_rate=0.1, max_depth=2, n_estimators=1000, reg_alpha=0.1;, score=0.566 total time=  14.6s\n",
      "[CV 4/4] END learning_rate=0.1, max_depth=2, n_estimators=1000, reg_alpha=0.1;, score=0.566 total time=  12.7s\n",
      "[CV 1/4] END learning_rate=0.1, max_depth=2, n_estimators=1000, reg_alpha=1;, score=0.565 total time=  12.5s\n",
      "[CV 2/4] END learning_rate=0.1, max_depth=2, n_estimators=1000, reg_alpha=1;, score=0.564 total time=  12.7s\n",
      "[CV 3/4] END learning_rate=0.1, max_depth=2, n_estimators=1000, reg_alpha=1;, score=0.567 total time=  12.1s\n",
      "[CV 4/4] END learning_rate=0.1, max_depth=2, n_estimators=1000, reg_alpha=1;, score=0.567 total time=  12.9s\n",
      "[CV 1/4] END learning_rate=0.1, max_depth=4, n_estimators=100, reg_alpha=0.1;, score=0.566 total time=   2.8s\n",
      "[CV 2/4] END learning_rate=0.1, max_depth=4, n_estimators=100, reg_alpha=0.1;, score=0.568 total time=   4.2s\n",
      "[CV 3/4] END learning_rate=0.1, max_depth=4, n_estimators=100, reg_alpha=0.1;, score=0.567 total time=   4.0s\n",
      "[CV 4/4] END learning_rate=0.1, max_depth=4, n_estimators=100, reg_alpha=0.1;, score=0.568 total time=   2.9s\n",
      "[CV 1/4] END learning_rate=0.1, max_depth=4, n_estimators=100, reg_alpha=1;, score=0.565 total time=   3.7s\n",
      "[CV 2/4] END learning_rate=0.1, max_depth=4, n_estimators=100, reg_alpha=1;, score=0.567 total time=   3.7s\n",
      "[CV 3/4] END learning_rate=0.1, max_depth=4, n_estimators=100, reg_alpha=1;, score=0.563 total time=   3.3s\n",
      "[CV 4/4] END learning_rate=0.1, max_depth=4, n_estimators=100, reg_alpha=1;, score=0.567 total time=   3.9s\n",
      "[CV 1/4] END learning_rate=0.1, max_depth=4, n_estimators=250, reg_alpha=0.1;, score=0.568 total time=   8.0s\n",
      "[CV 2/4] END learning_rate=0.1, max_depth=4, n_estimators=250, reg_alpha=0.1;, score=0.569 total time=   6.7s\n",
      "[CV 3/4] END learning_rate=0.1, max_depth=4, n_estimators=250, reg_alpha=0.1;, score=0.569 total time=   7.7s\n",
      "[CV 4/4] END learning_rate=0.1, max_depth=4, n_estimators=250, reg_alpha=0.1;, score=0.572 total time=   8.0s\n",
      "[CV 1/4] END learning_rate=0.1, max_depth=4, n_estimators=250, reg_alpha=1;, score=0.566 total time=   6.6s\n",
      "[CV 2/4] END learning_rate=0.1, max_depth=4, n_estimators=250, reg_alpha=1;, score=0.570 total time=   8.0s\n",
      "[CV 3/4] END learning_rate=0.1, max_depth=4, n_estimators=250, reg_alpha=1;, score=0.570 total time=   6.2s\n",
      "[CV 4/4] END learning_rate=0.1, max_depth=4, n_estimators=250, reg_alpha=1;, score=0.572 total time=   7.4s\n",
      "[CV 1/4] END learning_rate=0.1, max_depth=4, n_estimators=500, reg_alpha=0.1;, score=0.567 total time=  12.1s\n",
      "[CV 2/4] END learning_rate=0.1, max_depth=4, n_estimators=500, reg_alpha=0.1;, score=0.565 total time=  12.8s\n",
      "[CV 3/4] END learning_rate=0.1, max_depth=4, n_estimators=500, reg_alpha=0.1;, score=0.569 total time=  11.2s\n",
      "[CV 4/4] END learning_rate=0.1, max_depth=4, n_estimators=500, reg_alpha=0.1;, score=0.570 total time=  10.6s\n",
      "[CV 1/4] END learning_rate=0.1, max_depth=4, n_estimators=500, reg_alpha=1;, score=0.570 total time=  10.3s\n",
      "[CV 2/4] END learning_rate=0.1, max_depth=4, n_estimators=500, reg_alpha=1;, score=0.566 total time=  10.9s\n",
      "[CV 3/4] END learning_rate=0.1, max_depth=4, n_estimators=500, reg_alpha=1;, score=0.571 total time=  12.0s\n",
      "[CV 4/4] END learning_rate=0.1, max_depth=4, n_estimators=500, reg_alpha=1;, score=0.568 total time=  13.0s\n",
      "[CV 1/4] END learning_rate=0.1, max_depth=4, n_estimators=1000, reg_alpha=0.1;, score=0.573 total time=  23.0s\n",
      "[CV 2/4] END learning_rate=0.1, max_depth=4, n_estimators=1000, reg_alpha=0.1;, score=0.564 total time=  28.0s\n",
      "[CV 3/4] END learning_rate=0.1, max_depth=4, n_estimators=1000, reg_alpha=0.1;, score=0.562 total time=  30.4s\n",
      "[CV 4/4] END learning_rate=0.1, max_depth=4, n_estimators=1000, reg_alpha=0.1;, score=0.569 total time=  23.3s\n",
      "[CV 1/4] END learning_rate=0.1, max_depth=4, n_estimators=1000, reg_alpha=1;, score=0.561 total time=  25.4s\n",
      "[CV 2/4] END learning_rate=0.1, max_depth=4, n_estimators=1000, reg_alpha=1;, score=0.571 total time=  24.7s\n",
      "[CV 3/4] END learning_rate=0.1, max_depth=4, n_estimators=1000, reg_alpha=1;, score=0.561 total time=  28.2s\n",
      "[CV 4/4] END learning_rate=0.1, max_depth=4, n_estimators=1000, reg_alpha=1;, score=0.568 total time=  28.7s\n",
      "[CV 1/4] END learning_rate=0.1, max_depth=6, n_estimators=100, reg_alpha=0.1;, score=0.569 total time=   6.7s\n",
      "[CV 2/4] END learning_rate=0.1, max_depth=6, n_estimators=100, reg_alpha=0.1;, score=0.570 total time=   7.6s\n",
      "[CV 3/4] END learning_rate=0.1, max_depth=6, n_estimators=100, reg_alpha=0.1;, score=0.567 total time=   6.9s\n",
      "[CV 4/4] END learning_rate=0.1, max_depth=6, n_estimators=100, reg_alpha=0.1;, score=0.572 total time=   5.6s\n",
      "[CV 1/4] END learning_rate=0.1, max_depth=6, n_estimators=100, reg_alpha=1;, score=0.567 total time=   6.9s\n",
      "[CV 2/4] END learning_rate=0.1, max_depth=6, n_estimators=100, reg_alpha=1;, score=0.572 total time=   6.9s\n",
      "[CV 3/4] END learning_rate=0.1, max_depth=6, n_estimators=100, reg_alpha=1;, score=0.570 total time=   6.2s\n",
      "[CV 4/4] END learning_rate=0.1, max_depth=6, n_estimators=100, reg_alpha=1;, score=0.577 total time=   5.1s\n",
      "[CV 1/4] END learning_rate=0.1, max_depth=6, n_estimators=250, reg_alpha=0.1;, score=0.568 total time=  15.1s\n",
      "[CV 2/4] END learning_rate=0.1, max_depth=6, n_estimators=250, reg_alpha=0.1;, score=0.573 total time=  14.9s\n",
      "[CV 3/4] END learning_rate=0.1, max_depth=6, n_estimators=250, reg_alpha=0.1;, score=0.568 total time=  16.1s\n",
      "[CV 4/4] END learning_rate=0.1, max_depth=6, n_estimators=250, reg_alpha=0.1;, score=0.571 total time=  16.6s\n",
      "[CV 1/4] END learning_rate=0.1, max_depth=6, n_estimators=250, reg_alpha=1;, score=0.563 total time=  14.9s\n",
      "[CV 2/4] END learning_rate=0.1, max_depth=6, n_estimators=250, reg_alpha=1;, score=0.571 total time=  15.2s\n",
      "[CV 3/4] END learning_rate=0.1, max_depth=6, n_estimators=250, reg_alpha=1;, score=0.567 total time=  11.7s\n",
      "[CV 4/4] END learning_rate=0.1, max_depth=6, n_estimators=250, reg_alpha=1;, score=0.576 total time=  13.8s\n",
      "[CV 1/4] END learning_rate=0.1, max_depth=6, n_estimators=500, reg_alpha=0.1;, score=0.568 total time=  22.4s\n",
      "[CV 2/4] END learning_rate=0.1, max_depth=6, n_estimators=500, reg_alpha=0.1;, score=0.568 total time=  21.8s\n",
      "[CV 3/4] END learning_rate=0.1, max_depth=6, n_estimators=500, reg_alpha=0.1;, score=0.565 total time=  22.9s\n",
      "[CV 4/4] END learning_rate=0.1, max_depth=6, n_estimators=500, reg_alpha=0.1;, score=0.569 total time=  25.2s\n",
      "[CV 1/4] END learning_rate=0.1, max_depth=6, n_estimators=500, reg_alpha=1;, score=0.559 total time=  25.5s\n",
      "[CV 2/4] END learning_rate=0.1, max_depth=6, n_estimators=500, reg_alpha=1;, score=0.571 total time=  21.1s\n",
      "[CV 3/4] END learning_rate=0.1, max_depth=6, n_estimators=500, reg_alpha=1;, score=0.564 total time=  26.4s\n",
      "[CV 4/4] END learning_rate=0.1, max_depth=6, n_estimators=500, reg_alpha=1;, score=0.576 total time=  26.0s\n",
      "[CV 1/4] END learning_rate=0.1, max_depth=6, n_estimators=1000, reg_alpha=0.1;, score=0.562 total time=  41.1s\n",
      "[CV 2/4] END learning_rate=0.1, max_depth=6, n_estimators=1000, reg_alpha=0.1;, score=0.562 total time=  37.2s\n",
      "[CV 3/4] END learning_rate=0.1, max_depth=6, n_estimators=1000, reg_alpha=0.1;, score=0.556 total time=  34.3s\n",
      "[CV 4/4] END learning_rate=0.1, max_depth=6, n_estimators=1000, reg_alpha=0.1;, score=0.566 total time=  34.7s\n",
      "[CV 1/4] END learning_rate=0.1, max_depth=6, n_estimators=1000, reg_alpha=1;, score=0.560 total time=  43.3s\n",
      "[CV 2/4] END learning_rate=0.1, max_depth=6, n_estimators=1000, reg_alpha=1;, score=0.564 total time=  38.4s\n",
      "[CV 3/4] END learning_rate=0.1, max_depth=6, n_estimators=1000, reg_alpha=1;, score=0.557 total time=  39.7s\n",
      "[CV 4/4] END learning_rate=0.1, max_depth=6, n_estimators=1000, reg_alpha=1;, score=0.573 total time=  45.5s\n",
      "[CV 1/4] END learning_rate=0.1, max_depth=-1, n_estimators=100, reg_alpha=0.1;, score=0.571 total time=  15.0s\n",
      "[CV 2/4] END learning_rate=0.1, max_depth=-1, n_estimators=100, reg_alpha=0.1;, score=0.573 total time=  10.9s\n",
      "[CV 3/4] END learning_rate=0.1, max_depth=-1, n_estimators=100, reg_alpha=0.1;, score=0.574 total time=   9.3s\n",
      "[CV 4/4] END learning_rate=0.1, max_depth=-1, n_estimators=100, reg_alpha=0.1;, score=0.571 total time=  11.0s\n",
      "[CV 1/4] END learning_rate=0.1, max_depth=-1, n_estimators=100, reg_alpha=1;, score=0.570 total time=  10.8s\n",
      "[CV 2/4] END learning_rate=0.1, max_depth=-1, n_estimators=100, reg_alpha=1;, score=0.575 total time=   9.5s\n",
      "[CV 3/4] END learning_rate=0.1, max_depth=-1, n_estimators=100, reg_alpha=1;, score=0.572 total time=  11.3s\n",
      "[CV 4/4] END learning_rate=0.1, max_depth=-1, n_estimators=100, reg_alpha=1;, score=0.572 total time=  12.7s\n",
      "[CV 1/4] END learning_rate=0.1, max_depth=-1, n_estimators=250, reg_alpha=0.1;, score=0.573 total time=  23.8s\n",
      "[CV 2/4] END learning_rate=0.1, max_depth=-1, n_estimators=250, reg_alpha=0.1;, score=0.567 total time=  27.2s\n",
      "[CV 3/4] END learning_rate=0.1, max_depth=-1, n_estimators=250, reg_alpha=0.1;, score=0.558 total time=  25.8s\n",
      "[CV 4/4] END learning_rate=0.1, max_depth=-1, n_estimators=250, reg_alpha=0.1;, score=0.572 total time=  24.1s\n",
      "[CV 1/4] END learning_rate=0.1, max_depth=-1, n_estimators=250, reg_alpha=1;, score=0.566 total time=  25.0s\n",
      "[CV 2/4] END learning_rate=0.1, max_depth=-1, n_estimators=250, reg_alpha=1;, score=0.563 total time=  24.3s\n",
      "[CV 3/4] END learning_rate=0.1, max_depth=-1, n_estimators=250, reg_alpha=1;, score=0.559 total time=  26.3s\n",
      "[CV 4/4] END learning_rate=0.1, max_depth=-1, n_estimators=250, reg_alpha=1;, score=0.572 total time=  24.2s\n",
      "[CV 1/4] END learning_rate=0.1, max_depth=-1, n_estimators=500, reg_alpha=0.1;, score=0.553 total time=  48.3s\n",
      "[CV 2/4] END learning_rate=0.1, max_depth=-1, n_estimators=500, reg_alpha=0.1;, score=0.559 total time=  46.7s\n",
      "[CV 3/4] END learning_rate=0.1, max_depth=-1, n_estimators=500, reg_alpha=0.1;, score=0.551 total time=  46.5s\n",
      "[CV 4/4] END learning_rate=0.1, max_depth=-1, n_estimators=500, reg_alpha=0.1;, score=0.562 total time=  55.5s\n",
      "[CV 1/4] END learning_rate=0.1, max_depth=-1, n_estimators=500, reg_alpha=1;, score=0.557 total time=  46.6s\n",
      "[CV 2/4] END learning_rate=0.1, max_depth=-1, n_estimators=500, reg_alpha=1;, score=0.562 total time=  49.9s\n",
      "[CV 3/4] END learning_rate=0.1, max_depth=-1, n_estimators=500, reg_alpha=1;, score=0.557 total time=  54.3s\n",
      "[CV 4/4] END learning_rate=0.1, max_depth=-1, n_estimators=500, reg_alpha=1;, score=0.561 total time=  48.6s\n",
      "[CV 1/4] END learning_rate=0.1, max_depth=-1, n_estimators=1000, reg_alpha=0.1;, score=0.537 total time= 1.7min\n",
      "[CV 2/4] END learning_rate=0.1, max_depth=-1, n_estimators=1000, reg_alpha=0.1;, score=0.549 total time= 1.8min\n",
      "[CV 3/4] END learning_rate=0.1, max_depth=-1, n_estimators=1000, reg_alpha=0.1;, score=0.540 total time= 1.7min\n",
      "[CV 4/4] END learning_rate=0.1, max_depth=-1, n_estimators=1000, reg_alpha=0.1;, score=0.552 total time= 1.9min\n",
      "[CV 1/4] END learning_rate=0.1, max_depth=-1, n_estimators=1000, reg_alpha=1;, score=0.555 total time= 1.4min\n",
      "[CV 2/4] END learning_rate=0.1, max_depth=-1, n_estimators=1000, reg_alpha=1;, score=0.563 total time= 1.1min\n",
      "[CV 3/4] END learning_rate=0.1, max_depth=-1, n_estimators=1000, reg_alpha=1;, score=0.555 total time= 1.2min\n",
      "[CV 4/4] END learning_rate=0.1, max_depth=-1, n_estimators=1000, reg_alpha=1;, score=0.561 total time= 1.3min\n"
     ]
    },
    {
     "data": {
      "text/html": [
       "<style>#sk-container-id-15 {color: black;background-color: white;}#sk-container-id-15 pre{padding: 0;}#sk-container-id-15 div.sk-toggleable {background-color: white;}#sk-container-id-15 label.sk-toggleable__label {cursor: pointer;display: block;width: 100%;margin-bottom: 0;padding: 0.3em;box-sizing: border-box;text-align: center;}#sk-container-id-15 label.sk-toggleable__label-arrow:before {content: \"▸\";float: left;margin-right: 0.25em;color: #696969;}#sk-container-id-15 label.sk-toggleable__label-arrow:hover:before {color: black;}#sk-container-id-15 div.sk-estimator:hover label.sk-toggleable__label-arrow:before {color: black;}#sk-container-id-15 div.sk-toggleable__content {max-height: 0;max-width: 0;overflow: hidden;text-align: left;background-color: #f0f8ff;}#sk-container-id-15 div.sk-toggleable__content pre {margin: 0.2em;color: black;border-radius: 0.25em;background-color: #f0f8ff;}#sk-container-id-15 input.sk-toggleable__control:checked~div.sk-toggleable__content {max-height: 200px;max-width: 100%;overflow: auto;}#sk-container-id-15 input.sk-toggleable__control:checked~label.sk-toggleable__label-arrow:before {content: \"▾\";}#sk-container-id-15 div.sk-estimator input.sk-toggleable__control:checked~label.sk-toggleable__label {background-color: #d4ebff;}#sk-container-id-15 div.sk-label input.sk-toggleable__control:checked~label.sk-toggleable__label {background-color: #d4ebff;}#sk-container-id-15 input.sk-hidden--visually {border: 0;clip: rect(1px 1px 1px 1px);clip: rect(1px, 1px, 1px, 1px);height: 1px;margin: -1px;overflow: hidden;padding: 0;position: absolute;width: 1px;}#sk-container-id-15 div.sk-estimator {font-family: monospace;background-color: #f0f8ff;border: 1px dotted black;border-radius: 0.25em;box-sizing: border-box;margin-bottom: 0.5em;}#sk-container-id-15 div.sk-estimator:hover {background-color: #d4ebff;}#sk-container-id-15 div.sk-parallel-item::after {content: \"\";width: 100%;border-bottom: 1px solid gray;flex-grow: 1;}#sk-container-id-15 div.sk-label:hover label.sk-toggleable__label {background-color: #d4ebff;}#sk-container-id-15 div.sk-serial::before {content: \"\";position: absolute;border-left: 1px solid gray;box-sizing: border-box;top: 0;bottom: 0;left: 50%;z-index: 0;}#sk-container-id-15 div.sk-serial {display: flex;flex-direction: column;align-items: center;background-color: white;padding-right: 0.2em;padding-left: 0.2em;position: relative;}#sk-container-id-15 div.sk-item {position: relative;z-index: 1;}#sk-container-id-15 div.sk-parallel {display: flex;align-items: stretch;justify-content: center;background-color: white;position: relative;}#sk-container-id-15 div.sk-item::before, #sk-container-id-15 div.sk-parallel-item::before {content: \"\";position: absolute;border-left: 1px solid gray;box-sizing: border-box;top: 0;bottom: 0;left: 50%;z-index: -1;}#sk-container-id-15 div.sk-parallel-item {display: flex;flex-direction: column;z-index: 1;position: relative;background-color: white;}#sk-container-id-15 div.sk-parallel-item:first-child::after {align-self: flex-end;width: 50%;}#sk-container-id-15 div.sk-parallel-item:last-child::after {align-self: flex-start;width: 50%;}#sk-container-id-15 div.sk-parallel-item:only-child::after {width: 0;}#sk-container-id-15 div.sk-dashed-wrapped {border: 1px dashed gray;margin: 0 0.4em 0.5em 0.4em;box-sizing: border-box;padding-bottom: 0.4em;background-color: white;}#sk-container-id-15 div.sk-label label {font-family: monospace;font-weight: bold;display: inline-block;line-height: 1.2em;}#sk-container-id-15 div.sk-label-container {text-align: center;}#sk-container-id-15 div.sk-container {/* jupyter's `normalize.less` sets `[hidden] { display: none; }` but bootstrap.min.css set `[hidden] { display: none !important; }` so we also need the `!important` here to be able to override the default hidden behavior on the sphinx rendered scikit-learn.org. See: https://github.com/scikit-learn/scikit-learn/issues/21755 */display: inline-block !important;position: relative;}#sk-container-id-15 div.sk-text-repr-fallback {display: none;}</style><div id=\"sk-container-id-15\" class=\"sk-top-container\"><div class=\"sk-text-repr-fallback\"><pre>RandomizedSearchCV(cv=StratifiedKFold(n_splits=4, random_state=42, shuffle=True),\n",
       "                   estimator=LGBMClassifier(class_weight=&#x27;balanced&#x27;,\n",
       "                                            random_state=42),\n",
       "                   n_iter=333,\n",
       "                   param_distributions={&#x27;learning_rate&#x27;: [0.001, 0.01, 0.1],\n",
       "                                        &#x27;max_depth&#x27;: [2, 4, 6, -1],\n",
       "                                        &#x27;n_estimators&#x27;: [100, 250, 500, 1000],\n",
       "                                        &#x27;reg_alpha&#x27;: [0.1, 1]},\n",
       "                   scoring=make_scorer(balanced_accuracy_score), verbose=3)</pre><b>In a Jupyter environment, please rerun this cell to show the HTML representation or trust the notebook. <br />On GitHub, the HTML representation is unable to render, please try loading this page with nbviewer.org.</b></div><div class=\"sk-container\" hidden><div class=\"sk-item sk-dashed-wrapped\"><div class=\"sk-label-container\"><div class=\"sk-label sk-toggleable\"><input class=\"sk-toggleable__control sk-hidden--visually\" id=\"sk-estimator-id-21\" type=\"checkbox\" ><label for=\"sk-estimator-id-21\" class=\"sk-toggleable__label sk-toggleable__label-arrow\">RandomizedSearchCV</label><div class=\"sk-toggleable__content\"><pre>RandomizedSearchCV(cv=StratifiedKFold(n_splits=4, random_state=42, shuffle=True),\n",
       "                   estimator=LGBMClassifier(class_weight=&#x27;balanced&#x27;,\n",
       "                                            random_state=42),\n",
       "                   n_iter=333,\n",
       "                   param_distributions={&#x27;learning_rate&#x27;: [0.001, 0.01, 0.1],\n",
       "                                        &#x27;max_depth&#x27;: [2, 4, 6, -1],\n",
       "                                        &#x27;n_estimators&#x27;: [100, 250, 500, 1000],\n",
       "                                        &#x27;reg_alpha&#x27;: [0.1, 1]},\n",
       "                   scoring=make_scorer(balanced_accuracy_score), verbose=3)</pre></div></div></div><div class=\"sk-parallel\"><div class=\"sk-parallel-item\"><div class=\"sk-item\"><div class=\"sk-label-container\"><div class=\"sk-label sk-toggleable\"><input class=\"sk-toggleable__control sk-hidden--visually\" id=\"sk-estimator-id-22\" type=\"checkbox\" ><label for=\"sk-estimator-id-22\" class=\"sk-toggleable__label sk-toggleable__label-arrow\">estimator: LGBMClassifier</label><div class=\"sk-toggleable__content\"><pre>LGBMClassifier(class_weight=&#x27;balanced&#x27;, random_state=42)</pre></div></div></div><div class=\"sk-serial\"><div class=\"sk-item\"><div class=\"sk-estimator sk-toggleable\"><input class=\"sk-toggleable__control sk-hidden--visually\" id=\"sk-estimator-id-23\" type=\"checkbox\" ><label for=\"sk-estimator-id-23\" class=\"sk-toggleable__label sk-toggleable__label-arrow\">LGBMClassifier</label><div class=\"sk-toggleable__content\"><pre>LGBMClassifier(class_weight=&#x27;balanced&#x27;, random_state=42)</pre></div></div></div></div></div></div></div></div></div></div>"
      ],
      "text/plain": [
       "RandomizedSearchCV(cv=StratifiedKFold(n_splits=4, random_state=42, shuffle=True),\n",
       "                   estimator=LGBMClassifier(class_weight='balanced',\n",
       "                                            random_state=42),\n",
       "                   n_iter=333,\n",
       "                   param_distributions={'learning_rate': [0.001, 0.01, 0.1],\n",
       "                                        'max_depth': [2, 4, 6, -1],\n",
       "                                        'n_estimators': [100, 250, 500, 1000],\n",
       "                                        'reg_alpha': [0.1, 1]},\n",
       "                   scoring=make_scorer(balanced_accuracy_score), verbose=3)"
      ]
     },
     "execution_count": 90,
     "metadata": {},
     "output_type": "execute_result"
    }
   ],
   "source": [
    "RSCV.fit(X_train, y_train)"
   ]
  },
  {
   "cell_type": "code",
   "execution_count": 91,
   "id": "eddcedd7-894b-4667-983b-b372b9addff8",
   "metadata": {},
   "outputs": [
    {
     "name": "stdout",
     "output_type": "stream",
     "text": [
      "Train accuracy: 0.6033436606949757\n",
      "Test accuracy:  0.5746861440806922\n",
      "Report: \n",
      "              precision    recall  f1-score   support\n",
      "\n",
      "           0       0.87      0.70      0.78      5500\n",
      "           1       0.38      0.25      0.31      1353\n",
      "           2       0.15      0.76      0.26       374\n",
      "\n",
      "    accuracy                           0.62      7227\n",
      "   macro avg       0.47      0.57      0.45      7227\n",
      "weighted avg       0.74      0.62      0.66      7227\n",
      "\n",
      "Confusion matrix:\n",
      "[[3874  511 1115]\n",
      " [ 552  345  456]\n",
      " [  45   43  286]]\n"
     ]
    }
   ],
   "source": [
    "best_estimator = RSCV.best_estimator_\n",
    "\n",
    "y_pred = best_estimator.predict(X_test)\n",
    "print(f\"Train accuracy: {balanced_accuracy_score(y_train, best_estimator.predict(X_train))}\")\n",
    "get_report(y_test, y_pred)"
   ]
  },
  {
   "cell_type": "code",
   "execution_count": 92,
   "id": "53df8a78-a74b-4bc0-990a-1b03b8b0e304",
   "metadata": {},
   "outputs": [
    {
     "data": {
      "text/plain": [
       "{'reg_alpha': 0.1, 'n_estimators': 500, 'max_depth': -1, 'learning_rate': 0.01}"
      ]
     },
     "execution_count": 92,
     "metadata": {},
     "output_type": "execute_result"
    }
   ],
   "source": [
    "RSCV.best_params_"
   ]
  },
  {
   "cell_type": "markdown",
   "id": "4c686b37-62e1-4605-8071-833f7b469de6",
   "metadata": {},
   "source": [
    "### to binary and train (train with CV, but the floret 128 will be used for the final training due to much smaller size)"
   ]
  },
  {
   "cell_type": "code",
   "execution_count": 93,
   "id": "41426389-0c76-4a3d-a7f1-0e1fd66af59b",
   "metadata": {},
   "outputs": [],
   "source": [
    "X, y = df.iloc[:, 1:].values, df.citation_class.values.reshape(-1, 1)\n",
    "X_train, X_test, y_train, y_test = train_test_split(X, y, test_size=0.15, stratify=y, random_state=RS)\n",
    "\n",
    "y_train[y_train>1] = 1\n",
    "y_test[y_test>1] = 1"
   ]
  },
  {
   "cell_type": "code",
   "execution_count": 95,
   "id": "133353b4-73e6-4450-a4f4-ec6a3491dc4e",
   "metadata": {},
   "outputs": [],
   "source": [
    "NFOLDS = 3\n",
    "kf = StratifiedKFold(n_splits=NFOLDS, shuffle=True, random_state=RS)\n",
    "scorer = make_scorer(balanced_accuracy_score, greater_is_better=True)  \n",
    "model = lgb.LGBMClassifier(class_weight='balanced', random_state=RS)\n",
    "parameters = {\n",
    "    'n_estimators': [100, 250, 500, 750, 1000],\n",
    "    'max_depth': [2, 4, 6, -1],\n",
    "    'reg_alpha': [0.1, 1],\n",
    "    'learning_rate': [0.01, 0.1]\n",
    "}\n",
    "RSCV = RandomizedSearchCV(model, parameters, scoring=scorer, cv=kf, n_iter=333, verbose=1)"
   ]
  },
  {
   "cell_type": "code",
   "execution_count": 96,
   "id": "cdd0fe9c-8acd-405f-8961-849b7e525571",
   "metadata": {},
   "outputs": [
    {
     "name": "stdout",
     "output_type": "stream",
     "text": [
      "Fitting 3 folds for each of 80 candidates, totalling 240 fits\n"
     ]
    },
    {
     "data": {
      "text/html": [
       "<style>#sk-container-id-16 {color: black;background-color: white;}#sk-container-id-16 pre{padding: 0;}#sk-container-id-16 div.sk-toggleable {background-color: white;}#sk-container-id-16 label.sk-toggleable__label {cursor: pointer;display: block;width: 100%;margin-bottom: 0;padding: 0.3em;box-sizing: border-box;text-align: center;}#sk-container-id-16 label.sk-toggleable__label-arrow:before {content: \"▸\";float: left;margin-right: 0.25em;color: #696969;}#sk-container-id-16 label.sk-toggleable__label-arrow:hover:before {color: black;}#sk-container-id-16 div.sk-estimator:hover label.sk-toggleable__label-arrow:before {color: black;}#sk-container-id-16 div.sk-toggleable__content {max-height: 0;max-width: 0;overflow: hidden;text-align: left;background-color: #f0f8ff;}#sk-container-id-16 div.sk-toggleable__content pre {margin: 0.2em;color: black;border-radius: 0.25em;background-color: #f0f8ff;}#sk-container-id-16 input.sk-toggleable__control:checked~div.sk-toggleable__content {max-height: 200px;max-width: 100%;overflow: auto;}#sk-container-id-16 input.sk-toggleable__control:checked~label.sk-toggleable__label-arrow:before {content: \"▾\";}#sk-container-id-16 div.sk-estimator input.sk-toggleable__control:checked~label.sk-toggleable__label {background-color: #d4ebff;}#sk-container-id-16 div.sk-label input.sk-toggleable__control:checked~label.sk-toggleable__label {background-color: #d4ebff;}#sk-container-id-16 input.sk-hidden--visually {border: 0;clip: rect(1px 1px 1px 1px);clip: rect(1px, 1px, 1px, 1px);height: 1px;margin: -1px;overflow: hidden;padding: 0;position: absolute;width: 1px;}#sk-container-id-16 div.sk-estimator {font-family: monospace;background-color: #f0f8ff;border: 1px dotted black;border-radius: 0.25em;box-sizing: border-box;margin-bottom: 0.5em;}#sk-container-id-16 div.sk-estimator:hover {background-color: #d4ebff;}#sk-container-id-16 div.sk-parallel-item::after {content: \"\";width: 100%;border-bottom: 1px solid gray;flex-grow: 1;}#sk-container-id-16 div.sk-label:hover label.sk-toggleable__label {background-color: #d4ebff;}#sk-container-id-16 div.sk-serial::before {content: \"\";position: absolute;border-left: 1px solid gray;box-sizing: border-box;top: 0;bottom: 0;left: 50%;z-index: 0;}#sk-container-id-16 div.sk-serial {display: flex;flex-direction: column;align-items: center;background-color: white;padding-right: 0.2em;padding-left: 0.2em;position: relative;}#sk-container-id-16 div.sk-item {position: relative;z-index: 1;}#sk-container-id-16 div.sk-parallel {display: flex;align-items: stretch;justify-content: center;background-color: white;position: relative;}#sk-container-id-16 div.sk-item::before, #sk-container-id-16 div.sk-parallel-item::before {content: \"\";position: absolute;border-left: 1px solid gray;box-sizing: border-box;top: 0;bottom: 0;left: 50%;z-index: -1;}#sk-container-id-16 div.sk-parallel-item {display: flex;flex-direction: column;z-index: 1;position: relative;background-color: white;}#sk-container-id-16 div.sk-parallel-item:first-child::after {align-self: flex-end;width: 50%;}#sk-container-id-16 div.sk-parallel-item:last-child::after {align-self: flex-start;width: 50%;}#sk-container-id-16 div.sk-parallel-item:only-child::after {width: 0;}#sk-container-id-16 div.sk-dashed-wrapped {border: 1px dashed gray;margin: 0 0.4em 0.5em 0.4em;box-sizing: border-box;padding-bottom: 0.4em;background-color: white;}#sk-container-id-16 div.sk-label label {font-family: monospace;font-weight: bold;display: inline-block;line-height: 1.2em;}#sk-container-id-16 div.sk-label-container {text-align: center;}#sk-container-id-16 div.sk-container {/* jupyter's `normalize.less` sets `[hidden] { display: none; }` but bootstrap.min.css set `[hidden] { display: none !important; }` so we also need the `!important` here to be able to override the default hidden behavior on the sphinx rendered scikit-learn.org. See: https://github.com/scikit-learn/scikit-learn/issues/21755 */display: inline-block !important;position: relative;}#sk-container-id-16 div.sk-text-repr-fallback {display: none;}</style><div id=\"sk-container-id-16\" class=\"sk-top-container\"><div class=\"sk-text-repr-fallback\"><pre>RandomizedSearchCV(cv=StratifiedKFold(n_splits=3, random_state=42, shuffle=True),\n",
       "                   estimator=LGBMClassifier(class_weight=&#x27;balanced&#x27;,\n",
       "                                            random_state=42),\n",
       "                   n_iter=333,\n",
       "                   param_distributions={&#x27;learning_rate&#x27;: [0.01, 0.1],\n",
       "                                        &#x27;max_depth&#x27;: [2, 4, 6, -1],\n",
       "                                        &#x27;n_estimators&#x27;: [100, 250, 500, 750,\n",
       "                                                         1000],\n",
       "                                        &#x27;reg_alpha&#x27;: [0.1, 1]},\n",
       "                   scoring=make_scorer(balanced_accuracy_score), verbose=1)</pre><b>In a Jupyter environment, please rerun this cell to show the HTML representation or trust the notebook. <br />On GitHub, the HTML representation is unable to render, please try loading this page with nbviewer.org.</b></div><div class=\"sk-container\" hidden><div class=\"sk-item sk-dashed-wrapped\"><div class=\"sk-label-container\"><div class=\"sk-label sk-toggleable\"><input class=\"sk-toggleable__control sk-hidden--visually\" id=\"sk-estimator-id-24\" type=\"checkbox\" ><label for=\"sk-estimator-id-24\" class=\"sk-toggleable__label sk-toggleable__label-arrow\">RandomizedSearchCV</label><div class=\"sk-toggleable__content\"><pre>RandomizedSearchCV(cv=StratifiedKFold(n_splits=3, random_state=42, shuffle=True),\n",
       "                   estimator=LGBMClassifier(class_weight=&#x27;balanced&#x27;,\n",
       "                                            random_state=42),\n",
       "                   n_iter=333,\n",
       "                   param_distributions={&#x27;learning_rate&#x27;: [0.01, 0.1],\n",
       "                                        &#x27;max_depth&#x27;: [2, 4, 6, -1],\n",
       "                                        &#x27;n_estimators&#x27;: [100, 250, 500, 750,\n",
       "                                                         1000],\n",
       "                                        &#x27;reg_alpha&#x27;: [0.1, 1]},\n",
       "                   scoring=make_scorer(balanced_accuracy_score), verbose=1)</pre></div></div></div><div class=\"sk-parallel\"><div class=\"sk-parallel-item\"><div class=\"sk-item\"><div class=\"sk-label-container\"><div class=\"sk-label sk-toggleable\"><input class=\"sk-toggleable__control sk-hidden--visually\" id=\"sk-estimator-id-25\" type=\"checkbox\" ><label for=\"sk-estimator-id-25\" class=\"sk-toggleable__label sk-toggleable__label-arrow\">estimator: LGBMClassifier</label><div class=\"sk-toggleable__content\"><pre>LGBMClassifier(class_weight=&#x27;balanced&#x27;, random_state=42)</pre></div></div></div><div class=\"sk-serial\"><div class=\"sk-item\"><div class=\"sk-estimator sk-toggleable\"><input class=\"sk-toggleable__control sk-hidden--visually\" id=\"sk-estimator-id-26\" type=\"checkbox\" ><label for=\"sk-estimator-id-26\" class=\"sk-toggleable__label sk-toggleable__label-arrow\">LGBMClassifier</label><div class=\"sk-toggleable__content\"><pre>LGBMClassifier(class_weight=&#x27;balanced&#x27;, random_state=42)</pre></div></div></div></div></div></div></div></div></div></div>"
      ],
      "text/plain": [
       "RandomizedSearchCV(cv=StratifiedKFold(n_splits=3, random_state=42, shuffle=True),\n",
       "                   estimator=LGBMClassifier(class_weight='balanced',\n",
       "                                            random_state=42),\n",
       "                   n_iter=333,\n",
       "                   param_distributions={'learning_rate': [0.01, 0.1],\n",
       "                                        'max_depth': [2, 4, 6, -1],\n",
       "                                        'n_estimators': [100, 250, 500, 750,\n",
       "                                                         1000],\n",
       "                                        'reg_alpha': [0.1, 1]},\n",
       "                   scoring=make_scorer(balanced_accuracy_score), verbose=1)"
      ]
     },
     "execution_count": 96,
     "metadata": {},
     "output_type": "execute_result"
    }
   ],
   "source": [
    "RSCV.fit(X_train, y_train)"
   ]
  },
  {
   "cell_type": "code",
   "execution_count": 97,
   "id": "3a85c887-7ef9-436b-b26e-678c454a3d9c",
   "metadata": {},
   "outputs": [
    {
     "name": "stdout",
     "output_type": "stream",
     "text": [
      "Train accuracy: 0.7230756677164287\n",
      "Test accuracy:  0.6846844238563984\n",
      "Report: \n",
      "              precision    recall  f1-score   support\n",
      "\n",
      "           0       0.86      0.79      0.82      5500\n",
      "           1       0.46      0.58      0.52      1727\n",
      "\n",
      "    accuracy                           0.74      7227\n",
      "   macro avg       0.66      0.68      0.67      7227\n",
      "weighted avg       0.76      0.74      0.75      7227\n",
      "\n",
      "Confusion matrix:\n",
      "[[4350 1150]\n",
      " [ 728  999]]\n"
     ]
    }
   ],
   "source": [
    "best_estimator = RSCV.best_estimator_\n",
    "\n",
    "y_pred = best_estimator.predict(X_test)\n",
    "print(f\"Train accuracy: {balanced_accuracy_score(y_train, best_estimator.predict(X_train))}\")\n",
    "get_report(y_test, y_pred)"
   ]
  },
  {
   "cell_type": "code",
   "execution_count": 98,
   "id": "42af2d9f-4af5-4fcc-8816-5d29c827bea3",
   "metadata": {},
   "outputs": [
    {
     "data": {
      "text/plain": [
       "{'reg_alpha': 1, 'n_estimators': 250, 'max_depth': -1, 'learning_rate': 0.1}"
      ]
     },
     "execution_count": 98,
     "metadata": {},
     "output_type": "execute_result"
    }
   ],
   "source": [
    "RSCV.best_params_"
   ]
  },
  {
   "cell_type": "code",
   "execution_count": null,
   "id": "eae16cd9-2fe1-4882-b606-a03898f19d8b",
   "metadata": {},
   "outputs": [],
   "source": []
  }
 ],
 "metadata": {
  "kernelspec": {
   "display_name": "Python 3 (ipykernel)",
   "language": "python",
   "name": "python3"
  },
  "language_info": {
   "codemirror_mode": {
    "name": "ipython",
    "version": 3
   },
   "file_extension": ".py",
   "mimetype": "text/x-python",
   "name": "python",
   "nbconvert_exporter": "python",
   "pygments_lexer": "ipython3",
   "version": "3.9.7"
  }
 },
 "nbformat": 4,
 "nbformat_minor": 5
}
