{
 "cells": [
  {
   "cell_type": "code",
   "execution_count": 96,
   "id": "e8a4f498-4f6a-4533-921a-b9126aef8d19",
   "metadata": {},
   "outputs": [],
   "source": [
    "import pandas as pd\n",
    "import numpy as np\n",
    "import ast\n",
    "import spacy"
   ]
  },
  {
   "cell_type": "code",
   "execution_count": 153,
   "id": "8bee9178-7845-4b53-809e-5e05bf285dae",
   "metadata": {},
   "outputs": [],
   "source": [
    "import warnings\n",
    "warnings.filterwarnings('ignore')"
   ]
  },
  {
   "cell_type": "markdown",
   "id": "ed4667d5-ce6f-4f1b-89de-a44c14fd307f",
   "metadata": {},
   "source": [
    "### Load the trained NER model and the data\n",
    "Check the model performance on a couple of examples"
   ]
  },
  {
   "cell_type": "code",
   "execution_count": 50,
   "id": "934d1685-8602-47f5-a306-7be1459ca2c1",
   "metadata": {},
   "outputs": [],
   "source": [
    "# vectors_128_d = spacy.load('../word2vec/floret-128/')"
   ]
  },
  {
   "cell_type": "code",
   "execution_count": 51,
   "id": "84a4f79c-b61c-4e1a-9d00-3cbbc6e475b6",
   "metadata": {},
   "outputs": [],
   "source": [
    "astro_nlp = spacy.load('astro_ner/model-best/')"
   ]
  },
  {
   "cell_type": "code",
   "execution_count": 52,
   "id": "16ac36bf-4e60-4b52-be34-32cacf453d59",
   "metadata": {},
   "outputs": [],
   "source": [
    "df = pd.read_csv(\"../data/assembled.csv\", index_col=0)\n",
    "bodies = pd.read_csv(\"../word2vec/clean_bodies.csv\", index_col=0)"
   ]
  },
  {
   "cell_type": "code",
   "execution_count": 65,
   "id": "77cb5594-5cb8-436a-8711-fb9f895ab1bb",
   "metadata": {},
   "outputs": [],
   "source": [
    "df['body'] = df['body'].apply(lambda x: x.replace(\"gamma -\", 'gamma-'))"
   ]
  },
  {
   "cell_type": "code",
   "execution_count": 66,
   "id": "9a5e1bfb-631c-4030-9b4d-2e3238fe021c",
   "metadata": {},
   "outputs": [
    {
     "data": {
      "text/html": [
       "<span class=\"tex2jax_ignore\"><div class=\"entities\" style=\"line-height: 2.5; direction: ltr\">R-band observations of the GRB980329 error box were obtained with the  3.5 m \n",
       "<mark class=\"entity\" style=\"background: #ddd; padding: 0.45em 0.6em; margin: 0 0.25em; line-height: 1; border-radius: 0.35em;\">\n",
       "    WIYN telescope\n",
       "    <span style=\"font-size: 0.8em; font-weight: bold; line-height: 1; border-radius: 0.35em; vertical-align: middle; margin-left: 0.5rem\">TELESCOPE</span>\n",
       "</mark>\n",
       " on Kitt Peak on UT 1998 April 1.17 and April 3.10.   The position of the radio transient (see GCNC #40) was empty to limits of  24.2 and 23.9 mag respectively.</div></span>"
      ],
      "text/plain": [
       "<IPython.core.display.HTML object>"
      ]
     },
     "metadata": {},
     "output_type": "display_data"
    }
   ],
   "source": [
    "spacy.displacy.render(astro_nlp(df.body[23]), style='ent')"
   ]
  },
  {
   "cell_type": "code",
   "execution_count": 243,
   "id": "4c7eddac-ef03-48b7-b3c8-040a191f7ecd",
   "metadata": {},
   "outputs": [
    {
     "data": {
      "text/html": [
       "<span class=\"tex2jax_ignore\"><div class=\"entities\" style=\"line-height: 2.5; direction: ltr\">S. C. Odewahn, J. S. Bloom, S. Djorgovski, S. R. Kulkarni, and F. Harrison (CIT) report on behalf of the Caltech-NRAO-CARA  \n",
       "<mark class=\"entity\" style=\"background: #ddd; padding: 0.45em 0.6em; margin: 0 0.25em; line-height: 1; border-radius: 0.35em;\">\n",
       "    GRB\n",
       "    <span style=\"font-size: 0.8em; font-weight: bold; line-height: 1; border-radius: 0.35em; vertical-align: middle; margin-left: 0.5rem\">SOURCE</span>\n",
       "</mark>\n",
       " Collaboration:  We have processed the HST STIS images of \n",
       "<mark class=\"entity\" style=\"background: #ddd; padding: 0.45em 0.6em; margin: 0 0.25em; line-height: 1; border-radius: 0.35em;\">\n",
       "    GRB 990123\n",
       "    <span style=\"font-size: 0.8em; font-weight: bold; line-height: 1; border-radius: 0.35em; vertical-align: middle; margin-left: 0.5rem\">SOURCE</span>\n",
       "</mark>\n",
       " using a variety of techniques and have deduced the following magnitudes:   Estimates of Gunn r magnitudes from the Median stack STIS image:   r(OT)          = 25.25 -+0.2      systematic+accidental error   r(OT+GAL)      = 24.16 -+0.1      accidental error only   r(A2)          = 27.18 -+0.02     accidental error only   r(OT+GAL+A2)   = 24.09            Estimates of Gunn r magnitudes from the drizzled STIS image:    r(OT)          = 25.28 -+0.2    systematic+accidental error    r(OT+GAL)      = 24.12 -+0.1    systematic+accidental error    r(A2)          = 27.23 -+0.02   systematic+accidental error            r(OT+GAL+A2)   = 24.06           Details of the reduction, the image properties and a map defining  the apertures for OT, GAL, and A2 (a discrete source 0.9&quot; from the OT) may be found at: http://astro.caltech.edu/~sco/sco1/research/grb/grb990123/stis.html  In this website we detail the procedure for obtaining by anonymous  ftp our final STIS images, a deep Keck R-band image, and the \n",
       "<mark class=\"entity\" style=\"background: #ddd; padding: 0.45em 0.6em; margin: 0 0.25em; line-height: 1; border-radius: 0.35em;\">\n",
       "    Palomar\n",
       "    <span style=\"font-size: 0.8em; font-weight: bold; line-height: 1; border-radius: 0.35em; vertical-align: middle; margin-left: 0.5rem\">TELESCOPE</span>\n",
       "</mark>\n",
       "  60-inch OT discovery image discussed in GCN 201.  These data may be  used without any need to cite the source.  This message may be cited.</div></span>"
      ],
      "text/plain": [
       "<IPython.core.display.HTML object>"
      ]
     },
     "metadata": {},
     "output_type": "display_data"
    }
   ],
   "source": [
    "spacy.displacy.render(astro_nlp(df.body[246]), style='ent')"
   ]
  },
  {
   "cell_type": "code",
   "execution_count": 72,
   "id": "fa1610a8-1cf2-454d-b9ad-55a010a706be",
   "metadata": {},
   "outputs": [
    {
     "data": {
      "text/html": [
       "<span class=\"tex2jax_ignore\"><div class=\"entities\" style=\"line-height: 2.5; direction: ltr\">The position of the recently discovered transient \n",
       "<mark class=\"entity\" style=\"background: #ddd; padding: 0.45em 0.6em; margin: 0 0.25em; line-height: 1; border-radius: 0.35em;\">\n",
       "    gamma-ray source\n",
       "    <span style=\"font-size: 0.8em; font-weight: bold; line-height: 1; border-radius: 0.35em; vertical-align: middle; margin-left: 0.5rem\">SOURCE</span>\n",
       "</mark>\n",
       " J0109+6134 (ATEL #2414) lies within the footprints of the IPHAS (Drew et al. 2005, MNRAS, 362, 753; http://www.iphas.org ) and UVEX (Groot et al. 2009, MNRAS, 399, 323) surveys of the northern Galactic plane. Paredes et al. (ATEL #2421) have already suggested an optical counterpart to this transient source, which is located just over 1&quot; from the position of the suggested radio counterpart to this transient (VCS2 J0109+6133) and 4&quot; from the \n",
       "<mark class=\"entity\" style=\"background: #ddd; padding: 0.45em 0.6em; margin: 0 0.25em; line-height: 1; border-radius: 0.35em;\">\n",
       "    Swift\n",
       "    <span style=\"font-size: 0.8em; font-weight: bold; line-height: 1; border-radius: 0.35em; vertical-align: middle; margin-left: 0.5rem\">TELESCOPE</span>\n",
       "</mark>\n",
       "/XRT counterpart (ATEL #2420). However, several IPHAS images obtained between 2003 and 2006 show another \n",
       "<mark class=\"entity\" style=\"background: #ddd; padding: 0.45em 0.6em; margin: 0 0.25em; line-height: 1; border-radius: 0.35em;\">\n",
       "    optical source\n",
       "    <span style=\"font-size: 0.8em; font-weight: bold; line-height: 1; border-radius: 0.35em; vertical-align: middle; margin-left: 0.5rem\">SOURCE</span>\n",
       "</mark>\n",
       " whose position is a much better match to the radio counterpart. Our best estimate of the position of this source is RA = 01:09:46.33, Dec = +61:33:30.5, which puts the source within 0.1&quot; of the radio counterpart and also within 4&quot; of the \n",
       "<mark class=\"entity\" style=\"background: #ddd; padding: 0.45em 0.6em; margin: 0 0.25em; line-height: 1; border-radius: 0.35em;\">\n",
       "    Swift\n",
       "    <span style=\"font-size: 0.8em; font-weight: bold; line-height: 1; border-radius: 0.35em; vertical-align: middle; margin-left: 0.5rem\">TELESCOPE</span>\n",
       "</mark>\n",
       " counterpart. As an indication of the internal uncertainty on this position, we note that our single best detection of this source (in 2006) yields a position estimate of RA = 01:09:46.30, Dec = +61:33:30.7, within 0.25&quot; of our best overall estimate. This is also comparable to the absolute positional error associated with our astrometry, which is tied to the 2MASS frame. We dub this new candidate counterpart IPHAS J010946.33+613330.5 and suggest it is more likely to be the true counterpart for the \n",
       "<mark class=\"entity\" style=\"background: #ddd; padding: 0.45em 0.6em; margin: 0 0.25em; line-height: 1; border-radius: 0.35em;\">\n",
       "    radio source\n",
       "    <span style=\"font-size: 0.8em; font-weight: bold; line-height: 1; border-radius: 0.35em; vertical-align: middle; margin-left: 0.5rem\">SOURCE</span>\n",
       "</mark>\n",
       ", and, by extension, the \n",
       "<mark class=\"entity\" style=\"background: #ddd; padding: 0.45em 0.6em; margin: 0 0.25em; line-height: 1; border-radius: 0.35em;\">\n",
       "    gamma\n",
       "    <span style=\"font-size: 0.8em; font-weight: bold; line-height: 1; border-radius: 0.35em; vertical-align: middle; margin-left: 0.5rem\">TELESCOPE</span>\n",
       "</mark>\n",
       "-ray transient. A finder chart showing both proposed counterparts along with the X-ray and radio positions is available at http://www.astro.soton.ac.uk/~christian/fermi_finder.html The IPHAS and UVEX data also provide estimates of the optical brightness and colours of both candidate counterparts. Both sources have similar magnitudes and both are red. Our best overall estimates for IPHAS J010946.33+613330.5 are i' = 19.7, r'-i' = 1.5, while the corresponding numbers for the counterpart proposed by Paredes et al. are i' = 19.7, r'-i'= 1.2. Neither source shows significant evidence for an Halpha excess in the IPHAS photometry. In order to check that both sources are presently visible, we have obtained a 120s r'-band image with ACAM on the \n",
       "<mark class=\"entity\" style=\"background: #ddd; padding: 0.45em 0.6em; margin: 0 0.25em; line-height: 1; border-radius: 0.35em;\">\n",
       "    William Herschel Telescope\n",
       "    <span style=\"font-size: 0.8em; font-weight: bold; line-height: 1; border-radius: 0.35em; vertical-align: middle; margin-left: 0.5rem\">TELESCOPE</span>\n",
       "</mark>\n",
       " on Feb 5, 2010, 19:54 UT. This yielded estimates of r' = 21.2 for IPHAS J010946.33+613330.5 and r' = 20.9 for the Paredes et al. counterpart, in excellent agreement with our IPHAS-based estimates. Closer examination of the full IPHAS data set has yielded marginal evidence for optical variability of IPHAS J010946.33+613330.5. Perhaps more convincingly, the faintness or absence of this source in the I-band image shown by Paredes et al. 1993, A&amp;ASS 102, 381 -- which does clearly show their proposed counterpart -- also seems to suggest that our new candidate counterpart for the \n",
       "<mark class=\"entity\" style=\"background: #ddd; padding: 0.45em 0.6em; margin: 0 0.25em; line-height: 1; border-radius: 0.35em;\">\n",
       "    gamma\n",
       "    <span style=\"font-size: 0.8em; font-weight: bold; line-height: 1; border-radius: 0.35em; vertical-align: middle; margin-left: 0.5rem\">TELESCOPE</span>\n",
       "</mark>\n",
       "-ray transient may be optically variable as well. Finder chart</div></span>"
      ],
      "text/plain": [
       "<IPython.core.display.HTML object>"
      ]
     },
     "metadata": {},
     "output_type": "display_data"
    }
   ],
   "source": [
    "spacy.displacy.render(astro_nlp(df.body[12347]), style='ent')"
   ]
  },
  {
   "cell_type": "code",
   "execution_count": 64,
   "id": "275342a1-55e7-4952-a246-0565fc3eaaed",
   "metadata": {},
   "outputs": [
    {
     "data": {
      "text/html": [
       "<span class=\"tex2jax_ignore\"><div class=\"entities\" style=\"line-height: 2.5; direction: ltr\">We report \n",
       "<mark class=\"entity\" style=\"background: #ddd; padding: 0.45em 0.6em; margin: 0 0.25em; line-height: 1; border-radius: 0.35em;\">\n",
       "    MERLIN\n",
       "    <span style=\"font-size: 0.8em; font-weight: bold; line-height: 1; border-radius: 0.35em; vertical-align: middle; margin-left: 0.5rem\">TELESCOPE</span>\n",
       "</mark>\n",
       " radio observations of the two recent supernovae in Arp299; SN2010P and SN2010O (CBET #2145 and CBET #2144, respectively). Observations of Arp299 were made between 1900UT 29th Jan 2010 and 0150UT 1st Feb 2010 at 4994MHz. The previously known compact radio structure of Arp299, including the nuclear starburst components associated with A=IC694 and B1=the southernmost nucleus of NGC3690 are detected (Neff, Ulvestad &amp; Teng 2004, ApJ, 611, 186; Ulvestad 2009 AJ, 138, 152; Perez-Torres et al 2009, A&amp;A 507, 17). However no new radio sources were detected above 186 microJy/beam (3-sigma) within an area of radius 10 arcsec centred upon the reported optical positions of these new two supernovae. Further radio monitoring observations of these two young supernovae are encouraged.</div></span>"
      ],
      "text/plain": [
       "<IPython.core.display.HTML object>"
      ]
     },
     "metadata": {},
     "output_type": "display_data"
    }
   ],
   "source": [
    "spacy.displacy.render(astro_nlp(df.body[12355]), style='ent')"
   ]
  },
  {
   "cell_type": "markdown",
   "id": "8f2b3af7-2550-4a27-b00c-3369e6a4b147",
   "metadata": {},
   "source": [
    "### Use NER to fetch all entities from the texts, and compare the results with the RB approach\n",
    "Bad news:\n",
    "- `gamma` is being constantly labelled as TELESCOPE, even tho I deleted all mentions of 'gamma' in telescope patterns used for labelling and in most of the cases it aint the mention of a telescope. I have to remove this entity in future."
   ]
  },
  {
   "cell_type": "code",
   "execution_count": 75,
   "id": "8d701a42-e62b-4b5f-9d63-3ea9f903eac3",
   "metadata": {},
   "outputs": [],
   "source": [
    "def get_ents_with_ner(text: str):\n",
    "    res = list()\n",
    "    doc = astro_nlp(text)\n",
    "    \n",
    "    # ents found by NER\n",
    "    for ent in doc.ents:\n",
    "        res.append(doc.char_span(ent.start_char, ent.end_char, ent.label_))\n",
    "        \n",
    "    return res"
   ]
  },
  {
   "cell_type": "code",
   "execution_count": 76,
   "id": "4becb370-1223-48fc-bb65-1b0bb1aa7962",
   "metadata": {},
   "outputs": [],
   "source": [
    "df['ner_ents'] = df.body.apply(get_ents_with_ner)"
   ]
  },
  {
   "cell_type": "code",
   "execution_count": 112,
   "id": "f6918190-d51c-4558-b6ab-15e3cb7ac9bf",
   "metadata": {},
   "outputs": [],
   "source": [
    "df['ner_telescope'] = df['ner_ents'].apply(lambda x: set([e.text.lower() for e in x if e.label_ == 'TELESCOPE']))\n",
    "df['ner_source'] = df['ner_ents'].apply(lambda x: set([e.text.lower() for e in x if e.label_ == 'SOURCE']))"
   ]
  },
  {
   "cell_type": "code",
   "execution_count": 113,
   "id": "01ec69ff-c523-494b-b221-1eb6816bb500",
   "metadata": {},
   "outputs": [
    {
     "data": {
      "text/html": [
       "<div>\n",
       "<style scoped>\n",
       "    .dataframe tbody tr th:only-of-type {\n",
       "        vertical-align: middle;\n",
       "    }\n",
       "\n",
       "    .dataframe tbody tr th {\n",
       "        vertical-align: top;\n",
       "    }\n",
       "\n",
       "    .dataframe thead th {\n",
       "        text-align: right;\n",
       "    }\n",
       "</style>\n",
       "<table border=\"1\" class=\"dataframe\">\n",
       "  <thead>\n",
       "    <tr style=\"text-align: right;\">\n",
       "      <th></th>\n",
       "      <th>body</th>\n",
       "      <th>subject</th>\n",
       "      <th>date</th>\n",
       "      <th>from</th>\n",
       "      <th>refs</th>\n",
       "      <th>ner_ents</th>\n",
       "      <th>ner_telescope</th>\n",
       "      <th>ner_source</th>\n",
       "    </tr>\n",
       "    <tr>\n",
       "      <th>telegram_index</th>\n",
       "      <th></th>\n",
       "      <th></th>\n",
       "      <th></th>\n",
       "      <th></th>\n",
       "      <th></th>\n",
       "      <th></th>\n",
       "      <th></th>\n",
       "      <th></th>\n",
       "    </tr>\n",
       "  </thead>\n",
       "  <tbody>\n",
       "    <tr>\n",
       "      <th>3_atel</th>\n",
       "      <td>In addendum of ATEL #2: Additional Information...</td>\n",
       "      <td>Improved Coordinates for GB971227</td>\n",
       "      <td>1997-12-28</td>\n",
       "      <td>rutledge@rosat.mpe-garching.mpg.de</td>\n",
       "      <td>[]</td>\n",
       "      <td>[(Gamma), (BeppoSAX), (BeppoSAX), (BeppoSAX), ...</td>\n",
       "      <td>{gamma, bepposax}</td>\n",
       "      <td>{}</td>\n",
       "    </tr>\n",
       "    <tr>\n",
       "      <th>2_atel</th>\n",
       "      <td>The following message was emailed to me this e...</td>\n",
       "      <td>GB971227</td>\n",
       "      <td>1997-12-28</td>\n",
       "      <td>rutledge@rosat.mpe-garching.mpg.de</td>\n",
       "      <td>[]</td>\n",
       "      <td>[(GRB), (BeppoSAX), (BeppoSAX), (BeppoSAX)]</td>\n",
       "      <td>{bepposax}</td>\n",
       "      <td>{grb}</td>\n",
       "    </tr>\n",
       "    <tr>\n",
       "      <th>4_atel</th>\n",
       "      <td>The recent detection of delayed Gamma ray burs...</td>\n",
       "      <td>The Probable Connection Between Relativistic S...</td>\n",
       "      <td>1998-01-06</td>\n",
       "      <td>rutledge@rosat.mpe-garching.mpg.de</td>\n",
       "      <td>[]</td>\n",
       "      <td>[(Gamma), (GRB), (Goodman), (Gamma), (gamma), ...</td>\n",
       "      <td>{fermi, fast, most, goodman, gamma}</td>\n",
       "      <td>{grb}</td>\n",
       "    </tr>\n",
       "    <tr>\n",
       "      <th>5_atel</th>\n",
       "      <td>The optical transient (IAUC # 6788 ) of GRB 97...</td>\n",
       "      <td>GRB 971214</td>\n",
       "      <td>1998-01-12</td>\n",
       "      <td>rutledge@rosat.mpe-garching.mpg.de</td>\n",
       "      <td>[]</td>\n",
       "      <td>[(GRB)]</td>\n",
       "      <td>{}</td>\n",
       "      <td>{grb}</td>\n",
       "    </tr>\n",
       "    <tr>\n",
       "      <th>6_atel</th>\n",
       "      <td>GRB980109 field was observed by the OGLE colla...</td>\n",
       "      <td>GRB980109</td>\n",
       "      <td>1998-01-18</td>\n",
       "      <td>rutledge@rosat.mpe-garching.mpg.de</td>\n",
       "      <td>[]</td>\n",
       "      <td>[(OGLE)]</td>\n",
       "      <td>{ogle}</td>\n",
       "      <td>{}</td>\n",
       "    </tr>\n",
       "  </tbody>\n",
       "</table>\n",
       "</div>"
      ],
      "text/plain": [
       "                                                             body  \\\n",
       "telegram_index                                                      \n",
       "3_atel          In addendum of ATEL #2: Additional Information...   \n",
       "2_atel          The following message was emailed to me this e...   \n",
       "4_atel          The recent detection of delayed Gamma ray burs...   \n",
       "5_atel          The optical transient (IAUC # 6788 ) of GRB 97...   \n",
       "6_atel          GRB980109 field was observed by the OGLE colla...   \n",
       "\n",
       "                                                          subject        date  \\\n",
       "telegram_index                                                                  \n",
       "3_atel                          Improved Coordinates for GB971227  1997-12-28   \n",
       "2_atel                                                   GB971227  1997-12-28   \n",
       "4_atel          The Probable Connection Between Relativistic S...  1998-01-06   \n",
       "5_atel                                                 GRB 971214  1998-01-12   \n",
       "6_atel                                                  GRB980109  1998-01-18   \n",
       "\n",
       "                                              from refs  \\\n",
       "telegram_index                                            \n",
       "3_atel          rutledge@rosat.mpe-garching.mpg.de   []   \n",
       "2_atel          rutledge@rosat.mpe-garching.mpg.de   []   \n",
       "4_atel          rutledge@rosat.mpe-garching.mpg.de   []   \n",
       "5_atel          rutledge@rosat.mpe-garching.mpg.de   []   \n",
       "6_atel          rutledge@rosat.mpe-garching.mpg.de   []   \n",
       "\n",
       "                                                         ner_ents  \\\n",
       "telegram_index                                                      \n",
       "3_atel          [(Gamma), (BeppoSAX), (BeppoSAX), (BeppoSAX), ...   \n",
       "2_atel                [(GRB), (BeppoSAX), (BeppoSAX), (BeppoSAX)]   \n",
       "4_atel          [(Gamma), (GRB), (Goodman), (Gamma), (gamma), ...   \n",
       "5_atel                                                    [(GRB)]   \n",
       "6_atel                                                   [(OGLE)]   \n",
       "\n",
       "                                      ner_telescope ner_source  \n",
       "telegram_index                                                  \n",
       "3_atel                            {gamma, bepposax}         {}  \n",
       "2_atel                                   {bepposax}      {grb}  \n",
       "4_atel          {fermi, fast, most, goodman, gamma}      {grb}  \n",
       "5_atel                                           {}      {grb}  \n",
       "6_atel                                       {ogle}         {}  "
      ]
     },
     "execution_count": 113,
     "metadata": {},
     "output_type": "execute_result"
    }
   ],
   "source": [
    "df.head()"
   ]
  },
  {
   "cell_type": "code",
   "execution_count": 244,
   "id": "9e0aadcc-683e-4cce-b8e5-daa1a55e8bad",
   "metadata": {},
   "outputs": [
    {
     "data": {
      "text/html": [
       "<div>\n",
       "<style scoped>\n",
       "    .dataframe tbody tr th:only-of-type {\n",
       "        vertical-align: middle;\n",
       "    }\n",
       "\n",
       "    .dataframe tbody tr th {\n",
       "        vertical-align: top;\n",
       "    }\n",
       "\n",
       "    .dataframe thead th {\n",
       "        text-align: right;\n",
       "    }\n",
       "</style>\n",
       "<table border=\"1\" class=\"dataframe\">\n",
       "  <thead>\n",
       "    <tr style=\"text-align: right;\">\n",
       "      <th></th>\n",
       "      <th>body</th>\n",
       "      <th>subject</th>\n",
       "      <th>date</th>\n",
       "      <th>from</th>\n",
       "      <th>refs</th>\n",
       "      <th>ner_ents</th>\n",
       "      <th>ner_telescope</th>\n",
       "      <th>ner_source</th>\n",
       "    </tr>\n",
       "    <tr>\n",
       "      <th>telegram_index</th>\n",
       "      <th></th>\n",
       "      <th></th>\n",
       "      <th></th>\n",
       "      <th></th>\n",
       "      <th></th>\n",
       "      <th></th>\n",
       "      <th></th>\n",
       "      <th></th>\n",
       "    </tr>\n",
       "  </thead>\n",
       "  <tbody>\n",
       "    <tr>\n",
       "      <th>16033_atel</th>\n",
       "      <td>The Large Area Telescope (LAT), one of the two...</td>\n",
       "      <td>Fermi LAT detection of increasing gamma-ray ac...</td>\n",
       "      <td>2023-05-10</td>\n",
       "      <td>federica.giacchino@roma2.infn.it</td>\n",
       "      <td>['2980_atel', '2966_atel']</td>\n",
       "      <td>[(Fermi), (Gamma), (gamma), (radio, source), (...</td>\n",
       "      <td>{gamma, fermi}</td>\n",
       "      <td>{radio source, blazar}</td>\n",
       "    </tr>\n",
       "    <tr>\n",
       "      <th>16034_atel</th>\n",
       "      <td>We report the following classification from a ...</td>\n",
       "      <td>Spectroscopic Classification of an optical tra...</td>\n",
       "      <td>2023-05-12</td>\n",
       "      <td>crojasbr@ucsc.edu</td>\n",
       "      <td>[]</td>\n",
       "      <td>[(Lick), (Shane, telescope), (ATLAS), (galaxy)...</td>\n",
       "      <td>{shane telescope, lick, atlas}</td>\n",
       "      <td>{galaxy, supernova}</td>\n",
       "    </tr>\n",
       "    <tr>\n",
       "      <th>16035_atel</th>\n",
       "      <td>The Large Area Telescope (LAT), one of the two...</td>\n",
       "      <td>Fermi-LAT detection of enhanced gamma-ray acti...</td>\n",
       "      <td>2023-05-12</td>\n",
       "      <td>Denis.bernard@in2p3.fr</td>\n",
       "      <td>[]</td>\n",
       "      <td>[(Fermi), (Gamma), (gamma), (quasar), (Fermi),...</td>\n",
       "      <td>{gamma, fermi}</td>\n",
       "      <td>{quasar}</td>\n",
       "    </tr>\n",
       "    <tr>\n",
       "      <th>16036_atel</th>\n",
       "      <td>Our spectroscopic monitoring of the developmen...</td>\n",
       "      <td>Continued spectroscopic monitoring of V1716 Sc...</td>\n",
       "      <td>2023-05-12</td>\n",
       "      <td>shore@df.unipi.it</td>\n",
       "      <td>['16019_atel', '16018_atel', '16007_atel', '16...</td>\n",
       "      <td>[(most), (Most)]</td>\n",
       "      <td>{most}</td>\n",
       "      <td>{}</td>\n",
       "    </tr>\n",
       "    <tr>\n",
       "      <th>16037_atel</th>\n",
       "      <td>We report pre-discovery detection of AT 2023hr...</td>\n",
       "      <td>Pre-discovery detection of AT 2023hrq, a super...</td>\n",
       "      <td>2023-05-14</td>\n",
       "      <td>vinko@astro.as.utexas.edu</td>\n",
       "      <td>[]</td>\n",
       "      <td>[(Pan), (galaxy), (Pan), (ATLAS), (supernova),...</td>\n",
       "      <td>{atlas}</td>\n",
       "      <td>{pan, galaxy, supernova}</td>\n",
       "    </tr>\n",
       "  </tbody>\n",
       "</table>\n",
       "</div>"
      ],
      "text/plain": [
       "                                                             body  \\\n",
       "telegram_index                                                      \n",
       "16033_atel      The Large Area Telescope (LAT), one of the two...   \n",
       "16034_atel      We report the following classification from a ...   \n",
       "16035_atel      The Large Area Telescope (LAT), one of the two...   \n",
       "16036_atel      Our spectroscopic monitoring of the developmen...   \n",
       "16037_atel      We report pre-discovery detection of AT 2023hr...   \n",
       "\n",
       "                                                          subject        date  \\\n",
       "telegram_index                                                                  \n",
       "16033_atel      Fermi LAT detection of increasing gamma-ray ac...  2023-05-10   \n",
       "16034_atel      Spectroscopic Classification of an optical tra...  2023-05-12   \n",
       "16035_atel      Fermi-LAT detection of enhanced gamma-ray acti...  2023-05-12   \n",
       "16036_atel      Continued spectroscopic monitoring of V1716 Sc...  2023-05-12   \n",
       "16037_atel      Pre-discovery detection of AT 2023hrq, a super...  2023-05-14   \n",
       "\n",
       "                                            from  \\\n",
       "telegram_index                                     \n",
       "16033_atel      federica.giacchino@roma2.infn.it   \n",
       "16034_atel                     crojasbr@ucsc.edu   \n",
       "16035_atel                Denis.bernard@in2p3.fr   \n",
       "16036_atel                     shore@df.unipi.it   \n",
       "16037_atel             vinko@astro.as.utexas.edu   \n",
       "\n",
       "                                                             refs  \\\n",
       "telegram_index                                                      \n",
       "16033_atel                             ['2980_atel', '2966_atel']   \n",
       "16034_atel                                                     []   \n",
       "16035_atel                                                     []   \n",
       "16036_atel      ['16019_atel', '16018_atel', '16007_atel', '16...   \n",
       "16037_atel                                                     []   \n",
       "\n",
       "                                                         ner_ents  \\\n",
       "telegram_index                                                      \n",
       "16033_atel      [(Fermi), (Gamma), (gamma), (radio, source), (...   \n",
       "16034_atel      [(Lick), (Shane, telescope), (ATLAS), (galaxy)...   \n",
       "16035_atel      [(Fermi), (Gamma), (gamma), (quasar), (Fermi),...   \n",
       "16036_atel                                       [(most), (Most)]   \n",
       "16037_atel      [(Pan), (galaxy), (Pan), (ATLAS), (supernova),...   \n",
       "\n",
       "                                 ner_telescope                ner_source  \n",
       "telegram_index                                                            \n",
       "16033_atel                      {gamma, fermi}    {radio source, blazar}  \n",
       "16034_atel      {shane telescope, lick, atlas}       {galaxy, supernova}  \n",
       "16035_atel                      {gamma, fermi}                  {quasar}  \n",
       "16036_atel                              {most}                        {}  \n",
       "16037_atel                             {atlas}  {pan, galaxy, supernova}  "
      ]
     },
     "execution_count": 244,
     "metadata": {},
     "output_type": "execute_result"
    }
   ],
   "source": [
    "df.tail()"
   ]
  },
  {
   "cell_type": "code",
   "execution_count": 245,
   "id": "e99da8a8-5f64-4198-8bfc-0025395ae88d",
   "metadata": {},
   "outputs": [],
   "source": [
    "# load all ents found with RB approach and get entities from the spans"
   ]
  },
  {
   "cell_type": "code",
   "execution_count": 246,
   "id": "ff3f3c41-b39b-4603-9f30-a64be77d5b89",
   "metadata": {},
   "outputs": [
    {
     "data": {
      "text/html": [
       "<div>\n",
       "<style scoped>\n",
       "    .dataframe tbody tr th:only-of-type {\n",
       "        vertical-align: middle;\n",
       "    }\n",
       "\n",
       "    .dataframe tbody tr th {\n",
       "        vertical-align: top;\n",
       "    }\n",
       "\n",
       "    .dataframe thead th {\n",
       "        text-align: right;\n",
       "    }\n",
       "</style>\n",
       "<table border=\"1\" class=\"dataframe\">\n",
       "  <thead>\n",
       "    <tr style=\"text-align: right;\">\n",
       "      <th></th>\n",
       "      <th>body</th>\n",
       "      <th>ner_spans</th>\n",
       "    </tr>\n",
       "    <tr>\n",
       "      <th>telegram_index</th>\n",
       "      <th></th>\n",
       "      <th></th>\n",
       "    </tr>\n",
       "  </thead>\n",
       "  <tbody>\n",
       "    <tr>\n",
       "      <th>3_atel</th>\n",
       "      <td>In addendum of ATEL #2: Additional Information...</td>\n",
       "      <td>[(113, 118, 'TELESCOPE'), (249, 257, 'TELESCOP...</td>\n",
       "    </tr>\n",
       "    <tr>\n",
       "      <th>2_atel</th>\n",
       "      <td>The following message was emailed to me this e...</td>\n",
       "      <td>[(144, 147, 'SOURCE'), (203, 211, 'TELESCOPE')...</td>\n",
       "    </tr>\n",
       "    <tr>\n",
       "      <th>4_atel</th>\n",
       "      <td>The recent detection of delayed Gamma ray burs...</td>\n",
       "      <td>[(32, 37, 'TELESCOPE'), (49, 52, 'SOURCE'), (2...</td>\n",
       "    </tr>\n",
       "    <tr>\n",
       "      <th>5_atel</th>\n",
       "      <td>The optical transient (IAUC # 6788 ) of GRB 97...</td>\n",
       "      <td>[(40, 43, 'SOURCE'), (40, 50, 'SOURCE')]</td>\n",
       "    </tr>\n",
       "    <tr>\n",
       "      <th>6_atel</th>\n",
       "      <td>GRB980109 field was observed by the OGLE colla...</td>\n",
       "      <td>[(0, 9, 'SOURCE'), (36, 40, 'TELESCOPE')]</td>\n",
       "    </tr>\n",
       "  </tbody>\n",
       "</table>\n",
       "</div>"
      ],
      "text/plain": [
       "                                                             body  \\\n",
       "telegram_index                                                      \n",
       "3_atel          In addendum of ATEL #2: Additional Information...   \n",
       "2_atel          The following message was emailed to me this e...   \n",
       "4_atel          The recent detection of delayed Gamma ray burs...   \n",
       "5_atel          The optical transient (IAUC # 6788 ) of GRB 97...   \n",
       "6_atel          GRB980109 field was observed by the OGLE colla...   \n",
       "\n",
       "                                                        ner_spans  \n",
       "telegram_index                                                     \n",
       "3_atel          [(113, 118, 'TELESCOPE'), (249, 257, 'TELESCOP...  \n",
       "2_atel          [(144, 147, 'SOURCE'), (203, 211, 'TELESCOPE')...  \n",
       "4_atel          [(32, 37, 'TELESCOPE'), (49, 52, 'SOURCE'), (2...  \n",
       "5_atel                   [(40, 43, 'SOURCE'), (40, 50, 'SOURCE')]  \n",
       "6_atel                  [(0, 9, 'SOURCE'), (36, 40, 'TELESCOPE')]  "
      ]
     },
     "execution_count": 246,
     "metadata": {},
     "output_type": "execute_result"
    }
   ],
   "source": [
    "df_rb_ents = pd.read_csv(\"rb_ents.csv\", index_col=0).join(df)[['body', 'ner_spans']]\n",
    "df_rb_ents.head()"
   ]
  },
  {
   "cell_type": "code",
   "execution_count": 247,
   "id": "2735a346-958b-49e2-8961-5224c312c74e",
   "metadata": {},
   "outputs": [],
   "source": [
    "df_rb_ents['ner_spans'] = df_rb_ents['ner_spans'].apply(ast.literal_eval)"
   ]
  },
  {
   "cell_type": "code",
   "execution_count": 248,
   "id": "3884c825-cb34-4457-a6d2-22d874875d02",
   "metadata": {
    "tags": []
   },
   "outputs": [],
   "source": [
    "df_rb_ents['rb_telescope'] = df_rb_ents.apply(lambda x: set([x.body[span_start: span_end].lower() for (span_start, span_end, label )\n",
    "                                                         in x.ner_spans if label=='TELESCOPE']), axis=1)\n",
    "df_rb_ents['rb_source'] = df_rb_ents.apply(lambda x: set([x.body[span_start: span_end].lower() for (span_start, span_end, label) \n",
    "                                                         in x.ner_spans if label=='SOURCE']), axis=1)"
   ]
  },
  {
   "cell_type": "code",
   "execution_count": 249,
   "id": "d0e27a4a-2570-4eeb-b7a7-318c974e4594",
   "metadata": {},
   "outputs": [
    {
     "data": {
      "text/html": [
       "<div>\n",
       "<style scoped>\n",
       "    .dataframe tbody tr th:only-of-type {\n",
       "        vertical-align: middle;\n",
       "    }\n",
       "\n",
       "    .dataframe tbody tr th {\n",
       "        vertical-align: top;\n",
       "    }\n",
       "\n",
       "    .dataframe thead th {\n",
       "        text-align: right;\n",
       "    }\n",
       "</style>\n",
       "<table border=\"1\" class=\"dataframe\">\n",
       "  <thead>\n",
       "    <tr style=\"text-align: right;\">\n",
       "      <th></th>\n",
       "      <th>body</th>\n",
       "      <th>ner_spans</th>\n",
       "      <th>rb_telescope</th>\n",
       "      <th>rb_source</th>\n",
       "    </tr>\n",
       "    <tr>\n",
       "      <th>telegram_index</th>\n",
       "      <th></th>\n",
       "      <th></th>\n",
       "      <th></th>\n",
       "      <th></th>\n",
       "    </tr>\n",
       "  </thead>\n",
       "  <tbody>\n",
       "    <tr>\n",
       "      <th>3_atel</th>\n",
       "      <td>In addendum of ATEL #2: Additional Information...</td>\n",
       "      <td>[(113, 118, TELESCOPE), (249, 257, TELESCOPE),...</td>\n",
       "      <td>{gamma, bepposax}</td>\n",
       "      <td>{}</td>\n",
       "    </tr>\n",
       "    <tr>\n",
       "      <th>2_atel</th>\n",
       "      <td>The following message was emailed to me this e...</td>\n",
       "      <td>[(144, 147, SOURCE), (203, 211, TELESCOPE), (4...</td>\n",
       "      <td>{bepposax}</td>\n",
       "      <td>{grb}</td>\n",
       "    </tr>\n",
       "    <tr>\n",
       "      <th>4_atel</th>\n",
       "      <td>The recent detection of delayed Gamma ray burs...</td>\n",
       "      <td>[(32, 37, TELESCOPE), (49, 52, SOURCE), (290, ...</td>\n",
       "      <td>{fermi, fast, most, goodman, gamma}</td>\n",
       "      <td>{grb}</td>\n",
       "    </tr>\n",
       "    <tr>\n",
       "      <th>5_atel</th>\n",
       "      <td>The optical transient (IAUC # 6788 ) of GRB 97...</td>\n",
       "      <td>[(40, 43, SOURCE), (40, 50, SOURCE)]</td>\n",
       "      <td>{}</td>\n",
       "      <td>{grb, grb 971214}</td>\n",
       "    </tr>\n",
       "    <tr>\n",
       "      <th>6_atel</th>\n",
       "      <td>GRB980109 field was observed by the OGLE colla...</td>\n",
       "      <td>[(0, 9, SOURCE), (36, 40, TELESCOPE)]</td>\n",
       "      <td>{ogle}</td>\n",
       "      <td>{grb980109}</td>\n",
       "    </tr>\n",
       "  </tbody>\n",
       "</table>\n",
       "</div>"
      ],
      "text/plain": [
       "                                                             body  \\\n",
       "telegram_index                                                      \n",
       "3_atel          In addendum of ATEL #2: Additional Information...   \n",
       "2_atel          The following message was emailed to me this e...   \n",
       "4_atel          The recent detection of delayed Gamma ray burs...   \n",
       "5_atel          The optical transient (IAUC # 6788 ) of GRB 97...   \n",
       "6_atel          GRB980109 field was observed by the OGLE colla...   \n",
       "\n",
       "                                                        ner_spans  \\\n",
       "telegram_index                                                      \n",
       "3_atel          [(113, 118, TELESCOPE), (249, 257, TELESCOPE),...   \n",
       "2_atel          [(144, 147, SOURCE), (203, 211, TELESCOPE), (4...   \n",
       "4_atel          [(32, 37, TELESCOPE), (49, 52, SOURCE), (290, ...   \n",
       "5_atel                       [(40, 43, SOURCE), (40, 50, SOURCE)]   \n",
       "6_atel                      [(0, 9, SOURCE), (36, 40, TELESCOPE)]   \n",
       "\n",
       "                                       rb_telescope          rb_source  \n",
       "telegram_index                                                          \n",
       "3_atel                            {gamma, bepposax}                 {}  \n",
       "2_atel                                   {bepposax}              {grb}  \n",
       "4_atel          {fermi, fast, most, goodman, gamma}              {grb}  \n",
       "5_atel                                           {}  {grb, grb 971214}  \n",
       "6_atel                                       {ogle}        {grb980109}  "
      ]
     },
     "execution_count": 249,
     "metadata": {},
     "output_type": "execute_result"
    }
   ],
   "source": [
    "df_rb_ents.head()"
   ]
  },
  {
   "cell_type": "code",
   "execution_count": 250,
   "id": "967d2417-0b0a-459c-9df8-e8a50e5248f5",
   "metadata": {},
   "outputs": [],
   "source": [
    "df_to_compare = df[['ner_telescope', 'ner_source']].join(df_rb_ents[['rb_telescope', 'rb_source']])"
   ]
  },
  {
   "cell_type": "code",
   "execution_count": 251,
   "id": "197da227-9849-4e1e-9b1f-5f4a06d801de",
   "metadata": {},
   "outputs": [
    {
     "data": {
      "text/html": [
       "<div>\n",
       "<style scoped>\n",
       "    .dataframe tbody tr th:only-of-type {\n",
       "        vertical-align: middle;\n",
       "    }\n",
       "\n",
       "    .dataframe tbody tr th {\n",
       "        vertical-align: top;\n",
       "    }\n",
       "\n",
       "    .dataframe thead th {\n",
       "        text-align: right;\n",
       "    }\n",
       "</style>\n",
       "<table border=\"1\" class=\"dataframe\">\n",
       "  <thead>\n",
       "    <tr style=\"text-align: right;\">\n",
       "      <th></th>\n",
       "      <th>ner_telescope</th>\n",
       "      <th>ner_source</th>\n",
       "      <th>rb_telescope</th>\n",
       "      <th>rb_source</th>\n",
       "    </tr>\n",
       "    <tr>\n",
       "      <th>telegram_index</th>\n",
       "      <th></th>\n",
       "      <th></th>\n",
       "      <th></th>\n",
       "      <th></th>\n",
       "    </tr>\n",
       "  </thead>\n",
       "  <tbody>\n",
       "    <tr>\n",
       "      <th>3_atel</th>\n",
       "      <td>{gamma, bepposax}</td>\n",
       "      <td>{}</td>\n",
       "      <td>{gamma, bepposax}</td>\n",
       "      <td>{}</td>\n",
       "    </tr>\n",
       "    <tr>\n",
       "      <th>2_atel</th>\n",
       "      <td>{bepposax}</td>\n",
       "      <td>{grb}</td>\n",
       "      <td>{bepposax}</td>\n",
       "      <td>{grb}</td>\n",
       "    </tr>\n",
       "    <tr>\n",
       "      <th>4_atel</th>\n",
       "      <td>{fermi, fast, most, goodman, gamma}</td>\n",
       "      <td>{grb}</td>\n",
       "      <td>{fermi, fast, most, goodman, gamma}</td>\n",
       "      <td>{grb}</td>\n",
       "    </tr>\n",
       "    <tr>\n",
       "      <th>5_atel</th>\n",
       "      <td>{}</td>\n",
       "      <td>{grb}</td>\n",
       "      <td>{}</td>\n",
       "      <td>{grb, grb 971214}</td>\n",
       "    </tr>\n",
       "    <tr>\n",
       "      <th>6_atel</th>\n",
       "      <td>{ogle}</td>\n",
       "      <td>{}</td>\n",
       "      <td>{ogle}</td>\n",
       "      <td>{grb980109}</td>\n",
       "    </tr>\n",
       "    <tr>\n",
       "      <th>...</th>\n",
       "      <td>...</td>\n",
       "      <td>...</td>\n",
       "      <td>...</td>\n",
       "      <td>...</td>\n",
       "    </tr>\n",
       "    <tr>\n",
       "      <th>16033_atel</th>\n",
       "      <td>{gamma, fermi}</td>\n",
       "      <td>{radio source, blazar}</td>\n",
       "      <td>{gamma, fermi}</td>\n",
       "      <td>{radio source, blazar}</td>\n",
       "    </tr>\n",
       "    <tr>\n",
       "      <th>16034_atel</th>\n",
       "      <td>{shane telescope, lick, atlas}</td>\n",
       "      <td>{galaxy, supernova}</td>\n",
       "      <td>{shane telescope, lick}</td>\n",
       "      <td>{galaxy, supernova, atlas}</td>\n",
       "    </tr>\n",
       "    <tr>\n",
       "      <th>16035_atel</th>\n",
       "      <td>{gamma, fermi}</td>\n",
       "      <td>{quasar}</td>\n",
       "      <td>{gamma, fermi}</td>\n",
       "      <td>{quasar}</td>\n",
       "    </tr>\n",
       "    <tr>\n",
       "      <th>16036_atel</th>\n",
       "      <td>{most}</td>\n",
       "      <td>{}</td>\n",
       "      <td>{most}</td>\n",
       "      <td>{}</td>\n",
       "    </tr>\n",
       "    <tr>\n",
       "      <th>16037_atel</th>\n",
       "      <td>{atlas}</td>\n",
       "      <td>{pan, galaxy, supernova}</td>\n",
       "      <td>{}</td>\n",
       "      <td>{pan, galaxy, supernova, atlas}</td>\n",
       "    </tr>\n",
       "  </tbody>\n",
       "</table>\n",
       "<p>48279 rows × 4 columns</p>\n",
       "</div>"
      ],
      "text/plain": [
       "                                      ner_telescope                ner_source  \\\n",
       "telegram_index                                                                  \n",
       "3_atel                            {gamma, bepposax}                        {}   \n",
       "2_atel                                   {bepposax}                     {grb}   \n",
       "4_atel          {fermi, fast, most, goodman, gamma}                     {grb}   \n",
       "5_atel                                           {}                     {grb}   \n",
       "6_atel                                       {ogle}                        {}   \n",
       "...                                             ...                       ...   \n",
       "16033_atel                           {gamma, fermi}    {radio source, blazar}   \n",
       "16034_atel           {shane telescope, lick, atlas}       {galaxy, supernova}   \n",
       "16035_atel                           {gamma, fermi}                  {quasar}   \n",
       "16036_atel                                   {most}                        {}   \n",
       "16037_atel                                  {atlas}  {pan, galaxy, supernova}   \n",
       "\n",
       "                                       rb_telescope  \\\n",
       "telegram_index                                        \n",
       "3_atel                            {gamma, bepposax}   \n",
       "2_atel                                   {bepposax}   \n",
       "4_atel          {fermi, fast, most, goodman, gamma}   \n",
       "5_atel                                           {}   \n",
       "6_atel                                       {ogle}   \n",
       "...                                             ...   \n",
       "16033_atel                           {gamma, fermi}   \n",
       "16034_atel                  {shane telescope, lick}   \n",
       "16035_atel                           {gamma, fermi}   \n",
       "16036_atel                                   {most}   \n",
       "16037_atel                                       {}   \n",
       "\n",
       "                                      rb_source  \n",
       "telegram_index                                   \n",
       "3_atel                                       {}  \n",
       "2_atel                                    {grb}  \n",
       "4_atel                                    {grb}  \n",
       "5_atel                        {grb, grb 971214}  \n",
       "6_atel                              {grb980109}  \n",
       "...                                         ...  \n",
       "16033_atel               {radio source, blazar}  \n",
       "16034_atel           {galaxy, supernova, atlas}  \n",
       "16035_atel                             {quasar}  \n",
       "16036_atel                                   {}  \n",
       "16037_atel      {pan, galaxy, supernova, atlas}  \n",
       "\n",
       "[48279 rows x 4 columns]"
      ]
     },
     "execution_count": 251,
     "metadata": {},
     "output_type": "execute_result"
    }
   ],
   "source": [
    "df_to_compare"
   ]
  },
  {
   "cell_type": "code",
   "execution_count": 252,
   "id": "d842e406-cee3-4e22-8ac5-7fde1fcc3164",
   "metadata": {},
   "outputs": [],
   "source": [
    "df_to_compare['t_not_found_by_ner'] = df_to_compare.apply(lambda x: x.rb_telescope.difference(x.ner_telescope), axis=1)\n",
    "df_to_compare['t_not_found_by_rb'] = df_to_compare.apply(lambda x: x.ner_telescope.difference(x.rb_telescope), axis=1)\n",
    "\n",
    "df_to_compare['s_not_found_by_ner'] = df_to_compare.apply(lambda x: x.rb_source.difference(x.ner_source), axis=1)\n",
    "df_to_compare['s_not_found_by_rb'] = df_to_compare.apply(lambda x: x.ner_source.difference(x.rb_source), axis=1)"
   ]
  },
  {
   "cell_type": "code",
   "execution_count": 255,
   "id": "32e6ddb3-9453-430e-9d73-de92c78f25f0",
   "metadata": {},
   "outputs": [
    {
     "data": {
      "text/plain": [
       "(131, 101)"
      ]
     },
     "execution_count": 255,
     "metadata": {},
     "output_type": "execute_result"
    }
   ],
   "source": [
    "len(set(df_to_compare.explode('t_not_found_by_ner')['t_not_found_by_ner'].tolist())), len(set(df_to_compare.explode('t_not_found_by_rb')['t_not_found_by_rb'].tolist()))"
   ]
  },
  {
   "cell_type": "code",
   "execution_count": 256,
   "id": "4313b5d9-b06b-4bf8-a7fd-ed3aac212904",
   "metadata": {},
   "outputs": [
    {
     "data": {
      "text/plain": [
       "(947, 307)"
      ]
     },
     "execution_count": 256,
     "metadata": {},
     "output_type": "execute_result"
    }
   ],
   "source": [
    "len(set(df_to_compare.explode('s_not_found_by_ner')['s_not_found_by_ner'].tolist())), len(set(df_to_compare.explode('s_not_found_by_rb')['s_not_found_by_rb'].tolist()))"
   ]
  },
  {
   "cell_type": "code",
   "execution_count": 124,
   "id": "1997079c-7181-410f-80a3-4b3e3f3b8431",
   "metadata": {},
   "outputs": [],
   "source": [
    "df_to_compare['t_not_found_by_ner_cnt'] = df_to_compare['t_not_found_by_ner'].apply(len)\n",
    "df_to_compare['t_not_found_by_rb_cnt'] = df_to_compare['t_not_found_by_rb'].apply(len)\n",
    "\n",
    "df_to_compare['s_not_found_by_ner_cnt'] = df_to_compare['s_not_found_by_ner'].apply(len)\n",
    "df_to_compare['s_not_found_by_rb_cnt'] = df_to_compare['s_not_found_by_rb'].apply(len)"
   ]
  },
  {
   "cell_type": "code",
   "execution_count": 132,
   "id": "72c5453d-2a80-42ef-93b0-2e7b437e4330",
   "metadata": {},
   "outputs": [
    {
     "data": {
      "text/plain": [
       "(3962, 442)"
      ]
     },
     "execution_count": 132,
     "metadata": {},
     "output_type": "execute_result"
    }
   ],
   "source": [
    "df_to_compare.t_not_found_by_ner_cnt.sum(), df_to_compare.t_not_found_by_rb_cnt.sum()"
   ]
  },
  {
   "cell_type": "code",
   "execution_count": 133,
   "id": "27394b2f-a105-4b53-8b8a-ecd7aae74faa",
   "metadata": {},
   "outputs": [
    {
     "data": {
      "text/plain": [
       "(3692, 654)"
      ]
     },
     "execution_count": 133,
     "metadata": {},
     "output_type": "execute_result"
    }
   ],
   "source": [
    "df_to_compare['s_not_found_by_ner_cnt'].sum(), df_to_compare['s_not_found_by_rb_cnt'].sum()"
   ]
  },
  {
   "cell_type": "code",
   "execution_count": 139,
   "id": "83ffc410-3186-4d88-8ac2-4a5834ad629d",
   "metadata": {},
   "outputs": [
    {
     "data": {
      "text/plain": [
       "(70163, 73683)"
      ]
     },
     "execution_count": 139,
     "metadata": {},
     "output_type": "execute_result"
    }
   ],
   "source": [
    "df_to_compare.ner_telescope.apply(len).sum(), df_to_compare.rb_telescope.apply(len).sum()"
   ]
  },
  {
   "cell_type": "code",
   "execution_count": 140,
   "id": "47769b84-897d-44a7-ab9d-7fade8a2b655",
   "metadata": {},
   "outputs": [
    {
     "data": {
      "text/plain": [
       "(71782, 74820)"
      ]
     },
     "execution_count": 140,
     "metadata": {},
     "output_type": "execute_result"
    }
   ],
   "source": [
    "df_to_compare.ner_source.apply(len).sum(), df_to_compare.rb_source.apply(len).sum()"
   ]
  },
  {
   "cell_type": "code",
   "execution_count": 143,
   "id": "7df5b59f-2911-43f9-952f-2c16b522ca84",
   "metadata": {},
   "outputs": [
    {
     "data": {
      "text/plain": [
       "gamma                        2880\n",
       "swift                         136\n",
       "hubble                        135\n",
       "hale                          131\n",
       "chandra x-ray observatory     121\n",
       "                             ... \n",
       "einstein observatory            1\n",
       "osn 1.5m                        1\n",
       "flwo 1.5m tillinghast           1\n",
       "hubble space telescope          1\n",
       "pansstarrs                      1\n",
       "Name: t_not_found_by_ner, Length: 130, dtype: int64"
      ]
     },
     "execution_count": 143,
     "metadata": {},
     "output_type": "execute_result"
    }
   ],
   "source": [
    "df_to_compare['t_not_found_by_ner'].explode().value_counts()"
   ]
  },
  {
   "cell_type": "code",
   "execution_count": 144,
   "id": "0186d6ce-8b76-4d18-b506-e16f60be3940",
   "metadata": {},
   "outputs": [
    {
     "data": {
      "text/plain": [
       "atlas                       246\n",
       "neil gehrels                 20\n",
       "faulkes north                14\n",
       "nasa infrared telescope      11\n",
       "gamma ray telescope           8\n",
       "                           ... \n",
       "~t=70s                        1\n",
       "pulkovo                       1\n",
       "faulkes  telescope north      1\n",
       "idra                          1\n",
       "south array                   1\n",
       "Name: t_not_found_by_rb, Length: 100, dtype: int64"
      ]
     },
     "execution_count": 144,
     "metadata": {},
     "output_type": "execute_result"
    }
   ],
   "source": [
    "df_to_compare['t_not_found_by_rb'].explode().value_counts()"
   ]
  },
  {
   "cell_type": "code",
   "execution_count": 145,
   "id": "34468e83-a883-4590-a968-d0c6bcd69302",
   "metadata": {},
   "outputs": [
    {
     "data": {
      "text/plain": [
       "star            787\n",
       "grb             394\n",
       "atlas           226\n",
       "x-ray binary    141\n",
       "cloud           106\n",
       "               ... \n",
       "at2021lkg         1\n",
       "grb210507.04      1\n",
       "grb210506.78      1\n",
       "at2019wzl         1\n",
       "4u 1626-67        1\n",
       "Name: s_not_found_by_ner, Length: 946, dtype: int64"
      ]
     },
     "execution_count": 145,
     "metadata": {},
     "output_type": "execute_result"
    }
   ],
   "source": [
    "df_to_compare['s_not_found_by_ner'].explode().value_counts()"
   ]
  },
  {
   "cell_type": "code",
   "execution_count": 146,
   "id": "e3bed808-ab3e-408e-b752-f73c9b101e26",
   "metadata": {},
   "outputs": [
    {
     "data": {
      "text/plain": [
       "long burst                38\n",
       "atlas                     28\n",
       "young stellar             26\n",
       "red nova                  22\n",
       "optical nova              18\n",
       "                          ..\n",
       "reddened nova              1\n",
       "at2016jah                  1\n",
       "at2016izg                  1\n",
       "at2016jbc                  1\n",
       "nonastrophysical event     1\n",
       "Name: s_not_found_by_rb, Length: 306, dtype: int64"
      ]
     },
     "execution_count": 146,
     "metadata": {},
     "output_type": "execute_result"
    }
   ],
   "source": [
    "df_to_compare['s_not_found_by_rb'].explode().value_counts()"
   ]
  },
  {
   "cell_type": "markdown",
   "id": "f8810ca6-7841-45c9-a0c6-9f319246212d",
   "metadata": {},
   "source": [
    "### Conclusion: RB approach produces more precise names and captures more entities. I will combine the entities found by both approaches, removing the duplicates and cleaning the suspicious entities (including `gamma` as telescope name)"
   ]
  },
  {
   "cell_type": "code",
   "execution_count": 210,
   "id": "7b28afdf-acf6-4e25-bee4-64c7238c3d87",
   "metadata": {},
   "outputs": [],
   "source": [
    "df_ents = df[['ner_telescope', 'ner_source']].join(df_rb_ents[['rb_telescope', 'rb_source']])"
   ]
  },
  {
   "cell_type": "code",
   "execution_count": 211,
   "id": "ec45ecb8-974c-486f-8795-c7f1efeaf9fc",
   "metadata": {},
   "outputs": [],
   "source": [
    "df_ents['telescope'] = df_ents.apply(lambda x: x.ner_telescope.union(x.rb_telescope), axis=1)\n",
    "df_ents['source'] = df_ents.apply(lambda x: x.ner_source.union(x.rb_source), axis=1)\n",
    "\n",
    "df_ents = df_ents[['telescope', 'source']]"
   ]
  },
  {
   "cell_type": "code",
   "execution_count": 212,
   "id": "39cd6aa8-d145-498b-aaee-c7f43381e05c",
   "metadata": {},
   "outputs": [
    {
     "data": {
      "text/plain": [
       "epessto+                                                                                                                33\n",
       "https://gcn.gsfc.nasa.gov/other/555263883.fermi                                                                          2\n",
       "06/05/2008                                                                                                               1\n",
       "http://gcn.gsfc.nasa.gov/notices_s/610953/ba/                                                                            1\n",
       "ryle (1973, nature                                                                                                       1\n",
       "cecube,                                                                                                                  1\n",
       "https://heasarc.gsfc.nasa.gov/ftp/fermi/data/gbm/triggers/2020/bn201214672/quicklook/glg_lc_medres34_bn201214672.gif     1\n",
       "r=17.96+/0.03                                                                                                            1\n",
       "08:55:46.848,59627.37207,21.234,0.28                                                                                     1\n",
       "Name: telescopes_weird, dtype: int64"
      ]
     },
     "execution_count": 212,
     "metadata": {},
     "output_type": "execute_result"
    }
   ],
   "source": [
    "# these will be thrown out\n",
    "df_ents['telescopes_weird'] = df_ents['telescope'].apply(lambda x: [t for t in x if t != 'gamma' and \n",
    "                                                                    any(i in t for i in ['+', '/', ','])\n",
    "                                                                    or all([i.isnumeric() for i in t])])\n",
    "df_ents['telescopes_weird'].explode().value_counts()"
   ]
  },
  {
   "cell_type": "code",
   "execution_count": 213,
   "id": "7aa435d5-242e-442b-b012-e80f261958f8",
   "metadata": {},
   "outputs": [
    {
     "data": {
      "text/plain": [
       "swift                              18902\n",
       "fermi                               7941\n",
       "gamma                               7176\n",
       "master                              3653\n",
       "integral                            3101\n",
       "                                   ...  \n",
       "james clark maxwell telescope          1\n",
       "ohp 1.93                               1\n",
       "wisep                                  1\n",
       "united states naval observatory        1\n",
       "pansstarrs                             1\n",
       "Name: telescope, Length: 364, dtype: int64"
      ]
     },
     "execution_count": 213,
     "metadata": {},
     "output_type": "execute_result"
    }
   ],
   "source": [
    "df_ents['telescope'] = df_ents['telescope'].apply(lambda x: [t for t in x if t != 'gamma' \n",
    "                                                             and all(not i in t for i in ['+', '/', ','])\n",
    "                                                             or not all([i.isnumeric() for i in t])])\n",
    "df_ents['telescope'] = df_ents['telescope'].apply(lambda x: [y.strip() for y in x])\n",
    "df_ents['telescope'].explode().value_counts()  # 354 unique telescopes"
   ]
  },
  {
   "cell_type": "code",
   "execution_count": 214,
   "id": "ba2769f7-411b-45a1-8c26-827aca16f6c4",
   "metadata": {},
   "outputs": [
    {
     "data": {
      "text/plain": [
       "host?+grb                               1\n",
       "p=12.457+/-0.002                        1\n",
       "09:03:44.446,59630.37760,21.630,0.23    1\n",
       "Name: sources_weird, dtype: int64"
      ]
     },
     "execution_count": 214,
     "metadata": {},
     "output_type": "execute_result"
    }
   ],
   "source": [
    "# these will be thrown out\n",
    "df_ents['sources_weird'] = df_ents['source'].apply(lambda x: [s for s in x if any([i in s for i in ['+', ',']])])\n",
    "df_ents['sources_weird'].explode().value_counts()"
   ]
  },
  {
   "cell_type": "code",
   "execution_count": 215,
   "id": "c5f1c18b-ffbb-4897-b177-5aa4f219bd73",
   "metadata": {},
   "outputs": [
    {
     "data": {
      "text/plain": [
       "grb                       24807\n",
       "total                      6218\n",
       "galaxy                     5669\n",
       "star                       4371\n",
       "supernova                  3636\n",
       "                          ...  \n",
       "at2021iyr                     1\n",
       "at2021hrj                     1\n",
       "at2021jze                     1\n",
       "at2021ita                     1\n",
       "nonastrophysical event        1\n",
       "Name: source, Length: 1725, dtype: int64"
      ]
     },
     "execution_count": 215,
     "metadata": {},
     "output_type": "execute_result"
    }
   ],
   "source": [
    "df_ents['source'] = df_ents['source'].apply(lambda x: [s for s in x if all(not i in s for i in ['+', ','])])\n",
    "df_ents['source'] = df_ents['source'].apply(lambda x: [y.strip() for y in x])\n",
    "df_ents['source'].explode().value_counts()  # 1725 unique sources"
   ]
  },
  {
   "cell_type": "code",
   "execution_count": 218,
   "id": "75660cf7-1d92-45ac-9ad5-b2c3951488c8",
   "metadata": {},
   "outputs": [],
   "source": [
    "df_ents['telescope'] = df_ents['telescope'].apply(lambda x: x if len(x) else ['telescope not found'])\n",
    "df_ents['source'] = df_ents['source'].apply(lambda x: x if len(x) else ['source not found'])"
   ]
  },
  {
   "cell_type": "code",
   "execution_count": 219,
   "id": "b7249989-824f-4c2f-be43-f953c0219f80",
   "metadata": {},
   "outputs": [],
   "source": [
    "df_ents[['telescope', 'source']].to_csv(\"name_entities.csv\", index=True)"
   ]
  }
 ],
 "metadata": {
  "kernelspec": {
   "display_name": "Python 3 (ipykernel)",
   "language": "python",
   "name": "python3"
  },
  "language_info": {
   "codemirror_mode": {
    "name": "ipython",
    "version": 3
   },
   "file_extension": ".py",
   "mimetype": "text/x-python",
   "name": "python",
   "nbconvert_exporter": "python",
   "pygments_lexer": "ipython3",
   "version": "3.9.7"
  }
 },
 "nbformat": 4,
 "nbformat_minor": 5
}
