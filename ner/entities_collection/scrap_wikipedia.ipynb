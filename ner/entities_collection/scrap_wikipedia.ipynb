{
 "cells": [
  {
   "cell_type": "code",
   "execution_count": 277,
   "id": "3f5d17ba-fd22-4327-afe1-9c8305b7d7ab",
   "metadata": {},
   "outputs": [],
   "source": [
    "import re\n",
    "import json\n",
    "import requests\n",
    "import pandas as pd\n",
    "from bs4 import BeautifulSoup"
   ]
  },
  {
   "cell_type": "code",
   "execution_count": 123,
   "id": "f0a140e2-8b53-48ab-8b4c-099fcea73dc4",
   "metadata": {},
   "outputs": [],
   "source": [
    "wiki_domain = \"en.wikipedia.org\"\n",
    "\n",
    "def send_wiki_request(url):\n",
    "    resp = requests.get(f\"https://{wiki_domain}/wiki/{url}\")\n",
    "    return resp"
   ]
  },
  {
   "cell_type": "markdown",
   "id": "64f5af31-f659-4c53-9799-826a0d18a05c",
   "metadata": {
    "tags": []
   },
   "source": [
    "### Parse the list of telescopes available on Wikipedia"
   ]
  },
  {
   "cell_type": "code",
   "execution_count": 139,
   "id": "ba766f52-8c60-4932-8cfe-3165d835561d",
   "metadata": {},
   "outputs": [],
   "source": [
    "list_of_telescopes_url = \"Lists_of_telescopes\""
   ]
  },
  {
   "cell_type": "code",
   "execution_count": 140,
   "id": "599d0bb2-2bba-4164-8c57-bbf87583afc2",
   "metadata": {},
   "outputs": [],
   "source": [
    "resp = send_wiki_request(list_of_telescopes_url)"
   ]
  },
  {
   "cell_type": "code",
   "execution_count": 141,
   "id": "7d1df87c-0dc4-4e0b-969d-fc6b995eada1",
   "metadata": {},
   "outputs": [
    {
     "name": "stdout",
     "output_type": "stream",
     "text": [
      "Lists of telescopes\n"
     ]
    }
   ],
   "source": [
    "soup = BeautifulSoup(resp.content, 'html.parser')\n",
    "\n",
    "title = soup.find(id=\"firstHeading\")\n",
    "print(title.string)"
   ]
  },
  {
   "cell_type": "code",
   "execution_count": 142,
   "id": "888fa165-f89d-4051-8e2b-a7f810506ef3",
   "metadata": {},
   "outputs": [],
   "source": [
    "wiki_telescope_lists = []\n",
    "for a in soup.find_all('a', href=True):\n",
    "    link = a['href']\n",
    "    if link.startswith(\"/wiki/List_of\") and link.endswith(\"telescopes\"):\n",
    "        wiki_telescope_lists.append(link.split('/')[-1])"
   ]
  },
  {
   "cell_type": "code",
   "execution_count": 143,
   "id": "8abfa0ab-8bc0-412b-8232-6bfd8d724901",
   "metadata": {
    "collapsed": true,
    "jupyter": {
     "outputs_hidden": true
    },
    "tags": []
   },
   "outputs": [
    {
     "data": {
      "text/plain": [
       "['List_of_large_optical_telescopes',\n",
       " 'List_of_largest_infrared_telescopes',\n",
       " 'List_of_largest_optical_reflecting_telescopes',\n",
       " 'List_of_largest_optical_refracting_telescopes',\n",
       " 'List_of_optical_telescopes',\n",
       " 'List_of_radio_telescopes',\n",
       " 'List_of_solar_telescopes',\n",
       " 'List_of_space_telescopes',\n",
       " 'List_of_X-ray_space_telescopes',\n",
       " 'List_of_optical_telescopes']"
      ]
     },
     "execution_count": 143,
     "metadata": {},
     "output_type": "execute_result"
    }
   ],
   "source": [
    "wiki_telescope_lists"
   ]
  },
  {
   "cell_type": "code",
   "execution_count": 144,
   "id": "f1ed17e6-99e4-4b2b-8414-fa16e39d5903",
   "metadata": {},
   "outputs": [],
   "source": [
    "def parse_telescope_name(name):\n",
    "    abbreviation = re.findall(r\"(\\(.*\\))\", name)\n",
    "    if abbreviation:\n",
    "        name = name.split(abbreviation[0])[0]\n",
    "    name_itself = name.split('[')[0].split(',')[0]\n",
    "    return name_itself.strip()"
   ]
  },
  {
   "cell_type": "code",
   "execution_count": 254,
   "id": "1f6a58cb-e2f4-4b96-9abc-2e080dbbd322",
   "metadata": {
    "collapsed": true,
    "jupyter": {
     "outputs_hidden": true
    },
    "tags": []
   },
   "outputs": [
    {
     "name": "stdout",
     "output_type": "stream",
     "text": [
      "Processing List_of_large_optical_telescopes page.\n",
      "Processed List_of_large_optical_telescopes page, collected 197 telescopes in total\n",
      "Processing List_of_largest_infrared_telescopes page.\n",
      "Processed List_of_largest_infrared_telescopes page, collected 217 telescopes in total\n",
      "Processing List_of_largest_optical_reflecting_telescopes page.\n",
      "Processed List_of_largest_optical_reflecting_telescopes page, collected 271 telescopes in total\n",
      "Processing List_of_largest_optical_refracting_telescopes page.\n",
      "Processed List_of_largest_optical_refracting_telescopes page, collected 365 telescopes in total\n",
      "Processing List_of_optical_telescopes page.\n",
      "Processed List_of_optical_telescopes page, collected 365 telescopes in total\n",
      "Processing List_of_radio_telescopes page.\n",
      "Processed List_of_radio_telescopes page, collected 536 telescopes in total\n",
      "Processing List_of_solar_telescopes page.\n",
      "Processed List_of_solar_telescopes page, collected 590 telescopes in total\n",
      "Processing List_of_space_telescopes page.\n",
      "Processed List_of_space_telescopes page, collected 724 telescopes in total\n",
      "Processing List_of_X-ray_space_telescopes page.\n",
      "Processed List_of_X-ray_space_telescopes page, collected 787 telescopes in total\n",
      "Processing List_of_optical_telescopes page.\n",
      "Processed List_of_optical_telescopes page, collected 787 telescopes in total\n"
     ]
    }
   ],
   "source": [
    "telescopes = []\n",
    "\n",
    "for wiki_list in wiki_telescope_lists:\n",
    "    print(f'Processing {wiki_list} page.')\n",
    "    \n",
    "    resp = send_wiki_request(wiki_list)\n",
    "    soup = BeautifulSoup(resp.content, 'html.parser')\n",
    "    \n",
    "    found_tables = soup.find_all('table')\n",
    "    pd_tables = pd.read_html(str(found_tables))\n",
    "        \n",
    "    for found_table in pd_tables:\n",
    "\n",
    "        df = pd.DataFrame(found_table)\n",
    "        df_cols = df.columns.tolist()\n",
    "        \n",
    "        name_cols = [col for col in df_cols if 'Name' in str(col)]\n",
    "        if not name_cols or len(name_cols) > 1:\n",
    "            continue\n",
    "        else:  \n",
    "            name_col = name_cols[0]\n",
    "            df['name_parsed'] = df[name_col].apply(parse_telescope_name)\n",
    "            telescopes.extend(df['name_parsed'].values.tolist())\n",
    "            \n",
    "    print(f\"Processed {wiki_list} page, collected {len(telescopes)} telescopes in total\")"
   ]
  },
  {
   "cell_type": "code",
   "execution_count": 255,
   "id": "ef334890-166e-4bf1-bf9a-32cddb099c51",
   "metadata": {},
   "outputs": [
    {
     "data": {
      "text/plain": [
       "717"
      ]
     },
     "execution_count": 255,
     "metadata": {},
     "output_type": "execute_result"
    }
   ],
   "source": [
    "len(set(telescopes))"
   ]
  },
  {
   "cell_type": "markdown",
   "id": "1d637c65-a2b0-446c-a24d-dae9496dfea2",
   "metadata": {},
   "source": [
    "### Parse the list of astronomical objects on Wikipedia (later referenced as 'sources')"
   ]
  },
  {
   "cell_type": "code",
   "execution_count": 247,
   "id": "757fd1ec-51cb-476d-8824-edfd81a66ac1",
   "metadata": {},
   "outputs": [],
   "source": [
    "list_of_objects_url = \"Lists_of_astronomical_objects\""
   ]
  },
  {
   "cell_type": "code",
   "execution_count": 248,
   "id": "c4a7575e-af7b-448a-ae4f-6c17320afe6a",
   "metadata": {},
   "outputs": [],
   "source": [
    "resp = send_wiki_request(list_of_objects_url)"
   ]
  },
  {
   "cell_type": "code",
   "execution_count": 249,
   "id": "1b278826-a049-4ee5-90ea-cce4c9585b79",
   "metadata": {},
   "outputs": [
    {
     "name": "stdout",
     "output_type": "stream",
     "text": [
      "Lists of astronomical objects\n"
     ]
    }
   ],
   "source": [
    "soup = BeautifulSoup(resp.content, 'html.parser')\n",
    "\n",
    "title = soup.find(id=\"firstHeading\")\n",
    "print(title.string)"
   ]
  },
  {
   "cell_type": "code",
   "execution_count": 250,
   "id": "4bb23fda-5395-4a71-bda1-9a2c8bbc8c19",
   "metadata": {},
   "outputs": [],
   "source": [
    "wiki_astro_obj_lists = []\n",
    "for a in soup.find_all('a', href=True):\n",
    "    link = a['href']\n",
    "    if link.endswith(\"astronauts\"):  # This is from a `See Also` list\n",
    "        break\n",
    "    if link.startswith(\"/wiki/List_of\"):\n",
    "        wiki_astro_obj_lists.append(link.split('/')[-1])"
   ]
  },
  {
   "cell_type": "code",
   "execution_count": 251,
   "id": "1fd6fa1e-c1e3-48f5-acf9-5de8641bea1d",
   "metadata": {
    "collapsed": true,
    "jupyter": {
     "outputs_hidden": true
    },
    "tags": []
   },
   "outputs": [
    {
     "data": {
      "text/plain": [
       "['List_of_Solar_System_objects',\n",
       " 'List_of_gravitationally_rounded_objects_of_the_Solar_System',\n",
       " 'List_of_Solar_System_objects_most_distant_from_the_Sun',\n",
       " 'List_of_Solar_System_objects_by_size',\n",
       " 'List_of_natural_satellites',\n",
       " 'List_of_meteor_showers',\n",
       " 'List_of_minor_planets',\n",
       " 'List_of_exceptional_asteroids',\n",
       " 'List_of_minor_planet_moons',\n",
       " 'List_of_damocloids',\n",
       " 'List_of_centaurs_(small_Solar_System_bodies)',\n",
       " 'List_of_trans-Neptunian_objects',\n",
       " 'List_of_unnumbered_minor_planets',\n",
       " 'List_of_possible_dwarf_planets',\n",
       " 'List_of_largest_exoplanets',\n",
       " 'List_of_brown_dwarfs',\n",
       " 'List_of_nearest_stars_and_brown_dwarfs',\n",
       " 'List_of_brightest_stars',\n",
       " 'List_of_hottest_stars',\n",
       " 'List_of_nearest_bright_stars',\n",
       " 'List_of_most_luminous_stars',\n",
       " 'List_of_most_massive_stars',\n",
       " 'List_of_largest_known_stars',\n",
       " 'List_of_smallest_stars',\n",
       " 'List_of_oldest_stars',\n",
       " 'List_of_stars_with_proplyds',\n",
       " 'List_of_variable_stars',\n",
       " 'List_of_semiregular_variable_stars',\n",
       " 'List_of_stars_that_dim_oddly',\n",
       " 'List_of_X-ray_pulsars',\n",
       " 'List_of_brown_dwarfs',\n",
       " 'List_of_supernovae',\n",
       " 'List_of_supernova_remnants',\n",
       " 'List_of_gamma-ray_bursts',\n",
       " 'List_of_white_dwarfs',\n",
       " 'List_of_open_clusters',\n",
       " 'List_of_stellar_streams',\n",
       " 'List_of_nearby_stellar_associations_and_moving_groups',\n",
       " 'List_of_dark_nebulae',\n",
       " 'List_of_diffuse_nebulae',\n",
       " 'List_of_planetary_nebulae',\n",
       " 'List_of_protoplanetary_nebulae',\n",
       " 'List_of_largest_nebulae',\n",
       " 'List_of_galaxies',\n",
       " 'List_of_largest_galaxies',\n",
       " 'List_of_galaxies_with_richest_globular_cluster_systems',\n",
       " 'List_of_nearest_galaxies',\n",
       " 'List_of_galaxies_named_after_people',\n",
       " 'List_of_spiral_galaxies',\n",
       " 'List_of_polar-ring_galaxies',\n",
       " 'List_of_ring_galaxies',\n",
       " 'List_of_quasars',\n",
       " 'List_of_satellite_galaxies_of_the_Milky_Way',\n",
       " 'List_of_Andromeda%27s_satellite_galaxies',\n",
       " 'List_of_Triangulum%27s_suspected_satellite_galaxies',\n",
       " 'List_of_galaxy_groups_and_clusters',\n",
       " 'List_of_Abell_clusters',\n",
       " 'List_of_galaxy_superclusters',\n",
       " 'List_of_galaxy_filaments',\n",
       " 'List_of_black_holes',\n",
       " 'List_of_most_massive_black_holes',\n",
       " 'List_of_nearest_known_black_holes',\n",
       " 'List_of_voids',\n",
       " 'List_of_largest_cosmic_structures#List_of_largest_voids',\n",
       " 'List_of_largest_cosmic_structures',\n",
       " 'List_of_the_most_distant_astronomical_objects',\n",
       " 'List_of_multiplanetary_systems',\n",
       " 'List_of_astronomical_catalogues',\n",
       " 'List_of_Messier_objects',\n",
       " 'List_of_NGC_objects',\n",
       " 'List_of_NGC_objects_(1-1000)',\n",
       " 'List_of_NGC_objects_(1001-2000)',\n",
       " 'List_of_NGC_objects_(2001-3000)',\n",
       " 'List_of_NGC_objects_(3001-4000)',\n",
       " 'List_of_NGC_objects_(4001-5000)',\n",
       " 'List_of_NGC_objects_(5001-6000)',\n",
       " 'List_of_NGC_objects_(6001-7000)',\n",
       " 'List_of_NGC_objects_(7001-7840)']"
      ]
     },
     "execution_count": 251,
     "metadata": {},
     "output_type": "execute_result"
    }
   ],
   "source": [
    "wiki_astro_obj_lists"
   ]
  },
  {
   "cell_type": "code",
   "execution_count": 261,
   "id": "7cff3eb6-9cf5-43e1-8bdf-0be4a4ba719d",
   "metadata": {},
   "outputs": [],
   "source": [
    "def parse_source_name(name):\n",
    "    if name and type(name)==str:\n",
    "        abbreviation = re.findall(r\"(\\(.*\\))\", name)\n",
    "        if abbreviation:\n",
    "            name = name.split(abbreviation[0])[0]\n",
    "        name_itself = name.split('[')[0].split(',')[0]\n",
    "        return name_itself.strip()\n",
    "    else:\n",
    "        return ''"
   ]
  },
  {
   "cell_type": "code",
   "execution_count": 263,
   "id": "96911e1d-9ff9-45f2-b9f7-80641f7291a6",
   "metadata": {
    "collapsed": true,
    "jupyter": {
     "outputs_hidden": true
    },
    "tags": []
   },
   "outputs": [
    {
     "name": "stdout",
     "output_type": "stream",
     "text": [
      "Processing List_of_Solar_System_objects page.\n",
      "Processed List_of_Solar_System_objects page, collected 0 sources overall\n",
      "Processing List_of_gravitationally_rounded_objects_of_the_Solar_System page.\n",
      "Processed List_of_gravitationally_rounded_objects_of_the_Solar_System page, collected 0 sources overall\n",
      "Processing List_of_Solar_System_objects_most_distant_from_the_Sun page.\n",
      "Processed List_of_Solar_System_objects_most_distant_from_the_Sun page, collected 0 sources overall\n",
      "Processing List_of_Solar_System_objects_by_size page.\n",
      "Processed List_of_Solar_System_objects_by_size page, collected 0 sources overall\n",
      "Processing List_of_natural_satellites page.\n",
      "Processed List_of_natural_satellites page, collected 238 sources overall\n",
      "Processing List_of_meteor_showers page.\n",
      "Processed List_of_meteor_showers page, collected 278 sources overall\n",
      "Processing List_of_minor_planets page.\n",
      "Processed List_of_minor_planets page, collected 278 sources overall\n",
      "Processing List_of_exceptional_asteroids page.\n",
      "Processed List_of_exceptional_asteroids page, collected 404 sources overall\n",
      "Processing List_of_minor_planet_moons page.\n",
      "Processed List_of_minor_planet_moons page, collected 404 sources overall\n",
      "Processing List_of_damocloids page.\n",
      "Processed List_of_damocloids page, collected 693 sources overall\n",
      "Processing List_of_centaurs_(small_Solar_System_bodies) page.\n",
      "Processed List_of_centaurs_(small_Solar_System_bodies) page, collected 1620 sources overall\n",
      "Processing List_of_trans-Neptunian_objects page.\n",
      "Processed List_of_trans-Neptunian_objects page, collected 2521 sources overall\n",
      "Processing List_of_unnumbered_minor_planets page.\n",
      "Processed List_of_unnumbered_minor_planets page, collected 2639 sources overall\n",
      "Processing List_of_possible_dwarf_planets page.\n",
      "Processed List_of_possible_dwarf_planets page, collected 2687 sources overall\n",
      "Processing List_of_largest_exoplanets page.\n",
      "Processed List_of_largest_exoplanets page, collected 2687 sources overall\n",
      "Processing List_of_brown_dwarfs page.\n",
      "Processed List_of_brown_dwarfs page, collected 3037 sources overall\n",
      "Processing List_of_nearest_stars_and_brown_dwarfs page.\n",
      "Processed List_of_nearest_stars_and_brown_dwarfs page, collected 3037 sources overall\n",
      "Processing List_of_brightest_stars page.\n",
      "Processed List_of_brightest_stars page, collected 3037 sources overall\n",
      "Processing List_of_hottest_stars page.\n",
      "Processed List_of_hottest_stars page, collected 3079 sources overall\n",
      "Processing List_of_nearest_bright_stars page.\n",
      "Processed List_of_nearest_bright_stars page, collected 3079 sources overall\n",
      "Processing List_of_most_luminous_stars page.\n",
      "Processed List_of_most_luminous_stars page, collected 3367 sources overall\n",
      "Processing List_of_most_massive_stars page.\n",
      "Processed List_of_most_massive_stars page, collected 3635 sources overall\n",
      "Processing List_of_largest_known_stars page.\n",
      "Processed List_of_largest_known_stars page, collected 3763 sources overall\n",
      "Processing List_of_smallest_stars page.\n",
      "Processed List_of_smallest_stars page, collected 3771 sources overall\n",
      "Processing List_of_oldest_stars page.\n",
      "Processed List_of_oldest_stars page, collected 3819 sources overall\n",
      "Processing List_of_stars_with_proplyds page.\n",
      "Processed List_of_stars_with_proplyds page, collected 3832 sources overall\n",
      "Processing List_of_variable_stars page.\n",
      "Processed List_of_variable_stars page, collected 3832 sources overall\n",
      "Processing List_of_semiregular_variable_stars page.\n",
      "Processed List_of_semiregular_variable_stars page, collected 3832 sources overall\n",
      "Processing List_of_stars_that_dim_oddly page.\n",
      "Processed List_of_stars_that_dim_oddly page, collected 3849 sources overall\n",
      "Processing List_of_X-ray_pulsars page.\n",
      "Processed List_of_X-ray_pulsars page, collected 3876 sources overall\n",
      "Processing List_of_brown_dwarfs page.\n",
      "Processed List_of_brown_dwarfs page, collected 4226 sources overall\n",
      "Processing List_of_supernovae page.\n",
      "Processed List_of_supernovae page, collected 4226 sources overall\n",
      "Processing List_of_supernova_remnants page.\n",
      "Processed List_of_supernova_remnants page, collected 4263 sources overall\n",
      "Processing List_of_gamma-ray_bursts page.\n",
      "Processed List_of_gamma-ray_bursts page, collected 4289 sources overall\n",
      "Processing List_of_white_dwarfs page.\n",
      "Processed List_of_white_dwarfs page, collected 4322 sources overall\n",
      "Processing List_of_open_clusters page.\n",
      "Processed List_of_open_clusters page, collected 4322 sources overall\n",
      "Processing List_of_stellar_streams page.\n",
      "Processed List_of_stellar_streams page, collected 4366 sources overall\n",
      "Processing List_of_nearby_stellar_associations_and_moving_groups page.\n",
      "Processed List_of_nearby_stellar_associations_and_moving_groups page, collected 4366 sources overall\n",
      "Processing List_of_dark_nebulae page.\n",
      "Processed List_of_dark_nebulae page, collected 4366 sources overall\n",
      "Processing List_of_diffuse_nebulae page.\n",
      "Processed List_of_diffuse_nebulae page, collected 4366 sources overall\n",
      "Processing List_of_planetary_nebulae page.\n",
      "Processed List_of_planetary_nebulae page, collected 4366 sources overall\n",
      "Processing List_of_protoplanetary_nebulae page.\n",
      "Processed List_of_protoplanetary_nebulae page, collected 4382 sources overall\n",
      "Processing List_of_largest_nebulae page.\n",
      "Processed List_of_largest_nebulae page, collected 4382 sources overall\n",
      "Processing List_of_galaxies page.\n",
      "Processed List_of_galaxies page, collected 4465 sources overall\n",
      "Processing List_of_largest_galaxies page.\n",
      "Processed List_of_largest_galaxies page, collected 4548 sources overall\n",
      "Processing List_of_galaxies_with_richest_globular_cluster_systems page.\n",
      "Processed List_of_galaxies_with_richest_globular_cluster_systems page, collected 4569 sources overall\n",
      "Processing List_of_nearest_galaxies page.\n",
      "Processed List_of_nearest_galaxies page, collected 4792 sources overall\n",
      "Processing List_of_galaxies_named_after_people page.\n",
      "Processed List_of_galaxies_named_after_people page, collected 4792 sources overall\n",
      "Processing List_of_spiral_galaxies page.\n",
      "Processed List_of_spiral_galaxies page, collected 4792 sources overall\n",
      "Processing List_of_polar-ring_galaxies page.\n",
      "Processed List_of_polar-ring_galaxies page, collected 4802 sources overall\n",
      "Processing List_of_ring_galaxies page.\n",
      "Processed List_of_ring_galaxies page, collected 4852 sources overall\n",
      "Processing List_of_quasars page.\n",
      "Processed List_of_quasars page, collected 4852 sources overall\n",
      "Processing List_of_satellite_galaxies_of_the_Milky_Way page.\n",
      "Processed List_of_satellite_galaxies_of_the_Milky_Way page, collected 4916 sources overall\n",
      "Processing List_of_Andromeda%27s_satellite_galaxies page.\n",
      "Processed List_of_Andromeda%27s_satellite_galaxies page, collected 4956 sources overall\n",
      "Processing List_of_Triangulum%27s_suspected_satellite_galaxies page.\n",
      "Processed List_of_Triangulum%27s_suspected_satellite_galaxies page, collected 4961 sources overall\n",
      "Processing List_of_galaxy_groups_and_clusters page.\n",
      "Processed List_of_galaxy_groups_and_clusters page, collected 5050 sources overall\n",
      "Processing List_of_Abell_clusters page.\n",
      "Processed List_of_Abell_clusters page, collected 5146 sources overall\n",
      "Processing List_of_galaxy_superclusters page.\n",
      "Processed List_of_galaxy_superclusters page, collected 5190 sources overall\n",
      "Processing List_of_galaxy_filaments page.\n",
      "Processed List_of_galaxy_filaments page, collected 5191 sources overall\n",
      "Processing List_of_black_holes page.\n",
      "Processed List_of_black_holes page, collected 5191 sources overall\n",
      "Processing List_of_most_massive_black_holes page.\n",
      "Processed List_of_most_massive_black_holes page, collected 5331 sources overall\n",
      "Processing List_of_nearest_known_black_holes page.\n",
      "Processed List_of_nearest_known_black_holes page, collected 5357 sources overall\n",
      "Processing List_of_voids page.\n",
      "Processed List_of_voids page, collected 5405 sources overall\n",
      "Processing List_of_largest_cosmic_structures#List_of_largest_voids page.\n",
      "Processed List_of_largest_cosmic_structures#List_of_largest_voids page, collected 5405 sources overall\n",
      "Processing List_of_largest_cosmic_structures page.\n",
      "Processed List_of_largest_cosmic_structures page, collected 5405 sources overall\n",
      "Processing List_of_the_most_distant_astronomical_objects page.\n",
      "Processed List_of_the_most_distant_astronomical_objects page, collected 5520 sources overall\n",
      "Processing List_of_multiplanetary_systems page.\n",
      "Processed List_of_multiplanetary_systems page, collected 5520 sources overall\n",
      "Processing List_of_astronomical_catalogues page.\n",
      "Processed List_of_astronomical_catalogues page, collected 5520 sources overall\n",
      "Processing List_of_Messier_objects page.\n",
      "Processed List_of_Messier_objects page, collected 5630 sources overall\n",
      "Processing List_of_NGC_objects page.\n",
      "Processed List_of_NGC_objects page, collected 5718 sources overall\n",
      "Processing List_of_NGC_objects_(1-1000) page.\n",
      "Processed List_of_NGC_objects_(1-1000) page, collected 6718 sources overall\n",
      "Processing List_of_NGC_objects_(1001-2000) page.\n",
      "Processed List_of_NGC_objects_(1001-2000) page, collected 7721 sources overall\n",
      "Processing List_of_NGC_objects_(2001-3000) page.\n",
      "Processed List_of_NGC_objects_(2001-3000) page, collected 8050 sources overall\n",
      "Processing List_of_NGC_objects_(3001-4000) page.\n",
      "Processed List_of_NGC_objects_(3001-4000) page, collected 8154 sources overall\n",
      "Processing List_of_NGC_objects_(4001-5000) page.\n",
      "Processed List_of_NGC_objects_(4001-5000) page, collected 8263 sources overall\n",
      "Processing List_of_NGC_objects_(5001-6000) page.\n",
      "Processed List_of_NGC_objects_(5001-6000) page, collected 8379 sources overall\n",
      "Processing List_of_NGC_objects_(6001-7000) page.\n",
      "Processed List_of_NGC_objects_(6001-7000) page, collected 8594 sources overall\n",
      "Processing List_of_NGC_objects_(7001-7840) page.\n",
      "Processed List_of_NGC_objects_(7001-7840) page, collected 8899 sources overall\n"
     ]
    }
   ],
   "source": [
    "sources = []\n",
    "\n",
    "for wiki_list in wiki_astro_obj_lists:\n",
    "    print(f'Processing {wiki_list} page.')\n",
    "    \n",
    "    resp = send_wiki_request(wiki_list)\n",
    "    soup = BeautifulSoup(resp.content, 'html.parser')\n",
    "    \n",
    "    found_tables = soup.find_all('table')\n",
    "    pd_tables = pd.read_html(str(found_tables)) if found_tables else []\n",
    "        \n",
    "    for found_table in pd_tables:\n",
    "\n",
    "        df = pd.DataFrame(found_table)\n",
    "        df_cols = df.columns.tolist()\n",
    "        \n",
    "        name_cols = []\n",
    "        for col in df_cols:\n",
    "            if ('Name' in str(col) or 'Designation' in str(col) or 'Star' in str(col) \n",
    "                or 'binaries' in str(col) or 'binary systems' in str(col) or 'Burst' in str(col)\n",
    "               or 'Constellation' in str(col) or 'Cluster' in str(col) or 'Galaxy' in str(col)):\n",
    "                name_cols.append(col)\n",
    "        \n",
    "        if not name_cols or len(name_cols) > 1:\n",
    "            continue\n",
    "        else:  \n",
    "            name_col = name_cols[0]\n",
    "            df['name_parsed'] = df[name_col].apply(parse_source_name)\n",
    "            sources.extend(df['name_parsed'].values.tolist())\n",
    "            \n",
    "    print(f\"Processed {wiki_list} page, collected {len(sources)} sources overall\")"
   ]
  },
  {
   "cell_type": "code",
   "execution_count": 264,
   "id": "599cb9c4-3960-4a38-a541-280ec3f7759d",
   "metadata": {},
   "outputs": [
    {
     "data": {
      "text/plain": [
       "3070"
      ]
     },
     "execution_count": 264,
     "metadata": {},
     "output_type": "execute_result"
    }
   ],
   "source": [
    "len(set(sources))"
   ]
  },
  {
   "cell_type": "markdown",
   "id": "4ffcce1d-4226-47d3-95ef-20b9d29bcf08",
   "metadata": {},
   "source": [
    "### Save the values in jsonl spacy-friendly format"
   ]
  },
  {
   "cell_type": "code",
   "execution_count": 276,
   "id": "bf9948fa-1fbe-4f8e-b216-7ed4a4342fd9",
   "metadata": {},
   "outputs": [],
   "source": [
    "telescopes = list(set([t for t in telescopes if t]))\n",
    "sources = list(set([s for s in sources if s]))"
   ]
  },
  {
   "cell_type": "code",
   "execution_count": 278,
   "id": "d64084d7-4ed2-4f09-859b-15f9272a6b0c",
   "metadata": {},
   "outputs": [],
   "source": [
    "with open('patterns_found.jsonl', 'w') as f:\n",
    "    for source in sources:\n",
    "        json_line = {\"label\": \"SOURCE\", \"pattern\": [{\"lower\": source.lower()}]}\n",
    "        f.write(f\"{json.dumps(json_line)}\\n\")\n",
    "        \n",
    "    for telescope in telescopes:\n",
    "        json_line = {\"label\": \"TELESCOPE\", \"pattern\": [{\"lower\": telescope.lower()}]}\n",
    "        f.write(f\"{json.dumps(json_line)}\\n\")"
   ]
  }
 ],
 "metadata": {
  "kernelspec": {
   "display_name": "Python 3 (ipykernel)",
   "language": "python",
   "name": "python3"
  },
  "language_info": {
   "codemirror_mode": {
    "name": "ipython",
    "version": 3
   },
   "file_extension": ".py",
   "mimetype": "text/x-python",
   "name": "python",
   "nbconvert_exporter": "python",
   "pygments_lexer": "ipython3",
   "version": "3.9.7"
  }
 },
 "nbformat": 4,
 "nbformat_minor": 5
}
