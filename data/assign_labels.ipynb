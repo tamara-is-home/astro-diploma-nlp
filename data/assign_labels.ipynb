{
 "cells": [
  {
   "cell_type": "code",
   "execution_count": 53,
   "id": "5b1e961d-4601-4524-ad38-0b80180bb64c",
   "metadata": {},
   "outputs": [],
   "source": [
    "import pandas as pd\n",
    "import numpy as np\n",
    "import matplotlib.pyplot as plt\n",
    "import seaborn as sns\n",
    "import ast"
   ]
  },
  {
   "cell_type": "code",
   "execution_count": 54,
   "id": "b0ec48bf-bb6a-4679-9498-b3d31d7923df",
   "metadata": {},
   "outputs": [],
   "source": [
    "df = pd.read_csv(\"assembled.csv\", index_col=0)\n",
    "df['refs'] = df['refs'].apply(ast.literal_eval)"
   ]
  },
  {
   "cell_type": "code",
   "execution_count": 55,
   "id": "ccab9479-956f-4426-8bec-4c658270dbb6",
   "metadata": {},
   "outputs": [
    {
     "data": {
      "text/html": [
       "<div>\n",
       "<style scoped>\n",
       "    .dataframe tbody tr th:only-of-type {\n",
       "        vertical-align: middle;\n",
       "    }\n",
       "\n",
       "    .dataframe tbody tr th {\n",
       "        vertical-align: top;\n",
       "    }\n",
       "\n",
       "    .dataframe thead th {\n",
       "        text-align: right;\n",
       "    }\n",
       "</style>\n",
       "<table border=\"1\" class=\"dataframe\">\n",
       "  <thead>\n",
       "    <tr style=\"text-align: right;\">\n",
       "      <th></th>\n",
       "      <th>body</th>\n",
       "      <th>subject</th>\n",
       "      <th>date</th>\n",
       "      <th>from</th>\n",
       "      <th>refs</th>\n",
       "    </tr>\n",
       "    <tr>\n",
       "      <th>telegram_index</th>\n",
       "      <th></th>\n",
       "      <th></th>\n",
       "      <th></th>\n",
       "      <th></th>\n",
       "      <th></th>\n",
       "    </tr>\n",
       "  </thead>\n",
       "  <tbody>\n",
       "    <tr>\n",
       "      <th>3_atel</th>\n",
       "      <td>In addendum of ATEL #2: Additional Information...</td>\n",
       "      <td>Improved Coordinates for GB971227</td>\n",
       "      <td>1997-12-28</td>\n",
       "      <td>rutledge@rosat.mpe-garching.mpg.de</td>\n",
       "      <td>[]</td>\n",
       "    </tr>\n",
       "    <tr>\n",
       "      <th>2_atel</th>\n",
       "      <td>The following message was emailed to me this e...</td>\n",
       "      <td>GB971227</td>\n",
       "      <td>1997-12-28</td>\n",
       "      <td>rutledge@rosat.mpe-garching.mpg.de</td>\n",
       "      <td>[]</td>\n",
       "    </tr>\n",
       "    <tr>\n",
       "      <th>4_atel</th>\n",
       "      <td>The recent detection of delayed Gamma ray burs...</td>\n",
       "      <td>The Probable Connection Between Relativistic S...</td>\n",
       "      <td>1998-01-06</td>\n",
       "      <td>rutledge@rosat.mpe-garching.mpg.de</td>\n",
       "      <td>[]</td>\n",
       "    </tr>\n",
       "    <tr>\n",
       "      <th>5_atel</th>\n",
       "      <td>The optical transient (IAUC # 6788 ) of GRB 97...</td>\n",
       "      <td>GRB 971214</td>\n",
       "      <td>1998-01-12</td>\n",
       "      <td>rutledge@rosat.mpe-garching.mpg.de</td>\n",
       "      <td>[]</td>\n",
       "    </tr>\n",
       "    <tr>\n",
       "      <th>6_atel</th>\n",
       "      <td>GRB980109 field was observed by the OGLE colla...</td>\n",
       "      <td>GRB980109</td>\n",
       "      <td>1998-01-18</td>\n",
       "      <td>rutledge@rosat.mpe-garching.mpg.de</td>\n",
       "      <td>[]</td>\n",
       "    </tr>\n",
       "    <tr>\n",
       "      <th>...</th>\n",
       "      <td>...</td>\n",
       "      <td>...</td>\n",
       "      <td>...</td>\n",
       "      <td>...</td>\n",
       "      <td>...</td>\n",
       "    </tr>\n",
       "    <tr>\n",
       "      <th>16033_atel</th>\n",
       "      <td>The Large Area Telescope (LAT), one of the two...</td>\n",
       "      <td>Fermi LAT detection of increasing gamma-ray ac...</td>\n",
       "      <td>2023-05-10</td>\n",
       "      <td>federica.giacchino@roma2.infn.it</td>\n",
       "      <td>[2980_atel, 2966_atel]</td>\n",
       "    </tr>\n",
       "    <tr>\n",
       "      <th>16034_atel</th>\n",
       "      <td>We report the following classification from a ...</td>\n",
       "      <td>Spectroscopic Classification of an optical tra...</td>\n",
       "      <td>2023-05-12</td>\n",
       "      <td>crojasbr@ucsc.edu</td>\n",
       "      <td>[]</td>\n",
       "    </tr>\n",
       "    <tr>\n",
       "      <th>16035_atel</th>\n",
       "      <td>The Large Area Telescope (LAT), one of the two...</td>\n",
       "      <td>Fermi-LAT detection of enhanced gamma-ray acti...</td>\n",
       "      <td>2023-05-12</td>\n",
       "      <td>Denis.bernard@in2p3.fr</td>\n",
       "      <td>[]</td>\n",
       "    </tr>\n",
       "    <tr>\n",
       "      <th>16036_atel</th>\n",
       "      <td>Our spectroscopic monitoring of the developmen...</td>\n",
       "      <td>Continued spectroscopic monitoring of V1716 Sc...</td>\n",
       "      <td>2023-05-12</td>\n",
       "      <td>shore@df.unipi.it</td>\n",
       "      <td>[16019_atel, 16018_atel, 16007_atel, 16006_ate...</td>\n",
       "    </tr>\n",
       "    <tr>\n",
       "      <th>16037_atel</th>\n",
       "      <td>We report pre-discovery detection of AT 2023hr...</td>\n",
       "      <td>Pre-discovery detection of AT 2023hrq, a super...</td>\n",
       "      <td>2023-05-14</td>\n",
       "      <td>vinko@astro.as.utexas.edu</td>\n",
       "      <td>[]</td>\n",
       "    </tr>\n",
       "  </tbody>\n",
       "</table>\n",
       "<p>48279 rows × 5 columns</p>\n",
       "</div>"
      ],
      "text/plain": [
       "                                                             body  \\\n",
       "telegram_index                                                      \n",
       "3_atel          In addendum of ATEL #2: Additional Information...   \n",
       "2_atel          The following message was emailed to me this e...   \n",
       "4_atel          The recent detection of delayed Gamma ray burs...   \n",
       "5_atel          The optical transient (IAUC # 6788 ) of GRB 97...   \n",
       "6_atel          GRB980109 field was observed by the OGLE colla...   \n",
       "...                                                           ...   \n",
       "16033_atel      The Large Area Telescope (LAT), one of the two...   \n",
       "16034_atel      We report the following classification from a ...   \n",
       "16035_atel      The Large Area Telescope (LAT), one of the two...   \n",
       "16036_atel      Our spectroscopic monitoring of the developmen...   \n",
       "16037_atel      We report pre-discovery detection of AT 2023hr...   \n",
       "\n",
       "                                                          subject        date  \\\n",
       "telegram_index                                                                  \n",
       "3_atel                          Improved Coordinates for GB971227  1997-12-28   \n",
       "2_atel                                                   GB971227  1997-12-28   \n",
       "4_atel          The Probable Connection Between Relativistic S...  1998-01-06   \n",
       "5_atel                                                 GRB 971214  1998-01-12   \n",
       "6_atel                                                  GRB980109  1998-01-18   \n",
       "...                                                           ...         ...   \n",
       "16033_atel      Fermi LAT detection of increasing gamma-ray ac...  2023-05-10   \n",
       "16034_atel      Spectroscopic Classification of an optical tra...  2023-05-12   \n",
       "16035_atel      Fermi-LAT detection of enhanced gamma-ray acti...  2023-05-12   \n",
       "16036_atel      Continued spectroscopic monitoring of V1716 Sc...  2023-05-12   \n",
       "16037_atel      Pre-discovery detection of AT 2023hrq, a super...  2023-05-14   \n",
       "\n",
       "                                              from  \\\n",
       "telegram_index                                       \n",
       "3_atel          rutledge@rosat.mpe-garching.mpg.de   \n",
       "2_atel          rutledge@rosat.mpe-garching.mpg.de   \n",
       "4_atel          rutledge@rosat.mpe-garching.mpg.de   \n",
       "5_atel          rutledge@rosat.mpe-garching.mpg.de   \n",
       "6_atel          rutledge@rosat.mpe-garching.mpg.de   \n",
       "...                                            ...   \n",
       "16033_atel        federica.giacchino@roma2.infn.it   \n",
       "16034_atel                       crojasbr@ucsc.edu   \n",
       "16035_atel                  Denis.bernard@in2p3.fr   \n",
       "16036_atel                       shore@df.unipi.it   \n",
       "16037_atel               vinko@astro.as.utexas.edu   \n",
       "\n",
       "                                                             refs  \n",
       "telegram_index                                                     \n",
       "3_atel                                                         []  \n",
       "2_atel                                                         []  \n",
       "4_atel                                                         []  \n",
       "5_atel                                                         []  \n",
       "6_atel                                                         []  \n",
       "...                                                           ...  \n",
       "16033_atel                                 [2980_atel, 2966_atel]  \n",
       "16034_atel                                                     []  \n",
       "16035_atel                                                     []  \n",
       "16036_atel      [16019_atel, 16018_atel, 16007_atel, 16006_ate...  \n",
       "16037_atel                                                     []  \n",
       "\n",
       "[48279 rows x 5 columns]"
      ]
     },
     "execution_count": 55,
     "metadata": {},
     "output_type": "execute_result"
    }
   ],
   "source": [
    "df"
   ]
  },
  {
   "cell_type": "markdown",
   "id": "49bc03d1-8685-43d6-9f82-a1b6fb9ffe0e",
   "metadata": {},
   "source": [
    "### Clean the self-references"
   ]
  },
  {
   "cell_type": "code",
   "execution_count": 56,
   "id": "056b6d35-283c-4a52-bf87-29d6fc29e05c",
   "metadata": {},
   "outputs": [],
   "source": [
    "no_self_refs = []\n",
    "all_available_telegrams = df.index\n",
    "\n",
    "for i, r in df.iterrows():\n",
    "    this_refs = r.refs.copy()\n",
    "    this_owner = r['from']\n",
    "    for reference in this_refs:\n",
    "        if reference in all_available_telegrams and df.loc[reference]['from'] == this_owner:\n",
    "            this_refs.remove(reference)\n",
    "        else: pass\n",
    "    no_self_refs.append(this_refs)"
   ]
  },
  {
   "cell_type": "code",
   "execution_count": 57,
   "id": "91331ea8-c85e-4202-bf65-a3e0f21f4a67",
   "metadata": {},
   "outputs": [],
   "source": [
    "df['refs_wo_self'] = no_self_refs"
   ]
  },
  {
   "cell_type": "markdown",
   "id": "85630be5-c439-4275-bb96-4bf2c71c90f7",
   "metadata": {},
   "source": [
    "### Calc references for each telegram"
   ]
  },
  {
   "cell_type": "code",
   "execution_count": 58,
   "id": "4c3af3a9-0aa9-481b-b68c-e787014fcc7b",
   "metadata": {},
   "outputs": [],
   "source": [
    "telegram_is_ref_from = {telegram_idx: [] for telegram_idx in df.index.values}\n",
    "\n",
    "for i, r in df.iterrows():\n",
    "    for ref_id in r.refs_wo_self:\n",
    "        if ref_id not in telegram_is_ref_from.keys():\n",
    "            pass\n",
    "        else:\n",
    "            telegram_is_ref_from[ref_id].append(i)"
   ]
  },
  {
   "cell_type": "code",
   "execution_count": 59,
   "id": "a1b4531a-b4a9-4f16-88ae-53e095e8bb76",
   "metadata": {},
   "outputs": [
    {
     "data": {
      "text/plain": [
       "['46_atel', '57_atel']"
      ]
     },
     "execution_count": 59,
     "metadata": {},
     "output_type": "execute_result"
    }
   ],
   "source": [
    "telegram_is_ref_from['8_atel']"
   ]
  },
  {
   "cell_type": "code",
   "execution_count": 60,
   "id": "860608f8-fae5-41f4-b53f-4a04996b340e",
   "metadata": {},
   "outputs": [
    {
     "data": {
      "text/plain": [
       "['32_atel', '9_atel', '8_atel']"
      ]
     },
     "execution_count": 60,
     "metadata": {},
     "output_type": "execute_result"
    }
   ],
   "source": [
    "df.loc['46_atel'].refs"
   ]
  },
  {
   "cell_type": "code",
   "execution_count": 61,
   "id": "213fa955-d0ca-4563-8547-66e3c8497f8d",
   "metadata": {},
   "outputs": [],
   "source": [
    "df['n_cited'] = [len(r) for r in telegram_is_ref_from.values()]"
   ]
  },
  {
   "cell_type": "code",
   "execution_count": 62,
   "id": "826b6e0f-afda-48fd-b424-b4200a24d512",
   "metadata": {},
   "outputs": [
    {
     "data": {
      "text/plain": [
       "2.905031172973757"
      ]
     },
     "execution_count": 62,
     "metadata": {},
     "output_type": "execute_result"
    }
   ],
   "source": [
    "df.n_cited.mean()"
   ]
  },
  {
   "cell_type": "markdown",
   "id": "f06af6ef-312d-4c35-b3ba-b27491cda3fd",
   "metadata": {},
   "source": [
    "### See citations distribution"
   ]
  },
  {
   "cell_type": "code",
   "execution_count": 80,
   "id": "adfd74f0-afb1-4841-9036-51ce6bdae759",
   "metadata": {},
   "outputs": [],
   "source": [
    "median = np.median(df.n_cited)\n",
    "top_25 = np.percentile(df.n_cited.values, 75)\n",
    "top_20 = np.percentile(df.n_cited.values, 80)\n",
    "top_5 = np.percentile(df.n_cited.values, 95)"
   ]
  },
  {
   "cell_type": "code",
   "execution_count": 85,
   "id": "7e596c4e-8ae4-431a-9b9f-7fffce3571db",
   "metadata": {},
   "outputs": [
    {
     "data": {
      "image/png": "[encoded data removed]",
      "text/plain": [
       "<Figure size 1152x864 with 1 Axes>"
      ]
     },
     "metadata": {
      "needs_background": "light"
     },
     "output_type": "display_data"
    }
   ],
   "source": [
    "plt.rcParams[\"figure.figsize\"] = (16,12)\n",
    "plt.hist(df.n_cited.values, bins=40, color='greenyellow')\n",
    "plt.axvline(median, color='green', linestyle='-', label=f'median citation rate: {int(median)}')\n",
    "plt.axvline(np.mean(df.n_cited), color='orange', linestyle='--', label=f'mean citation rate: {round(np.mean(df.n_cited), 2)}')\n",
    "# plt.axvline(top_25, color='blue', linestyle='--', label=f'top 25%: cited in other telegrams at least {int(top_25)} times')\n",
    "plt.axvline(top_20, color='blue', linestyle='--', label=f'top 20%: cited in other telegrams at least {int(top_20)} times')\n",
    "plt.axvline(top_5, color='red', linestyle='--', label=f'top 5%: cited {int(top_5)} times and more')\n",
    "plt.xlabel('N Times Cited')\n",
    "plt.ylabel(\"Number of Telegrams\")\n",
    "plt.legend(loc=\"upper right\")\n",
    "plt.title(\"Citation Distribution Excluding Self-citations\")\n",
    "plt.show()"
   ]
  },
  {
   "cell_type": "markdown",
   "id": "92793731-c3b7-4d76-8f96-0bb66d63a87d",
   "metadata": {},
   "source": [
    "### Assign class labels: \n",
    " `0` for the least interesting (cited less than 3 times)\n",
    " \n",
    " `1` for interesting (cited more than 3 times, up to 14)\n",
    " \n",
    " `2` for very insteresting (14 citations and above)"
   ]
  },
  {
   "cell_type": "code",
   "execution_count": 71,
   "id": "9aaba128-258c-4b0b-8a6f-4661daaaeb29",
   "metadata": {},
   "outputs": [],
   "source": [
    "df['citation_class'] = df.n_cited.apply(lambda x: 0 if x < top_20 else 1 if top_20 <= x < top_5 else 2)"
   ]
  },
  {
   "cell_type": "code",
   "execution_count": 86,
   "id": "e89cd363-6505-4ea1-869f-6b26f1567af5",
   "metadata": {},
   "outputs": [
    {
     "data": {
      "image/png": "[encoded data removed]",
      "text/plain": [
       "<Figure size 576x432 with 1 Axes>"
      ]
     },
     "metadata": {
      "needs_background": "light"
     },
     "output_type": "display_data"
    }
   ],
   "source": [
    "plt.rcParams[\"figure.figsize\"] = (8, 6)\n",
    "plt.hist(df.citation_class.values, bins=7, color='red')\n",
    "plt.xlabel('Citation Class')\n",
    "plt.ylabel(\"Number of Telegrams\")\n",
    "plt.xticks([0, 1, 2])\n",
    "plt.title(\"Citation Class Distribution\")\n",
    "plt.show()"
   ]
  },
  {
   "cell_type": "code",
   "execution_count": 79,
   "id": "f4f4c861-a011-4665-8a36-f56586267a2f",
   "metadata": {},
   "outputs": [],
   "source": [
    "# save the labels\n",
    "df[['n_cited', 'citation_class']].to_csv(\"labels.csv\", index=True)"
   ]
  }
 ],
 "metadata": {
  "kernelspec": {
   "display_name": "Python 3 (ipykernel)",
   "language": "python",
   "name": "python3"
  },
  "language_info": {
   "codemirror_mode": {
    "name": "ipython",
    "version": 3
   },
   "file_extension": ".py",
   "mimetype": "text/x-python",
   "name": "python",
   "nbconvert_exporter": "python",
   "pygments_lexer": "ipython3",
   "version": "3.9.7"
  }
 },
 "nbformat": 4,
 "nbformat_minor": 5
}
