{
 "cells": [
  {
   "cell_type": "code",
   "execution_count": 255,
   "id": "09dafa6b-131d-4c69-8e2f-f8c9633d3e56",
   "metadata": {},
   "outputs": [],
   "source": [
    "import pandas as pd\n",
    "import numpy as np\n",
    "import ast\n",
    "import re\n",
    "import subprocess"
   ]
  },
  {
   "cell_type": "code",
   "execution_count": 256,
   "id": "beb982ee-7e86-47fc-9b7c-1a644f08c8aa",
   "metadata": {},
   "outputs": [],
   "source": [
    "import warnings\n",
    "warnings.filterwarnings('ignore')"
   ]
  },
  {
   "cell_type": "markdown",
   "id": "72ce5d88-5208-4815-a058-35b4e6137b93",
   "metadata": {},
   "source": [
    "### Load ATels"
   ]
  },
  {
   "cell_type": "code",
   "execution_count": 257,
   "id": "d1a64840-7e6f-4c74-8de9-8b90b18aae62",
   "metadata": {},
   "outputs": [],
   "source": [
    "# subprocess.run(\"python load_atel.py --parse_from 15745 --csv_filename atel.csv\", shell=True)"
   ]
  },
  {
   "cell_type": "code",
   "execution_count": 303,
   "id": "b41fa284-a02a-4e3b-9280-761cb55b901c",
   "metadata": {},
   "outputs": [],
   "source": [
    "atel_df = pd.read_csv(\"atel.csv\", index_col=0)"
   ]
  },
  {
   "cell_type": "code",
   "execution_count": 304,
   "id": "53bd9d44-8b05-4c19-a54e-7be42172f616",
   "metadata": {},
   "outputs": [
    {
     "data": {
      "text/html": [
       "<div>\n",
       "<style scoped>\n",
       "    .dataframe tbody tr th:only-of-type {\n",
       "        vertical-align: middle;\n",
       "    }\n",
       "\n",
       "    .dataframe tbody tr th {\n",
       "        vertical-align: top;\n",
       "    }\n",
       "\n",
       "    .dataframe thead th {\n",
       "        text-align: right;\n",
       "    }\n",
       "</style>\n",
       "<table border=\"1\" class=\"dataframe\">\n",
       "  <thead>\n",
       "    <tr style=\"text-align: right;\">\n",
       "      <th></th>\n",
       "      <th>title</th>\n",
       "      <th>date</th>\n",
       "      <th>authors</th>\n",
       "      <th>credential_certification</th>\n",
       "      <th>subjects</th>\n",
       "      <th>body</th>\n",
       "      <th>related_ids</th>\n",
       "    </tr>\n",
       "    <tr>\n",
       "      <th>index</th>\n",
       "      <th></th>\n",
       "      <th></th>\n",
       "      <th></th>\n",
       "      <th></th>\n",
       "      <th></th>\n",
       "      <th></th>\n",
       "      <th></th>\n",
       "    </tr>\n",
       "  </thead>\n",
       "  <tbody>\n",
       "    <tr>\n",
       "      <th>16033</th>\n",
       "      <td>Fermi LAT detection of increasing gamma-ray ac...</td>\n",
       "      <td>10 May 2023; 17:31 UT</td>\n",
       "      <td>Federica Giacchino (INFN Sezione Roma TorVerga...</td>\n",
       "      <td>Federica Giacchino (federica.giacchino@roma2.i...</td>\n",
       "      <td>Gamma Ray, &gt;GeV, AGN, Blazar, Quasar</td>\n",
       "      <td>The Large Area Telescope (LAT), one of the two...</td>\n",
       "      <td>['16033', '2980', '2966']</td>\n",
       "    </tr>\n",
       "    <tr>\n",
       "      <th>16034</th>\n",
       "      <td>Spectroscopic Classification of an optical tra...</td>\n",
       "      <td>12 May 2023; 16:26 UT</td>\n",
       "      <td>C. Rojas-Bravo, K. Taggart, R. J. Foley (UCSC)</td>\n",
       "      <td>Cesar Rojas Bravo (crojasbr@ucsc.edu)</td>\n",
       "      <td>Optical, Supernovae</td>\n",
       "      <td>We report the following classification from a ...</td>\n",
       "      <td>[]</td>\n",
       "    </tr>\n",
       "    <tr>\n",
       "      <th>16035</th>\n",
       "      <td>Fermi-LAT detection of enhanced gamma-ray acti...</td>\n",
       "      <td>12 May 2023; 18:28 UT</td>\n",
       "      <td>Denis Bernard  (LLR, Ecole Polytechnique &amp; CNR...</td>\n",
       "      <td>Denis Bernard (Denis.bernard@in2p3.fr)</td>\n",
       "      <td>Gamma Ray, &gt;GeV, Request for Observations, AGN...</td>\n",
       "      <td>The Large Area Telescope (LAT), one of the two...</td>\n",
       "      <td>[]</td>\n",
       "    </tr>\n",
       "    <tr>\n",
       "      <th>16036</th>\n",
       "      <td>Continued spectroscopic monitoring of V1716 Sc...</td>\n",
       "      <td>12 May 2023; 23:54 UT</td>\n",
       "      <td>Steve Shore (Univ. Pisa), Stephane Charbonnel,...</td>\n",
       "      <td>S. N. Shore (shore@df.unipi.it)</td>\n",
       "      <td>Cataclysmic Variable, Nova, Transient</td>\n",
       "      <td>Our spectroscopic monitoring of the developmen...</td>\n",
       "      <td>['16036', '16019', '16018', '16007', '16006', ...</td>\n",
       "    </tr>\n",
       "    <tr>\n",
       "      <th>16037</th>\n",
       "      <td>Pre-discovery detection of AT 2023hrq, a super...</td>\n",
       "      <td>14 May 2023; 20:56 UT</td>\n",
       "      <td>A. Horti-David, K. Sarneczky, J. Vinko (Konkol...</td>\n",
       "      <td>Jozsef Vinko (vinko@astro.as.utexas.edu)</td>\n",
       "      <td>Optical, Supernovae, Transient</td>\n",
       "      <td>We report pre-discovery detection of AT 2023hr...</td>\n",
       "      <td>[]</td>\n",
       "    </tr>\n",
       "  </tbody>\n",
       "</table>\n",
       "</div>"
      ],
      "text/plain": [
       "                                                   title  \\\n",
       "index                                                      \n",
       "16033  Fermi LAT detection of increasing gamma-ray ac...   \n",
       "16034  Spectroscopic Classification of an optical tra...   \n",
       "16035  Fermi-LAT detection of enhanced gamma-ray acti...   \n",
       "16036  Continued spectroscopic monitoring of V1716 Sc...   \n",
       "16037  Pre-discovery detection of AT 2023hrq, a super...   \n",
       "\n",
       "                        date  \\\n",
       "index                          \n",
       "16033  10 May 2023; 17:31 UT   \n",
       "16034  12 May 2023; 16:26 UT   \n",
       "16035  12 May 2023; 18:28 UT   \n",
       "16036  12 May 2023; 23:54 UT   \n",
       "16037  14 May 2023; 20:56 UT   \n",
       "\n",
       "                                                 authors  \\\n",
       "index                                                      \n",
       "16033  Federica Giacchino (INFN Sezione Roma TorVerga...   \n",
       "16034     C. Rojas-Bravo, K. Taggart, R. J. Foley (UCSC)   \n",
       "16035  Denis Bernard  (LLR, Ecole Polytechnique & CNR...   \n",
       "16036  Steve Shore (Univ. Pisa), Stephane Charbonnel,...   \n",
       "16037  A. Horti-David, K. Sarneczky, J. Vinko (Konkol...   \n",
       "\n",
       "                                credential_certification  \\\n",
       "index                                                      \n",
       "16033  Federica Giacchino (federica.giacchino@roma2.i...   \n",
       "16034              Cesar Rojas Bravo (crojasbr@ucsc.edu)   \n",
       "16035             Denis Bernard (Denis.bernard@in2p3.fr)   \n",
       "16036                    S. N. Shore (shore@df.unipi.it)   \n",
       "16037           Jozsef Vinko (vinko@astro.as.utexas.edu)   \n",
       "\n",
       "                                                subjects  \\\n",
       "index                                                      \n",
       "16033               Gamma Ray, >GeV, AGN, Blazar, Quasar   \n",
       "16034                                Optical, Supernovae   \n",
       "16035  Gamma Ray, >GeV, Request for Observations, AGN...   \n",
       "16036              Cataclysmic Variable, Nova, Transient   \n",
       "16037                     Optical, Supernovae, Transient   \n",
       "\n",
       "                                                    body  \\\n",
       "index                                                      \n",
       "16033  The Large Area Telescope (LAT), one of the two...   \n",
       "16034  We report the following classification from a ...   \n",
       "16035  The Large Area Telescope (LAT), one of the two...   \n",
       "16036  Our spectroscopic monitoring of the developmen...   \n",
       "16037  We report pre-discovery detection of AT 2023hr...   \n",
       "\n",
       "                                             related_ids  \n",
       "index                                                     \n",
       "16033                          ['16033', '2980', '2966']  \n",
       "16034                                                 []  \n",
       "16035                                                 []  \n",
       "16036  ['16036', '16019', '16018', '16007', '16006', ...  \n",
       "16037                                                 []  "
      ]
     },
     "execution_count": 304,
     "metadata": {},
     "output_type": "execute_result"
    }
   ],
   "source": [
    "atel_df.tail()"
   ]
  },
  {
   "cell_type": "markdown",
   "id": "a7b439aa-545f-45e6-9d50-69e46e42cc15",
   "metadata": {},
   "source": [
    "### Load GCNs"
   ]
  },
  {
   "cell_type": "code",
   "execution_count": 260,
   "id": "0280f753-7338-4d5a-ac2e-7d79636248ed",
   "metadata": {},
   "outputs": [],
   "source": [
    "# subprocess.run(\"python load_gcn.py --csv_filename gcn.csv\", shell=True)"
   ]
  },
  {
   "cell_type": "code",
   "execution_count": 288,
   "id": "bd281790-642f-41e9-bfbd-3d129c5ec832",
   "metadata": {},
   "outputs": [],
   "source": [
    "gcn_df = pd.read_csv(\"gcn.csv\", index_col=0)\n",
    "\n",
    "gcn_df['atel_refs'] = gcn_df['atel_refs'].apply(ast.literal_eval)\n",
    "gcn_df['gcn_refs'] = gcn_df['gcn_refs'].apply(ast.literal_eval)\n",
    "gcn_df['date'] = pd.to_datetime(gcn_df['date']).apply(lambda x: x.date)\n",
    "\n",
    "gcn_df.dropna(subset=['date'], inplace=True)"
   ]
  },
  {
   "cell_type": "code",
   "execution_count": 289,
   "id": "6d83bb84-e02a-43ba-9d0a-1f023fac730b",
   "metadata": {},
   "outputs": [
    {
     "data": {
      "text/html": [
       "<div>\n",
       "<style scoped>\n",
       "    .dataframe tbody tr th:only-of-type {\n",
       "        vertical-align: middle;\n",
       "    }\n",
       "\n",
       "    .dataframe tbody tr th {\n",
       "        vertical-align: top;\n",
       "    }\n",
       "\n",
       "    .dataframe thead th {\n",
       "        text-align: right;\n",
       "    }\n",
       "</style>\n",
       "<table border=\"1\" class=\"dataframe\">\n",
       "  <thead>\n",
       "    <tr style=\"text-align: right;\">\n",
       "      <th></th>\n",
       "      <th>body</th>\n",
       "      <th>subject</th>\n",
       "      <th>date</th>\n",
       "      <th>from</th>\n",
       "      <th>gcn_refs</th>\n",
       "      <th>atel_refs</th>\n",
       "      <th>type</th>\n",
       "    </tr>\n",
       "    <tr>\n",
       "      <th>number</th>\n",
       "      <th></th>\n",
       "      <th></th>\n",
       "      <th></th>\n",
       "      <th></th>\n",
       "      <th></th>\n",
       "      <th></th>\n",
       "      <th></th>\n",
       "    </tr>\n",
       "  </thead>\n",
       "  <tbody>\n",
       "    <tr>\n",
       "      <th>31</th>\n",
       "      <td>S. V. Zharikov, V. V. Sokolov, SAO RAS and Yu....</td>\n",
       "      <td>GRB970508 SAO RAS optical observations</td>\n",
       "      <td>1998-03-26</td>\n",
       "      <td>sokolov@relay.sao.ru</td>\n",
       "      <td>[]</td>\n",
       "      <td>[]</td>\n",
       "      <td>gcn</td>\n",
       "    </tr>\n",
       "    <tr>\n",
       "      <th>32</th>\n",
       "      <td>Comparison of optical R-band observations of t...</td>\n",
       "      <td>GRB980326 optical observations</td>\n",
       "      <td>1998-03-28</td>\n",
       "      <td>paulgr@astro.uva.nl</td>\n",
       "      <td>[]</td>\n",
       "      <td>[]</td>\n",
       "      <td>gcn</td>\n",
       "    </tr>\n",
       "    <tr>\n",
       "      <th>33</th>\n",
       "      <td>GRB 980326: Optical Transient Confirmed:  A. C...</td>\n",
       "      <td>GRB980326 optical observations</td>\n",
       "      <td>1998-03-29</td>\n",
       "      <td>srk@astro.caltech.edu</td>\n",
       "      <td>[]</td>\n",
       "      <td>[]</td>\n",
       "      <td>gcn</td>\n",
       "    </tr>\n",
       "    <tr>\n",
       "      <th>34</th>\n",
       "      <td>Bruce Grossan, Robert Knop, Saul Perlmutter (L...</td>\n",
       "      <td>GRB980326 optical observations</td>\n",
       "      <td>1998-03-30</td>\n",
       "      <td>bruce@singu.lbl.gov</td>\n",
       "      <td>[]</td>\n",
       "      <td>[]</td>\n",
       "      <td>gcn</td>\n",
       "    </tr>\n",
       "    <tr>\n",
       "      <th>35</th>\n",
       "      <td>Addendum to GCN #34  Bruce Grossan, Robert Kno...</td>\n",
       "      <td>GRB980326 optical observations</td>\n",
       "      <td>1998-03-31</td>\n",
       "      <td>bruce@singu.lbl.gov</td>\n",
       "      <td>[34]</td>\n",
       "      <td>[]</td>\n",
       "      <td>gcn</td>\n",
       "    </tr>\n",
       "    <tr>\n",
       "      <th>...</th>\n",
       "      <td>...</td>\n",
       "      <td>...</td>\n",
       "      <td>...</td>\n",
       "      <td>...</td>\n",
       "      <td>...</td>\n",
       "      <td>...</td>\n",
       "      <td>...</td>\n",
       "    </tr>\n",
       "    <tr>\n",
       "      <th>9995</th>\n",
       "      <td>We observed the afterglow of Fermi GRB 091003 ...</td>\n",
       "      <td>GRB 091003: WHT ACAM observations</td>\n",
       "      <td>2009-10-05</td>\n",
       "      <td>kw113@star.le.ac.uk</td>\n",
       "      <td>[9985, 9986, 9983]</td>\n",
       "      <td>[]</td>\n",
       "      <td>gcn</td>\n",
       "    </tr>\n",
       "    <tr>\n",
       "      <th>9996</th>\n",
       "      <td>Skynet observed the Swift/BAT localization of ...</td>\n",
       "      <td>GRB 090926B: Skynet/PROMPT Observations</td>\n",
       "      <td>2009-10-06</td>\n",
       "      <td>haislip@physics.unc.edu</td>\n",
       "      <td>[9944, 9935]</td>\n",
       "      <td>[]</td>\n",
       "      <td>gcn</td>\n",
       "    </tr>\n",
       "    <tr>\n",
       "      <th>9997</th>\n",
       "      <td>We observed the position of Fermi GRB 091003 (...</td>\n",
       "      <td>GRB 091003: Lick observations and possible SDS...</td>\n",
       "      <td>2009-10-06</td>\n",
       "      <td>dperley@astro.berkeley.edu</td>\n",
       "      <td>[9986, 9987, 9990, 9995, 983]</td>\n",
       "      <td>[]</td>\n",
       "      <td>gcn</td>\n",
       "    </tr>\n",
       "    <tr>\n",
       "      <th>9998</th>\n",
       "      <td>The long GRB 091003A (Fermi-GBM trigger 276237...</td>\n",
       "      <td>GRB 091003A: Suzaku WAM observation of the pro...</td>\n",
       "      <td>2009-10-07</td>\n",
       "      <td>kenta0514@astro.miyazaki-u.ac.jp</td>\n",
       "      <td>[9985, 9983]</td>\n",
       "      <td>[]</td>\n",
       "      <td>gcn</td>\n",
       "    </tr>\n",
       "    <tr>\n",
       "      <th>9999</th>\n",
       "      <td>Skynet observed the Swift/BAT localization of ...</td>\n",
       "      <td>GRB 090812: Skynet/PROMPT and GORT Observations</td>\n",
       "      <td>2009-10-08</td>\n",
       "      <td>haislip@physics.unc.edu</td>\n",
       "      <td>[9768]</td>\n",
       "      <td>[]</td>\n",
       "      <td>gcn</td>\n",
       "    </tr>\n",
       "  </tbody>\n",
       "</table>\n",
       "<p>32448 rows × 7 columns</p>\n",
       "</div>"
      ],
      "text/plain": [
       "                                                     body  \\\n",
       "number                                                      \n",
       "31      S. V. Zharikov, V. V. Sokolov, SAO RAS and Yu....   \n",
       "32      Comparison of optical R-band observations of t...   \n",
       "33      GRB 980326: Optical Transient Confirmed:  A. C...   \n",
       "34      Bruce Grossan, Robert Knop, Saul Perlmutter (L...   \n",
       "35      Addendum to GCN #34  Bruce Grossan, Robert Kno...   \n",
       "...                                                   ...   \n",
       "9995    We observed the afterglow of Fermi GRB 091003 ...   \n",
       "9996    Skynet observed the Swift/BAT localization of ...   \n",
       "9997    We observed the position of Fermi GRB 091003 (...   \n",
       "9998    The long GRB 091003A (Fermi-GBM trigger 276237...   \n",
       "9999    Skynet observed the Swift/BAT localization of ...   \n",
       "\n",
       "                                                  subject        date  \\\n",
       "number                                                                  \n",
       "31                 GRB970508 SAO RAS optical observations  1998-03-26   \n",
       "32                         GRB980326 optical observations  1998-03-28   \n",
       "33                         GRB980326 optical observations  1998-03-29   \n",
       "34                         GRB980326 optical observations  1998-03-30   \n",
       "35                         GRB980326 optical observations  1998-03-31   \n",
       "...                                                   ...         ...   \n",
       "9995                    GRB 091003: WHT ACAM observations  2009-10-05   \n",
       "9996              GRB 090926B: Skynet/PROMPT Observations  2009-10-06   \n",
       "9997    GRB 091003: Lick observations and possible SDS...  2009-10-06   \n",
       "9998    GRB 091003A: Suzaku WAM observation of the pro...  2009-10-07   \n",
       "9999      GRB 090812: Skynet/PROMPT and GORT Observations  2009-10-08   \n",
       "\n",
       "                                    from                       gcn_refs  \\\n",
       "number                                                                    \n",
       "31                  sokolov@relay.sao.ru                             []   \n",
       "32                   paulgr@astro.uva.nl                             []   \n",
       "33                 srk@astro.caltech.edu                             []   \n",
       "34                   bruce@singu.lbl.gov                             []   \n",
       "35                   bruce@singu.lbl.gov                           [34]   \n",
       "...                                  ...                            ...   \n",
       "9995                 kw113@star.le.ac.uk             [9985, 9986, 9983]   \n",
       "9996             haislip@physics.unc.edu                   [9944, 9935]   \n",
       "9997          dperley@astro.berkeley.edu  [9986, 9987, 9990, 9995, 983]   \n",
       "9998    kenta0514@astro.miyazaki-u.ac.jp                   [9985, 9983]   \n",
       "9999             haislip@physics.unc.edu                         [9768]   \n",
       "\n",
       "       atel_refs type  \n",
       "number                 \n",
       "31            []  gcn  \n",
       "32            []  gcn  \n",
       "33            []  gcn  \n",
       "34            []  gcn  \n",
       "35            []  gcn  \n",
       "...          ...  ...  \n",
       "9995          []  gcn  \n",
       "9996          []  gcn  \n",
       "9997          []  gcn  \n",
       "9998          []  gcn  \n",
       "9999          []  gcn  \n",
       "\n",
       "[32448 rows x 7 columns]"
      ]
     },
     "execution_count": 289,
     "metadata": {},
     "output_type": "execute_result"
    }
   ],
   "source": [
    "gcn_df"
   ]
  },
  {
   "cell_type": "code",
   "execution_count": 291,
   "id": "738d2a6e-bdda-4ed7-998c-5b2d2be28477",
   "metadata": {},
   "outputs": [
    {
     "data": {
      "text/plain": [
       "(datetime.date(1998, 3, 26), datetime.date(2023, 4, 16))"
      ]
     },
     "execution_count": 291,
     "metadata": {},
     "output_type": "execute_result"
    }
   ],
   "source": [
    "gcn_df.date.min(), gcn_df.date.max() "
   ]
  },
  {
   "cell_type": "markdown",
   "id": "fa6b6e51-8648-4edb-8792-994ffb10b54b",
   "metadata": {
    "tags": []
   },
   "source": [
    "### Prepare ATels so they match the newer format and have all nesessary data"
   ]
  },
  {
   "cell_type": "code",
   "execution_count": 305,
   "id": "4e575724-db9c-42c4-ad1d-a6890841f91c",
   "metadata": {},
   "outputs": [],
   "source": [
    "atel_df = atel_df\\\n",
    "    .drop(columns=[\"authors\", \"subjects\"])\\\n",
    "    .rename(columns={\"credential_certification\": \"from\", \"related_ids\": \"atel_refs\", 'title': \"subject\"})\\\n",
    "    .dropna(subset=['atel_refs', 'body', 'from'])"
   ]
  },
  {
   "cell_type": "code",
   "execution_count": 306,
   "id": "e1c454ca-bbbb-42bf-8a8c-c7801b30ec61",
   "metadata": {},
   "outputs": [],
   "source": [
    "gcn_re = r\"[\\[\\s(](?:GCN|gcn).?:?\\s?[Circ.]+?\\s?([\\d\\s,]+)|[\\[\\s(](?:GCN|gcn).?:?\\s?#?([\\d\\s,#]+)\"\n",
    "\n",
    "# search for GCN refs in ATels\n",
    "gcn_refs = []\n",
    "for i, r in atel_df.iterrows():\n",
    "    gcn_references = re.findall(gcn_re, r.body)\n",
    "    this_gcn_refs = []\n",
    "    for ref_group in gcn_references:\n",
    "        for ref in ref_group:\n",
    "            processed_refs = [x.replace('#', '').strip() for x in ref.split(',') if x.replace('#', '').strip()]\n",
    "            try:\n",
    "                this_gcn_refs.extend(list(set([int(x) for x in processed_refs])))\n",
    "            except: pass\n",
    "    gcn_refs.append(this_gcn_refs)\n",
    "    \n",
    "atel_df['gcn_refs'] = gcn_refs"
   ]
  },
  {
   "cell_type": "code",
   "execution_count": 307,
   "id": "9ba1f465-2185-48c0-9474-5a9060a031ce",
   "metadata": {},
   "outputs": [],
   "source": [
    "atel_df['atel_refs'] = atel_df['atel_refs'].apply(str).apply(lambda x: ast.literal_eval(x))\n",
    "atel_df['type'] = ['atel']*len(atel_df)"
   ]
  },
  {
   "cell_type": "code",
   "execution_count": 308,
   "id": "3303222a-8d3d-4158-a611-f7f58da04e68",
   "metadata": {},
   "outputs": [],
   "source": [
    "# leave only the email of submitter(s)\n",
    "\n",
    "atel_from_re = r\"\\((.*)\\)\"\n",
    "\n",
    "def search_from_email_atel(from_field):\n",
    "    exact_match = re.findall(atel_from_re, from_field)\n",
    "    if exact_match:\n",
    "        return exact_match[0]\n",
    "    from_parts = from_field.split(' ')\n",
    "    for part in from_parts:\n",
    "        if '@' in part:\n",
    "            return part\n",
    "    return ''\n",
    "\n",
    "atel_df['from'] = atel_df['from'].apply(search_from_email_atel)"
   ]
  },
  {
   "cell_type": "code",
   "execution_count": 313,
   "id": "10e68158-b1f8-46bf-9f65-b6a735b00da9",
   "metadata": {},
   "outputs": [],
   "source": [
    "atel_df['date'] = pd.to_datetime(atel_df['date']).apply(lambda x: x.date())"
   ]
  },
  {
   "cell_type": "code",
   "execution_count": 314,
   "id": "c4b7857c-5bf9-44e7-9f29-6daa7b67c71d",
   "metadata": {},
   "outputs": [
    {
     "data": {
      "text/html": [
       "<div>\n",
       "<style scoped>\n",
       "    .dataframe tbody tr th:only-of-type {\n",
       "        vertical-align: middle;\n",
       "    }\n",
       "\n",
       "    .dataframe tbody tr th {\n",
       "        vertical-align: top;\n",
       "    }\n",
       "\n",
       "    .dataframe thead th {\n",
       "        text-align: right;\n",
       "    }\n",
       "</style>\n",
       "<table border=\"1\" class=\"dataframe\">\n",
       "  <thead>\n",
       "    <tr style=\"text-align: right;\">\n",
       "      <th></th>\n",
       "      <th>subject</th>\n",
       "      <th>date</th>\n",
       "      <th>from</th>\n",
       "      <th>body</th>\n",
       "      <th>atel_refs</th>\n",
       "      <th>gcn_refs</th>\n",
       "      <th>type</th>\n",
       "    </tr>\n",
       "    <tr>\n",
       "      <th>index</th>\n",
       "      <th></th>\n",
       "      <th></th>\n",
       "      <th></th>\n",
       "      <th></th>\n",
       "      <th></th>\n",
       "      <th></th>\n",
       "      <th></th>\n",
       "    </tr>\n",
       "  </thead>\n",
       "  <tbody>\n",
       "    <tr>\n",
       "      <th>1</th>\n",
       "      <td>QPOs in 4U 1626-67</td>\n",
       "      <td>1997-12-17</td>\n",
       "      <td></td>\n",
       "      <td>The low-mass X-ray binary pulsar 4U 1626-67 sh...</td>\n",
       "      <td>[]</td>\n",
       "      <td>[]</td>\n",
       "      <td>atel</td>\n",
       "    </tr>\n",
       "    <tr>\n",
       "      <th>2</th>\n",
       "      <td>GB971227</td>\n",
       "      <td>1997-12-28</td>\n",
       "      <td>rutledge@rosat.mpe-garching.mpg.de</td>\n",
       "      <td>The following message was emailed to me this e...</td>\n",
       "      <td>[]</td>\n",
       "      <td>[]</td>\n",
       "      <td>atel</td>\n",
       "    </tr>\n",
       "    <tr>\n",
       "      <th>3</th>\n",
       "      <td>Improved Coordinates for GB971227</td>\n",
       "      <td>1997-12-28</td>\n",
       "      <td>rutledge@rosat.mpe-garching.mpg.de</td>\n",
       "      <td>In addendum of ATEL #2: Additional Information...</td>\n",
       "      <td>[]</td>\n",
       "      <td>[]</td>\n",
       "      <td>atel</td>\n",
       "    </tr>\n",
       "    <tr>\n",
       "      <th>4</th>\n",
       "      <td>The Probable Connection Between Relativistic S...</td>\n",
       "      <td>1998-01-06</td>\n",
       "      <td>rutledge@rosat.mpe-garching.mpg.de</td>\n",
       "      <td>The recent detection of delayed Gamma ray burs...</td>\n",
       "      <td>[]</td>\n",
       "      <td>[]</td>\n",
       "      <td>atel</td>\n",
       "    </tr>\n",
       "    <tr>\n",
       "      <th>5</th>\n",
       "      <td>GRB 971214</td>\n",
       "      <td>1998-01-12</td>\n",
       "      <td>rutledge@rosat.mpe-garching.mpg.de</td>\n",
       "      <td>The optical transient (IAUC # 6788 ) of GRB 97...</td>\n",
       "      <td>[7, 5]</td>\n",
       "      <td>[]</td>\n",
       "      <td>atel</td>\n",
       "    </tr>\n",
       "    <tr>\n",
       "      <th>...</th>\n",
       "      <td>...</td>\n",
       "      <td>...</td>\n",
       "      <td>...</td>\n",
       "      <td>...</td>\n",
       "      <td>...</td>\n",
       "      <td>...</td>\n",
       "      <td>...</td>\n",
       "    </tr>\n",
       "    <tr>\n",
       "      <th>16033</th>\n",
       "      <td>Fermi LAT detection of increasing gamma-ray ac...</td>\n",
       "      <td>2023-05-10</td>\n",
       "      <td>federica.giacchino@roma2.infn.it</td>\n",
       "      <td>The Large Area Telescope (LAT), one of the two...</td>\n",
       "      <td>[16033, 2980, 2966]</td>\n",
       "      <td>[]</td>\n",
       "      <td>atel</td>\n",
       "    </tr>\n",
       "    <tr>\n",
       "      <th>16034</th>\n",
       "      <td>Spectroscopic Classification of an optical tra...</td>\n",
       "      <td>2023-05-12</td>\n",
       "      <td>crojasbr@ucsc.edu</td>\n",
       "      <td>We report the following classification from a ...</td>\n",
       "      <td>[]</td>\n",
       "      <td>[]</td>\n",
       "      <td>atel</td>\n",
       "    </tr>\n",
       "    <tr>\n",
       "      <th>16035</th>\n",
       "      <td>Fermi-LAT detection of enhanced gamma-ray acti...</td>\n",
       "      <td>2023-05-12</td>\n",
       "      <td>Denis.bernard@in2p3.fr</td>\n",
       "      <td>The Large Area Telescope (LAT), one of the two...</td>\n",
       "      <td>[]</td>\n",
       "      <td>[]</td>\n",
       "      <td>atel</td>\n",
       "    </tr>\n",
       "    <tr>\n",
       "      <th>16036</th>\n",
       "      <td>Continued spectroscopic monitoring of V1716 Sc...</td>\n",
       "      <td>2023-05-12</td>\n",
       "      <td>shore@df.unipi.it</td>\n",
       "      <td>Our spectroscopic monitoring of the developmen...</td>\n",
       "      <td>[16036, 16019, 16018, 16007, 16006, 16005, 160...</td>\n",
       "      <td>[]</td>\n",
       "      <td>atel</td>\n",
       "    </tr>\n",
       "    <tr>\n",
       "      <th>16037</th>\n",
       "      <td>Pre-discovery detection of AT 2023hrq, a super...</td>\n",
       "      <td>2023-05-14</td>\n",
       "      <td>vinko@astro.as.utexas.edu</td>\n",
       "      <td>We report pre-discovery detection of AT 2023hr...</td>\n",
       "      <td>[]</td>\n",
       "      <td>[]</td>\n",
       "      <td>atel</td>\n",
       "    </tr>\n",
       "  </tbody>\n",
       "</table>\n",
       "<p>16036 rows × 7 columns</p>\n",
       "</div>"
      ],
      "text/plain": [
       "                                                 subject        date  \\\n",
       "index                                                                  \n",
       "1                                     QPOs in 4U 1626-67  1997-12-17   \n",
       "2                                               GB971227  1997-12-28   \n",
       "3                      Improved Coordinates for GB971227  1997-12-28   \n",
       "4      The Probable Connection Between Relativistic S...  1998-01-06   \n",
       "5                                             GRB 971214  1998-01-12   \n",
       "...                                                  ...         ...   \n",
       "16033  Fermi LAT detection of increasing gamma-ray ac...  2023-05-10   \n",
       "16034  Spectroscopic Classification of an optical tra...  2023-05-12   \n",
       "16035  Fermi-LAT detection of enhanced gamma-ray acti...  2023-05-12   \n",
       "16036  Continued spectroscopic monitoring of V1716 Sc...  2023-05-12   \n",
       "16037  Pre-discovery detection of AT 2023hrq, a super...  2023-05-14   \n",
       "\n",
       "                                     from  \\\n",
       "index                                       \n",
       "1                                           \n",
       "2      rutledge@rosat.mpe-garching.mpg.de   \n",
       "3      rutledge@rosat.mpe-garching.mpg.de   \n",
       "4      rutledge@rosat.mpe-garching.mpg.de   \n",
       "5      rutledge@rosat.mpe-garching.mpg.de   \n",
       "...                                   ...   \n",
       "16033    federica.giacchino@roma2.infn.it   \n",
       "16034                   crojasbr@ucsc.edu   \n",
       "16035              Denis.bernard@in2p3.fr   \n",
       "16036                   shore@df.unipi.it   \n",
       "16037           vinko@astro.as.utexas.edu   \n",
       "\n",
       "                                                    body  \\\n",
       "index                                                      \n",
       "1      The low-mass X-ray binary pulsar 4U 1626-67 sh...   \n",
       "2      The following message was emailed to me this e...   \n",
       "3      In addendum of ATEL #2: Additional Information...   \n",
       "4      The recent detection of delayed Gamma ray burs...   \n",
       "5      The optical transient (IAUC # 6788 ) of GRB 97...   \n",
       "...                                                  ...   \n",
       "16033  The Large Area Telescope (LAT), one of the two...   \n",
       "16034  We report the following classification from a ...   \n",
       "16035  The Large Area Telescope (LAT), one of the two...   \n",
       "16036  Our spectroscopic monitoring of the developmen...   \n",
       "16037  We report pre-discovery detection of AT 2023hr...   \n",
       "\n",
       "                                               atel_refs gcn_refs  type  \n",
       "index                                                                    \n",
       "1                                                     []       []  atel  \n",
       "2                                                     []       []  atel  \n",
       "3                                                     []       []  atel  \n",
       "4                                                     []       []  atel  \n",
       "5                                                 [7, 5]       []  atel  \n",
       "...                                                  ...      ...   ...  \n",
       "16033                                [16033, 2980, 2966]       []  atel  \n",
       "16034                                                 []       []  atel  \n",
       "16035                                                 []       []  atel  \n",
       "16036  [16036, 16019, 16018, 16007, 16006, 16005, 160...       []  atel  \n",
       "16037                                                 []       []  atel  \n",
       "\n",
       "[16036 rows x 7 columns]"
      ]
     },
     "execution_count": 314,
     "metadata": {},
     "output_type": "execute_result"
    }
   ],
   "source": [
    "atel_df"
   ]
  },
  {
   "cell_type": "code",
   "execution_count": 315,
   "id": "96aec0c7-dc1c-48ca-a361-e130f4f0cbfe",
   "metadata": {},
   "outputs": [],
   "source": [
    "# fix ATel refs data issue when refs are counting in both directions\n",
    "atel_df['atel_refs'] = atel_df.apply(lambda x: [ref for ref in x.atel_refs if int(ref) < x.name], axis=1)"
   ]
  },
  {
   "cell_type": "code",
   "execution_count": 316,
   "id": "4965405a-3aff-40b5-87d8-845e8e015c78",
   "metadata": {},
   "outputs": [
    {
     "data": {
      "text/plain": [
       "(datetime.date(1997, 12, 17), datetime.date(2023, 5, 14))"
      ]
     },
     "execution_count": 316,
     "metadata": {},
     "output_type": "execute_result"
    }
   ],
   "source": [
    "atel_df.date.min(), atel_df.date.max() "
   ]
  },
  {
   "cell_type": "markdown",
   "id": "908dd17a-e188-4f65-969d-efe3e3a566f6",
   "metadata": {},
   "source": [
    "### Remove the GCN and ATel telegram duplicates using cosine similarity search"
   ]
  },
  {
   "cell_type": "code",
   "execution_count": 317,
   "id": "721d3460-f661-498c-ad2e-7ea13fcc8844",
   "metadata": {},
   "outputs": [],
   "source": [
    "from sklearn.feature_extraction.text import TfidfVectorizer\n",
    "from sklearn.metrics.pairwise import cosine_similarity"
   ]
  },
  {
   "cell_type": "code",
   "execution_count": 318,
   "id": "208163f5-abd0-473d-a651-e7dc4c0fd676",
   "metadata": {},
   "outputs": [],
   "source": [
    "duplicates_similarity_threshold = 0.9"
   ]
  },
  {
   "cell_type": "code",
   "execution_count": 319,
   "id": "c5d8e066-43ea-45b7-ac18-cac482d633a9",
   "metadata": {},
   "outputs": [],
   "source": [
    "gcn_bodies = gcn_df.body.values\n",
    "atel_bodies = atel_df.body.values"
   ]
  },
  {
   "cell_type": "code",
   "execution_count": 320,
   "id": "f2d65067-3c46-47e9-9290-6ff794eeb0e4",
   "metadata": {},
   "outputs": [],
   "source": [
    "documents = np.hstack((gcn_bodies, atel_bodies))\n",
    "tfidf = TfidfVectorizer().fit(documents)"
   ]
  },
  {
   "cell_type": "code",
   "execution_count": 321,
   "id": "6da5fdc3-4955-4dc1-843b-ce6839ce0144",
   "metadata": {},
   "outputs": [
    {
     "data": {
      "text/plain": [
       "(16036, 188564)"
      ]
     },
     "execution_count": 321,
     "metadata": {},
     "output_type": "execute_result"
    }
   ],
   "source": [
    "atel_tf = tfidf.transform(atel_bodies)\n",
    "atel_tf.shape"
   ]
  },
  {
   "cell_type": "code",
   "execution_count": 322,
   "id": "c8c27afc-8080-411b-8ce4-f7bd5a9e4fa1",
   "metadata": {},
   "outputs": [
    {
     "data": {
      "text/plain": [
       "(32448, 188564)"
      ]
     },
     "execution_count": 322,
     "metadata": {},
     "output_type": "execute_result"
    }
   ],
   "source": [
    "gcn_tf = tfidf.transform(gcn_bodies)\n",
    "gcn_tf.shape"
   ]
  },
  {
   "cell_type": "code",
   "execution_count": 323,
   "id": "4defe031-f236-4645-a56c-5f0744a50f42",
   "metadata": {},
   "outputs": [
    {
     "data": {
      "text/plain": [
       "(16036, 32448)"
      ]
     },
     "execution_count": 323,
     "metadata": {},
     "output_type": "execute_result"
    }
   ],
   "source": [
    "sim_m = cosine_similarity(atel_tf, gcn_tf)\n",
    "sim_m.shape"
   ]
  },
  {
   "cell_type": "code",
   "execution_count": 324,
   "id": "597879d1-4b8e-4d3d-893d-eea97f773735",
   "metadata": {},
   "outputs": [],
   "source": [
    "probable_duplicates = np.where(sim_m > duplicates_similarity_threshold)"
   ]
  },
  {
   "cell_type": "code",
   "execution_count": 325,
   "id": "8314535c-ab9b-4493-bfb3-7519b0b5e79c",
   "metadata": {},
   "outputs": [],
   "source": [
    "atel_index_to_throw, gcn_index_to_throw = probable_duplicates[0], probable_duplicates[1]"
   ]
  },
  {
   "cell_type": "code",
   "execution_count": 326,
   "id": "bed87017-1a8a-44fb-83d5-d78721640059",
   "metadata": {},
   "outputs": [
    {
     "data": {
      "text/plain": [
       "258"
      ]
     },
     "execution_count": 326,
     "metadata": {},
     "output_type": "execute_result"
    }
   ],
   "source": [
    "atel_to_throw = atel_df.iloc[atel_index_to_throw].index\n",
    "len(atel_to_throw)"
   ]
  },
  {
   "cell_type": "code",
   "execution_count": 327,
   "id": "8d3081fc-1ea7-49d3-91e5-8f09290d892e",
   "metadata": {},
   "outputs": [],
   "source": [
    "atel_df = atel_df.drop(atel_to_throw)"
   ]
  },
  {
   "cell_type": "markdown",
   "id": "4a9f5252-56d0-4f25-84e4-4edc2d3c7660",
   "metadata": {},
   "source": [
    "### Combine the data into one DataFrame"
   ]
  },
  {
   "cell_type": "code",
   "execution_count": 328,
   "id": "9a0beb77-86e5-4f27-b7f4-0c33a1d8f303",
   "metadata": {},
   "outputs": [],
   "source": [
    "cols = ['telegram_no', 'body', 'subject', 'date', 'from', 'gcn_refs', 'atel_refs', 'type']\n",
    "\n",
    "atel_df = atel_df.reset_index()\\\n",
    "    .rename(columns={'index': 'telegram_no'})[cols]\n",
    "atel_df['telegram_no'] = atel_df['telegram_no'].apply(str)\n",
    "\n",
    "gcn_df = gcn_df.reset_index()\\\n",
    "    .rename(columns={'number': 'telegram_no'})[cols]\n",
    "gcn_df['telegram_no'] = gcn_df['telegram_no'].apply(str)"
   ]
  },
  {
   "cell_type": "code",
   "execution_count": 329,
   "id": "82d2ab35-4661-4a0a-9164-fe085b51c79e",
   "metadata": {},
   "outputs": [],
   "source": [
    "# create unified index as `telegram_source`_`telegram_number`\n",
    "df = pd.concat((gcn_df, atel_df))\n",
    "df['telegram_index'] = df.apply(lambda x: x['telegram_no']+ '_'+ x['type'], axis=1)\n",
    "df = df.drop(columns=['telegram_no', 'type'])\\\n",
    "    .set_index('telegram_index')"
   ]
  },
  {
   "cell_type": "code",
   "execution_count": 330,
   "id": "7f9631c3-0a98-4a46-9e6a-204ea07561d3",
   "metadata": {},
   "outputs": [
    {
     "data": {
      "text/html": [
       "<div>\n",
       "<style scoped>\n",
       "    .dataframe tbody tr th:only-of-type {\n",
       "        vertical-align: middle;\n",
       "    }\n",
       "\n",
       "    .dataframe tbody tr th {\n",
       "        vertical-align: top;\n",
       "    }\n",
       "\n",
       "    .dataframe thead th {\n",
       "        text-align: right;\n",
       "    }\n",
       "</style>\n",
       "<table border=\"1\" class=\"dataframe\">\n",
       "  <thead>\n",
       "    <tr style=\"text-align: right;\">\n",
       "      <th></th>\n",
       "      <th>body</th>\n",
       "      <th>subject</th>\n",
       "      <th>date</th>\n",
       "      <th>from</th>\n",
       "      <th>gcn_refs</th>\n",
       "      <th>atel_refs</th>\n",
       "    </tr>\n",
       "    <tr>\n",
       "      <th>telegram_index</th>\n",
       "      <th></th>\n",
       "      <th></th>\n",
       "      <th></th>\n",
       "      <th></th>\n",
       "      <th></th>\n",
       "      <th></th>\n",
       "    </tr>\n",
       "  </thead>\n",
       "  <tbody>\n",
       "    <tr>\n",
       "      <th>31_gcn</th>\n",
       "      <td>S. V. Zharikov, V. V. Sokolov, SAO RAS and Yu....</td>\n",
       "      <td>GRB970508 SAO RAS optical observations</td>\n",
       "      <td>1998-03-26</td>\n",
       "      <td>sokolov@relay.sao.ru</td>\n",
       "      <td>[]</td>\n",
       "      <td>[]</td>\n",
       "    </tr>\n",
       "  </tbody>\n",
       "</table>\n",
       "</div>"
      ],
      "text/plain": [
       "                                                             body  \\\n",
       "telegram_index                                                      \n",
       "31_gcn          S. V. Zharikov, V. V. Sokolov, SAO RAS and Yu....   \n",
       "\n",
       "                                               subject        date  \\\n",
       "telegram_index                                                       \n",
       "31_gcn          GRB970508 SAO RAS optical observations  1998-03-26   \n",
       "\n",
       "                                from gcn_refs atel_refs  \n",
       "telegram_index                                           \n",
       "31_gcn          sokolov@relay.sao.ru       []        []  "
      ]
     },
     "execution_count": 330,
     "metadata": {},
     "output_type": "execute_result"
    }
   ],
   "source": [
    "df.head(1)"
   ]
  },
  {
   "cell_type": "code",
   "execution_count": 331,
   "id": "8c69a899-2791-4e13-8022-a7918e68c56b",
   "metadata": {},
   "outputs": [
    {
     "data": {
      "text/html": [
       "<div>\n",
       "<style scoped>\n",
       "    .dataframe tbody tr th:only-of-type {\n",
       "        vertical-align: middle;\n",
       "    }\n",
       "\n",
       "    .dataframe tbody tr th {\n",
       "        vertical-align: top;\n",
       "    }\n",
       "\n",
       "    .dataframe thead th {\n",
       "        text-align: right;\n",
       "    }\n",
       "</style>\n",
       "<table border=\"1\" class=\"dataframe\">\n",
       "  <thead>\n",
       "    <tr style=\"text-align: right;\">\n",
       "      <th></th>\n",
       "      <th>body</th>\n",
       "      <th>subject</th>\n",
       "      <th>date</th>\n",
       "      <th>from</th>\n",
       "      <th>refs</th>\n",
       "    </tr>\n",
       "    <tr>\n",
       "      <th>telegram_index</th>\n",
       "      <th></th>\n",
       "      <th></th>\n",
       "      <th></th>\n",
       "      <th></th>\n",
       "      <th></th>\n",
       "    </tr>\n",
       "  </thead>\n",
       "  <tbody>\n",
       "    <tr>\n",
       "      <th>31_gcn</th>\n",
       "      <td>S. V. Zharikov, V. V. Sokolov, SAO RAS and Yu....</td>\n",
       "      <td>GRB970508 SAO RAS optical observations</td>\n",
       "      <td>1998-03-26</td>\n",
       "      <td>sokolov@relay.sao.ru</td>\n",
       "      <td>[]</td>\n",
       "    </tr>\n",
       "    <tr>\n",
       "      <th>32_gcn</th>\n",
       "      <td>Comparison of optical R-band observations of t...</td>\n",
       "      <td>GRB980326 optical observations</td>\n",
       "      <td>1998-03-28</td>\n",
       "      <td>paulgr@astro.uva.nl</td>\n",
       "      <td>[]</td>\n",
       "    </tr>\n",
       "    <tr>\n",
       "      <th>33_gcn</th>\n",
       "      <td>GRB 980326: Optical Transient Confirmed:  A. C...</td>\n",
       "      <td>GRB980326 optical observations</td>\n",
       "      <td>1998-03-29</td>\n",
       "      <td>srk@astro.caltech.edu</td>\n",
       "      <td>[]</td>\n",
       "    </tr>\n",
       "    <tr>\n",
       "      <th>34_gcn</th>\n",
       "      <td>Bruce Grossan, Robert Knop, Saul Perlmutter (L...</td>\n",
       "      <td>GRB980326 optical observations</td>\n",
       "      <td>1998-03-30</td>\n",
       "      <td>bruce@singu.lbl.gov</td>\n",
       "      <td>[]</td>\n",
       "    </tr>\n",
       "    <tr>\n",
       "      <th>35_gcn</th>\n",
       "      <td>Addendum to GCN #34  Bruce Grossan, Robert Kno...</td>\n",
       "      <td>GRB980326 optical observations</td>\n",
       "      <td>1998-03-31</td>\n",
       "      <td>bruce@singu.lbl.gov</td>\n",
       "      <td>[34_gcn]</td>\n",
       "    </tr>\n",
       "  </tbody>\n",
       "</table>\n",
       "</div>"
      ],
      "text/plain": [
       "                                                             body  \\\n",
       "telegram_index                                                      \n",
       "31_gcn          S. V. Zharikov, V. V. Sokolov, SAO RAS and Yu....   \n",
       "32_gcn          Comparison of optical R-band observations of t...   \n",
       "33_gcn          GRB 980326: Optical Transient Confirmed:  A. C...   \n",
       "34_gcn          Bruce Grossan, Robert Knop, Saul Perlmutter (L...   \n",
       "35_gcn          Addendum to GCN #34  Bruce Grossan, Robert Kno...   \n",
       "\n",
       "                                               subject        date  \\\n",
       "telegram_index                                                       \n",
       "31_gcn          GRB970508 SAO RAS optical observations  1998-03-26   \n",
       "32_gcn                  GRB980326 optical observations  1998-03-28   \n",
       "33_gcn                  GRB980326 optical observations  1998-03-29   \n",
       "34_gcn                  GRB980326 optical observations  1998-03-30   \n",
       "35_gcn                  GRB980326 optical observations  1998-03-31   \n",
       "\n",
       "                                 from      refs  \n",
       "telegram_index                                   \n",
       "31_gcn           sokolov@relay.sao.ru        []  \n",
       "32_gcn            paulgr@astro.uva.nl        []  \n",
       "33_gcn          srk@astro.caltech.edu        []  \n",
       "34_gcn            bruce@singu.lbl.gov        []  \n",
       "35_gcn            bruce@singu.lbl.gov  [34_gcn]  "
      ]
     },
     "execution_count": 331,
     "metadata": {},
     "output_type": "execute_result"
    }
   ],
   "source": [
    "# create unified reference col\n",
    "df['refs'] = df.apply(lambda x: [str(y) + '_gcn' for y in x.gcn_refs] + [str(y) + '_atel' for y in x.atel_refs], \n",
    "                      axis=1)\n",
    "df = df.drop(columns=['gcn_refs', 'atel_refs'])\n",
    "df.head()"
   ]
  },
  {
   "cell_type": "code",
   "execution_count": 334,
   "id": "ae425809-068a-4754-b8d6-11c6ee76a7f7",
   "metadata": {},
   "outputs": [],
   "source": [
    "df.sort_values(by=['date']).to_csv('assembled.csv', index=True)"
   ]
  },
  {
   "cell_type": "code",
   "execution_count": 335,
   "id": "46b3d378-ae2d-4a76-9858-f4c8f06e8640",
   "metadata": {},
   "outputs": [],
   "source": [
    "pd.read_csv(\"assembled.csv\", index_col=0).dropna(subset=['date', 'from', 'body']).to_csv('assembled.csv', index=True)"
   ]
  }
 ],
 "metadata": {
  "kernelspec": {
   "display_name": "Python 3 (ipykernel)",
   "language": "python",
   "name": "python3"
  },
  "language_info": {
   "codemirror_mode": {
    "name": "ipython",
    "version": 3
   },
   "file_extension": ".py",
   "mimetype": "text/x-python",
   "name": "python",
   "nbconvert_exporter": "python",
   "pygments_lexer": "ipython3",
   "version": "3.9.7"
  }
 },
 "nbformat": 4,
 "nbformat_minor": 5
}
