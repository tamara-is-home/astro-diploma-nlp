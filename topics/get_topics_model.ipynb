{
 "cells": [
  {
   "cell_type": "markdown",
   "id": "82093eb0-5769-462d-bc1e-34dfc1f38e74",
   "metadata": {},
   "source": [
    "### Preparing the data to train topics extraction model\n",
    "\n",
    "Good for us, ATels already contain some tags (called `subjects`). I will use all available ATels tags to label their bodies and train topics model on them"
   ]
  },
  {
   "cell_type": "code",
   "execution_count": 146,
   "id": "5b5b9671-7e98-4a56-a2dd-5e99dd3e1de4",
   "metadata": {},
   "outputs": [],
   "source": [
    "import pandas as pd\n",
    "import numpy as np\n",
    "import json\n",
    "import re\n",
    "import os"
   ]
  },
  {
   "cell_type": "code",
   "execution_count": 147,
   "id": "ed28e31f-04ec-47ea-84f3-bc47479f2f48",
   "metadata": {},
   "outputs": [],
   "source": [
    "atel_df = pd.read_csv(\"../data/atel.csv\", index_col=0)\\\n",
    "    .reset_index()\\\n",
    "    .rename(columns={'subjects': 'topics', 'index': 'telegram_index'})[['telegram_index', 'topics']]"
   ]
  },
  {
   "cell_type": "code",
   "execution_count": 148,
   "id": "040cdc78-d478-4b55-b369-5b4afbf9108c",
   "metadata": {},
   "outputs": [
    {
     "data": {
      "text/plain": [
       "16037"
      ]
     },
     "execution_count": 148,
     "metadata": {},
     "output_type": "execute_result"
    }
   ],
   "source": [
    "len(atel_df)"
   ]
  },
  {
   "cell_type": "code",
   "execution_count": 149,
   "id": "e87a9b99-3f88-4151-8fe1-6ccd7160d7e7",
   "metadata": {},
   "outputs": [],
   "source": [
    "atel_df['telegram_index'] = atel_df['telegram_index'].apply(lambda x: str(x) + '_atel')"
   ]
  },
  {
   "cell_type": "code",
   "execution_count": 150,
   "id": "84889cad-1fd4-4a6b-8010-9f227de4ef4d",
   "metadata": {},
   "outputs": [],
   "source": [
    "atel_df = atel_df.set_index('telegram_index')"
   ]
  },
  {
   "cell_type": "code",
   "execution_count": 151,
   "id": "72d81088-e48a-44a3-85f9-30f7d9f07a1c",
   "metadata": {},
   "outputs": [],
   "source": [
    "clean_bodies = pd.read_csv(\"../word2vec/clean_bodies.csv\", index_col=0)"
   ]
  },
  {
   "cell_type": "code",
   "execution_count": 152,
   "id": "2ec76bd9-5a64-4912-a96d-496b2ecd7dbc",
   "metadata": {},
   "outputs": [],
   "source": [
    "atel_df = atel_df.join(clean_bodies).dropna(subset=['topics', 'body_clean'])"
   ]
  },
  {
   "cell_type": "code",
   "execution_count": 153,
   "id": "368e4af8-8ac0-4130-925a-53533f8aa89a",
   "metadata": {},
   "outputs": [],
   "source": [
    "atel_df['topics'] = atel_df['topics'].apply(str.lower).apply(lambda x: re.sub(r'[^\\w\\s\\-,]', ' ', x))"
   ]
  },
  {
   "cell_type": "code",
   "execution_count": 154,
   "id": "f9bd1991-1ec0-43d8-b8d0-13142f1dd03c",
   "metadata": {},
   "outputs": [],
   "source": [
    "atel_df.to_csv(\"atel_with_topics.csv\", index=True)"
   ]
  },
  {
   "cell_type": "code",
   "execution_count": 155,
   "id": "e2327dad-0486-489f-aeaf-41cbe3eceae4",
   "metadata": {},
   "outputs": [
    {
     "data": {
      "text/html": [
       "<div>\n",
       "<style scoped>\n",
       "    .dataframe tbody tr th:only-of-type {\n",
       "        vertical-align: middle;\n",
       "    }\n",
       "\n",
       "    .dataframe tbody tr th {\n",
       "        vertical-align: top;\n",
       "    }\n",
       "\n",
       "    .dataframe thead th {\n",
       "        text-align: right;\n",
       "    }\n",
       "</style>\n",
       "<table border=\"1\" class=\"dataframe\">\n",
       "  <thead>\n",
       "    <tr style=\"text-align: right;\">\n",
       "      <th></th>\n",
       "      <th>topics</th>\n",
       "      <th>body_clean</th>\n",
       "    </tr>\n",
       "    <tr>\n",
       "      <th>telegram_index</th>\n",
       "      <th></th>\n",
       "      <th></th>\n",
       "    </tr>\n",
       "  </thead>\n",
       "  <tbody>\n",
       "    <tr>\n",
       "      <th>2_atel</th>\n",
       "      <td>gamma ray, gamma-ray burst</td>\n",
       "      <td>the following message emailed evening walter l...</td>\n",
       "    </tr>\n",
       "    <tr>\n",
       "      <th>3_atel</th>\n",
       "      <td>gamma ray, gamma-ray burst</td>\n",
       "      <td>in addendum atel 2 additional information forw...</td>\n",
       "    </tr>\n",
       "    <tr>\n",
       "      <th>4_atel</th>\n",
       "      <td>optical, gamma ray, a comment, gamma-ray burst</td>\n",
       "      <td>the recent detection delayed gamma ray burst g...</td>\n",
       "    </tr>\n",
       "    <tr>\n",
       "      <th>5_atel</th>\n",
       "      <td>optical, gamma-ray burst</td>\n",
       "      <td>the optical transient iauc 6788 grb 971214 iau...</td>\n",
       "    </tr>\n",
       "    <tr>\n",
       "      <th>6_atel</th>\n",
       "      <td>optical, gamma-ray burst</td>\n",
       "      <td>grb980109 field observed ogle collaboration 1....</td>\n",
       "    </tr>\n",
       "    <tr>\n",
       "      <th>...</th>\n",
       "      <td>...</td>\n",
       "      <td>...</td>\n",
       "    </tr>\n",
       "    <tr>\n",
       "      <th>16033_atel</th>\n",
       "      <td>gamma ray,  gev, agn, blazar, quasar</td>\n",
       "      <td>the large area telescope lat one two instrumen...</td>\n",
       "    </tr>\n",
       "    <tr>\n",
       "      <th>16034_atel</th>\n",
       "      <td>optical, supernovae</td>\n",
       "      <td>we report following classification spectroscop...</td>\n",
       "    </tr>\n",
       "    <tr>\n",
       "      <th>16035_atel</th>\n",
       "      <td>gamma ray,  gev, request for observations, agn...</td>\n",
       "      <td>the large area telescope lat one two instrumen...</td>\n",
       "    </tr>\n",
       "    <tr>\n",
       "      <th>16036_atel</th>\n",
       "      <td>cataclysmic variable, nova, transient</td>\n",
       "      <td>our spectroscopic monitoring development pnv j...</td>\n",
       "    </tr>\n",
       "    <tr>\n",
       "      <th>16037_atel</th>\n",
       "      <td>optical, supernovae, transient</td>\n",
       "      <td>we report pre-discovery detection at 2023hrq c...</td>\n",
       "    </tr>\n",
       "  </tbody>\n",
       "</table>\n",
       "<p>15832 rows × 2 columns</p>\n",
       "</div>"
      ],
      "text/plain": [
       "                                                           topics  \\\n",
       "telegram_index                                                      \n",
       "2_atel                                 gamma ray, gamma-ray burst   \n",
       "3_atel                                 gamma ray, gamma-ray burst   \n",
       "4_atel             optical, gamma ray, a comment, gamma-ray burst   \n",
       "5_atel                                   optical, gamma-ray burst   \n",
       "6_atel                                   optical, gamma-ray burst   \n",
       "...                                                           ...   \n",
       "16033_atel                   gamma ray,  gev, agn, blazar, quasar   \n",
       "16034_atel                                    optical, supernovae   \n",
       "16035_atel      gamma ray,  gev, request for observations, agn...   \n",
       "16036_atel                  cataclysmic variable, nova, transient   \n",
       "16037_atel                         optical, supernovae, transient   \n",
       "\n",
       "                                                       body_clean  \n",
       "telegram_index                                                     \n",
       "2_atel          the following message emailed evening walter l...  \n",
       "3_atel          in addendum atel 2 additional information forw...  \n",
       "4_atel          the recent detection delayed gamma ray burst g...  \n",
       "5_atel          the optical transient iauc 6788 grb 971214 iau...  \n",
       "6_atel          grb980109 field observed ogle collaboration 1....  \n",
       "...                                                           ...  \n",
       "16033_atel      the large area telescope lat one two instrumen...  \n",
       "16034_atel      we report following classification spectroscop...  \n",
       "16035_atel      the large area telescope lat one two instrumen...  \n",
       "16036_atel      our spectroscopic monitoring development pnv j...  \n",
       "16037_atel      we report pre-discovery detection at 2023hrq c...  \n",
       "\n",
       "[15832 rows x 2 columns]"
      ]
     },
     "execution_count": 155,
     "metadata": {},
     "output_type": "execute_result"
    }
   ],
   "source": [
    "atel_df  # 205 ATels were thrown out (had no topics data or missing cleaned bodies)"
   ]
  },
  {
   "cell_type": "markdown",
   "id": "f3dabd79-e2b7-4fd2-b9bd-0771d858aa18",
   "metadata": {},
   "source": [
    "### We will consider training open.ai's `ada` model. Prepare jsonl with training annotations"
   ]
  },
  {
   "cell_type": "code",
   "execution_count": 88,
   "id": "17443686-7256-464b-b46f-eb3f0ab3f3a3",
   "metadata": {},
   "outputs": [],
   "source": [
    "PROMPT = \"\"\"\n",
    "{text}\n",
    "\\n\\n###\\n\\n\n",
    "\"\"\"\n",
    "\n",
    "with open(\"training_data/annots.jsonl\", 'w') as f:\n",
    "    \n",
    "    for i, r in atel_df.iterrows():\n",
    "        \n",
    "        prompt = PROMPT.format(text=r.body_clean)\n",
    "        output = json.dumps({\n",
    "            \"prompt\": prompt,\n",
    "            \"completion\": f\" {r.topics} ###\"\n",
    "        })\n",
    "\n",
    "        f.write(f\"{output}\\n\")"
   ]
  },
  {
   "cell_type": "markdown",
   "id": "80a48d9f-4190-4d7f-b1b9-9c69075e47b0",
   "metadata": {},
   "source": [
    "### Set open.ai API key and proceed with the train. For 15k annotations the cheapest model will cost 8,8$"
   ]
  },
  {
   "cell_type": "code",
   "execution_count": 84,
   "id": "a1a0ca4b-2611-489d-8936-70c1c7f3537c",
   "metadata": {},
   "outputs": [],
   "source": [
    "# pip install --force-reinstall openai==0.25.0"
   ]
  },
  {
   "cell_type": "code",
   "execution_count": 85,
   "id": "a27dfe33-bb38-4352-a941-3ab794965138",
   "metadata": {},
   "outputs": [],
   "source": [
    "# os.environ[\"OPENAI_API_KEY\"] = # ..."
   ]
  },
  {
   "cell_type": "code",
   "execution_count": 86,
   "id": "9936a36a-f8b1-4611-a3aa-793e0283708a",
   "metadata": {},
   "outputs": [],
   "source": [
    "# !openai api fine_tunes.create -t training_data/annots.jsonl -m ada"
   ]
  },
  {
   "cell_type": "code",
   "execution_count": 87,
   "id": "67b5274d-587c-4de3-a00a-a415a6268294",
   "metadata": {},
   "outputs": [],
   "source": [
    "# !openai api fine_tunes.follow -i ft-dUHWnM1TSgx1yEbeV5cdjoun"
   ]
  },
  {
   "cell_type": "markdown",
   "id": "57c8c8ca-a986-4967-b3b0-28d864b63f5d",
   "metadata": {},
   "source": [
    "### load the model after fine-tune's status is `completed`"
   ]
  },
  {
   "cell_type": "code",
   "execution_count": 126,
   "id": "dc7dfdaf-1e0e-4f9d-b9f3-11dfa2287d98",
   "metadata": {},
   "outputs": [
    {
     "data": {
      "text/plain": [
       "'we analyzed second bepposax nfi observation rxte asm error box smith et al. gcn 126 grb 980703 made july 7.779-8.706 ut. preliminary analysis combined mecs 2 3 data shows variable x-ray source 1sax j2359.1+0835 galama et al. gcn 127 positionally coincident radio counterpart frail et al. gcn 128 decayed factor 5.5 +- 1.5 july 4 8. assuming power law light curve find decay index 1.33 +- 0.25 this message citeable.'"
      ]
     },
     "execution_count": 126,
     "metadata": {},
     "output_type": "execute_result"
    }
   ],
   "source": [
    "clean_bodies.body_clean[126]"
   ]
  },
  {
   "cell_type": "code",
   "execution_count": 127,
   "id": "42899b9b-3e14-47c4-b53c-efdf5d2ffdf8",
   "metadata": {},
   "outputs": [],
   "source": [
    "import openai\n",
    "\n",
    "PROMPT = f\"\"\"\n",
    "we analyzed second bepposax nfi observation rxte asm error box smith et al. gcn 126 grb 980703 made july 7.779-8.706 ut. \n",
    "preliminary analysis combined mecs 2 3 data shows variable x-ray source 1sax j2359.1+0835 galama et al. gcn 127 positionally \n",
    "coincident radio counterpart frail et al. gcn 128 decayed factor 5.5 +- 1.5 july 4 8. assuming power \n",
    "law light curve find decay index 1.33 +- 0.25 this message citeable.\n",
    "\\n\\n###\\n\\n\n",
    "\"\"\"\n",
    "\n",
    "resp = openai.Completion.create(\n",
    "    model=\"ada:ft-pai-2023-05-16-20-18-46\",\n",
    "    prompt=PROMPT)"
   ]
  },
  {
   "cell_type": "code",
   "execution_count": 128,
   "id": "38653b06-08be-4ee9-832e-94a8c29c1582",
   "metadata": {},
   "outputs": [
    {
     "name": "stdout",
     "output_type": "stream",
     "text": [
      " x-ray, gamma ray, gamma-ray burst, variables ###\n",
      "\n",
      "\n",
      "\n"
     ]
    }
   ],
   "source": [
    "print(resp['choices'][0]['text'])"
   ]
  },
  {
   "cell_type": "code",
   "execution_count": 129,
   "id": "23301616-99e6-4bd9-ae91-8ab136e6dd6a",
   "metadata": {},
   "outputs": [
    {
     "data": {
      "text/plain": [
       "['x-ray', 'gamma ray', 'gamma-ray burst', 'variables']"
      ]
     },
     "execution_count": 129,
     "metadata": {},
     "output_type": "execute_result"
    }
   ],
   "source": [
    "[x.strip() for x in resp['choices'][0]['text'].replace(\"###\", ',').split(',') if x.strip()]"
   ]
  }
 ],
 "metadata": {
  "kernelspec": {
   "display_name": "Python 3 (ipykernel)",
   "language": "python",
   "name": "python3"
  },
  "language_info": {
   "codemirror_mode": {
    "name": "ipython",
    "version": 3
   },
   "file_extension": ".py",
   "mimetype": "text/x-python",
   "name": "python",
   "nbconvert_exporter": "python",
   "pygments_lexer": "ipython3",
   "version": "3.9.7"
  }
 },
 "nbformat": 4,
 "nbformat_minor": 5
}
