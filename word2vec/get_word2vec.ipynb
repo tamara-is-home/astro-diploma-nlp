{
 "cells": [
  {
   "cell_type": "code",
   "execution_count": 38,
   "id": "3698e788-815b-4289-8c03-ad8ba07869bc",
   "metadata": {},
   "outputs": [
    {
     "name": "stdout",
     "output_type": "stream",
     "text": [
      "\n",
      "\u001b[1m[\u001b[0m\u001b[34;49mnotice\u001b[0m\u001b[1;39;49m]\u001b[0m\u001b[39;49m A new release of pip is available: \u001b[0m\u001b[31;49m23.0.1\u001b[0m\u001b[39;49m -> \u001b[0m\u001b[32;49m23.1.2\u001b[0m\n",
      "\u001b[1m[\u001b[0m\u001b[34;49mnotice\u001b[0m\u001b[1;39;49m]\u001b[0m\u001b[39;49m To update, run: \u001b[0m\u001b[32;49mpip install --upgrade pip\u001b[0m\n"
     ]
    }
   ],
   "source": [
    "!pip install stop_words -q"
   ]
  },
  {
   "cell_type": "code",
   "execution_count": null,
   "id": "3376715b-db37-461d-81bf-dab9aaf5f905",
   "metadata": {},
   "outputs": [],
   "source": [
    "# !python -m spacy download en_core_web_sm -q"
   ]
  },
  {
   "cell_type": "code",
   "execution_count": 62,
   "id": "b82145f2-071d-4642-837b-5ef8f9b95194",
   "metadata": {},
   "outputs": [
    {
     "name": "stderr",
     "output_type": "stream",
     "text": [
      "2023-05-15 23:13:28.436808: I tensorflow/core/platform/cpu_feature_guard.cc:182] This TensorFlow binary is optimized to use available CPU instructions in performance-critical operations.\n",
      "To enable the following instructions: AVX2 FMA, in other operations, rebuild TensorFlow with the appropriate compiler flags.\n"
     ]
    }
   ],
   "source": [
    "import pandas as pd\n",
    "import re\n",
    "import spacy\n",
    "import subprocess\n",
    "from stop_words import get_stop_words\n",
    "from nltk.corpus import stopwords"
   ]
  },
  {
   "cell_type": "code",
   "execution_count": 47,
   "id": "c80c9395-4afd-4a8c-90cf-8f4ceb543f24",
   "metadata": {},
   "outputs": [],
   "source": [
    "df = pd.read_csv('../data/assembled.csv', index_col=0)"
   ]
  },
  {
   "cell_type": "markdown",
   "id": "cd104191-026e-462e-a81c-9f1633d43235",
   "metadata": {},
   "source": [
    "### Prepare the text for word2vec (and for any other future technique)"
   ]
  },
  {
   "cell_type": "code",
   "execution_count": 41,
   "id": "b1e74e3b-748c-4dc9-8874-2d35933dd99c",
   "metadata": {},
   "outputs": [],
   "source": [
    "stop_words = list(get_stop_words('en'))     \n",
    "nltk_words = list(stopwords.words('english')) \n",
    "\n",
    "stop_words = list(set(stop_words + nltk_words))"
   ]
  },
  {
   "cell_type": "code",
   "execution_count": 42,
   "id": "28d5f4bb-6525-4d04-b094-96c60c225ac4",
   "metadata": {},
   "outputs": [],
   "source": [
    "def preprocess(text):\n",
    "    text = re.sub(r'[^\\w\\s\\'.\\-\\+]', ' ', text)  # I prefer to leave some signs (`.`, `+`, `-`) as the astro objs may contain those\n",
    "    text = re.sub(r'[ \\n]+', ' ', text)\n",
    "    text = ' '.join([word for word in text.split() if word not in stop_words])\n",
    "    return text.strip().lower()"
   ]
  },
  {
   "cell_type": "code",
   "execution_count": 49,
   "id": "c6dedd6b-487e-4821-a2bc-e85f7368fdb1",
   "metadata": {},
   "outputs": [],
   "source": [
    "df['body_clean'] = df.body.apply(preprocess)"
   ]
  },
  {
   "cell_type": "code",
   "execution_count": 61,
   "id": "b666be04-b6bd-4ba0-a754-a9b53b9a59b1",
   "metadata": {},
   "outputs": [
    {
     "data": {
      "text/plain": [
       "'on december 28 1997 kundic lubin obtained spectra optical transient grb 971214 iauc 6788 low resolution imaging spectrograph lris mounted keck ii telescope. the seeing conditions excellent. if transient continued power-law decay indicated data halpern et al. iauc 6788 epoch light position dominated host cf. kulkarni et al. gcn 27 atel 5 . analysis spectra show slightly extended emission feature 5384 a. additionally broad absorption feature seen 5752 a. we time make definitive statement redshift host. if emission feature identified lyman-alpha absorption feature oi 1302 a redshift presumed host z 3.43. however appears obvious depression bluewards feature normally seen high-redshift objects caused lyman forest . if however emission feature identified oii 3727 line redshift z 0.44. a strong emission feature wavelength 5602 a also seen spectrum nearby galaxy g1 gcn 12 gcn 13 . identifying oii 3727 a feature well matching major absorption features yields redshift z 0.50. we process analyzing additional lris data improve signal-to-noise ratio also understand apparent discrepancy similar data obtained 17 dec 1997 ut gcn 12 . we note earlier data obtained bright lunar conditions data reported herein obtained dark time. this message citable.'"
      ]
     },
     "execution_count": 61,
     "metadata": {},
     "output_type": "execute_result"
    }
   ],
   "source": [
    "df.body_clean[5]  # looks better"
   ]
  },
  {
   "cell_type": "code",
   "execution_count": 54,
   "id": "13c3033a-5807-4aab-873e-594206f435ae",
   "metadata": {},
   "outputs": [],
   "source": [
    "df['body_clean'].to_csv(\"clean_bodies.csv\", index=True)"
   ]
  },
  {
   "cell_type": "markdown",
   "id": "c717ff23-1dd8-4f70-a23b-7c7ce6c7bf86",
   "metadata": {},
   "source": [
    "### Save to txt to train Floret embeddings\n",
    "Floret is a faster implementation of a FastText"
   ]
  },
  {
   "cell_type": "code",
   "execution_count": 55,
   "id": "5b772004-7768-47c5-9513-3096eefe854c",
   "metadata": {},
   "outputs": [],
   "source": [
    "with open('floret/train_data.txt', 'w') as f:\n",
    "    for txt in df['body_clean'].values:\n",
    "        f.write(f'{txt}\\n')"
   ]
  },
  {
   "cell_type": "markdown",
   "id": "a2c430e7-6f1b-4256-830f-7af430d0bf28",
   "metadata": {},
   "source": [
    "### Call the training script in floret dir"
   ]
  },
  {
   "cell_type": "code",
   "execution_count": 57,
   "id": "696479d6-67ef-452e-b905-cae4c2f2d765",
   "metadata": {},
   "outputs": [],
   "source": [
    "# subprocess.run(\"python train_floret.py train_data.txt vectors\")"
   ]
  },
  {
   "cell_type": "markdown",
   "id": "26144368-dd39-4493-b092-f4306a11dd68",
   "metadata": {
    "tags": []
   },
   "source": [
    "come back in ~20 minutes and check for the vectors\n",
    "#### made 2 versions of the vectors - with dim 256 for the NER training, and with dim 128 to later embed the extracted entities "
   ]
  },
  {
   "cell_type": "code",
   "execution_count": 99,
   "id": "de1ac3ae-c710-48e2-a518-5a33b196155a",
   "metadata": {},
   "outputs": [
    {
     "name": "stdout",
     "output_type": "stream",
     "text": [
      "\u001b[38;5;4mℹ Creating blank nlp object for language 'en'\u001b[0m\n",
      "[2023-05-16 16:45:39,121] [INFO] Reading vectors from floret/emb_256/vectors.vec\n",
      "342028it [00:39, 8715.64it/s] \n",
      "[2023-05-16 16:46:18,405] [INFO] Loaded vectors from floret/emb_256/vectors.vec\n",
      "\u001b[38;5;2m✔ Successfully converted 342028 vectors\u001b[0m\n",
      "\u001b[38;5;2m✔ Saved nlp object with vectors to output directory. You can now use\n",
      "the path to it in your config as the 'vectors' setting in [initialize].\u001b[0m\n",
      "/Users/vladkutsuruk/Documents/Diploma/word2vec/floret-256\n"
     ]
    }
   ],
   "source": [
    "!python -m spacy init vectors en floret/emb_256/vectors.vec floret-256"
   ]
  },
  {
   "cell_type": "code",
   "execution_count": 100,
   "id": "a1549d5b-4c4d-4a1d-b378-5494c99613e9",
   "metadata": {},
   "outputs": [],
   "source": [
    "floret_256 = spacy.load(\"floret-256\")"
   ]
  },
  {
   "cell_type": "code",
   "execution_count": 101,
   "id": "0dc78b2f-2230-4da2-988b-0b82e4ecf860",
   "metadata": {},
   "outputs": [
    {
     "name": "stderr",
     "output_type": "stream",
     "text": [
      "/Users/vladkutsuruk/opt/anaconda3/lib/python3.9/site-packages/spacy/language.py:705: UserWarning: [W113] Sourced component 'tok2vec' may not work as expected: source vectors are not identical to current pipeline vectors.\n",
      "  warnings.warn(Warnings.W113.format(name=source_name))\n"
     ]
    },
    {
     "data": {
      "text/plain": [
       "<spacy.pipeline.tok2vec.Tok2Vec at 0x7f80151a05e0>"
      ]
     },
     "execution_count": 101,
     "metadata": {},
     "output_type": "execute_result"
    }
   ],
   "source": [
    "floret_256.add_pipe(\"ner\", source=spacy.load(\"en_core_web_sm\"))\n",
    "floret_256.add_pipe(\"tok2vec\", source=spacy.load(\"en_core_web_sm\"))"
   ]
  },
  {
   "cell_type": "code",
   "execution_count": 102,
   "id": "aa8eb0f3-6b46-4a5f-93f6-1b186a3b5e99",
   "metadata": {},
   "outputs": [],
   "source": [
    "floret_256.to_disk(\"floret-256\")  # add pipes from existing model "
   ]
  },
  {
   "cell_type": "code",
   "execution_count": 103,
   "id": "47157871-cdee-413e-bda4-bf5bee3a4622",
   "metadata": {},
   "outputs": [
    {
     "data": {
      "text/plain": [
       "(256,)"
      ]
     },
     "execution_count": 103,
     "metadata": {},
     "output_type": "execute_result"
    }
   ],
   "source": [
    "floret_256(\"Cos-B\").vector.shape"
   ]
  },
  {
   "cell_type": "markdown",
   "id": "33a0c65e-bd62-400f-8158-640760530d55",
   "metadata": {},
   "source": [
    "### and the 128-d vectors model"
   ]
  },
  {
   "cell_type": "code",
   "execution_count": 69,
   "id": "ee157685-c943-420e-b51f-2c9bbc1eefa0",
   "metadata": {},
   "outputs": [
    {
     "name": "stdout",
     "output_type": "stream",
     "text": [
      "\u001b[38;5;4mℹ Creating blank nlp object for language 'en'\u001b[0m\n",
      "[2023-05-15 23:33:57,882] [INFO] Reading vectors from floret/emb_128/vectors.vec\n",
      "342028it [00:08, 40364.98it/s]\n",
      "[2023-05-15 23:34:06,375] [INFO] Loaded vectors from floret/emb_128/vectors.vec\n",
      "\u001b[38;5;2m✔ Successfully converted 342028 vectors\u001b[0m\n",
      "\u001b[38;5;2m✔ Saved nlp object with vectors to output directory. You can now use\n",
      "the path to it in your config as the 'vectors' setting in [initialize].\u001b[0m\n",
      "/Users/vladkutsuruk/Documents/Diploma/word2vec/floret-128\n"
     ]
    }
   ],
   "source": [
    "!python -m spacy init vectors en floret/emb_128/vectors.vec floret-128"
   ]
  },
  {
   "cell_type": "code",
   "execution_count": 70,
   "id": "a9525183-766f-4170-8c85-132ed7c8dfc7",
   "metadata": {},
   "outputs": [
    {
     "data": {
      "text/plain": [
       "(128,)"
      ]
     },
     "execution_count": 70,
     "metadata": {},
     "output_type": "execute_result"
    }
   ],
   "source": [
    "floret_128 = spacy.load(\"floret-128\")\n",
    "floret_128(\"Romulus\").vector.shape"
   ]
  },
  {
   "cell_type": "code",
   "execution_count": null,
   "id": "1f9320d5-555a-4144-8919-cea00f24bd8a",
   "metadata": {},
   "outputs": [],
   "source": []
  }
 ],
 "metadata": {
  "kernelspec": {
   "display_name": "Python 3 (ipykernel)",
   "language": "python",
   "name": "python3"
  },
  "language_info": {
   "codemirror_mode": {
    "name": "ipython",
    "version": 3
   },
   "file_extension": ".py",
   "mimetype": "text/x-python",
   "name": "python",
   "nbconvert_exporter": "python",
   "pygments_lexer": "ipython3",
   "version": "3.9.7"
  }
 },
 "nbformat": 4,
 "nbformat_minor": 5
}
